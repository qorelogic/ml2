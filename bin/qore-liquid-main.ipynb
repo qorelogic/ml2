{
 "metadata": {
  "name": ""
 },
 "nbformat": 3,
 "nbformat_minor": 0,
 "worksheets": [
  {
   "cells": [
    {
     "cell_type": "code",
     "collapsed": false,
     "input": [
      "%reload_ext autoreload\n",
      "%autoreload 2\n",
      "from qoreliquid import *\n",
      "from pylab import rcParams\n",
      "rcParams['figure.figsize'] = 20, 5"
     ],
     "language": "python",
     "metadata": {},
     "outputs": [],
     "prompt_number": 139
    },
    {
     "cell_type": "code",
     "collapsed": false,
     "input": [
      "srch = ['AMD', 'MS', 'APL', 'NVD']\n",
      "print searchQuandl('bitcoin', returndataset=True)\n",
      "#tiks = searchSymbols(srch)\n",
      "#tiks"
     ],
     "language": "python",
     "metadata": {},
     "outputs": [
      {
       "output_type": "stream",
       "stream": "stdout",
       "text": [
        "searching: bitcoin\n",
        "BCHAIN/TOTBC\n",
        "Total Bitcoins\n",
        "Data showing the historical total number of bitcoins which have been mined.\n",
        "---------\n",
        "\n",
        "CRYPTOCHART/THEIR\n",
        "THEIR/BITCOIN Price\n",
        "Historical price data for THEIR from exchange with highest number of trades. Volume recalculated to bitcoin. Updated at 6:00pm EST\n",
        "---------\n",
        "\n",
        "CRYPTOCHART/THERE\n",
        "THERE/BITCOIN Price\n",
        "Historical price data for THERE from exchange with highest number of trades. Volume recalculated to bitcoin. Updated at 6:00pm EST\n",
        "---------\n",
        "\n",
        "CRYPTOCHART/THESE\n",
        "THESE/BITCOIN Price\n",
        "Historical price data for THESE from exchange with highest number of trades. Volume recalculated to bitcoin. Updated at 6:00pm EST\n",
        "---------\n",
        "\n",
        "BAVERAGE/ANX_HKUSD\n",
        "USD/BITCOIN Prices, anx_hk\n",
        "Aggregated bitcon price index from multiple exchanges providing a weighted average bitcoin price. Updated at 6:00pm EST For more information see: https://bitcoinaverage.com\n",
        "---------\n",
        "\n",
        "LOCALBTC/GHS\n",
        "GHS/BITCOIN Excjamge Rate\n",
        "Bitcoin exchange rates on localbtc exchange. Updated at 6:00pm EST.\n",
        "---------\n",
        "\n",
        "BAVERAGE/EUR_BTCEUR\n",
        "EUR/BITCOIN Prices, btceur\n",
        "Bitcoin is an experimental new digital currency that enables instant payments to anyone, anywhere in the world. Bitcoin uses peer-to-peer technology to operate with no central authority: managing transactions and issuing money are carried out collectively by the network. Bitcoin is also the name of the open source software which enables the use of this currency. Updated at 6:00pm EST. See more at <a href=\"http://bitcoincharts.com\" rel=\"nofollow\" target=\"blank\">https://bitcoinaverage.com</a>\n",
        "---------\n",
        "\n",
        "BAVERAGE/HKD_LOCALBITCOINS\n",
        "HKD/BITCOIN Prices, localbitcoins\n",
        "Bitcoin is an experimental new digital currency that enables instant payments to anyone, anywhere in the world. Bitcoin uses peer-to-peer technology to operate with no central authority: managing transactions and issuing money are carried out collectively by the network. Bitcoin is also the name of the open source software which enables the use of this currency. Updated at 6:00pm EST. See more at <a href=\"http://bitcoincharts.com\" rel=\"nofollow\" target=\"blank\">https://bitcoinaverage.com</a>\n",
        "---------\n",
        "\n",
        "LOCALBTC/BDT\n",
        "BDT/BITCOIN Excjamge Rate\n",
        "Bitcoin exchange rates on localbtc exchange. Updated at 6:00pm EST.\n",
        "---------\n",
        "\n",
        "BAVERAGE/BITCUREXEUR\n",
        "EUR/BITCOIN Prices, bitcurex\n",
        "Aggregated bitcon price index from multiple exchanges providing a weighted average bitcoin price. Updated at 6:00pm EST For more information see: https://bitcoinaverage.com\n",
        "---------\n",
        "\n",
        "BAVERAGE/BTCCHINACNY\n",
        "CNY/BITCOIN Prices, btcchina\n",
        "Aggregated bitcon price index from multiple exchanges providing a weighted average bitcoin price. Updated at 6:00pm EST For more information see: https://bitcoinaverage.com\n",
        "---------\n",
        "\n",
        "LOCALBTC/QAR\n",
        "QAR/BITCOIN Excjamge Rate\n",
        "Bitcoin exchange rates on localbtc exchange. Updated at 6:00pm EST.\n",
        "---------\n",
        "\n",
        "BAVERAGE/CNY_BTC38\n",
        "CNY/BITCOIN Prices, btc38\n",
        "Bitcoin is an experimental new digital currency that enables instant payments to anyone, anywhere in the world. Bitcoin uses peer-to-peer technology to operate with no central authority: managing transactions and issuing money are carried out collectively by the network. Bitcoin is also the name of the open source software which enables the use of this currency. Updated at 6:00pm EST. See more at <a href=\"http://bitcoincharts.com\" rel=\"nofollow\" target=\"blank\">https://bitcoinaverage.com</a>\n",
        "---------\n",
        "\n",
        "BAVERAGE/CHF_LOCALBITCOINS\n",
        "CHF/BITCOIN Prices, localbitcoins\n",
        "Bitcoin is an experimental new digital currency that enables instant payments to anyone, anywhere in the world. Bitcoin uses peer-to-peer technology to operate with no central authority: managing transactions and issuing money are carried out collectively by the network. Bitcoin is also the name of the open source software which enables the use of this currency. Updated at 6:00pm EST. See more at <a href=\"http://bitcoincharts.com\" rel=\"nofollow\" target=\"blank\">https://bitcoinaverage.com</a>\n",
        "---------\n",
        "\n",
        "BAVERAGE/FYBSGSGD\n",
        "SGD/BITCOIN Prices, fybsg\n",
        "Aggregated bitcon price index from multiple exchanges providing a weighted average bitcoin price. Updated at 6:00pm EST For more information see: https://bitcoinaverage.com\n",
        "---------\n",
        "\n",
        "BAVERAGE/USD_ANX_HK\n",
        "USD/BITCOIN Prices, anx_hk\n",
        "Bitcoin is an experimental new digital currency that enables instant payments to anyone, anywhere in the world. Bitcoin uses peer-to-peer technology to operate with no central authority: managing transactions and issuing money are carried out collectively by the network. Bitcoin is also the name of the open source software which enables the use of this currency. Updated at 6:00pm EST. See more at <a href=\"http://bitcoincharts.com\" rel=\"nofollow\" target=\"blank\">https://bitcoinaverage.com</a>\n",
        "---------\n",
        "\n",
        "BAVERAGE/BTCMARKETSAUD\n",
        "AUD/BITCOIN Prices, btcmarkets\n",
        "Aggregated bitcon price index from multiple exchanges providing a weighted average bitcoin price. Updated at 6:00pm EST For more information see: https://bitcoinaverage.com\n",
        "---------\n",
        "\n",
        "BAVERAGE/TRY_LOCALBITCOINS\n",
        "TRY/BITCOIN Prices, localbitcoins\n",
        "Bitcoin is an experimental new digital currency that enables instant payments to anyone, anywhere in the world. Bitcoin uses peer-to-peer technology to operate with no central authority: managing transactions and issuing money are carried out collectively by the network. Bitcoin is also the name of the open source software which enables the use of this currency. Updated at 6:00pm EST. See more at <a href=\"http://bitcoincharts.com\" rel=\"nofollow\" target=\"blank\">https://bitcoinaverage.com</a>\n",
        "---------\n",
        "\n",
        "BAVERAGE/BTCTURKTRY\n",
        "TRY/BITCOIN Prices, btcturk\n",
        "Aggregated bitcon price index from multiple exchanges providing a weighted average bitcoin price. Updated at 6:00pm EST For more information see: https://bitcoinaverage.com\n",
        "---------\n",
        "\n",
        "BAVERAGE/CAD_VAULTOFSATOSHI\n",
        "CAD/BITCOIN Prices, vaultofsatoshi\n",
        "Bitcoin is an experimental new digital currency that enables instant payments to anyone, anywhere in the world. Bitcoin uses peer-to-peer technology to operate with no central authority: managing transactions and issuing money are carried out collectively by the network. Bitcoin is also the name of the open source software which enables the use of this currency. Updated at 6:00pm EST. See more at <a href=\"http://bitcoincharts.com\" rel=\"nofollow\" target=\"blank\">https://bitcoinaverage.com</a>\n",
        "---------\n",
        "\n",
        "None\n"
       ]
      }
     ],
     "prompt_number": 169
    },
    {
     "cell_type": "code",
     "collapsed": false,
     "input": [
      "#print list(tiks)\n",
      "srch = ['AMD', 'MS', 'APL', 'NVD']\n",
      "tiks = searchSymbols(srch)\n",
      "#df1_close = getDataSymbols(srch)\n",
      "#plotSymbols(srch, normalize=True, sigmoid=True)\n",
      "\n",
      "#sdf = getDataSymbols(list(tiks), mode='test', days=10)\n",
      "#print sdf['df_close']\n",
      "#print sdf['df_close_test']\n",
      "\n",
      "out = calculateEfficientFrontier(list(tiks), days=365)\n",
      "print out"
     ],
     "language": "python",
     "metadata": {},
     "outputs": [
      {
       "output_type": "stream",
       "stream": "stdout",
       "text": [
        "Terminated (singular KKT matrix).\n",
        "Terminated (singular KKT matrix)."
       ]
      },
      {
       "output_type": "stream",
       "stream": "stdout",
       "text": [
        "\n",
        "      na_avgrets    na_std\n",
        "CMS     0.001856  0.014081\n",
        "BMS     0.001899  0.019186\n",
        "AAPL    0.003343  0.019509\n",
        "MSFT    0.002147  0.020205\n",
        "MSI     0.003191  0.033510\n",
        "NVDA    0.003658  0.033562\n",
        "MS      0.002238  0.041665\n",
        "AMD     0.006346  0.043424"
       ]
      },
      {
       "output_type": "stream",
       "stream": "stdout",
       "text": [
        "\n"
       ]
      },
      {
       "metadata": {},
       "output_type": "display_data",
       "png": "[encoded data removed]",
       "text": [
        "<matplotlib.figure.Figure at 0xaccf9c4c>"
       ]
      }
     ],
     "prompt_number": 166
    },
    {
     "cell_type": "code",
     "collapsed": false,
     "input": [
      "c_dataobj = da.DataAccess('Yahoo', verbose=True)\n",
      "days = 365\n",
      "dt_timeofday = dt.timedelta(hours=16)\n",
      "dt_end = dt.datetime(2010, 2, 20)\n",
      "dt_start = dt_end - dt.timedelta(days=days)\n",
      "ldt_timestamps = du.getNYSEdays(dt_start, dt_end, dt_timeofday)\n",
      "print c_dataobj.get_data(ldt_timestamps, ['GOOG'], \"close\")\n"
     ],
     "language": "python",
     "metadata": {},
     "outputs": [
      {
       "output_type": "stream",
       "stream": "stdout",
       "text": [
        "Scratch Directory:  /tmp/QSScratch\n",
        "Data Directory:  /usr/local/lib/python2.7/dist-packages/QSTK-0.2.8-py2.7.egg/QSTK/qstkutil/../QSData\n",
        "                       GOOG\n",
        "2009-02-20 16:00:00  346.45\n",
        "2009-02-23 16:00:00  330.06\n",
        "2009-02-24 16:00:00  345.45\n",
        "2009-02-25 16:00:00  341.64\n",
        "2009-02-26 16:00:00  337.18\n",
        "2009-02-27 16:00:00  337.99\n",
        "2009-03-02 16:00:00  327.16\n",
        "2009-03-03 16:00:00  325.48\n",
        "2009-03-04 16:00:00  318.92\n",
        "2009-03-05 16:00:00  305.64\n",
        "2009-03-06 16:00:00  308.57\n",
        "2009-03-09 16:00:00  290.89\n",
        "2009-03-10 16:00:00  308.17\n",
        "2009-03-11 16:00:00  317.91\n",
        "2009-03-12 16:00:00  323.53\n",
        "2009-03-13 16:00:00  324.42\n",
        "2009-03-16 16:00:00  319.69\n",
        "2009-03-17 16:00:00  335.34\n",
        "2009-03-18 16:00:00  333.10\n",
        "2009-03-19 16:00:00  329.94\n",
        "2009-03-20 16:00:00  330.16\n",
        "2009-03-23 16:00:00  348.60\n",
        "2009-03-24 16:00:00  347.17\n",
        "2009-03-25 16:00:00  344.07\n",
        "2009-03-26 16:00:00  353.29\n",
        "2009-03-27 16:00:00  347.70\n",
        "2009-03-30 16:00:00  342.69\n",
        "2009-03-31 16:00:00  348.06\n",
        "2009-04-01 16:00:00  354.09\n",
        "2009-04-02 16:00:00  362.50\n",
        "...                     ...\n",
        "2010-01-07 16:00:00  594.10\n",
        "2010-01-08 16:00:00  602.02\n",
        "2010-01-11 16:00:00  601.11\n",
        "2010-01-12 16:00:00  590.48\n",
        "2010-01-13 16:00:00  587.09\n",
        "2010-01-14 16:00:00  589.85\n",
        "2010-01-15 16:00:00  580.00\n",
        "2010-01-19 16:00:00  587.62\n",
        "2010-01-20 16:00:00  580.41\n",
        "2010-01-21 16:00:00  582.98\n",
        "2010-01-22 16:00:00  550.01\n",
        "2010-01-25 16:00:00  540.00\n",
        "2010-01-26 16:00:00  542.42\n",
        "2010-01-27 16:00:00  542.10\n",
        "2010-01-28 16:00:00  534.29\n",
        "2010-01-29 16:00:00  529.94\n",
        "2010-02-01 16:00:00  533.02\n",
        "2010-02-02 16:00:00  531.12\n",
        "2010-02-03 16:00:00  540.82\n",
        "2010-02-04 16:00:00  526.78\n",
        "2010-02-05 16:00:00  531.29\n",
        "2010-02-08 16:00:00  533.47\n",
        "2010-02-09 16:00:00  536.44\n",
        "2010-02-10 16:00:00  534.45\n",
        "2010-02-11 16:00:00  536.40\n",
        "2010-02-12 16:00:00  533.12\n",
        "2010-02-16 16:00:00  541.30\n",
        "2010-02-17 16:00:00  538.21\n",
        "2010-02-18 16:00:00  543.22\n",
        "2010-02-19 16:00:00  540.76\n",
        "\n",
        "[252 rows x 1 columns]"
       ]
      },
      {
       "output_type": "stream",
       "stream": "stdout",
       "text": [
        "\n"
       ]
      }
     ],
     "prompt_number": 185
    },
    {
     "cell_type": "code",
     "collapsed": false,
     "input": [
      "#fname = '/usr/local/lib/python2.7/dist-packages/QSTK-0.2.8-py2.7.egg/QSTK/qstktools/symbols.txt'\n",
      "fname = '/home/qore2/Desktop/qstk-data/symbols.txt'\n",
      "df9 = p.DataFrame(c_dataobj.get_all_symbols(), index=None).transpose()\n",
      "df9 = list(df9.get_values()[0])\n",
      "n.savetxt(fname, df9, fmt='%s', delimiter=',', )"
     ],
     "language": "python",
     "metadata": {},
     "outputs": [],
     "prompt_number": 253
    },
    {
     "cell_type": "code",
     "collapsed": false,
     "input": [
      "#print out\n",
      "plotSymbols(list(out.index[[0,len(out.index)-25]]), normalize=True)"
     ],
     "language": "python",
     "metadata": {},
     "outputs": [
      {
       "metadata": {},
       "output_type": "display_data",
       "png": "[encoded data removed]",
       "text": [
        "<matplotlib.figure.Figure at 0xacd5046c>"
       ]
      }
     ],
     "prompt_number": 212
    },
    {
     "cell_type": "code",
     "collapsed": false,
     "input": [
      "sp500 = p.read_csv('data/quandl/SP500.csv')\n",
      "tiks = list(sp500.ix[:,'Ticker'][0:100])\n",
      "print tiks\n",
      "out = calculateEfficientFrontier(tiks, days=365)\n",
      "print out"
     ],
     "language": "python",
     "metadata": {},
     "outputs": [
      {
       "output_type": "stream",
       "stream": "stdout",
       "text": [
        "['MMM', 'ABT', 'ABBV', 'ACN', 'ACE', 'ACT', 'ADBE', 'ADT', 'AES', 'AET', 'AMG', 'AFL', 'A', 'GAS', 'APD', 'ARG', 'AKAM', 'AA', 'ALXN', 'ALLE', 'AGN', 'ADS', 'ALL', 'ALTR', 'MO', 'AMZN', 'AEE', 'AEP', 'AXP', 'AIG', 'AMT', 'AMP', 'ABC', 'AME', 'AMGN', 'APH', 'APC', 'ADI', 'AON', 'APA', 'AIV', 'AAPL', 'AMAT', 'ADM', 'AIZ', 'T', 'ADSK', 'ADP', 'AN', 'AZO', 'AVGO', 'AVB', 'AVY', 'AVP', 'BHI', 'BLL', 'BAC', 'BK', 'BCR', 'BAX', 'BBT', 'BDX', 'BBBY', 'BMS', 'BRK-B', 'BBY', 'BIIB', 'BLK', 'BA', 'BWA', 'BXP', 'BSX', 'BMY', 'BRCM', 'BF-B', 'CHRW', 'CA', 'CVC', 'COG', 'CAM', 'CPB', 'COF', 'CAH', 'CFN', 'KMX', 'CCL', 'CAT', 'CBG', 'CBS', 'CELG', 'CNP', 'CTL', 'CERN', 'CF', 'CHK', 'CVX', 'CMG', 'CB', 'CI', 'XEC']\n",
        "Did not find path to ABBV. Looks like this file is missing"
       ]
      },
      {
       "output_type": "stream",
       "stream": "stdout",
       "text": [
        "\n",
        "Did not find path to ACT. Looks like this file is missing"
       ]
      },
      {
       "output_type": "stream",
       "stream": "stdout",
       "text": [
        "\n",
        "Did not find path to ADT. Looks like this file is missing"
       ]
      },
      {
       "output_type": "stream",
       "stream": "stdout",
       "text": [
        "\n",
        "Did not find path to AMG. Looks like this file is missing"
       ]
      },
      {
       "output_type": "stream",
       "stream": "stdout",
       "text": [
        "\n",
        "Did not find path to ALLE. Looks like this file is missing"
       ]
      },
      {
       "output_type": "stream",
       "stream": "stdout",
       "text": [
        "\n",
        "Did not find path to ADS. Looks like this file is missing"
       ]
      },
      {
       "output_type": "stream",
       "stream": "stdout",
       "text": [
        "\n",
        "Did not find path to AME. Looks like this file is missing"
       ]
      },
      {
       "output_type": "stream",
       "stream": "stdout",
       "text": [
        "\n",
        "Did not find path to AVGO. Looks like this file is missing"
       ]
      },
      {
       "output_type": "stream",
       "stream": "stdout",
       "text": [
        "\n",
        "Did not find path to BRK-B. Looks like this file is missing"
       ]
      },
      {
       "output_type": "stream",
       "stream": "stdout",
       "text": [
        "\n",
        "Did not find path to BF-B. Looks like this file is missing"
       ]
      },
      {
       "output_type": "stream",
       "stream": "stdout",
       "text": [
        "\n",
        "Did not find path to XEC. Looks like this file is missing"
       ]
      },
      {
       "output_type": "stream",
       "stream": "stdout",
       "text": [
        "\n",
        "Did not find path to ABBV. Looks like this file is missing"
       ]
      },
      {
       "output_type": "stream",
       "stream": "stdout",
       "text": [
        "\n",
        "Did not find path to ACT. Looks like this file is missing"
       ]
      },
      {
       "output_type": "stream",
       "stream": "stdout",
       "text": [
        "\n",
        "Did not find path to ADT. Looks like this file is missing"
       ]
      },
      {
       "output_type": "stream",
       "stream": "stdout",
       "text": [
        "\n",
        "Did not find path to AMG. Looks like this file is missing"
       ]
      },
      {
       "output_type": "stream",
       "stream": "stdout",
       "text": [
        "\n",
        "Did not find path to ALLE. Looks like this file is missing"
       ]
      },
      {
       "output_type": "stream",
       "stream": "stdout",
       "text": [
        "\n",
        "Did not find path to ADS. Looks like this file is missing"
       ]
      },
      {
       "output_type": "stream",
       "stream": "stdout",
       "text": [
        "\n",
        "Did not find path to AME. Looks like this file is missing"
       ]
      },
      {
       "output_type": "stream",
       "stream": "stdout",
       "text": [
        "\n",
        "Did not find path to AVGO. Looks like this file is missing"
       ]
      },
      {
       "output_type": "stream",
       "stream": "stdout",
       "text": [
        "\n",
        "Did not find path to BRK-B. Looks like this file is missing"
       ]
      },
      {
       "output_type": "stream",
       "stream": "stdout",
       "text": [
        "\n",
        "Did not find path to BF-B. Looks like this file is missing"
       ]
      },
      {
       "output_type": "stream",
       "stream": "stdout",
       "text": [
        "\n",
        "Did not find path to XEC. Looks like this file is missing"
       ]
      },
      {
       "output_type": "stream",
       "stream": "stdout",
       "text": [
        "\n",
        "Optimization not Possible"
       ]
      },
      {
       "output_type": "stream",
       "stream": "stdout",
       "text": [
        "\n",
        "Optimization not Possible"
       ]
      },
      {
       "output_type": "stream",
       "stream": "stdout",
       "text": [
        "\n",
        "Optimization not Possible"
       ]
      },
      {
       "output_type": "stream",
       "stream": "stdout",
       "text": [
        "\n",
        "Optimization not Possible"
       ]
      },
      {
       "output_type": "stream",
       "stream": "stdout",
       "text": [
        "\n",
        "Optimization not Possible"
       ]
      },
      {
       "output_type": "stream",
       "stream": "stdout",
       "text": [
        "\n",
        "Optimization not Possible"
       ]
      },
      {
       "output_type": "stream",
       "stream": "stdout",
       "text": [
        "\n",
        "Optimization not Possible"
       ]
      },
      {
       "output_type": "stream",
       "stream": "stdout",
       "text": [
        "\n",
        "Optimization not Possible"
       ]
      },
      {
       "output_type": "stream",
       "stream": "stdout",
       "text": [
        "\n",
        "Optimization not Possible"
       ]
      },
      {
       "output_type": "stream",
       "stream": "stdout",
       "text": [
        "\n",
        "Optimization not Possible"
       ]
      },
      {
       "output_type": "stream",
       "stream": "stdout",
       "text": [
        "\n",
        "Optimization not Possible"
       ]
      },
      {
       "output_type": "stream",
       "stream": "stdout",
       "text": [
        "\n",
        "Optimization not Possible"
       ]
      },
      {
       "output_type": "stream",
       "stream": "stdout",
       "text": [
        "\n",
        "Optimization not Possible"
       ]
      },
      {
       "output_type": "stream",
       "stream": "stdout",
       "text": [
        "\n",
        "Optimization not Possible"
       ]
      },
      {
       "output_type": "stream",
       "stream": "stdout",
       "text": [
        "\n",
        "Optimization not Possible"
       ]
      },
      {
       "output_type": "stream",
       "stream": "stdout",
       "text": [
        "\n",
        "Optimization not Possible"
       ]
      },
      {
       "output_type": "stream",
       "stream": "stdout",
       "text": [
        "\n",
        "Optimization not Possible"
       ]
      },
      {
       "output_type": "stream",
       "stream": "stdout",
       "text": [
        "\n",
        "Optimization not Possible"
       ]
      },
      {
       "output_type": "stream",
       "stream": "stdout",
       "text": [
        "\n",
        "Optimization not Possible"
       ]
      },
      {
       "output_type": "stream",
       "stream": "stdout",
       "text": [
        "\n",
        "Optimization not Possible"
       ]
      },
      {
       "output_type": "stream",
       "stream": "stdout",
       "text": [
        "\n",
        "Optimization not Possible"
       ]
      },
      {
       "output_type": "stream",
       "stream": "stdout",
       "text": [
        "\n",
        "Optimization not Possible"
       ]
      },
      {
       "output_type": "stream",
       "stream": "stdout",
       "text": [
        "\n",
        "Optimization not Possible"
       ]
      },
      {
       "output_type": "stream",
       "stream": "stdout",
       "text": [
        "\n",
        "Optimization not Possible"
       ]
      },
      {
       "output_type": "stream",
       "stream": "stdout",
       "text": [
        "\n",
        "Optimization not Possible"
       ]
      },
      {
       "output_type": "stream",
       "stream": "stdout",
       "text": [
        "\n",
        "Optimization not Possible"
       ]
      },
      {
       "output_type": "stream",
       "stream": "stdout",
       "text": [
        "\n",
        "Optimization not Possible"
       ]
      },
      {
       "output_type": "stream",
       "stream": "stdout",
       "text": [
        "\n",
        "Optimization not Possible"
       ]
      },
      {
       "output_type": "stream",
       "stream": "stdout",
       "text": [
        "\n",
        "Optimization not Possible"
       ]
      },
      {
       "output_type": "stream",
       "stream": "stdout",
       "text": [
        "\n",
        "Optimization not Possible"
       ]
      },
      {
       "output_type": "stream",
       "stream": "stdout",
       "text": [
        "\n",
        "Optimization not Possible"
       ]
      },
      {
       "output_type": "stream",
       "stream": "stdout",
       "text": [
        "\n",
        "Optimization not Possible"
       ]
      },
      {
       "output_type": "stream",
       "stream": "stdout",
       "text": [
        "\n",
        "Optimization not Possible"
       ]
      },
      {
       "output_type": "stream",
       "stream": "stdout",
       "text": [
        "\n",
        "Optimization not Possible"
       ]
      },
      {
       "output_type": "stream",
       "stream": "stdout",
       "text": [
        "\n",
        "Optimization not Possible"
       ]
      },
      {
       "output_type": "stream",
       "stream": "stdout",
       "text": [
        "\n",
        "Optimization not Possible"
       ]
      },
      {
       "output_type": "stream",
       "stream": "stdout",
       "text": [
        "\n",
        "Optimization not Possible"
       ]
      },
      {
       "output_type": "stream",
       "stream": "stdout",
       "text": [
        "\n",
        "Optimization not Possible"
       ]
      },
      {
       "output_type": "stream",
       "stream": "stdout",
       "text": [
        "\n",
        "Optimization not Possible"
       ]
      },
      {
       "output_type": "stream",
       "stream": "stdout",
       "text": [
        "\n",
        "Optimization not Possible"
       ]
      },
      {
       "output_type": "stream",
       "stream": "stdout",
       "text": [
        "\n",
        "Optimization not Possible"
       ]
      },
      {
       "output_type": "stream",
       "stream": "stdout",
       "text": [
        "\n",
        "Optimization not Possible"
       ]
      },
      {
       "output_type": "stream",
       "stream": "stdout",
       "text": [
        "\n",
        "Optimization not Possible"
       ]
      },
      {
       "output_type": "stream",
       "stream": "stdout",
       "text": [
        "\n",
        "Optimization not Possible"
       ]
      },
      {
       "output_type": "stream",
       "stream": "stdout",
       "text": [
        "\n",
        "Optimization not Possible"
       ]
      },
      {
       "output_type": "stream",
       "stream": "stdout",
       "text": [
        "\n",
        "Optimization not Possible"
       ]
      },
      {
       "output_type": "stream",
       "stream": "stdout",
       "text": [
        "\n",
        "Optimization not Possible"
       ]
      },
      {
       "output_type": "stream",
       "stream": "stdout",
       "text": [
        "\n",
        "Optimization not Possible"
       ]
      },
      {
       "output_type": "stream",
       "stream": "stdout",
       "text": [
        "\n",
        "Optimization not Possible"
       ]
      },
      {
       "output_type": "stream",
       "stream": "stdout",
       "text": [
        "\n",
        "Optimization not Possible"
       ]
      },
      {
       "output_type": "stream",
       "stream": "stdout",
       "text": [
        "\n",
        "Optimization not Possible"
       ]
      },
      {
       "output_type": "stream",
       "stream": "stdout",
       "text": [
        "\n",
        "Optimization not Possible"
       ]
      },
      {
       "output_type": "stream",
       "stream": "stdout",
       "text": [
        "\n",
        "Optimization not Possible"
       ]
      },
      {
       "output_type": "stream",
       "stream": "stdout",
       "text": [
        "\n",
        "Optimization not Possible"
       ]
      },
      {
       "output_type": "stream",
       "stream": "stdout",
       "text": [
        "\n",
        "Optimization not Possible"
       ]
      },
      {
       "output_type": "stream",
       "stream": "stdout",
       "text": [
        "\n",
        "Optimization not Possible"
       ]
      },
      {
       "output_type": "stream",
       "stream": "stdout",
       "text": [
        "\n",
        "Optimization not Possible"
       ]
      },
      {
       "output_type": "stream",
       "stream": "stdout",
       "text": [
        "\n",
        "Optimization not Possible"
       ]
      },
      {
       "output_type": "stream",
       "stream": "stdout",
       "text": [
        "\n",
        "Optimization not Possible"
       ]
      },
      {
       "output_type": "stream",
       "stream": "stdout",
       "text": [
        "\n",
        "Optimization not Possible"
       ]
      },
      {
       "output_type": "stream",
       "stream": "stdout",
       "text": [
        "\n",
        "Optimization not Possible"
       ]
      },
      {
       "output_type": "stream",
       "stream": "stdout",
       "text": [
        "\n",
        "Optimization not Possible"
       ]
      },
      {
       "output_type": "stream",
       "stream": "stdout",
       "text": [
        "\n",
        "Optimization not Possible"
       ]
      },
      {
       "output_type": "stream",
       "stream": "stdout",
       "text": [
        "\n",
        "Optimization not Possible"
       ]
      },
      {
       "output_type": "stream",
       "stream": "stdout",
       "text": [
        "\n",
        "Optimization not Possible"
       ]
      },
      {
       "output_type": "stream",
       "stream": "stdout",
       "text": [
        "\n",
        "Optimization not Possible"
       ]
      },
      {
       "output_type": "stream",
       "stream": "stdout",
       "text": [
        "\n",
        "Optimization not Possible"
       ]
      },
      {
       "output_type": "stream",
       "stream": "stdout",
       "text": [
        "\n",
        "Optimization not Possible"
       ]
      },
      {
       "output_type": "stream",
       "stream": "stdout",
       "text": [
        "\n",
        "Optimization not Possible"
       ]
      },
      {
       "output_type": "stream",
       "stream": "stdout",
       "text": [
        "\n",
        "Optimization not Possible"
       ]
      },
      {
       "output_type": "stream",
       "stream": "stdout",
       "text": [
        "\n",
        "Optimization not Possible"
       ]
      },
      {
       "output_type": "stream",
       "stream": "stdout",
       "text": [
        "\n",
        "Optimization not Possible"
       ]
      },
      {
       "output_type": "stream",
       "stream": "stdout",
       "text": [
        "\n",
        "Optimization not Possible"
       ]
      },
      {
       "output_type": "stream",
       "stream": "stdout",
       "text": [
        "\n",
        "Optimization not Possible"
       ]
      },
      {
       "output_type": "stream",
       "stream": "stdout",
       "text": [
        "\n",
        "Optimization not Possible"
       ]
      },
      {
       "output_type": "stream",
       "stream": "stdout",
       "text": [
        "\n",
        "Optimization not Possible"
       ]
      },
      {
       "output_type": "stream",
       "stream": "stdout",
       "text": [
        "\n",
        "Optimization not Possible"
       ]
      },
      {
       "output_type": "stream",
       "stream": "stdout",
       "text": [
        "\n",
        "Optimization not Possible"
       ]
      },
      {
       "output_type": "stream",
       "stream": "stdout",
       "text": [
        "\n",
        "Optimization not Possible"
       ]
      },
      {
       "output_type": "stream",
       "stream": "stdout",
       "text": [
        "\n",
        "Optimization not Possible"
       ]
      },
      {
       "output_type": "stream",
       "stream": "stdout",
       "text": [
        "\n",
        "Optimization not Possible"
       ]
      },
      {
       "output_type": "stream",
       "stream": "stdout",
       "text": [
        "\n",
        "Optimization not Possible"
       ]
      },
      {
       "output_type": "stream",
       "stream": "stdout",
       "text": [
        "\n",
        "Optimization not Possible"
       ]
      },
      {
       "output_type": "stream",
       "stream": "stdout",
       "text": [
        "\n",
        "Optimization not Possible"
       ]
      },
      {
       "output_type": "stream",
       "stream": "stdout",
       "text": [
        "\n",
        "Optimization not Possible"
       ]
      },
      {
       "output_type": "stream",
       "stream": "stdout",
       "text": [
        "\n",
        "Optimization not Possible"
       ]
      },
      {
       "output_type": "stream",
       "stream": "stdout",
       "text": [
        "\n",
        "Optimization not Possible"
       ]
      },
      {
       "output_type": "stream",
       "stream": "stdout",
       "text": [
        "\n",
        "Optimization not Possible"
       ]
      },
      {
       "output_type": "stream",
       "stream": "stdout",
       "text": [
        "\n",
        "Optimization not Possible"
       ]
      },
      {
       "output_type": "stream",
       "stream": "stdout",
       "text": [
        "\n",
        "Optimization not Possible"
       ]
      },
      {
       "output_type": "stream",
       "stream": "stdout",
       "text": [
        "\n",
        "Optimization not Possible"
       ]
      },
      {
       "output_type": "stream",
       "stream": "stdout",
       "text": [
        "\n",
        "Optimization not Possible"
       ]
      },
      {
       "output_type": "stream",
       "stream": "stdout",
       "text": [
        "\n",
        "Optimization not Possible"
       ]
      },
      {
       "output_type": "stream",
       "stream": "stdout",
       "text": [
        "\n",
        "Optimization not Possible"
       ]
      },
      {
       "output_type": "stream",
       "stream": "stdout",
       "text": [
        "\n",
        "Optimization not Possible"
       ]
      },
      {
       "output_type": "stream",
       "stream": "stdout",
       "text": [
        "\n",
        "Optimization not Possible"
       ]
      },
      {
       "output_type": "stream",
       "stream": "stdout",
       "text": [
        "\n",
        "Optimization not Possible"
       ]
      },
      {
       "output_type": "stream",
       "stream": "stdout",
       "text": [
        "\n",
        "Optimization not Possible"
       ]
      },
      {
       "output_type": "stream",
       "stream": "stdout",
       "text": [
        "\n",
        "Optimization not Possible"
       ]
      },
      {
       "output_type": "stream",
       "stream": "stdout",
       "text": [
        "\n",
        "Optimization not Possible"
       ]
      },
      {
       "output_type": "stream",
       "stream": "stdout",
       "text": [
        "\n",
        "Optimization not Possible"
       ]
      },
      {
       "output_type": "stream",
       "stream": "stdout",
       "text": [
        "\n",
        "Optimization not Possible"
       ]
      },
      {
       "output_type": "stream",
       "stream": "stdout",
       "text": [
        "\n",
        "Optimization not Possible"
       ]
      },
      {
       "output_type": "stream",
       "stream": "stdout",
       "text": [
        "\n",
        "Optimization not Possible"
       ]
      },
      {
       "output_type": "stream",
       "stream": "stdout",
       "text": [
        "\n",
        "Optimization not Possible"
       ]
      },
      {
       "output_type": "stream",
       "stream": "stdout",
       "text": [
        "\n",
        "Optimization not Possible"
       ]
      },
      {
       "output_type": "stream",
       "stream": "stdout",
       "text": [
        "\n",
        "Optimization not Possible"
       ]
      },
      {
       "output_type": "stream",
       "stream": "stdout",
       "text": [
        "\n",
        "Optimization not Possible"
       ]
      },
      {
       "output_type": "stream",
       "stream": "stdout",
       "text": [
        "\n",
        "Optimization not Possible"
       ]
      },
      {
       "output_type": "stream",
       "stream": "stdout",
       "text": [
        "\n",
        "Optimization not Possible"
       ]
      },
      {
       "output_type": "stream",
       "stream": "stdout",
       "text": [
        "\n",
        "Optimization not Possible"
       ]
      },
      {
       "output_type": "stream",
       "stream": "stdout",
       "text": [
        "\n",
        "Optimization not Possible"
       ]
      },
      {
       "output_type": "stream",
       "stream": "stdout",
       "text": [
        "\n",
        "Optimization not Possible"
       ]
      },
      {
       "output_type": "stream",
       "stream": "stdout",
       "text": [
        "\n",
        "Optimization not Possible"
       ]
      },
      {
       "output_type": "stream",
       "stream": "stdout",
       "text": [
        "\n",
        "Optimization not Possible"
       ]
      },
      {
       "output_type": "stream",
       "stream": "stdout",
       "text": [
        "\n",
        "Optimization not Possible"
       ]
      },
      {
       "output_type": "stream",
       "stream": "stdout",
       "text": [
        "\n",
        "Optimization not Possible"
       ]
      },
      {
       "output_type": "stream",
       "stream": "stdout",
       "text": [
        "\n",
        "Optimization not Possible"
       ]
      },
      {
       "output_type": "stream",
       "stream": "stdout",
       "text": [
        "\n",
        "Optimization not Possible"
       ]
      },
      {
       "output_type": "stream",
       "stream": "stdout",
       "text": [
        "\n",
        "Optimization not Possible"
       ]
      },
      {
       "output_type": "stream",
       "stream": "stdout",
       "text": [
        "\n",
        "Optimization not Possible"
       ]
      },
      {
       "output_type": "stream",
       "stream": "stdout",
       "text": [
        "\n",
        "Optimization not Possible"
       ]
      },
      {
       "output_type": "stream",
       "stream": "stdout",
       "text": [
        "\n",
        "Optimization not Possible"
       ]
      },
      {
       "output_type": "stream",
       "stream": "stdout",
       "text": [
        "\n",
        "Optimization not Possible"
       ]
      },
      {
       "output_type": "stream",
       "stream": "stdout",
       "text": [
        "\n",
        "Optimization not Possible"
       ]
      },
      {
       "output_type": "stream",
       "stream": "stdout",
       "text": [
        "\n",
        "Optimization not Possible"
       ]
      },
      {
       "output_type": "stream",
       "stream": "stdout",
       "text": [
        "\n",
        "Optimization not Possible"
       ]
      },
      {
       "output_type": "stream",
       "stream": "stdout",
       "text": [
        "\n",
        "Optimization not Possible"
       ]
      },
      {
       "output_type": "stream",
       "stream": "stdout",
       "text": [
        "\n",
        "Optimization not Possible"
       ]
      },
      {
       "output_type": "stream",
       "stream": "stdout",
       "text": [
        "\n",
        "Optimization not Possible"
       ]
      },
      {
       "output_type": "stream",
       "stream": "stdout",
       "text": [
        "\n",
        "Optimization not Possible"
       ]
      },
      {
       "output_type": "stream",
       "stream": "stdout",
       "text": [
        "\n",
        "Optimization not Possible"
       ]
      },
      {
       "output_type": "stream",
       "stream": "stdout",
       "text": [
        "\n",
        "Optimization not Possible"
       ]
      },
      {
       "output_type": "stream",
       "stream": "stdout",
       "text": [
        "\n",
        "Optimization not Possible"
       ]
      },
      {
       "output_type": "stream",
       "stream": "stdout",
       "text": [
        "\n",
        "Optimization not Possible"
       ]
      },
      {
       "output_type": "stream",
       "stream": "stdout",
       "text": [
        "\n",
        "Optimization not Possible"
       ]
      },
      {
       "output_type": "stream",
       "stream": "stdout",
       "text": [
        "\n",
        "Optimization not Possible"
       ]
      },
      {
       "output_type": "stream",
       "stream": "stdout",
       "text": [
        "\n",
        "Optimization not Possible"
       ]
      },
      {
       "output_type": "stream",
       "stream": "stdout",
       "text": [
        "\n",
        "Optimization not Possible"
       ]
      },
      {
       "output_type": "stream",
       "stream": "stdout",
       "text": [
        "\n",
        "Optimization not Possible"
       ]
      },
      {
       "output_type": "stream",
       "stream": "stdout",
       "text": [
        "\n",
        "Optimization not Possible"
       ]
      },
      {
       "output_type": "stream",
       "stream": "stdout",
       "text": [
        "\n",
        "Optimization not Possible"
       ]
      },
      {
       "output_type": "stream",
       "stream": "stdout",
       "text": [
        "\n",
        "Optimization not Possible"
       ]
      },
      {
       "output_type": "stream",
       "stream": "stdout",
       "text": [
        "\n",
        "Optimization not Possible"
       ]
      },
      {
       "output_type": "stream",
       "stream": "stdout",
       "text": [
        "\n",
        "Optimization not Possible"
       ]
      },
      {
       "output_type": "stream",
       "stream": "stdout",
       "text": [
        "\n",
        "Optimization not Possible"
       ]
      },
      {
       "output_type": "stream",
       "stream": "stdout",
       "text": [
        "\n",
        "Optimization not Possible"
       ]
      },
      {
       "output_type": "stream",
       "stream": "stdout",
       "text": [
        "\n",
        "Optimization not Possible"
       ]
      },
      {
       "output_type": "stream",
       "stream": "stdout",
       "text": [
        "\n",
        "Optimization not Possible"
       ]
      },
      {
       "output_type": "stream",
       "stream": "stdout",
       "text": [
        "\n",
        "Optimization not Possible"
       ]
      },
      {
       "output_type": "stream",
       "stream": "stdout",
       "text": [
        "\n",
        "Optimization not Possible"
       ]
      },
      {
       "output_type": "stream",
       "stream": "stdout",
       "text": [
        "\n",
        "Optimization not Possible"
       ]
      },
      {
       "output_type": "stream",
       "stream": "stdout",
       "text": [
        "\n",
        "Optimization not Possible"
       ]
      },
      {
       "output_type": "stream",
       "stream": "stdout",
       "text": [
        "\n",
        "Optimization not Possible"
       ]
      },
      {
       "output_type": "stream",
       "stream": "stdout",
       "text": [
        "\n",
        "Optimization not Possible"
       ]
      },
      {
       "output_type": "stream",
       "stream": "stdout",
       "text": [
        "\n",
        "Optimization not Possible"
       ]
      },
      {
       "output_type": "stream",
       "stream": "stdout",
       "text": [
        "\n",
        "Optimization not Possible"
       ]
      },
      {
       "output_type": "stream",
       "stream": "stdout",
       "text": [
        "\n",
        "Optimization not Possible"
       ]
      },
      {
       "output_type": "stream",
       "stream": "stdout",
       "text": [
        "\n",
        "Optimization not Possible"
       ]
      },
      {
       "output_type": "stream",
       "stream": "stdout",
       "text": [
        "\n",
        "Optimization not Possible"
       ]
      },
      {
       "output_type": "stream",
       "stream": "stdout",
       "text": [
        "\n",
        "Optimization not Possible"
       ]
      },
      {
       "output_type": "stream",
       "stream": "stdout",
       "text": [
        "\n",
        "Optimization not Possible"
       ]
      },
      {
       "output_type": "stream",
       "stream": "stdout",
       "text": [
        "\n",
        "Optimization not Possible"
       ]
      },
      {
       "output_type": "stream",
       "stream": "stdout",
       "text": [
        "\n",
        "Optimization not Possible"
       ]
      },
      {
       "output_type": "stream",
       "stream": "stdout",
       "text": [
        "\n",
        "Optimization not Possible"
       ]
      },
      {
       "output_type": "stream",
       "stream": "stdout",
       "text": [
        "\n",
        "Optimization not Possible"
       ]
      },
      {
       "output_type": "stream",
       "stream": "stdout",
       "text": [
        "\n",
        "Optimization not Possible"
       ]
      },
      {
       "output_type": "stream",
       "stream": "stdout",
       "text": [
        "\n",
        "Optimization not Possible"
       ]
      },
      {
       "output_type": "stream",
       "stream": "stdout",
       "text": [
        "\n",
        "Optimization not Possible"
       ]
      },
      {
       "output_type": "stream",
       "stream": "stdout",
       "text": [
        "\n",
        "Optimization not Possible"
       ]
      },
      {
       "output_type": "stream",
       "stream": "stdout",
       "text": [
        "\n",
        "Optimization not Possible"
       ]
      },
      {
       "output_type": "stream",
       "stream": "stdout",
       "text": [
        "\n",
        "Optimization not Possible"
       ]
      },
      {
       "output_type": "stream",
       "stream": "stdout",
       "text": [
        "\n",
        "Optimization not Possible"
       ]
      },
      {
       "output_type": "stream",
       "stream": "stdout",
       "text": [
        "\n",
        "Optimization not Possible"
       ]
      },
      {
       "output_type": "stream",
       "stream": "stdout",
       "text": [
        "\n",
        "Optimization not Possible"
       ]
      },
      {
       "output_type": "stream",
       "stream": "stdout",
       "text": [
        "\n",
        "Optimization not Possible"
       ]
      },
      {
       "output_type": "stream",
       "stream": "stdout",
       "text": [
        "\n",
        "Optimization not Possible"
       ]
      },
      {
       "output_type": "stream",
       "stream": "stdout",
       "text": [
        "\n",
        "Optimization not Possible"
       ]
      },
      {
       "output_type": "stream",
       "stream": "stdout",
       "text": [
        "\n",
        "Optimization not Possible"
       ]
      },
      {
       "output_type": "stream",
       "stream": "stdout",
       "text": [
        "\n",
        "Optimization not Possible"
       ]
      },
      {
       "output_type": "stream",
       "stream": "stdout",
       "text": [
        "\n",
        "Optimization not Possible"
       ]
      },
      {
       "output_type": "stream",
       "stream": "stdout",
       "text": [
        "\n",
        "Optimization not Possible"
       ]
      },
      {
       "output_type": "stream",
       "stream": "stdout",
       "text": [
        "\n",
        "Optimization not Possible"
       ]
      },
      {
       "output_type": "stream",
       "stream": "stdout",
       "text": [
        "\n",
        "Optimization not Possible"
       ]
      },
      {
       "output_type": "stream",
       "stream": "stdout",
       "text": [
        "\n",
        "Optimization not Possible"
       ]
      },
      {
       "output_type": "stream",
       "stream": "stdout",
       "text": [
        "\n",
        "Optimization not Possible"
       ]
      },
      {
       "output_type": "stream",
       "stream": "stdout",
       "text": [
        "\n",
        "Optimization not Possible"
       ]
      },
      {
       "output_type": "stream",
       "stream": "stdout",
       "text": [
        "\n",
        "Optimization not Possible"
       ]
      },
      {
       "output_type": "stream",
       "stream": "stdout",
       "text": [
        "\n",
        "Optimization not Possible"
       ]
      },
      {
       "output_type": "stream",
       "stream": "stdout",
       "text": [
        "\n",
        "Optimization not Possible"
       ]
      },
      {
       "output_type": "stream",
       "stream": "stdout",
       "text": [
        "\n",
        "Optimization not Possible"
       ]
      },
      {
       "output_type": "stream",
       "stream": "stdout",
       "text": [
        "\n",
        "Optimization not Possible"
       ]
      },
      {
       "output_type": "stream",
       "stream": "stdout",
       "text": [
        "\n",
        "Optimization not Possible"
       ]
      },
      {
       "output_type": "stream",
       "stream": "stdout",
       "text": [
        "\n",
        "Optimization not Possible"
       ]
      },
      {
       "output_type": "stream",
       "stream": "stdout",
       "text": [
        "\n",
        "Optimization not Possible"
       ]
      },
      {
       "output_type": "stream",
       "stream": "stdout",
       "text": [
        "\n",
        "Optimization not Possible"
       ]
      },
      {
       "output_type": "stream",
       "stream": "stdout",
       "text": [
        "\n",
        "Optimization not Possible"
       ]
      },
      {
       "output_type": "stream",
       "stream": "stdout",
       "text": [
        "\n",
        "Optimization not Possible"
       ]
      },
      {
       "output_type": "stream",
       "stream": "stdout",
       "text": [
        "\n",
        "Optimization not Possible"
       ]
      },
      {
       "output_type": "stream",
       "stream": "stdout",
       "text": [
        "\n",
        "Optimization not Possible"
       ]
      },
      {
       "output_type": "stream",
       "stream": "stdout",
       "text": [
        "\n",
        "Optimization not Possible"
       ]
      },
      {
       "output_type": "stream",
       "stream": "stdout",
       "text": [
        "\n",
        "Optimization not Possible"
       ]
      },
      {
       "output_type": "stream",
       "stream": "stdout",
       "text": [
        "\n",
        "       na_avgrets    na_std\n",
        "MO       0.001412  0.011236\n",
        "CPB      0.000766  0.012079\n",
        "GAS      0.001270  0.012590\n",
        "ADP      0.000819  0.013867\n",
        "BCR      0.000033  0.014342\n",
        "T        0.000604  0.014710\n",
        "BDX      0.000617  0.014848\n",
        "AEP      0.000897  0.015203\n",
        "ABT      0.000274  0.015237\n",
        "BAX      0.000168  0.015624\n",
        "AEE      0.000362  0.015695\n",
        "CFN      0.001519  0.016049\n",
        "AZO      0.000573  0.016155\n",
        "BLL      0.001257  0.016509\n",
        "CVX      0.000801  0.016604\n",
        "ABC      0.002009  0.016828\n",
        "BMY      0.001169  0.016884\n",
        "CNP      0.001210  0.016945\n",
        "AON      0.000334  0.017184\n",
        "CTL      0.001673  0.017238\n",
        "ACN      0.001467  0.017762\n",
        "MMM      0.002444  0.018088\n",
        "BIIB     0.000604  0.018511\n",
        "BMS      0.001899  0.019186\n",
        "AMGN     0.000235  0.019487\n",
        "AAPL     0.003343  0.019509\n",
        "APD      0.001524  0.020163\n",
        "AGN      0.001783  0.020421\n",
        "CHRW     0.000998  0.020506\n",
        "CB       0.001456  0.020742\n",
        "...           ...       ...\n",
        "CI       0.002832  0.034229\n",
        "AES      0.003035  0.036646\n",
        "BK       0.001616  0.036757\n",
        "KMX      0.004112  0.037024\n",
        "AMP      0.004143  0.037039\n",
        "AVB      0.003295  0.038995\n",
        "BBT      0.003424  0.041382\n",
        "BXP      0.003213  0.042796\n",
        "AA       0.004000  0.042814\n",
        "AXP      0.005432  0.043707\n",
        "CAH      0.002749  0.047556\n",
        "AFL      0.005485  0.049260\n",
        "CBS      0.005435  0.049509\n",
        "AIV      0.005708  0.049843\n",
        "COF      0.007159  0.061292\n",
        "BAC      0.007625  0.062872\n",
        "CBG      0.007899  0.072263\n",
        "AIG      0.008175  0.101385\n",
        "ABBV          NaN       NaN\n",
        "ACT           NaN       NaN\n",
        "ADT           NaN       NaN\n",
        "AMG           NaN       NaN\n",
        "ALLE          NaN       NaN\n",
        "ADS           NaN       NaN\n",
        "AME           NaN       NaN\n",
        "AVGO          NaN       NaN\n",
        "BRK-B         NaN       NaN\n",
        "BWA           NaN       NaN\n",
        "BF-B          NaN       NaN\n",
        "XEC           NaN       NaN\n",
        "\n",
        "[100 rows x 2 columns]"
       ]
      },
      {
       "output_type": "stream",
       "stream": "stdout",
       "text": [
        "\n"
       ]
      },
      {
       "metadata": {},
       "output_type": "display_data",
       "png": "[encoded data removed]",
       "text": [
        "<matplotlib.figure.Figure at 0xac92fbac>"
       ]
      }
     ],
     "prompt_number": 173
    },
    {
     "cell_type": "code",
     "collapsed": false,
     "input": [
      "srch = ['AMD', 'MS', 'APL', 'NVD']\n",
      "srch = searchSymbols(srch)\n",
      "#df1_close = getDataSymbols(srch)\n",
      "#plotSymbols(srch, normalize=True, sigmoid=True)\n",
      "print (srch)\n",
      "ret = calculateEfficientFrontier(srch)"
     ],
     "language": "python",
     "metadata": {},
     "outputs": [
      {
       "output_type": "stream",
       "stream": "stdout",
       "text": [
        "['AAPL', 'AMD', 'BMS', 'CMS', 'MS', 'MSFT', 'MSI', 'NVDA']\n"
       ]
      },
      {
       "metadata": {},
       "output_type": "display_data",
       "png": "[encoded data removed]",
       "text": [
        "<matplotlib.figure.Figure at 0xacd4d74c>"
       ]
      }
     ],
     "prompt_number": 111
    },
    {
     "cell_type": "code",
     "collapsed": false,
     "input": [
      "def main():\n",
      "    '''Main Function'''\n",
      "    \n",
      "    # S&P 100\n",
      "    ls_symbols = ['AAPL', 'ABT', 'ACN', 'AEP', 'ALL', 'AMGN', 'AMZN', 'APC', 'AXP', 'BA', 'BAC', 'BAX', 'BHI', 'BK', 'BMY', 'BRK.B', 'CAT', 'C', 'CL', 'CMCSA', 'COF', 'COP', 'COST', 'CPB', 'CSCO', 'CVS', 'CVX', 'DD', 'DELL', 'DIS', 'DOW', 'DVN', 'EBAY', 'EMC', 'EXC', 'F', 'FCX', 'FDX', 'GD', 'GE', 'GILD', 'GOOG', 'GS', 'HAL', 'HD', 'HNZ', 'HON', 'HPQ', 'IBM', 'INTC', 'JNJ', 'JPM', 'KFT', 'KO', 'LLY', 'LMT', 'LOW', 'MA', 'MCD', 'MDT', 'MET', 'MMM', 'MO', 'MON', 'MRK', 'MS', 'MSFT', 'NKE', 'NOV', 'NSC', 'NWSA', 'NYX', 'ORCL', 'OXY', 'PEP', 'PFE', 'PG', 'PM', 'QCOM', 'RF', 'RTN', 'SBUX', 'SLB', 'HSH', 'SO', 'SPG', 'T', 'TGT', 'TWX', 'TXN', 'UNH', 'UPS', 'USB', 'UTX', 'VZ', 'WAG', 'WFC', 'WMB', 'WMT', 'XOM']\n",
      "    \n",
      "    # Creating an object of the dataaccess class with Yahoo as the source.\n",
      "    c_dataobj = da.DataAccess('Yahoo')\n",
      "    \n",
      "    ls_all_syms = c_dataobj.get_all_symbols()\n",
      "    # Bad symbols are symbols present in portfolio but not in all syms\n",
      "    ls_bad_syms = list(set(ls_symbols) - set(ls_all_syms))\n",
      "    for s_sym in ls_bad_syms:\n",
      "        i_index = ls_symbols.index(s_sym)\n",
      "        ls_symbols.pop(i_index)\n",
      "    \n",
      "    # Start and End date of the charts\n",
      "    dt_end = dt.datetime(2010, 1, 1)\n",
      "    dt_start = dt_end - dt.timedelta(days=365)\n",
      "    dt_test = dt_end + dt.timedelta(days=365)\n",
      "    \n",
      "    # We need closing prices so the timestamp should be hours=16.\n",
      "    dt_timeofday = dt.timedelta(hours=16)\n",
      "    \n",
      "    # Get a list of trading days between the start and the end.\n",
      "    ldt_timestamps = du.getNYSEdays(dt_start, dt_end, dt_timeofday)\n",
      "    ldt_timestamps_test = du.getNYSEdays(dt_end, dt_test, dt_timeofday)\n",
      "    \n",
      "    # Reading just the close prices\n",
      "    df_close = c_dataobj.get_data(ldt_timestamps, ls_symbols, \"close\")\n",
      "    df_close_test = c_dataobj.get_data(ldt_timestamps_test, ls_symbols, \"close\")\n",
      "    \n",
      "    # Filling the data for missing NAN values\n",
      "    df_close = df_close.fillna(method='ffill')\n",
      "    df_close = df_close.fillna(method='bfill')\n",
      "    df_close_test = df_close_test.fillna(method='ffill')\n",
      "    df_close_test = df_close_test.fillna(method='bfill')\n",
      "    \n",
      "    # Copying the data values to a numpy array to get returns\n",
      "    na_data = df_close.values.copy()\n",
      "    na_data_test = df_close_test.values.copy()\n",
      "    \n",
      "    # Getting the daily returns\n",
      "    tsu.returnize0(na_data)\n",
      "    tsu.returnize0(na_data_test)\n",
      "    \n",
      "    # Calculating the frontier.\n",
      "    (lf_returns, lf_std, lna_portfolios, na_avgrets, na_std) = getFrontier(na_data)\n",
      "    (lf_returns_test, lf_std_test, unused, unused, unused) = getFrontier(na_data_test)\n",
      "    \n",
      "    # Plotting the efficient frontier\n",
      "    plt.clf()\n",
      "    plt.plot(lf_std, lf_returns, 'b')\n",
      "    plt.plot(lf_std_test, lf_returns_test, 'r')\n",
      "    \n",
      "    # Plot where the efficient frontier would be the following year\n",
      "    lf_ret_port_test = []\n",
      "    lf_std_port_test = []\n",
      "    for na_portfolio in lna_portfolios:\n",
      "        na_port_rets = np.dot(na_data_test, na_portfolio)\n",
      "        lf_std_port_test.append(np.std(na_port_rets))\n",
      "        lf_ret_port_test.append(np.average(na_port_rets))\n",
      "    \n",
      "    plt.plot(lf_std_port_test, lf_ret_port_test, 'k')\n",
      "    \n",
      "    # Plot indivisual stock risk/return as green +\n",
      "    for i, f_ret in enumerate(na_avgrets):\n",
      "        plt.plot(na_std[i], f_ret, 'g+')\n",
      "    \n",
      "    # # Plot some arrows showing transistion of efficient frontier\n",
      "    # for i in range(0, 101, 10):\n",
      "    #     plt.arrow(lf_std[i], lf_returns[i], lf_std_port_test[i] - lf_std[i],\n",
      "    #                 lf_ret_port_test[i] - lf_returns[i], color='k')\n",
      "    \n",
      "    # Labels and Axis\n",
      "    plt.legend(['2009 Frontier', '2010 Frontier',\n",
      "        'Performance of \\'09 Frontier in 2010'], loc='lower right')\n",
      "    plt.title('Efficient Frontier For S&P 100 ')\n",
      "    plt.ylabel('Expected Return')\n",
      "    plt.xlabel('StDev')\n",
      "    plt.savefig('tutorial8.pdf', format='pdf')\n",
      "\n",
      "#if __name__ == '__main__':\n",
      "#    main()\n"
     ],
     "language": "python",
     "metadata": {},
     "outputs": [],
     "prompt_number": 3
    },
    {
     "cell_type": "code",
     "collapsed": false,
     "input": [
      "# S&P 100\n",
      "ls_symbols = ['AAPL', 'ABT', 'ACN', 'AEP', 'ALL', 'AMGN', 'AMZN', 'APC', 'AXP', 'BA', 'BAC', 'BAX', 'BHI', 'BK', 'BMY', 'BRK.B', 'CAT', 'C', 'CL', 'CMCSA', 'COF', 'COP', 'COST', 'CPB', 'CSCO', 'CVS', 'CVX', 'DD', 'DELL', 'DIS', 'DOW', 'DVN', 'EBAY', 'EMC', 'EXC', 'F', 'FCX', 'FDX', 'GD', 'GE', 'GILD', 'GOOG', 'GS', 'HAL', 'HD', 'HNZ', 'HON', 'HPQ', 'IBM', 'INTC', 'JNJ', 'JPM', 'KFT', 'KO', 'LLY', 'LMT', 'LOW', 'MA', 'MCD', 'MDT', 'MET', 'MMM', 'MO', 'MON', 'MRK', 'MS', 'MSFT', 'NKE', 'NOV', 'NSC', 'NWSA', 'NYX', 'ORCL', 'OXY', 'PEP', 'PFE', 'PG', 'PM', 'QCOM', 'RF', 'RTN', 'SBUX', 'SLB', 'HSH', 'SO', 'SPG', 'T', 'TGT', 'TWX', 'TXN', 'UNH', 'UPS', 'USB', 'UTX', 'VZ', 'WAG', 'WFC', 'WMB', 'WMT', 'XOM']\n",
      "print len(ls_symbols)\n",
      "\n",
      "# Creating an object of the dataaccess class with Yahoo as the source.\n",
      "c_dataobj = da.DataAccess('Yahoo')\n",
      "\n",
      "ls_all_syms = c_dataobj.get_all_symbols()\n",
      "# Bad symbols are symbols present in portfolio but not in all syms\n",
      "ls_bad_syms = list(set(ls_symbols) - set(ls_all_syms))\n",
      "for s_sym in ls_bad_syms:\n",
      "    i_index = ls_symbols.index(s_sym)\n",
      "    ls_symbols.pop(i_index)\n",
      "\n",
      "# Start and End date of the charts\n",
      "dt_end = dt.datetime(2010, 1, 1)\n",
      "dt_start = dt_end - dt.timedelta(days=365)\n",
      "dt_test = dt_end + dt.timedelta(days=365)\n",
      "\n",
      "# We need closing prices so the timestamp should be hours=16.\n",
      "dt_timeofday = dt.timedelta(hours=16)\n",
      "\n",
      "# Get a list of trading days between the start and the end.\n",
      "ldt_timestamps = du.getNYSEdays(dt_start, dt_end, dt_timeofday)\n",
      "ldt_timestamps_test = du.getNYSEdays(dt_end, dt_test, dt_timeofday)\n",
      "\n",
      "# Reading just the close prices\n",
      "df_close = c_dataobj.get_data(ldt_timestamps, ls_symbols, \"close\")\n",
      "df_close_test = c_dataobj.get_data(ldt_timestamps_test, ls_symbols, \"close\")\n",
      "\n",
      "# Filling the data for missing NAN values\n",
      "df_close = df_close.fillna(method='ffill')\n",
      "df_close = df_close.fillna(method='bfill')\n",
      "df_close_test = df_close_test.fillna(method='ffill')\n",
      "df_close_test = df_close_test.fillna(method='bfill')\n",
      "\n",
      "# Copying the data values to a numpy array to get returns\n",
      "na_data = df_close.values.copy()\n",
      "na_data_test = df_close_test.values.copy()\n",
      "\n",
      "# Getting the daily returns\n",
      "tsu.returnize0(na_data)\n",
      "tsu.returnize0(na_data_test)\n",
      "\n",
      "print 'end'\n"
     ],
     "language": "python",
     "metadata": {},
     "outputs": [
      {
       "output_type": "stream",
       "stream": "stdout",
       "text": [
        "100\n",
        "end"
       ]
      },
      {
       "output_type": "stream",
       "stream": "stdout",
       "text": [
        "\n"
       ]
      }
     ],
     "prompt_number": 6
    },
    {
     "cell_type": "code",
     "collapsed": false,
     "input": [
      "# Calculating the frontier.\n",
      "(lf_returns, lf_std, lna_portfolios, na_avgrets, na_std) = getFrontier(na_data)\n",
      "(lf_returns_test, lf_std_test, unused, unused, unused) = getFrontier(na_data_test)\n"
     ],
     "language": "python",
     "metadata": {},
     "outputs": [
      {
       "output_type": "stream",
       "stream": "stdout",
       "text": [
        "Terminated (singular KKT matrix).\n",
        "Terminated (singular KKT matrix)."
       ]
      },
      {
       "output_type": "stream",
       "stream": "stdout",
       "text": [
        "\n"
       ]
      }
     ],
     "prompt_number": 7
    },
    {
     "cell_type": "code",
     "collapsed": false,
     "input": [
      "d = pd.DataFrame()\n",
      "d['lf_returns'] = lf_returns\n",
      "d['lf_std'] = lf_std\n",
      "d['lf_std_test'] = lf_std_test\n",
      "plot(d); legend(d,2); show()"
     ],
     "language": "python",
     "metadata": {},
     "outputs": [
      {
       "metadata": {},
       "output_type": "display_data",
       "png": "[encoded data removed]",
       "text": [
        "<matplotlib.figure.Figure at 0xadc4cd8c>"
       ]
      }
     ],
     "prompt_number": 15
    },
    {
     "cell_type": "code",
     "collapsed": false,
     "input": [
      "plt.clf()\n",
      "d = pd.DataFrame()\n",
      "for i, f in enumerate(na_avgrets):\n",
      "    #print str(i) + ' ' + str(f) + ' ' + str(na_std[i])\n",
      "    #plt.plot(na_std[i], f)\n",
      "    ''\n",
      "#plt.plot(na_std, na_avgrets, '.')\n",
      "#print na_avgrets\n",
      "#plot(na_avgrets)\n",
      "#plot(na_std)\n",
      "show()"
     ],
     "language": "python",
     "metadata": {},
     "outputs": [
      {
       "metadata": {},
       "output_type": "display_data",
       "text": [
        "<matplotlib.figure.Figure at 0xad793c2c>"
       ]
      }
     ],
     "prompt_number": 28
    },
    {
     "cell_type": "code",
     "collapsed": false,
     "input": [
      "\n",
      "# Plotting the efficient frontier\n",
      "plt.clf()\n",
      "plt.plot(lf_std, lf_returns, 'b')\n",
      "#print str(lf_std) + ' ' + str(lf_returns)\n",
      "#print len(lf_std)\n",
      "#print len(lf_returns)\n",
      "#for i in range(0,len(lf_std)):\n",
      "#    print str(lf_std[i]) + ' ' + str(lf_returns[i])\n",
      "plt.plot(lf_std_test, lf_returns_test, 'r')\n",
      "\n",
      "\n",
      "# Plot where the efficient frontier would be the following year\n",
      "lf_ret_port_test = []\n",
      "lf_std_port_test = []\n",
      "for na_portfolio in lna_portfolios:\n",
      "    na_port_rets = np.dot(na_data_test, na_portfolio)\n",
      "    lf_std_port_test.append(np.std(na_port_rets))\n",
      "    lf_ret_port_test.append(np.average(na_port_rets))\n",
      "\n",
      "plt.plot(lf_std_port_test, lf_ret_port_test, 'k')\n",
      "\n",
      "# Plot indivisual stock risk/return as green +\n",
      "#for i, f_ret in enumerate(na_avgrets):\n",
      "#    plt.plot(na_std[i], f_ret, 'g+')\n",
      "for i, f_ret in enumerate(na_avgrets):\n",
      "#    print str(i) + str(na_avgrets[i]) + ' ' + str(f_ret)\n",
      "    plt.plot(na_std[i], f_ret, 'g+')\n",
      "#plt.plot(na_std, na_avgrets, '.')\n",
      "# # Plot some arrows showing transistion of efficient frontier\n",
      "for i in range(0, 101, 10):\n",
      "#for i in range(0, 10, 1):\n",
      "#    print i\n",
      "    #plt.plot(lf_std[i], lf_returns[i], lf_std_port_test[i] - lf_std[i], lf_ret_port_test[i] - lf_returns[i], color='r')\n",
      "    plt.plot(lf_std_port_test[i], lf_ret_port_test[i], 'ok')\n",
      "    plt.plot(lf_std[i], lf_returns[i], 'ok')\n",
      "\n",
      "# Labels and Axis\n",
      "plt.legend(['2014 Frontier', '2015 Frontier', 'Performance of \\'14 Frontier in 2015'], loc='lower right')\n",
      "plt.title('Efficient Frontier For S&P 100 ')\n",
      "plt.ylabel('Expected Return')\n",
      "plt.xlabel('StDev')"
     ],
     "language": "python",
     "metadata": {},
     "outputs": [
      {
       "metadata": {},
       "output_type": "pyout",
       "prompt_number": 474,
       "text": [
        "<matplotlib.text.Text at 0xa2a3f82c>"
       ]
      },
      {
       "metadata": {},
       "output_type": "display_data",
       "png": "[encoded data removed]",
       "text": [
        "<matplotlib.figure.Figure at 0xa2f4b10c>"
       ]
      }
     ],
     "prompt_number": 474
    },
    {
     "cell_type": "code",
     "collapsed": false,
     "input": [
      "plt.plot(lf_std, lf_returns, '.b')\n",
      "for i, f_ret in enumerate(na_avgrets):\n",
      "    plt.plot(na_std[i], f_ret, 'g+')\n",
      "\n",
      "ddistances = []\n",
      "#for i in range(0,len(na_std)):\n",
      "#for i in range(0,10+1):\n",
      "for i in [0,1,2]:\n",
      "    ddistance = []\n",
      "    #for j in range(0,len(na_std)):\n",
      "    for j in range(3,6):\n",
      "        std = [na_std[i], lf_std[j]]\n",
      "        ret = [na_avgrets[i], lf_returns[j]]\n",
      "        dstd = abs(diff(std))\n",
      "        dret = abs(diff(ret))\n",
      "        ddist = list(n.sqrt(n.power(dstd,2)+n.power(dret,2)))[0]\n",
      "        ddistance.append(ddist)\n",
      "        \"\"\"\n",
      "        print 'std:'+str(std)\n",
      "        print 'dstd:'+str(dstd)\n",
      "        print 'ret:'+str(ret)\n",
      "        print 'dret:'+str(dret)\n",
      "        print 'ddistance:'+str(ddistance)\n",
      "        \"\"\"\n",
      "        #print str(i) + ' ' + str(j) + ' dstd:'+str(dstd) + '   ' + 'dret:'+str(dret) + '   ' + 'ddist:'+str(ddist)\n",
      "        plt.plot(std, ret, '-k')\n",
      "    print\n",
      "    ddistances.append(ddistance)\n",
      "#print n.array(ddistances)\n",
      "ddistances = pd.DataFrame(ddistances).transpose()\n",
      "#print ddistances\n",
      "#print n.min(ddistances)\n",
      "#print n.indices(n.min(ddistances))\n",
      "#plt.plot(ddistances)\n",
      "\n",
      "# find the index number of the minimum for each column\n",
      "#dt = n.array([[1,2,3,4,5],[2,2,1,2,3]])\n",
      "#dt = pd.DataFrame(dt).transpose()\n",
      "#print ddistances\n",
      "dt = ddistances\n",
      "dt = pd.DataFrame(dt)\n",
      "#print dt\n",
      "#print n.min(dt)\n",
      "lowDt = pd.DataFrame(n.array(dt == n.min(dt), dtype=int))\n",
      "#print lowDt\n",
      "#print pd.DataFrame(n.min(dt)).transpose()\n",
      "finz = n.nonzero(lowDt.get_values()) # get row indeces of 1's\n",
      "print finz\n",
      "fin = pd.DataFrame([list(finz[0]),list(finz[1])]).transpose()\n",
      "#fin = pd.DataFrame(index=list(finz[0]), columns=list(finz[1]))\n",
      "print 'len:'+str(len(fin.columns))\n",
      "ln = n.array(pd.DataFrame(list(n.min(dt))).ix[finz[1],0])\n",
      "fin[2] = ln\n",
      "print fin.transpose()\n",
      "\n",
      "for i in range(0,len(finz[0])):\n",
      "    #print dt.ix[finz[0][i], finz[1][i]]\n",
      "    std = [na_std[finz[1][i]], lf_std[finz[0][i]-1]]\n",
      "    ret = [na_avgrets[finz[1][i]], lf_returns[finz[0][i]-1]]\n",
      "    plt.plot(std, ret, '-k')"
     ],
     "language": "python",
     "metadata": {},
     "outputs": [
      {
       "output_type": "stream",
       "stream": "stdout",
       "text": [
        "\n",
        "\n",
        "\n"
       ]
      },
      {
       "output_type": "stream",
       "stream": "stdout",
       "text": [
        "(array([0, 0, 0]), array([0, 1, 2]))\n",
        "len:2\n",
        "          0         1         2\n",
        "0  0.000000  0.000000  0.000000\n",
        "1  0.000000  1.000000  2.000000\n",
        "2  0.010639  0.005132  0.008049\n"
       ]
      },
      {
       "metadata": {},
       "output_type": "display_data",
       "png": "[encoded data removed]",
       "text": [
        "<matplotlib.figure.Figure at 0xa2a7cb6c>"
       ]
      }
     ],
     "prompt_number": 614
    },
    {
     "cell_type": "code",
     "collapsed": false,
     "input": [
      "for i in range(0,3):\n",
      "    for j in range(0,3):\n",
      "        print dt.sort(columns=[j]).get_values()[i][j]\n",
      "    print\n",
      "#print dt.sort(columns=[0]).ix[0,:]\n",
      "print dt"
     ],
     "language": "python",
     "metadata": {},
     "outputs": [
      {
       "output_type": "stream",
       "stream": "stdout",
       "text": [
        "0.000653758351248\n",
        "0.00111434281486\n",
        "0.00274455706597\n",
        "\n",
        "0.000724109531698\n",
        "0.00278299029818\n",
        "0.00276840599999\n",
        "\n",
        "0.000845021244704\n",
        "0.00303269078952\n",
        "0.00278346753504\n",
        "\n",
        "           0         1         2\n",
        "0   0.005865  0.001114  0.002745\n",
        "1   0.008500  0.002783  0.005717\n",
        "2   0.009663  0.004065  0.006993\n",
        "3   0.010639  0.005132  0.008049\n",
        "4   0.011269  0.005821  0.008727\n",
        "5   0.011582  0.006170  0.009070\n",
        "6   0.011847  0.006468  0.009362\n",
        "7   0.012063  0.006713  0.009601\n",
        "8   0.012256  0.006933  0.009815\n",
        "9   0.012423  0.007125  0.010002\n",
        "10  0.012580  0.007307  0.010178\n",
        "11  0.012715  0.007465  0.010330\n",
        "12  0.012828  0.007601  0.010460\n",
        "13  0.012904  0.007699  0.010552\n",
        "14  0.012950  0.007764  0.010612\n",
        "15  0.012969  0.007802  0.010644\n",
        "16  0.012960  0.007812  0.010649\n",
        "17  0.012940  0.007811  0.010642\n",
        "18  0.012900  0.007789  0.010614\n",
        "19  0.012852  0.007760  0.010578\n",
        "20  0.012792  0.007718  0.010530\n",
        "21  0.012725  0.007670  0.010475\n",
        "22  0.012651  0.007616  0.010414\n",
        "23  0.012571  0.007555  0.010345\n",
        "24  0.012480  0.007484  0.010267\n",
        "25  0.012381  0.007406  0.010181\n",
        "26  0.012276  0.007322  0.010088\n",
        "27  0.012164  0.007232  0.009989\n",
        "28  0.012043  0.007134  0.009881\n",
        "29  0.011915  0.007029  0.009766\n",
        "..       ...       ...       ...\n",
        "69  0.000724  0.006389  0.003849\n",
        "70  0.001007  0.006780  0.004168\n",
        "71  0.001380  0.007179  0.004511\n",
        "72  0.001750  0.007548  0.004839\n",
        "73  0.002128  0.007916  0.005175\n",
        "74  0.002523  0.008297  0.005527\n",
        "75  0.002932  0.008689  0.005896\n",
        "76  0.003361  0.009100  0.006286\n",
        "77  0.003824  0.009543  0.006709\n",
        "78  0.004307  0.010005  0.007155\n",
        "79  0.004809  0.010487  0.007623\n",
        "80  0.005330  0.010988  0.008112\n",
        "81  0.005868  0.011505  0.008619\n",
        "82  0.006422  0.012040  0.009145\n",
        "83  0.006991  0.012590  0.009687\n",
        "84  0.007575  0.013154  0.010246\n",
        "85  0.008171  0.013733  0.010819\n",
        "86  0.008780  0.014325  0.011407\n",
        "87  0.009400  0.014929  0.012007\n",
        "88  0.010031  0.015545  0.012620\n",
        "89  0.010660  0.016159  0.013232\n",
        "90  0.011337  0.016821  0.013892\n",
        "91  0.012073  0.017541  0.014610\n",
        "92  0.012850  0.018302  0.015370\n",
        "93  0.013667  0.019103  0.016169\n",
        "94  0.014521  0.019940  0.017006\n",
        "95  0.015393  0.020798  0.017863\n",
        "96  0.016238  0.021629  0.018694\n",
        "97  0.017244  0.022618  0.019684\n",
        "98  0.018399  0.023756  0.020822\n",
        "\n",
        "[99 rows x 3 columns]"
       ]
      },
      {
       "output_type": "stream",
       "stream": "stdout",
       "text": [
        "\n"
       ]
      }
     ],
     "prompt_number": 607
    },
    {
     "cell_type": "code",
     "collapsed": false,
     "input": [
      "import matplotlib.pyplot as plt\n",
      "import itertools \n",
      "\n",
      "fig=plt.figure()\n",
      "ax=fig.add_subplot(111)\n",
      "all_data = [[1,10],[2,10],[3,10],[4,10],[5,10],[3,1],[3,2],[3,3],[3,4],[3,5]]\n",
      "print itertools.combinations(all_data, 2)\n",
      "plt.plot(    *zip(*itertools.chain.from_iterable(itertools.combinations(all_data, 2))),    color = 'brown', marker = 'o')\n",
      "#plt.plot(   all_data,    color = 'brown', marker = 'o')\n",
      "plt.show()"
     ],
     "language": "python",
     "metadata": {},
     "outputs": [
      {
       "output_type": "stream",
       "stream": "stdout",
       "text": [
        "<itertools.combinations object at 0xa4cb434c>\n"
       ]
      },
      {
       "metadata": {},
       "output_type": "display_data",
       "png": "[encoded data removed]",
       "text": [
        "<matplotlib.figure.Figure at 0xa4c58e6c>"
       ]
      }
     ],
     "prompt_number": 195
    },
    {
     "cell_type": "code",
     "collapsed": false,
     "input": [
      "all_data = [[1,10],[2,10],[3,10],[4,10],[5,10],[3,1],[3,2],[3,3],[3,4],[3,5]]\n",
      "for point in all_data:\n",
      "    for point2 in all_data:\n",
      "        #print str(point) + '' + str(point2)\n",
      "        pyplot.plot([point[0], point2[0]], [point[1], point2[1]])\n",
      "    #print"
     ],
     "language": "python",
     "metadata": {},
     "outputs": [
      {
       "metadata": {},
       "output_type": "display_data",
       "png": "[encoded data removed]",
       "text": [
        "<matplotlib.figure.Figure at 0x9feae8ac>"
       ]
      }
     ],
     "prompt_number": 223
    },
    {
     "cell_type": "code",
     "collapsed": false,
     "input": [
      "#y = diff(lf_returns[0:101])/diff(lf_std[0:101])\n",
      "y = diff(lf_returns[0:101])/diff(lf_std[0:101])\n",
      "#print y\n",
      "plot(y)"
     ],
     "language": "python",
     "metadata": {},
     "outputs": [
      {
       "metadata": {},
       "output_type": "pyout",
       "prompt_number": 145,
       "text": [
        "[<matplotlib.lines.Line2D at 0xa4c159cc>]"
       ]
      },
      {
       "metadata": {},
       "output_type": "display_data",
       "png": "[encoded data removed]",
       "text": [
        "<matplotlib.figure.Figure at 0xa50926cc>"
       ]
      }
     ],
     "prompt_number": 145
    },
    {
     "cell_type": "code",
     "collapsed": false,
     "input": [
      "#plt.plot(lf_std, lf_returns, '.b')\n",
      "#plt.plot(lf_returns, lf_std, 'b')\n",
      "#plt.plot(lf_std, ones(len(lf_std)), 'r')\n",
      "#plt.plot(lf_std)\n",
      "#plt.plot(lf_returns)\n",
      "ylabel('lf_std')\n",
      "xlabel('lf_returns')\n",
      "dy = diff(lf_std)\n",
      "dx = diff(lf_returns)\n",
      "dydx = dy/dx\n",
      "plot(dydx)\n",
      "#plot(y)\n"
     ],
     "language": "python",
     "metadata": {},
     "outputs": [
      {
       "metadata": {},
       "output_type": "pyout",
       "prompt_number": 126,
       "text": [
        "[<matplotlib.lines.Line2D at 0xa63b840c>]"
       ]
      },
      {
       "metadata": {},
       "output_type": "display_data",
       "png": "[encoded data removed]",
       "text": [
        "<matplotlib.figure.Figure at 0xa647752c>"
       ]
      }
     ],
     "prompt_number": 126
    },
    {
     "cell_type": "code",
     "collapsed": false,
     "input": [
      "dydx"
     ],
     "language": "python",
     "metadata": {},
     "outputs": [
      {
       "metadata": {},
       "output_type": "pyout",
       "prompt_number": 224,
       "text": [
        "array([-47.16917567, -18.98750986, -15.51427961,  -9.9648584 ,\n",
        "        -5.08345706,  -4.3274702 ,  -3.553908  ,  -3.18768635,\n",
        "        -2.77670687,  -2.61540679,  -2.26578666,  -1.94051832,\n",
        "        -1.38797688,  -0.92115805,  -0.52829332,  -0.11683987,\n",
        "         0.0517787 ,   0.35429384,   0.46860493,   0.65069945,\n",
        "         0.75597932,   0.85987108,   0.95809402,   1.11096469,\n",
        "         1.22420429,   1.32596815,   1.43506662,   1.55548033,\n",
        "         1.66208494,   1.78366529,   1.9321718 ,   2.04477811,\n",
        "         2.14518591,   2.33632437,   2.51545722,   2.65476691,\n",
        "         2.76703681,   3.0071273 ,   3.18703934,   3.30975745,\n",
        "         3.43466799,   3.58035906,   3.75560981,   3.85697604,\n",
        "         3.95175105,   4.04035217,   4.1231829 ,   4.20062998,\n",
        "         4.27741748,   4.37801396,   4.44214929,   4.55523193,\n",
        "         4.62837352,   4.61955684,   4.69801257,   4.84798567,\n",
        "         5.09279722,   5.29551101,   5.37668266,   5.45257437,\n",
        "         5.63331226,   5.73991256,   5.81547164,   5.8861673 ,\n",
        "         5.95235624,   6.01436898,   6.0725113 ,   6.12706571,\n",
        "         6.17829302,   6.22643377,   6.27170974,   5.64967533,\n",
        "         5.58926099,   5.74327843,   5.88941596,   6.1604989 ,\n",
        "         6.62054471,   6.90242102,   7.16824531,   7.41866302,\n",
        "         7.65436366,   7.87606321,   8.08448952,   8.28037025,\n",
        "         8.46442331,   8.63734946,   8.79982669,   8.95250623,\n",
        "         8.91523449,   9.59918377,  10.45055283,  11.05001482,\n",
        "        11.60887388,  12.12892732,  12.40566595,  11.98916162,\n",
        "        14.31107174,  16.45394149,  18.41291727,  20.19014427])"
       ]
      }
     ],
     "prompt_number": 224
    },
    {
     "cell_type": "code",
     "collapsed": false,
     "input": [
      "# numerical derivative\n",
      "# source: http://web.archive.org/web/20110514123948/http://wiki.octave.org/wiki.pl?CategorySymbolic\n",
      "t = linspace(-6,6,100)\n",
      "#y = sin(t)\n",
      "import numpy as n\n",
      "y = t*t\n",
      "dydt = diff(y)/diff(t)\n",
      "plot(y)\n",
      "plot(dydt)\n",
      "legend(['y','dy/dt'])\n",
      "#plot(y)"
     ],
     "language": "python",
     "metadata": {},
     "outputs": [
      {
       "metadata": {},
       "output_type": "pyout",
       "prompt_number": 124,
       "text": [
        "<matplotlib.legend.Legend at 0xa643b86c>"
       ]
      },
      {
       "metadata": {},
       "output_type": "display_data",
       "png": "[encoded data removed]",
       "text": [
        "<matplotlib.figure.Figure at 0xa80d266c>"
       ]
      }
     ],
     "prompt_number": 124
    },
    {
     "cell_type": "code",
     "collapsed": false,
     "input": [
      "#plt.legend(['2009 Frontier', '2010 Frontier', 'Performance of \\'09 Frontier in 2010'], loc='lower right')\n",
      "plt.savefig('tutorial8.pdf', format='pdf')"
     ],
     "language": "python",
     "metadata": {},
     "outputs": []
    },
    {
     "cell_type": "code",
     "collapsed": false,
     "input": [
      "\n",
      "# QoreQuant\n",
      "# compinvesting-001\n",
      "# video 1 - 9 Computing inside a hedge fund .mp4\n",
      "\n",
      "#qstrader.py\n",
      "#qsoptimizer.py\n",
      "#qsforecaster.py\n",
      "\n",
      "#%reset\n",
      "\n",
      "import pandas as p\n",
      "import numpy as n\n",
      "import time\n",
      "from threading import Thread\n",
      "\t\n",
      "# Trading Algorithm\n",
      "class QsTrader(Thread):\n",
      "    def __init__(self):\n",
      "        Thread.__init__(self)\n",
      "        # getters\n",
      "        self.historical      = None\n",
      "        self.targetPortfolio = None\n",
      "        self.livePortfolio   = None\n",
      "        \n",
      "        # setters\n",
      "        self.orders = None\n",
      "        \n",
      "    def run(self):\n",
      "        while 1:\n",
      "            #self.check()\n",
      "            self.gotoMarket()\n",
      "            time.sleep(1e-1)            \n",
      "    \n",
      "    def getHistoricalPriceData(self):\n",
      "        ''\n",
      "        \n",
      "    # portfolio_X.h5\n",
      "    def getTargetPortfolio(self):\n",
      "        optimizer = QsOptimizer()\n",
      "        self.targetPortfolio = optimizer.generateTargetPortfolio()\n",
      "        return self.targetPortfolio\n",
      "        \n",
      "    # portfolio_LIVE.h5\n",
      "    def getLivePortfolio(self):\n",
      "        # live portfolio\n",
      "        # todo: get live portfolio from broker (keep persistent connection)\n",
      "        livePortfolio = p.DataFrame([100,-200,50,-500], index=['AAPL','BAC','BOA','DAL'], columns=['live_amount'])\n",
      "        self.livePortfolio = livePortfolio\n",
      "        return livePortfolio\n",
      "\n",
      "    # orders_V.h5\n",
      "    def generateOrders(self):\n",
      "        fname = 'orders_V.csv'\n",
      "        # orders\n",
      "        indx = []        \n",
      "        orders = p.DataFrame(n.zeros(len(indx)), index=indx, columns=['orders_amount'])\n",
      "        self.orders = orders\n",
      "        return orders\n",
      "\n",
      "    def sendOrders(self):\n",
      "        # send orders only if there are orders to send\n",
      "        # else do nothing        \n",
      "        if n.sum(n.array(self.orders)) != 0:\n",
      "            print 'detected pending orders.'\n",
      "            print self.orders\n",
      "            print 'sending orders to market..'\n",
      "            print\n",
      "    \n",
      "    def gotoMarket(self):\n",
      "        targetPortfolio = self.getTargetPortfolio()\n",
      "        #print 'target portfolio'\n",
      "        #print targetPortfolio\n",
      "        #print\n",
      "        livePortfolio = self.getLivePortfolio()\n",
      "        #print 'live portfolio'\n",
      "        #print livePortfolio\n",
      "        #print\n",
      "        orders = self.generateOrders()\n",
      "        #print 'orders'\n",
      "        #print orders\n",
      "        #print\n",
      "        #self.sendOrders()\n",
      "        \n",
      "        pp = p.DataFrame()\n",
      "        pp = pp.combine_first(targetPortfolio)\n",
      "        pp = pp.combine_first(livePortfolio)\n",
      "        pp = pp.combine_first(orders)\n",
      "        pp['orders_amount'] = n.diff(n.array(pp.ix[:,['live_amount','target_amount']]))\n",
      "        self.orders = pp.ix[:,'orders_amount'].fillna(0)        \n",
      "        self.orders = self.orders.ix[list(n.nonzero(n.array(self.orders != 0, dtype=int))[0])]\n",
      "        #print self.orders        \n",
      "        self.sendOrders()\n",
      "\n",
      "# Portfolio Optimizer\n",
      "class QsOptimizer:\n",
      "    def __init__(self):\n",
      "        # getters\n",
      "        self.livePortfolio   = None\n",
      "        self.nDayForecast    = None\n",
      "        self.riskConstraints = None\n",
      "        \n",
      "        # setters\n",
      "        self.targetPortfolio = None\n",
      "    \n",
      "    def getLivePortfolio(self):\n",
      "        trader = QsTrader()\n",
      "        self.livePortfolio = trader.getLivePortfolio()\n",
      "        \n",
      "    def getNDayForecast(self):\n",
      "        forecaster = QsForecaster()\n",
      "        self.forecaster = forecaster.getNDayForecast()\n",
      "        \n",
      "    def getRiskConstraints(self):\n",
      "        ''\n",
      "        \n",
      "    def generateTargetPortfolio(self):\n",
      "        # target portfolio\n",
      "        targetPortfolio = p.DataFrame([100,0,50,-550], index=['AAPL','BAC','BOA','DAL'], columns=['target_amount'])\n",
      "        self.targetPortfolio = targetPortfolio\n",
      "        return targetPortfolio\n",
      "\n",
      "# Forecasting Algorithm\n",
      "class QsForecaster:\n",
      "        def __init__(self):\n",
      "            # getters\n",
      "            self.informationFeed   = None\n",
      "            self.historical        = None\n",
      "            self.machineLearning   = None\n",
      "            \n",
      "            # setters\n",
      "            self.nDayForecast = Null\n",
      "        \n",
      "        def getInformationFeed(self):\n",
      "            ''\n",
      "        \n",
      "        def getHistorical(self):\n",
      "            trader = QsTrader()\n",
      "            self.historical = trader.getHistoricalPriceData()\n",
      "        \n",
      "        def getMachineLearning(self):\n",
      "            ''\n",
      "        \n",
      "        def generateNDayForecast(self):\n",
      "            ''\n",
      "    \n",
      "trader = QsTrader()\n",
      "\n",
      "def main():\n",
      "    trader.start()\n",
      "\n",
      "def test():\n",
      "    trader.gotoMarket()\n",
      "\n",
      "if __name__ == \"__main__\":\n",
      "    #main()\n",
      "    test()\n"
     ],
     "language": "python",
     "metadata": {},
     "outputs": [
      {
       "output_type": "stream",
       "stream": "stdout",
       "text": [
        "detected pending orders.\n",
        "BAC    200\n",
        "DAL    -50\n",
        "Name: orders_amount, dtype: float64\n",
        "sending orders to market..\n",
        "\n"
       ]
      }
     ],
     "prompt_number": 1
    }
   ],
   "metadata": {}
  }
 ]
}