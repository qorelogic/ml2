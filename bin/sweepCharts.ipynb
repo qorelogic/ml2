{
 "metadata": {
  "name": ""
 },
 "nbformat": 3,
 "nbformat_minor": 0,
 "worksheets": [
  {
   "cells": [
    {
     "cell_type": "code",
     "collapsed": false,
     "input": [
      "%reload_ext autoreload\n",
      "%autoreload 2\n",
      "from qoreliquid import *\n",
      "import pandas as p\n",
      "import numpy as n\n",
      "from pylab import rcParams\n",
      "rcParams['figure.figsize'] = 16, 5"
     ],
     "language": "python",
     "metadata": {},
     "outputs": []
    },
    {
     "cell_type": "code",
     "collapsed": false,
     "input": [
      "rcParams['figure.figsize'] = 16, 5\n",
      "# volume trades\n",
      "# source: http://stackoverflow.com/questions/13728392/moving-average-or-running-mean\n",
      "def runningMean(x, N):\n",
      "    y = np.zeros((len(x),))\n",
      "    for ctr in range(len(x)):\n",
      "         y[ctr] = np.sum(x[ctr:(ctr+N)])\n",
      "    return y/N\n",
      "\n",
      "# source: http://stackoverflow.com/questions/13728392/moving-average-or-running-mean\n",
      "def runningMeanFast(x, N):\n",
      "    x = x.transpose().get_values()[0]\n",
      "    return np.convolve(x, np.ones((N,))/N)[(N-1):]\n",
      "\n",
      "def visualizeVolume(dff, pair, granularity):\n",
      "    period = 20\n",
      "    dfa = dff.copy()\n",
      "    dfa = dfa.sort(ascending=False)\n",
      "    #dfa['ma {0} volume'.format(period)] = runningMean(dfa.ix[:,['volume']], period)\n",
      "    dfa['ma {0} volume'.format(period)] = runningMeanFast(dfa.ix[:,['volume']], period)\n",
      "    dfa['wqe'] = dfa.ix[:,'volume'] / dfa.ix[:, 'ma {0} volume'.format(period)]\n",
      "    dfa = dfa.sort(ascending=True)\n",
      "    \n",
      "    dfa = dfa.ix[20:, :]\n",
      "    dfa = normalizeme(dfa)\n",
      "    #dfa = sigmoidme(dfa)\n",
      "    dfa.plot(); \n",
      "    title('{0} {1}'.format(pair, granularity))\n",
      "    show()\n",
      "    \n",
      "    #trade = raw_input('trade?: ')\n",
      "    #trade\n",
      "    \n",
      "    #print dfa\n",
      "\n",
      "def sweepCharts(pair=None, granularity=None):\n",
      "    #if pair == None:\n",
      "       \n",
      "    df = qq.oanda2.get_history(instrument=pair, count=count, granularity=granularity)\n",
      "    #qq.oq.updateBarsFromOanda(pair=pair, granularities=' '.join([granularity]), plot=plot, noUpdate=noUpdate)\n",
      "    #break\n",
      "    dff = p.DataFrame(df['candles'])\n",
      "    dff = dff.ix[:, 'closeAsk closeBid volume'.split(' ')]\n",
      "    #dff = normalizeme(dff)\n",
      "    #dff = sigmoidme(dff)\n",
      "    #dff.plot(); show()\n",
      "    visualizeVolume(dff, pair, granularity)\n",
      "    #print dff\n",
      "    #break\n",
      "\n",
      "def sweepChartsConstantPair():\n",
      "    # contant pair, variable granularity\n",
      "    pair = pairs[0]\n",
      "    for granularity in granularities:\n",
      "        try:    sweepCharts(pair=pair, granularity=granularity)\n",
      "        except: ''\n",
      "\n",
      "def sweepChartsConstantGranularity(granularity, pairs, onlyTradedPairs=False):\n",
      "    # constant granularity, variable pair\n",
      "    #granularity = granularities[5]\n",
      "    opairs = pairs\n",
      "    \n",
      "    # view only pairs with open positions\n",
      "    if onlyTradedPairs == True:\n",
      "        try:\n",
      "            pairs = list(p.DataFrame(qq.oq.oanda2.get_positions(qq.oq.aid)['positions']).ix[:,'instrument'].get_values())\n",
      "        except:\n",
      "            pairs = opairs\n",
      "    \n",
      "    for pair in pairs:\n",
      "        try:    sweepCharts(pair=pair, granularity=granularity)\n",
      "        except: ''\n",
      "            \n",
      "qq = QoreQuant()\n",
      "pairs = 'EUR_USD AUD_USD USD_CAD USD_CHF'.split(' ' )\n",
      "pairs = ['EUR_USD', 'GBP_USD', 'AUD_USD', 'AUD_JPY', 'NZD_USD', 'NZD_EUR', 'USD_JPY',  'USD_CHF', 'USD_CAD','GBP_JPY', 'EUR_NZD', 'GBP_NZD', 'AUD_NZD', 'NZD_JPY']\n",
      "pair = pairs[3]\n",
      "granularities = list(p.DataFrame(['D','H4','H1','M30','M15','M5','M1','S10','S5']).sort(ascending=False).transpose().get_values()[0])\n",
      "count = 200\n",
      "plot=True\n",
      "noUpdate=True"
     ],
     "language": "python",
     "metadata": {},
     "outputs": []
    },
    {
     "cell_type": "code",
     "collapsed": false,
     "input": [
      "qq.oq.updateBarsFromOanda(pair=pair, granularities=' '.join([granularity]), plot=plot, noUpdate=noUpdate)\n",
      "#qq.oq.dfa.keys()"
     ],
     "language": "python",
     "metadata": {},
     "outputs": []
    },
    {
     "cell_type": "code",
     "collapsed": false,
     "input": [
      "sweepChartsConstantGranularity(granularities[2], pairs, onlyTradedPairs=True)"
     ],
     "language": "python",
     "metadata": {},
     "outputs": []
    },
    {
     "cell_type": "code",
     "collapsed": false,
     "input": [
      "sweepChartsConstantGranularity(granularities[2], pairs, onlyTradedPairs=False)"
     ],
     "language": "python",
     "metadata": {},
     "outputs": []
    },
    {
     "cell_type": "code",
     "collapsed": false,
     "input": [
      "#sweepChartsConstantPair()\n",
      "#sweepChartsConstantGranularity()"
     ],
     "language": "python",
     "metadata": {},
     "outputs": []
    },
    {
     "cell_type": "code",
     "collapsed": false,
     "input": [
      "sweepChartsConstantGranularity(granularities[0], pairs)"
     ],
     "language": "python",
     "metadata": {},
     "outputs": []
    },
    {
     "cell_type": "code",
     "collapsed": false,
     "input": [
      "sweepChartsConstantGranularity(granularities[1], pairs)"
     ],
     "language": "python",
     "metadata": {},
     "outputs": []
    },
    {
     "cell_type": "code",
     "collapsed": false,
     "input": [
      "sweepChartsConstantGranularity(granularities[2], pairs, onlyTradedPairs=True)"
     ],
     "language": "python",
     "metadata": {},
     "outputs": []
    },
    {
     "cell_type": "code",
     "collapsed": false,
     "input": [
      "sweepChartsConstantGranularity(granularities[3], pairs)"
     ],
     "language": "python",
     "metadata": {},
     "outputs": []
    },
    {
     "cell_type": "code",
     "collapsed": false,
     "input": [
      "sweepChartsConstantGranularity(granularities[4], pairs)"
     ],
     "language": "python",
     "metadata": {},
     "outputs": []
    },
    {
     "cell_type": "code",
     "collapsed": false,
     "input": [
      "sweepChartsConstantGranularity(granularities[5], pairs)"
     ],
     "language": "python",
     "metadata": {},
     "outputs": []
    },
    {
     "cell_type": "code",
     "collapsed": false,
     "input": [
      "sweepChartsConstantGranularity(granularities[6], pairs)"
     ],
     "language": "python",
     "metadata": {},
     "outputs": []
    },
    {
     "cell_type": "code",
     "collapsed": false,
     "input": [
      "sweepChartsConstantGranularity(granularities[7], pairs)"
     ],
     "language": "python",
     "metadata": {},
     "outputs": []
    },
    {
     "cell_type": "code",
     "collapsed": false,
     "input": [
      "sweepChartsConstantGranularity(granularities[8], pairs)"
     ],
     "language": "python",
     "metadata": {},
     "outputs": []
    },
    {
     "cell_type": "code",
     "collapsed": false,
     "input": [
      "qq.oq.oandaTransactionHistory()"
     ],
     "language": "python",
     "metadata": {},
     "outputs": []
    }
   ],
   "metadata": {}
  }
 ]
}