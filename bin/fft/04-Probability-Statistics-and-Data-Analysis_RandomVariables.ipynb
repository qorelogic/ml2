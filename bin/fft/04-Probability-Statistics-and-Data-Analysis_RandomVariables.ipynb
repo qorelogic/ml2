{
 "metadata": {
  "name": ""
 },
 "nbformat": 3,
 "nbformat_minor": 0,
 "worksheets": [
  {
   "cells": [
    {
     "cell_type": "heading",
     "level": 1,
     "metadata": {},
     "source": [
      "Random Variables"
     ]
    },
    {
     "cell_type": "markdown",
     "metadata": {},
     "source": [
      "Charles Boncelet, boncelet@udel.edu, 24 Feb 2014. Basics of PMF, CDF, and density.\n",
      "\n",
      "Some of these examples are taken from the Scipy ipython notebook by\n",
      "\n",
      "\"J.R. Johansson (robert@riken.jp) http://dml.riken.jp/~rob/\n",
      "The latest version of this IPython notebook lecture is available at http://github.com/jrjohansson/scientific-python-lectures.\n",
      "The other notebooks in this lecture series are indexed at http://jrjohansson.github.com.\""
     ]
    },
    {
     "cell_type": "code",
     "collapsed": false,
     "input": [
      "%pylab inline"
     ],
     "language": "python",
     "metadata": {},
     "outputs": [
      {
       "output_type": "stream",
       "stream": "stdout",
       "text": [
        "Populating the interactive namespace from numpy and matplotlib\n"
       ]
      }
     ],
     "prompt_number": 2
    },
    {
     "cell_type": "code",
     "collapsed": false,
     "input": [
      "from scipy import stats"
     ],
     "language": "python",
     "metadata": {},
     "outputs": [],
     "prompt_number": 3
    },
    {
     "cell_type": "heading",
     "level": 2,
     "metadata": {},
     "source": [
      "Discrete Random Variables"
     ]
    },
    {
     "cell_type": "code",
     "collapsed": false,
     "input": [
      "# create a (discrete) random variable with the Poisson distribution\n",
      "\n",
      "X = stats.poisson(3.5) "
     ],
     "language": "python",
     "metadata": {},
     "outputs": [],
     "prompt_number": 4
    },
    {
     "cell_type": "markdown",
     "metadata": {},
     "source": [
      "X is a Poisson random variable.  Let's plot it's PMF and CDF.  We use a matplotlib property to plot three different plots using the same x-axis.  Notice how the histogram approximates the PMF.  \n",
      "\n",
      "In the plots below, we take care to center the bars on the PMF and the histogram on the integers, i.e, the bars go from k-0.5 to k+0.5, but the jumps in the CDF are on the integers, i.e., the jump is at k.  Also, we specify the bins for the histogram.  The default number, 10 bins, can easily result in aliasing errors."
     ]
    },
    {
     "cell_type": "code",
     "collapsed": false,
     "input": [
      "X.pmf(arange(0,15))"
     ],
     "language": "python",
     "metadata": {},
     "outputs": [
      {
       "metadata": {},
       "output_type": "pyout",
       "prompt_number": 6,
       "text": [
        "array([  3.01973834e-02,   1.05690842e-01,   1.84958973e-01,\n",
        "         2.15785469e-01,   1.88812285e-01,   1.32168600e-01,\n",
        "         7.70983499e-02,   3.85491749e-02,   1.68652640e-02,\n",
        "         6.55871379e-03,   2.29554983e-03,   7.30402218e-04,\n",
        "         2.13033980e-04,   5.73553024e-05,   1.43388256e-05])"
       ]
      }
     ],
     "prompt_number": 6
    },
    {
     "cell_type": "code",
     "collapsed": false,
     "input": [
      "n = arange(0,15)\n",
      "\n",
      "fig, axes = subplots(3,1, sharex=True)\n",
      "\n",
      "# plot the probability mass function (PMF)\n",
      "# the 'where' keyword is optional, but 'mid' centers the plateaus on the integers\n",
      "axes[0].step(n, X.pmf(n), where='mid')\n",
      "\n",
      "# plot the commulative distribution function (CDF)\n",
      "# don't shift the CDF.  The jumps should occur at the integers\n",
      "axes[1].step(n, X.cdf(n))\n",
      "\n",
      "# plot histogram of 1000 random realizations of the stochastic variable X\n",
      "# shifting the bins by 0.5 centers each bar on the integer values\n",
      "axes[2].hist(X.rvs(size=1000), bins=arange(-0.5,15.5));"
     ],
     "language": "python",
     "metadata": {},
     "outputs": [
      {
       "metadata": {},
       "output_type": "display_data",
       "png": "[encoded data removed]",
       "text": [
        "<matplotlib.figure.Figure at 0x10bb81fd0>"
       ]
      }
     ],
     "prompt_number": 7
    },
    {
     "cell_type": "markdown",
     "metadata": {},
     "source": [
      "An alternative plot is a \"stem\" plot.  The two plots look ugly together.  Best to pick one. (I'm not sure how to fix the \"step\" plot so the first bar is full sized, not half sized as it is now.)"
     ]
    },
    {
     "cell_type": "code",
     "collapsed": false,
     "input": [
      "stem(n, X.pmf(n),'r')\n",
      "step(n, X.pmf(n), where='mid')"
     ],
     "language": "python",
     "metadata": {},
     "outputs": [
      {
       "metadata": {},
       "output_type": "pyout",
       "prompt_number": 8,
       "text": [
        "[<matplotlib.lines.Line2D at 0x10bd3b7d0>]"
       ]
      },
      {
       "metadata": {},
       "output_type": "display_data",
       "png": "[encoded data removed]",
       "text": [
        "<matplotlib.figure.Figure at 0x10bd3b850>"
       ]
      }
     ],
     "prompt_number": 8
    },
    {
     "cell_type": "code",
     "collapsed": false,
     "input": [
      "X.mean(), X.std(), X.var() # poission distribution"
     ],
     "language": "python",
     "metadata": {},
     "outputs": [
      {
       "metadata": {},
       "output_type": "pyout",
       "prompt_number": 9,
       "text": [
        "(3.5, 1.8708286933869707, 3.5)"
       ]
      }
     ],
     "prompt_number": 9
    },
    {
     "cell_type": "markdown",
     "metadata": {},
     "source": [
      "Let's try a binomial random variable."
     ]
    },
    {
     "cell_type": "code",
     "collapsed": false,
     "input": [
      "B = stats.binom(n=10,p=0.4)\n",
      "\n",
      "n = arange(0,11)\n",
      "\n",
      "fig, axes = subplots(3,1, sharex=True)\n",
      "\n",
      "# plot the probability mass function (PMF)\n",
      "#axes[0].step(n, B.pmf(n), where='mid')\n",
      "axes[0].stem(n, B.pmf(n))\n",
      "\n",
      "# plot the commulative distribution function (CDF)\n",
      "axes[1].step(n, B.cdf(n))\n",
      "\n",
      "# plot histogram of 1000 random realizations of the stochastic variable X\n",
      "axes[2].hist(B.rvs(size=1000), bins=arange(-0.5,11.5));"
     ],
     "language": "python",
     "metadata": {},
     "outputs": [
      {
       "metadata": {},
       "output_type": "display_data",
       "png": "[encoded data removed]",
       "text": [
        "<matplotlib.figure.Figure at 0x10bd83dd0>"
       ]
      }
     ],
     "prompt_number": 10
    },
    {
     "cell_type": "code",
     "collapsed": false,
     "input": [
      "bs = B.rvs(size=100)\n",
      "bs"
     ],
     "language": "python",
     "metadata": {},
     "outputs": [
      {
       "metadata": {},
       "output_type": "pyout",
       "prompt_number": 13,
       "text": [
        "array([3, 3, 5, 5, 7, 5, 5, 4, 5, 5, 4, 2, 4, 7, 4, 5, 5, 3, 6, 7, 4, 2, 5,\n",
        "       3, 6, 5, 5, 5, 5, 6, 1, 4, 3, 5, 2, 5, 2, 4, 3, 3, 5, 6, 4, 4, 5, 4,\n",
        "       5, 4, 2, 6, 5, 7, 3, 4, 5, 6, 4, 8, 4, 3, 6, 5, 3, 3, 4, 3, 4, 4, 5,\n",
        "       5, 2, 7, 4, 7, 2, 5, 5, 6, 5, 3, 3, 5, 3, 6, 5, 4, 4, 2, 1, 5, 2, 3,\n",
        "       4, 1, 3, 5, 3, 7, 3, 3])"
       ]
      }
     ],
     "prompt_number": 13
    },
    {
     "cell_type": "code",
     "collapsed": false,
     "input": [
      "hist(bs,bins=arange(-0.5,11.5))"
     ],
     "language": "python",
     "metadata": {},
     "outputs": [
      {
       "metadata": {},
       "output_type": "pyout",
       "prompt_number": 14,
       "text": [
        "(array([  0.,   3.,   9.,  20.,  21.,  30.,   9.,   7.,   1.,   0.,   0.]),\n",
        " array([ -0.5,   0.5,   1.5,   2.5,   3.5,   4.5,   5.5,   6.5,   7.5,\n",
        "         8.5,   9.5,  10.5]),\n",
        " <a list of 11 Patch objects>)"
       ]
      },
      {
       "metadata": {},
       "output_type": "display_data",
       "png": "[encoded data removed]",
       "text": [
        "<matplotlib.figure.Figure at 0x10bd9b1d0>"
       ]
      }
     ],
     "prompt_number": 14
    },
    {
     "cell_type": "markdown",
     "metadata": {},
     "source": [
      "Notice what happens when we don't specify the bins and use the default, 10 bins.  There's an aliasing problem.  The two histogram plots below are misleading."
     ]
    },
    {
     "cell_type": "code",
     "collapsed": false,
     "input": [
      "hist(bs)"
     ],
     "language": "python",
     "metadata": {},
     "outputs": [
      {
       "metadata": {},
       "output_type": "pyout",
       "prompt_number": 15,
       "text": [
        "(array([  3.,   9.,  20.,   0.,  21.,  30.,   0.,   9.,   7.,   1.]),\n",
        " array([ 1. ,  1.7,  2.4,  3.1,  3.8,  4.5,  5.2,  5.9,  6.6,  7.3,  8. ]),\n",
        " <a list of 10 Patch objects>)"
       ]
      },
      {
       "metadata": {},
       "output_type": "display_data",
       "png": "[encoded data removed]",
       "text": [
        "<matplotlib.figure.Figure at 0x10cd072d0>"
       ]
      }
     ],
     "prompt_number": 15
    },
    {
     "cell_type": "markdown",
     "metadata": {},
     "source": [
      "Here's another misleading histogram.  This time there are too few bins."
     ]
    },
    {
     "cell_type": "code",
     "collapsed": false,
     "input": [
      "hist(bs,bins=5)"
     ],
     "language": "python",
     "metadata": {},
     "outputs": [
      {
       "metadata": {},
       "output_type": "pyout",
       "prompt_number": 16,
       "text": [
        "(array([ 12.,  20.,  51.,   9.,   8.]),\n",
        " array([ 1. ,  2.4,  3.8,  5.2,  6.6,  8. ]),\n",
        " <a list of 5 Patch objects>)"
       ]
      },
      {
       "metadata": {},
       "output_type": "display_data",
       "png": "[encoded data removed]",
       "text": [
        "<matplotlib.figure.Figure at 0x10bd40210>"
       ]
      }
     ],
     "prompt_number": 16
    },
    {
     "cell_type": "markdown",
     "metadata": {},
     "source": [
      "## Continuous Random Variables"
     ]
    },
    {
     "cell_type": "code",
     "collapsed": false,
     "input": [
      "# create a (continous) random variable with normal distribution\n",
      "Z = stats.norm()"
     ],
     "language": "python",
     "metadata": {},
     "outputs": [],
     "prompt_number": 18
    },
    {
     "cell_type": "code",
     "collapsed": false,
     "input": [
      "x = linspace(-4,4,100)\n",
      "\n",
      "fig, axes = subplots(3,1, sharex=True)\n",
      "\n",
      "# plot the probability distribution function (PDF)\n",
      "axes[0].plot(x, Z.pdf(x))\n",
      "\n",
      "# plot the commulative distributin function (CDF)\n",
      "axes[1].plot(x, Z.cdf(x));\n",
      "\n",
      "# plot histogram of 1000 random realizations of the stochastic variable Y\n",
      "axes[2].hist(Z.rvs(size=1000), bins=50);"
     ],
     "language": "python",
     "metadata": {},
     "outputs": [
      {
       "metadata": {},
       "output_type": "display_data",
       "png": "[encoded data removed]",
       "text": [
        "<matplotlib.figure.Figure at 0x10da87d50>"
       ]
      }
     ],
     "prompt_number": 19
    },
    {
     "cell_type": "code",
     "collapsed": false,
     "input": [
      "Z.mean(), Z.std(), Z.var() # normal distribution"
     ],
     "language": "python",
     "metadata": {},
     "outputs": [
      {
       "metadata": {},
       "output_type": "pyout",
       "prompt_number": 20,
       "text": [
        "(0.0, 1.0, 1.0)"
       ]
      }
     ],
     "prompt_number": 20
    },
    {
     "cell_type": "code",
     "collapsed": false,
     "input": [
      "#help(hist)"
     ],
     "language": "python",
     "metadata": {},
     "outputs": []
    },
    {
     "cell_type": "code",
     "collapsed": false,
     "input": [],
     "language": "python",
     "metadata": {},
     "outputs": []
    }
   ],
   "metadata": {}
  }
 ]
}