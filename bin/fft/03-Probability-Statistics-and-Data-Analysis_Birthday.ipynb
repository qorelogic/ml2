{
 "metadata": {
  "name": ""
 },
 "nbformat": 3,
 "nbformat_minor": 0,
 "worksheets": [
  {
   "cells": [
    {
     "cell_type": "heading",
     "level": 1,
     "metadata": {},
     "source": [
      "Birthday and Chuck-A-Luck Simulation"
     ]
    },
    {
     "cell_type": "markdown",
     "metadata": {},
     "source": [
      "We introduce numpy and show some of its properties.  Then we solve the birthday problem and simulate Chuck-A-Luck.  In a later homework problem, you will compute the expected value of Chuck-A-Luck."
     ]
    },
    {
     "cell_type": "code",
     "collapsed": false,
     "input": [
      "%pylab inline"
     ],
     "language": "python",
     "metadata": {},
     "outputs": [
      {
       "output_type": "stream",
       "stream": "stdout",
       "text": [
        "Populating the interactive namespace from numpy and matplotlib\n"
       ]
      },
      {
       "output_type": "stream",
       "stream": "stderr",
       "text": [
        "WARNING: pylab import has clobbered these variables: ['xlim']\n",
        "`%pylab --no-import-all` prevents importing * from pylab and numpy\n"
       ]
      }
     ],
     "prompt_number": 37
    },
    {
     "cell_type": "markdown",
     "metadata": {},
     "source": [
      "First, let's see a quick introduction to python and numpy"
     ]
    },
    {
     "cell_type": "heading",
     "level": 2,
     "metadata": {},
     "source": [
      "Python Division"
     ]
    },
    {
     "cell_type": "markdown",
     "metadata": {},
     "source": [
      "Beware when doing calculations involving division, especially using integers. Python has two division operators: '/' is normal division, '//' is integer division.  Integer divided by integer is an integer.  To get a float, at least one of the numbers must be a float."
     ]
    },
    {
     "cell_type": "code",
     "collapsed": false,
     "input": [
      "print 1/6, 1.0/6, 5/4, 5/4., 1.//6., 5//4, 5.//4, divmod(9,4)"
     ],
     "language": "python",
     "metadata": {},
     "outputs": [
      {
       "output_type": "stream",
       "stream": "stdout",
       "text": [
        "0 0.166666666667 1 1.25 0.0 1 1.0 (2, 1)\n"
       ]
      }
     ],
     "prompt_number": 39
    },
    {
     "cell_type": "heading",
     "level": 2,
     "metadata": {},
     "source": [
      "Example Numpy Calculations"
     ]
    },
    {
     "cell_type": "markdown",
     "metadata": {},
     "source": [
      "The import below isn't necessary as the pylab command above imports everything from both numpy and pylab.  We include it here just to show the command."
     ]
    },
    {
     "cell_type": "code",
     "collapsed": false,
     "input": [
      "import numpy as np\n",
      "1.0*np.arange(12), range(12), range(13,16)"
     ],
     "language": "python",
     "metadata": {},
     "outputs": [
      {
       "metadata": {},
       "output_type": "pyout",
       "prompt_number": 49,
       "text": [
        "(array([  0.,   1.,   2.,   3.,   4.,   5.,   6.,   7.,   8.,   9.,  10.,\n",
        "        11.]),\n",
        " [0, 1, 2, 3, 4, 5, 6, 7, 8, 9, 10, 11],\n",
        " [13, 14, 15])"
       ]
      }
     ],
     "prompt_number": 49
    },
    {
     "cell_type": "markdown",
     "metadata": {},
     "source": [
      "Vectors and matrices are numpy *arrays*."
     ]
    },
    {
     "cell_type": "code",
     "collapsed": false,
     "input": [
      "l = [1,2,3] #python list\n",
      "a = array(l)\n",
      "a"
     ],
     "language": "python",
     "metadata": {},
     "outputs": [
      {
       "metadata": {},
       "output_type": "pyout",
       "prompt_number": 50,
       "text": [
        "array([1, 2, 3])"
       ]
      }
     ],
     "prompt_number": 50
    },
    {
     "cell_type": "code",
     "collapsed": false,
     "input": [
      "print a.shape, a.size, a.dtype, a.ndim"
     ],
     "language": "python",
     "metadata": {},
     "outputs": [
      {
       "output_type": "stream",
       "stream": "stdout",
       "text": [
        "(3,) 3 int64 1\n"
       ]
      }
     ],
     "prompt_number": 51
    },
    {
     "cell_type": "code",
     "collapsed": false,
     "input": [
      "z = zeros(3)\n",
      "x = ones(3)\n",
      "z,x"
     ],
     "language": "python",
     "metadata": {},
     "outputs": [
      {
       "metadata": {},
       "output_type": "pyout",
       "prompt_number": 52,
       "text": [
        "(array([ 0.,  0.,  0.]), array([ 1.,  1.,  1.]))"
       ]
      }
     ],
     "prompt_number": 52
    },
    {
     "cell_type": "markdown",
     "metadata": {},
     "source": [
      "Arithmetic is elementwise."
     ]
    },
    {
     "cell_type": "code",
     "collapsed": false,
     "input": [
      "a+10, a*20, a+x, a*a, exp(a), a>2, a*(a>2), a[0], a[2], a[a>2]"
     ],
     "language": "python",
     "metadata": {},
     "outputs": [
      {
       "metadata": {},
       "output_type": "pyout",
       "prompt_number": 55,
       "text": [
        "(array([11, 12, 13]),\n",
        " array([20, 40, 60]),\n",
        " array([ 2.,  3.,  4.]),\n",
        " array([1, 4, 9]),\n",
        " array([  2.71828183,   7.3890561 ,  20.08553692]),\n",
        " array([False, False,  True], dtype=bool),\n",
        " array([0, 0, 3]),\n",
        " 1,\n",
        " 3,\n",
        " array([3]))"
       ]
      }
     ],
     "prompt_number": 55
    },
    {
     "cell_type": "markdown",
     "metadata": {},
     "source": [
      "2D Arrays"
     ]
    },
    {
     "cell_type": "code",
     "collapsed": false,
     "input": [
      "A = arange(12).reshape(4,3)\n",
      "print A\n",
      "print A.shape, A.size, A.dtype, A.ndim"
     ],
     "language": "python",
     "metadata": {},
     "outputs": [
      {
       "output_type": "stream",
       "stream": "stdout",
       "text": [
        "[[ 0  1  2]\n",
        " [ 3  4  5]\n",
        " [ 6  7  8]\n",
        " [ 9 10 11]]\n",
        "(4, 3) 12 int64 2\n"
       ]
      }
     ],
     "prompt_number": 61
    },
    {
     "cell_type": "code",
     "collapsed": false,
     "input": [
      "2*A+5"
     ],
     "language": "python",
     "metadata": {},
     "outputs": [
      {
       "metadata": {},
       "output_type": "pyout",
       "prompt_number": 64,
       "text": [
        "array([[ 5,  7,  9],\n",
        "       [11, 13, 15],\n",
        "       [17, 19, 21],\n",
        "       [23, 25, 27]])"
       ]
      }
     ],
     "prompt_number": 64
    },
    {
     "cell_type": "markdown",
     "metadata": {},
     "source": [
      "Broadcasting: if possible, smaller arrays extended to bigger array."
     ]
    },
    {
     "cell_type": "code",
     "collapsed": false,
     "input": [
      "A+a, A*a"
     ],
     "language": "python",
     "metadata": {},
     "outputs": [
      {
       "metadata": {},
       "output_type": "pyout",
       "prompt_number": 17,
       "text": [
        "(array([[ 1,  3,  5],\n",
        "       [ 4,  6,  8],\n",
        "       [ 7,  9, 11],\n",
        "       [10, 12, 14]]),\n",
        " array([[ 0,  2,  6],\n",
        "       [ 3,  8, 15],\n",
        "       [ 6, 14, 24],\n",
        "       [ 9, 20, 33]]))"
       ]
      }
     ],
     "prompt_number": 17
    },
    {
     "cell_type": "markdown",
     "metadata": {},
     "source": [
      "Multiplication is element-wise.  To get the linear algebra multiplication, use the *dot* function."
     ]
    },
    {
     "cell_type": "code",
     "collapsed": false,
     "input": [
      "A * A, A**3"
     ],
     "language": "python",
     "metadata": {},
     "outputs": [
      {
       "metadata": {},
       "output_type": "pyout",
       "prompt_number": 67,
       "text": [
        "(array([[  0,   1,   4],\n",
        "       [  9,  16,  25],\n",
        "       [ 36,  49,  64],\n",
        "       [ 81, 100, 121]]),\n",
        " array([[   0,    1,    8],\n",
        "       [  27,   64,  125],\n",
        "       [ 216,  343,  512],\n",
        "       [ 729, 1000, 1331]]))"
       ]
      }
     ],
     "prompt_number": 67
    },
    {
     "cell_type": "code",
     "collapsed": false,
     "input": [
      "dot(A,(x+1))"
     ],
     "language": "python",
     "metadata": {},
     "outputs": [
      {
       "metadata": {},
       "output_type": "pyout",
       "prompt_number": 69,
       "text": [
        "array([  6.,  24.,  42.,  60.])"
       ]
      }
     ],
     "prompt_number": 69
    },
    {
     "cell_type": "markdown",
     "metadata": {},
     "source": [
      "Use the transpose operator and dot product to compute $A^T A$."
     ]
    },
    {
     "cell_type": "code",
     "collapsed": false,
     "input": [
      "dot(A.T,A)"
     ],
     "language": "python",
     "metadata": {},
     "outputs": [
      {
       "metadata": {},
       "output_type": "pyout",
       "prompt_number": 20,
       "text": [
        "array([[126, 144, 162],\n",
        "       [144, 166, 188],\n",
        "       [162, 188, 214]])"
       ]
      }
     ],
     "prompt_number": 20
    },
    {
     "cell_type": "code",
     "collapsed": false,
     "input": [
      "ones(9).reshape(3,3)"
     ],
     "language": "python",
     "metadata": {},
     "outputs": [
      {
       "metadata": {},
       "output_type": "pyout",
       "prompt_number": 71,
       "text": [
        "array([[ 1.,  1.,  1.],\n",
        "       [ 1.,  1.,  1.],\n",
        "       [ 1.,  1.,  1.]])"
       ]
      }
     ],
     "prompt_number": 71
    },
    {
     "cell_type": "code",
     "collapsed": false,
     "input": [
      "outer(ones(3),ones(3))"
     ],
     "language": "python",
     "metadata": {},
     "outputs": [
      {
       "metadata": {},
       "output_type": "pyout",
       "prompt_number": 73,
       "text": [
        "array([[ 1.,  1.,  1.],\n",
        "       [ 1.,  1.,  1.],\n",
        "       [ 1.,  1.,  1.]])"
       ]
      }
     ],
     "prompt_number": 73
    },
    {
     "cell_type": "code",
     "collapsed": false,
     "input": [
      "X = eye(3)+dot(ones(3),ones(3).T)\n",
      "X"
     ],
     "language": "python",
     "metadata": {},
     "outputs": [
      {
       "metadata": {},
       "output_type": "pyout",
       "prompt_number": 21,
       "text": [
        "array([[ 4.,  3.,  3.],\n",
        "       [ 3.,  4.,  3.],\n",
        "       [ 3.,  3.,  4.]])"
       ]
      }
     ],
     "prompt_number": 21
    },
    {
     "cell_type": "code",
     "collapsed": false,
     "input": [
      "inv(X), dot(X,inv(X))"
     ],
     "language": "python",
     "metadata": {},
     "outputs": [
      {
       "metadata": {},
       "output_type": "pyout",
       "prompt_number": 22,
       "text": [
        "(array([[ 0.7, -0.3, -0.3],\n",
        "       [-0.3,  0.7, -0.3],\n",
        "       [-0.3, -0.3,  0.7]]),\n",
        " array([[  1.00000000e+00,   0.00000000e+00,   0.00000000e+00],\n",
        "       [ -2.22044605e-16,   1.00000000e+00,   0.00000000e+00],\n",
        "       [ -2.22044605e-16,   0.00000000e+00,   1.00000000e+00]]))"
       ]
      }
     ],
     "prompt_number": 22
    },
    {
     "cell_type": "heading",
     "level": 2,
     "metadata": {},
     "source": [
      "Birthday Problem"
     ]
    },
    {
     "cell_type": "code",
     "collapsed": false,
     "input": [
      "n = 365\n",
      "days = arange(1,n+1)\n",
      "p = 1.0*(n+1-days)/n #float division\n",
      "probnopair = cumprod(p)\n",
      "sum(probnopair>0.5)"
     ],
     "language": "python",
     "metadata": {},
     "outputs": [
      {
       "metadata": {},
       "output_type": "pyout",
       "prompt_number": 23,
       "text": [
        "22"
       ]
      }
     ],
     "prompt_number": 23
    },
    {
     "cell_type": "code",
     "collapsed": false,
     "input": [
      "xupper = 30\n",
      "cutoff = 23\n",
      "plot(days[:xupper],probnopair[:xupper],days[:xupper],probnopair[:xupper],'.')\n",
      "axvline(x=cutoff,color='r')\n",
      "axhline(y=0.5)\n",
      "xlabel('Number of People in Group')\n",
      "ylabel('Probability of No Match')"
     ],
     "language": "python",
     "metadata": {},
     "outputs": [
      {
       "metadata": {},
       "output_type": "pyout",
       "prompt_number": 93,
       "text": [
        "<matplotlib.text.Text at 0x10ded0c90>"
       ]
      },
      {
       "metadata": {},
       "output_type": "display_data",
       "png": "[encoded data removed]",
       "text": [
        "<matplotlib.figure.Figure at 0x10dec7850>"
       ]
      }
     ],
     "prompt_number": 93
    },
    {
     "cell_type": "code",
     "collapsed": false,
     "input": [
      "probnopair[21],probnopair[22] #python arrays start from 0, not 1."
     ],
     "language": "python",
     "metadata": {},
     "outputs": [
      {
       "metadata": {},
       "output_type": "pyout",
       "prompt_number": 25,
       "text": [
        "(0.5243046923374497, 0.4927027656760144)"
       ]
      }
     ],
     "prompt_number": 25
    },
    {
     "cell_type": "heading",
     "level": 2,
     "metadata": {},
     "source": [
      "Chuck-A-Luck"
     ]
    },
    {
     "cell_type": "markdown",
     "metadata": {},
     "source": [
      "Chuck-A-Luck is a dice game that is sometimes played at carnivals and charity events.  The player pays 1 USD, selects a number between 1 and 6, and rolls 3 dice.  If the player's number comes up once, the player wins 1 USD; if it comes up twice, the player wins 2 USD; and if thrice, wins 3 USD (in one variation, 10 USD).\n",
      "\n",
      "(Sorry for the European notation, but there doesn't seem to be a way of getting dollar signs properly displayed.  Ipython uses dollar signs to delimit inline math, e.g., $x^2+y^2=z^2$.)"
     ]
    },
    {
     "cell_type": "code",
     "collapsed": false,
     "input": [
      "dice = 3\n",
      "throws = 1000\n",
      "p = 1./6"
     ],
     "language": "python",
     "metadata": {},
     "outputs": [],
     "prompt_number": 112
    },
    {
     "cell_type": "code",
     "collapsed": false,
     "input": [
      "import scipy.stats\n",
      "bernoulli = scipy.stats.bernoulli\n",
      "rolls = bernoulli.rvs(p,size=dice*throws).reshape(throws,dice)\n",
      "counts = sum(rolls,1)"
     ],
     "language": "python",
     "metadata": {},
     "outputs": [],
     "prompt_number": 113
    },
    {
     "cell_type": "markdown",
     "metadata": {},
     "source": [
      "We use what python calls \"fancy indexing\" to transform the number of correct dice in each throw to the amount won or lost on each throw. It uses an implied for loop over the entries in *counts*.  If the i'th entry in *counts* is k, then payouts[k] is selected.  (You can also use the numpy *take* function to get the same effect.)"
     ]
    },
    {
     "cell_type": "code",
     "collapsed": false,
     "input": [
      "payouts = array([-1,1,2,10])\n",
      "#winnings = take(payouts,counts) #alternative function\n",
      "winnings = payouts[counts]\n",
      "print 'counts = ', counts[:20]\n",
      "print 'winnings = ', winnings[:20]"
     ],
     "language": "python",
     "metadata": {},
     "outputs": [
      {
       "output_type": "stream",
       "stream": "stdout",
       "text": [
        "counts =  [1 0 0 0 1 1 0 1 0 1 0 0 0 0 0 0 1 0 3 0]\n",
        "winnings =  [ 1 -1 -1 -1  1  1 -1  1 -1  1 -1 -1 -1 -1 -1 -1  1 -1 10 -1]\n"
       ]
      }
     ],
     "prompt_number": 114
    },
    {
     "cell_type": "code",
     "collapsed": false,
     "input": [
      "totals = cumsum(winnings)\n",
      "plot(totals)\n",
      "axhline(y=0.0)"
     ],
     "language": "python",
     "metadata": {},
     "outputs": [
      {
       "metadata": {},
       "output_type": "pyout",
       "prompt_number": 115,
       "text": [
        "<matplotlib.lines.Line2D at 0x10e5c3510>"
       ]
      },
      {
       "metadata": {},
       "output_type": "display_data",
       "png": "[encoded data removed]",
       "text": [
        "<matplotlib.figure.Figure at 0x10d5af450>"
       ]
      }
     ],
     "prompt_number": 115
    },
    {
     "cell_type": "markdown",
     "metadata": {},
     "source": [
      "Let's compute the running average of winnings.  The sample average should approach the expected value as n tends to infinity."
     ]
    },
    {
     "cell_type": "code",
     "collapsed": false,
     "input": [
      "averages = 1.0 * totals/arange(1,throws+1)\n",
      "plot(averages)\n",
      "axhline(y=0.0)"
     ],
     "language": "python",
     "metadata": {},
     "outputs": [
      {
       "metadata": {},
       "output_type": "pyout",
       "prompt_number": 116,
       "text": [
        "<matplotlib.lines.Line2D at 0x10e916b10>"
       ]
      },
      {
       "metadata": {},
       "output_type": "display_data",
       "png": "[encoded data removed]",
       "text": [
        "<matplotlib.figure.Figure at 0x10e5345d0>"
       ]
      }
     ],
     "prompt_number": 116
    },
    {
     "cell_type": "code",
     "collapsed": false,
     "input": [
      "averages[-1] #last average"
     ],
     "language": "python",
     "metadata": {},
     "outputs": [
      {
       "metadata": {},
       "output_type": "pyout",
       "prompt_number": 117,
       "text": [
        "-0.043999999999999997"
       ]
      }
     ],
     "prompt_number": 117
    },
    {
     "cell_type": "markdown",
     "metadata": {},
     "source": [
      "----\n",
      "Charles Boncelet, 25 Feb 2014"
     ]
    }
   ],
   "metadata": {}
  }
 ]
}