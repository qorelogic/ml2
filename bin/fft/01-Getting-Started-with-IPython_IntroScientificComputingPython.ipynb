{
 "cells": [
  {
   "cell_type": "markdown",
   "metadata": {},
   "source": [
    "# Introduction to Scientific Computing with Python"
   ]
  },
  {
   "cell_type": "markdown",
   "metadata": {},
   "source": [
    "This webpage/ipython notebook is for students (and others) who want to learn how to use Python for computations that arise in engineering and scientific problems.  \n",
    "\n",
    "Python is a fantastic language for scientific computing.  It isn't Matlab, or Mathematica, or Maple, or R, but has features of all of them.  Python is clearly on track to be the platform of choice for open source computing."
   ]
  },
  {
   "cell_type": "markdown",
   "metadata": {},
   "source": [
    "## Get Python and Lots of Libraries"
   ]
  },
  {
   "cell_type": "markdown",
   "metadata": {},
   "source": [
    "*Python* is a simple and general purpose language.  By itself, it isn't too useful.  But it becomes very powerful when combined with many libraries, covering all sorts of things.\n",
    "\n",
    "While you can try to install Python and then lots of libraries one at a time, it is easiest (and likely best) to install a \"batteries included\" package.  I can recommend the following packages:\n",
    "\n",
    "* [Canopy](https://www.enthought.com/products/canopy/).  This is the package I use.  It comes with lots of libraries (more than 100).  It's free to academic users, but you have to ask for an academic license from Enthought.\n",
    "\n",
    "* [Anacoda](https://store.continuum.io/cshop/anaconda/).  This is newer than Canopy (I started with Canopy before Anaconda was available).  Lots of people recommend Anaconda.  It is free without any license issues and has lots of libraries.\n",
    "\n",
    "Unfortunately it does not seem possible (at least on my Mac) to run both Canopy and Anaconda on the same machine (to test them out).  They seem to conflict with each other."
   ]
  },
  {
   "cell_type": "markdown",
   "metadata": {},
   "source": [
    "## Necessary Libraries"
   ]
  },
  {
   "cell_type": "markdown",
   "metadata": {},
   "source": [
    "Here is a brief list of libraries we need.  All of these libraries are included in Anaconda and Canopy:\n",
    "\n",
    "* *ipython* is an enhanced python shell.  We use it two different ways:\n",
    "\n",
    "    * as an enhanced python shell.  I never run the standard python shell; I always run ipython. Ipython has a better command memory and feature system and allows \"shell-like\" commands like \"ls\", \"cd\", and \"pwd\".\n",
    "    \n",
    "    * the ipython *notebook*.  The Ipython Notebook is an outstanding addition to the python arsenal. You must understand and use the ipython notebook.  It allows the inclusion of text, multimedia, code, and output in the same file.  \n",
    "    \n",
    "* *numpy* gives python vectors and matrices (both called \"arrays\" in numpy).  The syntax is close to, but not identical, to Matlab's matrix syntax.\n",
    "\n",
    "* *scipy* adds many numerical library functions, a la Matlab's tooboxes.  Some interesting scipy libraries are the following:\n",
    "\n",
    "    * *scipy.signal* adds many Matlab-style signal processing functions, e.g., filter design, Fourier transforms, etc.\n",
    "    \n",
    "    * *scipy.linalg* adds linear algebra functions, e.g., least squares, eigenvalue/eigenvectors, etc.\n",
    "    \n",
    "    * *scipy.special* adds special functions, e.g., Bessel functions, error function, etc.\n",
    "\n",
    "* *matplotlib* (also known as *pylab*) gives Matlab-style plotting routines.  \n",
    "\n",
    "Some additional libraries after the ones above are mastered:\n",
    "\n",
    "* *pandas* provides data manipulation routines.  If your data looks like a table (various rows with named columns) then you probably want to consider pandas.\n",
    "\n",
    "* *scikits.learn* is widely used for classification problems.  Most Kaggle competitors use python and scikit.learn.\n",
    "\n",
    "* *statsmodels* provides data fitting (linear regression) routines.\n",
    "\n",
    "* *sympy* does symbolic manipulation (algebra) like Maple or Macsyma."
   ]
  },
  {
   "cell_type": "markdown",
   "metadata": {},
   "source": [
    "## Running IPython Notebooks Online"
   ]
  },
  {
   "cell_type": "markdown",
   "metadata": {},
   "source": [
    "I am aware of two online services for running IPython notebooks.  I.e., these do not require you to have a running IPython interpreter locally.  \n",
    "\n",
    "* [wakari.io](https://www.wakari.io/)  Run by the same people that provide the *Anaconda* distribution.\n",
    "\n",
    "* [SageMathCloud](https://cloud.sagemath.com/) Part of the *Sage* project, SageMathCloud provides an online environment for running Sage and IPython code.\n",
    "\n",
    "Note, while I have tried both, I haven't used either of these services enough to endorse them.  At this point, I merely note they exist."
   ]
  },
  {
   "cell_type": "markdown",
   "metadata": {},
   "source": [
    "## Tutorials"
   ]
  },
  {
   "cell_type": "markdown",
   "metadata": {},
   "source": [
    "There are many tutorials available on the web.  I am a big believer in the ipython notebook.  These are ipython notebook based tutorials:\n",
    "\n",
    "* [Johansson's Lectures](http://nbviewer.ipython.org/github/jrjohansson/scientific-python-lectures/tree/master/) These are a series of Ipython notebooks on python, ipython, numpy, scipy, matplotlib, sympy, and others. These tutorials are a **must**.  Read them, do them, change the code and see what happens.\n",
    "\n",
    "* [Gallery of Interesting Ipython Notebooks](https://github.com/ipython/ipython/wiki/A-gallery-of-interesting-IPython-Notebooks)  Many Ipython notebooks, on many subjects.\n",
    "\n",
    "* [Wakari Gallery](https://www.wakari.io/gallery) The Johansson lectures and a few others.\n",
    "\n",
    "* [Boncelet's Ipython Gallery](http://www.eecis.udel.edu/~boncelet/ipython.html) I've started my own gallery of IPython notebooks, focusing mostly on two topics: (1) Probability, Statistics, and Data Analysis, and (2) Digital Signal Processing.  The gallery is small now, but I will be adding more over time."
   ]
  },
  {
   "cell_type": "markdown",
   "metadata": {},
   "source": [
    "## Video Tutorials"
   ]
  },
  {
   "cell_type": "markdown",
   "metadata": {},
   "source": [
    "There are *lots* of video tutorials out there.  Here are some links:\n",
    "\n",
    "* [Pyvideo.org](http://pyvideo.org/) Lots of videos, indeed thousands of videos.  Pay attention to the videos of talks (especially the tutorials) from recent python oriented conferences, e.g., Scipy 2013 and Scipy 2014.\n",
    "\n",
    "* [Scipy Conferences](http://conference.scipy.org/) You may want to get the Scipy talks directly from here."
   ]
  },
  {
   "cell_type": "markdown",
   "metadata": {},
   "source": [
    "## Other Tutorials"
   ]
  },
  {
   "cell_type": "markdown",
   "metadata": {},
   "source": [
    "* [Scipy-lectures](https://scipy-lectures.github.io/index.html)"
   ]
  },
  {
   "cell_type": "markdown",
   "metadata": {},
   "source": [
    "-------------------\n",
    "Charles Boncelet   \n",
    "boncelet@udel.edu   \n",
    "27 August 2014"
   ]
  }
 ],
 "metadata": {
  "kernelspec": {
   "display_name": "Python 2",
   "language": "python",
   "name": "python2"
  },
  "language_info": {
   "codemirror_mode": {
    "name": "ipython",
    "version": 2
   },
   "file_extension": ".py",
   "mimetype": "text/x-python",
   "name": "python",
   "nbconvert_exporter": "python",
   "pygments_lexer": "ipython2",
   "version": "2.7.6"
  }
 },
 "nbformat": 4,
 "nbformat_minor": 0
}
