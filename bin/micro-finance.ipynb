{
 "metadata": {
  "name": ""
 },
 "nbformat": 3,
 "nbformat_minor": 0,
 "worksheets": [
  {
   "cells": [
    {
     "cell_type": "code",
     "collapsed": false,
     "input": [
      "import pandas as p\n",
      "import numpy as n\n",
      "from qoreliquid import *\n",
      "fm = FinancialModel()\n",
      "import ujson as j"
     ],
     "language": "python",
     "metadata": {},
     "outputs": []
    },
    {
     "cell_type": "code",
     "collapsed": false,
     "input": [
      "for n in xrange(1,4):\n",
      "    ft = fetchURL('https://www.quandl.com/api/v2/datasets.json?query=*&source_code=BNP&per_page=300&page={0}'.format(n))\n",
      "    for i in ft:\n",
      "        print i\n",
      "        #print i['sources']\n",
      "    for i in ft['sources']:\n",
      "        print p.DataFrame(i, index=[0]).transpose()"
     ],
     "language": "python",
     "metadata": {},
     "outputs": []
    },
    {
     "cell_type": "code",
     "collapsed": false,
     "input": [
      "te = fetchURL('http://coinmarketcap.northpole.ro/api/all.json')\n",
      "df = p.DataFrame()\n",
      "for i in xrange(len(te['markets'])):\n",
      "    df = df.combine_first(p.DataFrame(te['markets'][i], index=[i]))\n",
      "print df.set_index('id').ix['doge', :]['price']\n",
      "#print df"
     ],
     "language": "python",
     "metadata": {},
     "outputs": []
    },
    {
     "cell_type": "code",
     "collapsed": false,
     "input": [
      "te = fetchURL('http://api.bitcoincharts.com/v1/markets.json')\n",
      "te = p.DataFrame(te)\n",
      "#for i in te:\n",
      "#    #print i\n",
      "#    print i['currency']\n",
      "#    print i['symbol']"
     ],
     "language": "python",
     "metadata": {},
     "outputs": []
    },
    {
     "cell_type": "code",
     "collapsed": false,
     "input": [
      "import socket, telnetlib\n",
      "import pandas as p\n",
      "import ujson as j\n",
      "\n",
      "try:\n",
      "    timeout = 10\n",
      "    host = 'api.bitcoincharts.com'\n",
      "    session = telnetlib.Telnet(host, 27007, timeout)\n",
      "except socket.timeout:\n",
      "    print (\"socket timeout\")\n",
      "else:\n",
      "    #print(\"Sending Commands...\")\n",
      "    session.write(\"command\".encode('ascii') + b\"\\r\")\n",
      "    #print(\"Reading...\")\n",
      "    #output = session.read_until(b\"/r/n/r/n#>\", timeout )\n",
      "    while True:\n",
      "        jt = session.read_lazy()\n",
      "        #print j.loads(jt)\n",
      "        print jt\n",
      "    session.close()\n",
      "    print(output)\n",
      "    print(\"Done\")"
     ],
     "language": "python",
     "metadata": {},
     "outputs": []
    },
    {
     "cell_type": "code",
     "collapsed": false,
     "input": [
      "2611792.36621\n",
      "pks = \"\"\"DBHAPfBRc7L7WTcr2Cnf6tfvTRtdKEpnkF\n",
      "DF8KLrs9EAhXAJrgSKwjJieYGyG3qUbzhK\n",
      "DEU7FpKf3oeDLxWUSZRgaHFJU2JQHjxKYn\n",
      "DKSfKppQ5szEacGtvFS8wx1Jb71jECmCM8\n",
      "DPEMF2ef5mD7s2uH7pJhLVTvndArZ8X1up\"\"\"\n",
      "for i in pks.split('\\n'):\n",
      "    #try:\n",
      "    te = fetchURL('https://dogechain.info/api/v1/address/balance/'+i)\n",
      "    bal = float(te['balance'])\n",
      "    dogeprice = float(df.set_index('id').ix['doge', :]['price'])\n",
      "    #dogeprice = 0.00100\n",
      "    #print dogeprice\n",
      "    print '{0}: {1}'.format(i, bal)\n",
      "    print '{0}: {1}'.format(bal, bal * dogeprice)\n",
      "    print 316.23 * 0.000000922 * bal\n",
      "    #except:\n",
      "    #    ''"
     ],
     "language": "python",
     "metadata": {},
     "outputs": []
    },
    {
     "cell_type": "code",
     "collapsed": false,
     "input": [
      "qrates = p.DataFrame()\n",
      "dr = p.date_range(start='19691231', end='19801231')\n",
      "print fm.compoundVestedCapital(1, xrange(0, len(dr)))[0]\n",
      "xr = fm.rateToCompoundedPercentage(fm.compoundedPercentageIntegral(3365, len(dr)), 1)\n",
      "print xr\n",
      "xr2 = fm.rateToCompoundedPercentage(fm.compoundedPercentageIntegral(3365, len(dr)), 20)\n",
      "print xr2\n",
      "xr3 = fm.rateToCompoundedPercentage(fm.compoundedPercentageIntegral(3365, len(dr)), 250)\n",
      "print xr3\n",
      "print fm.rateToCompoundedPercentage(fm.compoundedPercentageIntegral(3365, len(dr)), len(dr))\n",
      "#print p.DataFrame(fm.compoundVestedCapital(xr2, xrange(0, 11*20))[0])"
     ],
     "language": "python",
     "metadata": {},
     "outputs": []
    },
    {
     "cell_type": "code",
     "collapsed": false,
     "input": [
      "years    = 4\n",
      "months   = 12 * years + 1\n",
      "days     = 250 * years + 1\n",
      "ic       = 100\n",
      "myrates  = []\n",
      "\n",
      "# 12% monthly\n",
      "myrates.append(12)\n",
      "# 1% daily, monthly equivalent\n",
      "myrates.append(fm.rateToCompoundedPercentage(1, 20))\n",
      "# 7% APR monthly equivalent\n",
      "myrates.append(fm.rateToCompoundedPercentage(fm.compoundedPercentageIntegral(7, 250), 20))\n",
      "\n",
      "myratetitles = []\n",
      "\n",
      "periods = n.array(range(0,months))\n",
      "df = p.DataFrame()\n",
      "for i in xrange(0,len(myrates)):\n",
      "    print myrates[i]\n",
      "    myratetitles.append('vested_'+str(int(myrates[i]))+'_monthly')\n",
      "    df[myratetitles[i]] = fm.compoundVestedCapital(myrates[i], periods)[0]\n",
      "#print df\n",
      "#print myratetitles\n",
      "plot(df)\n",
      "title('Vested Capital')\n",
      "legend(myratetitles, 2)\n",
      "show()"
     ],
     "language": "python",
     "metadata": {},
     "outputs": []
    },
    {
     "cell_type": "code",
     "collapsed": false,
     "input": [
      "r = fm.compoundVestedCapital(xr, range(0,len(dr)), initial_capital=250e3, shift=0)[0]\n",
      "print len(r)"
     ],
     "language": "python",
     "metadata": {},
     "outputs": []
    },
    {
     "cell_type": "code",
     "collapsed": false,
     "input": [
      "# Curve fitting George Soros Quantum Fund performance.\n",
      "#dr = p.date_range(start='19680101', end='20150201')\n",
      "dr = p.date_range(start='19680101', end='19900101')\n",
      "#print len(dr)\n",
      "d1 = n.zeros(len(dr))\n",
      "d1[:] = nan\n",
      "d2 = n.zeros(len(dr))\n",
      "d2[:] = nan\n",
      "xr = 0.195\n",
      "d2 = fm.compoundVestedCapital(xr, range(0,len(dr)), initial_capital=250e3, shift=1000)[0]\n",
      "#print d2\n",
      "pd = p.DataFrame(d1, index=dr, columns=['bar'])\n",
      "pd.ix['19680101',:] = 0\n",
      "pd.ix['19691231',:] = 250e3\n",
      "pd.ix['19710101',:] = 12.5e6\n",
      "pd.ix['19720101',:] = 20e6\n",
      "pd.ix['19801231',:] = 381e6\n",
      "pd.ix['19900101',:] = 381e6\n",
      "pd = pd.ffill().bfill()\n",
      "pd.ix[:,str(xr)] = d2\n",
      "pd = pd.ix[0:len(pd)-3000,:]\n",
      "pd.plot(logy=True)\n",
      "show()"
     ],
     "language": "python",
     "metadata": {},
     "outputs": []
    },
    {
     "cell_type": "code",
     "collapsed": false,
     "input": [
      "r = range(0,10)\n",
      "#r1 = r[0:4]\n",
      "#r2 = r[4:]\n",
      "r1 = list(n.zeros(3, dtype=int))\n",
      "r2 = r[0:len(r)-4]\n",
      "rate = n.array(1.)\n",
      "#print r1\n",
      "#print r2\n",
      "print r1 + r2\n",
      "#print n.power(1+rate.reshape(size(rate), 1)/100, r)\n",
      "#print n.power(1+rate.reshape(size(rate), 1)/100, r1)\n",
      "#print n.power(1+rate.reshape(size(rate), 1)/100, r2)\n",
      "print n.power(1+rate.reshape(size(rate), 1)/100, r1 + r2)"
     ],
     "language": "python",
     "metadata": {},
     "outputs": []
    }
   ],
   "metadata": {}
  }
 ]
}