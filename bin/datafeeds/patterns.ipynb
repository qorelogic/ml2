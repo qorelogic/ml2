{
 "cells": [
  {
   "cell_type": "code",
   "execution_count": null,
   "metadata": {
    "collapsed": false
   },
   "outputs": [],
   "source": [
    "%reload_ext autoreload\n",
    "%autoreload 2\n",
    "\n",
    "import sys\n",
    "try: sys.path.index('/ml.dev/bin')\n",
    "except: sys.path.append('/ml.dev/bin')\n",
    "\n",
    "import numpy as n\n",
    "import pandas as p\n",
    "#mport Quandl as q\n",
    "from Quandl import Quandl as q\n",
    "import datetime as dd\n",
    "from qoreliquid import *\n",
    "import talib as talib\n",
    "from matplotlib import pyplot as plt\n",
    "from pylab import rcParams\n",
    "%pylab inline\n",
    "rcParams['figure.figsize'] = 20, 5\n",
    "\n",
    "import oandapy\n",
    "\n",
    "co = p.read_csv('config.csv', header=None)\n",
    "\n",
    "env1=co.ix[0,1]\n",
    "access_token1=co.ix[0,2]\n",
    "oanda1 = oandapy.API(environment=env1, access_token=access_token1)\n",
    "\n",
    "env2=co.ix[1,1]\n",
    "access_token2=co.ix[1,2]\n",
    "oanda2 = oandapy.API(environment=env2, access_token=access_token2)\n",
    "\n",
    "acc = oanda2.get_accounts()['accounts']\n",
    "accid = acc[0]['accountId']\n",
    "#print 'using account: {0}'.format(accid)"
   ]
  },
  {
   "cell_type": "code",
   "execution_count": null,
   "metadata": {
    "collapsed": true
   },
   "outputs": [],
   "source": []
  },
  {
   "cell_type": "code",
   "execution_count": null,
   "metadata": {
    "collapsed": false
   },
   "outputs": [],
   "source": [
    "#oanda1.get_accounts()\n",
    "targetSalaryPerSecond = (40e3 / (60*60*24*260))\n",
    "asddf = p.DataFrame(oanda1.get_trades(558788)['trades'])#.set_index('instrument')#.ix[:,'side units'.split(' ')]\n",
    "asddf['timeu'] = oq.oandaToTimestamp(asddf['time'])\n",
    "asddf['timeage'] = time.time() - n.array(oq.oandaToTimestamp(asddf['time']))\n",
    "asddf['targetSalaryPerSecond'] = targetSalaryPerSecond * asddf['timeage']\n",
    "asddf.ix[:, 'time timeu timeage targetSalaryPerSecond'.split(' ')]"
   ]
  },
  {
   "cell_type": "code",
   "execution_count": null,
   "metadata": {
    "collapsed": false
   },
   "outputs": [],
   "source": []
  },
  {
   "cell_type": "code",
   "execution_count": null,
   "metadata": {
    "collapsed": false
   },
   "outputs": [],
   "source": []
  },
  {
   "cell_type": "code",
   "execution_count": null,
   "metadata": {
    "collapsed": false
   },
   "outputs": [],
   "source": [
    "import os\n",
    "cmd = 'ls -t /tmp/patterns*'\n",
    "fname = os.popen(cmd).read().strip().split('\\n')[0]\n",
    "dfh = {}\n",
    "df = p.DataFrame()\n",
    "if 1:\n",
    "    dfu = p.DataFrame()\n",
    "    for i in 'EUR_USD,GBP_USD,GBP_JPY,USD_CAD,EUR_AUD,USD_JPY,AUD_USD,AUD_JPY,CAD_JPY,EUR_CAD,EUR_CHF,EUR_GBP,NZD_JPY,NZD_USD,USD_CHF,CHF_JPY,USD_MXN'.split(','):\n",
    "        dfu = dfu.combine_first(getc4(df, dfh, instrument=i))\n",
    "    fname = '/tmp/patterns.dfu.%s.csv' % time.time()\n",
    "    dfu.to_csv(fname)\n",
    "else:\n",
    "    dfu = p.read_csv(fname, index_col=0)\n",
    "print dfu"
   ]
  },
  {
   "cell_type": "code",
   "execution_count": null,
   "metadata": {
    "collapsed": false
   },
   "outputs": [],
   "source": [
    "dfu['diff'] = n.abs(dfu['buy'].get_values() - dfu['sell'].get_values())\n",
    "dfu['diffp'] = (dfu['diff'].get_values())/n.sum(dfu['diff'].get_values())\n",
    "dfu['side'] = map(lambda x: 'buy' if x == 1 else 'sell', (n.array((dfu['buy'].get_values() - dfu['sell'].get_values()) > 0, dtype=int)))\n",
    "dfu['sideBool'] = map(lambda x: 1 if x == 1 else -1, (n.array((dfu['buy'].get_values() - dfu['sell'].get_values()) > 0, dtype=int)))\n",
    "\n",
    "dfu2 = dfu[dfu['diffp'] > (5.0/100)].sort('diff', ascending=False)\n",
    "# recalculate percentages [diffp]\n",
    "dfu2['diffp'] = (dfu2['diff'].get_values())/n.sum(dfu2['diff'].get_values())\n",
    "with p.option_context('display.max_rows', 4000, 'display.max_columns', 4000, 'display.width', 1000000):\n",
    "    print dfu2"
   ]
  },
  {
   "cell_type": "code",
   "execution_count": null,
   "metadata": {
    "collapsed": false
   },
   "outputs": [],
   "source": [
    "dfu2\n",
    "#orders"
   ]
  },
  {
   "cell_type": "code",
   "execution_count": null,
   "metadata": {
    "collapsed": false
   },
   "outputs": [],
   "source": [
    "orders = dfu2.ix[:, 'diff side diffp sideBool'.split(' ')]\n",
    "print 'Oanda orders:'\n",
    "print orders\n",
    "print\n",
    "\n",
    "ps = \"\"\"AUD/NZD\n",
    "AUD/USD\n",
    "EUR/CHF\n",
    "EUR/GBP\n",
    "EUR/JPY\n",
    "EUR/NOK\n",
    "EUR/SEK\n",
    "EUR/USD\n",
    "GBP/USD\n",
    "NZD/USD\n",
    "USD/CAD\n",
    "USD/CHF\n",
    "USD/CNH\n",
    "USD/JPY\n",
    "USD/RUB\"\"\".replace('/', '_')\n",
    "#print ps\n",
    "\n",
    "psdf = p.DataFrame(ps.split('\\n'))\n",
    "psdf['1'] = 1\n",
    "psdf = psdf.set_index(0)\n",
    "# list only 1broker pairs in the orderbook\n",
    "print list(orders.index)\n",
    "print psdf\n",
    "\n",
    "oneBrokerOrderbook = psdf.ix[list(orders.index), :]\n",
    "oneBrokerOrderbook[oneBrokerOrderbook['1'] == 1]\n",
    "dfu3 = orders.ix[oneBrokerOrderbook[oneBrokerOrderbook['1'] == 1].index, :]\n",
    "\n",
    "# recalculate percentages [diffp]\n",
    "dfu3['diffp'] = (dfu3['diff'].get_values())/n.sum(dfu3['diff'].get_values())\n",
    "print '1broker orders:'\n",
    "print dfu3\n"
   ]
  },
  {
   "cell_type": "code",
   "execution_count": null,
   "metadata": {
    "collapsed": false
   },
   "outputs": [],
   "source": [
    "dfu3"
   ]
  },
  {
   "cell_type": "code",
   "execution_count": null,
   "metadata": {
    "collapsed": false
   },
   "outputs": [],
   "source": [
    "dryrun=True\n",
    "#fu33 = rebalanceTrades(dfu2, oanda2, accid, dryrun=dryrun)\n",
    "dfu33 = rebalanceTrades(dfu2, oanda1, 558788, dryrun=dryrun)"
   ]
  },
  {
   "cell_type": "code",
   "execution_count": null,
   "metadata": {
    "collapsed": false
   },
   "outputs": [],
   "source": [
    "cw()"
   ]
  },
  {
   "cell_type": "code",
   "execution_count": null,
   "metadata": {
    "collapsed": true
   },
   "outputs": [],
   "source": []
  },
  {
   "cell_type": "code",
   "execution_count": null,
   "metadata": {
    "collapsed": true
   },
   "outputs": [],
   "source": []
  },
  {
   "cell_type": "code",
   "execution_count": null,
   "metadata": {
    "collapsed": false
   },
   "outputs": [],
   "source": [
    "# source: https://mrjbq7.github.io/ta-lib/func.html\n",
    "cl = n.random.random(200)\n",
    "output = talib.SMA(cl)\n",
    "#plot(cl)\n",
    "df = p.DataFrame(cl)\n",
    "df['sma'] = output\n",
    "df.plot()"
   ]
  },
  {
   "cell_type": "code",
   "execution_count": null,
   "metadata": {
    "collapsed": true
   },
   "outputs": [],
   "source": [
    "#from talib import MA_Type\n",
    "df['upper'], df['middle'], df['lower'] = talib.BBANDS(cl, matype=talib.MA_Type.T3)\n",
    "df.plot()\n",
    "df['momentum'] = talib.MOM(cl, timeperiod=5)\n",
    "df.plot()"
   ]
  },
  {
   "cell_type": "code",
   "execution_count": null,
   "metadata": {
    "collapsed": true
   },
   "outputs": [],
   "source": []
  },
  {
   "cell_type": "code",
   "execution_count": null,
   "metadata": {
    "collapsed": false
   },
   "outputs": [],
   "source": [
    "bitcoinBalance = 0.40520\n",
    "dfu33['amountp'] = bitcoinBalance * dfu33['diffp']\n",
    "print dfu33"
   ]
  },
  {
   "cell_type": "code",
   "execution_count": null,
   "metadata": {
    "collapsed": false
   },
   "outputs": [],
   "source": [
    "oanda2.get_account(accid)['balance'] * 50"
   ]
  },
  {
   "cell_type": "code",
   "execution_count": null,
   "metadata": {
    "collapsed": false
   },
   "outputs": [],
   "source": [
    "lss = [1,2,3]\n",
    "dir(lss)\n",
    "lss.__contains__([1,2,3,4])"
   ]
  },
  {
   "cell_type": "code",
   "execution_count": null,
   "metadata": {
    "collapsed": false
   },
   "outputs": [],
   "source": [
    "list(orders.index)"
   ]
  },
  {
   "cell_type": "code",
   "execution_count": null,
   "metadata": {
    "collapsed": false
   },
   "outputs": [],
   "source": [
    "getc4(df, dfh, instrument='CAD_JPY', verbose=True, update=True)"
   ]
  },
  {
   "cell_type": "code",
   "execution_count": null,
   "metadata": {
    "collapsed": false
   },
   "outputs": [],
   "source": [
    "dfh['CAD_JPY'] = {}\n",
    "getc4(df, dfh, instrument='CAD_JPY')"
   ]
  },
  {
   "cell_type": "code",
   "execution_count": null,
   "metadata": {
    "collapsed": false
   },
   "outputs": [],
   "source": [
    "d3 = dict(zip('M1 M5 M15 M30 H1 H4 D W M'.split(' '), [1,5,15,30,60,(60*4),(60*24), (60*24*5), (60*24)*5*4 ]))\n",
    "print d3\n",
    "print dfm.transpose().ix['USD_JPY','buy sell'.split(' ')]"
   ]
  },
  {
   "cell_type": "code",
   "execution_count": null,
   "metadata": {
    "collapsed": false
   },
   "outputs": [],
   "source": [
    "pa = ''\n",
    "pa += 'USDJPY EURUSD'\n",
    "df = getDataFromQuandlBNP(pa, 'EUR', noUpdate=True)\n",
    "dd = normalizeme(df.bfill().ffill())\n",
    "dd = sigmoidme(dd)\n",
    "plt.plot(dd)\n",
    "plt.show()"
   ]
  },
  {
   "cell_type": "code",
   "execution_count": null,
   "metadata": {
    "collapsed": false
   },
   "outputs": [],
   "source": [
    "#from charts.ipynb **copy**\n",
    "def gettickerSymbol(s):\n",
    "    hque = fetchURL('https://www.google.com/finance?q={0}'.format(s), mode='')\n",
    "    try:\n",
    "        hque = re.match(re.compile(r'.*\\(([\\w]+?:[\\w]+?)\\).*', re.S), hque).groups()[0]\n",
    "        return hque\n",
    "    except:\n",
    "        return ''\n",
    "\n",
    "def queryGoogleFinanceForTicker(st1):\n",
    "    st1\n",
    "    ty = []\n",
    "    for i in st1:\n",
    "        ty.append(\"{0}\".format(gettickerSymbol(i)))\n",
    "    print ty\n",
    "    tt = \";\".join(ty)\n",
    "    tt = re.sub(re.compile(r':', re.S), '_', tt).split(';')\n",
    "    print tt\n",
    "    ty = []\n",
    "    for i in tt:\n",
    "        ty.append(\"GOOG/{0}\".format(i))\n",
    "    st1 = ty\n",
    "    return st1\n",
    "st1 = queryGoogleFinanceForTicker(['EURAUD'])"
   ]
  },
  {
   "cell_type": "code",
   "execution_count": null,
   "metadata": {
    "collapsed": false
   },
   "outputs": [],
   "source": [
    "#getDataFromQuandl(st1, plot=False, style='-', columns='Close', tail=100)\n",
    "getDataFromQuandl(['CURRENCY:EUR'], plot=False, style='-', columns='Close', tail=100)\n",
    "#ta.CDL2CROWS()"
   ]
  }
 ],
 "metadata": {
  "kernelspec": {
   "display_name": "Python 2",
   "language": "python",
   "name": "python2"
  },
  "language_info": {
   "codemirror_mode": {
    "name": "ipython",
    "version": 2
   },
   "file_extension": ".py",
   "mimetype": "text/x-python",
   "name": "python",
   "nbconvert_exporter": "python",
   "pygments_lexer": "ipython2",
   "version": "2.7.6"
  }
 },
 "nbformat": 4,
 "nbformat_minor": 0
}
