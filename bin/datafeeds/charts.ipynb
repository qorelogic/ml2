{
 "metadata": {
  "name": ""
 },
 "nbformat": 3,
 "nbformat_minor": 0,
 "worksheets": [
  {
   "cells": [
    {
     "cell_type": "code",
     "collapsed": false,
     "input": [
      "%reload_ext autoreload\n",
      "%autoreload 2\n",
      "\n",
      "try:\n",
      "    sys.path.index('/ml.dev/bin')\n",
      "except:\n",
      "    sys.path.append('/ml.dev/bin')\n",
      "\n",
      "import numpy as n\n",
      "import pandas as p\n",
      "import Quandl as q\n",
      "import datetime as dd\n",
      "from qoreliquid import *\n",
      "from matplotlib import pyplot as plt\n",
      "from pylab import rcParams\n",
      "rcParams['figure.figsize'] = 20, 5"
     ],
     "language": "python",
     "metadata": {},
     "outputs": []
    },
    {
     "cell_type": "code",
     "collapsed": false,
     "input": [
      "# readable datetime format\n",
      "def qoreGetTime(dt):\n",
      "    \"\"\"\n",
      "    dt = dd.datetime.now()\n",
      "    \"\"\"\n",
      "    if type(dt) != type(dd.datetime(2000,1,1)):\n",
      "        raise(TypeError(\"descriptor 'strftime' requires a 'datetime.date' object but received a '{0}'\".format(type(dt))))\n",
      "    \n",
      "    return dd.datetime.strftime(dt, '%Y-%m-%d %T.%fTGMT-3')\n",
      "print qoreGetTime(dd.datetime.now())\n",
      "print qoreGetTime('')\n",
      "print time.time()\n",
      "print type(dd.datetime.now())\n",
      "print type(dd)"
     ],
     "language": "python",
     "metadata": {},
     "outputs": []
    },
    {
     "cell_type": "code",
     "collapsed": false,
     "input": [
      "# scrape stocktwits trending stocks list\n",
      "# fetch historical prices of listed stocks\n",
      "#  - google data via quandl\n",
      "# analyze historical data of listed stocks\n",
      "#  - normalized, sigmoid filters\n",
      "\n",
      "import ujson as j\n",
      "import pandas as p\n",
      "\n",
      "def parseSTJson(j3):\n",
      "    lst = []\n",
      "    #for i in j3['industries']:\n",
      "    for i in j3['stocks']:\n",
      "        #print p.DataFrame(i).transpose()\n",
      "        tdf = p.DataFrame(i)\n",
      "        lst.append(n.array(tdf.ix[['change'],tdf.columns].get_values()[0], dtype=str))\n",
      "        #print p.pivot(p.DataFrame(i).ix[['change'],['symbol', 'values']], index='symbol', columns=['change'], values=['values'])\n",
      "        #print p.pivot(p.DataFrame(i), index='change', columns=['symbol', 'name'], values=['values'])\n",
      "        #break\n",
      "        #print\n",
      "    res2 = p.DataFrame(lst, columns=tdf.columns)\n",
      "    return res2\n",
      "\n",
      "def gettickerSymbol(s):\n",
      "    hque = fetchURL('https://www.google.com/finance?q={0}'.format(s), mode='')\n",
      "    try:\n",
      "        hque = re.match(re.compile(r'.*\\(([\\w]+?:[\\w]+?)\\).*', re.S), hque).groups()[0]\n",
      "        return hque\n",
      "    except:\n",
      "        return ''\n",
      "\n",
      "def queryGoogleFinanceForTicker(st1):\n",
      "    st1\n",
      "    ty = []\n",
      "    for i in st1:\n",
      "        ty.append(\"{0}\".format(gettickerSymbol(i)))\n",
      "    print ty\n",
      "    tt = \";\".join(ty)\n",
      "    tt = re.sub(re.compile(r':', re.S), '_', tt).split(';')\n",
      "    print tt\n",
      "    ty = []\n",
      "    for i in tt:\n",
      "        ty.append(\"GOOG/{0}\".format(i))\n",
      "    st1 = ty\n",
      "    return st1\n",
      "\n",
      "def fromGoogleFinanceChartGetTickers(url):\n",
      "    \"\"\"\n",
      "    url = 'https://www.google.com/finance?chdnp=1&chdd=1&chds=1&chdv=1&chvs=Linear&chdeh=1&chfdeh=1&chdet=1426072726443&chddm=963&chls=IntervalBasedLine&cmpto=NYSE:BITA;NYSE:PAY;NASDAQ:GERN;NYSEMKT:ROX;NYSE:PNK&cmptdms=0;0;0;0;0&q=NASDAQ:URBN&ntsp=0&ei=ux8AVZGVE8ei8waB2IHIDw'\n",
      "    \"\"\"\n",
      "    t1 = re.match(re.compile(r'.*cmpto=.*?q=(.*?)&.*', re.S), url).groups()[0]\n",
      "    t2 = re.match(re.compile(r'.*cmpto=(.*?)&.*', re.S), url).groups()[0]\n",
      "    tt = \"{0};{1}\".format(t1,t2)\n",
      "    tt = re.sub(re.compile(r':', re.S), '_', tt).split(';')\n",
      "    ty = []\n",
      "    for i in tt:\n",
      "        ty.append(\"GOOG/{0}\".format(i))\n",
      "    return ty\n",
      "\n",
      "def jsonValidator():\n",
      "    #from jsonschema import Draft3Validator\n",
      "    #my_schema = j.loads(r3) #or however else you end up with a dict of the schema\n",
      "    #print my_schema\n",
      "    #Draft3Validator.check_schema(schema)\n",
      "    #print r3\n",
      "    ''\n",
      "\n",
      "#st1 = fromGoogleFinanceChartGetTickers()\n",
      "#print st1\n",
      "\n",
      "url = 'http://stocktwits.com/signals/stocks/week'\n",
      "html = fetchURL(url, mode='')\n",
      "res = re.match(re.compile(r'.*?parseJSON\\(\"(.*})\"\\).*', re.S), html).groups()\n",
      "r3 = res[0].decode('string_escape')\n",
      "# todo: save json to log file\n",
      "j3 = j.loads(r3)\n",
      "\n",
      "res2 = parseSTJson(j3)\n",
      "#print res2.ix[0:10,['symbol', 'values']]\n",
      "print res2.ix[0:10,:]\n",
      "st1 = list(res2.ix[0:10,['symbol']].transpose().get_values()[0])\n",
      "print st1\n",
      "st1 = queryGoogleFinanceForTicker(st1)\n",
      "print st1\n",
      "st1 = \"\\n\".join(st1)\n",
      "st1 = st1.strip().split('\\n')\n",
      "\n",
      "non1 = getDataFromQuandl(st1, plot=False, style='-', columns='Close', tail=100)\n",
      "non = non1\n",
      "non = normalizeme(non)\n",
      "non = sigmoidme(non)\n",
      "#non.ix[:,['Ratio', 'Bullish', 'Bearish']].plot(style='-'); show();\n",
      "non.plot(style='-'); legend(non.columns, 2); show();\n",
      "print non.tail(3).transpose()"
     ],
     "language": "python",
     "metadata": {},
     "outputs": []
    },
    {
     "cell_type": "code",
     "collapsed": false,
     "input": [
      "# visualize stocktwits result\n",
      "na1 = n.array(res2.ix[:,'values'].get_values(), dtype=float)\n",
      "na1 = p.DataFrame(na1).ix[0:4,:]\n",
      "\n",
      "# select and calculate indeces based on \n",
      "# available tickers (some brokers may not list all tickers in this list)\n",
      "#availableTickers = [1] #etoro\n",
      "availableTickers = [1,2,12,13,19,21,25,27,28,] #plu500\n",
      "na1 = p.DataFrame(na1).ix[availableTickers,:]\n",
      "\n",
      "print len(na1)\n",
      "#print len(na2)\n",
      "#print p.DataFrame(n.abs(na1))\n",
      "na1 = n.abs(na1)\n",
      "print  n.sum(na1)\n",
      "res2['alloc'] = na1 / n.sum(na1) * 100\n",
      "#res2['alloc'] = 0\n",
      "print n.sum(res2.ix[:,'alloc'])\n",
      "print \" \".join(list(res2.ix[0:50,'symbol'].get_values()))\n",
      "print res2"
     ],
     "language": "python",
     "metadata": {},
     "outputs": []
    },
    {
     "cell_type": "code",
     "collapsed": false,
     "input": [
      "htmlp500 = fetchURL('http://www.plus500.com/AllInstruments/AllInstruments.aspx', mode='')\n",
      "# $x('//*[@id=\"main\"]/div/div[1]/div[2]/div/div/table/tbody/tr/td[1]').forEach(function(e) {console.log(e.innerHTML)});"
     ],
     "language": "python",
     "metadata": {},
     "outputs": []
    },
    {
     "cell_type": "code",
     "collapsed": false,
     "input": [
      "non = getDataFromQuandl('PSYCH/EURUSD_R', plot=True, style='.')\n",
      "non = normalizeme(non)\n",
      "non = sigmoidme(non)\n",
      "non.ix[:,['Ratio', 'Bullish', 'Bearish']].plot(style='-'); show();"
     ],
     "language": "python",
     "metadata": {},
     "outputs": []
    },
    {
     "cell_type": "code",
     "collapsed": false,
     "input": [
      "WORLDBANK/URY_FR_INR_DPST"
     ],
     "language": "python",
     "metadata": {},
     "outputs": []
    },
    {
     "cell_type": "code",
     "collapsed": false,
     "input": [
      "searchQuandl('yield')"
     ],
     "language": "python",
     "metadata": {},
     "outputs": []
    },
    {
     "cell_type": "code",
     "collapsed": false,
     "input": [
      "ls -lS '/ml.dev/bin/data/oanda/datafeed/'"
     ],
     "language": "python",
     "metadata": {},
     "outputs": []
    },
    {
     "cell_type": "code",
     "collapsed": false,
     "input": [
      "import oandapy\n",
      "import pandas as p\n",
      "\n",
      "co = p.read_csv('config.csv', header=None)\n",
      "\n",
      "env2=co.ix[1,1]\n",
      "access_token2=co.ix[1,2]\n",
      "oanda2 = oandapy.API(environment=env2, access_token=access_token2)\n",
      "\n",
      "acc = oanda2.get_accounts()['accounts']\n",
      "accid = acc[0]['accountId']\n",
      "print 'using account: {0}'.format(accid)\n",
      "\n",
      "response = oanda2.get_prices(instruments=\"USD_MXN\")\n",
      "prices = response.get(\"prices\")\n",
      "asking_price = prices[0].get(\"ask\")\n",
      "print asking_price"
     ],
     "language": "python",
     "metadata": {},
     "outputs": []
    },
    {
     "cell_type": "code",
     "collapsed": false,
     "input": [
      "import plotly.graph_objs as gos"
     ],
     "language": "python",
     "metadata": {},
     "outputs": []
    },
    {
     "cell_type": "code",
     "collapsed": false,
     "input": [
      "# view real-time plot\n",
      "import plotly.plotly as py\n",
      "from plotly.graph_objs import *\n",
      "# auto sign-in with credentials or use py.sign_in()\n",
      "py.sign_in('cilixian', 'ks48f6mysz')\n",
      "trace1 = Scatter(\n",
      "    x=[], \n",
      "    y=[], \n",
      "    #stream=dict(token='my_stream_id')\n",
      "    stream=dict(token='dlun5nb9sr')\n",
      ")\n",
      "data = Data([trace1])\n",
      "py.plot(data)\n",
      "#s = py.Stream('dlun5nb9sr')\n",
      "#s.open()\n",
      "#s.write(dict(x=1, y=2))\n",
      "#s.close()"
     ],
     "language": "python",
     "metadata": {},
     "outputs": []
    },
    {
     "cell_type": "code",
     "collapsed": false,
     "input": [
      "# source: http://stackoverflow.com/questions/18722196/how-to-set-utc-offset-for-datetime\n",
      "import datetime as dd\n",
      "import time\n",
      "import dateutil.tz\n",
      "dt = dateutil.parser.parse('2015-03-09T23:08:16.854172Z +0000')\n",
      "print (dt - dd.datetime(1970,1,1, tzinfo=dateutil.tz.tzoffset('UTC', 0))).total_seconds()  / dd.timedelta(seconds=1).total_seconds()\n",
      "print dt"
     ],
     "language": "python",
     "metadata": {},
     "outputs": []
    },
    {
     "cell_type": "code",
     "collapsed": false,
     "input": [
      "pair = 'EUR_USD'\n",
      "\n",
      "from tailf import tailf\n",
      "ticks = 0\n",
      "for line in tailf('/ml.dev/bin/data/oanda/datafeed/{0}.csv'.format(pair)):\n",
      "    ticks += 1\n",
      "    i = line.split(',')\n",
      "    print i[4]\n",
      "    #print \"{0}\".format(dd.datetime.strptime(i[3], '%Y-%m-%dT%H:%M:%S.%fZ'))\n",
      "        \n",
      "    #if ticks >= 10: break"
     ],
     "language": "python",
     "metadata": {},
     "outputs": []
    },
    {
     "cell_type": "code",
     "collapsed": false,
     "input": [
      "s = py.Stream('dlun5nb9sr')\n",
      "s.open()\n",
      "\"\"\"\n",
      "for c in range(100):\n",
      "    #time.sleep(1)\n",
      "    #print c\n",
      "    i = n.random.randn(1,2)[0];\n",
      "    s.write(dict(x=i[0], y=i[1]))\n",
      "\"\"\"\n",
      "for line in tailf('/ml.dev/bin/data/oanda/datafeed/GBP_JPY.csv'):\n",
      "    i = line.split(',')\n",
      "    s.write(dict(x=i[1], y=i[2]))\n",
      "s.close()"
     ],
     "language": "python",
     "metadata": {},
     "outputs": []
    },
    {
     "cell_type": "code",
     "collapsed": false,
     "input": [
      "an1 = p.read_csv('/ml.dev/bin/data/oanda/datafeed/USD_MXN.csv', header=None)\n",
      "an2 = p.read_csv('/ml.dev/bin/data/oanda/datafeed/USD_SEK.csv', header=None)\n",
      "\n",
      "an1.plot(legend=None)\n",
      "an2.plot(legend=None)\n"
     ],
     "language": "python",
     "metadata": {},
     "outputs": []
    },
    {
     "cell_type": "code",
     "collapsed": false,
     "input": [
      "def rmo():\n",
      "    #\"\"\"\n",
      "    an1 = p.read_csv('/ml.dev/bin/data/oanda/datafeed/USD_MXN.csv', header=None)\n",
      "    \n",
      "    an1[4] = 1\n",
      "    an1[5] = '1'\n",
      "    print an1.ix[0,3]\n",
      "    for i in range(0,len(an1)-1):\n",
      "        #an1.ix[i,5] = dd.datetime.strptime(an1.ix[i,3], '%Y-%m-%dT%H:%M:%S.%fZ')\n",
      "        ''\n",
      "        #break\n",
      "    print an1.ix[0:2,:]\n",
      "    \n",
      "    #an1 = p.pivot_table(an1, values=[1,2], index=[3], columns=[0])\n",
      "    anp = p.pivot_table(an1, values=[4], index=[1], columns=[2], aggfunc=n.sum).fillna(0)\n",
      "    #an2 = p.read_csv('/ml.dev/bin/data/oanda/datafeed/EUR_USD.csv', header=None)\n",
      "    #an = an.set_index(3)\n",
      "    #print an1\n",
      "    #an.ix[:,[1,2]].plot(style='.'); show();\n",
      "    #\"\"\"\n",
      "    #print (p.DataFrame(n.sum(anp.ix[:,anp.columns[0:100]]), index=anp.columns[0:100]).plot(legend=False));\n",
      "    #print list(anp.index)\n",
      "    #show();\n",
      "#%prun rmo()\n",
      "rmo()\n"
     ],
     "language": "python",
     "metadata": {},
     "outputs": []
    },
    {
     "cell_type": "code",
     "collapsed": false,
     "input": [
      "an = p.read_csv('/ml.dev/bin/data/oanda/datafeed/EUR_USD.csv', header=None)\n",
      "#an = an.set_index(3)\n",
      "#print an\n",
      "an.ix[:,[1,2]].plot(style='.'); show();"
     ],
     "language": "python",
     "metadata": {},
     "outputs": []
    },
    {
     "cell_type": "code",
     "collapsed": false,
     "input": [
      "import pandas as p\n",
      "import numpy as n\n",
      "import ujson as j"
     ],
     "language": "python",
     "metadata": {},
     "outputs": []
    },
    {
     "cell_type": "code",
     "collapsed": false,
     "input": [
      "df = p.DataFrame(columns=['q','w'])\n",
      "print df\n",
      "df.loc[len(df)] = [1, 2]\n",
      "print df\n"
     ],
     "language": "python",
     "metadata": {},
     "outputs": []
    },
    {
     "cell_type": "code",
     "collapsed": false,
     "input": [
      "j.dumps([1,2,3])"
     ],
     "language": "python",
     "metadata": {},
     "outputs": []
    }
   ],
   "metadata": {}
  }
 ]
}