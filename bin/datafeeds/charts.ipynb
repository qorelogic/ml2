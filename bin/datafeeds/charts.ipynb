{
 "metadata": {
  "name": ""
 },
 "nbformat": 3,
 "nbformat_minor": 0,
 "worksheets": [
  {
   "cells": [
    {
     "cell_type": "code",
     "collapsed": false,
     "input": [
      "%reload_ext autoreload\n",
      "%autoreload 2\n",
      "\n",
      "try:\n",
      "    sys.path.index('/ml.dev/bin')\n",
      "except:\n",
      "    sys.path.append('/ml.dev/bin')\n",
      "\n",
      "import numpy as n\n",
      "import pandas as p\n",
      "import Quandl as q\n",
      "import datetime as dd\n",
      "from qoreliquid import *\n",
      "from matplotlib import pyplot as plt\n",
      "from pylab import rcParams\n",
      "rcParams['figure.figsize'] = 20, 5"
     ],
     "language": "python",
     "metadata": {},
     "outputs": []
    },
    {
     "cell_type": "code",
     "collapsed": false,
     "input": [
      "non = getDataFromQuandl('PSYCH/EURUSD_R', plot=True, style='.')\n",
      "non = normalizeme(non)\n",
      "non = sigmoidme(non)\n",
      "non.ix[:,['Ratio', 'Bullish', 'Bearish']].plot(style='-'); show();"
     ],
     "language": "python",
     "metadata": {},
     "outputs": []
    },
    {
     "cell_type": "code",
     "collapsed": false,
     "input": [
      "WORLDBANK/URY_FR_INR_DPST"
     ],
     "language": "python",
     "metadata": {},
     "outputs": []
    },
    {
     "cell_type": "code",
     "collapsed": false,
     "input": [
      "searchQuandl('yield')"
     ],
     "language": "python",
     "metadata": {},
     "outputs": []
    },
    {
     "cell_type": "code",
     "collapsed": false,
     "input": [
      "ls -lS '/ml.dev/bin/data/oanda/datafeed/'"
     ],
     "language": "python",
     "metadata": {},
     "outputs": []
    },
    {
     "cell_type": "code",
     "collapsed": false,
     "input": [
      "import oandapy\n",
      "import pandas as p\n",
      "\n",
      "co = p.read_csv('config.csv', header=None)\n",
      "\n",
      "env2=co.ix[1,1]\n",
      "access_token2=co.ix[1,2]\n",
      "oanda2 = oandapy.API(environment=env2, access_token=access_token2)\n",
      "\n",
      "acc = oanda2.get_accounts()['accounts']\n",
      "accid = acc[0]['accountId']\n",
      "print 'using account: {0}'.format(accid)\n",
      "\n",
      "response = oanda2.get_prices(instruments=\"USD_MXN\")\n",
      "prices = response.get(\"prices\")\n",
      "asking_price = prices[0].get(\"ask\")\n",
      "print asking_price"
     ],
     "language": "python",
     "metadata": {},
     "outputs": []
    },
    {
     "cell_type": "code",
     "collapsed": false,
     "input": [
      "import plotly.graph_objs as gos\n"
     ],
     "language": "python",
     "metadata": {},
     "outputs": []
    },
    {
     "cell_type": "code",
     "collapsed": false,
     "input": [
      "import plotly.plotly as py\n",
      "from plotly.graph_objs import *\n",
      "# auto sign-in with credentials or use py.sign_in()\n",
      "py.sign_in('cilixian', 'ks48f6mysz')\n",
      "trace1 = Scatter(\n",
      "    x=[], \n",
      "    y=[], \n",
      "    #stream=dict(token='my_stream_id')\n",
      "    stream=dict(token='dlun5nb9sr')\n",
      ")\n",
      "data = Data([trace1])\n",
      "py.plot(data)\n",
      "#s = py.Stream('dlun5nb9sr')\n",
      "#s.open()\n",
      "#s.write(dict(x=1, y=2))\n",
      "#s.close()"
     ],
     "language": "python",
     "metadata": {},
     "outputs": []
    },
    {
     "cell_type": "code",
     "collapsed": false,
     "input": [
      "# source: http://stackoverflow.com/questions/18722196/how-to-set-utc-offset-for-datetime\n",
      "import datetime as dd\n",
      "import time\n",
      "import dateutil.tz\n",
      "dt = dateutil.parser.parse('2015-03-09T23:08:16.854172Z +0000')\n",
      "print (dt - dd.datetime(1970,1,1, tzinfo=dateutil.tz.tzoffset('UTC', 0))).total_seconds()  / dd.timedelta(seconds=1).total_seconds()\n",
      "print dt"
     ],
     "language": "python",
     "metadata": {},
     "outputs": []
    },
    {
     "cell_type": "code",
     "collapsed": false,
     "input": [
      "from tailf import tailf\n",
      "for line in tailf('/ml.dev/bin/data/oanda/datafeed/GBP_JPY.csv'):\n",
      "    ticks += 1\n",
      "    i = line.split(',')\n",
      "    #print i\n",
      "    print \"{0}\".format(dd.datetime.strptime(i[3], '%Y-%m-%dT%H:%M:%S.%fZ'))\n",
      "        \n",
      "    #if ticks >= 10: break"
     ],
     "language": "python",
     "metadata": {},
     "outputs": []
    },
    {
     "cell_type": "code",
     "collapsed": false,
     "input": [
      "s = py.Stream('dlun5nb9sr')\n",
      "s.open()\n",
      "\"\"\"\n",
      "for c in range(100):\n",
      "    #time.sleep(1)\n",
      "    #print c\n",
      "    i = n.random.randn(1,2)[0];\n",
      "    s.write(dict(x=i[0], y=i[1]))\n",
      "\"\"\"\n",
      "for line in tailf('/ml.dev/bin/data/oanda/datafeed/GBP_JPY.csv'):\n",
      "    i = line.split(',')\n",
      "    s.write(dict(x=i[1], y=i[2]))\n",
      "s.close()"
     ],
     "language": "python",
     "metadata": {},
     "outputs": []
    },
    {
     "cell_type": "code",
     "collapsed": false,
     "input": [
      "an1 = p.read_csv('/ml.dev/bin/data/oanda/datafeed/USD_MXN.csv', header=None)\n",
      "an2 = p.read_csv('/ml.dev/bin/data/oanda/datafeed/USD_SEK.csv', header=None)\n",
      "\n",
      "an1.plot(legend=None)\n",
      "an2.plot(legend=None)\n"
     ],
     "language": "python",
     "metadata": {},
     "outputs": []
    },
    {
     "cell_type": "code",
     "collapsed": false,
     "input": [
      "def rmo():\n",
      "    #\"\"\"\n",
      "    an1 = p.read_csv('/ml.dev/bin/data/oanda/datafeed/USD_MXN.csv', header=None)\n",
      "    \n",
      "    an1[4] = 1\n",
      "    an1[5] = '1'\n",
      "    print an1.ix[0,3]\n",
      "    for i in range(0,len(an1)-1):\n",
      "        #an1.ix[i,5] = dd.datetime.strptime(an1.ix[i,3], '%Y-%m-%dT%H:%M:%S.%fZ')\n",
      "        ''\n",
      "        #break\n",
      "    print an1.ix[0:2,:]\n",
      "    \n",
      "    #an1 = p.pivot_table(an1, values=[1,2], index=[3], columns=[0])\n",
      "    anp = p.pivot_table(an1, values=[4], index=[1], columns=[2], aggfunc=n.sum).fillna(0)\n",
      "    #an2 = p.read_csv('/ml.dev/bin/data/oanda/datafeed/EUR_USD.csv', header=None)\n",
      "    #an = an.set_index(3)\n",
      "    #print an1\n",
      "    #an.ix[:,[1,2]].plot(style='.'); show();\n",
      "    #\"\"\"\n",
      "    #print (p.DataFrame(n.sum(anp.ix[:,anp.columns[0:100]]), index=anp.columns[0:100]).plot(legend=False));\n",
      "    #print list(anp.index)\n",
      "    #show();\n",
      "%prun rmo()"
     ],
     "language": "python",
     "metadata": {},
     "outputs": []
    },
    {
     "cell_type": "code",
     "collapsed": false,
     "input": [
      "an = p.read_csv('/ml.dev/bin/data/oanda/datafeed/EUR_USD.csv', header=None)\n",
      "#an = an.set_index(3)\n",
      "#print an\n",
      "an.ix[:,[1,2]].plot(style='.'); show();"
     ],
     "language": "python",
     "metadata": {},
     "outputs": []
    }
   ],
   "metadata": {}
  }
 ]
}