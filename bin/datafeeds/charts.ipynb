{
 "metadata": {
  "name": ""
 },
 "nbformat": 3,
 "nbformat_minor": 0,
 "worksheets": [
  {
   "cells": [
    {
     "cell_type": "code",
     "collapsed": false,
     "input": [
      "%load_ext autoreload\n",
      "%autoreload 2\n",
      "import numpy as n\n",
      "import pandas as p\n",
      "import Quandl as q\n",
      "import datetime as dd\n",
      "from qoreliquid import *\n",
      "from matplotlib import pyplot as plt\n",
      "from pylab import rcParams\n",
      "rcParams['figure.figsize'] = 20, 5\n",
      "\n",
      "non = getDataFromQuandl('PSYCH/EURUSD_R', plot=True, style='.')\n",
      "non = normalizeme(non)\n",
      "non = sigmoidme(non)\n",
      "non.ix[:,['Ratio', 'Bullish', 'Bearish']].plot(style='-'); show();"
     ],
     "language": "python",
     "metadata": {},
     "outputs": []
    },
    {
     "cell_type": "code",
     "collapsed": false,
     "input": [
      "WORLDBANK/URY_FR_INR_DPST"
     ],
     "language": "python",
     "metadata": {},
     "outputs": []
    },
    {
     "cell_type": "code",
     "collapsed": false,
     "input": [
      "searchQuandl('yield')"
     ],
     "language": "python",
     "metadata": {},
     "outputs": []
    }
   ],
   "metadata": {}
  }
 ]
}