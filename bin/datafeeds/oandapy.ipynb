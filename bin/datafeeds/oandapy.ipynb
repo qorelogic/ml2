{
 "metadata": {
  "name": ""
 },
 "nbformat": 3,
 "nbformat_minor": 0,
 "worksheets": [
  {
   "cells": [
    {
     "cell_type": "code",
     "collapsed": false,
     "input": [
      "import oandapy\n",
      "import pandas as p\n",
      "\n",
      "co = p.read_csv('config.csv', header=None)\n",
      "\n",
      "env1=co.ix[0,1]\n",
      "access_token1=co.ix[0,2]\n",
      "oanda1 = oandapy.API(environment=env1, access_token=access_token1)\n",
      "\n",
      "env2=co.ix[1,1]\n",
      "access_token2=co.ix[1,2]\n",
      "oanda2 = oandapy.API(environment=env2, access_token=access_token2)\n",
      "\n",
      "acc = oanda2.get_accounts()['accounts']\n",
      "accid = acc[0]['accountId']\n",
      "print 'using account: {0}'.format(accid)"
     ],
     "language": "python",
     "metadata": {},
     "outputs": []
    },
    {
     "cell_type": "code",
     "collapsed": true,
     "input": [
      "import pandas as p\n",
      "p.DataFrame([1,2,3]).transpose().to_string(index=False).split('\\n')[0]"
     ],
     "language": "python",
     "metadata": {},
     "outputs": []
    },
    {
     "cell_type": "code",
     "collapsed": false,
     "input": [
      "for i in oanda2.get_trades(accid)['trades']:    \n",
      "    print p.DataFrame(i, index=[i['id']]).transpose()"
     ],
     "language": "python",
     "metadata": {},
     "outputs": []
    },
    {
     "cell_type": "code",
     "collapsed": false,
     "input": [
      "response = oanda2.get_prices(instruments=\"EUR_USD\")\n",
      "prices = response.get(\"prices\")\n",
      "asking_price = prices[0].get(\"ask\")\n",
      "print asking_price"
     ],
     "language": "python",
     "metadata": {},
     "outputs": []
    },
    {
     "cell_type": "code",
     "collapsed": false,
     "input": [
      "def plotTransactionHistory(acc):\n",
      "    th = oanda2.get_transaction_history(acc)\n",
      "    df = p.DataFrame()\n",
      "    for i in th['transactions']:\n",
      "        df = df.combine_first(p.DataFrame(i, index=[i['id']]).transpose())\n",
      "        \n",
      "    df = df.transpose()\n",
      "    #print df\n",
      "    plot(df.ix[:,'accountBalance']); show()\n",
      "plotTransactionHistory(accid)"
     ],
     "language": "python",
     "metadata": {},
     "outputs": []
    },
    {
     "cell_type": "code",
     "collapsed": false,
     "input": [
      "def getAccounts(oandaobj):\n",
      "    accs = oandaobj.get_accounts()\n",
      "    df = p.DataFrame()\n",
      "    for i in accs['accounts']:\n",
      "        #print p.DataFrame(i)\n",
      "        aid = i['accountId']\n",
      "        acc = oandaobj.get_account(aid)\n",
      "        df = df.combine_first(p.DataFrame(acc, index=[aid]))\n",
      "    #print df.transpose()\n",
      "    return df\n",
      "print getAccounts(oanda1)\n",
      "print getAccounts(oanda2)"
     ],
     "language": "python",
     "metadata": {},
     "outputs": []
    }
   ],
   "metadata": {}
  }
 ]
}