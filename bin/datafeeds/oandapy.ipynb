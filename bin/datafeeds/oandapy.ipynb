{
 "cells": [
  {
   "cell_type": "code",
   "execution_count": null,
   "metadata": {
    "collapsed": false
   },
   "outputs": [],
   "source": [
    "%pylab inline\n",
    "from IPython.core.display import HTML\n",
    "def css_styling():\n",
    "    styles = open(\"/home/qore2/.ipython/profile_default/static/custom/custom.css\", \"r\").read()\n",
    "    return HTML(styles)\n",
    "css_styling()\n",
    "import oandapy\n",
    "import pandas as p\n",
    "from matplotlib import pyplot as plt\n",
    "from pylab import rcParams\n",
    "%pylab inline\n",
    "rcParams['figure.figsize'] = 20, 5\n",
    "\n",
    "co = p.read_csv('config.csv', header=None)\n",
    "\n",
    "env1=co.ix[0,1]\n",
    "access_token1=co.ix[0,2]\n",
    "oanda1 = oandapy.API(environment=env1, access_token=access_token1)\n",
    "\n",
    "env2=co.ix[1,1]\n",
    "access_token2=co.ix[1,2]\n",
    "oanda2 = oandapy.API(environment=env2, access_token=access_token2)\n",
    "\n",
    "acc = oanda2.get_accounts()['accounts']\n",
    "accid = acc[0]['accountId']\n",
    "#print 'using account: {0}'.format(accid)"
   ]
  },
  {
   "cell_type": "code",
   "execution_count": null,
   "metadata": {
    "collapsed": false
   },
   "outputs": [],
   "source": [
    "# show all trades\n",
    "accid = acc[0]['accountId']\n",
    "for i in oanda2.get_trades(accid)['trades']:    \n",
    "    print p.DataFrame(i, index=[i['id']]).transpose()"
   ]
  },
  {
   "cell_type": "code",
   "execution_count": null,
   "metadata": {
    "collapsed": false
   },
   "outputs": [],
   "source": [
    "# get current EUR_USD ask price\n",
    "response = oanda2.get_prices(instruments=\"EUR_USD\")\n",
    "prices = response.get(\"prices\")\n",
    "asking_price = prices[0].get(\"ask\")\n",
    "print asking_price"
   ]
  },
  {
   "cell_type": "code",
   "execution_count": null,
   "metadata": {
    "collapsed": false
   },
   "outputs": [],
   "source": [
    "# plots transaction account history chart\n",
    "def plotTransactionHistory(acc, oaoa):\n",
    "    th = oaoa.get_transaction_history(acc)\n",
    "    df = p.DataFrame()\n",
    "    for i in th['transactions']:\n",
    "        df = df.combine_first(p.DataFrame(i, index=[i['id']]).transpose())\n",
    "        \n",
    "    df = df.transpose()\n",
    "    #print df\n",
    "    plot(df.ix[:,'accountBalance'].ffill()); show()\n",
    "\n",
   ]
  },
  {
   "cell_type": "code",
   "execution_count": null,
   "metadata": {
    "collapsed": false
   },
   "outputs": [],
   "source": [
    "# display account details\n",
    "def getAccounts(oandaobj):\n",
    "    accs = oandaobj.get_accounts()\n",
    "    df = p.DataFrame()\n",
    "    for i in accs['accounts']:\n",
    "        #print p.DataFrame(i)\n",
    "        aid = i['accountId']\n",
    "        acc = oandaobj.get_account(aid)\n",
    "        df = df.combine_first(p.DataFrame(acc, index=[aid]))\n",
    "    #print df.transpose()\n",
    "    return df\n",
    "print getAccounts(oanda1).transpose()\n",
    "print getAccounts(oanda1)#.transpose()\n",
    "print\n",
    "print\n",
    "print getAccounts(oanda2).transpose()\n",
    "print getAccounts(oanda2)#.transpose()\n"
   ]
  }
 ],
 "metadata": {
  "kernelspec": {
   "display_name": "Python 2",
   "language": "python",
   "name": "python2"
  },
  "language_info": {
   "codemirror_mode": {
    "name": "ipython",
    "version": 2
   },
   "file_extension": ".py",
   "mimetype": "text/x-python",
   "name": "python",
   "nbconvert_exporter": "python",
   "pygments_lexer": "ipython2",
   "version": "2.7.6"
  }
 },
 "nbformat": 4,
 "nbformat_minor": 0
}
