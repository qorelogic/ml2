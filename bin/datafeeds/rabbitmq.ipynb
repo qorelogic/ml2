{
 "metadata": {
  "name": ""
 },
 "nbformat": 3,
 "nbformat_minor": 0,
 "worksheets": [
  {
   "cells": [
    {
     "cell_type": "code",
     "collapsed": false,
     "input": [
      "from pyrabbit.api import Client"
     ],
     "language": "python",
     "metadata": {},
     "outputs": []
    },
    {
     "cell_type": "code",
     "collapsed": false,
     "input": [
      "cl = Client('localhost:55672', 'guest', 'guest')"
     ],
     "language": "python",
     "metadata": {},
     "outputs": []
    },
    {
     "cell_type": "code",
     "collapsed": false,
     "input": [
      "cl.is_alive()"
     ],
     "language": "python",
     "metadata": {},
     "outputs": []
    },
    {
     "cell_type": "code",
     "collapsed": false,
     "input": [
      "from pyrabbit.api import Client\n",
      "cl = Client('localhost:55672', 'guest', 'guest')\n",
      "cl.is_alive()\n",
      "#True\n",
      "cl.create_vhost('example_vhost')\n",
      "#True\n",
      "[i['name'] for i in cl.get_all_vhosts()]\n",
      "#[u'/', u'diabolica', u'example_vhost', u'testvhost']\n",
      "cl.get_vhost_names()\n",
      "#[u'/', u'diabolica', u'example_vhost', u'testvhost']\n",
      "cl.set_vhost_permissions('example_vhost', 'guest', '.*', '.*', '.*')\n",
      "#True\n",
      "cl.create_exchange('example_vhost', 'example_exchange', 'direct')\n",
      "#True\n",
      "cl.get_exchange('example_vhost', 'example_exchange')\n",
      "#{u'name': u'example_exchange', u'durable': True, u'vhost': u'example_vhost', u'internal': False, u'arguments': {}, u'type': u'direct', u'auto_delete': False}\n",
      "cl.create_queue('example_queue', 'example_vhost')\n",
      "#True\n",
      "cl.create_binding('example_vhost', 'example_exchange', 'example_queue', 'my.rtkey')\n",
      "#True\n",
      "cl.publish('example_vhost', 'example_exchange', 'my.rtkey', 'example message payload')\n",
      "#True\n",
      "cl.get_messages('example_vhost', 'example_queue')\n",
      "#[{u'payload': u'example message payload', u'exchange': u'example_exchange', u'routing_key': u'my.rtkey', u'payload_bytes': 23, u'message_count': 2, u'payload_encoding': u'string', u'redelivered': False, u'properties': []}]\n",
      "cl.delete_vhost('example_vhost')\n",
      "#True\n",
      "[i['name'] for i in cl.get_all_vhosts()]\n",
      "#[u'/', u'diabolica', u'testvhost']"
     ],
     "language": "python",
     "metadata": {},
     "outputs": []
    },
    {
     "cell_type": "code",
     "collapsed": false,
     "input": [
      "from celery import Celery\n",
      "app = Celery()\n",
      "@app.task\n",
      "def add(x, y):\n",
      "    return x + y\n"
     ],
     "language": "python",
     "metadata": {},
     "outputs": []
    }
   ],
   "metadata": {}
  }
 ]
}