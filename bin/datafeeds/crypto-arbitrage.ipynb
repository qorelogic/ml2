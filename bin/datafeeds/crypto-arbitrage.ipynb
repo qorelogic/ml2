{
 "metadata": {
  "name": ""
 },
 "nbformat": 3,
 "nbformat_minor": 0,
 "worksheets": [
  {
   "cells": [
    {
     "cell_type": "code",
     "collapsed": false,
     "input": [
      "%reload_ext autoreload\n",
      "%autoreload 2"
     ],
     "language": "python",
     "metadata": {},
     "outputs": []
    },
    {
     "cell_type": "code",
     "collapsed": false,
     "input": [
      "# bitstamp\n",
      "from bitstampy import api as btm\n",
      "# kraken\n",
      "import krakenex\n",
      "# btc-e\n",
      "import btceapi\n",
      "#campbx\n",
      "#paymium\n",
      "#bitfinex\n",
      "try: sys.path.index('/ml.dev/bin')\n",
      "except: sys.path.append('/ml.dev/bin')\n",
      "from qoreliquid import *"
     ],
     "language": "python",
     "metadata": {},
     "outputs": []
    },
    {
     "cell_type": "code",
     "collapsed": false,
     "input": [
      "btceapi.common.all_pairs"
     ],
     "language": "python",
     "metadata": {},
     "outputs": []
    },
    {
     "cell_type": "code",
     "collapsed": false,
     "input": [
      "#pd1 = btceapi.getDepth('btc_usd')\n",
      "#plot(pd1)\n",
      "\n",
      "pd2 = list(pd1)[0]\n",
      "pd2 = p.DataFrame(pd2)\n",
      "#print pd2\n",
      "pd2 = pd2.convert_objects(convert_numeric=True)\n",
      "pd2 = n.array(pd2.ix[:,:].get_values(), dtype=float)\n",
      "#pd2 = normalizeme(pd2)\n",
      "#pd2 = sigmoidme(pd2)\n",
      "pd2 = p.DataFrame(pd2)\n",
      "#print pd2\n",
      "#plot(pd2.ix[:,:])\n",
      "scatter(pd2.ix[:,0], pd2.ix[:,1])\n",
      "#plot(pd2)"
     ],
     "language": "python",
     "metadata": {},
     "outputs": []
    },
    {
     "cell_type": "code",
     "collapsed": false,
     "input": [
      "import krakenex\n",
      "k = krakenex.API()\n",
      "k.load_key('kraken.key')\n",
      "k.query_private('AddOrder', {'pair': 'XXBTZEUR',\n",
      "                             'type': 'buy',\n",
      "                             'ordertype': 'limit',\n",
      "                             'price': '1',\n",
      "                             'volume': '1',\n",
      "                             'close[pair]': 'XXBTZEUR',\n",
      "                             'close[type]': 'sell',\n",
      "                             'close[ordertype]': 'limit',\n",
      "                             'close[price]': '9001',\n",
      "                             'close[volume]': '1'})"
     ],
     "language": "python",
     "metadata": {},
     "outputs": []
    },
    {
     "cell_type": "code",
     "collapsed": false,
     "input": [
      "btm.order_book()"
     ],
     "language": "python",
     "metadata": {},
     "outputs": []
    },
    {
     "cell_type": "code",
     "collapsed": false,
     "input": [
      "from qoreliquid import *\n",
      "b = btce()\n",
      "from pylab import rcParams\n",
      "rcParams['figure.figsize'] = 20, 5"
     ],
     "language": "python",
     "metadata": {},
     "outputs": []
    },
    {
     "cell_type": "code",
     "collapsed": false,
     "input": [
      "import coinmarketcap as c"
     ],
     "language": "python",
     "metadata": {},
     "outputs": []
    },
    {
     "cell_type": "code",
     "collapsed": false,
     "input": [
      "top = co.top(1000)\n",
      "#\"\"\"\n",
      "li = []\n",
      "for i in top[0:3]:\n",
      "    print i\n",
      "    #print c.cap_change_7d('0')\n",
      "    li.append(c.coin_summary(i.lower()))\n",
      "    #print p.DataFrame(da)\n",
      "#\"\"\"\n",
      "lis = p.DataFrame(li)\n",
      "lis = lis.ix[:,'cap_change_1h']\n",
      "print n.array(lis).reshape(3,1)"
     ],
     "language": "python",
     "metadata": {},
     "outputs": []
    },
    {
     "cell_type": "code",
     "collapsed": false,
     "input": [
      "#t = fetchURL('http://coinmarketcap.northpole.ro/api/v5/all.json')\n",
      "print t.keys()\n",
      "for i in t['markets'][0:5]:\n",
      "    print p.DataFrame(i).ix['usd',:].transpose()\n",
      "#print p.DataFrame(t['markets'])"
     ],
     "language": "python",
     "metadata": {},
     "outputs": []
    },
    {
     "cell_type": "code",
     "collapsed": false,
     "input": [
      "#p.DataFrame([1,2,3,'?',1,2,3,'d']).convert_objects(convert_numeric=True)"
     ],
     "language": "python",
     "metadata": {},
     "outputs": []
    },
    {
     "cell_type": "code",
     "collapsed": false,
     "input": [
      "t = fetchURL('http://coinmarketcap-nexuist.rhcloud.com/api/all', mode='jsonlog', fromCache=True)\n",
      "li = []\n",
      "ti = t.split('\\n')\n",
      "for i in ti:\n",
      "    #print type(i)\n",
      "    #print i\n",
      "    ti = j.loads(i)\n",
      "    #print type(ti)\n",
      "    #print p.DataFrame(ti).transpose()    \n",
      "    #print len(ti)\n",
      "    le = {}\n",
      "    for k in ti.keys()[0:]:\n",
      "        #print k\n",
      "        #print p.DataFrame(ti[k])\n",
      "        le[k] = p.DataFrame(ti[k]).ix[['usd'],['change','market_cap','price','volume']].to_dict()\n",
      "        #print\n",
      "    #print p.DataFrame(le)\n",
      "    # source: http://stackoverflow.com/questions/13575090/construct-pandas-dataframe-from-items-in-nested-dictionary\n",
      "    pa = p.Panel(le).to_frame().reset_index().transpose()\n",
      "    #pd.Panel(d).transpose(2,0,1).to_frame().reset_index()\n",
      "    #pa = p.DataFrame(pa.ix[1:,0])\n",
      "    # source: http://stackoverflow.com/questions/16729483/converting-strings-to-floats-in-a-dataframe\n",
      "    #df.a = df.a.astype(float).fillna(0.0)\n",
      "    #print pa.ix[:,0].astype(float).fillna(0)\n",
      "    pa.ix[1:,:] = pa.ix[1:,:].convert_objects(convert_numeric=True).fillna(0)\n",
      "    #print pa\n",
      "    pa.ix[1:,:] = normalizeme(pa.ix[1:,:])\n",
      "    pa.ix[1:,:] = sigmoidme(pa.ix[1:,:])\n",
      "    pa.ix[1:,1].plot()\n",
      "    break\n",
      "    #li.append(ti)\n",
      "#print li"
     ],
     "language": "python",
     "metadata": {},
     "outputs": []
    },
    {
     "cell_type": "code",
     "collapsed": false,
     "input": [
      "li = b.getCurrencies()\n",
      "print li"
     ],
     "language": "python",
     "metadata": {},
     "outputs": []
    },
    {
     "cell_type": "code",
     "collapsed": false,
     "input": [
      "pth = '/ml.dev/lib/crawlers/google/ngram/econpy_google-ngrams.github.py.git/'\n",
      "try: sys.path.index(pth)\n",
      "except: sys.path.append(pth)\n",
      "from getngrams import *\n",
      "\n",
      "def showNgrams(query):\n",
      "    df = runQuery(query)\n",
      "    df = df.set_index('year')\n",
      "    #print df\n",
      "    df = normalizeme(df)\n",
      "    df.plot(); legend(df.columns,2);"
     ],
     "language": "python",
     "metadata": {},
     "outputs": []
    },
    {
     "cell_type": "code",
     "collapsed": false,
     "input": [
      "showNgrams('solar, digital currency, dollar, gold, oil')"
     ],
     "language": "python",
     "metadata": {},
     "outputs": []
    },
    {
     "cell_type": "code",
     "collapsed": false,
     "input": [
      "showNgrams('machine learning, deep learning')"
     ],
     "language": "python",
     "metadata": {},
     "outputs": []
    },
    {
     "cell_type": "code",
     "collapsed": false,
     "input": [
      "showNgrams('pound sterling, deutsche mark,euro,dollar')"
     ],
     "language": "python",
     "metadata": {},
     "outputs": []
    },
    {
     "cell_type": "code",
     "collapsed": false,
     "input": [
      "showNgrams('brazil,russia,india,china,united states, united kingdom')"
     ],
     "language": "python",
     "metadata": {},
     "outputs": []
    },
    {
     "cell_type": "code",
     "collapsed": false,
     "input": [
      "from github import Github\n",
      "#g = Github(\"qorelogic\", \"qweqwe123\")\n",
      "\"\"\"\n",
      "for repo in g.get_user().get_repos():\n",
      "    print repo.name\n",
      "    #repo.edit(has_wiki=False)\n",
      "\"\"\"\n",
      "for i in g.search_repositories('google'):\n",
      "    #print dir(i); break\n",
      "    try:\n",
      "        if i.language.lower() == 'python':\n",
      "            print i.name\n",
      "            print i.description\n",
      "            print i.language\n",
      "            print\n",
      "            #break\n",
      "    except:\n",
      "        ''"
     ],
     "language": "python",
     "metadata": {},
     "outputs": []
    },
    {
     "cell_type": "code",
     "collapsed": false,
     "input": [
      "def download_price_map(retries): #, pc):\n",
      "    '''Retrieve the map of all pricing information from BTCe'''\n",
      "    p_map = {}\n",
      "    for pair in btceapi.common.all_pairs:\n",
      "    #for pair in pc.index:\n",
      "        [src, dst] = pair.split('_')\n",
      "        if src not in p_map:\n",
      "            p_map[src] = {}\n",
      "        if dst not in p_map:\n",
      "            p_map[dst] = {}\n",
      "        \n",
      "        #log.debug('Downloading order depth for %s' % pair)\n",
      "        asks, bids = get_depth_retry(pair, retries)\n",
      "        #try:                p_map[src][dst] = pc.ix['{0}_{1}'.format(src, dst),'buy']\n",
      "        #except KeyError, e: print e;\n",
      "        #try:                p_map[dst][src] = pc.ix['{0}_{1}'.format(src, dst),'sell']; \n",
      "        #except KeyError, e: print e;\n",
      "        p_map[src][dst] = [(float(p),float(v)) for (p,v) in bids]\n",
      "        p_map[dst][src] = [(float(1/p),float(p*v)) for (p,v) in asks]\n",
      "    return p_map\n",
      "\n",
      "def deep_clone_dict_dict(d):\n",
      "    '''Perform a deep copy of a dictionary of dicionaries of lists of tuples'''\n",
      "    result = {}\n",
      "    for src, dst_map in d.items():\n",
      "        result[src] = {}\n",
      "        for dst, depth in dst_map.items():\n",
      "            #print depth\n",
      "            try:\n",
      "                result[src][dst] = [(p,v) for (p,v) in depth]\n",
      "            except:\n",
      "                ''\n",
      "                \n",
      "    return result\n",
      "\n",
      "def traverse(src):\n",
      "    '''Traverse the trade graph and locate all possible cycles for src node'''\n",
      "    all_paths = []\n",
      "    #log.info(src)\n",
      "    traverse_helper(src, src, [], price_map, all_paths)\n",
      "    return all_paths\n",
      "\n",
      "def traverse_helper(src0, src, path, price_map, all_paths):\n",
      "    '''Helper function to recursively traverse the trading graph\n",
      "\n",
      "        src0        The root node of the path\n",
      "        src         The current node we're visiting\n",
      "        path        The path that has been traversed so far\n",
      "        price_map   A map of all pricing / node connections\n",
      "        all_paths   Output list of all detected cycles\n",
      "    '''\n",
      "    path.append(src)\n",
      "\n",
      "    # Determine if we have arrived home and the cycle is complete\n",
      "    if len(path) > 1 and src == src0:\n",
      "        #log.debug(' ->|1 '.join(path))\n",
      "        #print ' ->|1 '.join(path)\n",
      "        #log.debug(path)\n",
      "        all_paths.append(path)\n",
      "        return\n",
      "\n",
      "    # Deep copy the price map so we can modify at will\n",
      "    price_map_no_src = deep_clone_dict_dict(price_map)\n",
      "\n",
      "    # Make sure this node is no longer afailable as a src\n",
      "    del price_map_no_src[src]\n",
      "\n",
      "    # Make sure this node is no longer available as a dst\n",
      "    if src != src0:\n",
      "        for s0 in price_map_no_src.keys():\n",
      "            if src in price_map_no_src[s0]:\n",
      "                del price_map_no_src[s0][src]\n",
      "\n",
      "    # Walk all adjacent verticies\n",
      "    for dst in price_map[src].keys():\n",
      "        traverse_helper(src0, dst, list(path), price_map_no_src, all_paths)\n",
      "\n",
      "def get_depth_retry(pair, retries=10):\n",
      "    '''Call the getDepth call using a persistent connection'''\n",
      "    global btce_conn\n",
      "    while retries > 0:\n",
      "        try:\n",
      "            return btceapi.public.getDepth(pair, btce_conn)\n",
      "        except:\n",
      "            retries -= 1\n",
      "            #log.debug('getDepth failed.  Reconnecting with %d tries remaining.' % retries)\n",
      "            btce_conn = btceapi.common.BTCEConnection()\n",
      "    return [],[]\n",
      "\n",
      "def compute_path_results(trade_paths, starting_vol):\n",
      "    '''Execute the sequence of trades across all specified paths\n",
      "\n",
      "        trade_paths     Collection of all viable trade paths\n",
      "        starting_vol    The volume to start trading with\n",
      "        fee             Transaction fee %\n",
      "    '''\n",
      "    path_results = []\n",
      "    for src, src_paths in trade_paths.items():\n",
      "        for path in src_paths:\n",
      "            vol = execute_trade_path(path, starting_vol)\n",
      "\n",
      "            # volume < 0 means thatpath was unable to be traversed\n",
      "            if vol >= 0:\n",
      "                path_results.append((path, vol))\n",
      "            else:\n",
      "                #log.debug('Skipping %s due to volume constraints' % ' ->\\||| '.join(path))\n",
      "                ''\n",
      "    return path_results\n",
      "\n",
      "def execute_trade_path(path, starting_vol):\n",
      "    '''Execute the sequence of trades and determine the result\n",
      "\n",
      "        path            Sequence of nodes to create a trade path\n",
      "        starting_vol    The volume to start trading with\n",
      "    '''\n",
      "    log.debug(' ->|2 '.join(path))\n",
      "    vol = starting_vol\n",
      "    for i in range(0, len(path)-1):\n",
      "        src = path[i]\n",
      "        dst = path[i+1]\n",
      "        fs = 1.0-fee_map[src][dst]\n",
      "\n",
      "        # Filter out any trades for which the current order book does not have\n",
      "        # sufficient volume for\n",
      "        depth = [(p,v) for (p,v) in price_map[src][dst] if v >= vol*fs]\n",
      "        if not depth:\n",
      "            return -1\n",
      "\n",
      "        # Execute the trade\n",
      "        price = depth[0][0]\n",
      "        log.debug('  %8f %s ->|3 %s @ %8f * %4f' % (vol,src,dst,price,fs))\n",
      "        vol *= price*fs\n",
      "    log.debug('  %f %s' % (vol, dst))\n",
      "    return vol"
     ],
     "language": "python",
     "metadata": {},
     "outputs": []
    },
    {
     "cell_type": "code",
     "collapsed": false,
     "input": [
      "retries = 0\n",
      "vol = 1\n",
      "\n",
      "#pc = b.getRatesOnExchange()\n",
      "price_map = download_price_map(0) #, pc)\n",
      "#print p.DataFrame(price_map) #.transpose()\n",
      "all_src = price_map.keys()\n",
      "trade_paths = {}\n",
      "num_loops = 0\n",
      "for src in all_src:\n",
      "    #log.debug(src)\n",
      "    trade_paths[src] = traverse(src)\n",
      "    num_loops += len(trade_paths[src])\n",
      "#print num_loops\n",
      "#print trade_paths\n",
      "\n",
      "tsleep = datetime.timedelta(seconds=50)\n",
      "tnext = datetime.datetime.now() + tsleep\n",
      "while True:\n",
      "    #log.info('Downloading BTC-e price map')\n",
      "    price_map = download_price_map(retries)\n",
      "\n",
      "    #log.info('Saving new BTC-e price map to %s' % args.output)\n",
      "    #with open(args.output, 'wb') as pkl_dict:\n",
      "    #    pickle.dump((fee_map,price_map), pkl_dict)\n",
      "\n",
      "    #log.info('Calculating viable trade paths based on volume')\n",
      "    path_results = compute_path_results(trade_paths, vol)\n",
      "\n",
      "    #log.info('Determining arbitrage oportunities')\n",
      "    arbitrage_paths = [p for (p,v) in path_results if v > vol]\n",
      "\n",
      "    if arbitrage_paths:\n",
      "        #log.info('Arbitrage oportunities detected :-D !!!')\n",
      "        #log.info('='*40)\n",
      "        for path in arbitrage_paths:\n",
      "            print_trade_path(path, vol)\n",
      "            log.info('')\n",
      "    else:\n",
      "        #log.info('No arbitrage opotunities detected :-(')\n",
      "        ''\n",
      "    #log.info('')\n",
      "    \n",
      "    while datetime.datetime.now() < tnext:\n",
      "        time.sleep(1)\n",
      "    tnext += tsleep"
     ],
     "language": "python",
     "metadata": {},
     "outputs": []
    },
    {
     "cell_type": "code",
     "collapsed": false,
     "input": [
      "# MS&E Class on Order Flow: http://web.stanford.edu/class/msande444/\n",
      "# http://www.marketdelta.com/blog/2011/02/footprint-chart/starting-to-learn-the-order-flow-basics/"
     ],
     "language": "python",
     "metadata": {},
     "outputs": []
    },
    {
     "cell_type": "code",
     "collapsed": false,
     "input": [
      "print b.getDepth('btc_usd', doPlot=False)"
     ],
     "language": "python",
     "metadata": {},
     "outputs": []
    },
    {
     "cell_type": "code",
     "collapsed": false,
     "input": [
      "for i in b.pk:\n",
      "    print i\n",
      "    b.getDepth(i)"
     ],
     "language": "python",
     "metadata": {},
     "outputs": []
    },
    {
     "cell_type": "code",
     "collapsed": false,
     "input": [
      "b.updateData()"
     ],
     "language": "python",
     "metadata": {},
     "outputs": []
    },
    {
     "cell_type": "code",
     "collapsed": false,
     "input": [
      "#for i in b.pk:\n",
      "    #print i\n",
      "#    getTrades(i)\n",
      "#de = b.getDepth('btc_usd')\n",
      "#print de.ix[0:10,:]\n",
      "print de.pivot_table(index=['ap'], columns=['bp'])\n",
      "#tr = b.getTrades('btc_usd')\n",
      "#print tr.ix[0:10,:]\n",
      "#print getTrades('ltc_gbp')"
     ],
     "language": "python",
     "metadata": {},
     "outputs": []
    },
    {
     "cell_type": "code",
     "collapsed": false,
     "input": [
      "# CryptoArbitrage Business Plan\n",
      "# exchange1               excahnge2\n",
      "# ltcusd                     ltcusd\n",
      "# 0  10                      10 0\n",
      "# buy ltcusd                 sell ltcusd\n",
      "# 10 0                       0  10\n",
      "\n",
      "bals = {'ex1':{'ltc':0,'usd':10}, 'ex2':{'ltc':10,'usd':0}}\n",
      "bals = p.DataFrame(bals)\n",
      "print bals\n",
      "\n",
      "# buy ltcusd on exchange 1\n",
      "print bals.ix[:,'ex1']\n"
     ],
     "language": "python",
     "metadata": {},
     "outputs": []
    },
    {
     "cell_type": "code",
     "collapsed": false,
     "input": [
      "arbtable1 = b.getArbTable(b.pk)\n",
      "print arbtable1"
     ],
     "language": "python",
     "metadata": {},
     "outputs": []
    },
    {
     "cell_type": "code",
     "collapsed": false,
     "input": [
      "arbRates = b.getArbRates()\n",
      "arbRates"
     ],
     "language": "python",
     "metadata": {},
     "outputs": []
    },
    {
     "cell_type": "code",
     "collapsed": false,
     "input": [
      "ar = arbRates.transpose().sort(['arbitrageRate'], axis=0, ascending=False)\n",
      "ar = ar.ix[:,'arbitrageRate']\n",
      "plot(ar); show();"
     ],
     "language": "python",
     "metadata": {},
     "outputs": []
    },
    {
     "cell_type": "code",
     "collapsed": false,
     "input": [
      "b.debugLevel = 8\n",
      "arr = b.getMostProfitablePair()\n",
      "print arr"
     ],
     "language": "python",
     "metadata": {},
     "outputs": []
    },
    {
     "cell_type": "code",
     "collapsed": false,
     "input": [
      "b.getFastestCryptoCoinArbitrage()"
     ],
     "language": "python",
     "metadata": {},
     "outputs": []
    },
    {
     "cell_type": "code",
     "collapsed": false,
     "input": [
      "1 % 10\n",
      "print n.mod([0,10],[0,9])\n",
      "r1 = range(0,10); print r1;\n",
      "r2 = 4; #print r2;\n",
      "r0 = n.mod(r1,r2); #print r0;\n",
      "#print p.DataFrame([list(r1),list(r0)], index=[0,r2]).transpose()\n",
      "\n",
      "#print r1-9\n",
      "r9 = n.ones(len(r1))*n.max(r1); print r9;\n",
      "#print n.diff(r1,r9)\n",
      "print r9-r1"
     ],
     "language": "python",
     "metadata": {},
     "outputs": []
    },
    {
     "cell_type": "code",
     "collapsed": false,
     "input": [
      "rnd1 = n.random.randn(20).reshape(10,2)\n",
      "#print n.asarray(rnd1)\n",
      "st1 = sio.StringIO()\n",
      "n.savetxt(st1, rnd1, delimiter=',')\n",
      "print st1.read()"
     ],
     "language": "python",
     "metadata": {},
     "outputs": []
    },
    {
     "cell_type": "code",
     "collapsed": false,
     "input": [
      "from qoreliquid import *\n",
      "code = 'btc_usd'\n",
      "url = 'https://btc-e.com/api/3/trades/'+code\n",
      "rc = fetchFromCache(url).split('\\n')\n",
      "#print rc[2]\n",
      "#rc = parseTrades(j.loads(rc[1]))\n",
      "rc0 = p.DataFrame()\n",
      "for i in range(0,len(rc)):\n",
      "#for i in range(0,10):\n",
      "    try:\n",
      "        rc1 = parseTrades(j.loads(rc[i]), doPlot=False)\n",
      "        rc1 = rc1.pivot_table(index=['tid'], columns=[], values=['amount', 'price','type']).fillna(0)\n",
      "        #rc1 = rc1.pivot_table(index=['tid'], columns=['type','timestamp'], values=['amount', 'price']).fillna(0)\n",
      "        #rc1 = rc1.pivot_table(index=['timestamp'], columns=['type'], values=['price','amount']).fillna(0)\n",
      "        #rc1 = rc1.ix[:,[2,3]]\n",
      "        #print rc1\n",
      "        rc0 = rc0.combine_first(rc1)\n",
      "        #plot(rc1);\n",
      "        #break\n",
      "    except:\n",
      "        ''\n",
      "#print rc0\n",
      "rc0 = rc0.ix[:,[0,1]]\n",
      "rc0 = normalizeme(rc0)\n",
      "rc0 = sigmoidme(rc0)\n",
      "plot(rc0,'.');"
     ],
     "language": "python",
     "metadata": {},
     "outputs": []
    },
    {
     "cell_type": "code",
     "collapsed": false,
     "input": [
      "hdir = 'data/cache/'\n",
      "#url = hdir+'https%3A%2F%2Fbtc-e.com%2Fapi%2F3%2Fdepth%2Fbtc_usd'\n",
      "url = hdir+'https%3A%2F%2Fbtc-e.com%2Fapi%2F3%2Ftrades%2Fbtc_usd'\n",
      "fp = open(url, 'r')\n",
      "for i in fp.read().split('\\n'):\n",
      "    #print i['btc_usd']\n",
      "    try:\n",
      "        ret = j.loads(i.strip())\n",
      "        #print ret[ret.keys()[0]]\n",
      "    except:\n",
      "        ''\n",
      "#ret = fp.read().split('\\n')[0]\n",
      "#print ret\n",
      "#print j.loads(ret)"
     ],
     "language": "python",
     "metadata": {},
     "outputs": []
    },
    {
     "cell_type": "code",
     "collapsed": false,
     "input": [
      "#t = fetchURL('http://coinmarketcap-nexuist.rhcloud.com/api/all', 'a')\n",
      "#t = j.loads(t)\n",
      "#print t.keys()\n",
      "#print t"
     ],
     "language": "python",
     "metadata": {},
     "outputs": []
    }
   ],
   "metadata": {}
  }
 ]
}