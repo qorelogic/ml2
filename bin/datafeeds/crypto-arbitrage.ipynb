{
 "metadata": {
  "name": ""
 },
 "nbformat": 3,
 "nbformat_minor": 0,
 "worksheets": [
  {
   "cells": [
    {
     "cell_type": "code",
     "collapsed": false,
     "input": [
      "%reload_ext autoreload\n",
      "%autoreload 2"
     ],
     "language": "python",
     "metadata": {},
     "outputs": []
    },
    {
     "cell_type": "code",
     "collapsed": false,
     "input": [
      "# bitstamp\n",
      "from bitstampy import api as btm\n",
      "# kraken\n",
      "import krakenex\n",
      "# btc-e\n",
      "import btceapi\n",
      "#campbx\n",
      "#paymium\n",
      "#bitfinex"
     ],
     "language": "python",
     "metadata": {},
     "outputs": []
    },
    {
     "cell_type": "code",
     "collapsed": false,
     "input": [
      "btceapi.common.all_pairs"
     ],
     "language": "python",
     "metadata": {},
     "outputs": []
    },
    {
     "cell_type": "code",
     "collapsed": false,
     "input": [
      "btceapi.getDepth('btc_usd')"
     ],
     "language": "python",
     "metadata": {},
     "outputs": []
    },
    {
     "cell_type": "code",
     "collapsed": false,
     "input": [
      "import krakenex\n",
      "k = krakenex.API()\n",
      "k.load_key('kraken.key')\n",
      "k.query_private('AddOrder', {'pair': 'XXBTZEUR',\n",
      "                             'type': 'buy',\n",
      "                             'ordertype': 'limit',\n",
      "                             'price': '1',\n",
      "                             'volume': '1',\n",
      "                             'close[pair]': 'XXBTZEUR',\n",
      "                             'close[type]': 'sell',\n",
      "                             'close[ordertype]': 'limit',\n",
      "                             'close[price]': '9001',\n",
      "                             'close[volume]': '1'})"
     ],
     "language": "python",
     "metadata": {},
     "outputs": []
    },
    {
     "cell_type": "code",
     "collapsed": false,
     "input": [
      "btm.order_book()"
     ],
     "language": "python",
     "metadata": {},
     "outputs": []
    },
    {
     "cell_type": "code",
     "collapsed": false,
     "input": [
      "from qoreliquid import *\n",
      "b = btce()\n",
      "from pylab import rcParams\n",
      "rcParams['figure.figsize'] = 20, 5"
     ],
     "language": "python",
     "metadata": {},
     "outputs": []
    },
    {
     "cell_type": "code",
     "collapsed": false,
     "input": [
      "import coinmarketcap as c"
     ],
     "language": "python",
     "metadata": {},
     "outputs": []
    },
    {
     "cell_type": "code",
     "collapsed": false,
     "input": [
      "#top = co.top(1000)\n",
      "\"\"\"\n",
      "li = []\n",
      "for i in top[0:3]:\n",
      "    print i\n",
      "    #print c.cap_change_7d('0')\n",
      "    li.append(c.coin_summary(i.lower()))\n",
      "    #print p.DataFrame(da)\n",
      "\"\"\"\n",
      "lis = p.DataFrame(li)\n",
      "lis = lis.ix[:,'cap_change_1h']\n",
      "print n.array(lis).reshape(3,1)"
     ],
     "language": "python",
     "metadata": {},
     "outputs": []
    },
    {
     "cell_type": "code",
     "collapsed": false,
     "input": [
      "print type(float(unicode(2)))"
     ],
     "language": "python",
     "metadata": {},
     "outputs": []
    },
    {
     "cell_type": "code",
     "collapsed": false,
     "input": [
      "#t = fetchURL('http://coinmarketcap.northpole.ro/api/v5/all.json')\n",
      "print t.keys()\n",
      "for i in t['markets'][0:10]:\n",
      "    print p.DataFrame(i)\n",
      "#print p.DataFrame(t['markets'])"
     ],
     "language": "python",
     "metadata": {},
     "outputs": []
    },
    {
     "cell_type": "code",
     "collapsed": false,
     "input": [
      "p.DataFrame([1,2,3,'?',1,2,3]).convert_objects(convert_numeric=True)\n",
      "#p.DataFrame([1,2,3,'?',1,2,3]).astype(float)\n"
     ],
     "language": "python",
     "metadata": {},
     "outputs": []
    },
    {
     "cell_type": "code",
     "collapsed": false,
     "input": [
      "t = fetchURL('http://coinmarketcap-nexuist.rhcloud.com/api/all', mode='jsonlog', fromCache=True)\n",
      "li = []\n",
      "ti = t.split('\\n')\n",
      "for i in ti:\n",
      "    #print type(i)\n",
      "    #print i\n",
      "    ti = j.loads(i)\n",
      "    #print type(ti)\n",
      "    #print p.DataFrame(ti).transpose()    \n",
      "    #print len(ti)\n",
      "    le = {}\n",
      "    for k in ti.keys()[0:]:\n",
      "        #print k\n",
      "        #print p.DataFrame(ti[k])\n",
      "        le[k] = p.DataFrame(ti[k]).ix[['usd'],['change','market_cap','price','volume']].to_dict()\n",
      "        #print\n",
      "    #print p.DataFrame(le)\n",
      "    # source: http://stackoverflow.com/questions/13575090/construct-pandas-dataframe-from-items-in-nested-dictionary\n",
      "    pa = p.Panel(le).to_frame().reset_index().transpose()\n",
      "    #pd.Panel(d).transpose(2,0,1).to_frame().reset_index()\n",
      "    #pa = p.DataFrame(pa.ix[1:,0])\n",
      "    # source: http://stackoverflow.com/questions/16729483/converting-strings-to-floats-in-a-dataframe\n",
      "    #df.a = df.a.astype(float).fillna(0.0)\n",
      "    #print pa.ix[:,0].astype(float).fillna(0)\n",
      "    pa.ix[1:,:] = pa.ix[1:,:].convert_objects(convert_numeric=True).fillna(0)\n",
      "    #print pa\n",
      "    pa.ix[1:,:] = normalizeme(pa.ix[1:,:])\n",
      "    pa.ix[1:,:] = sigmoidme(pa.ix[1:,:])\n",
      "    pa.ix[1:,1].plot()\n",
      "    break\n",
      "    #li.append(ti)\n",
      "#print li"
     ],
     "language": "python",
     "metadata": {},
     "outputs": []
    },
    {
     "cell_type": "code",
     "collapsed": false,
     "input": [
      "li = b.getCurrencies()\n",
      "print li"
     ],
     "language": "python",
     "metadata": {},
     "outputs": []
    },
    {
     "cell_type": "code",
     "collapsed": false,
     "input": [
      "pc = b.getRatesOnExchange()\n",
      "print pc"
     ],
     "language": "python",
     "metadata": {},
     "outputs": []
    },
    {
     "cell_type": "code",
     "collapsed": false,
     "input": [
      "# MS&E Class on Order Flow: http://web.stanford.edu/class/msande444/\n",
      "# http://www.marketdelta.com/blog/2011/02/footprint-chart/starting-to-learn-the-order-flow-basics/"
     ],
     "language": "python",
     "metadata": {},
     "outputs": []
    },
    {
     "cell_type": "code",
     "collapsed": false,
     "input": [
      "print b.getDepth('btc_usd', doPlot=False)"
     ],
     "language": "python",
     "metadata": {},
     "outputs": []
    },
    {
     "cell_type": "code",
     "collapsed": false,
     "input": [
      "for i in b.pk:\n",
      "    print i\n",
      "    b.getDepth(i)"
     ],
     "language": "python",
     "metadata": {},
     "outputs": []
    },
    {
     "cell_type": "code",
     "collapsed": false,
     "input": [
      "b.updateData()"
     ],
     "language": "python",
     "metadata": {},
     "outputs": []
    },
    {
     "cell_type": "code",
     "collapsed": false,
     "input": [
      "#for i in b.pk:\n",
      "    #print i\n",
      "#    getTrades(i)\n",
      "#de = b.getDepth('btc_usd')\n",
      "#print de.ix[0:10,:]\n",
      "print de.pivot_table(index=['ap'], columns=['bp'])\n",
      "#tr = b.getTrades('btc_usd')\n",
      "#print tr.ix[0:10,:]\n",
      "#print getTrades('ltc_gbp')"
     ],
     "language": "python",
     "metadata": {},
     "outputs": []
    },
    {
     "cell_type": "code",
     "collapsed": false,
     "input": [
      "# CryptoArbitrage Business Plan\n",
      "# exchange1               excahnge2\n",
      "# ltcusd                     ltcusd\n",
      "# 0  10                      10 0\n",
      "# buy ltcusd                 sell ltcusd\n",
      "# 10 0                       0  10\n",
      "\n",
      "bals = {'ex1':{'ltc':0,'usd':10}, 'ex2':{'ltc':10,'usd':0}}\n",
      "bals = p.DataFrame(bals)\n",
      "print bals\n",
      "\n",
      "# buy ltcusd on exchange 1\n",
      "print bals.ix[:,'ex1']\n"
     ],
     "language": "python",
     "metadata": {},
     "outputs": []
    },
    {
     "cell_type": "code",
     "collapsed": false,
     "input": [
      "arbtable1 = b.getArbTable(b.pk)\n",
      "print arbtable1"
     ],
     "language": "python",
     "metadata": {},
     "outputs": []
    },
    {
     "cell_type": "code",
     "collapsed": false,
     "input": [
      "arbRates = b.getArbRates()"
     ],
     "language": "python",
     "metadata": {},
     "outputs": []
    },
    {
     "cell_type": "code",
     "collapsed": false,
     "input": [
      "ar = arbRates.transpose().sort(['arbitrageRate'], axis=0, ascending=False)\n",
      "ar = ar.ix[:,'arbitrageRate']\n",
      "plot(ar); show();"
     ],
     "language": "python",
     "metadata": {},
     "outputs": []
    },
    {
     "cell_type": "code",
     "collapsed": false,
     "input": [
      "b.debugLevel = 8\n",
      "arr = b.getMostProfitablePair()\n",
      "#print arr"
     ],
     "language": "python",
     "metadata": {},
     "outputs": []
    },
    {
     "cell_type": "code",
     "collapsed": false,
     "input": [
      "b.getFastestCryptoCoinArbitrage()"
     ],
     "language": "python",
     "metadata": {},
     "outputs": []
    },
    {
     "cell_type": "code",
     "collapsed": false,
     "input": [
      "1 % 10\n",
      "print n.mod([0,10],[0,9])\n",
      "r1 = range(0,10); print r1;\n",
      "r2 = 4; #print r2;\n",
      "r0 = n.mod(r1,r2); #print r0;\n",
      "#print p.DataFrame([list(r1),list(r0)], index=[0,r2]).transpose()\n",
      "\n",
      "#print r1-9\n",
      "r9 = n.ones(len(r1))*n.max(r1); print r9;\n",
      "#print n.diff(r1,r9)\n",
      "print r9-r1"
     ],
     "language": "python",
     "metadata": {},
     "outputs": []
    },
    {
     "cell_type": "code",
     "collapsed": false,
     "input": [
      "rnd1 = n.random.randn(20).reshape(10,2)\n",
      "#print n.asarray(rnd1)\n",
      "st1 = sio.StringIO()\n",
      "n.savetxt(st1, rnd1, delimiter=',')\n",
      "print st1.read()"
     ],
     "language": "python",
     "metadata": {},
     "outputs": []
    },
    {
     "cell_type": "code",
     "collapsed": false,
     "input": [
      "from qoreliquid import *\n",
      "code = 'btc_usd'\n",
      "url = 'https://btc-e.com/api/3/trades/'+code\n",
      "rc = fetchFromCache(url).split('\\n')\n",
      "#print rc[2]\n",
      "#rc = parseTrades(j.loads(rc[1]))\n",
      "rc0 = p.DataFrame()\n",
      "for i in range(0,len(rc)):\n",
      "#for i in range(0,10):\n",
      "    try:\n",
      "        rc1 = parseTrades(j.loads(rc[i]), doPlot=False)\n",
      "        rc1 = rc1.pivot_table(index=['tid'], columns=[], values=['amount', 'price','type']).fillna(0)\n",
      "        #rc1 = rc1.pivot_table(index=['tid'], columns=['type','timestamp'], values=['amount', 'price']).fillna(0)\n",
      "        #rc1 = rc1.pivot_table(index=['timestamp'], columns=['type'], values=['price','amount']).fillna(0)\n",
      "        #rc1 = rc1.ix[:,[2,3]]\n",
      "        #print rc1\n",
      "        rc0 = rc0.combine_first(rc1)\n",
      "        #plot(rc1);\n",
      "        #break\n",
      "    except:\n",
      "        ''\n",
      "#print rc0\n",
      "rc0 = rc0.ix[:,[0,1]]\n",
      "rc0 = normalizeme(rc0)\n",
      "rc0 = sigmoidme(rc0)\n",
      "plot(rc0,'.');"
     ],
     "language": "python",
     "metadata": {},
     "outputs": []
    },
    {
     "cell_type": "code",
     "collapsed": false,
     "input": [
      "hdir = 'data/cache/'\n",
      "#url = hdir+'https%3A%2F%2Fbtc-e.com%2Fapi%2F3%2Fdepth%2Fbtc_usd'\n",
      "url = hdir+'https%3A%2F%2Fbtc-e.com%2Fapi%2F3%2Ftrades%2Fbtc_usd'\n",
      "fp = open(url, 'r')\n",
      "for i in fp.read().split('\\n'):\n",
      "    #print i['btc_usd']\n",
      "    try:\n",
      "        ret = j.loads(i.strip())\n",
      "        #print ret[ret.keys()[0]]\n",
      "    except:\n",
      "        ''\n",
      "#ret = fp.read().split('\\n')[0]\n",
      "#print ret\n",
      "#print j.loads(ret)"
     ],
     "language": "python",
     "metadata": {},
     "outputs": []
    },
    {
     "cell_type": "code",
     "collapsed": false,
     "input": [
      "#t = fetchURL('http://coinmarketcap-nexuist.rhcloud.com/api/all', 'a')\n",
      "#t = j.loads(t)\n",
      "#print t.keys()\n",
      "#print t\n",
      "\n",
      "\n"
     ],
     "language": "python",
     "metadata": {},
     "outputs": []
    }
   ],
   "metadata": {}
  }
 ]
}