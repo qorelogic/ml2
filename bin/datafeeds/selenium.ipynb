{
 "metadata": {
  "name": ""
 },
 "nbformat": 3,
 "nbformat_minor": 0,
 "worksheets": [
  {
   "cells": [
    {
     "cell_type": "code",
     "collapsed": false,
     "input": [
      "%reload_ext autoreload\n",
      "%autoreload 2\n",
      "from matplotlib import pyplot as plt\n",
      "from pylab import rcParams\n",
      "rcParams['figure.figsize'] = 20, 5\n",
      "\n",
      "from oanda import *\n",
      "\"\"\"\n",
      "try:\n",
      "    sys.path.index('/ml.dev/bin')\n",
      "except:\n",
      "    sys.path.append('/ml.dev/bin')\n",
      "    \"\"\"\n",
      "from qore import *\n",
      "from qoreliquid import *\n",
      "%reload_ext memory_profiler\n",
      "%reload_ext line_profiler\n",
      "import line_profiler\n",
      "import memory_profiler\n",
      "\n",
      "qq = QoreQuant()"
     ],
     "language": "python",
     "metadata": {},
     "outputs": [],
     "prompt_number": 1
    },
    {
     "cell_type": "code",
     "collapsed": false,
     "input": [
      "#xp = '//*[contains(@class, \"user-table-cell uttc-3\")]'\n",
      "#xp = '//*[@id=\"open-trades-holder\"]/div[2]/div/div/div[1]/div/div[1]/div/div/div[2]/span[2]'\n",
      "#xp = '//*[@id=\"open-trades-holder\"]/div[2]/div/div/div[1]/div/div[1]/div/div/div[2]/div/span[1]'\n",
      "xp = '//*[contains(@class, \"info-row-close-reason\")][2]'\n",
      "for i in qq.et.driver.find_elements_by_xpath(xp):\n",
      "    print i.text"
     ],
     "language": "python",
     "metadata": {},
     "outputs": []
    },
    {
     "cell_type": "code",
     "collapsed": false,
     "input": [
      "qq.et.etoroLogin()"
     ],
     "language": "python",
     "metadata": {},
     "outputs": []
    },
    {
     "cell_type": "code",
     "collapsed": false,
     "input": [
      "5.33*25"
     ],
     "language": "python",
     "metadata": {},
     "outputs": []
    },
    {
     "cell_type": "code",
     "collapsed": false,
     "input": [
      "print (1.0763-1.0948)*(5.52*25)\n",
      "print ((121.14-119.72)*(5.33*25))/119.72\n",
      "print (((1/121.14)-(1/119.72))*(5.33*25))\n"
     ],
     "language": "python",
     "metadata": {},
     "outputs": []
    },
    {
     "cell_type": "code",
     "collapsed": false,
     "input": [
      "print 27.83/29.22*100\n",
      "print 7.84/7.11*100"
     ],
     "language": "python",
     "metadata": {},
     "outputs": []
    },
    {
     "cell_type": "code",
     "collapsed": false,
     "input": [
      "qq.et.quit()"
     ],
     "language": "python",
     "metadata": {},
     "outputs": []
    },
    {
     "cell_type": "code",
     "collapsed": false,
     "input": [
      "print n.sum([126.54,135.04,135.12])/29.56\n",
      "print n.sum([47.28,66.67,29.27])/7.12"
     ],
     "language": "python",
     "metadata": {},
     "outputs": []
    },
    {
     "cell_type": "code",
     "collapsed": false,
     "input": [
      "qq.synchonizeTrades(dryrun=False)"
     ],
     "language": "python",
     "metadata": {},
     "outputs": []
    },
    {
     "cell_type": "code",
     "collapsed": false,
     "input": [
      "print 429.50/8.59\n",
      "print 215/4.3\n",
      "print 138/5.52\n",
      "print 95.96/21.48\n",
      "print 110.94/16.37"
     ],
     "language": "python",
     "metadata": {},
     "outputs": []
    },
    {
     "cell_type": "code",
     "collapsed": false,
     "input": [
      "95.66/429.50*100"
     ],
     "language": "python",
     "metadata": {},
     "outputs": []
    },
    {
     "cell_type": "code",
     "collapsed": false,
     "input": [
      "print -11.47/(1.0699-1.0966)\n",
      "openp = 1.0699\n",
      "currentp = 1.0966\n",
      "amount = 8.59\n",
      "gain = -11.47\n",
      "leverage = floor((gain/(openp-currentp))/amount / 25) * 25\n",
      "print leverage\n",
      "print amount * leverage\n",
      "print\n",
      "print 429.50*(1.0699-1.0966)"
     ],
     "language": "python",
     "metadata": {},
     "outputs": []
    },
    {
     "cell_type": "code",
     "collapsed": false,
     "input": [
      "########\n",
      "## POSITION ROUTINES\n",
      "######\n",
      "# gets positions\n",
      "print p.DataFrame(qq.oanda2.get_positions(qq.accid2)['positions'])\n",
      "# gets trades\n",
      "print p.DataFrame(qq.oanda2.get_trades(qq.accid2)['trades'])"
     ],
     "language": "python",
     "metadata": {},
     "outputs": []
    },
    {
     "cell_type": "code",
     "collapsed": false,
     "input": [
      "# gets account\n",
      "account = qq.oanda2.get_account(qq.accid2)\n",
      "print account\n",
      "# gets all accounts\n",
      "print p.DataFrame(qq.oanda1.get_accounts())\n",
      "\n",
      "# prints all positions\n",
      "positions = qq.oanda1.get_positions(qq.accid1)\n",
      "for i in positions['positions']:\n",
      "    print p.DataFrame(i, index=[0])\n",
      "print account['balance']\n",
      "\n",
      "# prints account details\n",
      "print p.DataFrame(qq.oanda1.get_account(qq.accid1), index=[0]).transpose()\n",
      "#print p.DataFrame(qq.oanda1.get_account(qq.accid1)['marginUsed'])\n",
      "#print p.DataFrame(qq.oanda1.get_account(qq.accid1)['marginAvail'])\n",
      "\n",
      "# gets accounts\n",
      "for i in qq.oanda2.get_accounts():\n",
      "    print (i)\n",
      "# gets all positions\n",
      "for i in qq.oanda2.get_positions(qq.accid2):\n",
      "    print i\n",
      "    #print p.DataFrame()\n",
      "\n",
      "pos1 = qq.oanda1.get_positions(qq.accid1); \n",
      "pos2 = qq.oanda2.get_positions(qq.accid2); \n",
      "print p.DataFrame(pos1['positions']); print\n",
      "print p.DataFrame(pos2['positions'])"
     ],
     "language": "python",
     "metadata": {},
     "outputs": []
    },
    {
     "cell_type": "code",
     "collapsed": false,
     "input": [
      "# gets target portfolio from etoro\n",
      "targetPortfolio2 = qq.prepTargetPortfolio()\n",
      "print targetPortfolio2\n",
      "# generates target porfolio\n",
      "df = qq.generateTargetPortfolio(targetPortfolio2)\n",
      "print df\n",
      "# sends orders to market\n",
      "#sendToMarket(df)"
     ],
     "language": "python",
     "metadata": {},
     "outputs": []
    },
    {
     "cell_type": "code",
     "collapsed": false,
     "input": [
      "# polarize portfolio tests\n",
      "#print n.array().reshape(1,10)\n",
      "print prepTestDataFrame(targetPortfolio2.ix[:,0:5])\n",
      "df = p.DataFrame(n.array([u'EUR_USD', u'SELL', 121.0, 1.0, 1.1824, u'USD_JPY', u'BUY', 111.0, 137.0, 112.78]).reshape(2,5))\n",
      "df = polarizePortfolio(df, 2, 'amount', 1)\n",
      "print df\n",
      "df1 = polarizePortfolio(targetPortfolio2, 'risk2', 'amount', 'bias')\n",
      "print df1\n",
      "#prepTestDataFrame(df1, verbose=0)\n",
      "#print n.array().reshape() == [u'EUR_USD', u'SELL', 121.0, 1.0, 1.1824, -121.0, u'USD_JPY', u'BUY', 111.0, 137.0, 112.78, 111.0]\n",
      "#[u'EUR_USD', u'SELL', 121.0, 1.0, 1.1824, -121.0, u'USD_JPY', u'BUY', 111.0, 137.0, 112.78, 111.0]\n",
      "#qq.sendToMarket(df)"
     ],
     "language": "python",
     "metadata": {},
     "outputs": []
    },
    {
     "cell_type": "code",
     "collapsed": false,
     "input": [
      "# calculate what to trade based on given live and target portfolios\n",
      "targetPortfolio = [['AAPL', 'BAC', 'BOA', 'DAL'], [1032, 123, 98, 9812]]\n",
      "livePortfolio = [['AAPL', 'BAC', 'BOA', 'DAL'], [930, 230, 109, 2130]]\n",
      "qq = QoreQuant()\n",
      "tt = qq.toTrade(livePortfolio, targetPortfolio)\n",
      "print tt"
     ],
     "language": "python",
     "metadata": {},
     "outputs": []
    },
    {
     "cell_type": "code",
     "collapsed": false,
     "input": [
      "qq.et.getEtoroTraderPositions('noasnoas')"
     ],
     "language": "python",
     "metadata": {},
     "outputs": []
    },
    {
     "cell_type": "code",
     "collapsed": false,
     "input": [
      "qq.et.getEtoroTraderPositions('CLHedgeFund')"
     ],
     "language": "python",
     "metadata": {},
     "outputs": []
    },
    {
     "cell_type": "code",
     "collapsed": false,
     "input": [
      "qq.et.discoverInvestors()"
     ],
     "language": "python",
     "metadata": {},
     "outputs": []
    },
    {
     "cell_type": "code",
     "collapsed": false,
     "input": [
      "df = qq.et.getEtoroDiscoverPeople()\n",
      "print df"
     ],
     "language": "python",
     "metadata": {},
     "outputs": []
    },
    {
     "cell_type": "code",
     "collapsed": false,
     "input": [
      "Selenium.scrollToBottom()"
     ],
     "language": "python",
     "metadata": {},
     "outputs": []
    },
    {
     "cell_type": "code",
     "collapsed": false,
     "input": [
      "import numpy as n\n",
      "p9 = n.array(df['p2'])[:]\n",
      "#n.genfromtxt()\n",
      "for i in xrange(len(p9)):\n",
      "    # source: http://stackoverflow.com/questions/10930908/converting-ill-formed-csv-file-to-numpy-array\n",
      "    p9[i] = float(str(p9[i]).replace(',', ''))\n",
      "#print p.DataFrame(p9)\n",
      "\n",
      "#p9 = norma\n",
      "plot(p9); show();"
     ],
     "language": "python",
     "metadata": {},
     "outputs": []
    }
   ],
   "metadata": {}
  }
 ]
}