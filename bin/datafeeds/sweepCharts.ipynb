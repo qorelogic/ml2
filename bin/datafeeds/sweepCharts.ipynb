{
 "cells": [
  {
   "cell_type": "code",
   "execution_count": null,
   "metadata": {
    "collapsed": false
   },
   "outputs": [],
   "source": [
    "%reload_ext autoreload\n",
    "%autoreload 2\n",
    "%reload_ext memory_profiler\n",
    "%reload_ext line_profiler\n",
    "%pylab inline\n",
    "\n",
    "import sys\n",
    "try: sys.path.index('/ml.dev/bin')\n",
    "except: sys.path.append('/ml.dev/bin')\n",
    "\n",
    "from qore import *\n",
    "from qoreliquid import *\n",
    "from qorequant import QoreQuant\n",
    "import pandas as p\n",
    "import numpy as n\n",
    "import mpld3\n",
    "from pylab import rcParams\n",
    "rcParams['figure.figsize'] = 16, 5\n",
    "from pylab import *"
   ]
  },
  {
   "cell_type": "code",
   "execution_count": null,
   "metadata": {
    "collapsed": false
   },
   "outputs": [],
   "source": [
    "pairs = 'EUR_USD AUD_USD USD_CAD USD_CHF'.split(' ' )\n",
    "pairs = ['EUR_USD', 'GBP_USD', 'AUD_USD', 'AUD_JPY', 'NZD_USD', 'NZD_EUR', 'USD_JPY',  'USD_CHF', 'USD_CAD','GBP_JPY', 'EUR_NZD', 'GBP_NZD', 'AUD_NZD', 'NZD_JPY']\n",
    "pair = pairs[3]\n",
    "granularities = list(p.DataFrame(['D','H4','H1','M30','M15','M5','M1','S10','S5']).sort(ascending=False).transpose().get_values()[0])\n",
    "count = 200\n",
    "plot=True\n",
    "noUpdate=False\n",
    "\n",
    "rcParams['figure.figsize'] = 12, 5\n",
    "#rcParams['figure.figsize'] = 16, 5\n",
    "\n",
    "qq = QoreQuant()\n",
    "qq.qd.off()\n",
    "qq.setVerbose(False)\n",
    "qq.granularities = granularities\n",
    "qq.pairs = pairs\n",
    "\n",
    "#mpld3.enable_notebook()\n",
    "mpld3.disable_notebook()"
   ]
  },
  {
   "cell_type": "code",
   "execution_count": null,
   "metadata": {
    "collapsed": false
   },
   "outputs": [],
   "source": [
    "import ujson\n",
    "import numpy\n",
    "\n",
    "ujson.dumps(numpy.min([1,2]))"
   ]
  },
  {
   "cell_type": "code",
   "execution_count": null,
   "metadata": {
    "collapsed": false
   },
   "outputs": [],
   "source": [
    "#%lprun -f qq.oq.updatePairGranularity -f qq.oq.appendHistoricalPrice -f qq.oq.getHistoricalPrice qq.oq.updatePairGranularity('EUR_USD', 'H1', noUpdate=False, plot=False)\n",
    "#%prun qq.sweepChartsConstantGranularity(granularities[2], pairs)\n",
    "%lprun -f qq.sweepChartsConstantGranularity -f qq.sweepCharts -f qq.visualizeVolume qq.sweepChartsConstantGranularity(granularities[5], pairs)\n",
    "#qq.sweepChartsConstantGranularity(granularities[7], pairs, onlyTradedPairs=True)"
   ]
  },
  {
   "cell_type": "code",
   "execution_count": null,
   "metadata": {
    "collapsed": false
   },
   "outputs": [],
   "source": [
    "qq.oq.updateBarsFromOanda(pair=pair, granularities=' '.join([granularity]), plot=plot, noUpdate=noUpdate)\n",
    "#qq.oq.dfa.keys()"
   ]
  },
  {
   "cell_type": "code",
   "execution_count": null,
   "metadata": {
    "collapsed": false
   },
   "outputs": [],
   "source": [
    "qq.sweepChartsConstantGranularity(granularities[2], pairs, onlyTradedPairs=True)"
   ]
  },
  {
   "cell_type": "code",
   "execution_count": null,
   "metadata": {
    "collapsed": false
   },
   "outputs": [],
   "source": [
    "qq.sweepChartsConstantGranularity(granularities[2], pairs, onlyTradedPairs=False)"
   ]
  },
  {
   "cell_type": "code",
   "execution_count": null,
   "metadata": {
    "collapsed": false
   },
   "outputs": [],
   "source": [
    "#qq.sweepChartsConstantPair()\n",
    "#qq.sweepChartsConstantGranularity()"
   ]
  },
  {
   "cell_type": "code",
   "execution_count": null,
   "metadata": {
    "collapsed": false
   },
   "outputs": [],
   "source": [
    "qq.sweepChartsConstantGranularity(granularities[0], pairs)"
   ]
  },
  {
   "cell_type": "code",
   "execution_count": null,
   "metadata": {
    "collapsed": false
   },
   "outputs": [],
   "source": [
    "qq.sweepChartsConstantGranularity(granularities[1], pairs)"
   ]
  },
  {
   "cell_type": "code",
   "execution_count": null,
   "metadata": {
    "collapsed": false
   },
   "outputs": [],
   "source": [
    "qq.sweepChartsConstantGranularity(granularities[2], pairs)"
   ]
  },
  {
   "cell_type": "code",
   "execution_count": null,
   "metadata": {
    "collapsed": false
   },
   "outputs": [],
   "source": [
    "qq.sweepChartsConstantGranularity(granularities[3], pairs)"
   ]
  },
  {
   "cell_type": "code",
   "execution_count": null,
   "metadata": {
    "collapsed": false
   },
   "outputs": [],
   "source": [
    "qq.sweepChartsConstantGranularity(granularities[4], pairs)"
   ]
  },
  {
   "cell_type": "code",
   "execution_count": null,
   "metadata": {
    "collapsed": false
   },
   "outputs": [],
   "source": [
    "qq.sweepChartsConstantGranularity(granularities[5], pairs)"
   ]
  },
  {
   "cell_type": "code",
   "execution_count": null,
   "metadata": {
    "collapsed": false
   },
   "outputs": [],
   "source": [
    "qq.sweepChartsConstantGranularity(granularities[6], pairs)"
   ]
  },
  {
   "cell_type": "code",
   "execution_count": null,
   "metadata": {
    "collapsed": false
   },
   "outputs": [],
   "source": [
    "qq.sweepChartsConstantGranularity(granularities[7], pairs)"
   ]
  },
  {
   "cell_type": "code",
   "execution_count": null,
   "metadata": {
    "collapsed": false
   },
   "outputs": [],
   "source": [
    "qq.sweepChartsConstantGranularity(granularities[8], pairs)"
   ]
  },
  {
   "cell_type": "code",
   "execution_count": null,
   "metadata": {
    "collapsed": false
   },
   "outputs": [],
   "source": [
    "currs = ['USD_CAD', 'USD_CHF','GBP_USD']\n",
    "\n",
    "def findBasePair(curr):\n",
    "    try:    return [currs[map(lambda x: x[0:3].lower() == curr.lower(), currs).index(True)], 1]\n",
    "    except: ''\n",
    "    try:    return [currs[map(lambda x: x[4:7].lower() == curr.lower(), currs).index(True)], 0]\n",
    "    except: ''\n",
    "findBasePair('gbp')"
   ]
  },
  {
   "cell_type": "code",
   "execution_count": null,
   "metadata": {
    "collapsed": false
   },
   "outputs": [],
   "source": [
    "ds = ['USD_JPY', 'na']\n",
    "ds = list(n.unique(ds))\n",
    "print ds\n",
    "dss = ds.index('na')\n",
    "print dss\n",
    "ds.remove('na')\n",
    "ds+ds"
   ]
  },
  {
   "cell_type": "code",
   "execution_count": null,
   "metadata": {
    "collapsed": false
   },
   "outputs": [],
   "source": [
    "print \n",
    "#df = qq.oq.syntheticCurrencyTable(p.DataFrame('CHF_JPY EUR_USD AUD_USD GBP_USD EUR_GBP'.split(' ')).ix[:,0])#['base']\n",
    "df = qq.oq.syntheticCurrencyTable(p.DataFrame(list(p.read_csv('/mldev/bin/data/oanda/cache/instruments.csv').ix[:,'instrument'])).ix[:,0], homeCurrency='GBP')\n",
    "df = p.DataFrame(df).set_index('instrument')\n",
    "print p.DataFrame(df)"
   ]
  },
  {
   "cell_type": "code",
   "execution_count": null,
   "metadata": {
    "collapsed": false,
    "scrolled": false
   },
   "outputs": [],
   "source": [
    "df = p.read_csv('/mldev/bin/data/oanda/logs/kpql.equity.log.csv')\n",
    "#df = df.convert_objects(convert_numeric=True)\n",
    "#print df#[1]\n",
    "#print df.ix[:,\"accountId\"]\n",
    "df = df.set_index('ts')\n",
    "df = df.ix[(df[\"accountId\"] == 61519), :]\n",
    "df['eq'] = df.ix[:, 'balance'] + df.ix[:, 'unrealizedPl']\n",
    "df = df.ix[:, ['balance', 'marginAvail', 'marginUsed', 'realizedPl', 'unrealizedPl']]\n",
    "#print df\n",
    "dfn = normalizeme(df)\n",
    "#dfn = sigmoidme(dfn)\n",
    "dfn.plot(); show();\n",
    "print df.tail(5)"
   ]
  },
  {
   "cell_type": "code",
   "execution_count": null,
   "metadata": {
    "collapsed": false
   },
   "outputs": [],
   "source": [
    "qq.update(pair='EUR_USD',granularity='M1')"
   ]
  },
  {
   "cell_type": "code",
   "execution_count": null,
   "metadata": {
    "collapsed": false
   },
   "outputs": [],
   "source": [
    "# spreads table\n",
    "pair = 'CHF_JPY,EUR_USD'\n",
    "#dfi = qq.oq.oanda2.get_instruments(qq.oq.aid, instruments=pair)\n",
    "dfi = qq.oq.oanda2.get_instruments(qq.oq.aid, instruments=None)\n",
    "dfi = p.DataFrame(dfi['instruments'])\n",
    "dfi = dfi.set_index('instrument')\n",
    "#print dfi\n",
    "#df = qq.oq.oanda2.get_prices(instruments=pair)\n",
    "df = qq.oq.oanda2.get_prices(instruments=','.join(list(dfi.index)))\n",
    "df = p.DataFrame(df['prices'])\n",
    "df['spread'] = abs(df['bid'] - df['ask'])\n",
    "df = df.set_index('instrument')\n",
    "df = df.combine_first(dfi)\n",
    "df['spreadq'] = abs(df['spread'] / df['pip'])\n",
    "df.sort('spreadq').ix[:,'spreadq']"
   ]
  },
  {
   "cell_type": "code",
   "execution_count": null,
   "metadata": {
    "collapsed": false
   },
   "outputs": [],
   "source": [
    "#qq = QoreQuant()\n",
    "qq.oq.oanda2.get_trades(qq.oq.aid)"
   ]
  },
  {
   "cell_type": "code",
   "execution_count": null,
   "metadata": {
    "collapsed": false
   },
   "outputs": [],
   "source": [
    "qq.oq.gotoMarket()"
   ]
  },
  {
   "cell_type": "code",
   "execution_count": null,
   "metadata": {
    "collapsed": false,
    "scrolled": false
   },
   "outputs": [],
   "source": [
    "qq = QoreQuant()\n",
    "df = qq.oq.oandaTransactionHistory(plot=False, startTs=0, fname='/home/qore/qorelogic/assets/sec-svn.git/assets/oanda/kpql/primary/e68e1395e67fdaf7ea752bc11df05f5c.csv')\n",
    "df = df.bfill().ffill()\n",
    "df = df.ix[:, :]\n",
    "#df = df.ix[:, ['accountBalance']]\n",
    "#dfp = df.ix[:, ['Balance']]\n",
    "#dfp.plot(); show();\n",
    "\n",
    "dfe = p.read_csv('/mldev/bin/data/oanda/logs/{0}.equity.log.csv'.format(qq.oq.oandaUsername))\n",
    "#dfe = dfe.convert_objects(convert_numeric=True)\n",
    "#print dfe#[1]\n",
    "#print dfe.ix[:,\"accountId\"]\n",
    "dfe = dfe.set_index('ts')\n",
    "dfe = dfe.ix[(dfe[\"accountId\"] == 61519), :]\n",
    "dfe['eq'] = dfe.ix[:, 'balance'] + dfe.ix[:, 'unrealizedPl']\n",
    "dfe = dfe.ix[:, ['balance', 'marginAvail', 'marginUsed', 'realizedPl', 'unrealizedPl']]\n",
    "dfe['Balance'] = dfe['balance']\n",
    "#print dfe\n",
    "headers = ['Balance','marginAvail', 'marginUsed', 'realizedPl', 'unrealizedPl']\n",
    "dfn = normalizeme(dfe)\n",
    "#dfn = sigmoidme(dfn)\n",
    "dfn.ix[:,headers].plot(); show();\n",
    "#print dfe.tail(5)\n",
    "\n",
    "df['ts1'] = qq.oq.oandaToTimestamp(df['time'])\n",
    "df['ticketno'] = df.index\n",
    "df = df.set_index('ts1')\n",
    "df = df.combine_first(dfe)#.bfill().ffill()\n",
    "dfp = df.ix[qq.oq.oandaToTimestamp('2015-09-06T20:55:29.000000Z'):, headers]\n",
    "#print dfp\n",
    "dfp = normalizeme(dfp)\n",
    "#dfp = sigmoidme(dfp)\n",
    "dfp.plot(); show();"
   ]
  },
  {
   "cell_type": "code",
   "execution_count": null,
   "metadata": {
    "collapsed": false
   },
   "outputs": [],
   "source": [
    "# ONLY TRADED PAIRS\n",
    "#========================================///////========================================//\n",
    "qq.sweepChartsConstantGranularity(granularities[0], pairs, onlyTradedPairs=True)"
   ]
  },
  {
   "cell_type": "code",
   "execution_count": null,
   "metadata": {
    "collapsed": false
   },
   "outputs": [],
   "source": [
    "qq.sweepChartsConstantGranularity(granularities[1], pairs, onlyTradedPairs=True)"
   ]
  },
  {
   "cell_type": "code",
   "execution_count": null,
   "metadata": {
    "collapsed": false
   },
   "outputs": [],
   "source": [
    "qq.sweepChartsConstantGranularity(granularities[2], pairs, onlyTradedPairs=True)"
   ]
  },
  {
   "cell_type": "code",
   "execution_count": null,
   "metadata": {
    "collapsed": false
   },
   "outputs": [],
   "source": [
    "qq.sweepChartsConstantGranularity(granularities[3], pairs, onlyTradedPairs=True)"
   ]
  },
  {
   "cell_type": "code",
   "execution_count": null,
   "metadata": {
    "collapsed": false
   },
   "outputs": [],
   "source": [
    "qq.sweepChartsConstantGranularity(granularities[4], pairs, onlyTradedPairs=True)"
   ]
  },
  {
   "cell_type": "code",
   "execution_count": null,
   "metadata": {
    "collapsed": false
   },
   "outputs": [],
   "source": [
    "qq = QoreQuant()\n",
    "qq.setVerbose(False)\n",
    "plot=False\n",
    "df = qq.oq.updatePairGranularity('EUR_USD', 'S5', plot=plot)\n",
    "#df = qq.oq.dfa['EUR_USD']['S5']\n",
    "list(df.index[n.isnan(df.ix[:,'volume'].get_values())])\n",
    "#print df\n",
    "#appendHistoricalPrice\n",
    "\n",
    "#df = qq.oq.updatePairGranularity('EUR_USD', 'M15')\n",
    "#qq.oq.oanda2.get_history(instrument='EUR_USD', granularity='M15', start='2015-04-24T18:45:00.000000Z', end='2015-07-29T20:30:00.000000Z')\n",
    "df = qq.oq.oanda2.get_history(instrument='EUR_USD', granularity='M15', count=50)\n",
    "df = p.DataFrame(df['candles'])\n",
    "#df"
   ]
  },
  {
   "cell_type": "code",
   "execution_count": null,
   "metadata": {
    "collapsed": false
   },
   "outputs": [],
   "source": [
    "qq.sweepChartsConstantGranularity(granularities[5], pairs, onlyTradedPairs=True)"
   ]
  },
  {
   "cell_type": "code",
   "execution_count": null,
   "metadata": {
    "collapsed": false
   },
   "outputs": [],
   "source": [
    "qq.vizVolume(0,8)"
   ]
  },
  {
   "cell_type": "code",
   "execution_count": null,
   "metadata": {
    "collapsed": false
   },
   "outputs": [],
   "source": [
    "qq.vizVolume(0,0)"
   ]
  },
  {
   "cell_type": "code",
   "execution_count": null,
   "metadata": {
    "collapsed": false
   },
   "outputs": [],
   "source": [
    "qq.vizVolume(1,1)"
   ]
  },
  {
   "cell_type": "code",
   "execution_count": null,
   "metadata": {
    "collapsed": false
   },
   "outputs": [],
   "source": [
    "qq.vizVolume(2,2)"
   ]
  },
  {
   "cell_type": "code",
   "execution_count": null,
   "metadata": {
    "collapsed": false,
    "scrolled": true
   },
   "outputs": [],
   "source": [
    "qq.vizVolume(3,3)"
   ]
  },
  {
   "cell_type": "code",
   "execution_count": null,
   "metadata": {
    "collapsed": false,
    "scrolled": true
   },
   "outputs": [],
   "source": [
    "qq.vizVolume(4,4)"
   ]
  },
  {
   "cell_type": "code",
   "execution_count": null,
   "metadata": {
    "collapsed": false
   },
   "outputs": [],
   "source": [
    "qq.vizVolume(4, 6)"
   ]
  },
  {
   "cell_type": "code",
   "execution_count": null,
   "metadata": {
    "collapsed": false
   },
   "outputs": [],
   "source": [
    "babysitTrades2(qq, acc)"
   ]
  },
  {
   "cell_type": "code",
   "execution_count": null,
   "metadata": {
    "collapsed": false
   },
   "outputs": [],
   "source": [
    "acc = qq.oq.oanda2.get_account(qq.oq.aid)\n",
    "print acc\n",
    "bal = acc['balance']\n",
    "targetPl = bal * 1. / 100\n",
    "unrealizedPl = acc['unrealizedPl']\n",
    "print unrealizedPl\n",
    "print unrealizedPl / bal * 100\n",
    "print targetPl\n",
    "if unrealizedPl >= targetPl:\n",
    "    print 'yay!'\n",
    "    #qq.oq.oanda2.modify_trade(qq.oq.aid, tid, trailingStop=10)    \n",
    "else:\n",
    "    print 'ah damn!'"
   ]
  },
  {
   "cell_type": "code",
   "execution_count": null,
   "metadata": {
    "collapsed": false
   },
   "outputs": [],
   "source": [
    "import time\n",
    "\n",
    "df = qq.oq.oanda2.get_trades(qq.oq.aid)['trades']\n",
    "\n",
    "#df = p.DataFrame(df)\n",
    "#print df\n",
    "\n",
    "for c in xrange(10):    \n",
    "    \n",
    "    monpos2(df, qq.oq.oanda2.get_prices(instruments='EUR_USD')['prices'][0])\n",
    "    \n",
    "    break\n",
    "    time.sleep(1)"
   ]
  },
  {
   "cell_type": "code",
   "execution_count": null,
   "metadata": {
    "collapsed": false
   },
   "outputs": [],
   "source": [
    "df = p.Series([1,3,4,5]).to_frame('123')\n",
    "print type(df['123'])\n",
    "print type(df)"
   ]
  },
  {
   "cell_type": "code",
   "execution_count": null,
   "metadata": {
    "collapsed": false
   },
   "outputs": [],
   "source": [
    "#n.empty(3)\n",
    "res = False\n",
    "res = p.DataFrame([])\n",
    "print res.shape\n",
    "#if res == n.empty(res.shape):\n",
    "if res.get_values() == n.empty(res.shape):\n",
    "    print 1\n",
    "else:\n",
    "    print 0"
   ]
  },
  {
   "cell_type": "code",
   "execution_count": null,
   "metadata": {
    "collapsed": false
   },
   "outputs": [],
   "source": [
    "qq = QoreQuant()\n",
    "qq.\n",
    "qq.update(pair='EURUSD', granularity='M15')"
   ]
  },
  {
   "cell_type": "code",
   "execution_count": null,
   "metadata": {
    "collapsed": false,
    "scrolled": false
   },
   "outputs": [],
   "source": [
    "qq = QoreQuant()\n",
    "qq.showLevels()"
   ]
  },
  {
   "cell_type": "code",
   "execution_count": null,
   "metadata": {
    "collapsed": false
   },
   "outputs": [],
   "source": [
    "import numpy as np\n",
    "a = np.array([[1, 1],\n",
    "              [0, 1]])\n",
    "n = 5\n",
    "np.kron(a, np.ones((n,n)))"
   ]
  },
  {
   "cell_type": "code",
   "execution_count": null,
   "metadata": {
    "collapsed": false
   },
   "outputs": [],
   "source": [
    "grid = np.random.random((10,10))\n",
    "print grid\n",
    "imshow(grid, extent=[0,100,0,1], aspect=100)\n",
    "title('Manually Set Aspect')\n",
    "tight_layout()\n",
    "show()\n",
    "\n",
    "# source: http://matplotlib.org/examples/pylab_examples/hist2d_demo.html\n",
    "x = randn(1000)\n",
    "y = randn(1000)+5\n",
    "\n",
    "#normal distribution center at x=0 and y=5\n",
    "scatter(x,y)\n",
    "hist2d(x,y,bins=20)\n",
    "show()"
   ]
  },
  {
   "cell_type": "code",
   "execution_count": null,
   "metadata": {
    "collapsed": true
   },
   "outputs": [],
   "source": [
    "from qoreliquid import QoreQuant\n",
    "qq = QoreQuant()\n",
    "df = qq.analyseInvestingTechnical(showPlot=True)\n",
    "df.transpose()"
   ]
  }
 ],
 "metadata": {
  "kernelspec": {
   "display_name": "Python 2",
   "language": "python",
   "name": "python2"
  },
  "language_info": {
   "codemirror_mode": {
    "name": "ipython",
    "version": 2
   },
   "file_extension": ".py",
   "mimetype": "text/x-python",
   "name": "python",
   "nbconvert_exporter": "python",
   "pygments_lexer": "ipython2",
   "version": "2.7.6"
  }
 },
 "nbformat": 4,
 "nbformat_minor": 0
}
