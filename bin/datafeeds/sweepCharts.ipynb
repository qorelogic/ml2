{
 "cells": [
  {
   "cell_type": "code",
   "execution_count": 1,
   "metadata": {
    "collapsed": false
   },
   "outputs": [
    {
     "name": "stdout",
     "output_type": "stream",
     "text": [
      "Populating the interactive namespace from numpy and matplotlib\n"
     ]
    }
   ],
   "source": [
    "%reload_ext autoreload\n",
    "%autoreload 2\n",
    "%reload_ext memory_profiler\n",
    "%reload_ext line_profiler\n",
    "%pylab inline\n",
    "\n",
    "import sys\n",
    "try: sys.path.index('/ml.dev/bin')\n",
    "except: sys.path.append('/ml.dev/bin')\n",
    "\n",
    "from qore import *\n",
    "from qoreliquid import *\n",
    "import pandas as p\n",
    "import numpy as n\n",
    "#import mpld3\n",
    "from pylab import rcParams\n",
    "rcParams['figure.figsize'] = 16, 5\n",
    "from pylab import *"
   ]
  },
  {
   "cell_type": "code",
   "execution_count": null,
   "metadata": {
    "collapsed": false
   },
   "outputs": [],
   "source": [
    "pairs = 'EUR_USD AUD_USD USD_CAD USD_CHF'.split(' ' )\n",
    "pairs = ['EUR_USD', 'GBP_USD', 'AUD_USD', 'AUD_JPY', 'NZD_USD', 'NZD_EUR', 'USD_JPY',  'USD_CHF', 'USD_CAD','GBP_JPY', 'EUR_NZD', 'GBP_NZD', 'AUD_NZD', 'NZD_JPY']\n",
    "pair = pairs[3]\n",
    "granularities = list(p.DataFrame(['D','H4','H1','M30','M15','M5','M1','S10','S5']).sort(ascending=False).transpose().get_values()[0])\n",
    "count = 200\n",
    "plot=True\n",
    "noUpdate=False\n",
    "\n",
    "rcParams['figure.figsize'] = 12, 5\n",
    "#rcParams['figure.figsize'] = 16, 5\n",
    "\n",
    "qq = QoreQuant()\n",
    "qq.qd.off()\n",
    "qq.setVerbose(False)\n",
    "qq.granularities = granularities\n",
    "qq.pairs = pairs\n",
    "\n",
    "mpld3.enable_notebook()"
   ]
  },
  {
   "cell_type": "code",
   "execution_count": null,
   "metadata": {
    "collapsed": false
   },
   "outputs": [],
   "source": [
    "#%lprun -f qq.oq.updatePairGranularity -f qq.oq.appendHistoricalPrice -f qq.oq.getHistoricalPrice qq.oq.updatePairGranularity('EUR_USD', 'H1', noUpdate=False, plot=False)\n",
    "#%prun qq.sweepChartsConstantGranularity(granularities[2], pairs)\n",
    "%lprun -f qq.sweepChartsConstantGranularity -f qq.sweepCharts -f qq.visualizeVolume qq.sweepChartsConstantGranularity(granularities[5], pairs)\n",
    "#qq.sweepChartsConstantGranularity(granularities[7], pairs, onlyTradedPairs=True)"
   ]
  },
  {
   "cell_type": "code",
   "execution_count": null,
   "metadata": {
    "collapsed": false
   },
   "outputs": [],
   "source": [
    "qq.oq.updateBarsFromOanda(pair=pair, granularities=' '.join([granularity]), plot=plot, noUpdate=noUpdate)\n",
    "#qq.oq.dfa.keys()"
   ]
  },
  {
   "cell_type": "code",
   "execution_count": null,
   "metadata": {
    "collapsed": false
   },
   "outputs": [],
   "source": [
    "qq.sweepChartsConstantGranularity(granularities[2], pairs, onlyTradedPairs=True)"
   ]
  },
  {
   "cell_type": "code",
   "execution_count": null,
   "metadata": {
    "collapsed": false
   },
   "outputs": [],
   "source": [
    "qq.sweepChartsConstantGranularity(granularities[2], pairs, onlyTradedPairs=False)"
   ]
  },
  {
   "cell_type": "code",
   "execution_count": null,
   "metadata": {
    "collapsed": false
   },
   "outputs": [],
   "source": [
    "#qq.sweepChartsConstantPair()\n",
    "#qq.sweepChartsConstantGranularity()"
   ]
  },
  {
   "cell_type": "code",
   "execution_count": null,
   "metadata": {
    "collapsed": false
   },
   "outputs": [],
   "source": [
    "qq.sweepChartsConstantGranularity(granularities[0], pairs)"
   ]
  },
  {
   "cell_type": "code",
   "execution_count": null,
   "metadata": {
    "collapsed": false
   },
   "outputs": [],
   "source": [
    "qq.sweepChartsConstantGranularity(granularities[1], pairs)"
   ]
  },
  {
   "cell_type": "code",
   "execution_count": null,
   "metadata": {
    "collapsed": false
   },
   "outputs": [],
   "source": [
    "qq.sweepChartsConstantGranularity(granularities[2], pairs)"
   ]
  },
  {
   "cell_type": "code",
   "execution_count": null,
   "metadata": {
    "collapsed": false
   },
   "outputs": [],
   "source": [
    "qq.sweepChartsConstantGranularity(granularities[3], pairs)"
   ]
  },
  {
   "cell_type": "code",
   "execution_count": null,
   "metadata": {
    "collapsed": false
   },
   "outputs": [],
   "source": [
    "qq.sweepChartsConstantGranularity(granularities[4], pairs)"
   ]
  },
  {
   "cell_type": "code",
   "execution_count": null,
   "metadata": {
    "collapsed": false
   },
   "outputs": [],
   "source": [
    "qq.sweepChartsConstantGranularity(granularities[5], pairs)"
   ]
  },
  {
   "cell_type": "code",
   "execution_count": null,
   "metadata": {
    "collapsed": false
   },
   "outputs": [],
   "source": [
    "qq.sweepChartsConstantGranularity(granularities[6], pairs)"
   ]
  },
  {
   "cell_type": "code",
   "execution_count": null,
   "metadata": {
    "collapsed": false
   },
   "outputs": [],
   "source": [
    "qq.sweepChartsConstantGranularity(granularities[7], pairs)"
   ]
  },
  {
   "cell_type": "code",
   "execution_count": null,
   "metadata": {
    "collapsed": false
   },
   "outputs": [],
   "source": [
    "qq.sweepChartsConstantGranularity(granularities[8], pairs)"
   ]
  },
  {
   "cell_type": "code",
   "execution_count": null,
   "metadata": {
    "collapsed": false
   },
   "outputs": [],
   "source": [
    "qq.oq.oandaTransactionHistory()\n",
    "qq.oq.oanda2."
   ]
  },
  {
   "cell_type": "code",
   "execution_count": null,
   "metadata": {
    "collapsed": false
   },
   "outputs": [],
   "source": [
    "# ONLY TRADED PAIRS\n",
    "#========================================///////========================================//\n",
    "qq.sweepChartsConstantGranularity(granularities[0], pairs, onlyTradedPairs=True)"
   ]
  },
  {
   "cell_type": "code",
   "execution_count": null,
   "metadata": {
    "collapsed": false
   },
   "outputs": [],
   "source": [
    "qq.sweepChartsConstantGranularity(granularities[1], pairs, onlyTradedPairs=True)"
   ]
  },
  {
   "cell_type": "code",
   "execution_count": null,
   "metadata": {
    "collapsed": false
   },
   "outputs": [],
   "source": [
    "qq.sweepChartsConstantGranularity(granularities[2], pairs, onlyTradedPairs=True)"
   ]
  },
  {
   "cell_type": "code",
   "execution_count": null,
   "metadata": {
    "collapsed": false
   },
   "outputs": [],
   "source": [
    "qq.sweepChartsConstantGranularity(granularities[3], pairs, onlyTradedPairs=True)"
   ]
  },
  {
   "cell_type": "code",
   "execution_count": null,
   "metadata": {
    "collapsed": false
   },
   "outputs": [],
   "source": [
    "qq.sweepChartsConstantGranularity(granularities[4], pairs, onlyTradedPairs=True)"
   ]
  },
  {
   "cell_type": "code",
   "execution_count": null,
   "metadata": {
    "collapsed": false
   },
   "outputs": [],
   "source": [
    "qq = QoreQuant()\n",
    "qq.setVerbose(False)\n",
    "plot=False\n",
    "df = qq.oq.updatePairGranularity('EUR_USD', 'S5', plot=plot)\n",
    "#df = qq.oq.dfa['EUR_USD']['S5']\n",
    "list(df.index[n.isnan(df.ix[:,'volume'].get_values())])\n",
    "#print df\n",
    "#appendHistoricalPrice\n",
    "\n",
    "#df = qq.oq.updatePairGranularity('EUR_USD', 'M15')\n",
    "#qq.oq.oanda2.get_history(instrument='EUR_USD', granularity='M15', start='2015-04-24T18:45:00.000000Z', end='2015-07-29T20:30:00.000000Z')\n",
    "df = qq.oq.oanda2.get_history(instrument='EUR_USD', granularity='M15', count=50)\n",
    "df = p.DataFrame(df['candles'])\n",
    "#df"
   ]
  },
  {
   "cell_type": "code",
   "execution_count": null,
   "metadata": {
    "collapsed": false
   },
   "outputs": [],
   "source": [
    "qq.sweepChartsConstantGranularity(granularities[5], pairs, onlyTradedPairs=True)"
   ]
  },
  {
   "cell_type": "code",
   "execution_count": null,
   "metadata": {
    "collapsed": false
   },
   "outputs": [],
   "source": [
    "qq.vizVolume(0,8)"
   ]
  },
  {
   "cell_type": "code",
   "execution_count": null,
   "metadata": {
    "collapsed": false
   },
   "outputs": [],
   "source": [
    "qq.vizVolume(0,0)"
   ]
  },
  {
   "cell_type": "code",
   "execution_count": null,
   "metadata": {
    "collapsed": false
   },
   "outputs": [],
   "source": [
    "qq.vizVolume(1,1)"
   ]
  },
  {
   "cell_type": "code",
   "execution_count": null,
   "metadata": {
    "collapsed": false
   },
   "outputs": [],
   "source": [
    "qq.vizVolume(2,2)"
   ]
  },
  {
   "cell_type": "code",
   "execution_count": null,
   "metadata": {
    "collapsed": false,
    "scrolled": true
   },
   "outputs": [],
   "source": [
    "qq.vizVolume(3,3)"
   ]
  },
  {
   "cell_type": "code",
   "execution_count": null,
   "metadata": {
    "collapsed": false,
    "scrolled": true
   },
   "outputs": [],
   "source": [
    "qq.vizVolume(4,4)"
   ]
  },
  {
   "cell_type": "code",
   "execution_count": null,
   "metadata": {
    "collapsed": false
   },
   "outputs": [],
   "source": [
    "qq.vizVolume(4, 6)"
   ]
  },
  {
   "cell_type": "code",
   "execution_count": null,
   "metadata": {
    "collapsed": false
   },
   "outputs": [],
   "source": [
    "babysitTrades2(qq, acc)"
   ]
  },
  {
   "cell_type": "code",
   "execution_count": null,
   "metadata": {
    "collapsed": false
   },
   "outputs": [],
   "source": [
    "acc = qq.oq.oanda2.get_account(qq.oq.aid)\n",
    "print acc\n",
    "bal = acc['balance']\n",
    "targetPl = bal * 1. / 100\n",
    "unrealizedPl = acc['unrealizedPl']\n",
    "print unrealizedPl\n",
    "print unrealizedPl / bal * 100\n",
    "print targetPl\n",
    "if unrealizedPl >= targetPl:\n",
    "    print 'yay!'\n",
    "    #qq.oq.oanda2.modify_trade(qq.oq.aid, tid, trailingStop=10)    \n",
    "else:\n",
    "    print 'ah damn!'"
   ]
  },
  {
   "cell_type": "code",
   "execution_count": null,
   "metadata": {
    "collapsed": false
   },
   "outputs": [],
   "source": [
    "import time\n",
    "\n",
    "df = qq.oq.oanda2.get_trades(qq.oq.aid)['trades']\n",
    "\n",
    "#df = p.DataFrame(df)\n",
    "#print df\n",
    "\n",
    "for c in xrange(10):    \n",
    "    \n",
    "    monpos2(df, qq.oq.oanda2.get_prices(instruments='EUR_USD')['prices'][0])\n",
    "    \n",
    "    break\n",
    "    time.sleep(1)"
   ]
  },
  {
   "cell_type": "code",
   "execution_count": null,
   "metadata": {
    "collapsed": false
   },
   "outputs": [],
   "source": [
    "df = p.Series([1,3,4,5]).to_frame('123')\n",
    "print type(df['123'])\n",
    "print type(df)"
   ]
  },
  {
   "cell_type": "code",
   "execution_count": null,
   "metadata": {
    "collapsed": false
   },
   "outputs": [],
   "source": [
    "#n.empty(3)\n",
    "res = False\n",
    "res = p.DataFrame([])\n",
    "print res.shape\n",
    "#if res == n.empty(res.shape):\n",
    "if res.get_values() == n.empty(res.shape):\n",
    "    print 1\n",
    "else:\n",
    "    print 0"
   ]
  },
  {
   "cell_type": "code",
   "execution_count": null,
   "metadata": {
    "collapsed": false
   },
   "outputs": [],
   "source": [
    "qq = QoreQuant()\n",
    "qq.\n",
    "qq.update(pair='EURUSD', granularity='M15')"
   ]
  },
  {
   "cell_type": "code",
   "execution_count": null,
   "metadata": {
    "collapsed": false,
    "scrolled": false
   },
   "outputs": [],
   "source": [
    "qq = QoreQuant()\n",
    "qq.showLevels()"
   ]
  },
  {
   "cell_type": "code",
   "execution_count": null,
   "metadata": {
    "collapsed": false
   },
   "outputs": [],
   "source": [
    "import numpy as np\n",
    "a = np.array([[1, 1],\n",
    "              [0, 1]])\n",
    "n = 5\n",
    "np.kron(a, np.ones((n,n)))"
   ]
  },
  {
   "cell_type": "code",
   "execution_count": null,
   "metadata": {
    "collapsed": false
   },
   "outputs": [],
   "source": [
    "grid = np.random.random((10,10))\n",
    "print grid\n",
    "imshow(grid, extent=[0,100,0,1], aspect=100)\n",
    "title('Manually Set Aspect')\n",
    "tight_layout()\n",
    "show()\n",
    "\n",
    "# source: http://matplotlib.org/examples/pylab_examples/hist2d_demo.html\n",
    "x = randn(1000)\n",
    "y = randn(1000)+5\n",
    "\n",
    "#normal distribution center at x=0 and y=5\n",
    "scatter(x,y)\n",
    "hist2d(x,y,bins=20)\n",
    "show()"
   ]
  },
  {
   "cell_type": "code",
   "execution_count": 2,
   "metadata": {
    "collapsed": false,
    "scrolled": false
   },
   "source": [
    "from qoreliquid import QoreQuant\n",
    "qq = QoreQuant()\n",
    "df = qq.analyseInvestingTechnical(showPlot=True)\n",
    "df.transpose()"
   ]
  },
  {
   "cell_type": "code",
   "execution_count": null,
   "metadata": {
    "collapsed": false,
    "scrolled": false
   },
   "outputs": [],
   "source": [
    "df = p.read_csv('/mldev/lib/crawlers/finance/dataPipeline.scrapy/investingWorldGovernmentBonds_numbeo.csv').set_index('time')\n",
    "dfp = df\n",
    "dfp = df.ix[:,'chg high chgpcnt low prev iyield'.split(' ')]\n",
    "dfp = normalizeme(dfp)\n",
    "dfp = sigmoidme(dfp)\n",
    "dfp.plot(); show();\n",
    "print df.ix[:,'name iyield'.split(' ')].sort('iyield')"
   ]
  },
  {
   "cell_type": "code",
   "execution_count": null,
   "metadata": {
    "collapsed": false,
    "scrolled": false
   },
   "outputs": [],
   "source": [
    "# Autochartist/Oanda API fun\n",
    "\n",
    "def gcc(pp, hh):\n",
    "    di = {'1':'M1', '5':'M5', '15':'M15', '30':'M30', '60':'H4', '240':'H4', '1440':'D', '1240':'H4', '2240':'H4'}\n",
    "    try:\n",
    "        df = p.read_csv('/mldev/bin/data/oanda/ticks/{0}/{0}-{1}.csv'.format(pp,di[str(hh)]))\n",
    "        df['time2'] = qq.sw.oq.oandaToTimestamp(df['time'])\n",
    "        df = df.set_index('time2')\n",
    "        #df.ix[:,'closeAsk closeBid'.split(' ')].plot(); show();\n",
    "        #print df.tail(10)\n",
    "        return df\n",
    "    except: ''\n",
    "    \n",
    "#qq = QoreQuant()\n",
    "qq.sw.oq.oanda2\n",
    "\n",
    "oanda2 = qq.sw.oq.oanda2\n",
    "\n",
    "account_id = qq.sw.oq.aid\n",
    "#oanda2.get_trades(account_id)\n",
    "\n",
    "#endpoint = 'v1/accounts/%s/positions' % (account_id)\n",
    "#print oanda2.request(endpoint)#, params=params)\n",
    "\n",
    "endpoint = '/labs/v1/signal/autochartist'# % (account_id)\n",
    "params = {}\n",
    "#params['instrument'] = 'GBP_JPY'\n",
    "params['period'] = 604800\n",
    "#params['type']   = 'keylevel'\n",
    "#res = oanda2.request(endpoint, params=params)\n",
    "#print p.DataFrame(res['signals'])\n",
    "#print res['signals']\n",
    "#print p.DataFrame(res)\n",
    "resi = res['signals']\n",
    "for resij in resi:\n",
    "    print resij['instrument']\n",
    "    print resij['type']\n",
    "    print p.DataFrame(resij).ix['patternendtime'.split(' '),'data'.split(',')].get_values()[0][0]; print;\n",
    "    print resij['meta']['interval']\n",
    "    print resij['meta']['probability']\n",
    "    \n",
    "    dp = p.DataFrame(resij['data']['points'])    \n",
    "    print dp; print;\n",
    "    dpp = gcc(resij['instrument'], resij['meta']['interval'])\n",
    "    try: plot(dp.ix['x0 x1'.split(' '), 'resistance'], dp.ix['y0 y1'.split(' '), 'resistance'])\n",
    "    except: ''\n",
    "    try: plot(dp.ix['x0 x1'.split(' '), 'support'],    dp.ix['y0 y1'.split(' '), 'support'])\n",
    "    except: ''\n",
    "    print \n",
    "    try: \n",
    "        bb = 200\n",
    "        plot( dpp.index[len(dpp)-bb:len(dpp)], dpp.ix[dpp.index[len(dpp)-bb:len(dpp)], 'closeAsk closeBid'.split(' ')])\n",
    "    except: ''\n",
    "    show()\n",
    "    print 'data points'\n",
    "    print p.DataFrame(resij['data']['points']); print;\n",
    "    \n",
    "    print 'data prediction'\n",
    "    try: print p.DataFrame(resij['data']['prediction'], index=[0]); print;\n",
    "    except: ''\n",
    "        \n",
    "    print 'meta historical stats'\n",
    "    print p.DataFrame(resij['meta']['historicalstats']); print;\n",
    "    \n",
    "    print 'meta scores'\n",
    "    print p.DataFrame(resij['meta']['scores'], index=[0]); print;\n",
    "    \n",
    "    #print 'all'\n",
    "    #print p.DataFrame(resij).ix['completed direction interval length pattern patternendtime points probability trendtype'.split(' '),'meta'.split(' ')]; print;\n",
    "    print; \n",
    "    #print p.DataFrame(resij).ix[:,'meta'.split(',')].transpose()\n",
    "    #print p.DataFrame(resij)#.ix[:,'id,instrument,type'.split(',')]\n",
    "    print '========================================'\n",
    "    \n",
    "    #break\n",
    "#rint p.DataFrame(res['signals'])\n"
   "execution_count": 4,
   "metadata": {
    "collapsed": false
   },
   "outputs": [
    {
     "data": {
      "image/png": "iVBORw0KGgoAAAANSUhEUgAAAXUAAAEACAYAAABMEua6AAAABHNCSVQICAgIfAhkiAAAAAlwSFlz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\nAElFTkSuQmCC\n",
      "text/plain": [
       "<matplotlib.figure.Figure at 0x7f72f0f8d150>"
      ]
     },
     "metadata": {},
     "output_type": "display_data"
    },
    {
     "data": {
      "image/png": "iVBORw0KGgoAAAANSUhEUgAAAW8AAAEACAYAAAB8nvebAAAABHNCSVQICAgIfAhkiAAAAAlwSFlz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\ngg==\n",
      "text/plain": [
       "<matplotlib.figure.Figure at 0x7f72f0f3d850>"
      ]
     },
     "metadata": {},
     "output_type": "display_data"
    },
    {
     "data": {
      "image/png": "iVBORw0KGgoAAAANSUhEUgAAAX4AAAEACAYAAAC08h1NAAAABHNCSVQICAgIfAhkiAAAAAlwSFlz\nAAALEgAACxIB0t1+/AAAIABJREFUeJzt3Xu81VP+x/HXpxsinQzDUDlNTERNbomm6eQ2YdzGuDSF\nIxG5RYSZURpjDCLmlhkkuY4fDZofY3I5JtUUo12pjEKKH2GQYtBl/f5Y36PjtM8+387Z+/tdZ+/3\n8/E4j/b3u/blffbZrb3357u+a5lzDhERKR3N0g4gIiLJUscvIlJi1PGLiJQYdfwiIiVGHb+ISIlR\nxy8iUmJydvxmNsHMVpjZ/DraB5rZXDObZ2bTzax7jbal0f45ZjY738FFRKRhLNc4fjPrA6wGJjnn\numVpPwBY6JxbaWb9gaucc72itjeAfZxzHxYmuoiINETOT/zOuWnARznaZzrnVkabs4D2ta5ijYsn\nIiL5ls8a/xnA4zW2HfCUmb1oZmfm8XFERKQRWuTjTsysHzAY6F1jd2/n3Dtmth0w1cxeib5BiIhI\nihrd8UcHdG8D+jvnvioLOefeif5938z+AvQENur4zUyTBYmINIBzrkHl9EaVesysIzAZGOScW1Jj\nf2szaxNd3hI4DMg6MgjAORfUz+jRo1PPoEzFlUuZlCnfP42R8xO/md0P9AW2NbPlwGigZdRZ/xEY\nBbQDxpsZwBrnXE9gB2BytK8FcK9z7u+NSpqgpUuXph1hI8oUX4i5lCkeZUpGzo7fOTegnvYhwJAs\n+18HejQumoiIFILO3M2isrIy7QgbUab4QsylTPEoUzJynsCVSAAzl3YGEZGmxsxwaRzcLVZVVVVp\nR9iIMsUXYi5liiefmcysaH7yLS/j+EVEQlQM1YRCdPwq9YhIUYpKIWnHaLS6fg+VekREJDZ1/FkU\ne+0zX0LMBGHmUqZ4QsxUjNTxi4iUGNX4RaQoNYUa/+LFi+nWrRsnnHACd999d9brqMYvIlJEzj33\nXHr27FmQkTu5qOPPIsQ6ozLFF2IuZYonxEyF8sADD9CuXTsOPvjgxL+ZqOMXEUnYJ598wujRoxk3\nblwq5SjV+EWkKNVX489XdaUh3deFF15I+/btufTSSxkzZgxLlixJtMavM3dFpCSl9Xkzk8nw9NNP\nM2fOnChH8kFU6skixDqjMsUXYi5liifETPn23HPPsXTpUjp27Mi3vvUtbrzxRh5++GH23XffxDLo\nE7+ISILOOussBgzwS5045xg7dixLly7l1ltvTSyDavwiUpSawjh+gDFjxvDaa68xadKkrO2FqPGr\n4xeRotRUOv766ASuhIRYZ1Sm+ELMpUzxhJipGKnjFxEpMSr1iEhRUqmnbvrELyJSYtTxZxFinVGZ\n4gsxlzLFE2KmYpSz4zezCWa2wszm19E+0Mzmmtk8M5tuZt1rtTc3szlmNiWfoUVEpOFy1vjNrA+w\nGpjknOuWpf0AYKFzbqWZ9Qeucs71qtF+MbAP0MY5d3Qdj6Eav4jkXdJTHRdSonP1OOemmVl5jvaZ\nNTZnAe1rhGoPHAFcA1zckHAiIg2lD5R1y2eN/wzg8Rrb44BLgfVx7+DTT/OYphFCrDMqU3wh5lKm\neJQpGXmZq8fM+gGDgd7R9g+B95xzc8ysor7bV1ZW0rJlOXfeCSNGlHH44T2oqPA3q37Sk9zOZDKp\nPn627Wqh5Al5W3+/prudyWSCyhPS66mqqoqJEycCUF5eTmPUO44/KvVMyVbjj9q7A5OB/s65JdG+\nXwGnAGuBzYGtgYedc6dmub1btcqx997QsSPssAPcc08jfiMRkRJQ0Ll6cnX8ZtYReAYY5Jz7Zx23\n7wtc4pw7qo52N2yY47PP4JZboHNnmDkTdtllE38TEZESUrATuMzsfmAG0MXMlpvZYDMbamZDo6uM\nAtoB46Nhm7PruKuc7y5PPgmXXw5bbw3nngvXXrupv0Z+1f56HgJlii/EXMoUjzIlo75RPQPqaR8C\nDKnnOs8Bz+W6zqpV0Latv3zBBdCpE4wdC+3a5bqViIg0RBBz9bRu7XjvPdhyS7/vhBPg0EPhrLNS\njSYiEqwmP1fPF19A69YbtgcN0gFeEZFCCaLj33LLr694f/jhsGgRLF2aTp4Qa3rKFF+IuZQpHmVK\nRhAd/1ZbfX27VSs48UR96hcRKYQgavxdujheeeXr+2fOhNNP95/8i2jKDRGRvGjyNf42bTbe16sX\nrFsHL76YfB4RkWIWbMdv5g/y3n138nlCrOkpU3wh5lKmeJQpGUF0/LVr/NUGDoQHHoA1a5LNIyJS\nzIKo8f/kJ457783efuCB8LOfwZFHJptLRCRkRVnjr3bKKRBNSCciInkQfMf/k5/A1KmwYkVyeUKs\n6SlTfCHmUqZ4lCkZwXf8bdvCj34Ed92VXB4RkWIWRI3/xhsdF+dYnPGf//QjfF59FZoF8VYlIpKu\noq7xA+y/v5/W4ZlnkskjIlLMmkTHbwbnnAO//W0yeUKs6SlTfCHmUqZ4lCkZTaLjBzj1VD+Nw6uv\nFj6PiEgxC6LGX1Xl6Nu3/uteeSV88AGMH1/4XCIiISvomruFZmbuX//yi63XZ8UK2G03WLwYtt22\n8NlEREJV9Ad3q22/vV+d6+abC5snxJqeMsUXYi5likeZktGkOn6An/7Ul3r+85/C5RERKWZBlHpW\nrXJ1TtSWzdln+4XYr722cLlERELW5Gv869e7TVpsZdky2GsvWLjQl39EREpNk6/xb+oKWx07wmmn\nwahRhckTYk1PmeILMZcyxaNMycjZ8ZvZBDNbYWbz62gfaGZzzWyemU03s+7R/s3NbJaZZcxsoZnl\nvShz5ZXwyCMwd26+71lEpLjlLPWYWR9gNTDJOdctS/sBwELn3Eoz6w9c5ZzrFbW1ds59ZmYtgOeB\nS5xzz2e5D9fQctP48fDgg34qB63LKyKlpGClHufcNOCjHO0znXMro81ZQPsabZ9FF1sBzYEPGxIw\nlzPPhI8+gvvuy/c9i4gUr3zW+M8AHq/eMLNmZpYBVgDPOucW5vGxAGjRAm6/HUaMgPffz9/9hljT\nU6b4QsylTPEoUzJa5ONOzKwfMBjoXb3PObce6GFmbYEnzazCOVeV7faVlZWUl5cDUFZWRo8ePaio\nqAA2POl1ba9eXUXfvjB8eAX33lv/9eNsZzKZRt2+ENvVQskT8rb+fk13O5PJBJUnpNdTVVUVE6Pl\nCKv7y4aqdzinmZUDU7LV+KP27sBkoL9zbkkd17kS+K9zbmyWtgbX+Kt99pkf3vmLX8BJJzXqrkRE\nmoTUhnOaWUd8pz+oZqdvZtuaWVl0eQvgUGBOYx4rl9atfZ3//PPhzTcL9SgiIsWhvuGc9wMzgC5m\nttzMBpvZUDMbGl1lFNAOGG9mc8xsdrR/R+CZqMY/C/+N4ekC/Q4A7LMPXHIJDBwIa9Y07r5qfz0P\ngTLFF2IuZYpHmZKRs8bvnBtQT/sQYEiW/fOAGPNt5tcll8C0af5g729+k/Sji4g0DUFM2ZDPDB9/\nDPvtBz//uT+7V0SkGDWmxp+XUT0hKSvzZ/T26wfl5cRa4EVEpJQEMVdPvu2xhz/Ye+KJsGjRpt8+\nxJqeMsUXYi5likeZklGUHT/AIYfADTfAYYf5FbtERMQruhp/bbff7sf3P/ssdO5csIcREUmUavw5\nDBkC69bBwQf7zr9Tp7QTiYikq2hLPTUNHQojR/oDvkuynlv8dSHW9JQpvhBzKVM8ypSMov/EX23Y\nMD+pW58+MHkyHHBA2olERNJR9DX+2h5/HCor/Vz+xx+f2MOKiORVk19zN+kMc+bA0UfDhRf6s3y1\niIuINDVNfs3dpO21F8yY4cf6n3wyfPLJ19tDrOkpU3wh5lKmeJQpGSXZ8QN06OA7/7IyP8XDvHlp\nJxIRSUZJlnpqu+ceuOgiuPZaOOMMlX5EJHyq8efBggUwaBDsuCPcdpv/V0QkVKrx58Eee8CsWbDv\nvrDHHlXcdx8E8H70lRDrjCFmgjBzKVM8ypQMdfw1tGoFY8bAr38N11wDxxyjFb1EpPio1FOHL76A\nsWNh3Di49FK4+GJo2TLtVCIinmr8BfTaa3DeebBsmX8TOOywtBOJiKjGn3c1a3qdO/uzfX/5Szj3\nXOjfH15+Od1MoQgxE4SZS5niUaZkqOOPwQyOO86P/DniCDjoIDjzTHjnnbSTiYhsOpV6GuDjj+FX\nv4I77vBloIsu8ieCiYgkRaWehJWVwfXXw4sv+tr/LrvA1VdvPPWDiEiI1PFnEbem16kT3HknzJzp\nl3fs3NkPA121Kr1MSQoxE4SZS5niUaZk1Nvxm9kEM1thZvPraB9oZnPNbJ6ZTTez7tH+Dmb2rJkt\nMLOXzeyCfIcPxa67wqRJ8PzzsHChfwO4+mr48MO0k4mIbKzeGr+Z9QFWA5Occ92ytB8ALHTOrTSz\n/sBVzrleZrYDsINzLmNmWwH/Ao51zi2qdfsmV+Ovz6JFvhT06KNw+un+GED79mmnEpFiUtAav3Nu\nGvBRjvaZzrmV0eYsoH20/13nXCa6vBpYBJTEDDi77+5LQHPn+mkfunf3k7/9+99pJxMRyX+N/wzg\n8do7zawc2Av/xhC8fNX0OnSAm27y9f+dd/bLPh5/PMyenV6mfAoxE4SZS5niUaZk5G3NXTPrBwwG\netfavxXwEHBh9Ml/I5WVlZSXlwNQVlZGjx49qKioADY86UluZzKZvN//qFEVjBgBl19exdFHQ+fO\nFVx0EbRrV0Xz5vXfvloaz0dT2y7E36+x29VCyRPqdiaTCSpPSK+nqqoqJk6cCPBVf9lQscbxR5/Y\np2Sr8Uft3YHJQH/n3JIa+1sCfwWecM7dXMdti67GX5+1a339f9w4eOstuOACXwpq2zbtZCLSVKQ6\njt/MOuI7/UG1On0D7sAf+M3a6ZeqFi18yef55+HBB/35AJ06+TWAX3st7XQiUuziDOe8H5gBdDGz\n5WY22MyGmtnQ6CqjgHbAeDObY2bVFezewCCgX7R/TjTqJ3i1v54XUs+efu3fefNgiy1g//399BD/\n+MfX1wNIMlNcIWaCMHMpUzzKlIx6a/zOuQH1tA8BhmTZ/zw6QSy29u39OgBXXgl33QVDhkCbNjB8\nOJx0UtrpRKSYaK6eQK1f72cFvflmf1LY2Wf7n29+M+1kIhICzdVThJo1gx/+EJ56Cp58EpYvhy5d\noLIS5sxJO52INGXq+LMIrabXrRsMHFjF4sW+8z/qKOjbFyZPhnXr0ssV2vNULcRcyhSPMiVDHX8T\nsu22cMUV8MYbcM45cMMNfmbQG2/0U0WLiMShGn8TN3s23HKLPx7wk5/4cwK6dEk7lYgUmmr8Jaxn\nT7j3Xr86WLt2flqII47wxwX0fioi2ajjzyLEml59mXbc0a8L/Oab8OMfw8iR0LUr3HorfPppOpnS\nEmIuZYpHmZKhjr/IbLEFDB4MmQyMH+8/+e+8s38jePPNtNOJSAhU4y8Br78Ov/udPzGsXz9/Uljv\n3n4ReRFpmhpT41fHX0JWrYKJE+E3v4Gtt/ZzA510Emy2WdrJRGRT6eBunoVY08tHpjZt4Pzz/YIw\nv/gF3HMPlJfDmDGwYkU6mQohxFzKFI8yJUMdfwlq1gyOPBL+/nd4+ml45x3YbTc47TR46aW004lI\noanUI4BfGP622+D3v/ffAi68EI45xk8hLSLhUY1f8mbtWvjLX/zkcG+/Deed5xeJadcu7WQiUpNq\n/HkWYk0vqUwtWsAJJ8D06fDQQ37B+M6dYdgweOWVdDJtqhBzKVM8ypQMdfxSp333hbvv9mcFb7ed\nnxiuf3/42990VrBIU6ZSj8T2+efwwAO+DLRmDYwYAQMHajioSBpU45dEOQfPPANjx/ozhM87zy8S\n841vpJ1MpHSoxp9nIdb0QspkBgcfDJddVsXUqX6B+F139W8AISwWH9JzVU2Z4lGmZKjjl0bZc0+Y\nMMEfB2jbFnr1guOPh5kz004mInVRqUfy6tNP4c474aabYIcd4JJL/PkAzZunnUykuKjGL8FZtw4e\necQfB3j/fbjoIr9e8JZbpp1MpDioxp9nIdb0mlqm5s03lHwmTfJTQ5SXw89/Du++m16utChTPMqU\njJwdv5lNMLMVZja/jvaBZjbXzOaZ2XQz6x73tlI6DjzQLww/YwZ89BHsvrs/G3jBgrSTiZSmnKUe\nM+sDrAYmOee6ZWk/AFjonFtpZv2Bq5xzveLctsZ9qNRTYj74wK8M9rvfwT77+EVivv99rQ8gsikK\nWuM3s3JgSq7OO7peO2C+c679ptxWHX/p+vxzf2bwDTf4uYBGjoRjj9WBYJE4QqnxnwE8nsf7S02I\nNb1izLT55nDmmbBoEVx+uX8D2H13+NOf/JtCWrkKQZniUaZk5GXSXTPrBwwGejfk9pWVlZSXlwNQ\nVlZGjx49qKioADY86UluZzKZVB8/23a1UPLke/u44yo49lj47W+ruPNOGD26gvPPh27dqmjTRn+/\nUtnOZDJB5Qnp9VRVVcXEiRMBvuovG6rRpZ7ogO5koL9zbsmm3Da6jko9spGXX/ZDQR97zA8DHT4c\nOnZMO5VIOFIr9ZhZR3ynP6h2py/SGHvu6dcHnjfPrxjWoweceirM1xgxkUarbzjn/cAMoIuZLTez\nwWY21MyGRlcZBbQDxpvZHDObneW234lue3qBfoe8q/31PASlmql9e//J//XXoWtXOOwwOOIIeO65\nuqeGLtXnalMpUzwhZmqsnDV+59yAetqHAEMacluRTVFW5g8ADx/uRwKddZbfp5FAIptOUzZIk7Ru\nna//X3cd/Oc/fk6gU0+FLbZIO5lIMjRXj5Qs5+D55+H66+GFF+D88+Gcc2CbbdJOJlJYoYzjLxoh\n1vSUKTsz6NMHpkyBp56CxYth552ruOgiWLYs7XQbhPBc1aZM8YSYqbHU8UvRqB4JNGGCr/lrJJBI\ndir1SNH6+GM/J9Att8Bee/kDwX37ak4gKQ6q8YvkUD0n0NixfpWwkSPhuOM0EkiaNtX48yzEmp4y\nxVc7V805ga64wr8B7LYb/PGP8N//ppMpBMoUT4iZGksdv5SMZs38J/2ZM/1xgL/+FTp1gmuugQ8/\nTDudSHJU6pGStmCB/wbw6KNw2ml+iUjNCSRNgUo9Ig20xx5+cfh58zQSSEqHOv4sQqzpKVN8DclV\n15xAVVV1zwlU6EyFpkzxhJipsdTxi9RQPSfQG2/Aj34EQ4fC/vvDQw/5aSJEioFq/CI5rF+/YU6g\n99/3cwKddprmBJL0aRy/SIE5B9On+zeAF16A886DYcM0J5CkRwd38yzEmp4yxVeIXGbwve/5OYGe\nfhpeew122YXYcwKF+FwpUzwhZmosdfwim6jmSKAWLfx0EKec4rdFmgKVekQa6eOP/VnAt9wC3/2u\nnxKiokJzAklhqcYvEoDPP4d77oEbbtCcQFJ4qvHnWYg1PWWKL61cm28OQ4b4OYF++lO48Ubo0sXP\nEPrkk+lkyiXEv58yJUMdv0ieNWvm1wGeMcOvD/D44zBgAPzyl5oTSMKgUo9IAhYu9GcGP/KInxLi\n4os1J5A0jko9IoHr2tXPCDp/PrRqpZFAki51/FmEWNNTpvhCzFWdaaed/MLwr7/ul4rs3x8OPxye\nfTY/cwI1JFNIlCkZOTt+M5tgZivMLOtchWY20Mzmmtk8M5tuZt1rtPU3s1fMbLGZXZbv4CJNWdu2\ncNllfk6gH/8YzjkHevaE//kfzQkkhZezxm9mfYDVwCTnXLcs7QcAC51zK82sP3CVc66XmTUH/g0c\nArwNvAAMcM4tynIfqvFLyVu/3p8VfN118N57MGIEVFZqTiCpW8Fq/M65acBHOdpnOudWRpuzgPbR\n5Z7AEufcUufcGuAB4JiGBBQpBc2awTHH+JFAd90FTzwB5eUwerR/IxDJp3zW+M8AHo8u7wQsr9H2\nVrSvSQixpqdM8YWYa1My9e7tZwT9xz9gxQp/LkD1msFpZUqKMiWjRT7uxMz6AYOB3tGuTardVFZW\nUl5eDkBZWRk9evSgoqIC2PCkJ7mdyWRSffxs29VCyRPydrH8/bp0gZNPrqJ/f5g7t4KKCvj2t6s4\n8UQYPrwCs3B+v3xtZzKZoPKE9Hqqqqpi4sSJAF/1lw1V7zh+MysHpmSr8Uft3YHJQH/n3JJoXy98\nvb9/tH0FsN45d12W26vGLxLDf//rp4S46SZf+x8xAk48EVq2TDuZpCG1cfxm1hHf6Q+q7vQjLwK7\nmlm5mbUCTgIea8xjiZS6LbbwJZ8FC+Dqq+H22+Hb3/ZzA61cWf/tRarVN5zzfmAG0MXMlpvZYDMb\namZDo6uMAtoB481sjpnNBnDOrQXOA54EFgJ/zjaiJ1S1v56HQJniCzFXPjM1awZHHunH/j/6KGQy\n/g3g4ovhzTfTyZQvypSMnDV+59yAetqHAEPqaHsCeKLh0USkPnvvDffeC8uXw29+47cPPdSXgfbb\nL+10EirN1SNSRD75xJeAbrnFDwcdMQJ++EP/LUGKi+bjF5GvWbsWHnrITw39ySd+ichTT4XWrdNO\nJvmiSdryLMSanjLFF2KupDO1aAEnnwyzZ8Ntt/mpocvLYdQof25AGpniUKZkqOMXKWJm8P3v+xPC\npk3zZwHvthsMHgxLltR/eylOKvWIlJgPPvDfAn7/e/jOd2D4cD9KSEtENi2q8YvIJluzxh8HGDfO\nrwx2wQVw+unQpk3aySQO1fjzLMSanjLFF2KuEDNNn17FgAEwaxZMmgTPP79hJNAbb6STKcTnKcRM\njaWOX6TEmcGBB8KDD8JLL/mhn/vuC8cf748L6At58VGpR0Q2snq1nx76lltg6639cYATT/TLRkoY\nVOMXkYJYv96vDTBunF8wftgwGDoUttsu7WSiGn+ehVjTU6b4QszVVDNVzwv01FPw5JOwdKkfCXTm\nmfDyy+lkSlqImRpLHb+IxNKtm58O4tVXYeed4bDD/LxA//u//puBNB0q9YhIg3z5pT8gPG6cnxbi\n3HP9cNC2bdNOVhpU6hGRxLVqBYMGwYsv+gPBs2ZBp07+OMDChWmnk1zU8WcRYk1PmeILMVcxZ6oe\nDnr//b7uv912cPDBcMghfr2AdeuSz5RPIWZqLHX8IpI3O+4IY8b4g8Cnnw7XXgu77OJXCfvww7TT\nSTXV+EWkoF54AX77W5gyBX78Yzj/fOjePe1UTZ9q/CISrP3281NCvPIKdOwIhx8Offv6eYLWrk07\nXWlSx59FiDU9ZYovxFzKBNtvD1de6ctAw4bBzTf7tYKvvdbPGJpGpjhCzNRY6vhFJFEtW8JJJ/lJ\n4R59FBYvhl139ccEXn017XSlQTV+EUndBx/4k8PGj4dvfct/IzjxRNh887SThUtz9YhIUVi3zi8T\n+Yc/+PMDKivh7LOhc+e0k4VHB3fzLMSanjLFF2IuZYpn2rQqjjrKTwz3z3/6cwR69fIHhKdM2bRz\nAvIlxOepsXJ2/GY2wcxWmNn8Otp3M7OZZva5mY2o1Xahmc03s5fN7MJ8hhaR4te5M1x/PSxbBgMG\nwDXXbDgY/N57aadr2nKWesysD7AamOSc65alfTtgZ+BY4CPn3I3R/j2B+4H9gDXA34CznXOvZbkP\nlXpEJJaXXvLHAR56yH8LGDYMevf23wxKTcFKPc65acBHOdrfd869iO/ca9oNmOWc+9w5tw54DvhR\nQwKKiFTbe2+/UPzrr8P++8MZZ8B3vwu33gqrVqWdrukoVI3/ZaCPmW1jZq2BI4H2BXqsvAuxpqdM\n8YWYS5niiZupXTu48EJ/Uti4cTB1qp8q+txz879OQIjPU2O1KMSdOudeMbPrgL8DnwJzgDpn7K6s\nrKS8vByAsrIyevToQUVFBbDhSU9yO5PJpPr42barhZIn5G39/ZrudiaT2aTrP/dcFc2bw8MPV/D2\n2/Czn1XRty/suWcFZ58N3/hGFa1aFcfrqaqqiokTJwJ81V82VL3DOc2sHJiSrcZf4zqjgdXVNf4s\n7b8Cljnnbs3Sphq/iOTNmjX+xLA//hHmzoVTT4WzzvIrhxWTEIZzbvTgZvbN6N+OwHHAfXl6LBGR\nOrVs6SeDmzoVZsyAFi2gTx/o189PHf3FF2knTF99wznvB2YAXcxsuZkNNrOhZjY0at/BzJYDFwE/\nN7NlZrZVdPOHzGwB8BgwzDn3SQF/j7yq/fU8BMoUX4i5lCmefGfaZRf49a9h+XI/AuiOO6BDB7j0\n0vjTQ4T4PDVWzhq/c25APe3vAh3qaPt+I3KJiORNq1Zwwgn+Z8kSPzKoTx/o2hWGDoXjjoPNNks7\nZXI0ZYOIlKQvv4RHHoE//QnmzYPTToMzz2w6xwJCqPGLiDQprVr5ieCeegqmT/cngX3ve3DQQfDA\nA8V9LEAdfxYh1vSUKb4QcylTPGll2nVXPz3E8uW+9HPbbRuOBdxzTzqZCkkdv4hIZLPN/FoBTz/t\n1wswg/PO8yuGTZoEn32WdsL8UI1fRCSHL7/0M4PefjvMmuXfGM44A/bZJ905gjQfv4hIApYvh4kT\nYcIE2HprGDIEBg6EbbZJPosO7uaZap/xhJgJwsylTPGEnqlDB79u8GuvwU03wcyZfqroAQP8QeL1\ndU5MExZ1/CIim6hZMzj4YLjvPj9T6IEHwiWX+DUErr7afzMImUo9IiJ54JxfL+COO+DPf4aePX0p\n6Kij/NDRfFONX0QkIJ99BpMn+wPCixbBoEH+gHDXrvl7DNX48yz0OmMoQswEYeZSpniKJVPr1r6z\nr6ryJ4dtthkceqhfP/jWW+GjOpe3SoY6fhGRAtplF/jVr+DNN2HUKHjmGejUCU4+Gf72t3QWkFep\nR0QkYR9+6KeFuOsueOstOOUUP1fQ7rvHvw/V+EVEmqiFC/0bwN13++GilZX+20C7drlvpxp/nhVL\nnbHQQswEYeZSpnhKMVPXrnDddbBsGVx1FTz3nC8FnXQSPPEErF2b/8dUxy8iEoAWLeDww30J6I03\n/IphY8ZAx44wcqT/ZpAvKvWIiARs0aINpaCddtpQCvrGN1TjFxEpauvW+WkhJk70JaCVK1Xjz6tS\nrDM2RIgGNnJlAAAGTklEQVSZIMxcyhSPMtWteXP4wQ/8gvGNnRJCHb+ISBPTpk3jbq9Sj4hIE6Th\nnCIiElvOjt/MJpjZCjObX0f7bmY208w+N7MRtdquMLMFZjbfzO4zs83yGbyQQqnp1aRM8YWYS5ni\nUaZk1PeJ/06gf472/wDnA2Nr7jSzcuBMYG/nXDegOXByg1MmLJPJpB1hI8oUX4i5lCkeZUpGzo7f\nOTcNqHMeOefc+865F4E1tZo+ifa1NrMWQGvg7UZmTczHH3+cdoSNKFN8IeZSpniUKRkFqfE75z4E\nbgSWAf8HfOyce6oQjyUiIpumIB2/mXUGhgPlwI7AVmY2sBCPVQhLly5NO8JGlCm+EHMpUzzKlIx6\nh3NG9fopUa2+ruuMBlY7526Mtk8CDnXODYm2TwF6OefOzXJbjeUUEWmAhg7nbJGnx6/94K8AV5rZ\nFsDnwCHA7Gw3bGhwERFpmJyf+M3sfqAvsC2wAhgNtARwzv3RzHYAXgC2BtYDq4CuzrnVZjYSOC3a\n/xIwxDlX+yCwiIgkLPUzd0VEJFmpnblrZv3N7BUzW2xml6WUoYOZPRudaPaymV0Q7d/GzKaa2atm\n9nczK0shW3Mzm2NmUwLKVGZmD5nZIjNbaGb7p50r24mCSWfKdqJjrgxR5sXR6/+wBDPdEP3t5prZ\nZDNrm2SmunLVaBthZuvNbJskc9WVyczOj56vl83surQzmVlPM5sd9QsvmNl+Dc7knEv8B39C1xL8\nqJ+WQAbYPYUcOwA9ostbAf8GdgeuB0ZG+y8Dfp1CtouBe4HHou0QMt0FDI4utwDappkrev28DmwW\nbf8ZX15MNBPQB9gLmF9jX9YMQNfo9d4yyr8EaJZQpkOrHwv4ddKZ6soV7e8A/A14A9gmgOeqHzAV\naBltbxdApirgB9Hlw4FnG5oprU/8PYElzrmlztf9HwCOSTqEc+5d51wmurwaWATsBByN7+SI/j02\nyVxm1h44AridDQfO087UFujjnJsA4Jxb65xbmXKubCcK/l/SmVz2Ex3rynAMcL9zbo1zbin+P2nP\nJDI556Y659ZHm7OA9klmqitX5CZgZK19qT1XwDnAtVH/hHPu/QAyvYP/sAVQxoaTYjc5U1od/05A\nzRml34r2pSYatroX/j/E9s65FVHTCmD7hOOMAy7FHxivlnamTsD7Znanmb1kZreZ2ZZp5nLZTxSc\nmmamGurKsCP+9V4trdf+YODx6HKqmczsGOAt59y8Wk1p5toV+L6Z/dPMqsxs3wAyXQ7caGbLgBuA\nKxqaKa2OP6gjyma2FfAwcKFzblXNNue/SyWW18x+CLznnJvDxsNkU8kUaQHsDfzBObc38Cn+hZha\nrjpOFByUZqZsYmRINJ+Z/Qz40jl3X46rJZLJzFoDP8WPGPxqd46bJPVctQDaOed64T+EPZjjukll\nugO4wDnXEbgImJDjujkzpdXxv42v6VXrwNffsRJjZi3xnf7dzrlHot0roqGqmNm3gPcSjHQgcLSZ\nvQHcDxxkZnennAn83+ct59wL0fZD+DeCd1PMtS8wwzn3H+fcWmAycEDKmarV9feq/dpvT4LzWJlZ\nJb6MWPNM+jQzdca/cc+NXvPtgX+Z2fYp53oL/3oies2vN7NtU87U0zn3l+jyQ2wo52xyprQ6/heB\nXc2s3MxaAScBjyUdwswM/y660Dl3c42mx/AHCYn+faT2bQvFOfdT51wH51wn/IymzzjnTkkzU5Tr\nXWC5mX0n2nUIsACYkmKuV4BeZrZF9Lc8BFiYcqZqdf29HgNONrNWZtYJX1LIenJjvplZf/yn12Oc\nc5/XyppKJufcfOfc9s65TtFr/i38rL4r0syF/3sdBBC95ls55z5IOdMSM+sbXT4IeDW6vOmZ8n00\nehOOWh+OH0WzBLgipQzfw9fRM8Cc6Kc/sA3wVPTE/h0oSylfXzaM6kk9E/Bd/Al7c/GfhtqmnQt/\nQHABMB9/ELVl0pnw38z+D/gSf+zq9FwZ8KWNJfg3rh8klGkwsBh4s8Zr/Q9JZqqV64vq56pW++tE\no3pSeK6+yhS9ju6OXlf/AipS/vudjv+GOyvqr2YCezU0k07gEhEpMVp6UUSkxKjjFxEpMer4RURK\njDp+EZESo45fRKTEqOMXESkx6vhFREqMOn4RkRLz//vPwbKVILiiAAAAAElFTkSuQmCC\n",
      "text/plain": [
       "<matplotlib.figure.Figure at 0x7f72f0e77990>"
      ]
     },
     "metadata": {},
     "output_type": "display_data"
    },
    {
     "data": {
      "image/png": "iVBORw0KGgoAAAANSUhEUgAAAXgAAAEACAYAAAC57G0KAAAABHNCSVQICAgIfAhkiAAAAAlwSFlz\nAAALEgAACxIB0t1+/AAAIABJREFUeJztnXd4FFX3xz83oUNC6B1C7xIQECwYASXYUH8gUtQoKIKg\nKK8iWECxC4qKooiCUsRXRcGCwIssIAKChh6aEHpvgUBIu78/7gZCSNlsdndmN+fzPPvs3pnZmW9m\nJ2funHvuOUprjSAIghB4BFktQBAEQfAOYuAFQRACFDHwgiAIAYoYeEEQhABFDLwgCEKAIgZeEAQh\nQMnVwCulvlBKHVZKbchhmw+UUtuVUuuUUi09K1EQBEFwB1d68FOAqOxWKqVuBeppresDjwITPaRN\nEARByAe5Gnit9TLgZA6b3Al86dx2FRCmlKrkGXmCIAiCu3jCB18N2JuhvQ+o7oH9CoIgCPnAU4Os\nKlNb8h8IgiBYTCEP7GM/UCNDu7pz2WUopcToC4IguIHWOnMn2iU80YOfCzwAoJRqB5zSWh/OasPY\no7ForW3zGjVqlOUa/EGTXXWJJtFUEHTlB1fCJL8G/gQaKqX2KqUeVkoNUEoNANBa/wrsVErtAD4F\nBmW3rxnrZ+RLrKeJi4uzWsIV2FET2FOXaHIN0eQ6dtXlLrm6aLTWvVzYZrArB5u5cSav3PQKSrn1\ntCEIgiDkAZ/OZC0SXIS/9v/ly0PmSHR0tNUSrsCOmsCeukSTa4gm17GrLndR+fXxuHwgpfSDPzzI\nDTVvoF+rfj45piAIgr+jlEJbOMjqMtVCqrH/zBUBNpbhcDislnAFdtQE9tQlmlxDNLmOXXW5i08N\nfPXQ6uyPt4+BFwRBCGR86qKZs2UOk/6exM+9f/bJMQVBEPwdcdEIgiAIV+BbAx9azVYuGjv62+yo\nCeypSzS5hmhyHbvqchefGviKJStyKvEUF1Iu+PKwgiAIBRKf+uC11tQaXwvHgw5ql6ntk+MKgiD4\nM37jgwfxwwuCIPgK3xt4G/nh7ehvs6MmsKcu0eQaosl17KrLXaQHLwiCEKD43Af/zvJ3OHj2IO92\nedcnxxUEQfBn/MoHXz20uvTgBUEQfID44G2GHTWBPXWJJtcQTa5jV13uIj54QRCEACVXH7xSKgoY\nDwQDk7XWb2VaXwb4AqgDJAIPa603ZbEfrbUmcVssU+9vxqMfryLo6tae+jsEQRACEq/54JVSwcAE\nIApoAvRSSjXOtNlI4B+tdQtMbdb3s93hV19R7NobKBpUGKKiYOFCdzQLgiAILpCbi6YtsENrHae1\nTgZmAd0ybdMYWAygtd4KhCulKmS5t6lTYcoUxj/YkB2fvQW9e8PKlfn6A/KDHf1tdtQE9tQlmlxD\nNLmOXXW5S24GvhqwN0N7n3NZRtYB9wAopdoCtYDqWe7t6FGoWZNqIdXY1qQSTJ4MPXvC8eNuiRcE\nQRCyJ7ei264Eyb8JvK+UigE2ADFAalYbRu/YQfhXX3HowCG+/PtLSt35OJH33gt9++J45hkICiIy\nMhK4dCf1djsdXx3PX9vpy+yiR34/19uRkZG20pOOHa8nO7QdDgdTp04FIDw8nPyQ4yCrUqodMFpr\nHeVsjwDSMg+0ZvrOLqC51vpspuVaFyoECQmM/vN10nQar9z0CiQnQ4cO0L07DBuWrz9GEAQh0PDm\nRKc1QH2lVLhSqgjQE5ib6eClnetQSj0CLMls3C9SsiQUKWJCJdNj4QsXhpkz4c034e+/3fkb3CZz\nL9AO2FET2FOXaHIN0eQ6dtXlLjkaeK11CjAYmA9sBr7RWscqpQYopQY4N2sCbFBKbQG6AE9mu8MK\nZuy1Wmg19p3Zd2l57drwwQfQqxeczfreIAiCIOQN3+aiad8e/vyT9YfX0/v73mwctPHyjaKjISgI\nvvjCJ5oEQRDsjv/koknvwWc3m/XDD2HZMvjmG5/KEgRBCEQsMfBli5clMSWRc8nnLl8fEgKzZsGQ\nIRAX53U5dvS32VET2FOXaHIN0eQ6dtXlLpYYeKUUVUOqZp107Oqr4dlnoU8fSEnxqTxBEIRAwrc+\n+HHj4OmnAegwpQMvR77MTbVvunLjtDTo2hVatjTRNYIgCAUUv/PBQy554YOCYPp044v/+msfiRME\nQQgsLDPwl8XCZ7ftnDnwxBOwZo1X5NjR32ZHTWBPXaLJNUST69hVl7tYZ+BDXcgLf9VVMGkS3H03\nHDzoZXGCIAiBhW998Lt3Q82aAHy76VtmbZrF9/d+n/uXX3kFfv0VHA4oVsy7QgVBEGxASgosWQKd\nO/uhD75aaDX2xe/LYeMMvPCCme3as6fJXSMIghCApKbC4sUwcCBUrQrDh+dvf7418MWLX/xYPbS6\n67VZg4Lgyy+NcX/oIRNl4wHs6G+zoyawpy7R5BqiyXWs0JWWBkuXwuDBUK2ayblYqxasWJH/4cfc\n0gV7jSqlqnAk4QgpaSkUCnJBRpEi8N13JnxyyBCYMAGUW08tgiAIlqI1/PMPzJhhggXLl4d77zUT\n+evX99xxfOuDz3Ssmu/VZEn0EmqXqe36juLjoWNHuPlmeP11MfKCIPgNu3YZoz5jBly4YOZz9u4N\njTMXQs1AfuLgLevBAzQo14Btx7flzcCHhsJvv0GnTpCYCOPGGReOIAiCDTl2DL791kzt2bbN9NS/\n+ALatfN+/9RSy1i/bH22n9ie9y+WL28ialatgn793E5pYEc/oB01gT11iSbXEE2u4yldFy4Yo37H\nHVCvnvGxjxwJBw7ARx9B+/a+cT5YauDTe/BuUaYMLFwI+/eb6JoLFzwrThAEIY/ExJghwurV4ZNP\noEcP2LvXTMi/7TZT38iXWOqD/3nbz3y0+iPm9Znn/o7THVnHj5tB2HLl8qlUEATBdY4dMz71KVPg\n1ClT1uLBB01ktyfwai4apVSUUmqLUmq7UuqKqEylVHml1G9KqbVKqY1KqWhXD56vHnw6RYuaYeir\nrzZOrdjY/O1PEAQhF1JS4JdfTCnpevVg9Wp4913YuRNGj/accc8vORp4pVQwMAGIwpTm66WUyjze\nOxiI0VpHAJHAOKWUS4O3tcNqsz9+P0mpSXkWfhnBwTB2rHFy3XijGYR1ATv6Ae2oCeypSzS5hmhy\nndx07dkDL71k4tRffRVuuQV27zYDqB072i/eIzc5bYEdWus4rXUyMAvolmmbg0Co83MocNxZyzVX\nCgcXpkbpGuw8uTMvmrPnoYdg9mzz/tZbHpsQJQhCwSU1FX7+2QyYtmxp3DDz55uJSI8+CqVLW60w\ne3L0wSulugNdtNaPONt9gWu01kMybBME/A40AEKAe7XWVzjVs/LBA9w641YGth7IHQ3vyO/fcok9\ne+C++yAsDL76ykTdCIIg5IH9++Hzz2HyZJM2YMAAE89RooRvdXgzDt6VEdiRwFqtdaRSqi6wUCnV\nQmt9JvOG0dHRhIeHAxAWFkZERMRFP3z6o1FkZCRA/to1a+J45RX4/HMiW7aEr7/G4Qyl9Mj+pS1t\naQdku0OHSBYsgFdfdbBuHdx/fyQ//QQnT5r1JUp4X4/D4WDq1KkAF+2l22its30B7YDfMrRHAMMz\nbfMrcF2G9iKgdRb70lkxYdUEPeCnAVmu8wi//KJ1pUpaP/+81hcuXLZq8eLF3juum9hRk9b21CWa\nXEM05c6pU1qPH6911aqLdcuWWk+apPWZM1arMjhtZ462OrtXbj74NUB9pVS4UqoI0BOYm2mbLUBn\nAKVUJaAh4LJT3SORNDlx662wdi2sXw9t28K6dd47liAIfkVsLDz+uIl6WbkSRoyAv/+GRx6BUqWs\nVpd/co2DV0p1BcYDwcDnWus3lFIDALTWnyqlygNTgJqYQds3tNYzs9iPzupYu0/tpv3n7Tkw7EC+\n/5gc0dr44595xlSJevZZk8BMEIQCRWqqKS/x4Yem3/foo/DYY8bPbkfy44O3dKITGBdRhXcqsGHg\nBqqEVPG+kL17TbLlnTth4kQTVikIQsBz6pTJAfPRR2Y+5BNPmJmmRYtarSxn/KfodhYopWhdtTWr\nD6z2zQFr1ICffoJXX8XRvbuZcnbkiG+O7QLpgy12w466RJNrFHRNcXEwdCjUqWPcLzNnwl9/Qd++\nVxp3O56r/GC5gQdoU7UNq/f7yMCDyfJzzz2miEj58tCsman9KnHzghAw/PWXCWts3dp4Y9evNykF\nrrnGamW+w3IXDcDcrXOZuGZi/nLS5Id164zbJinJpB8Wt40g+CVpaeYBfdw4Mx1m6FCTcDYkxGpl\n7uO3+eDTaV21Nav3r0ZrjbKigEeLFvDHHyanzYMPmulqb70FDRr4XosgCHnm3DkTQ/Huu2Z+43/+\nYx7SC9nCwlmHLVw0VUOqUrRQUeJOxfn0uJf524KCoFcv2LLFJC279lp48kmTpdIqTTbCjrpEk2sE\nsqZTp+C110yY47x5ZubpqlWmqIY7xt2O5yo/2MLAg9MP76uB1pwoVsyUMt+82RT5btTIXEFnz1qt\nTBAEJ4cOmX/TunVh+3ZT/2fOHLjhBqnimRFb+OABXlv6GqcvnObtm9/2iR6X2bbN5P/8/XcTOz9w\nIBQvbrUqQSiQ7NwJ77xjvKl9+8KwYSazYyDj12GS6bSt1paV+1ZaLeNKGjQwcVULF14qeT5xohmQ\nFQTBJ2zYYOr6tG1rYti3bIEPPgh8455fbGPgr6t5HTGHYoi/EO+zY+bJ39a8Ofzwg3nNnQsNG5oS\nLm7Wg/WIJh9iR12iyTX8WdPq1dCtm8m7ftVVpgf/6qtQsaK1uvwF2xj4EoVL0K56OxbvWmy1lJxp\n08aM5nz1lYmjb9TITI+THr0geIxVq0waqXvuMcZ9507jcw8Nzf27wiVs44MHGPfnOP49+S8f3/ax\nTzR5hKVLYcwYM9IzfDg8/LD95z4Lgk1ZsQJeftnEOIwYIf9OECA+eIAu9brw247f8NVNxyN06GD8\n819/bcq+1K0L779vAnMFQXCJ5ctNT71XL7j7btNfGjhQjHt+sZWBb1qhKUmpSew4scMnx/Oov619\ne1OFd84cWLLEGPp33slzeKVdfYB21CWaXMPOmpYtg86dTURMjx4maG3AAOsMux3PVX6wlYFXSnFL\n3Vv4bYdrRbNtydVXm7qwCxaYzEZ16phRodOnrVYmCLYhNhZuvtlMHO/Vyxj2Rx6RDN6exlY+eIDZ\nsbP5aPVHLHpgkQ9U+YAtW+D1100C6kGDTHKMsmWtViUIlrBhA7z4oun7vPgiPPQQFC5stSp7EzA+\neIBb699KzMEY9sfvt1qKZ2jUyETcrFoFBw+aOPrhw22VolgQvM327dC7t+m133ijaT/6qBh3b5Or\ngVdKRSmltiiltiulhmex/j9KqRjna4NSKkUpFeauoGKFinF3o7uZtXGWu7twGZ/62+rWhc8+g5gY\nSEgwhn/oUFO63SpNecCOukSTa1ipac8e6N/fpHZq2hR27ICnnoKVK63TlBN2/P3yQ44GXikVDEwA\nooAmQC+lVOOM22itx2qtW2qtW2KKcju01qfyI6rPVX2YvmF6fnZhX2rWhAkTYONGCA42E6gGDoTd\nu61WJgge49AhUzGpZUszKWnbNnj++cCoc+pP5OiDV0q1B0ZpraOc7ecAtNZvZrP9TGCR1vrzLNa5\n5IMHSE1Lpdb4Wiy4fwFNKjRx6Tt+y9GjJsfppElmyt7IkVCvntWqBMEtTp6Et982l/P995tY9kqV\nrFbl33jTB18N2Juhvc+5LCsRJYAuwPfuCMlIcFAwfZr3YUrMlPzuyv5UqABvvGGckjVrmnDLvn3N\nTA9B8BMSE2HsWJO66dgxWLsWxo8X4241uWVMzkuIzR3AHzm5Z6KjowkPDwcgLCyMiIgIIiMjgUu+\nr/R2RGIEj/38GKMiR1GqSKkr1nuivXbtWoYOHeqx/eWrvX49REZCmzZErl+P47rr4KqriHz/fYiI\nsFzf+PHjc/y9rGjb6vfL4LuNjIy0jZ6MWryx/w4dIpkxA/7zHwf168PSpZE0bmzW//uvf11P6Vj9\n+zkcDqZOnQpw0V66jdY62xfQDvgtQ3sEMDybbX8A7sthXzqv3PPNPXrCqgl5/p6rLF682Gv7dpeL\nms6e1XrcOK2rVNH6jju0XrXKHrpshGhyDW9pmj9f64gIrdu103rZMntoyi921OW0nTna6uxeufng\nCwFbgU7AAeAvoJfWOjbTdqWBnUB1rfX5bPalczpWVizbvYx+c/uxZfAWgpTtIjp9Q2KiKVPz1lvQ\nuDG88IKpaiAIFhETYyJ9d+823sW775YiG97Eaz54rXUKMBiYD2wGvtFaxyqlBiilBmTY9C5gfnbG\n3V2ur3k9oUVD+WnrT57crX9RrBg8/riJL+vRA6KjjSsnwMK5BPuze7cZOL31VmPUN2402R7FuNsY\nd7v+eX3hhotGa61/iP1Bt5jYQqempbr1/Zyw4+NYrpqSk7WeOlXrOnW07thR6+XL7aHLAkSTa+RX\n0/HjWg8bpnXZslqPGqV1fLz1mryFHXWRDxeN7f0e3Rp2o0hwEb7b/J3VUuxBoUImgceWLSaJR69e\n0LWrqYwgCB4kOdlUTWrUyOTM27TJVK8MCbFameAqtstFkxUL/l3AE/OeYOOgjRQKcqNUeiBz4YLx\n0b/+ukl09vLLEBFhtSrBj9HaJEb9z38gPBzGjTOzUAVrCKhcNFlxc52bqRJShUl/T7Jaiv0oWtQk\nMduxAzp2NL357t1Nd0sQ8sjGjdCli6kv/9578Ntv9jfuSqmAeXkavzDwSik+iPqA0Y7RHE046rH9\nOmw4UOm2pmLF4MknjaG/5hpj7Hv3NnPErdTlRUSTa7ii6cgReOwx6NQJ7rwT1q0zfQUrNeUFd33U\ndnp5A78w8ADNKzWnT/M+jFg0wmop9qZkSXjmGWPomzaF666Dfv1g3z6rlQk25MIFU5emSRMoXtwM\n7QweLFkeAwW/8MGnczrxNE0/bsq0u6dxU+2bPKQswDl1ysTQT5pk0vo99xyUKWO1KsFitIYffjB9\ngaZNL6UZ8EecPmqrZeSb7P6OgPfBp1O6WGk+vf1THp77MGcunLFajn8QFmZmo6xfbzJBNWhgskGd\n9+iUBcGPWL8ebrrJRMRMmgRz5/qvcRdyxq8MPMBtDW6jU+1OPD3/6Xzvy1/9pW5RrZr5b162zBQf\nadDARN+kpFirKx+IJtdI13TyJAwZYopu9OxpZqR26mStJsG7+J2BB3i3y7ssjlvMNxu/sVqK/9Go\nEXz/PXz7rak0ddVV8OOP5pldCEhSU02tmcaNzefNm00JguBgq5UFPklJSfTr14/w8HBCQ0Np2bIl\nv/3mw5rTPhwhznm6Vh75+8Dfuvzb5fWWo1s8ut8CRVqa1r/8onXz5lq3b6/10qVWKxI8zJ9/an31\n1Vpff73WMTFWq/EOnrYtniQhIUGPHj1a7969W2ut9c8//6xDQkJ0XFzcFdtm93fgrWRjnsQTg6yZ\nmfT3JN5f9T4r+q0gtGioR/ddoEhNhRkz4KWXoEULE1YhTlm/5tAhkxBs0SIzxt67d+DmjPG3QdYW\nLVowevRo7r777suWF/hB1sw80uoROtTswH3f3UdKmmu+5IzY0Q9oiabgYHjgARMjd911poDm0KFw\n4oS1unJBNF1JcrKZedqsGVSuDLGxUK2aw3bG3erzZBWHDx9m27ZtNPXR7DG/NvBKKT7o+gFJqUk8\nOe9Jv7qL25JixcwUxs2bISnJ+OvHjzefBduzcKEZUvnf/2D5ctNzl7wxBqXy/8ovycnJ9OnTh+jo\naBr46AnZr1006ZxOPE3HrzrSuXZn3uz8plem/BZINm0yCUn+/de4be68M3Cf8/2YuDh4+mkz+/S9\n9+COOwrWz+QPLpq0tDR69+7N2bNnmTNnDsFZjHCLiyYbShcrzYK+C/h1x6+MWTrGajmBQ9OmMG+e\nSSn4/PMm/UFMjNWqBCcXLsBrr0Hr1ibP3KZNcg+2I1pr+vXrx9GjR/n++++zNO7eIlcDr5SKUkpt\nUUptV0oNz2abSKVUjFJqo1LK4XGVLlCuRDkW3r+QGRtmMPbPsS59x45+QDtqIioKx/vvw333mQQl\nDz0EBw5YrcqW58pXmhYtMu6Yv/6CNWvM/bdYMWs15QU7avIWAwcOZMuWLcydO5eiRYv69Ng5Gnil\nVDAwAYgCmgC9lFKNM20TBnwE3KG1bgZ095LWXKlcqjKLHljEx6s/5u3lb9v+sc2vCA6GAQNg61ao\nVAmaN4cxY2RGrI85eNBExPTvb7xmc+aYlL6CPdm9ezeTJk1i3bp1VK5cmZCQEEJCQvj66699cvzc\narK2B0ZpraOc7ecAtNZvZthmEFBZa/1Sjgfyog8+M/vi99F1RlduCr+J97q8R3CQzOjwOLt2mUQm\nf/8N774Ld90lvgEvkpICH39s7qmPPGJK85YoYbUqe+APPnhXsMIHXw3Ym6G9z7ksI/WBskqpxUqp\nNUqp+90R4kmqh1Zn2UPLWH94PT2/60liSqLVkgKP2rXhu+9g8mRjbW65xcTkCR5n5Upo08ZMOF66\n1NR2EeMuuEJuBt6V22JhoBVwK9AFeFEpVT+/wvJLWLEw5vedT3BQMDdPu5kjCUeu2MaOfkA7aoIc\ndHXqBGvXwu23Q4cOJpzj9GlrNVmIJzUdPw6PPmoKWz/zjPG7N26c+/e8qclT2FFTIJJb/bv9QI0M\n7RqYXnxG9gLHtNbngfNKqaVAC2B75p1FR0cT7nQYhoWFERERQWRkJHDpB/d0++v/+5oXf3+RZs82\nY3TkaAb1GHRx/dq1a71+/Ly207GLnvT22rVrs19fuDCOFi1g0iQif/0VGjXCcf/9EBVFZMeOXtMX\nqL9fWhqMGOHgs8+gb99INm+GtWsdLFli/d/nk+vJjXYg4XA4mDp1KsBFe+kuufngCwFbgU7AAeAv\noJfWOjbDNo0wA7FdgKLAKqCn1npzpn35zAefFXO3zqX/3P68dONLPN7mcYmV9yZr1pi0hamp8OGH\npsKU4BLr15sKjElJMHGiCX8UckZ88NmTo4tGa50CDAbmA5uBb7TWsUqpAUqpAc5ttgC/Aesxxv2z\nzMbdDtzZ8E5W9FvB5H8m03t2b06eP2m1pMCldWszlXLIEONfeOghkxxFyJYzZ2DYMOPx6tsXVqwQ\n4y7kn1zj4LXW87TWDbXW9bTWbziXfaq1/jTDNmO11k211s211h94U3B+qFu2Ln/2+5NyxcvR4pMW\njJ3hWry8L7GrbzLPuoKC4P77TX6bihVNWOX777ucf94rmnyAO5rmzjVzyo4dM5OVHnvMs6l8A+U8\nCXknIGay5oUShUsw4dYJfH7n57z959sM/nUwCUkJVssKXEJCTFKUpUtN0Hbr1qZ7KnDgAHTvbnru\nX35pXhUrWq1KCCQCIheNu5w8f5InfnuC5XuW82HXD7mtwW1WSwpstIZZs0x+m6goY/jLl7dalc9J\nSzPFtV580cwde/55U/BacA/xweewz4Js4NNZ8O8CBv0yiBaVW/B+1PtUD61utaTAJj4eRo2CmTPN\nzJ3+/Y1LpwCwebMJfUyvstSsmdWK/B8x8NlTMP6rsiHdD3hL3VvYOGgjzSs2J+KTCF5f9jrnk62Z\ngm9X36RHdYWGmrSHCxYYv0T79mZGrJWaPER2mhITzT3txhtNqoHly31n3P3pPAUiffv2pUqVKoSG\nhlKnTh1ee+01nx27QBv4jBQrVIzRkaNZ2X8l/xz8h4YTGjJ9/XTSdJrV0gKXFi1MEfDHHoPbboPB\ng+HUKatVeZwlSyAiAjZsMHPCBg0qMA8sAjBixAh27dpFfHw88+bN48MPP/RZXVZx0WTDH3v+YNiC\nYaSkpfBK5CvcWv9WiZ33JidOwMiRZiD2rbdMBI6fn++TJ039lHnzzHSATBXaBA/hTy6arVu30qlT\nJ+bOnUurVq0uWycuGh9yfc3rWdlvJSOvH8mIRSNoO7ktP2/72W8uJL+jbFn45BMTM/jBB8aXsXGj\n1arcQmv45hsT+likiAl9FONesBk0aBAlS5akadOmvPDCC1cYd29RoHvwDofDpanOaTqNH7f8yMtL\nXqZwUGFG3TiK2xvc7pUevauafI1PdaWmmjCTUaPMJKmXXoKSJa3V5CKzZjmYPj2SuDjzJ1x7rdWK\n7HmePKnJlR68ejn//6t6VP7sl9aaJUuW0L17d3799Vfatm172Xpv9OBzy0UjAEEqiHsa38Ndje7i\nxy0/8sLiF3hh8QsMvWYovZv3pmgh3ybxD3iCg2HgQDML9umnzWjkhAnGT29T0rMyjBpl3DKzZ5ve\nu2AP8mucPYFSisjISHr06MHXX399hYH3yjELcg/eXbTWLPh3Ae+tfI+1h9YysPVABrYZSMWSMkvF\nKyxcaEYmW7Qws2GrZc5YbS0xMSZHe0gIfPop+KiesuDEn3zwAP3796dy5cq8+uqrly0XH7xNUErR\npV4Xfuv7G78/+Dv7z+yn4YSG9JvTjzUH1vjVxeYX3HyzycLVpIkx8h98YLrMFnPunOmtd+kCjz8O\nv/8uxl24nKNHjzJr1iwSEhJITU1l/vz5fPvtt3Tr1s0nxy/QBt4TsbhNKjRh0h2T2D5kO/XK1uPe\nb++l1aRWfLz6Y04n5j0vul3jgy3XVbw4vPKKCaucPRuuuQbHp5/m/j0vsWCB8Rzt32/Ggh96yAT9\nWH6eskA0WYdSik8++YTq1atTrlw5XnzxRaZNm0abNm18cnzxwXuI8iXKM+KGEQy/fjiLdi7is38+\nY+SikdzV6C76t+rPtTWuJUgV6PupZ2jcGBYvNhOknnrKTA0dM8ZMnvIBR46YYYHly00636gonxxW\n8FPKly9v6c1MfPBe5EjCEb5a9xVT1k7hXPI5ejfrTZ+r+tCkQhOrpQUGx44ZH8nChTB+vBmU9VLs\nvNbmnjJ8uAnRf/nlLAN7BAvwNx98dkguGj9Fa826w+uYsX4GMzfOpFLJSvRp3oceTXtQs3RNq+X5\nP0uXmtmwdeqYaJt8VsHJzI4dJinYqVMmf4yPQpgFFxEDnz0F2mfgq0cnpRQRlSN455Z32DN0D2Nv\nGcumo5sxaQK7AAAgAElEQVRo+WlL2nzWhjeWvcHWY1t9qimv2FHXRU0dOpgcAO3bm3TEb78Nycn5\n3n9yMrzxBrRrZyI0V63K3bjb+jzZCDtqCkRy9cErpaKA8UAwMFlr/Vam9ZHAHGCnc9H3WuvL43+E\niwQHBdOxdkc61u5IcmoyS3cvZXbsbG768ibKFC9Dq8RWlG5YmojKEZIaIS8UKWLy7t53nwmpnD7d\nxCy2b+/W7lauNFkfq1UzFQg9/FAgCD4ht5qswZiarJ0xBbhXc2VN1kjgaa31nTkeqAC7aFwhTaex\nat8qftjyA9/Hfk9qWipd63Wla/2udKzdkVJFSlkt0X9IzxXw9NNwxx3w5ptQpoxLX42PN/eJ774z\nCS979vT7lDgBj7hosic3F01bYIfWOk5rnQzMArIK4JR/gXwSpIJoX6M9b9/8NjuG7OCX3r9Qt2xd\n3l/1PlXGVaHzV50Z9+c4Nh/dHBAXs1dRyvTkN282s2KbNIEZM4zhz4E5c0z+mPPnTf6Y++4T4y74\nN7kZ+GrA3gztfc5lGdHAtUqpdUqpX5VSfhMiYkc/oMPhQClF04pN+c+1/2HRA4s48PQBhrQdwrbj\n24iaHkX4++H0m9OP6eunsz9+v8902Y1cNYWFwccfw48/wjvvwC23wPbtV2yWXjrv2Wdh2jSYPNnk\nPvOKJgsQTQWX3Ay8K13Ff4AaWusWwIfAj/lWJVxGSNEQujXqxqd3fMruobuZ12ceLau0ZHbsbK76\n5CoaTWjEoF8G8e2mbzmacNRqufbjmmuMIz0qyvjkX3kFLlwgLc0ksGzRwoTXr1sHNsvJJQj5IrdB\n1v1AjQztGphe/EW01mcyfJ6nlPpYKVVWa30i886io6MJd45WhYWFERERcTGjXPod3dftdKw6vjvt\nJhWacGTTEZpVasZ3937HukPrmPT9JN5d8S79S/WnRmgNap+qTbOKzeh/T3/qlKnDkiVL8nX89GV2\n+PsztjNqy3H7P/6Aq68m8p9/YMgQFtSqx8TiT3O4ylMsXgzHjjlYudL6v8cb7cjISFvpSceT11Mg\n4XA4mDp1KsBFe+kuuQ2yFsIMsnYCDgB/ceUgayXgiNZaK6XaAv/VWl+hSgZZfUNKWgprD61l+Z7l\n/LnvT5bvWU5KWgrX1riW62pcx3U1r6NVlVYUCS6YqQ4TE+H112HX+Dl8XGgIpW6LRI0bCxUlUZy/\n4i+DrNu3b6d58+b06NGDadOmXbHe54OsWusUYDAwH9gMfKO1jlVKDVBKDXBu1h3YoJRaiwmnvM8d\nIVZgRz9gfjUVCipE66qtebLdk3zT/Rv2PrWXVf1X0b1Jd3ad2sXAXwZS9q2y3DDlBp6e/zQzN8xk\n+/HtuZYmDIRzlV46b9MmeDO2GyF7NqMqVjBJZT77DNLyX54xEM6TL7CjJm/z+OOP07ZtW5+GP+ca\nB6+1ngfMy7Ts0wyfPwI+8rw0wRMopagVVotaYbXo3bw3APEX4lm9fzVrDqxhduxsRi4ayanEU1xd\n9WraVG1D66qtaV21NbVK1wqIWPz00nm//WZytt91V/qaUjBunMk98NhjJhfBJ5/4rhq2UGCYNWsW\nZcqUoUmTJuzYscNnx5VUBQIARxOOsubAGvM6uIbV+1eTnJZMi0otaFGpBVdVuooWlVvQuHxjvylw\nojX8978mJ9k99xjXTLY5ydKrSL30Ejz8cLZVpAT7YXcXTXx8PG3atGHx4sVMmjSJf//912cuGjHw\nQrYcOHOAdYfWse7wOtYfXs+6w+vYeXIn9crWMwY/3fBXakHlUpVt1dvfvdtMaN2zx3hf2rVz8YuH\nDpkJUitW2L6KlGCwu4F/8sknqV69Os888wwvv/wyO3bs8JmBL9DpgjOO4tsFO2mqGlKVqiFV6Vq/\nq9H1f5EkpiSy+ehmY/APrWP+v/NZd2idid2v0JQmFZrQuHxjGldoTOPyjakaUtVrhj+rc5WSYtww\nr71m7PQPP+SxdF7lyjBzpkn4PmgQTJmSpypSdvr90hFNeGbGmhs3kbVr17Jo0SJiYmKcu/DtjahA\nG3gh7xQrVIxWVVrRqsqlrFtaaw6cOcDmo5uJPRbL5qOb+T72ezYf3cyF1As0Kt+IxuUbX2b8a4fV\nJjgo2KPaYmJM/piQENMBr18/Hzu75RbYsMFkG2vRAl58EQYPNjNjBf/Doh7+kiVLiIuLo2ZNkzX2\n7NmzpKamEhsby5o1a7x+fHHRCF7l+LnjxB6LJfZorHl3fj509hDhYeHUK1uP+mXrm/dy5r1m6ZoU\nCnK973H2rCl2PX26STsTHe3hFANbtpgi4PHxJoFZ69Ye3LmQX+zsojl//jxnzpipQlprxo4dS1xc\nHJ988gnlypW7bFtx0Qh+R7kS5bi+5vVcX/P6y5afTz7PzpM72XFiB9tPbGfDkQ3M3jKbHSd2cPjs\nYWqF1brc+JetT50ydahZuuZlg7y//GLqoXboYErnVajghT+iUSNTcHXaNLj9dujRA159FUqX9sLB\nhECiePHiFC9e/GK7VKlSFC9e/Arj7i0KdA9efJOu40tdiSmJl4z/8e0XbwI7T+5k/5n9VChRgaol\nwtn9v+IkcQ0P3RXOrdeGEx4WTs3SNb07iev4cXjuOZg3z6Sb7N79sscFO/5+ga7Jzj34vCA9eKFA\nUKxQMZpUaJJlacOklBTGfnqAtyfG0eSqeXR6sAj7E/7k9WUziTsVx/4z+6lYsiLhYU6DH1qTGqVr\nUD20+sVXueLl3B/4LVfOhOX88YeJnZ8yxUTb1KmTz79aEDxPge7BC/7Fpk1mEFVrE7Ke1XyklLQU\n9sfvJ+5UHLtO7WLv6b3si9/H3njzvi9+H+dTzl9m8GuE1riiXb5E+dxvAklJphf/zjswbJh55Slk\nR/AE0oPPYZ9i4AW7c/68CXv89FMYM8YY+aB8FJtMSEq4aOwzG//0dkJSAlVCqlClVBUql6pMlVJV\nqBJy5eeKJStSaPdeE2ETFwcTJ5oBAcFniIHPYZ8F2cAHum/Sk1ila9Ei4wlp2dKEo1ep4htN55LP\ncfDMQQ6ePcihs4cufs7cPnH+BOWKl6NKqcp0j1U0m7qFmm3r8c9T91E6vCEVS1akQokKVCxZkTLF\nyxCkfF8G2Y7XlPjgr0R88EKB4dgx4/FYssS4uG+/3bfHL1G4BHXL1qVu2bo5bpeSlsKRhCPG6Hc8\nyLJ6Cyi/MoZ7e73Kf++qz4fXh3DowjGOJhzlTNIZyhYve9HoVyhZgYolKlKhZIWLN4EKJStcXG/V\nDUEIHAp0D16wH1rDV1+Z5GB9+pjaHKX8sRxtbCwMGQJHjsBHH8ENN5Ccmsyxc8c4eu4oRxKOcDTh\naNafzx29eEMoV7zcxRtA2eJlKVu8LOWKl7v0ucSlz+nr/CVXkKeQHnwO+xQDL9iF7duNO+bUKTOI\nevXVVivKJ1rDt9+aR5GbboK33zapEFwk4w3haMJRTpw/wYnzJzh+/njWn8+Zz4WDC19xI8jqxhBW\nLIzSRUsTViyMsGJhhBYN9fjsYl8gBj6HfRZkAx/ovklP4k1dSUnG9o0fD88/bzq+hVxwHtrxXGWp\n6exZ8ygyZYpJeTBokGt/oBtorUlITrho7E+cP8GyJcuo3LzyZTeF4+eOc/rCaU4lnuJ0onk/k3SG\nkoVLUrrYJaOffgPIeCNIX5/VsmKFirmk09M++EBBfPBCQLFkibF3derAP/+AM2VHYFGqlLmDRUeb\naJvPPzfFwK+7zuOHUkpRqkgpShUpRa2wWgAE7wkmsnVkrt9N02mcuXDGGH2n8c94Azh94TSHEw6z\n7fg2Tl24ct3J8ydRSlG6aGlCioYQUiTksvfQIqEX20c2HWFrqa0X26FFQ6/4TonCJVwy3p7sONqx\n05Afcu3BK6WiMJWagoHJWuu3stmuDbACuFdrPTuL9bbrwQvWceQIPPMMLF5seu533+3h/DF2JT1J\n/bBh0LkzvPUWVKpktSqPoLUmMSWR+AvxnEk6w5kLZy77nPE9/kL8pWWZ1qd/Jyk16YqbRPp7ycIl\nzatI3t+LFyruV71+r7lolFLBmJqsnTEFuFeTqSZrhu0WAueAKVrr77PYlxh4gbQ0MxH0xRfhgQdg\n9Gg/HUTNL2fOGLfN1KkmU9pjj3nNbeOvJKcmczbp7BU3hrNJZ0lISiAhOeHK96yWZXq/kHKBEoVL\n5H4zcH4uUbgExQsVp3jh4lm+lyhcIst1hYMKe+RG4k0D3x4YpbWOcrafA9Bav5lpu6FAEtAG+Nlf\nDLwdH8fsqAk8oysm5pIdmzgRrrrKek2eJs+aNm0ybpuTJ0086PXX5/4db2vyAVZqSk1L5VzyuSyN\n/8o/VlKnZZ0rlp9PPs/5FOcr2bX3NJ2W443hivcslhUrVIxHWz/qNR98NWBvhvY+4JqMGyilqgHd\ngI4YA28vKy5YTny86bHPmmXSq0dH528makDRtKnJVPnNN9CrF9xwg3Hb1KhhtbKAJTgo2Lh7ioZc\nsa7QnkJENo/0yHFS0lJcvhmkv59LPsf55PMcSThCYkoiiSmJ+dKQm4F3xViPB57TWmtlnkeyvdNE\nR0cTHh4OQFhYGBERERfv4ulV1n3dTseq4/tLO31ZXr6vNRw5EsmwYdCihYNJk6BbN8/qy6jNl+fD\no22lcFSuDJMmEbliBURE4LjzTrjvPiK7dMn3/iMjI+319zrJ6/Xkr+2QoiFZri9FKW6PvP2K7R0O\nB1NnTgW4aC/dJTcXTTtgdAYXzQggLeNAq1JqJ5eMenmMH/4RrfXcTPuynYtG8B7btxvPw8GDxh3j\nhYCRwCUuzoxAr14NY8fC//1fARmBFrIiPz743B6U1wD1lVLhSqkiQE/gMsOtta6jta6tta4NfAcM\nzGzc7UrmXqAdsKMmcF1XYqIZOG3f3lS9+/tv7xl3O54rj2gKDzcTpKZONdnVOnaEdeus1eRh7KgJ\n7KvLXXI08FrrFGAwMB/YDHyjtY5VSg1QSg3whUDBf1iwAJo3N6VMY2JMJGDhwlar8mMiI80dsmdP\nc7ccONAk6REEFynQM1kFz7B3rzHmf/8NH34It95qtaIA5MQJePll+PpreOEFY+zl7lkg8KaLRhCy\nJTHR5Glv2RKaNDE1UcW4e4myZU2+ZIcDfv7ZxJj+/LOZOCUI2VCgDbwd/W121ARX6vrlF1NRac0a\nMxY4ejRkqC1siSY74HVNTZrA/Plm8PXZZ81s2JgYazW5gR01gX11uUuBNvBC3tmxw+Rmf/ppkwX3\nhx+gdm2rVRUwlILbboP166FHD/PYFB0N+/dbrUywGeKDF1wiIcFMUvrkE9NxHDpUyo/ahvh4ePNN\nU9Pw8cfND1Qg8z8EJuKDF7xGekrzJk1g504Trffss2LcbUVoKLz+unHV7NoFDRqYhD+pqVYrEyym\nQBt4O/rb7KRp82bj4h0zBp56ysHMmVCtmtWqLmGnc5WOpZpq1oRp02DuXJg+HSIiYP58OU95wK66\n3KVAG3gha06fNj72G2+Eu+4yedojIqxWJbhM69Ym2mbMGFM95ZlnzI8oFDjEBy9cJDX1UtGhW281\nPveKFa1WJeSL5GSYPNkY+w4d4NVXoV49q1UJeUB88EK+cThMx+/LL0149eefi3EPCAoXNpOitm83\nsfPt2pn2wYNWKxN8QIE28Hb0t/la07//mlxWDz0EI0fC0qVZF7uWc+UattVUsqT5gbduNZ+bNTPt\nU6es02RD7KrLXQq0gS/IxMfD8OFwzTWm5x4ba0KqJWlhgFOunJkkFRMDhw+biJt33oHz561WJngB\n8cEXMFJT4Ysv4KWXoGtXk2qgShWrVQmWsXmzyW2zerUpHRgdLaUDbYbXSvZ5EjHw1uNwmAlKoaHw\n3ntZu2KEAsrKlfDcc8Y3P3o03HsvBAdbrUpABlndxo7+Nm9o2rYN7rnH+NlfeAGWLMm7cS8o5yq/\n+K2mdu1g8WJTF/b996FFC/juO1Ml3SpNFmBXXe5SoA18oHPkiJm5fu21xtceGwvdu4ufXcgGpeDm\nm2HFCuOXf+staNUK5syRrJV+irhoApBz54wL5r33oG9f02svX95qVYLfoTX89JMZsClUCF55xQzc\nSA/Bp3jVRaOUilJKbVFKbVdKDc9ifTel1DqlVIxS6m+lVEd3hAj5J30AtUEDk2hw1SoYP16Mu+Am\nSsGdd5pZsCNGmCRE7dub0l3SWfMLcjTwSqlgYAIQBTQBeimlGmfa7H9a6xZa65ZANDDJG0K9gR39\nbe5o0hrmzTPpBKZMge+/h2++gbp1rdXlbUSTa+RbU1CQmSyxfj089RQ8+aTx+/3yi9uG3o7nCeyr\ny11y68G3BXZoreO01snALKBbxg201gkZmqUAKRrpQ/75xyQEe+opMwt96VLjbxcEjxMUZOrDbtxo\nkhWNHGlG62fP9tpgrJA/cvTBK6W6A1201o84232Ba7TWQzJtdxfwBlAFuEVr/VcW+xIfvAfZudO4\nRhctMuHL/ftL+LLgY9LSTF6LMWPMwM/zz5vwSrkQPUp+fPC5/RIuWWSt9Y/Aj0qpG4BpQMOstouO\njiY8PByAsLAwIiIiiIyMBC49Gkk753aDBpG8+ipMn+7gnntg27ZIQkLso0/aBax9551wxx043nkH\n3niDyFGjYORIHDVqQKFC1uvzw7bD4WDq1KkAF+2l22its30B7YDfMrRHAMNz+c6/QLkslmu7sXjx\nYqslXEF2mo4d0/qZZ7QuU0brYcO0PnrUHrqsRDS5hs80paVp7XBo3bmz1rVqaT1hgtYJCdZqyiN2\n1OW0nTna6uxeufng1wD1lVLhSqkiQE9gbsYNlFJ1lTJxU0qpVk5Lfjx/tx0hnTNnzBNww4Ymf8z6\n9SaViETGCLZDKVNEYOFCmDUL/vc/U7D3lVfguJgEK8g1Dl4p1RUYDwQDn2ut31BKDQDQWn+qlHoW\neABIBs4CT2utV2exH53bsYRLJCaa+qdvvgmdOsHLL0sab8EP2bIFxo0zoV19+5rB2fy6HQoYkosm\ngEhJgalTTaenZUvTe7/qKqtVCUI+OXAAPvjA1IqNijJVpqRMmEtILho3SR/YsAOpqTBjBoSHm9qn\n//2vmSFuF+Nup3OVjmhyDVtoqlrVPI7u2gURETg6d4YuXYwbx0YdP1ucKw8i8UwWk5pq3JVjxhi/\n+lNPmadYmQ0uBCShoab33qIF7N9vJk0FB5s0p717Q7FiVisMKMRFYxGpqWa26SuvmBoML79sfO1i\n2IUChdamFz9+PKxZAwMGmJKCUqTgIuKi8SNSU2HmTGjaFD76yGRn/eMPMxtVjLtQ4EjPYPnLL2Ya\n9rFj0KQJPPCAmaYt5IsCbeB96W9LTYWvvzalMHMy7Hb1AdpRl2hyDb/R1LAhfPyxKRTcrBl06wYd\nOphUCCkp1unyYwq0gfcFyckmAViTJvDhhyaQQHrsgpADZcuazJU7d8LgwWbiR+3aJtnSoUNWq/Mr\nxAfvJc6fh88/N3UTGjQweZkiI8WoC4JbxMTAxInw7bcm+mbQILjhhgLxDyVx8DYiPt48ZY4fb6qg\njRwJbdtarUoQAoRTp+Crr8w/WeHCxtD37QshIVYr8xoyyOomnvS3HTsGL74IdeqYbKr/+x/8+GPe\njbtdfYB21CWaXCOgNIWFwRNPmPqT779v0qnWqmVqU65fb50um1KgDbwn2L3bxK43aGBqoK5aBdOn\nmzEiQRC8hFLQsaMpDL5hA1SoALfdZnpUkyaZJE6CuGjcJSbG+Nfnz4eHHjJGvlo1q1UJQgEmNdWU\nE5w8GX7/He65xxRKaNfOr3314oP3EVobgz52LGzdaibhPfIIlC5ttTJBEC7j0CHjq5882fjq+/eH\n++/3yzSs4oN3E1f9bUlJ8OWXJi/M8OHw4IMmVPc///G8cberD9COukSTaxRITZUrm1DLrVtN9E1M\njEnHeu+9ZlJVcrI1unxMgTbwuXHyJLz9thk4nTHDZD1du9Z0BIoUsVqdIAi5opSZLPXVVybRWadO\n8PrrUKOG8avGxNgq2ZmnERdNFmzaZCYlffMN3H47DBsmmU0FIaDYvh2mTTOGPzTUpEbo08eWOXDE\nB+8B0tLMk9sHH5gwx8ceM3mPKle2WpkgCF4jLQ2WLTOGfvZsMyB7//0mTULJklarA3zgg1dKRSml\ntiiltiulhmexvo9Sap1Sar1SarlSyiZZzHPG4XBw+rSZlNSggcns+OCDEBcHo0ZZY9zt6gO0oy7R\n5BqiKQeCgkyZwc8/h/37cVx9tenZV6sGvXrB3Llw4YLVKt0mVwOvlAoGJgBRQBOgl1KqcabNdgId\ntNZXAWOASZ4W6mm2bDHzJGrXNrHr06bBX3+ZSXFFi1qtThAEn1OihEkSNW+eceHceKMZeKtaFfr1\nM7MXfZT0zFO4UpO1PTBKax3lbD8HoLV+M5vtywAbtNbVMy233EWTlGRml06caCbC9etnZjpL/Log\nCNmyb58ZkJs1C/buhR49TO++XTvzBOBlvO2iqQbszdDe51yWHf2AX90R4y3i4uD5582M5okTTT2B\nPXvgtdfEuAuCkAvVq5tIi9Wrjb++YkUzAaZmTRgyBBwOM8nKhrhSss/lbrdS6ibgYeC6rNZHR0cT\n7qyoHhYWRkREBJGRkcAln5yn2osWOfjrL1i+PJIVK+Cmmxy89RY88MCl7deuXcvQoUO9cnx32+nL\n7KInvT1+/Hiv/l7utOX3c62dWZvVesCe11M6uf5+L76I44YbYPduIvftg6efxrFzJ1x/PZGDB0PH\njjj+/NNtPQ6Hg6lTpwJctJduo7XO8QW0A37L0B4BDM9iu6uAHUC9bPajfcHevVqPGaN1zZpat22r\n9RdfaJ2QkPW2ixcv9ommvGBHTVrbU5docg3R5Dpu6/r3X63HjtW6fXuty5TR+v77tf7xR63Pncu3\nJqftzNVWZ/VyxQdfCNgKdAIOAH8BvbTWsRm2qQn8DvTVWq/MZj86t2O5y4UL8NNPZiB81Sro2dPM\nTL76aq8cThAEIXv274cffjBhl//8A7fcAnfdBV27Qpkyed6d1+PglVJdgfFAMPC51voNpdQAAK31\np0qpycDdwB7nV5K11m0z7cPjBn7DBvjiCzPLtFkzePhhk1+oRAmPHkYQBME9jh6FOXNMD3TxYmjZ\nEu64w8ygbNjQpSRo+THwbnX73XnhIRfNqVNaT5yodZs2WlevrvULL2i9Y4d7+7LjY6IdNWltT12i\nyTVEk+t4Vde5c1r//LPWjz1mjFe9eloPHar1okVaJyVl+zXy4aLxi1w0yclmlul995lImEWLzKSk\nuDgYMwbq1rVaoSAIQi4UL25y1k+caML4vv3W1J8dMcJE5vTsaSbkHDvmsUPaNlWB1iYqafp0E4Ja\nr56ZQdyjB5Qr50WhgiAIvubQIfj1V+PK+f13aNTI+OyjolDt2wdOLppdu4xPfdo0kybi/vtNDiDp\npQuCUCBISoLly82M2nnzUBs3+nc++MOHTQ3dG24wFbfSc/Vv2wYvveQ9454x9tUu2FET2FOXaHIN\n0eQ6ttBVpAjcdJPJVb5hQ7525cpEJ69w7JiJIvrvf+Hvv41r6tlnISrKFGARBEEQ8odPXTQnTmh+\n/NH41FeuhC5dzLhC165m/EEQBEG4HL/JBx8aqunc2VTNuv1226RbFgRBsC1+U5N13z74/nvTa7eD\ncbeFvy0TdtQE9tQlmlxDNLmOXXW5i08NfEiIL48mCIJQsLFdmKQgCIJwCb9x0QiCIAi+o0AbeDv6\n2+yoCeypSzS5hmhyHbvqcpcCbeAFQRACGfHBC4Ig2BjxwQuCIAhX4JKBV0pFKaW2KKW2K6WGZ7G+\nkVJqhVIqUSk1zPMyvYMd/W121AT21CWaXEM0uY5ddblLrgZeKRUMTACigCZAL6VU40ybHQeGAGM9\nrtCLrF271moJV2BHTWBPXaLJNUST69hVl7u40oNvC+zQWsdprZOBWUC3jBtorY9qrdcAyV7Q6DVO\nnTpltYQrsKMmsKcu0eQaosl17KrLXVwx8NWAvRna+5zLBEEQBBvjioEP2NCXuLg4qyVcgR01gT11\niSbXEE2uY1dd7pJrmKRSqh0wWmsd5WyPANK01m9lse0o4KzWelwW6wL2RiEIguBN3A2TdKXgxxqg\nvlIqHDgA9AR6ZbNttiLcFSgIgiC4h0sTnZRSXYHxQDDwudb6DaXUAACt9adKqcrAaiAUSAPOAE20\n1me9plwQBEHIEZ/NZBUEQRB8i9dnsuY2ScpXKKVqKKUWK6U2KaU2KqWecC4vq5RaqJTappRaoJQK\ns0BbsFIqRin1kx00KaXClFLfKaVilVKblVLX2EDTCOdvt0EpNVMpVdTXmpRSXyilDiulNmRYlq0G\np+btzuv/Fh/resf5+61TSs1WSpX2pa6sNGVYN0wplaaUKmsHTUqpIc5ztVEp9VaG5ZZoUkq1VUr9\n5bQJq5VSbdzWpLX22gvj0tkBhAOFgbVAY28eMwctlYEI5+dSwFagMfA28Kxz+XDgTQu0PQ3MAOY6\n25ZqAr4EHnZ+LgSUtlKT8/rZCRR1tr8BHvS1JuAGoCWwIcOyLDVgJgWudV734c7/gyAf6ro5/XjA\nm77WlZUm5/IawG/ALqCs1ZqAm4CFQGFnu4INNDmALs7PXYHF7mrydg8+10lSvkJrfUhrvdb5+SwQ\ni4nnvxNj0HC+3+VLXUqp6sCtwGQuDVJbpsnZ07tBa/0FgNY6RWt92kpNQDxmEl0JpVQhoARmwN+n\nmrTWy4CTmRZnp6Eb8LXWOllrHYf5Z2zrK11a64Va6zRncxVQ3Ze6sjlXAO8Cz2ZaZqWmgcAbTvuE\n1vqoDTQdxHSqAMKA/e5q8raBt+UkKWdEUEvMhV9Ja33YueowUMnHct4DnsEMTqdjpabawFGl1BSl\n1D9Kqc+UUiWt1KS1PgGMA/ZgDPsprfVCKzVlIDsNVTHXezpWXvsPA786P1umSynVDdintV6faZWV\n5wRdRTIAAAK5SURBVKo+0EEptVIp5VBKtbaBpueAcUqpPcA7wAh3NXnbwNtuBFcpVQr4HnhSa30m\n4zptnoN8plkpdTtwRGsdQzYhpr7WhHHJtAI+1lq3AhIwF5xlmpRSdYGhmMfSqkAppVRfKzVlhQsa\nfK5PKfU8kKS1npnDZl7XpZQqAYwERmVcnMNXfHWuCgFltNbtMB2t/+awra80fQ48obWuCTwFfJHD\ntjlq8raB34/xuaVTg8vvQD5FKVUYY9ynaa1/dC4+7AzzRClVBTjiQ0nXAncqpXYBXwMdlVLTLNa0\nD9PLWu1sf4cx+Ics1NQa+FNrfVxrnQLMBtpbrCmd7H6rzNd+dS49avsEpVQ0xv3XJ8Niq3TVxdyg\n1zmv9+rA30qpShZqAnO9zwZwXvNpSqnyFmtqq7X+wfn5Oy65YfKsydsG/uIkKaVUEcwkqblePmaW\nKKUU5s64WWs9PsOquZgBO5zvP2b+rrfQWo/UWtfQWtcG7gN+11rfb7GmQ8BepVQD56LOwCbgJ6s0\nAVuAdkqp4s7fsTOw2WJN6WT3W80F7lNKFVFK1ca4Av7ylSilVBSmR9pNa52YSa/PdWmtN2itK2mt\nazuv931AK6d7y8pz9SPQEcB5zRfRWh+zWNMOpdSNzs8dgW3Oz3nX5OlR4SxGibtiIlZ2ACO8fbwc\ndFyP8XOvBWKcryigLPA/50lcAIRZpO9GLkXRWKoJaIGZuLYO07spbQNNz2JuNBswg5mFfa0J85R1\nAEjCjC09lJMGjEtiB+YG1cWHuh4GtgO7M1zrH/tSVwZNF9LPVab1O3FG0VipyXkdTXNeV38DkRZp\nynhNtcaMD64FVgAt3dUkE50EQRACFCnZJwiCEKCIgRcEQQhQxMALgiAEKGLgBUEQAhQx8IIgCAGK\nGHhBEIQARQy8IAhCgCIGXhAEIUD5f7j1lSTFGj6WAAAAAElFTkSuQmCC\n",
      "text/plain": [
       "<matplotlib.figure.Figure at 0x7f72f0d54b50>"
      ]
     },
     "metadata": {},
     "output_type": "display_data"
    }
   ],
   "source": [
    "import matplotlib.pylab as plt\n",
    "from qoreliquid import *\n",
    "\n",
    "def viewTraining(fname):\n",
    "    df = p.read_csv(fname, header=None)\n",
    "    %matplotlib inline\n",
    "    df = df.ix[:,[2,3,4]]\n",
    "    #df.ix[:,[2]].plot()\n",
    "    #df.ix[:,[3]].plot()\n",
    "    #df.ix[:,[4]].plot()\n",
    "    #print df\n",
    "\n",
    "    #plt.scatter(df.ix[:,[3]], df.ix[:,[4]]); plt.show();\n",
    "    df.ix[:,[4]].plot(); plt.show();\n",
    "    #df.ix[:,[3,4]].plot(); plt.show();\n",
    "\n",
    "    df = normalizeme(df)\n",
    "    #plt.scatter(df.ix[:,[3]], df.ix[:,[4]]); plt.show();\n",
    "    #df.plot(); plt.show();\n",
    "\n",
    "    df = sigmoidme(df)\n",
    "    #plt.scatter(df.ix[:,[3]], df.ix[:,[4]]); plt.show();\n",
    "    df.plot(); plt.show();\n",
    "    \n",
    "viewTraining('/mldev/bin/datafeeds/models/qorequant/EUR_USD-D.train.csv')\n",
    "viewTraining('/mldev/bin/datafeeds/models/qorequant/EUR_USD-H4.train.csv')\n",
    "#viewTraining('/mldev/bin/datafeeds/models/qorequant/USD_CAD-H4.train.csv')\n",
    "\n",
    "#viewTraining('/mldev/bin/datafeeds/models/qorequant/EUR_USD-M30.train.csv')\n"
   ]
  }
 ],
 "metadata": {
  "kernelspec": {
   "display_name": "Python 2",
   "language": "python",
   "name": "python2"
  },
  "language_info": {
   "codemirror_mode": {
    "name": "ipython",
    "version": 2
   },
   "file_extension": ".py",
   "mimetype": "text/x-python",
   "name": "python",
   "nbconvert_exporter": "python",
   "pygments_lexer": "ipython2",
   "version": "2.7.9"
  }
 },
 "nbformat": 4,
 "nbformat_minor": 0
}
