{
 "cells": [
  {
   "cell_type": "code",
   "execution_count": 1,
   "metadata": {
    "collapsed": false
   },
   "outputs": [
    {
     "name": "stdout",
     "output_type": "stream",
     "text": [
      "Populating the interactive namespace from numpy and matplotlib\n"
     ]
    }
   ],
   "source": [
    "%reload_ext autoreload\n",
    "%autoreload 2\n",
    "%reload_ext memory_profiler\n",
    "%reload_ext line_profiler\n",
    "%pylab inline\n",
    "\n",
    "import sys\n",
    "try: sys.path.index('/ml.dev/bin')\n",
    "except: sys.path.append('/ml.dev/bin')\n",
    "\n",
    "from qore import *\n",
    "from qoreliquid import *\n",
    "import pandas as p\n",
    "import numpy as n\n",
    "#import mpld3\n",
    "from pylab import rcParams\n",
    "rcParams['figure.figsize'] = 16, 5\n",
    "from pylab import *"
   ]
  },
  {
   "cell_type": "code",
   "execution_count": null,
   "metadata": {
    "collapsed": false
   },
   "outputs": [],
   "source": [
    "pairs = 'EUR_USD AUD_USD USD_CAD USD_CHF'.split(' ' )\n",
    "pairs = ['EUR_USD', 'GBP_USD', 'AUD_USD', 'AUD_JPY', 'NZD_USD', 'NZD_EUR', 'USD_JPY',  'USD_CHF', 'USD_CAD','GBP_JPY', 'EUR_NZD', 'GBP_NZD', 'AUD_NZD', 'NZD_JPY']\n",
    "pair = pairs[3]\n",
    "granularities = list(p.DataFrame(['D','H4','H1','M30','M15','M5','M1','S10','S5']).sort(ascending=False).transpose().get_values()[0])\n",
    "count = 200\n",
    "plot=True\n",
    "noUpdate=False\n",
    "\n",
    "rcParams['figure.figsize'] = 12, 5\n",
    "#rcParams['figure.figsize'] = 16, 5\n",
    "\n",
    "qq = QoreQuant()\n",
    "qq.qd.off()\n",
    "qq.setVerbose(False)\n",
    "qq.granularities = granularities\n",
    "qq.pairs = pairs\n",
    "\n",
    "mpld3.enable_notebook()"
   ]
  },
  {
   "cell_type": "code",
   "execution_count": null,
   "metadata": {
    "collapsed": false
   },
   "outputs": [],
   "source": [
    "#%lprun -f qq.oq.updatePairGranularity -f qq.oq.appendHistoricalPrice -f qq.oq.getHistoricalPrice qq.oq.updatePairGranularity('EUR_USD', 'H1', noUpdate=False, plot=False)\n",
    "#%prun qq.sweepChartsConstantGranularity(granularities[2], pairs)\n",
    "%lprun -f qq.sweepChartsConstantGranularity -f qq.sweepCharts -f qq.visualizeVolume qq.sweepChartsConstantGranularity(granularities[5], pairs)\n",
    "#qq.sweepChartsConstantGranularity(granularities[7], pairs, onlyTradedPairs=True)"
   ]
  },
  {
   "cell_type": "code",
   "execution_count": null,
   "metadata": {
    "collapsed": false
   },
   "outputs": [],
   "source": [
    "qq.oq.updateBarsFromOanda(pair=pair, granularities=' '.join([granularity]), plot=plot, noUpdate=noUpdate)\n",
    "#qq.oq.dfa.keys()"
   ]
  },
  {
   "cell_type": "code",
   "execution_count": null,
   "metadata": {
    "collapsed": false
   },
   "outputs": [],
   "source": [
    "qq.sweepChartsConstantGranularity(granularities[2], pairs, onlyTradedPairs=True)"
   ]
  },
  {
   "cell_type": "code",
   "execution_count": null,
   "metadata": {
    "collapsed": false
   },
   "outputs": [],
   "source": [
    "qq.sweepChartsConstantGranularity(granularities[2], pairs, onlyTradedPairs=False)"
   ]
  },
  {
   "cell_type": "code",
   "execution_count": null,
   "metadata": {
    "collapsed": false
   },
   "outputs": [],
   "source": [
    "#qq.sweepChartsConstantPair()\n",
    "#qq.sweepChartsConstantGranularity()"
   ]
  },
  {
   "cell_type": "code",
   "execution_count": null,
   "metadata": {
    "collapsed": false
   },
   "outputs": [],
   "source": [
    "qq.sweepChartsConstantGranularity(granularities[0], pairs)"
   ]
  },
  {
   "cell_type": "code",
   "execution_count": null,
   "metadata": {
    "collapsed": false
   },
   "outputs": [],
   "source": [
    "qq.sweepChartsConstantGranularity(granularities[1], pairs)"
   ]
  },
  {
   "cell_type": "code",
   "execution_count": null,
   "metadata": {
    "collapsed": false
   },
   "outputs": [],
   "source": [
    "qq.sweepChartsConstantGranularity(granularities[2], pairs)"
   ]
  },
  {
   "cell_type": "code",
   "execution_count": null,
   "metadata": {
    "collapsed": false
   },
   "outputs": [],
   "source": [
    "qq.sweepChartsConstantGranularity(granularities[3], pairs)"
   ]
  },
  {
   "cell_type": "code",
   "execution_count": null,
   "metadata": {
    "collapsed": false
   },
   "outputs": [],
   "source": [
    "qq.sweepChartsConstantGranularity(granularities[4], pairs)"
   ]
  },
  {
   "cell_type": "code",
   "execution_count": null,
   "metadata": {
    "collapsed": false
   },
   "outputs": [],
   "source": [
    "qq.sweepChartsConstantGranularity(granularities[5], pairs)"
   ]
  },
  {
   "cell_type": "code",
   "execution_count": null,
   "metadata": {
    "collapsed": false
   },
   "outputs": [],
   "source": [
    "qq.sweepChartsConstantGranularity(granularities[6], pairs)"
   ]
  },
  {
   "cell_type": "code",
   "execution_count": null,
   "metadata": {
    "collapsed": false
   },
   "outputs": [],
   "source": [
    "qq.sweepChartsConstantGranularity(granularities[7], pairs)"
   ]
  },
  {
   "cell_type": "code",
   "execution_count": null,
   "metadata": {
    "collapsed": false
   },
   "outputs": [],
   "source": [
    "qq.sweepChartsConstantGranularity(granularities[8], pairs)"
   ]
  },
  {
   "cell_type": "code",
   "execution_count": null,
   "metadata": {
    "collapsed": false
   },
   "outputs": [],
   "source": [
    "qq.oq.oandaTransactionHistory()\n",
    "qq.oq.oanda2."
   ]
  },
  {
   "cell_type": "code",
   "execution_count": null,
   "metadata": {
    "collapsed": false
   },
   "outputs": [],
   "source": [
    "# ONLY TRADED PAIRS\n",
    "#========================================///////========================================//\n",
    "qq.sweepChartsConstantGranularity(granularities[0], pairs, onlyTradedPairs=True)"
   ]
  },
  {
   "cell_type": "code",
   "execution_count": null,
   "metadata": {
    "collapsed": false
   },
   "outputs": [],
   "source": [
    "qq.sweepChartsConstantGranularity(granularities[1], pairs, onlyTradedPairs=True)"
   ]
  },
  {
   "cell_type": "code",
   "execution_count": null,
   "metadata": {
    "collapsed": false
   },
   "outputs": [],
   "source": [
    "qq.sweepChartsConstantGranularity(granularities[2], pairs, onlyTradedPairs=True)"
   ]
  },
  {
   "cell_type": "code",
   "execution_count": null,
   "metadata": {
    "collapsed": false
   },
   "outputs": [],
   "source": [
    "qq.sweepChartsConstantGranularity(granularities[3], pairs, onlyTradedPairs=True)"
   ]
  },
  {
   "cell_type": "code",
   "execution_count": null,
   "metadata": {
    "collapsed": false
   },
   "outputs": [],
   "source": [
    "qq.sweepChartsConstantGranularity(granularities[4], pairs, onlyTradedPairs=True)"
   ]
  },
  {
   "cell_type": "code",
   "execution_count": null,
   "metadata": {
    "collapsed": false
   },
   "outputs": [],
   "source": [
    "qq = QoreQuant()\n",
    "qq.setVerbose(False)\n",
    "plot=False\n",
    "df = qq.oq.updatePairGranularity('EUR_USD', 'S5', plot=plot)\n",
    "#df = qq.oq.dfa['EUR_USD']['S5']\n",
    "list(df.index[n.isnan(df.ix[:,'volume'].get_values())])\n",
    "#print df\n",
    "#appendHistoricalPrice\n",
    "\n",
    "#df = qq.oq.updatePairGranularity('EUR_USD', 'M15')\n",
    "#qq.oq.oanda2.get_history(instrument='EUR_USD', granularity='M15', start='2015-04-24T18:45:00.000000Z', end='2015-07-29T20:30:00.000000Z')\n",
    "df = qq.oq.oanda2.get_history(instrument='EUR_USD', granularity='M15', count=50)\n",
    "df = p.DataFrame(df['candles'])\n",
    "#df"
   ]
  },
  {
   "cell_type": "code",
   "execution_count": null,
   "metadata": {
    "collapsed": false
   },
   "outputs": [],
   "source": [
    "qq.sweepChartsConstantGranularity(granularities[5], pairs, onlyTradedPairs=True)"
   ]
  },
  {
   "cell_type": "code",
   "execution_count": null,
   "metadata": {
    "collapsed": false
   },
   "outputs": [],
   "source": [
    "qq.vizVolume(0,8)"
   ]
  },
  {
   "cell_type": "code",
   "execution_count": null,
   "metadata": {
    "collapsed": false
   },
   "outputs": [],
   "source": [
    "qq.vizVolume(0,0)"
   ]
  },
  {
   "cell_type": "code",
   "execution_count": null,
   "metadata": {
    "collapsed": false
   },
   "outputs": [],
   "source": [
    "qq.vizVolume(1,1)"
   ]
  },
  {
   "cell_type": "code",
   "execution_count": null,
   "metadata": {
    "collapsed": false
   },
   "outputs": [],
   "source": [
    "qq.vizVolume(2,2)"
   ]
  },
  {
   "cell_type": "code",
   "execution_count": null,
   "metadata": {
    "collapsed": false,
    "scrolled": true
   },
   "outputs": [],
   "source": [
    "qq.vizVolume(3,3)"
   ]
  },
  {
   "cell_type": "code",
   "execution_count": null,
   "metadata": {
    "collapsed": false,
    "scrolled": true
   },
   "outputs": [],
   "source": [
    "qq.vizVolume(4,4)"
   ]
  },
  {
   "cell_type": "code",
   "execution_count": null,
   "metadata": {
    "collapsed": false
   },
   "outputs": [],
   "source": [
    "qq.vizVolume(4, 6)"
   ]
  },
  {
   "cell_type": "code",
   "execution_count": null,
   "metadata": {
    "collapsed": false
   },
   "outputs": [],
   "source": [
    "babysitTrades2(qq, acc)"
   ]
  },
  {
   "cell_type": "code",
   "execution_count": null,
   "metadata": {
    "collapsed": false
   },
   "outputs": [],
   "source": [
    "acc = qq.oq.oanda2.get_account(qq.oq.aid)\n",
    "print acc\n",
    "bal = acc['balance']\n",
    "targetPl = bal * 1. / 100\n",
    "unrealizedPl = acc['unrealizedPl']\n",
    "print unrealizedPl\n",
    "print unrealizedPl / bal * 100\n",
    "print targetPl\n",
    "if unrealizedPl >= targetPl:\n",
    "    print 'yay!'\n",
    "    #qq.oq.oanda2.modify_trade(qq.oq.aid, tid, trailingStop=10)    \n",
    "else:\n",
    "    print 'ah damn!'"
   ]
  },
  {
   "cell_type": "code",
   "execution_count": null,
   "metadata": {
    "collapsed": false
   },
   "outputs": [],
   "source": [
    "import time\n",
    "\n",
    "df = qq.oq.oanda2.get_trades(qq.oq.aid)['trades']\n",
    "\n",
    "#df = p.DataFrame(df)\n",
    "#print df\n",
    "\n",
    "for c in xrange(10):    \n",
    "    \n",
    "    monpos2(df, qq.oq.oanda2.get_prices(instruments='EUR_USD')['prices'][0])\n",
    "    \n",
    "    break\n",
    "    time.sleep(1)"
   ]
  },
  {
   "cell_type": "code",
   "execution_count": null,
   "metadata": {
    "collapsed": false
   },
   "outputs": [],
   "source": [
    "df = p.Series([1,3,4,5]).to_frame('123')\n",
    "print type(df['123'])\n",
    "print type(df)"
   ]
  },
  {
   "cell_type": "code",
   "execution_count": null,
   "metadata": {
    "collapsed": false
   },
   "outputs": [],
   "source": [
    "#n.empty(3)\n",
    "res = False\n",
    "res = p.DataFrame([])\n",
    "print res.shape\n",
    "#if res == n.empty(res.shape):\n",
    "if res.get_values() == n.empty(res.shape):\n",
    "    print 1\n",
    "else:\n",
    "    print 0"
   ]
  },
  {
   "cell_type": "code",
   "execution_count": null,
   "metadata": {
    "collapsed": false
   },
   "outputs": [],
   "source": [
    "qq = QoreQuant()\n",
    "qq.\n",
    "qq.update(pair='EURUSD', granularity='M15')"
   ]
  },
  {
   "cell_type": "code",
   "execution_count": null,
   "metadata": {
    "collapsed": false,
    "scrolled": false
   },
   "outputs": [],
   "source": [
    "qq = QoreQuant()\n",
    "qq.showLevels()"
   ]
  },
  {
   "cell_type": "code",
   "execution_count": null,
   "metadata": {
    "collapsed": false
   },
   "outputs": [],
   "source": [
    "import numpy as np\n",
    "a = np.array([[1, 1],\n",
    "              [0, 1]])\n",
    "n = 5\n",
    "np.kron(a, np.ones((n,n)))"
   ]
  },
  {
   "cell_type": "code",
   "execution_count": null,
   "metadata": {
    "collapsed": false
   },
   "outputs": [],
   "source": [
    "grid = np.random.random((10,10))\n",
    "print grid\n",
    "imshow(grid, extent=[0,100,0,1], aspect=100)\n",
    "title('Manually Set Aspect')\n",
    "tight_layout()\n",
    "show()\n",
    "\n",
    "# source: http://matplotlib.org/examples/pylab_examples/hist2d_demo.html\n",
    "x = randn(1000)\n",
    "y = randn(1000)+5\n",
    "\n",
    "#normal distribution center at x=0 and y=5\n",
    "scatter(x,y)\n",
    "hist2d(x,y,bins=20)\n",
    "show()"
   ]
  },
  {
   "cell_type": "code",
   "execution_count": 2,
   "metadata": {
    "collapsed": false,
    "scrolled": false
   },
   "source": [
    "from qoreliquid import QoreQuant\n",
    "qq = QoreQuant()\n",
    "df = qq.analyseInvestingTechnical(showPlot=True)\n",
    "df.transpose()"
   ]
  },
  {
   "cell_type": "code",
   "execution_count": null,
   "metadata": {
    "collapsed": false,
    "scrolled": false
   },
   "outputs": [],
   "source": [
    "df = p.read_csv('/mldev/lib/crawlers/finance/dataPipeline.scrapy/investingWorldGovernmentBonds_numbeo.csv').set_index('time')\n",
    "dfp = df\n",
    "dfp = df.ix[:,'chg high chgpcnt low prev iyield'.split(' ')]\n",
    "dfp = normalizeme(dfp)\n",
    "dfp = sigmoidme(dfp)\n",
    "dfp.plot(); show();\n",
    "print df.ix[:,'name iyield'.split(' ')].sort('iyield')"
   ]
  },
  {
   "cell_type": "code",
   "execution_count": null,
   "metadata": {
    "collapsed": false,
    "scrolled": false
   },
   "outputs": [],
   "source": [
    "# Autochartist/Oanda API fun\n",
    "\n",
    "def gcc(pp, hh):\n",
    "    di = {'1':'M1', '5':'M5', '15':'M15', '30':'M30', '60':'H4', '240':'H4', '1440':'D', '1240':'H4', '2240':'H4'}\n",
    "    try:\n",
    "        df = p.read_csv('/mldev/bin/data/oanda/ticks/{0}/{0}-{1}.csv'.format(pp,di[str(hh)]))\n",
    "        df['time2'] = qq.sw.oq.oandaToTimestamp(df['time'])\n",
    "        df = df.set_index('time2')\n",
    "        #df.ix[:,'closeAsk closeBid'.split(' ')].plot(); show();\n",
    "        #print df.tail(10)\n",
    "        return df\n",
    "    except: ''\n",
    "    \n",
    "#qq = QoreQuant()\n",
    "qq.sw.oq.oanda2\n",
    "\n",
    "oanda2 = qq.sw.oq.oanda2\n",
    "\n",
    "account_id = qq.sw.oq.aid\n",
    "#oanda2.get_trades(account_id)\n",
    "\n",
    "#endpoint = 'v1/accounts/%s/positions' % (account_id)\n",
    "#print oanda2.request(endpoint)#, params=params)\n",
    "\n",
    "endpoint = '/labs/v1/signal/autochartist'# % (account_id)\n",
    "params = {}\n",
    "#params['instrument'] = 'GBP_JPY'\n",
    "params['period'] = 604800\n",
    "#params['type']   = 'keylevel'\n",
    "#res = oanda2.request(endpoint, params=params)\n",
    "#print p.DataFrame(res['signals'])\n",
    "#print res['signals']\n",
    "#print p.DataFrame(res)\n",
    "resi = res['signals']\n",
    "for resij in resi:\n",
    "    print resij['instrument']\n",
    "    print resij['type']\n",
    "    print p.DataFrame(resij).ix['patternendtime'.split(' '),'data'.split(',')].get_values()[0][0]; print;\n",
    "    print resij['meta']['interval']\n",
    "    print resij['meta']['probability']\n",
    "    \n",
    "    dp = p.DataFrame(resij['data']['points'])    \n",
    "    print dp; print;\n",
    "    dpp = gcc(resij['instrument'], resij['meta']['interval'])\n",
    "    try: plot(dp.ix['x0 x1'.split(' '), 'resistance'], dp.ix['y0 y1'.split(' '), 'resistance'])\n",
    "    except: ''\n",
    "    try: plot(dp.ix['x0 x1'.split(' '), 'support'],    dp.ix['y0 y1'.split(' '), 'support'])\n",
    "    except: ''\n",
    "    print \n",
    "    try: \n",
    "        bb = 200\n",
    "        plot( dpp.index[len(dpp)-bb:len(dpp)], dpp.ix[dpp.index[len(dpp)-bb:len(dpp)], 'closeAsk closeBid'.split(' ')])\n",
    "    except: ''\n",
    "    show()\n",
    "    print 'data points'\n",
    "    print p.DataFrame(resij['data']['points']); print;\n",
    "    \n",
    "    print 'data prediction'\n",
    "    try: print p.DataFrame(resij['data']['prediction'], index=[0]); print;\n",
    "    except: ''\n",
    "        \n",
    "    print 'meta historical stats'\n",
    "    print p.DataFrame(resij['meta']['historicalstats']); print;\n",
    "    \n",
    "    print 'meta scores'\n",
    "    print p.DataFrame(resij['meta']['scores'], index=[0]); print;\n",
    "    \n",
    "    #print 'all'\n",
    "    #print p.DataFrame(resij).ix['completed direction interval length pattern patternendtime points probability trendtype'.split(' '),'meta'.split(' ')]; print;\n",
    "    print; \n",
    "    #print p.DataFrame(resij).ix[:,'meta'.split(',')].transpose()\n",
    "    #print p.DataFrame(resij)#.ix[:,'id,instrument,type'.split(',')]\n",
    "    print '========================================'\n",
    "    \n",
    "    #break\n",
    "#rint p.DataFrame(res['signals'])\n"
   ]
  }
 ],
 "metadata": {
  "kernelspec": {
   "display_name": "Python 2",
   "language": "python",
   "name": "python2"
  },
  "language_info": {
   "codemirror_mode": {
    "name": "ipython",
    "version": 2
   },
   "file_extension": ".py",
   "mimetype": "text/x-python",
   "name": "python",
   "nbconvert_exporter": "python",
   "pygments_lexer": "ipython2",
   "version": "2.7.9"
  }
 },
 "nbformat": 4,
 "nbformat_minor": 0
}
