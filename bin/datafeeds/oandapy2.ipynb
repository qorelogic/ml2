{
 "cells": [
  {
   "cell_type": "code",
   "execution_count": null,
   "metadata": {
    "collapsed": false,
    "scrolled": false
   },
   "outputs": [],
   "source": [
    "# -*- coding: utf-8 -*-\n",
    "%reload_ext autoreload\n",
    "%autoreload 2\n",
    "import sys\n",
    "def defp(pt):\n",
    "    try:    sys.path.index(pt)\n",
    "    except: sys.path.append(pt)\n",
    "defp('/ml.dev/bin')\n",
    "defp('/ml.dev/lib/oanda/oandapy')\n",
    "import matplotlib.pylab as plt\n",
    "import seaborn as ses\n",
    "ses.set()\n",
    "%pylab inline\n",
    "from qoreliquid import *\n",
    "import oandapyV20\n",
    "import oandapyV20.endpoints.accounts as accounts\n",
    "import oandapyV20.endpoints.trades as trades\n",
    "import oandapyV20.endpoints.positions as positions\n",
    "from oandapyV20.endpoints.pricing import PricingStream\n",
    "from oandapyV20.endpoints.accounts import AccountSummary\n",
    "import pandas as p\n",
    "import numpy as n\n",
    "import oandapy\n",
    "from matplotlib import pyplot as plt\n",
    "from pylab import rcParams\n",
    "%pylab inline\n",
    "rcParams['figure.figsize'] = 20, 5\n",
    "accountID = \"101-004-1984564-001\"\n",
    "co = p.read_csv('/mldev/bin/datafeeds/config.csv', header=None)\n",
    "loginIndex = 4\n",
    "env0=co.ix[loginIndex,1]\n",
    "access_token0=co.ix[loginIndex,2]\n",
    "print 'access_token0 %s' % access_token0\n",
    "oanda0 = oandapy.API(environment=env0, access_token=access_token0)\n",
    "#client = API(access_token=access_token, headers={\"Content-Type\": \"application/json\"})\n",
    "client = oandapyV20.API(access_token=access_token0)\n",
    "#client = oandapyV20.API(access_token=access_token0, environment=\"live\")\n",
    "#client = oandapyV20.API(access_token=access_token0, environment=\"practice\")\n",
    "#client = oandapyV20.API(access_token=access_token0)\n",
    "#client.api_url = 'https://test.com'\n",
    "print pf(co)\n",
    "#for i in co[2]: print i\n",
    "ac = p.read_csv('/mldev/bin/datafeeds/accounts.csv', header=0)\n",
    "print pf(ac)\n",
    "accountID = ac.ix[1, 'id']"
   ]
  },
  {
   "cell_type": "code",
   "execution_count": null,
   "metadata": {
    "collapsed": false,
    "scrolled": true
   },
   "outputs": [],
   "source": [
    "# percentage loss gain table\n",
    "import numpy as n\n",
    "import pandas as p\n",
    "# r = [0:100]'\n",
    "# a = [r (100-r)/100*100-100 100./(100-r)*100-100]\n",
    "r = n.arange(110, dtype=float)\n",
    "df = p.DataFrame(r, columns=['pcnt'])\n",
    "df['lossPcnt']     = (100 - r) / 100 * 100 - 100\n",
    "df['gainBackPcnt'] = 100 / (100 - r) * 100 - 100\n",
    "df['diffPcnt'] = n.abs(df['gainBackPcnt']) - n.abs(df['lossPcnt'])\n",
    "with p.option_context('display.max_rows', 4000, 'display.max_columns', 4000, 'display.width', 1000000):\n",
    "    print df\n",
    "df.to_csv('/tmp/lossGainTable.csv')"
   ]
  },
  {
   "cell_type": "code",
   "execution_count": null,
   "metadata": {
    "collapsed": false
   },
   "outputs": [],
   "source": [
    "import numpy as n\n",
    "df = p.DataFrame(n.arange(1,12*10))\n",
    "#df[1] = 219.80 * n.power(1+1.0/100, df[0])\n",
    "df[2] = 1000.0 * n.power(1+5.0/100, df[0])\n",
    "%pylab inline\n",
    "rcParams['figure.figsize'] = 25, 5\n",
    "df.plot()"
   ]
  },
  {
   "cell_type": "code",
   "execution_count": null,
   "metadata": {
    "collapsed": false
   },
   "outputs": [],
   "source": [
    "r = trans.TransactionsSinceID(accountID=accountID, params={'id':4000})\n",
    "client.request(r)\n",
    "print r.response"
   ]
  },
  {
   "cell_type": "code",
   "execution_count": null,
   "metadata": {
    "collapsed": false,
    "scrolled": true
   },
   "outputs": [],
   "source": [
    "def cacheFile(url, fname):\n",
    "    import os, time, requests\n",
    "    stat = os.stat(fname)\n",
    "    if time.time() - stat.st_mtime >= 30:\n",
    "        # read/download\n",
    "        r   = requests.get(url)\n",
    "        res = r.text\n",
    "        \n",
    "        fp = open(fname, 'w')\n",
    "        fp.write(res)\n",
    "        fp.close()\n",
    "        \n",
    "        return res\n",
    "    else:\n",
    "        # cache\n",
    "        fp = open(fname, 'r')\n",
    "        res = fp.read()\n",
    "        fp.close()\n",
    "        print res\n",
    "\n",
    "\n",
    "cacheFile('http://google.com', '/tmp/qweqwe')"
   ]
  },
  {
   "cell_type": "code",
   "execution_count": null,
   "metadata": {
    "collapsed": true
   },
   "outputs": [],
   "source": [
    "api?"
   ]
  },
  {
   "cell_type": "code",
   "execution_count": null,
   "metadata": {
    "collapsed": true
   },
   "outputs": [],
   "source": []
  },
  {
   "cell_type": "code",
   "execution_count": null,
   "metadata": {
    "collapsed": false,
    "scrolled": false
   },
   "outputs": [],
   "source": [
    "import oandapyV20\n",
    "import oandapyV20.endpoints.transactions as trans\n",
    "def cacheOandapyV20Request(r, fname, age=30000):\n",
    "    import os, time, requests\n",
    "    import ujson as j\n",
    "    \n",
    "    def makeRequest(r):\n",
    "        # read/download\n",
    "        print 'requesting..'\n",
    "        co = p.read_csv('/mldev/bin/datafeeds/config.csv', header=None)\n",
    "        loginIndex = 2\n",
    "        env0=co.ix[loginIndex,1]\n",
    "        access_token0=co.ix[loginIndex,2]\n",
    "        client = oandapyV20.API(access_token=access_token0)\n",
    "        #print client.request(r)\n",
    "        rv = client.request(r)\n",
    "        # write to cache file\n",
    "        fp = open(fname, 'w')\n",
    "        fp.write(j.dumps(rv))\n",
    "        fp.close()\n",
    "        return rv\n",
    "    \n",
    "    def cacheRequest(r):\n",
    "        print 'caching..'\n",
    "        # cache\n",
    "        fp = open(fname, 'r')\n",
    "        rv = fp.read()\n",
    "        rv = j.loads(rv)\n",
    "        fp.close()\n",
    "        return rv\n",
    "\n",
    "    try:\n",
    "        stat = os.stat(fname)\n",
    "        if time.time() - stat.st_mtime >= age:\n",
    "            return makeRequest(r)\n",
    "        else:\n",
    "            return cacheRequest(r)\n",
    "    except:\n",
    "        return makeRequest(r)\n",
    "\n",
    "rv = cacheOandapyV20Request(accounts.AccountList(), '/tmp/qweqwe'+\"-AccountList.json\")\n",
    "df = p.DataFrame(rv['accounts'])\n",
    "#print df\n",
    "accountIndex = 2\n",
    "accountID = \"101-004-1984564-006\"\n",
    "accountID = df.ix[accountIndex,'id']\n",
    "print '%s %s' % (env0, access_token0)\n",
    "print 'accountID:%s ' % accountID\n",
    "#r = cacheRequest(accounts.AccountList(), '/tmp/qweqwe'+\"-AccountList.json\")\n",
    "r = trans.TransactionList(accountID)  # params optional\n",
    "client.request(r)\n",
    "import drest\n",
    "with p.option_context('display.max_rows', 4000, 'display.max_columns', 4000, 'display.width', 1000000):\n",
    "    df = p.DataFrame(r.response)\n",
    "    print 'accountID: %s' % accountID\n",
    "    print df\n",
    "    print \n",
    "    params = {\n",
    "        #\"to\": df.ix[0,'lastTransactionID'],\n",
    "        \"to\": df.ix[0,'lastTransactionID'],\n",
    "        \"from\": 1\n",
    "    }\n",
    "    r = trans.TransactionIDRange(accountID=accountID, params=params)\n",
    "    client.request(r)\n",
    "    print r.response\n",
    "    for i in df.ix[:, 'pages']:#[0:2]:\n",
    "        print i\n",
    "        #api = drest.API(i)\n",
    "        #api?\n",
    "        #print api.make_request('GET', i)\n",
    "        #trans.\n"
   ]
  },
  {
   "cell_type": "code",
   "execution_count": null,
   "metadata": {
    "collapsed": false,
    "scrolled": false
   },
   "outputs": [],
   "source": [
    "import oandapyV20\n",
    "import oandapyV20.endpoints.transactions as trans\n",
    "#client = oandapyV20.API(access_token=...)\n",
    "accountID = \"101-004-1984564-006\"\n",
    "def st():\n",
    "    params = {\n",
    "              \"to\": 400,\n",
    "              \"from\": 1\n",
    "    }\n",
    "    r = trans.TransactionIDRange(accountID=accountID, params=params)\n",
    "    client.request(r)\n",
    "    #print p.DataFrame(r.response)\n",
    "    df = p.DataFrame()\n",
    "    with p.option_context('display.max_rows', 4000, 'display.max_columns', 4000, 'display.width', 1000000):\n",
    "        for i in r.response['transactions']:\n",
    "            dfi = p.DataFrame(i, index=[0])\n",
    "            dfi['id'] = p.to_numeric(dfi['id'])\n",
    "            df = df.combine_first(dfi.set_index('id'))\n",
    "    df['accountBalance'] = p.to_numeric(df['accountBalance'])\n",
    "    df['accountBalance'] = df['accountBalance'].bfill().ffill()\n",
    "    #print df.dtypes\n",
    "    #print df#.sort_index()\n",
    "    df = df.ix[:,'accountBalance']\n",
    "    #print df \n",
    "    %pylab inline\n",
    "    df.plot()\n",
    "\"\"\"\n",
    "for i in r.response['transactions']:\n",
    "    print i\n",
    "\"\"\""
   ]
  },
  {
   "cell_type": "code",
   "execution_count": null,
   "metadata": {
    "collapsed": false
   },
   "outputs": [],
   "source": [
    "# compound interest vector\n",
    "df = 100 * n.power(1+1.0/100, range(0,300)) - 100\n",
    "plt.plot(df)\n",
    "plt.legend('test', loc=2)"
   ]
  },
  {
   "cell_type": "code",
   "execution_count": null,
   "metadata": {
    "collapsed": false
   },
   "outputs": [],
   "source": [
    "# bank statement simulator\n",
    "import time\n",
    "df = p.DataFrame([])\n",
    "ra = range(1,12*2)\n",
    "for i in ra:\n",
    "    df.ix[time.time()+(60*60*24*30*i),'deposit'] = 6500.0*20/100/15\n",
    "df = df.sort_index()\n",
    "df = df.fillna(0)\n",
    "for i in range(len(df.index)):\n",
    "    if i > 0:    df.ix[df.index[i], 'interest'] = df.ix[df.index[i-1],'balance'] * n.power(1+12.0/100, 1) - df.ix[df.index[i-1],'balance'] #+ df.ix[df.index[i],'deposit']\n",
    "    #balance * pow(1+1.0/100, seconds)\n",
    "    elif i == 0: df.ix[df.index[i], 'interest'] = 0\n",
    "    if i > 0:    df.ix[df.index[i], 'balance'] = df.ix[df.index[i-1],'balance'] + df.ix[df.index[i],'deposit'] + df.ix[df.index[i],'interest']\n",
    "    elif i == 0: df.ix[df.index[i], 'balance'] = df.ix[df.index[i],'deposit']\n",
    "df['balance'] = df['balance'].ffill()\n",
    "df['month'] = ra\n",
    "plot(df.index, df['balance'])\n",
    "print df.ix[:,'month deposit interest balance'.split(' ')]"
   ]
  },
  {
   "cell_type": "code",
   "execution_count": null,
   "metadata": {
    "collapsed": false
   },
   "outputs": [],
   "source": [
    "# metatrader portfolio prototype\n",
    "df = p.read_csv('/mldev/bin/data/oanda/cache/patterns/patterns.portfolioMetatrader.1484941956.48.csv', index_col=[0])\n",
    "with p.option_context('display.max_rows', 4000, 'display.max_columns', 4000, 'display.width', 1000000):\n",
    "    print df"
   ]
  },
  {
   "cell_type": "code",
   "execution_count": null,
   "metadata": {
    "collapsed": false
   },
   "outputs": [],
   "source": [
    "# compute metatrader portfolio\n",
    "#from qoreliquid import computeMetraderData\n",
    "from qoreliquid import Patterns\n",
    "df = p.read_csv('/mldev/bin/data/oanda/cache/patterns/patterns.portfolioMetatrader.1485150677.45.csv', index_col=[0])\n",
    "pa = Patterns()\n",
    "df = pa.computePortfolioMetatrader(df, balance=140.65, leverage=500)\n",
    "import numpy as n\n",
    "df['lots'] = n.round(df['lots'], 2)\n",
    "with p.option_context('display.max_rows', 4000, 'display.max_columns', 4000, 'display.width', 1000000):\n",
    "    print df.ix[:, 'side lots balanceMetatrader leverageMetatrader allMarginMetatrader amount2Metatrader closeTradePLMetatrader side diffp lots'.split(' ')].sort_index()"
   ]
  },
  {
   "cell_type": "code",
   "execution_count": null,
   "metadata": {
    "collapsed": false
   },
   "outputs": [],
   "source": [
    "#0.68/n.pi\n",
    "print n.log(2)/n.log(1+float(1)/100)\n",
    "r = ((n.log(2)/n.log(1+float(1)/100))/100)\n",
    "print r\n",
    "print 72.0/r\n",
    "print 69.3/r"
   ]
  },
  {
   "cell_type": "code",
   "execution_count": null,
   "metadata": {
    "collapsed": false
   },
   "outputs": [],
   "source": [
    "100*n.power(1+2.0/100,35.0027887811)"
   ]
  },
  {
   "cell_type": "code",
   "execution_count": null,
   "metadata": {
    "collapsed": false,
    "scrolled": false
   },
   "outputs": [],
   "source": [
    "# altcoin history\n",
    "#http://drest.readthedocs.io/en/0.9.6/quickstart.html\n",
    "#http://coincap.io\n",
    "#https://github.com/CoinCapDev/CoinCap.io\n",
    "import drest\n",
    "#api = drest.API('http://socket.coincap.io/')\n",
    "api = drest.API('http://www.coincap.io/')\n",
    "\n",
    "def getCoincapIoHistory(coinCode):\n",
    "    #/history/*Timeframe*/<coinCode>\n",
    "    # GET http://localhost:8000/api/v1/users/1/\n",
    "    response = api.make_request('GET', '/history/1day/%s'%coinCode)\n",
    "    #print response.data\n",
    "    with p.option_context('display.max_rows', 4000, 'display.max_columns', 4000, 'display.width', 1000000):\n",
    "        df = p.DataFrame(response.data)\n",
    "        #print df.ix[0,:]\n",
    "        df['ts']          = map(lambda x: x[0], df['price'])\n",
    "        df['price0_%s'%coinCode]      = map(lambda x: x[1], df['price'])\n",
    "        df['market_cap0_%s'%coinCode] = map(lambda x: x[1], df['market_cap'])\n",
    "        df['volume0_%s'%coinCode]     = map(lambda x: x[1], df['volume'])\n",
    "        df = df.set_index('ts')\n",
    "        #print df\n",
    "        df = df.ix[:, ('price0_%s'%coinCode).split()]#.plot()\n",
    "        #print df\n",
    "        return df\n",
    "\n",
    "df = p.DataFrame([])\n",
    "\n",
    "res = api.make_request('GET', '/coins')\n",
    "coins = p.DataFrame(res.data).set_index(0)\n",
    "for i in coins.index[0:100]:\n",
    "    #print i\n",
    "    try:\n",
    "        df = df.combine_first(getCoincapIoHistory(i))\n",
    "    except: ''\n",
    "#df = df.combine_first(getCoincapIoHistory('BTC'))\n",
    "#df = df.combine_first(getCoincapIoHistory('ETH'))\n",
    "pdf = df.bfill().ffill()\n",
    "#print pdf\n",
    "from qoreliquid import normalizeme\n",
    "df = normalizeme(pdf)\n",
    "from pylab import rcParams\n",
    "%pylab inline\n",
    "rcParams['figure.figsize'] = 20, 5\n",
    "df.plot()\n",
    "\n",
    "from pylab import rcParams\n",
    "rcParams['figure.figsize'] = 20, 5\n",
    "%pylab inline\n",
    "#df.plot()\n",
    "plt.plot(df)\n",
    "plt.show()"
   ]
  },
  {
   "cell_type": "code",
   "execution_count": null,
   "metadata": {
    "collapsed": false
   },
   "outputs": [],
   "source": [
    "fname = '/opt/data/coincap.io.history.1day.csv'\n",
    "df.to_csv(fname)\n",
    "#df = p.read_csv(fname)\n",
    "#df"
   ]
  },
  {
   "cell_type": "code",
   "execution_count": null,
   "metadata": {
    "collapsed": false,
    "scrolled": true
   },
   "outputs": [],
   "source": [
    "#http://coincap.io\n",
    "response = api.make_request('GET', '/coins')\n",
    "#print response.data\n",
    "with p.option_context('display.max_rows', 4000, 'display.max_columns', 4000, 'display.width', 1000000):\n",
    "    print p.DataFrame(response.data)"
   ]
  },
  {
   "cell_type": "code",
   "execution_count": null,
   "metadata": {
    "collapsed": false
   },
   "outputs": [],
   "source": [
    "#http://coincap.io\n",
    "resources = [\n",
    "    'coins', # Array of all supported coins\n",
    "    'coins/xcp', # Array of all supported XCP assets\n",
    "    'coins/xcp/all', # Array all XCP assets known\n",
    "    'map', # JSON object of Coin symbols/names and known aliases\n",
    "    'front', # Front Page Data of current coin stats\n",
    "    'front/xcp', # Front Page Data of just XCP assets\n",
    "    'global', # Global data\n",
    "]\n",
    "for i in resources:\n",
    "    try:\n",
    "        #print i\n",
    "        api.add_resource(i)\n",
    "    except Exception as e:\n",
    "        #print e\n",
    "        ''\n",
    "api.resources"
   ]
  },
  {
   "cell_type": "code",
   "execution_count": null,
   "metadata": {
    "collapsed": false,
    "scrolled": true
   },
   "outputs": [],
   "source": [
    "res = api.coins.get()\n",
    "print p.DataFrame(res.data)"
   ]
  },
  {
   "cell_type": "code",
   "execution_count": null,
   "metadata": {
    "collapsed": false
   },
   "outputs": [],
   "source": [
    "res = api.map.get()\n",
    "print p.DataFrame(res.data)"
   ]
  },
  {
   "cell_type": "code",
   "execution_count": null,
   "metadata": {
    "collapsed": true
   },
   "outputs": [],
   "source": [
    "with p.option_context('display.max_rows', 4000, 'display.max_columns', 4000, 'display.width', 1000000):\n",
    "    print p.DataFrame(res.data)"
   ]
  },
  {
   "cell_type": "code",
   "execution_count": null,
   "metadata": {
    "collapsed": false,
    "scrolled": true
   },
   "outputs": [],
   "source": [
    "#http://coincap.io\n",
    "res = api.front.get()\n",
    "#with p.option_context('display.max_rows', 4000, 'display.max_columns', 4000, 'display.width', 1000000):\n",
    "df = p.DataFrame(res.data).set_index('short')\n",
    "#df['volume'] = p.to_numeric(df['volume'])\n",
    "#df = df.sort_values(by='volume')\n",
    "df#.ix[:,'price']"
   ]
  },
  {
   "cell_type": "code",
   "execution_count": null,
   "metadata": {
    "collapsed": false
   },
   "outputs": [],
   "source": [
    "res = api.global.get()\n",
    "print p.DataFrame(res.data)"
   ]
  },
  {
   "cell_type": "code",
   "execution_count": null,
   "metadata": {
    "collapsed": false
   },
   "outputs": [],
   "source": [
    "import numpy as n\n",
    "df = p.DataFrame(n.arange(1,1000))\n",
    "df[1] = 219.80 * n.power(1+1.0/100, df[0])\n",
    "%pylab inline\n",
    "df.plot()"
   ]
  },
  {
   "cell_type": "code",
   "execution_count": null,
   "metadata": {
    "collapsed": false
   },
   "outputs": [],
   "source": [
    "r = trans.TransactionsSinceID(accountID=accountID, params={'id':4000})\n",
    "client.request(r)\n",
    "print r.response"
   ]
  },
  {
   "cell_type": "code",
   "execution_count": null,
   "metadata": {
    "collapsed": false
   },
   "outputs": [],
   "source": [
    "import oandapyV20\n",
    "import oandapyV20.endpoints.transactions as trans\n",
    "r = trans.TransactionList(accountID)  # params optional\n",
    "client.request(r)\n",
    "with p.option_context('display.max_rows', 4000, 'display.max_columns', 4000, 'display.width', 1000000):\n",
    "    df = p.DataFrame(r.response)\n",
    "    print 'accountID: %s' % accountID\n",
    "    print df\n",
    "    for i in df.ix[:, 'pages']:\n",
    "        print i\n",
    "        trans."
   ]
  },
  {
   "cell_type": "code",
   "execution_count": null,
   "metadata": {
    "collapsed": false,
    "scrolled": false
   },
   "outputs": [],
   "source": [
    "import oandapyV20\n",
    "import oandapyV20.endpoints.transactions as trans\n",
    "#client = oandapyV20.API(access_token=...)\n",
    "accountID = \"101-004-1984564-006\"\n",
    "def st():\n",
    "    params = {\n",
    "              \"to\": 400,\n",
    "              \"from\": 1\n",
    "    }\n",
    "    r = trans.TransactionIDRange(accountID=accountID, params=params)\n",
    "    client.request(r)\n",
    "    #print p.DataFrame(r.response)\n",
    "    df = p.DataFrame()\n",
    "    with p.option_context('display.max_rows', 4000, 'display.max_columns', 4000, 'display.width', 1000000):\n",
    "        for i in r.response['transactions']:\n",
    "            dfi = p.DataFrame(i, index=[0])\n",
    "            dfi['id'] = p.to_numeric(dfi['id'])\n",
    "            df = df.combine_first(dfi.set_index('id'))\n",
    "    df['accountBalance'] = p.to_numeric(df['accountBalance'])\n",
    "    df['accountBalance'] = df['accountBalance'].bfill().ffill()\n",
    "    #print df.dtypes\n",
    "    #print df#.sort_index()\n",
    "    df = df.ix[:,'accountBalance']\n",
    "    #print df \n",
    "    %pylab inline\n",
    "    df.plot()\n",
    "\"\"\"\n",
    "for i in r.response['transactions']:\n",
    "    print i\n",
    "\"\"\""
   ]
  },
  {
   "cell_type": "code",
   "execution_count": null,
   "metadata": {
    "collapsed": false
   },
   "outputs": [],
   "source": [
    "# compound interest vector\n",
    "100 * n.power(1+1.0/100, range(0,100)) - 100"
   ]
  },
  {
   "cell_type": "code",
   "execution_count": null,
   "metadata": {
    "collapsed": false
   },
   "outputs": [],
   "source": [
    "# bank statement simulator\n",
    "import time\n",
    "df = p.DataFrame([])\n",
    "ra = range(1,12*2)\n",
    "for i in ra:\n",
    "    df.ix[time.time()+(60*60*24*30*i),'deposit'] = 6500.0*20/100/15\n",
    "df = df.sort_index()\n",
    "df = df.fillna(0)\n",
    "for i in range(len(df.index)):\n",
    "    if i > 0:    df.ix[df.index[i], 'interest'] = df.ix[df.index[i-1],'balance'] * n.power(1+12.0/100, 1) - df.ix[df.index[i-1],'balance'] #+ df.ix[df.index[i],'deposit']\n",
    "    #balance * pow(1+1.0/100, seconds)\n",
    "    elif i == 0: df.ix[df.index[i], 'interest'] = 0\n",
    "    if i > 0:    df.ix[df.index[i], 'balance'] = df.ix[df.index[i-1],'balance'] + df.ix[df.index[i],'deposit'] + df.ix[df.index[i],'interest']\n",
    "    elif i == 0: df.ix[df.index[i], 'balance'] = df.ix[df.index[i],'deposit']\n",
    "df['balance'] = df['balance'].ffill()\n",
    "df['month'] = ra\n",
    "plot(df.index, df['balance'])\n",
    "print df.ix[:,'month deposit interest balance'.split(' ')]"
   ]
  },
  {
   "cell_type": "code",
   "execution_count": null,
   "metadata": {
    "collapsed": false
   },
   "outputs": [],
   "source": [
    "# metatrader portfolio prototype\n",
    "df = p.read_csv('/mldev/bin/data/oanda/cache/patterns/patterns.portfolioMetatrader.1484941956.48.csv', index_col=[0])\n",
    "with p.option_context('display.max_rows', 4000, 'display.max_columns', 4000, 'display.width', 1000000):\n",
    "    print df"
   ]
  },
  {
   "cell_type": "code",
   "execution_count": null,
   "metadata": {
    "collapsed": false
   },
   "outputs": [],
   "source": [
    "# compute metatrader portfolio\n",
    "#from qoreliquid import computeMetraderData\n",
    "from qoreliquid import Patterns\n",
    "df = p.read_csv('/mldev/bin/data/oanda/cache/patterns/patterns.portfolioMetatrader.1485150677.45.csv', index_col=[0])\n",
    "pa = Patterns()\n",
    "df = pa.computePortfolioMetatrader(df, balance=140.65, leverage=500)\n",
    "import numpy as n\n",
    "df['lots'] = n.round(df['lots'], 2)\n",
    "with p.option_context('display.max_rows', 4000, 'display.max_columns', 4000, 'display.width', 1000000):\n",
    "    print df.ix[:, 'side lots balanceMetatrader leverageMetatrader allMarginMetatrader amount2Metatrader closeTradePLMetatrader side diffp lots'.split(' ')].sort_index()"
   ]
  },
  {
   "cell_type": "code",
   "execution_count": null,
   "metadata": {
    "collapsed": false
   },
   "outputs": [],
   "source": [
    "#0.68/n.pi\n",
    "print n.log(2)/n.log(1+float(1)/100)\n",
    "r = ((n.log(2)/n.log(1+float(1)/100))/100)\n",
    "print r\n",
    "print 72.0/r\n",
    "print 69.3/r"
   ]
  },
  {
   "cell_type": "code",
   "execution_count": null,
   "metadata": {
    "collapsed": false
   },
   "outputs": [],
   "source": [
    "100*n.power(1+2.0/100,35.0027887811)"
   ]
  },
  {
   "cell_type": "code",
   "execution_count": null,
   "metadata": {
    "collapsed": false,
    "scrolled": true
   },
   "outputs": [],
   "source": [
    "# altcoin history\n",
    "#http://drest.readthedocs.io/en/0.9.6/quickstart.html\n",
    "#http://coincap.io\n",
    "#https://github.com/CoinCapDev/CoinCap.io\n",
    "import drest\n",
    "#api = drest.API('http://socket.coincap.io/')\n",
    "api = drest.API('http://www.coincap.io/')\n",
    "\n",
    "def getCoincapIoHistory(coinCode):\n",
    "    #/history/*Timeframe*/<coinCode>\n",
    "    # GET http://localhost:8000/api/v1/users/1/\n",
    "    response = api.make_request('GET', '/history/1day/%s'%coinCode)\n",
    "    #print response.data\n",
    "    with p.option_context('display.max_rows', 4000, 'display.max_columns', 4000, 'display.width', 1000000):\n",
    "        df = p.DataFrame(response.data)\n",
    "        #print df.ix[0,:]\n",
    "        df['ts']          = map(lambda x: x[0], df['price'])\n",
    "        df['price0_%s'%coinCode]      = map(lambda x: x[1], df['price'])\n",
    "        df['market_cap0_%s'%coinCode] = map(lambda x: x[1], df['market_cap'])\n",
    "        df['volume0_%s'%coinCode]     = map(lambda x: x[1], df['volume'])\n",
    "        df = df.set_index('ts')\n",
    "        #print df\n",
    "        %pylab inline\n",
    "        df = df.ix[:, ('price0_%s'%coinCode).split()]#.plot()\n",
    "        #print df\n",
    "        return df\n",
    "\n",
    "df = p.DataFrame([])\n",
    "\n",
    "res = api.make_request('GET', '/coins')\n",
    "coins = p.DataFrame(res.data).set_index(0)\n",
    "for i in coins.index[0:100]:\n",
    "    #print i\n",
    "    try:\n",
    "        df = df.combine_first(getCoincapIoHistory(i))\n",
    "    except: ''\n",
    "#df = df.combine_first(getCoincapIoHistory('BTC'))\n",
    "#df = df.combine_first(getCoincapIoHistory('ETH'))\n",
    "df = df.bfill().ffill()\n",
    "#print df\n",
    "from qoreliquid import normalizeme\n",
    "df = normalizeme(df)\n",
    "from pylab import rcParams\n",
    "%pylab inline\n",
    "rcParams['figure.figsize'] = 20, 5\n",
    "df.plot()\n",
    "\n",
    "from pylab import rcParams\n",
    "rcParams['figure.figsize'] = 20, 5\n",
    "%pylab inline\n",
    "#df.plot()\n",
    "plt.plot(df)\n",
    "plt.show()"
   ]
  },
  {
   "cell_type": "code",
   "execution_count": null,
   "metadata": {
    "collapsed": false,
    "scrolled": true
   },
   "outputs": [],
   "source": [
    "#http://coincap.io\n",
    "response = api.make_request('GET', '/coins')\n",
    "#print response.data\n",
    "with p.option_context('display.max_rows', 4000, 'display.max_columns', 4000, 'display.width', 1000000):\n",
    "    print p.DataFrame(response.data)"
   ]
  },
  {
   "cell_type": "code",
   "execution_count": null,
   "metadata": {
    "collapsed": false
   },
   "outputs": [],
   "source": [
    "#http://coincap.io\n",
    "resources = [\n",
    "    'coins', # Array of all supported coins\n",
    "    'coins/xcp', # Array of all supported XCP assets\n",
    "    'coins/xcp/all', # Array all XCP assets known\n",
    "    'map', # JSON object of Coin symbols/names and known aliases\n",
    "    'front', # Front Page Data of current coin stats\n",
    "    'front/xcp', # Front Page Data of just XCP assets\n",
    "    'global', # Global data\n",
    "]\n",
    "for i in resources:\n",
    "    try:\n",
    "        #print i\n",
    "        api.add_resource(i)\n",
    "    except Exception as e:\n",
    "        #print e\n",
    "        ''\n",
    "api.resources"
   ]
  },
  {
   "cell_type": "code",
   "execution_count": null,
   "metadata": {
    "collapsed": false,
    "scrolled": true
   },
   "outputs": [],
   "source": [
    "res = api.coins.get()\n",
    "print p.DataFrame(res.data)"
   ]
  },
  {
   "cell_type": "code",
   "execution_count": null,
   "metadata": {
    "collapsed": false
   },
   "outputs": [],
   "source": [
    "res = api.map.get()\n",
    "print p.DataFrame(res.data)"
   ]
  },
  {
   "cell_type": "code",
   "execution_count": null,
   "metadata": {
    "collapsed": true
   },
   "outputs": [],
   "source": [
    "with p.option_context('display.max_rows', 4000, 'display.max_columns', 4000, 'display.width', 1000000):\n",
    "    print p.DataFrame(res.data)"
   ]
  },
  {
   "cell_type": "code",
   "execution_count": null,
   "metadata": {
    "collapsed": false,
    "scrolled": true
   },
   "outputs": [],
   "source": [
    "#http://coincap.io\n",
    "res = api.front.get()\n",
    "#with p.option_context('display.max_rows', 4000, 'display.max_columns', 4000, 'display.width', 1000000):\n",
    "df = p.DataFrame(res.data).set_index('short')\n",
    "#df['volume'] = p.to_numeric(df['volume'])\n",
    "#df = df.sort_values(by='volume')\n",
    "df#.ix[:,'price']"
   ]
  },
  {
   "cell_type": "code",
   "execution_count": null,
   "metadata": {
    "collapsed": false
   },
   "outputs": [],
   "source": [
    "res = api.global.get()\n",
    "print p.DataFrame(res.data)"
   ]
  },
  {
   "cell_type": "code",
   "execution_count": null,
   "metadata": {
    "collapsed": false
   },
   "outputs": [],
   "source": [
    "import oandapyV20\n",
    "import oandapyV20.endpoints.orders as orders\n",
    "data = {\n",
    "    \"order\": {\n",
    "        \"stopLossOnFill\": {\n",
    "            \"timeInForce\": \"GTC\",\n",
    "            \"price\": \"1.05\"\n",
    "        },\n",
    "        \"type\": \"MARKET\",\n",
    "        \"positionFill\": \"DEFAULT\",\n",
    "        \"instrument\": \"EUR_USD\",\n",
    "        \"timeInForce\": \"FOK\",\n",
    "        \"units\": \"200\"\n",
    "    }\n",
    "}\n",
    "accountID = \"101-004-1984564-006\"\n",
    "r = orders.OrderCreate(accountID, data=data)\n",
    "client.request(r)\n",
    "#print r.response\n",
    "#p.DataFrame(r.response['orderCreateTransaction'])\n",
    "res = r.response\n",
    "#print p.DataFrame(r.response['orderFillTransaction'])"
   ]
  },
  {
   "cell_type": "code",
   "execution_count": null,
   "metadata": {
    "collapsed": false,
    "scrolled": true
   },
   "outputs": [],
   "source": [
    "#accid = oanda0.get_accounts()['accounts'][0]['accountId']\n",
    "#instruments = p.DataFrame(oanda0.get_instruments(accid)['instruments']).set_index('instrument')\n",
    "\n",
    "currentPositions = oanda0.get_positions(5545219)['positions']\n",
    "currentPositions = p.DataFrame(currentPositions).set_index('instrument')\n",
    "instr = ','.join(list(currentPositions.index))\n",
    "print instr\n",
    "currentPrices = oanda0.get_prices(instruments=instr)['prices']\n",
    "#instruments\n",
    "#currentPrices\n",
    "currentPositions"
   ]
  },
  {
   "cell_type": "code",
   "execution_count": null,
   "metadata": {
    "collapsed": false,
    "scrolled": true
   },
   "outputs": [],
   "source": [
    "accid = '101-004-1984564-001'\n",
    "r = accounts.AccountInstruments(accid)\n",
    "rv = client.request(r)\n",
    "df = p.DataFrame(rv['instruments']).set_index('name')\n",
    "#with p.option_context('display.max_rows', 4000, 'display.max_columns', 4000, 'display.width', 1000000):\n",
    "print 'instruments 00103'\n",
    "#print p.DataFrame(df.columns)\n",
    "#print df.ix[:,'displayName name maxTradeUnits pipLocation'.split()]\n",
    "#print df\n",
    "mdf = instruments.combine_first(df)\n",
    "mdf"
   ]
  },
  {
   "cell_type": "code",
   "execution_count": null,
   "metadata": {
    "collapsed": false,
    "scrolled": true
   },
   "outputs": [],
   "source": [
    "import oandapyV20.endpoints.instruments as instruments\n",
    "import oandapyV20.endpoints.transactions as transactions\n",
    "import oandapyV20.endpoints.accounts as accounts\n",
    "\n",
    "#transactions.TransactionList?\n",
    "r = accounts.AccountInstruments('101-004-1984564-001')\n",
    "rv = client.request(r)\n",
    "with p.option_context('display.max_rows', 4000, 'display.max_columns', 4000, 'display.width', 1000000):\n",
    "    print p.DataFrame(rv['instruments'])\n",
    "\n",
    "al = accounts.AccountList()\n",
    "print al\n",
    "ral = client.request(al)\n",
    "ral\n",
    "df = p.DataFrame(ral['accounts'])\n",
    "print df"
   ]
  },
  {
   "cell_type": "code",
   "execution_count": null,
   "metadata": {
    "collapsed": false
   },
   "outputs": [],
   "source": [
    "r = accounts.AccountList()\n",
    "print r\n",
    "#print r.ENDPOINT\n",
    "print r.METHOD\n",
    "print r.status_code\n",
    "print r.response\n",
    "#print client.request(r)\n",
    "rv = client.request(r)\n",
    "df = p.DataFrame(rv['accounts'])\n",
    "print df"
   ]
  },
  {
   "cell_type": "code",
   "execution_count": null,
   "metadata": {
    "collapsed": false
   },
   "outputs": [],
   "source": [
    "r = accounts.AccountList()\n",
    "rv = client.request(r)\n",
    "df = p.DataFrame(rv['accounts'])\n",
    "print df"
   ]
  },
  {
   "cell_type": "code",
   "execution_count": null,
   "metadata": {
    "collapsed": false
   },
   "outputs": [],
   "source": [
    "r = accounts.AccountList()\n",
    "rv = client.request(r)\n",
    "df = p.DataFrame(rv['accounts'])\n",
    "print df\n",
    "for i in df['id']:\n",
    "    print \n",
    "    print '=========='\n",
    "    print i\n",
    "    r = trades.TradesList(i)\n",
    "    rv = client.request(r)\n",
    "    df = p.DataFrame(rv['trades'])\n",
    "    with p.option_context('display.max_rows', 4000, 'display.max_columns', 4000, 'display.width', 1000000):\n",
    "        try:\n",
    "            #print df.dtypes\n",
    "            #df = df.convert_objects(convert_numeric=True)\n",
    "            df['unrealizedPL'] = p.to_numeric(df['unrealizedPL'])\n",
    "            mdf = df.sort_values(by='unrealizedPL', ascending=False)\n",
    "            #print mdf[mdf['unrealizedPL'] > 0]\n",
    "            print mdf\n",
    "        except: ''"
   ]
  },
  {
   "cell_type": "code",
   "execution_count": null,
   "metadata": {
    "collapsed": false
   },
   "outputs": [],
   "source": [
    "import json\n",
    "from oandapyV20 import API\n",
    "from oandapyV20.exceptions import V20Error\n",
    "from oandapyV20.endpoints.pricing import PricingStream\n",
    "\n",
    "instruments = \"DE30_EUR,EUR_USD,EUR_JPY\"\n",
    "s = PricingStream(accountID=accountID, params={\"instruments\":instruments})\n",
    "try:\n",
    "    n = 0\n",
    "    for R in client.request(s):\n",
    "        with p.option_context('display.max_rows', 4000, 'display.max_columns', 4000, 'display.width', 1000000):\n",
    "            print\n",
    "            print '=========='\n",
    "            print R['instrument']\n",
    "            #print(json.dumps(R, indent=2))\n",
    "            ptdf = p.DataFrame(R)\n",
    "            print ptdf.ix[:,'closeoutAsk closeoutBid instrument status time tradeable type'.split(' ')]\n",
    "            print '=== asks:'\n",
    "            print p.DataFrame(R['asks'])\n",
    "            print '=== bids:'\n",
    "            print p.DataFrame(R['bids'])\n",
    "        n += 1\n",
    "        if n > 10:\n",
    "            s.terminate(\"maxrecs received: {}\".format(MAXREC))\n",
    "\n",
    "except V20Error as e:\n",
    "    print(\"Error: {}\".format(e))\n",
    "except Exception as e:\n",
    "    print ''"
   ]
  },
  {
   "cell_type": "code",
   "execution_count": null,
   "metadata": {
    "collapsed": false
   },
   "outputs": [],
   "source": [
    "#trades.OpenTrades(accountID)\n",
    "from oandapyV20.contrib import requests\n",
    "from oandapyV20.endpoints import orders\n",
    "mktOrder = requests.MarketOrderRequest(instrument=\"EUR_USD\",\n",
    "     units=100,\n",
    "     takeProfitOnFill=requests.TakeProfitDetails(price=1.10).data,\n",
    "     stopLossOnFill=requests.StopLossDetails(price=1.07).data\n",
    ")\n",
    "p.DataFrame(mktOrder.data)\n",
    "\n",
    "# create the OrderCreate request\n",
    "r = orders.OrderCreate(accountID, data=mktOrder.data)\n",
    "try:\n",
    "    # create the OrderCreate request\n",
    "    rv = client.request(r)\n",
    "except oandapyV20.exceptions.V20Error as err:\n",
    "    print(r.status_code, err)\n",
    "else:\n",
    "    print p.DataFrame([rv]).transpose()\n",
    "    import json\n",
    "    print json.dumps(rv, indent=4)"
   ]
  },
  {
   "cell_type": "code",
   "execution_count": null,
   "metadata": {
    "collapsed": false
   },
   "outputs": [],
   "source": [
    "r = accounts.AccountList()\n",
    "print r\n",
    "#print r.ENDPOINT\n",
    "print r.METHOD\n",
    "print r.status_code\n",
    "print r.response\n",
    "#print client.request(r)\n",
    "rv = client.request(r)\n",
    "df = p.DataFrame(rv['accounts'])\n",
    "print df"
   ]
  },
  {
   "cell_type": "code",
   "execution_count": null,
   "metadata": {
    "collapsed": false
   },
   "outputs": [],
   "source": [
    "from qoreliquid import Patterns\n",
    "pa = Patterns()\n",
    "pa.monitorAccountsMarginCloseout()"
   ]
  },
  {
   "cell_type": "code",
   "execution_count": null,
   "metadata": {
    "collapsed": false
   },
   "outputs": [],
   "source": [
    "pa.monitorAccountsProfitableTrades(verbose=True)"
   ]
  },
  {
   "cell_type": "code",
   "execution_count": null,
   "metadata": {
    "collapsed": false
   },
   "outputs": [],
   "source": [
    "accid = 5545219\n",
    "r = oanda0.get_accounts()\n",
    "print p.DataFrame(r['accounts'])\n",
    "acco = oanda0.get_account(accid)\n",
    "maccount = p.DataFrame(acco, index=[0])\n",
    "print maccount.transpose()\n",
    "acc = oanda0.get_accounts()['accounts']"
   ]
  },
  {
   "cell_type": "code",
   "execution_count": null,
   "metadata": {
    "collapsed": false
   },
   "outputs": [],
   "source": [
    "from exampleauth import exampleAuth\n",
    "accountID, access_token = exampleAuth()"
   ]
  },
  {
   "cell_type": "code",
   "execution_count": null,
   "metadata": {
    "collapsed": false
   },
   "outputs": [],
   "source": [
    "try:\n",
    "    instruments = \"DE30_EUR,EUR_USD,EUR_JPY\"\n",
    "    r = PricingStream(accountID=accountID, params={\"instruments\":instruments})    \n",
    "    print r\n",
    "    print r.METHOD\n",
    "    print r.status_code\n",
    "    print r.response\n",
    "    #print client.request(r)\n",
    "    rv = client.request(r)    \n",
    "    print rv\n",
    "    #for ri in rv:\n",
    "    #    ri\n",
    "except Exception as e:\n",
    "    print e"
   ]
  },
  {
   "cell_type": "code",
   "execution_count": null,
   "metadata": {
    "collapsed": false
   },
   "outputs": [],
   "source": [
    "try:\n",
    "    r = AccountSummary(accountID=\"101-004-1984564-001\")\n",
    "    print r\n",
    "    print r.METHOD\n",
    "    print r.status_code\n",
    "    print r.response\n",
    "    rv = client.request(r)\n",
    "    print p.DataFrame(rv)\n",
    "except Exception as e:\n",
    "    print e"
   ]
  },
  {
   "cell_type": "code",
   "execution_count": null,
   "metadata": {
    "collapsed": false
   },
   "outputs": [],
   "source": [
    "try:\n",
    "    r = trades.TradesList(accountID=accid)\n",
    "    print r\n",
    "    print r.METHOD\n",
    "    print r.status_code\n",
    "    print r.response\n",
    "    rv = client.request(r)\n",
    "    mmdf = p.DataFrame(rv['trades'])\n",
    "    p.to_numeric(mmdf['initialUnits'])\n",
    "    mmdf['initialUnits'] = p.to_numeric(mmdf['initialUnits'])\n",
    "    mmdf['side'] = map(lambda x: 'buy' if x > 0 else 'sell', mmdf['initialUnits'])\n",
    "    mmdf['units'] = n.absolute(mmdf['initialUnits'])\n",
    "    print mmdf\n",
    "except Exception as e:\n",
    "    print e"
   ]
  },
  {
   "cell_type": "code",
   "execution_count": null,
   "metadata": {
    "collapsed": false
   },
   "outputs": [],
   "source": [
    "try:\n",
    "    r = accounts.AccountDetails(accountID)\n",
    "    print r\n",
    "    print r.METHOD\n",
    "    print r.status_code\n",
    "    print r.response\n",
    "    rv = client.request(r)\n",
    "    print p.DataFrame(rv)\n",
    "except Exception as e:\n",
    "    print e"
   ]
  },
  {
   "cell_type": "code",
   "execution_count": null,
   "metadata": {
    "collapsed": false
   },
   "outputs": [],
   "source": [
    "print client.environment"
   ]
  },
  {
   "cell_type": "code",
   "execution_count": null,
   "metadata": {
    "collapsed": false
   },
   "outputs": [],
   "source": [
    "from oandapyV20.exceptions import V20Error\n",
    "import oandapyV20.endpoints.pricing as pricing\n",
    "# list of requests\n",
    "lor = []\n",
    "# request trades list\n",
    "res = trades.TradesList(accountID)\n",
    "print res\n",
    "print res.ENDPOINT\n",
    "lor.append(res)\n",
    "# request accounts list\n",
    "lor.append(accounts.AccountList())\n",
    "# request pricing info\n",
    "params={\"instruments\": \"DE30_EUR,EUR_GBP\"}\n",
    "lor.append(pricing.PricingInfo(accountID, params=params))\n",
    "\n",
    "for r in lor:\n",
    "    try:\n",
    "        rv = client.request(r)\n",
    "        # put request and response in 1 JSON structure\n",
    "        print(\"{}\".format(json.dumps({\"request\": \"{}\".format(r),\n",
    "                                      \"response\": rv}, indent=2)))\n",
    "    except V20Error as e:\n",
    "        print(\"OOPS: {:d} {:s}\".format(e.code, e.msg))"
   ]
  },
  {
   "cell_type": "code",
   "execution_count": null,
   "metadata": {
    "collapsed": false
   },
   "outputs": [],
   "source": [
    "import json\n",
    "import pandas as p\n",
    "from oandapyV20 import API    # the client\n",
    "import oandapyV20.endpoints.trades as trades\n",
    "import oandapyV20.endpoints.accounts as accounts\n",
    "\n",
    "access_token = \"f55f8626416a19d784732a4a19ec69d0-2828876dabe1996cfedfa96f50e6d36b\"\n",
    "accountID = \"101-004-1984564-002\"\n",
    "client = API(access_token=access_token)\n",
    "\n",
    "al = accounts.AccountList()\n",
    "ral = client.request(al)\n",
    "ral\n",
    "df = p.DataFrame(ral['accounts'])\n",
    "print df\n",
    "\n",
    "print\n",
    "print df.ix[0,'id']\n",
    "\n",
    "# request trades list\n",
    "try:\n",
    "    r = trades.TradesList(accountID)\n",
    "    #print r\n",
    "    rv = client.request(r)\n",
    "    print(\"RESPONSE:\\n{}\".format(json.dumps(rv, indent=2)))\n",
    "except Exception as e:\n",
    "    print e"
   ]
  },
  {
   "cell_type": "code",
   "execution_count": null,
   "metadata": {
    "collapsed": true
   },
   "outputs": [],
   "source": [
    "print accounts.AccountInstruments"
   ]
  },
  {
   "cell_type": "code",
   "execution_count": null,
   "metadata": {
    "collapsed": true
   },
   "outputs": [],
   "source": [
    "print instruments.Instruments"
   ]
  },
  {
   "cell_type": "code",
   "execution_count": null,
   "metadata": {
    "collapsed": true
   },
   "outputs": [],
   "source": [
    "print instruments.APIRequest"
   ]
  },
  {
   "cell_type": "code",
   "execution_count": null,
   "metadata": {
    "collapsed": true
   },
   "outputs": [],
   "source": [
    "print instruments.Instruments"
   ]
  },
  {
   "cell_type": "code",
   "execution_count": null,
   "metadata": {
    "collapsed": true
   },
   "outputs": [],
   "source": [
    "print instruments.InstrumentsCandles"
   ]
  },
  {
   "cell_type": "code",
   "execution_count": null,
   "metadata": {
    "collapsed": false
   },
   "outputs": [],
   "source": [
    "import v20\n",
    "api = v20.Context(hostname='api-fxpractice.oanda.com', port=443, ssl=True, token='e6ab562b039325f12a026c6fdb7b71bb-b3d8721445817159410f01514acd19hbc')\n",
    "#streaming_hostname: stream-fxpracatice.oanda.com\n",
    "#username: user\n",
    "#accounts:\n",
    "#- 101-001-100000-001\n",
    "#- 101-001-100000-002\n",
    "#active_account: 101-001-100000-001\n",
    "api.primitives."
   ]
  },
  {
   "cell_type": "code",
   "execution_count": null,
   "metadata": {
    "collapsed": false
   },
   "outputs": [],
   "source": [
    "import numpy as n\n",
    "print p.DataFrame(n.power(2, n.array(range(7+1))))"
   ]
  },
  {
   "cell_type": "code",
   "execution_count": null,
   "metadata": {
    "collapsed": false
   },
   "outputs": [],
   "source": [
    "#source: https://www.youtube.com/watch?v=DIIUNtUVDPI\n",
    "import pandas as p\n",
    "import numpy as n\n",
    "#import matplotlib.pylab as plt\n",
    "\n",
    "%pylab inline\n",
    "\n",
    "df = p.DataFrame([1,2,3,4])\n",
    "df[1] = n.power(df[0],2)\n",
    "df[2] = n.power(df[0],3)\n",
    "df[3] = n.power(df[0],n.e)\n",
    "print df\n",
    "df.plot()\n",
    "#plt.show()"
   ]
  },
  {
   "cell_type": "code",
   "execution_count": null,
   "metadata": {
    "collapsed": false
   },
   "outputs": [],
   "source": [
    "%reload_ext autoreload\n",
    "%autoreload 2\n",
    "import sys\n",
    "def defp(pt):\n",
    "    try:    sys.path.index(pt)\n",
    "    except: sys.path.append(pt)\n",
    "defp('/ml.dev/bin')\n",
    "defp('/ml.dev/lib/oanda/oandapy')\n",
    "from qoreliquid import getSyntheticCurrencyTable\n",
    "from oandaq import OandaQ\n",
    "import pandas as p\n",
    "import numpy as n\n",
    "#oq = OandaQ(selectOandaAccount=0, selectOandaSubAccount=6)\n",
    "#df = getSyntheticCurrencyTable(oq.oanda2, oq, ['EUR_GBP','AUD_USD','NZD_USD'])#.transpose()\n",
    "#print df.ix[:,'pairedCurrencyAsk pairedCurrencyBid'.split(' ')]\n",
    "#print df.ix[:,'pairedCurrencyAsk pairedCurrencyBid'.split(' ')]\n",
    "#print df"
   ]
  },
  {
   "cell_type": "code",
   "execution_count": null,
   "metadata": {
    "collapsed": false,
    "scrolled": true
   },
   "outputs": [],
   "source": [
    "import sys\n",
    "def defp(pt):\n",
    "    try:    sys.path.index(pt)\n",
    "    except: sys.path.append(pt)\n",
    "defp('/mldev/lib/bitcoin/poloniex/thiagof_py-poloniex.github.py.git')\n",
    "%pylab inline\n",
    "from poloniex import Poloniex\n",
    "from datetime import datetime\n",
    "from datetime import timedelta\n",
    "from qoreliquid import normalizeme\n",
    "from qoreliquid import sigmoidme\n",
    "pol = Poloniex('M8YTJIKE-2EIE8VV2-7UP6Z9O0-PJNGRPV4', '7ed5f13cee6469c3790f236c28d9b9dcd3b1714f9b5a310c8f25f221348ec5c2d0149cda35d58f53a34cae20d8e246f8462d7e95abcaa2bac4062ad24fb0034d')"
   ]
  },
  {
   "cell_type": "code",
   "execution_count": null,
   "metadata": {
    "collapsed": false,
    "scrolled": false
   },
   "outputs": [],
   "source": [
    "#pol.returnChartData()\n",
    "start = datetime.now() - timedelta(hours=24)\n",
    "df = {}\n",
    "#bss = ['BTC_ETH', 'BTC_DOGE']\n",
    "bss = list(p.DataFrame(pol.returnBalances().keys()).sort_values(by=0).transpose().get_values()[0])\n",
    "bss = map(lambda x: 'BTC_%s'%x, bss)\n",
    "#print bss\n",
    "mdf=p.DataFrame([])\n",
    "for i in bss[0:6]:\n",
    "    print '--- %s' % i\n",
    "    try:\n",
    "        res = pol.returnChartData(i, 300, start)\n",
    "        df[i] = p.DataFrame(res).sort_values(by='date').set_index('date')\n",
    "        #with p.option_context('display.max_rows', 4000, 'display.max_columns', 4000, 'display.width', 1000000): print df[i].tail(15)\n",
    "        mdf[i] = df[i].ix[:,'close']\n",
    "    except Exception as e:\n",
    "        #print e\n",
    "        #print res['error']\n",
    "        ''\n",
    "#df.ix[:,'close'].plot()\n",
    "mdf = mdf.ffill().bfill()\n",
    "mdf = normalizeme(mdf)\n",
    "mdf = sigmoidme(mdf)\n",
    "print mdf\n",
    "mdf.plot()"
   ]
  },
  {
   "cell_type": "code",
   "execution_count": null,
   "metadata": {
    "collapsed": false
   },
   "outputs": [],
   "source": [
    "mdf#.ix[:,0:6]#.plot(legend=0)`\\"
   ]
  },
  {
   "cell_type": "code",
   "execution_count": null,
   "metadata": {
    "collapsed": false,
    "scrolled": false
   },
   "outputs": [],
   "source": [
    "#start = datetime.now() - timedelta(hours=1)\n",
    "#res = pol.returnTradeHistory('BTC_DOGE', start)\n",
    "#df=p.DataFrame(res)\n",
    "#df=df.convert_objects(convert_numeric=True)\n",
    "#print df.dtypes\n",
    "gdf=df.groupby('type')\n",
    "gdfsum=gdf.sum()\n",
    "#gdfsum gdfsum.transpose()1\n",
    "gdfsum.ix['total', 'total'] = - gdfsum.ix['buy','total'] + gdfsum.ix['sell','total']\n",
    "print gdfsum\n",
    "print gdfsum.ix['buy','total']\n",
    "print gdfsum.ix['sell','total']\n"
   ]
  },
  {
   "cell_type": "code",
   "execution_count": null,
   "metadata": {
    "collapsed": false
   },
   "outputs": [],
   "source": [
    "import sys\n",
    "def defp(pt):\n",
    "    try:    sys.path.index(pt)\n",
    "    except: sys.path.append(pt)\n",
    "defp('/ml.dev/bin')\n",
    "defp('/ml.dev/lib/oanda/oandapy')\n",
    "from qoreliquid import normalizeme\n",
    "from qoreliquid import sigmoidme\n",
    "import pandas as p\n",
    "import oandapy\n",
    "from pylab import rcParams\n",
    "%pylab inline\n",
    "rcParams['figure.figsize'] = 20, 5\n",
    "\n",
    "co = p.read_csv('/mldev/bin/datafeeds/config.csv', header=None)\n",
    "\n",
    "co.ix[1,4] = 'oanda1'\n",
    "env1=co.ix[1,1]\n",
    "access_token1=co.ix[1,2]\n",
    "oanda1 = oandapy.API(environment=env1, access_token=access_token1)\n",
    "\n",
    "co.ix[0,4] = 'oanda2'\n",
    "env2=co.ix[0,1]\n",
    "access_token2=co.ix[0,2]\n",
    "oanda2 = oandapy.API(environment=env2, access_token=access_token2)\n",
    "\n",
    "try:\n",
    "    acc = oanda2.get_accounts()['accounts']\n",
    "    #print 'acc'\n",
    "    #print p.DataFrame(acc)\n",
    "    accid = acc[2]['accountId']\n",
    "    #print 'using account: {0}'.format(accid)\n",
    "except:\n",
    "    ''"
   ]
  },
  {
   "cell_type": "code",
   "execution_count": null,
   "metadata": {
    "collapsed": false
   },
   "outputs": [],
   "source": [
    "co"
   ]
  },
  {
   "cell_type": "code",
   "execution_count": null,
   "metadata": {
    "collapsed": false
   },
   "outputs": [],
   "source": [
    "import pymongo as mong\n",
    "import ujson\n",
    "mongo = mong.MongoClient(host='127.0.0.1', port=3311)\n",
    "dfm = p.DataFrame()\n",
    "for i in mongo.ql.broker_oanda_accounts.find():\n",
    "    #print p.DataFrame(i, index=[0]).transpose()\n",
    "    #print i['user']\n",
    "    #print i['utctime']\n",
    "    df = p.DataFrame(ujson.loads(i['data']))\n",
    "    df['user']    = i['user']\n",
    "    df['utctime'] = i['utctime']\n",
    "    for j in df.index:\n",
    "        df.ix[j, 'idx'] = '%s-%s-%s' % (df.ix[j, 'user'], df.ix[j, 'utctime'], j)\n",
    "    df['indx'] = df.index\n",
    "    df = df.set_index('idx')\n",
    "    #print df\n",
    "    dfm = dfm.combine_first(df)\n",
    "dfm = dfm.sort_values(by=['user', 'accountId'], ascending=[True, True])#.tail(20)\n",
    "###\n",
    "#aa = 'balance marginAvail marginUsed realizedPl unrealizedPl openTrades'\n",
    "aa = 'balance marginUsed realizedPl unrealizedPl openTrades'\n",
    "bb = 'utctime %s' % aa\n",
    "ffds = aa.split(' ')\n",
    "#print dfm.where(dfm['accountName'] == 'sub1')\n",
    "#print dfm\n",
    "#print dfm[dfm['accountName'] == 'sub1']\n",
    "df = dfm[dfm['accountId'] == 947325].sort_values(by=['utctime'], ascending=[True]).ix[:, bb.split(' ')]\n",
    "df = normalizeme(df)\n",
    "df = sigmoidme(df)\n",
    "#print df\n",
    "%pylab inline\n",
    "#rcParams['figure.figsize'] = 20, 5\n",
    "plot(df.ix[:, ffds])\n",
    "legend(ffds, loc=2)\n",
    "#show()"
   ]
  },
  {
   "cell_type": "code",
   "execution_count": null,
   "metadata": {
    "collapsed": false
   },
   "outputs": [],
   "source": [
    "#from matplotlib.pylab import plot, legend, title, show #, imshow, tight_layout\n",
    "#from pylab import rcParams\n",
    "%pylab inline\n",
    "#rcParams['figure.figsize'] = 20, 5\n",
    "plot(df)\n",
    "show()"
   ]
  },
  {
   "cell_type": "code",
   "execution_count": null,
   "metadata": {
    "collapsed": false,
    "scrolled": false
   },
   "outputs": [],
   "source": [
    "# circle of wealth\n",
    "cc = [0.5, 1, 200.0/15, 2000.0/15, 2500.0/15, 50, 500, 1000, 2400, 5000]\n",
    "from qorequant import QoreQuant\n",
    "qq = QoreQuant(oandaInit=False, statWingInit=False)\n",
    "print qq.calcCapitalRequirements(cc)\n",
    "#print calcCapital(5000)"
   ]
  }
 ],
 "metadata": {
  "kernelspec": {
   "display_name": "Python 2",
   "language": "python",
   "name": "python2"
  },
  "language_info": {
   "codemirror_mode": {
    "name": "ipython",
    "version": 2
   },
   "file_extension": ".py",
   "mimetype": "text/x-python",
   "name": "python",
   "nbconvert_exporter": "python",
   "pygments_lexer": "ipython2",
   "version": "2.7.6"
  }
 },
 "nbformat": 4,
 "nbformat_minor": 0
}
