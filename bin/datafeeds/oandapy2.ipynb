{
 "cells": [
  {
   "cell_type": "code",
   "execution_count": null,
   "metadata": {
    "collapsed": false
   },
   "outputs": [],
   "source": [
    "import pandas as p\n",
    "import oandapy\n",
    "co = p.read_csv('/mldev/bin/datafeeds/config.csv', header=None)\n",
    "co"
   ]
  },
  {
   "cell_type": "code",
   "execution_count": null,
   "metadata": {
    "collapsed": false
   },
   "outputs": [],
   "source": [
    "import pandas as p\n",
    "import oandapy\n",
    "co = p.read_csv('/mldev/bin/datafeeds/config.csv', header=None)\n",
    "loginIndex = 1\n",
    "env0=co.ix[loginIndex,1]\n",
    "access_token0=co.ix[loginIndex,2]\n",
    "oanda0 = oandapy.API(environment=env0, access_token=access_token0)\n",
    "\n",
    "accid = 5545219\n",
    "acco = oanda0.get_account(accid)\n",
    "maccount = p.DataFrame(acco, index=[0])\n",
    "print maccount.transpose()"
   ]
  },
  {
   "cell_type": "code",
   "execution_count": null,
   "metadata": {
    "collapsed": false
   },
   "outputs": [],
   "source": [
    "accounts.Accounts(accountID=\"101-004-1984564-001\")"
   ]
  },
  {
   "cell_type": "code",
   "execution_count": null,
   "metadata": {
    "collapsed": false
   },
   "outputs": [],
   "source": [
    "from exampleauth import exampleAuth\n",
    "accountID, access_token = exampleAuth()"
   ]
  },
  {
   "cell_type": "code",
   "execution_count": null,
   "metadata": {
    "collapsed": false
   },
   "outputs": [],
   "source": [
    "# -*- coding: utf-8 -*-\n",
    "#res = accounts.AccountList()\n",
    "#req = client.request(res)\n",
    "#df = p.DataFrame(req['accounts'])\n",
    "#print df\n",
    "\n",
    "accountID=\"101-004-1984564-001\"\n",
    "\n",
    "#res = accounts.AccountDetails?\n",
    "#(accountID)\n",
    "\n",
    "access_token = \"f55f8626416a19d784732a4a19ec69d0-2828876dabe1996cfedfa96f50e6d36b\"\n",
    "accountID = \"101-004-1984564-001\"\n",
    "\n",
    "import oandapyV20\n",
    "#import oandapyV20.endpoints.accounts as accounts\n",
    "import oandapyV20.endpoints.trades as trades\n",
    "from oandapyV20.endpoints.pricing import PricingStream\n",
    "from oandapyV20.endpoints.accounts import AccountSummary\n",
    "\n",
    "#client = API(access_token=access_token, headers={\"Content-Type\": \"application/json\"})\n",
    "#client = oandapyV20.API(access_token=access_token)\n",
    "client = oandapyV20.API(access_token=access_token, environment=\"practice\")\n",
    "#client = oandapyV20.API(access_token=access_token)\n",
    "#client.api_url = 'https://test.com'\n",
    "print client.environment\n",
    "\n",
    "try:\n",
    "    instruments = \"DE30_EUR,EUR_USD,EUR_JPY\"\n",
    "    r = PricingStream(accountID=accountID, params={\"instruments\":instruments})    \n",
    "    print r\n",
    "    #print r.ENDPOINT\n",
    "    print r.METHOD\n",
    "    print r.status_code\n",
    "    print r.response\n",
    "    #print client.request(r)\n",
    "    rv = client.request(r)\n",
    "    for ri in rv:\n",
    "        ri\n",
    "except Exception as e:\n",
    "    print e\n",
    "try:\n",
    "    r = AccountSummary(accountID=\"101-004-1984564-001\")\n",
    "    print r\n",
    "    print r.METHOD\n",
    "    print r.status_code\n",
    "    print r.response\n",
    "    rv = client.request(r)\n",
    "    print rv\n",
    "except Exception as e:\n",
    "    print e\n",
    "try:\n",
    "    r = AccountSummary(accountID=\"101-004-1984564-001\")\n",
    "    print r\n",
    "    print r.METHOD\n",
    "    print r.status_code\n",
    "    print r.response\n",
    "    rv = client.request(r)\n",
    "    print rv\n",
    "except Exception as e:\n",
    "    print e\n",
    "try:\n",
    "    r = trades.TradesList(accountID=accountID)\n",
    "    print r\n",
    "    print r.METHOD\n",
    "    print r.status_code\n",
    "    print r.response\n",
    "    rv = client.request(r)\n",
    "    print rv\n",
    "except Exception as e:\n",
    "    print e\n",
    "try:\n",
    "    r = accounts.AccountList()\n",
    "    print r\n",
    "    print r.METHOD\n",
    "    print r.status_code\n",
    "    print r.response\n",
    "    rv = client.request(r)\n",
    "    print rv\n",
    "except Exception as e:\n",
    "    print e\n",
    "\n",
    "#res = accounts.AccountSummary(accountID)\n",
    "#print res\n",
    "#print res.status_code\n",
    "#client.request(res)\n",
    "#client.request?"
   ]
  },
  {
   "cell_type": "code",
   "execution_count": null,
   "metadata": {
    "collapsed": false
   },
   "outputs": [],
   "source": [
    "from oandapyV20.exceptions import V20Error\n",
    "import oandapyV20.endpoints.pricing as pricing\n",
    "# list of requests\n",
    "lor = []\n",
    "# request trades list\n",
    "res = trades.TradesList(accountID)\n",
    "print res\n",
    "print res.ENDPOINT\n",
    "lor.append(res)\n",
    "# request accounts list\n",
    "lor.append(accounts.AccountList())\n",
    "# request pricing info\n",
    "params={\"instruments\": \"DE30_EUR,EUR_GBP\"}\n",
    "lor.append(pricing.PricingInfo(accountID, params=params))\n",
    "\n",
    "for r in lor:\n",
    "    try:\n",
    "        rv = client.request(r)\n",
    "        # put request and response in 1 JSON structure\n",
    "        print(\"{}\".format(json.dumps({\"request\": \"{}\".format(r),\n",
    "                                      \"response\": rv}, indent=2)))\n",
    "    except V20Error as e:\n",
    "        print(\"OOPS: {:d} {:s}\".format(e.code, e.msg))"
   ]
  },
  {
   "cell_type": "code",
   "execution_count": null,
   "metadata": {
    "collapsed": true
   },
   "outputs": [],
   "source": [
    "res = accounts.AccountDetails"
   ]
  },
  {
   "cell_type": "code",
   "execution_count": null,
   "metadata": {
    "collapsed": true
   },
   "outputs": [],
   "source": [
    "res = accounts.AccountSummary"
   ]
  },
  {
   "cell_type": "code",
   "execution_count": null,
   "metadata": {
    "collapsed": true
   },
   "outputs": [],
   "source": [
    "res = accounts.AccountSummary"
   ]
  },
  {
   "cell_type": "code",
   "execution_count": null,
   "metadata": {
    "collapsed": true
   },
   "outputs": [],
   "source": [
    "res = accounts.AccountSummary"
   ]
  },
  {
   "cell_type": "code",
   "execution_count": null,
   "metadata": {
    "collapsed": false
   },
   "outputs": [],
   "source": [
    "res = accounts.AccountSummary\n",
    "res"
   ]
  },
  {
   "cell_type": "code",
   "execution_count": null,
   "metadata": {
    "collapsed": false
   },
   "outputs": [],
   "source": [
    "import json\n",
    "import pandas as p\n",
    "from oandapyV20 import API    # the client\n",
    "import oandapyV20.endpoints.trades as trades\n",
    "import oandapyV20.endpoints.accounts as accounts\n",
    "\n",
    "access_token = \"f55f8626416a19d784732a4a19ec69d0-2828876dabe1996cfedfa96f50e6d36b\"\n",
    "accountID = \"101-004-1984564-002\"\n",
    "client = API(access_token=access_token)\n",
    "\n",
    "al = accounts.AccountList()\n",
    "ral = client.request(al)\n",
    "ral\n",
    "df = p.DataFrame(ral['accounts'])\n",
    "print df\n",
    "\n",
    "print\n",
    "print df.ix[0,'id']\n",
    "\n",
    "# request trades list\n",
    "try:\n",
    "    r = trades.TradesList(accountID)\n",
    "    #print r\n",
    "    rv = client.request(r)\n",
    "    print(\"RESPONSE:\\n{}\".format(json.dumps(rv, indent=2)))\n",
    "except Exception as e:\n",
    "    print e"
   ]
  },
  {
   "cell_type": "code",
   "execution_count": null,
   "metadata": {
    "collapsed": false
   },
   "outputs": [],
   "source": [
    "import oandapyV20.endpoints.instruments as instruments\n",
    "import oandapyV20.endpoints.transactions as transactions\n",
    "import oandapyV20.endpoints.accounts as accounts\n",
    "\n",
    "#transactions.TransactionList?\n",
    "instruments\n",
    "\n",
    "al = accounts.AccountList()\n",
    "print al\n",
    "ral = client.request(al)\n",
    "ral\n",
    "df = p.DataFrame(ral['accounts'])\n",
    "print df"
   ]
  },
  {
   "cell_type": "code",
   "execution_count": null,
   "metadata": {
    "collapsed": false
   },
   "outputs": [],
   "source": [
    "import v20\n",
    "api = v20.Context(hostname='api-fxpractice.oanda.com', port=443, ssl=True, token='e6ab562b039325f12a026c6fdb7b71bb-b3d8721445817159410f01514acd19hbc')\n",
    "#streaming_hostname: stream-fxpracatice.oanda.com\n",
    "#username: user\n",
    "#accounts:\n",
    "#- 101-001-100000-001\n",
    "#- 101-001-100000-002\n",
    "#active_account: 101-001-100000-001\n",
    "api.primitives."
   ]
  },
  {
   "cell_type": "code",
   "execution_count": null,
   "metadata": {
    "collapsed": false
   },
   "outputs": [],
   "source": [
    "import numpy as n\n",
    "print p.DataFrame(n.power(2, n.array(range(7+1))))"
   ]
  },
  {
   "cell_type": "code",
   "execution_count": null,
   "metadata": {
    "collapsed": false
   },
   "outputs": [],
   "source": [
    "#source: https://www.youtube.com/watch?v=DIIUNtUVDPI\n",
    "import pandas as p\n",
    "import numpy as n\n",
    "#import matplotlib.pylab as plt\n",
    "\n",
    "%pylab inline\n",
    "\n",
    "df = p.DataFrame([1,2,3,4])\n",
    "df[1] = n.power(df[0],2)\n",
    "df[2] = n.power(df[0],3)\n",
    "df[3] = n.power(df[0],n.e)\n",
    "print df\n",
    "df.plot()\n",
    "#plt.show()"
   ]
  },
  {
   "cell_type": "code",
   "execution_count": null,
   "metadata": {
    "collapsed": false
   },
   "outputs": [],
   "source": [
    "%reload_ext autoreload\n",
    "%autoreload 2\n",
    "import sys\n",
    "def defp(pt):\n",
    "    try:    sys.path.index(pt)\n",
    "    except: sys.path.append(pt)\n",
    "defp('/ml.dev/bin')\n",
    "defp('/ml.dev/lib/oanda/oandapy')\n",
    "from qoreliquid import getSyntheticCurrencyTable\n",
    "from oandaq import OandaQ\n",
    "import pandas as p\n",
    "import numpy as n\n",
    "#oq = OandaQ(selectOandaAccount=0, selectOandaSubAccount=6)\n",
    "#df = getSyntheticCurrencyTable(oq.oanda2, oq, ['EUR_GBP','AUD_USD','NZD_USD'])#.transpose()\n",
    "#print df.ix[:,'pairedCurrencyAsk pairedCurrencyBid'.split(' ')]\n",
    "#print df.ix[:,'pairedCurrencyAsk pairedCurrencyBid'.split(' ')]\n",
    "#print df"
   ]
  },
  {
   "cell_type": "code",
   "execution_count": null,
   "metadata": {
    "collapsed": false,
    "scrolled": true
   },
   "outputs": [],
   "source": [
    "import sys\n",
    "def defp(pt):\n",
    "    try:    sys.path.index(pt)\n",
    "    except: sys.path.append(pt)\n",
    "defp('/mldev/lib/bitcoin/poloniex/thiagof_py-poloniex.github.py.git')\n",
    "%pylab inline\n",
    "from poloniex import Poloniex\n",
    "from datetime import datetime\n",
    "from datetime import timedelta\n",
    "from qoreliquid import normalizeme\n",
    "from qoreliquid import sigmoidme\n",
    "pol = Poloniex('M8YTJIKE-2EIE8VV2-7UP6Z9O0-PJNGRPV4', '7ed5f13cee6469c3790f236c28d9b9dcd3b1714f9b5a310c8f25f221348ec5c2d0149cda35d58f53a34cae20d8e246f8462d7e95abcaa2bac4062ad24fb0034d')"
   ]
  },
  {
   "cell_type": "code",
   "execution_count": null,
   "metadata": {
    "collapsed": false,
    "scrolled": false
   },
   "outputs": [],
   "source": [
    "#pol.returnChartData()\n",
    "start = datetime.now() - timedelta(hours=24)\n",
    "df = {}\n",
    "#bss = ['BTC_ETH', 'BTC_DOGE']\n",
    "bss = list(p.DataFrame(pol.returnBalances().keys()).sort_values(by=0).transpose().get_values()[0])\n",
    "bss = map(lambda x: 'BTC_%s'%x, bss)\n",
    "#print bss\n",
    "mdf=p.DataFrame([])\n",
    "for i in bss[0:6]:\n",
    "    print '--- %s' % i\n",
    "    try:\n",
    "        res = pol.returnChartData(i, 300, start)\n",
    "        df[i] = p.DataFrame(res).sort_values(by='date').set_index('date')\n",
    "        #with p.option_context('display.max_rows', 4000, 'display.max_columns', 4000, 'display.width', 1000000): print df[i].tail(15)\n",
    "        mdf[i] = df[i].ix[:,'close']\n",
    "    except Exception as e:\n",
    "        #print e\n",
    "        #print res['error']\n",
    "        ''\n",
    "#df.ix[:,'close'].plot()\n",
    "mdf = mdf.ffill().bfill()\n",
    "mdf = normalizeme(mdf)\n",
    "mdf = sigmoidme(mdf)\n",
    "print mdf\n",
    "mdf.plot()"
   ]
  },
  {
   "cell_type": "code",
   "execution_count": null,
   "metadata": {
    "collapsed": false
   },
   "outputs": [],
   "source": [
    "mdf#.ix[:,0:6]#.plot(legend=0)`\\"
   ]
  },
  {
   "cell_type": "code",
   "execution_count": null,
   "metadata": {
    "collapsed": false,
    "scrolled": false
   },
   "outputs": [],
   "source": [
    "#start = datetime.now() - timedelta(hours=1)\n",
    "#res = pol.returnTradeHistory('BTC_DOGE', start)\n",
    "#df=p.DataFrame(res)\n",
    "#df=df.convert_objects(convert_numeric=True)\n",
    "#print df.dtypes\n",
    "gdf=df.groupby('type')\n",
    "gdfsum=gdf.sum()\n",
    "#gdfsum gdfsum.transpose()1\n",
    "gdfsum.ix['total', 'total'] = - gdfsum.ix['buy','total'] + gdfsum.ix['sell','total']\n",
    "print gdfsum\n",
    "print gdfsum.ix['buy','total']\n",
    "print gdfsum.ix['sell','total']\n"
   ]
  },
  {
   "cell_type": "code",
   "execution_count": null,
   "metadata": {
    "collapsed": false
   },
   "outputs": [],
   "source": [
    "import sys\n",
    "def defp(pt):\n",
    "    try:    sys.path.index(pt)\n",
    "    except: sys.path.append(pt)\n",
    "defp('/ml.dev/bin')\n",
    "defp('/ml.dev/lib/oanda/oandapy')\n",
    "from qoreliquid import normalizeme\n",
    "from qoreliquid import sigmoidme\n",
    "import pandas as p\n",
    "import oandapy\n",
    "from pylab import rcParams\n",
    "%pylab inline\n",
    "rcParams['figure.figsize'] = 20, 5\n",
    "\n",
    "co = p.read_csv('/mldev/bin/datafeeds/config.csv', header=None)\n",
    "\n",
    "co.ix[1,4] = 'oanda1'\n",
    "env1=co.ix[1,1]\n",
    "access_token1=co.ix[1,2]\n",
    "oanda1 = oandapy.API(environment=env1, access_token=access_token1)\n",
    "\n",
    "co.ix[0,4] = 'oanda2'\n",
    "env2=co.ix[0,1]\n",
    "access_token2=co.ix[0,2]\n",
    "oanda2 = oandapy.API(environment=env2, access_token=access_token2)\n",
    "\n",
    "try:\n",
    "    acc = oanda2.get_accounts()['accounts']\n",
    "    #print 'acc'\n",
    "    #print p.DataFrame(acc)\n",
    "    accid = acc[2]['accountId']\n",
    "    #print 'using account: {0}'.format(accid)\n",
    "except:\n",
    "    ''"
   ]
  },
  {
   "cell_type": "code",
   "execution_count": null,
   "metadata": {
    "collapsed": false
   },
   "outputs": [],
   "source": [
    "co"
   ]
  },
  {
   "cell_type": "code",
   "execution_count": null,
   "metadata": {
    "collapsed": false
   },
   "outputs": [],
   "source": [
    "import pymongo as mong\n",
    "import ujson\n",
    "mongo = mong.MongoClient(host='127.0.0.1', port=3311)\n",
    "dfm = p.DataFrame()\n",
    "for i in mongo.ql.broker_oanda_accounts.find():\n",
    "    #print p.DataFrame(i, index=[0]).transpose()\n",
    "    #print i['user']\n",
    "    #print i['utctime']\n",
    "    df = p.DataFrame(ujson.loads(i['data']))\n",
    "    df['user']    = i['user']\n",
    "    df['utctime'] = i['utctime']\n",
    "    for j in df.index:\n",
    "        df.ix[j, 'idx'] = '%s-%s-%s' % (df.ix[j, 'user'], df.ix[j, 'utctime'], j)\n",
    "    df['indx'] = df.index\n",
    "    df = df.set_index('idx')\n",
    "    #print df\n",
    "    dfm = dfm.combine_first(df)\n",
    "dfm = dfm.sort_values(by=['user', 'accountId'], ascending=[True, True])#.tail(20)\n",
    "###\n",
    "#aa = 'balance marginAvail marginUsed realizedPl unrealizedPl openTrades'\n",
    "aa = 'balance marginUsed realizedPl unrealizedPl openTrades'\n",
    "bb = 'utctime %s' % aa\n",
    "ffds = aa.split(' ')\n",
    "#print dfm.where(dfm['accountName'] == 'sub1')\n",
    "#print dfm\n",
    "#print dfm[dfm['accountName'] == 'sub1']\n",
    "df = dfm[dfm['accountId'] == 947325].sort_values(by=['utctime'], ascending=[True]).ix[:, bb.split(' ')]\n",
    "df = normalizeme(df)\n",
    "df = sigmoidme(df)\n",
    "#print df\n",
    "%pylab inline\n",
    "#rcParams['figure.figsize'] = 20, 5\n",
    "plot(df.ix[:, ffds])\n",
    "legend(ffds, loc=2)\n",
    "#show()"
   ]
  },
  {
   "cell_type": "code",
   "execution_count": null,
   "metadata": {
    "collapsed": false
   },
   "outputs": [],
   "source": [
    "#from matplotlib.pylab import plot, legend, title, show #, imshow, tight_layout\n",
    "#from pylab import rcParams\n",
    "%pylab inline\n",
    "#rcParams['figure.figsize'] = 20, 5\n",
    "plot(df)\n",
    "show()"
   ]
  },
  {
   "cell_type": "code",
   "execution_count": null,
   "metadata": {
    "collapsed": false,
    "scrolled": false
   },
   "outputs": [],
   "source": [
    "cc = [0.5, 1, 200.0/15, 2000.0/15, 2500.0/15, 50, 500, 1000, 2400, 5000]\n",
    "from qorequant import QoreQuant\n",
    "qq = QoreQuant(oandaInit=False, statWingInit=False)\n",
    "print qq.calcCapitalRequirements(cc)\n",
    "#print calcCapital(5000)"
   ]
  }
 ],
 "metadata": {
  "kernelspec": {
   "display_name": "Python 2",
   "language": "python",
   "name": "python2"
  },
  "language_info": {
   "codemirror_mode": {
    "name": "ipython",
    "version": 2
   },
   "file_extension": ".py",
   "mimetype": "text/x-python",
   "name": "python",
   "nbconvert_exporter": "python",
   "pygments_lexer": "ipython2",
   "version": "2.7.6"
  }
 },
 "nbformat": 4,
 "nbformat_minor": 0
}
