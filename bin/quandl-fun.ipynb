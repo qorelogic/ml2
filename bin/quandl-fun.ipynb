{
 "metadata": {
  "name": ""
 },
 "nbformat": 3,
 "nbformat_minor": 0,
 "worksheets": [
  {
   "cells": [
    {
     "cell_type": "code",
     "collapsed": false,
     "input": [
      "%load_ext autoreload\n",
      "%autoreload 2\n",
      "import numpy as n\n",
      "import pandas as p\n",
      "import Quandl as q\n",
      "import datetime as dd\n",
      "from qoreliquid import *\n",
      "from matplotlib import pyplot as plt\n",
      "from pylab import rcParams\n",
      "rcParams['figure.figsize'] = 20, 5"
     ],
     "language": "python",
     "metadata": {},
     "outputs": [
      {
       "ename": "SyntaxError",
       "evalue": "non-keyword arg after keyword arg (qoreliquid.py, line 558)",
       "output_type": "pyerr",
       "traceback": [
        "\u001b[0;36m  File \u001b[0;32m\"qoreliquid.py\"\u001b[0;36m, line \u001b[0;32m558\u001b[0m\n\u001b[0;31m    scatter(x,y, vmin=0, vmax(100));\u001b[0m\n\u001b[0;31mSyntaxError\u001b[0m\u001b[0;31m:\u001b[0m non-keyword arg after keyword arg\n"
       ]
      }
     ],
     "prompt_number": 2
    },
    {
     "cell_type": "code",
     "collapsed": false,
     "input": [
      "#Wall Street Warriors Season 1 Episode 1\n",
      "#https://www.youtube.com/watch?v=nyRiuv4EDB4"
     ],
     "language": "python",
     "metadata": {},
     "outputs": []
    },
    {
     "cell_type": "code",
     "collapsed": false,
     "input": [
      "zxc = getDataFromQuandl(\u007f\"YAHOO/INDEX_GSPC\", dataset='')\n",
      "#zxc = getDataFromQuandl('YAHOO/SP500_5010TR', dataset='')\n",
      "plot(zxc['Close'])"
     ],
     "language": "python",
     "metadata": {},
     "outputs": []
    },
    {
     "cell_type": "code",
     "collapsed": false,
     "input": [
      "rcParams['figure.figsize'] = 20, 20\n",
      "#headers = [0,1]\n",
      "headers = None\n",
      "searchQuandl('appl', mode='combineplot', returndataset=False, headers=headers, listcolumns=True)"
     ],
     "language": "python",
     "metadata": {},
     "outputs": []
    },
    {
     "cell_type": "code",
     "collapsed": false,
     "input": [
      "rcParams['figure.figsize'] = 20, 20\n",
      "#headers = [0,1]\n",
      "headers = None\n",
      "headers = [3, 13, 18, 19, 23]\n",
      "listcolumns=False\n",
      "#searchQuandl('tesla', mode='combineplot', returndataset=False, headers=headers, listcolumns=listcolumns)"
     ],
     "language": "python",
     "metadata": {},
     "outputs": []
    },
    {
     "cell_type": "code",
     "collapsed": false,
     "input": [
      "headers = None\n",
      "#headers = [1,8]\n",
      "#searchQuandl('farm prices', mode='combineplot', headers=headers)\n",
      "headers = [2,3,4,5]\n",
      "headers = [0,1]\n",
      "#searchQuandl('vix', mode='combineplot', returndataset=False)\n",
      "searchQuandl('vix', mode='combineplot', returndataset=False, headers=headers, listcolumns=False)"
     ],
     "language": "python",
     "metadata": {},
     "outputs": []
    },
    {
     "cell_type": "code",
     "collapsed": false,
     "input": [
      "tk = 'PSYCH/USDX_I'\n",
      "tk = 'PSYCH/USDX_R'\n",
      "d = getDataFromQuandl(tk, dataset='', index_col=0).tail(100)\n",
      "#d = normalizeme(d)\n",
      "#d = sigmoidme(d)\n",
      "d.plot(style='-')\n",
      "show()"
     ],
     "language": "python",
     "metadata": {},
     "outputs": []
    },
    {
     "cell_type": "code",
     "collapsed": false,
     "input": [
      "headers = None\n",
      "#headers = [1,8]\n",
      "#searchQuandl('farm prices', mode='combineplot', headers=headers)\n",
      "headers = [2,3,4,5]\n",
      "searchQuandl('usdx', mode='combineplot', returndataset=False, listcolumns=False)\n",
      "#searchQuandl('psych', mode='combineplot', returndataset=False, listcolumns=False)"
     ],
     "language": "python",
     "metadata": {},
     "outputs": []
    },
    {
     "cell_type": "code",
     "collapsed": false,
     "input": [
      "tks = []\n",
      "tks.append('LBMA/GOLD') # Gold\n",
      "tks.append('DOE/RBRTE') # Europe Brent Crude Oil Spot Price FOB\n",
      "tks.append('CHRIS/CME_CL1') # Crude Oil Futures, Continuous Contract #1 (CL1) (Front Month)\n",
      "tks.append('BAVERAGE/USD') # USD/BITCOIN Weighted Price\n",
      "#d = q.get(tks)\n",
      "#d = getDataFromQuandl(tks, dataset='')\n",
      "#d = d.bfill()\n",
      "#d.plot()\n",
      "#print tks\n",
      "quickPlot(tks, [2])\n",
      "#show()"
     ],
     "language": "python",
     "metadata": {},
     "outputs": []
    },
    {
     "cell_type": "code",
     "collapsed": false,
     "input": [
      "#print d.columns\n",
      "#print d.tail(1)\n",
      "hdrs = ['LBMA.GOLD - USD (AM)','DOE.RBRTE - Value','CHRIS.CME_CL1 - Open','BAVERAGE.USD - 24h Average']\n",
      "dsss = d.bfill().ix[5000:len(d),hdrs]\n",
      "#dsss = d.bfill().ix[5000:8000,hdrs]\n",
      "dsss = normalizeme(dsss)\n",
      "dsss = sigmoidme(dsss)\n",
      "plot(dsss)\n",
      "legend(dsss,2)\n",
      "show()"
     ],
     "language": "python",
     "metadata": {},
     "outputs": []
    },
    {
     "cell_type": "code",
     "collapsed": false,
     "input": [
      "#d = q.get(['LBMA/GOLD'])\n",
      "#print d\n",
      "dsss = d.ix[:,hdrs]\n",
      "dsss = n.diff(dsss)\n",
      "#dsss = normalizeme2(dsss)\n",
      "dsss = sigmoidme(dsss)\n",
      "plot(dsss,'-')\n",
      "show()"
     ],
     "language": "python",
     "metadata": {},
     "outputs": []
    },
    {
     "cell_type": "code",
     "collapsed": false,
     "input": [
      "pa = ''\n",
      "# 2\n",
      "pa += 'USDRUB USDARS USDJPY USDCHF EURUSD GBPUSD XAUUSD'\n",
      "\n",
      "#dr = getDataFromQuandlBNP(pa, 'RUB')\n",
      "dr1 = dr.ix[9000:len(dr)-1,:]\n",
      "dr1 = normalizeme(dr1)\n",
      "dr1 = sigmoidme(dr1)\n",
      "#print n.corrcoef(dr1.get_values())\n",
      "#print dr1\n",
      "dr1.plot()\n",
      "legend(dr1.columns,3)\n",
      "show()"
     ],
     "language": "python",
     "metadata": {},
     "outputs": []
    },
    {
     "cell_type": "code",
     "collapsed": false,
     "input": [
      "hds = dr.columns[[0,2,3,4,5]]\n",
      "dss = dr.ix[:,hds]\n",
      "dss = normalizeme(dss)\n",
      "#dss = normalizeme2(dss)\n",
      "dss = sigmoidme(dss)\n",
      "plot(dss)\n",
      "title('Close Prices')\n",
      "legend(hds,3)\n",
      "show()"
     ],
     "language": "python",
     "metadata": {},
     "outputs": []
    },
    {
     "cell_type": "code",
     "collapsed": false,
     "input": [
      "dr = dr.fillna(method='bfill')\n",
      "drdiff = n.diff(dr)\n",
      "#drdiff = normalizeme(drdiff)\n",
      "drdiff = normalizeme2(drdiff, index=dr.index, columns=hds)\n",
      "drdiff = sigmoidme(drdiff)\n",
      "drdiff = p.DataFrame(drdiff, index=dr.index, columns=hds)\n",
      "#print drdiff.tail(2)\n",
      "#print drdiff\n",
      "plot(drdiff)\n",
      "legend(hds,3)\n",
      "show()"
     ],
     "language": "python",
     "metadata": {},
     "outputs": []
    },
    {
     "cell_type": "code",
     "collapsed": false,
     "input": [
      "de = getDatasetEUR()\n",
      "du = getDataUSD()\n",
      "da = getDataAUD()"
     ],
     "language": "python",
     "metadata": {},
     "outputs": []
    },
    {
     "cell_type": "code",
     "collapsed": false,
     "input": [
      "res = n.diff(n.array(de.tail(30)).transpose())\n",
      "#print res\n",
      "plot(res)\n",
      "title('Diff')"
     ],
     "language": "python",
     "metadata": {},
     "outputs": []
    },
    {
     "cell_type": "code",
     "collapsed": false,
     "input": [
      "pa = ''\n",
      "# 16\n",
      "pa += ' /BITCOIN/MTGOXUSD /BITCOIN/BITSTAMPUSD /OFDP/GOLD_2 /OFDP/SILVER_5'\n",
      "\n",
      "db = getDataFromQuandlBNP(pa, 'BTC')"
     ],
     "language": "python",
     "metadata": {},
     "outputs": []
    },
    {
     "cell_type": "code",
     "collapsed": false,
     "input": [
      "ran = n.random.randn(3,3)\n",
      "print ran\n",
      "grid = n.corrcoef(ran)\n",
      "print grid\n",
      "#scatter(ran)\n",
      "#import matplotlib.pyplot as plt\n",
      "#imshow()\n",
      "\n",
      "#grid = np.random.random((10,10))\n",
      "#print grid\n",
      "\n",
      "#imshow(grid, extent=[0,9,0,1], aspect=3)\n",
      "#title('Manually Set Aspect')\n",
      "#tight_layout()\n",
      "#show()\n",
      "\n",
      "#ax = scaledimage(grid)\n"
     ],
     "language": "python",
     "metadata": {},
     "outputs": []
    },
    {
     "cell_type": "code",
     "collapsed": false,
     "input": [
      "\"\"\"\n",
      "Simple matrix intensity plot, similar to MATLAB imagesc()\n",
      "\n",
      "David Andrzejewski (david.andrzej@gmail.com)\n",
      "\"\"\"\n",
      "import numpy as NP\n",
      "import matplotlib.pyplot as P\n",
      "import matplotlib.ticker as MT\n",
      "import matplotlib.cm as CM\n",
      " \n",
      "def scaledimage(W, pixwidth=1, ax=None, grayscale=True):\n",
      "    \"\"\"\n",
      "    Do intensity plot, similar to MATLAB imagesc()\n",
      "\n",
      "    W = intensity matrix to visualize\n",
      "    pixwidth = size of each W element\n",
      "    ax = matplotlib Axes to draw on \n",
      "    grayscale = use grayscale color map\n",
      "\n",
      "    Rely on caller to .show()\n",
      "    \"\"\"\n",
      "    # N = rows, M = column\n",
      "    (N, M) = W.shape \n",
      "    # Need to create a new Axes?\n",
      "    if(ax == None):\n",
      "        ax = P.figure().gca()\n",
      "    # extents = Left Right Bottom Top\n",
      "    exts = (0, pixwidth * M, 0, pixwidth * N)\n",
      "    if(grayscale):\n",
      "        ax.imshow(W,\n",
      "                  interpolation='nearest',\n",
      "                  cmap=CM.gray,\n",
      "                  extent=exts)\n",
      "    else:\n",
      "        ax.imshow(W,\n",
      "                  interpolation='nearest',\n",
      "                  extent=exts)\n",
      " \n",
      "    ax.xaxis.set_major_locator(MT.NullLocator())\n",
      "    ax.yaxis.set_major_locator(MT.NullLocator())\n",
      "    return ax\n",
      " \n",
      "# Define a synthetic test dataset\n",
      "testweights = NP.array([[0.25, 0.50, 0.25, 0.00],\n",
      "                        [0.00, 0.50, 0.00, 0.00],\n",
      "                        [0.00, 0.10, 0.10, 0.00],\n",
      "                        [0.00, 0.00, 0.25, 0.75]])\n",
      "testweights = NP.random.randn(100,100)\n",
      "# Display it\n",
      "#ax = scaledimage(testweights)\n",
      "#ax = scaledimage(ran)\n",
      "P.show()"
     ],
     "language": "python",
     "metadata": {},
     "outputs": []
    },
    {
     "cell_type": "code",
     "collapsed": false,
     "input": [
      "print de.ix[:,:]"
     ],
     "language": "python",
     "metadata": {},
     "outputs": []
    },
    {
     "cell_type": "code",
     "collapsed": false,
     "input": [
      "#cc1 = de.get_values()\n",
      "cc1 = de.ix[:].transpose() #.get_values()\n",
      "cc1 = n.corrcoef(cc1)\n",
      "grid = p.DataFrame(cc1)\n",
      "#print cc1\n",
      "#grid = grid.sort(1, ascending=False)\n",
      "grid = grid.sort(0, ascending=False)\n",
      "print grid\n",
      "\n",
      "#ax = scaledimage(grid)\n",
      "\n",
      "sys.exit()\n",
      "\n",
      "from pylab import rcParams\n",
      "rcParams['figure.figsize'] = 20, 5\n",
      "imshow(grid, extent=[0,100,0,10], aspect=10)\n",
      "title('Manually Set Aspect')\n",
      "tight_layout()\n",
      "\n",
      "show()"
     ],
     "language": "python",
     "metadata": {},
     "outputs": []
    },
    {
     "cell_type": "code",
     "collapsed": false,
     "input": [
      "#print len(de.columns)\n",
      "#print de.ix[:,[0,1]]\n",
      "def getCorrelations(d, primary):\n",
      "    corrs = []\n",
      "    for i in range(0, len(d.columns)):\n",
      "        corrs.append(n.corrcoef(d.ix[:,primary], d.ix[:,i])[0][1])\n",
      "    corrs = p.DataFrame(corrs, index=d.columns, columns=[primary])\n",
      "    #print n.correlate(r1, r2)\n",
      "    #corrs = corrs.sort(columns=primary, ascending=False)\n",
      "    print corrs\n",
      "    return corrs\n",
      "    #plot(corrs,'.')\n",
      "c0 = getCorrelations(de, de.columns[0])\n",
      "c1 = getCorrelations(de, de.columns[1])\n",
      "c2 = getCorrelations(de, de.columns[2])\n",
      "c = c0.combine_first(c1)\n",
      "c = c.combine_first(c2)\n",
      "#c = c.sort(columns=de.columns[0], ascending=True)\n",
      "\n",
      "c = n.array(c)\n",
      "#print c\n",
      "#ax = scaledimage(c)\n",
      "#plot(c)\n",
      "#print c1\n",
      "#print c2\n"
     ],
     "language": "python",
     "metadata": {},
     "outputs": []
    },
    {
     "cell_type": "code",
     "collapsed": false,
     "input": [
      "from pylab import rcParams\n",
      "rcParams['figure.figsize'] = 20, 5*3\n",
      "fig = plt.figure()\n",
      "\n",
      "ax1 = fig.add_subplot(211)\n",
      "ax1.plot(sigmoidme(normalizeme(du)),'.')\n",
      "#ax1.title('USD pairs')\n",
      "#legend(d.columns)\n",
      "ax2 = fig.add_subplot(212)\n",
      "ax2.plot(sigmoidme(normalizeme(de)),'.')\n",
      "#ax2.title('EUR pairs')\n",
      "#ax3 = fig.add_subplot(213)\n",
      "#ax3.plot(sigmoidme(normalizeme(da)))\n",
      "#ax3.title('AUD pairs')\n",
      "plt.show()"
     ],
     "language": "python",
     "metadata": {},
     "outputs": []
    },
    {
     "cell_type": "code",
     "collapsed": false,
     "input": [
      "drbrte = q.get(\"DOE/RBRTE\", authtoken=\"WVsyCxwHeYZZyhf5RHs2\")\n",
      "#drbrte"
     ],
     "language": "python",
     "metadata": {},
     "outputs": []
    },
    {
     "cell_type": "code",
     "collapsed": false,
     "input": [
      "import numpy as n\n",
      "\n",
      "def plotB(d):\n",
      "    r = range(0,len(d))\n",
      "    #plot(r)\n",
      "    res = n.power(2,r)\n",
      "    ic = 10\n",
      "    #res\n",
      "    \n",
      "    hds = []\n",
      "    hds.append('Value')\n",
      "    \n",
      "    d['ex1'] = ic * n.power(1 + 0.37 / 100, r)\n",
      "    #res1 = n.power(1 + 0.6 / 100, r)\n",
      "    hds.append('ex1')\n",
      "    \n",
      "    d['ex2'] = ic * n.power(1 + 0.29 / 100, r)\n",
      "    #res2 = n.power(1 + 0.48 / 100, r)\n",
      "    hds.append('ex2')\n",
      "    \n",
      "    d['ex3'] = ic * n.power(1 + 0.19 / 100, r)\n",
      "    hds.append('ex3')\n",
      "    \n",
      "    res = d.ix[0:700,hds]\n",
      "    #print d\n",
      "    #print res\n",
      "    plot(res)\n",
      "    legend(['value','ex1','ex2','ex3'])\n",
      "\n",
      "#print drbrte\n",
      "#plot(drbrte.ix[:,['Value']])\n",
      "plotB(drbrte)"
     ],
     "language": "python",
     "metadata": {},
     "outputs": []
    },
    {
     "cell_type": "code",
     "collapsed": false,
     "input": [
      "res\n",
      "y = res.ix[:,'Close']\n",
      "y"
     ],
     "language": "python",
     "metadata": {},
     "outputs": []
    },
    {
     "cell_type": "code",
     "collapsed": false,
     "input": [
      "df = p.DataFrame()\n",
      "df = df.combine_first(quandlGetPreMunge(\"BCHAIN/BCDDE\",    'Value', 'BCDDE').ix[:,  ['BCDDE']])\n",
      "df = df.combine_first(quandlGetPreMunge(\"BCHARTS/BTCEUSD\", 'Close', 'BTCEUSD').ix[:,['BTCEUSD']])\n",
      "df = df.combine_first(quandlGetPreMunge(\"BCHAIN/TOUTV\",    'Value', 'TOUTV').ix[:,  ['TOUTV']])\n",
      "df = df.combine_first(quandlGetPreMunge(\"BCHAIN/MIREV\",    'Value', 'MIREV').ix[:,  ['MIREV']])\n",
      "df = df.combine_first(quandlGetPreMunge(\"BCHAIN/NETDF\",    'Value', 'NETDF').ix[:,  ['NETDF']])\n",
      "\n",
      "df.plot(style='.')\n",
      "show();"
     ],
     "language": "python",
     "metadata": {},
     "outputs": []
    },
    {
     "cell_type": "code",
     "collapsed": false,
     "input": [
      "import Quandl as q\n",
      "d = q.get(\"BCHARTS/BTCEUSD\", authtoken=\"WVsyCxwHeYZZyhf5RHs2\")\n",
      "#print d\n",
      "plot(d.ix[:,['Close']])"
     ],
     "language": "python",
     "metadata": {},
     "outputs": []
    },
    {
     "cell_type": "code",
     "collapsed": false,
     "input": [
      "#print d.ix[:,['Close']]\n",
      "#print len(d)\n",
      "a = n.array(d.ix[0:len(d),['Close']]).transpose().tolist()[0]\n",
      "b = n.array(d.ix[1:len(d),['Close']]).transpose().tolist()[0]\n",
      "b.insert(len(de),0)\n",
      "#print len(a)\n",
      "#print len(b)\n",
      "#print a[0]\n",
      "de = p.DataFrame(index=d.index)\n",
      "#print len(de)\n",
      "\n",
      "de['a'] = a\n",
      "de['b'] = b\n",
      "# tomorrow opens higher\n",
      "de['c'] = n.array((de.ix[:,'a'] - de.ix[:,'b']) < 0)\n",
      "#print \n",
      "print de.tail(10)\n"
     ],
     "language": "python",
     "metadata": {},
     "outputs": []
    },
    {
     "cell_type": "code",
     "collapsed": false,
     "input": [
      "import Quandl as q\n",
      "def quandlget(t):\n",
      "    return q.get(t, authtoken=\"WVsyCxwHeYZZyhf5RHs2\")\n",
      "\n",
      "BCHAIN_NTRAN = quandlget(\"BCHAIN/NTRAN\")\n",
      "BCHAIN_MKTCP = quandlget(\"BCHAIN/MKTCP\")\n",
      "BCHAIN_TOTBC = quandlget(\"BCHAIN/TOTBC\")\n",
      "BCHAIN_NTRAT = quandlget(\"BCHAIN/NTRAT\")\n",
      "BCHAIN_HRATE = quandlget(\"BCHAIN/HRATE\")\n",
      "BCHAIN_ETRVU = quandlget(\"BCHAIN/ETRVU\")\n",
      "BCHAIN_NADDU = quandlget(\"BCHAIN/NADDU\")\n",
      "BCHAIN_AVBLS = quandlget(\"BCHAIN/AVBLS\")\n",
      "BCHAIN_MIREV = quandlget(\"BCHAIN/MIREV\")"
     ],
     "language": "python",
     "metadata": {},
     "outputs": []
    },
    {
     "cell_type": "code",
     "collapsed": false,
     "input": [
      "\"\"\"\n",
      "plot(BCHAIN_HRATE)\n",
      "plot(BCHAIN_NTRAN)\n",
      "plot(BCHAIN_MKTCP)\n",
      "plot(BCHAIN_TOTBC)\n",
      "plot(BCHAIN_NTRAT)\n",
      "plot(BCHAIN_HRATE)\n",
      "plot(BCHAIN_ETRVU)\n",
      "plot(BCHAIN_NADDU)\n",
      "plot(BCHAIN_AVBLS)\n",
      "plot(BCHAIN_MIREV)\n",
      "\"\"\""
     ],
     "language": "python",
     "metadata": {},
     "outputs": []
    },
    {
     "cell_type": "code",
     "collapsed": false,
     "input": [
      "import pandas as p\n",
      "dd = p.DataFrame()\n",
      "dd['BCHAIN_NTRAN'] = BCHAIN_NTRAN.ix[:,'Value']\n",
      "dd['BCHAIN_MKTCP'] = BCHAIN_MKTCP.ix[:,'Value']\n",
      "dd['BCHAIN_TOTBC'] = BCHAIN_TOTBC.ix[:,'Value']\n",
      "dd['BCHAIN_NTRAT'] = BCHAIN_NTRAT.ix[:,'Value']\n",
      "dd['BCHAIN_HRATE'] = BCHAIN_HRATE.ix[:,'Value']\n",
      "dd['BCHAIN_ETRVU'] = BCHAIN_ETRVU.ix[:,'Value']\n",
      "dd['BCHAIN_NADDU'] = BCHAIN_NADDU.ix[:,'Value']\n",
      "dd['BCHAIN_AVBLS'] = BCHAIN_AVBLS.ix[:,'Value']\n",
      "dd['BCHAIN_MIREV'] = BCHAIN_MIREV.ix[:,'Value']\n",
      "dd['btceusd'] = d.ix[:,['Close']]\n",
      "dd['tomorrowHiger'] = de['c']\n",
      "\n",
      "dd = (dd- n.mean(dd))/n.std(dd)\n",
      "dd = 1 / (1 + n.power(n.e, -dd))\n",
      "#print dd.tail(10)\n",
      "dd.to_csv('test-2131211212.csv')\n",
      "print len(dd)\n",
      "plot(dd,'.')\n",
      "legend(['BCHAIN_NTRAN','BCHAIN_MKTCP','BCHAIN_TOTBC','BCHAIN_NTRAT','BCHAIN_HRATE','BCHAIN_ETRVU','BCHAIN_NADDU','BCHAIN_AVBLS','BCHAIN_MIREV','btceusd','tomorrowHigher'],2)\n"
     ],
     "language": "python",
     "metadata": {},
     "outputs": []
    },
    {
     "cell_type": "code",
     "collapsed": false,
     "input": [
      "import pandas as p\n",
      "import numpy as n\n",
      "res = p.DataFrame(n.array([1, 2, 1, 3, 1, 4, 1, 5]).reshape(4,2))\n",
      "\n",
      "#print n.array([1,5,1,2,1,4,1,5]).reshape(4,2)\n",
      "y=500\n",
      "x=4\n",
      "res = n.array(n.random.randn(y*x)).reshape(y,x)\n",
      "#print n.array([1,6,4,2]).reshape(4,1)\n",
      "plot(res); show();"
     ],
     "language": "python",
     "metadata": {},
     "outputs": []
    }
   ],
   "metadata": {}
  }
 ]
}
