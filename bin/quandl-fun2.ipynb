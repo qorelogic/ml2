{
 "metadata": {
  "name": ""
 },
 "nbformat": 3,
 "nbformat_minor": 0,
 "worksheets": [
  {
   "cells": [
    {
     "cell_type": "code",
     "collapsed": false,
     "input": [
      "%load_ext autoreload\n",
      "%autoreload 2\n",
      "import numpy as n\n",
      "import pandas as p\n",
      "import Quandl as q\n",
      "import datetime as dd\n",
      "from qoreliquid import *\n",
      "from matplotlib import pyplot as plt\n",
      "from pylab import rcParams\n",
      "rcParams['figure.figsize'] = 20, 5"
     ],
     "language": "python",
     "metadata": {},
     "outputs": []
    },
    {
     "cell_type": "code",
     "collapsed": false,
     "input": [
      "quandlSweepDatasources()"
     ],
     "language": "python",
     "metadata": {},
     "outputs": []
    },
    {
     "cell_type": "code",
     "collapsed": false,
     "input": [
      "li =['MIR.M.U2.B.A2A.D.R.1.2240.EUR.N','MIR.M.U2.B.A2A.D.R.2.2240.EUR.N', 'MIR.M.DE.B.A2AC.O.R.A.2240.EUR.N','MIR.M.U2.B.A2A.Q.R.1.2240.EUR.N', 'MIR.M.U2.B.A2A.Q.R.2.2240.EUR.N']\n",
      "for i in xrange(len(li)):\n",
      "    try:\n",
      "        li[i] = 'ECB/'+li[i].replace('.', '_')\n",
      "        #print li[i]\n",
      "        #df = getDataFromQuandl(li[i])\n",
      "        #print df\n",
      "        #plot(df);\n",
      "    except:\n",
      "        ''\n",
      "print li\n",
      "df = getDataFromQuandl(li, columns='Percent per annum')\n",
      "#print df\n",
      "df.plot(); show();\n",
      "#show();"
     ],
     "language": "python",
     "metadata": {},
     "outputs": []
    },
    {
     "cell_type": "code",
     "collapsed": false,
     "input": [
      "#dsets = quandlGetDatasetSourceList('ECB', pg=1)\n",
      "#print p.DataFrame(dsets['docs'])"
     ],
     "language": "python",
     "metadata": {},
     "outputs": []
    },
    {
     "cell_type": "code",
     "collapsed": false,
     "input": [
      "from qoreliquid import *\n",
      "#dsets = quandlGetDatasetSourceList('CRYPTOCHART')\n",
      "#dsets = quandlGetDatasetSourceList('CBOEFE')\n",
      "dsets = quandlGetDatasetSourceList('ECB', pg=2)\n",
      "\n",
      "#print p.DataFrame(dsets['docs'])\n",
      "#print dsets\n",
      "#print p.DataFrame(dsets['docs'])\n",
      "for i in xrange(1, int(ceil(dsets['total_count'] / 300))):\n",
      "    print 'page: {0}'.format(i)\n",
      "    dsetsi = quandlGetDatasetSourceList('ECB', pg=i)\n",
      "    li = []\n",
      "    for j in list(p.DataFrame(dsetsi['docs']).ix[:,'code'].get_values()):\n",
      "        li.append(str('ECB/'+j))\n",
      "    #print li\n",
      "    print li[1:5]\n",
      "    print getDataFromQuandl(li[0:50], columns='P').fillna(0)\n",
      "    break\n",
      "    \n",
      "    for j in xrange(len(li)):\n",
      "        try:\n",
      "            df = getDataFromQuandl(li[j])\n",
      "            print df.tail()\n",
      "            #df.plot(); show();\n",
      "        except:\n",
      "            ''\n",
      "        break\n",
      "    break"
     ],
     "language": "python",
     "metadata": {},
     "outputs": []
    },
    {
     "cell_type": "code",
     "collapsed": false,
     "input": [
      "for i in 'abcdefghijklmnopqrstuvwxyz':\n",
      "    print t234(i)"
     ],
     "language": "python",
     "metadata": {},
     "outputs": []
    },
    {
     "cell_type": "code",
     "collapsed": false,
     "input": [
      "def t234(q):\n",
      "    res = fetchURL('https://www.quandl.com/api/v1/datasets.json?query='+q+'&per_page=50&page=2', mode='json', fromCache=False)\n",
      "    try:\n",
      "        print res.keys()\n",
      "        print 'sources:'\n",
      "        try:\n",
      "            for i in res['sources']:\n",
      "                print i\n",
      "                print i['code']+','+i['name']+','+i['datasets_count']+','+i['description']\n",
      "                print '-----'\n",
      "        except:\n",
      "            ''\n",
      "        print '--------------------'\n",
      "    except:\n",
      "        ''\n",
      "    return ''\n",
      "    \n",
      "print t234('crude+oil')\n",
      "#print t234('student')\n",
      "#print t234('a')\n"
     ],
     "language": "python",
     "metadata": {},
     "outputs": []
    },
    {
     "cell_type": "code",
     "collapsed": false,
     "input": [
      "print fetchURL('https://www.quandl.com/api/v1/datasets/FRED/GDP.csv', mode='csv', fromCache=False)\n",
      "#dcsv\n",
      "#import StringIO as sio\n",
      "#dcsvb = sio.StringIO()\n",
      "#dcsvb.write(dcsv)\n",
      "#dcsv.seek(0)\n",
      "#print dcsvb.read()\n",
      "#print dcsv\n",
      "#p.read_csv(dcsvb)"
     ],
     "language": "python",
     "metadata": {},
     "outputs": []
    },
    {
     "cell_type": "code",
     "collapsed": false,
     "input": [
      "d = getDataFromQuandl(['LBMA/GOLD'], dataset='')\n",
      "#print list(d.columns)[[0:1]]\n",
      "print list(d.columns[[0,4]])\n",
      "#print d.ix[:,d.columns[0,1]]"
     ],
     "language": "python",
     "metadata": {},
     "outputs": []
    },
    {
     "cell_type": "code",
     "collapsed": false,
     "input": [
      "rcParams['figure.figsize'] = 20, 20\n",
      "#headers = None\n",
      "headers = [0,1,88]\n",
      "searchQuandl('EUR-GBP', mode='combineplot', returndataset=False, headers=headers, listcolumns=False)"
     ],
     "language": "python",
     "metadata": {},
     "outputs": []
    },
    {
     "cell_type": "code",
     "collapsed": false,
     "input": [
      "tks = []\n",
      "tks.append('LBMA/GOLD') # Gold\n",
      "tks.append('DOE/RBRTE') # Europe Brent Crude Oil Spot Price FOB\n",
      "tks.append('CHRIS/CME_CL1') # Crude Oil Futures, Continuous Contract #1 (CL1) (Front Month)\n",
      "tks.append('BAVERAGE/USD') # USD/BITCOIN Weighted Price\n",
      "#d = q.get(tks)\n",
      "#d = getDataFromQuandl(tks, dataset='')\n",
      "#d = d.bfill()\n",
      "#d.plot()\n",
      "quickPlot(tks, [13])\n",
      "show()"
     ],
     "language": "python",
     "metadata": {},
     "outputs": []
    },
    {
     "cell_type": "code",
     "collapsed": false,
     "input": [
      "from sys import stderr, stdout\n",
      "from re import compile\n",
      "\n",
      "filename = \"linpack.out\"\n",
      "fpnum = r'\\d+\\.\\d+E[+-]\\d\\d'\n",
      "fpnum_1 = fpnum + r' +'\n",
      "pattern = compile(r'^ *' + fpnum_1 + fpnum_1 + fpnum_1 + \\\n",
      "    r'(' + fpnum + r') +' + fpnum_1 + fpnum + r' *\\n$')\n",
      "speeds = [0.0,1.0e75,0.0]\n",
      "\n",
      "file = open(filename)\n",
      "count = 0\n",
      "while file :\n",
      "    line = file.readline()\n",
      "    if not line :\n",
      "        break\n",
      "    if pattern.match(line) :\n",
      "        count = count+1\n",
      "        x = float(pattern.sub(r'\\1',line))\n",
      "        if x < 1.0 :\n",
      "            print count\n",
      "        speeds[0] = speeds[0]+x\n",
      "        speeds[1] = min(speeds[1],x)\n",
      "        speeds[2] = max(speeds[2],x)\n",
      "file.close()\n",
      "if count != 0 :\n",
      "    speeds[0] = speeds[0]/count\n",
      "\n",
      "stdout.write(\"%6.1f MFlops (%d from %.1f to %.1f)\\n\" % \\\n",
      "    (speeds[0],count,speeds[1],speeds[2]))\n"
     ],
     "language": "python",
     "metadata": {},
     "outputs": []
    }
   ],
   "metadata": {}
  }
 ]
}