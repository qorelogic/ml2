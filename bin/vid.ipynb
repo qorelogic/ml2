{
 "cells": [
  {
   "cell_type": "code",
   "execution_count": null,
   "metadata": {
    "collapsed": false
   },
   "outputs": [],
   "source": [
    "# get real time video of screen\n",
    "import numpy as np\n",
    "import pandas as p\n",
    "import cv2\n",
    "from mss import mss\n",
    "from PIL import Image\n",
    "\n",
    "#mon = {'top': 160, 'left': 160, 'width': 200, 'height': 200}\n",
    "mon = {'top': 715, 'left': 50, 'width': 150, 'height': 46}\n",
    "\n",
    "sct = mss()\n",
    "\n",
    "while 1:\n",
    "    #print 'test'\n",
    "    sct.get_pixels(mon)\n",
    "    #print sct\n",
    "    img = Image.frombyteses('RGB', (sct.width, sct.height), sct.image)\n",
    "    df = np.array(img)\n",
    "    #print df.shape\n",
    "    with p.option_context('display.max_rows', 4000, 'display.max_columns', 4000, 'display.width', 1000000):\n",
    "        df = p.DataFrame(df[:,:,0])\n",
    "        #df = df.transpose()\n",
    "        #print df.shape\n",
    "        #print df.ix[:,0:62]\n",
    "    #print df\n",
    "    #print df[:,:,0]\n",
    "    #print df[:,:,1]\n",
    "    #print df[:,:,2]\n",
    "    cv2.imshow('test', np.array(img))\n",
    "    if cv2.waitKey(25) & 0xFF == ord('q'):\n",
    "        cv2.destroyAllWindows()\n",
    "        break\n",
    "    #break"
   ]
  }
 ],
 "metadata": {
  "kernelspec": {
   "display_name": "Python 2",
   "language": "python",
   "name": "python2"
  },
  "language_info": {
   "codemirror_mode": {
    "name": "ipython",
    "version": 2
   },
   "file_extension": ".py",
   "mimetype": "text/x-python",
   "name": "python",
   "nbconvert_exporter": "python",
   "pygments_lexer": "ipython2",
   "version": "2.7.6"
  }
 },
 "nbformat": 4,
 "nbformat_minor": 0
}
