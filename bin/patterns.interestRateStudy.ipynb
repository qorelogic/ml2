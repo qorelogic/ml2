{
 "cells": [
  {
   "cell_type": "code",
   "execution_count": null,
   "metadata": {
    "collapsed": false
   },
   "outputs": [],
   "source": [
    "import numpy as n\n",
    "import pandas as p\n",
    "from matplotlib import pyplot as plt\n",
    "from pylab import rcParams\n",
    "%pylab inline\n",
    "rcParams['figure.figsize'] = 20, 5"
   ]
  },
  {
   "cell_type": "code",
   "execution_count": null,
   "metadata": {
    "collapsed": false
   },
   "outputs": [],
   "source": [
    "print n.sqrt(11.)\n",
    "#n.power(1.0/5, 1.0/n.e)\n",
    "print n.log(5)\n",
    "print n.e ** n.log(5)\n",
    "print n.log10(1000)\n",
    "print n.power(n.e, (n.log(1./2.*(0-7)))/(n.e))"
   ]
  },
  {
   "cell_type": "code",
   "execution_count": null,
   "metadata": {
    "collapsed": false
   },
   "outputs": [],
   "source": [
    "x = n.linspace(0,15,100)\n",
    "#y = n.power(n.array(range(1,10), dtype=float), -3.0)\n",
    "# g(x) = −1/4x^2+7\n",
    "#y = ((-1./4)*n.power(x, 2))+7\n",
    "y = (-n.power(x, 2)/10)+7\n",
    "# h(x) = −1/2(x^e)+7\n",
    "#y = (-1. / 2 * (n.power((n.array(x, dtype=float)), n.e))) + 7\n",
    "# i(x) = 7e^(−x/2)\n",
    "#y = 7 * n.power(n.e, -n.array(range(1,100), dtype=float)/2)\n",
    "\n",
    "#y = x+7\n",
    "df = p.DataFrame(y, index=x)\n",
    "df.plot()"
   ]
  },
  {
   "cell_type": "code",
   "execution_count": null,
   "metadata": {
    "collapsed": false
   },
   "outputs": [],
   "source": [
    "initialCapital = 10\n",
    "df = p.DataFrame(n.array(range(1,10)))\n",
    "df.ix[:,1] = 1\n",
    "df.ix[:,2] = initialCapital * (0 + df.ix[:,1] / 100)\n",
    "df.ix[:,3] = initialCapital + df.ix[:,2]\n",
    "df.ix[:,4] = initialCapital + n.cumsum(df[2])\n",
    "df.ix[1:8,5] = df.ix[-1:7,3] * (0 + df.ix[1:8,1] / 100)\n",
    "\n",
    "x = n.linspace(0,15,9)\n",
    "y = (-n.power(x, 2)/10)+7\n",
    "df.ix[:,17] = initialCapital * n.power((1 + y / 100), df.ix[:,0])\n",
    "\n",
    "df.ix[:,18] = initialCapital * n.power((1 + df.ix[:,1] / 100), df.ix[:,0])\n",
    "df.ix[:,19] = initialCapital * n.power((0 + df.ix[:,1] / 100), df.ix[:,0])\n",
    "df.ix[:,20] = n.cumsum(df[2])\n",
    "print df\n",
    "#df.plot()"
   ]
  },
  {
   "cell_type": "code",
   "execution_count": null,
   "metadata": {
    "collapsed": false
   },
   "outputs": [],
   "source": [
    "cc = [1, 2]\n",
    "ps = 10 * n.power(1 + n.matrix(cc, dtype=float).T/100, n.matrix(range(0, 36)))\n",
    "df = p.DataFrame(ps, index=cc)\n",
    "df = df.transpose()\n",
    "#print df#.transpose()\n",
    "df.ix[:,3] = 11\n",
    "df.plot()"
   ]
  }
 ],
 "metadata": {
  "kernelspec": {
   "display_name": "Python 2",
   "language": "python",
   "name": "python2"
  },
  "language_info": {
   "codemirror_mode": {
    "name": "ipython",
    "version": 2
   },
   "file_extension": ".py",
   "mimetype": "text/x-python",
   "name": "python",
   "nbconvert_exporter": "python",
   "pygments_lexer": "ipython2",
   "version": "2.7.6"
  }
 },
 "nbformat": 4,
 "nbformat_minor": 0
}
