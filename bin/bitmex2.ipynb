{
 "cells": [
  {
   "cell_type": "code",
   "execution_count": null,
   "metadata": {
    "scrolled": true
   },
   "outputs": [],
   "source": [
    "import pandas as p\n",
    "url = 'https://etherscan.io/txsInternal?a=0xea3f1b409f5e9211eed087c9f5f621d1249b3e7b'\n",
    "from qore import *\n",
    "xp = XPath()\n",
    "xcols = {\n",
    "    #'to'      : '/html/body/div[1]/div[4]/div[2]/div/div/div/table/tbody/tr/td[6]/span/a/text()',\n",
    "    'value'   : '/html/body/div[1]/div[4]/div[2]/div/div/div/table/tbody/tr/td[7]/text()',\n",
    "}\n",
    "res = xp.xpath2df(url, xcols)\n",
    "p.DataFrame(res)"
   ]
  },
  {
   "cell_type": "code",
   "execution_count": null,
   "metadata": {},
   "outputs": [],
   "source": [
    "%pylab inline\n",
    "import numpy as n\n",
    "from bitmex import apiRequest\n",
    "\n",
    "%reload_ext autoreload\n",
    "%autoreload 2\n",
    "%pylab inline\n",
    "from qoreliquid import *\n",
    "import numpy as n\n",
    "from bitmex import CoinMarketCap\n",
    "from pylab import rcParams\n",
    "rcParams['figure.figsize'] = 20, 5\n",
    "import seaborn as sns\n",
    "sns.set()\n",
    "cmc = CoinMarketCap()"
   ]
  },
  {
   "cell_type": "code",
   "execution_count": null,
   "metadata": {},
   "outputs": [],
   "source": [
    "dft = cmc.getAllTokens()"
   ]
  },
  {
   "cell_type": "code",
   "execution_count": null,
   "metadata": {},
   "outputs": [],
   "source": [
    "balance    = 1700\n",
    "balanceRisk = 47.43 #float(1700) / 100 * 50\n",
    "#sort = 'marketCap'\n",
    "#sort = 'pcnt1h'\n",
    "sort = 'balanceMarketcapPcnt'\n",
    "sort = 'volumePerMarketCap'\n",
    "sort = 't1Supply'\n",
    "#sort = 'marketCapPcntTo1e6'\n",
    "\n",
    "df = dft.fillna(0)\n",
    "df['balanceMarketcapPcnt'] = balanceRisk / df['marketCap'] * 100\n",
    "\n",
    "dff = df\n",
    "\n",
    "dff['marketCapPcntTo1e6'] = dff['marketCap'] * 100 / 1e6\n",
    "dff['marketCapPcntTo1e7'] = dff['marketCap'] * 100 / 1e7\n",
    "\n",
    "dff = dff[ dff['marketCap'] >  0.0 ]\n",
    "dff = dff[ dff['volume']    > 10.0 ]\n",
    "dff['circulatingSupply'] = dff['marketCap'] / dff['price']\n",
    "dff['volumePerMarketCap'] = dff['volume'] / dff['marketCap']\n",
    "\n",
    "goal = 'marketCapPcntTo1e7'\n",
    "dff['balanceRisk'] = balanceRisk\n",
    "dff['riskOn'] = balanceRisk / dff[goal] * 100\n",
    "\n",
    "# models\n",
    "dff['t1Supply'] = dff['balanceMarketcapPcnt']**2 * dff['volumePerMarketCap']**3 / dff[goal]**2\n",
    "\n",
    "df = dff\n",
    "df = df.set_index('symbol')\n",
    "\n",
    "df = df[df['token'] == 'ethereum']\n",
    "df = df.sort_values(by=sort, ascending=False)\n",
    "df#['id']"
   ]
  },
  {
   "cell_type": "code",
   "execution_count": null,
   "metadata": {
    "scrolled": false
   },
   "outputs": [],
   "source": [
    "for i in list(df.head(20)['id']):\n",
    "    cmc.glo(i)"
   ]
  },
  {
   "cell_type": "code",
   "execution_count": null,
   "metadata": {},
   "outputs": [],
   "source": [
    "#for i in 'bitcoin ethereum kin'.split(' '):\n",
    "# b3 == pump n dump example\n",
    "for i in 'b3coin'.split(' '):\n",
    "    cmc.glo(i)"
   ]
  }
 ],
 "metadata": {
  "kernelspec": {
   "display_name": "Python 2",
   "language": "python",
   "name": "python2"
  },
  "language_info": {
   "codemirror_mode": {
    "name": "ipython",
    "version": 2
   },
   "file_extension": ".py",
   "mimetype": "text/x-python",
   "name": "python",
   "nbconvert_exporter": "python",
   "pygments_lexer": "ipython2",
   "version": "2.7.6"
  }
 },
 "nbformat": 4,
 "nbformat_minor": 2
}
