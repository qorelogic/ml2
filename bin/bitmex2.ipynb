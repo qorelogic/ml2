{
 "cells": [
  {
   "cell_type": "code",
   "execution_count": null,
   "metadata": {},
   "outputs": [],
   "source": [
    "%reload_ext autoreload\n",
    "%autoreload 2\n",
    "\n",
    "import sys\n",
    "def defp(pt):\n",
    "    try:    sys.path.index(pt)\n",
    "    except: sys.path.append(pt)\n",
    "#defp('/ml.dev/bin')\n",
    "\n",
    "from qoreliquid import *\n",
    "\n",
    "\"\"\"\n",
    "from bitmex import desc\n",
    "from bitmex import apiRequest\n",
    "from bitmex import CoinMarketCap\n",
    "from bitmex import CoinMarketCap\n",
    "from bitmex import PortfolioModeler\n",
    "\"\"\"\n",
    "from bitmex import *\n",
    "\n",
    "%pylab inline\n",
    "import numpy as n\n",
    "\n",
    "from pylab import rcParams\n",
    "rcParams['figure.figsize'] = 20, 5\n",
    "import seaborn as sns\n",
    "sns.set()\n",
    "\n",
    "pm = PortfolioModeler()\n",
    "cmc = CoinMarketCap()"
   ]
  },
  {
   "cell_type": "code",
   "execution_count": null,
   "metadata": {
    "scrolled": true
   },
   "outputs": [],
   "source": [
    "import pandas as p\n",
    "url = 'https://etherscan.io/txsInternal?a=0xea3f1b409f5e9211eed087c9f5f621d1249b3e7b'\n",
    "from qore import *\n",
    "xp = XPath()\n",
    "xcols = {\n",
    "    #'to'      : '/html/body/div[1]/div[4]/div[2]/div/div/div/table/tbody/tr/td[6]/span/a/text()',\n",
    "    'value'   : '/html/body/div[1]/div[4]/div[2]/div/div/div/table/tbody/tr/td[7]/text()',\n",
    "}\n",
    "res = xp.xpath2df(url, xcols)\n",
    "p.DataFrame(res)"
   ]
  },
  {
   "cell_type": "code",
   "execution_count": null,
   "metadata": {
    "scrolled": false
   },
   "outputs": [],
   "source": [
    "#none = desc(df)\n",
    "#pp = sns.pairplot(df)\n",
    "#plt.show()\n",
    "#none"
   ]
  },
  {
   "cell_type": "code",
   "execution_count": null,
   "metadata": {
    "scrolled": false
   },
   "outputs": [],
   "source": [
    "# Binance PoC\n",
    "b = Binance()\n",
    "#dfbnb = b.getCurrencies()\n",
    "dfbnb = dfbnb[dfbnb['base'] == 'ETH']\n",
    "li = list(dfbnb['quote'])\n",
    "dft = cmc.getAllTokens(tokens=False)\n",
    "#dft1s = dft[dft['marketCap'] <= 1e6]\n",
    "dft1s = pm.generatePortfolioT1Supply(dft, balance=(4129.06), risk=1)\n",
    "dft1s = dft1s.loc[li,:]\n",
    "dft1s \\\n",
    "    .sort_values(by='balanceMarketcapPcnt', ascending=False)\n",
    "    #.sort_values(by='pcnt7d', ascending=True)\n",
    "    #.sort_values(by='volumePerMarketcap', ascending=False)\n",
    "#dft1s.sort_values(by='balanceMarketcapPcnt', ascending=False).loc[:,'pcnt7d'].plot()"
   ]
  },
  {
   "cell_type": "code",
   "execution_count": null,
   "metadata": {
    "scrolled": true
   },
   "outputs": [],
   "source": [
    "dft = cmc.getAllTokens(tokens=False)\n",
    "dft = dft[dft['marketCap'] <= 1e6]#.sort_values(by='balanceMarketcapPcnt', ascending=False)\n",
    "dft.sort_values(by='volumePerMarketcap', ascending=False)"
   ]
  },
  {
   "cell_type": "code",
   "execution_count": null,
   "metadata": {
    "scrolled": true
   },
   "outputs": [],
   "source": [
    "###### dft = cmc.getAllTokens(tokens=False)\n",
    "dft = cmc.getAllTokens(tokens=True)\n",
    "#print dft\n",
    "#cmc.tokens\n",
    "df = pm.generatePortfolioT1Supply(dft, balance=(3800), risk=1)\n",
    "ids = list(df['id'])\n",
    "#print ids\n",
    "dfp = genDFP(ids, max=15)\n",
    "#dfp\n",
    "df#['id']"
   ]
  },
  {
   "cell_type": "code",
   "execution_count": null,
   "metadata": {},
   "outputs": [],
   "source": [
    "#df = df.head(300)\n",
    "#df[fi] = map(lambda x: x.decode('utf-8').strip(), df[fi])\n",
    "#pp = sns.pairplot(df)#, hue=fi)\n",
    "#plt.show()"
   ]
  },
  {
   "cell_type": "code",
   "execution_count": null,
   "metadata": {
    "scrolled": false
   },
   "outputs": [],
   "source": [
    "#port = 'PPP XRL BBT SALT PPT TAAS SIFT PAY OMG KIN AIR PLR LINK RHOC CDT DNT RDN POWR CAT ENG PRO KNC SND AVT HMQ MGO ZRX VERI CVC EOS'\n",
    "#port = 'XRP STEEM PRO BNB PPP BRAT BCD SALT KIN PLR RHOC PPT CVC CDT NEWB BAS PAY EOS DOM XRL LINK TNT BAT DNT SNT SKIN FUCK NIO HMQ IXT MSP IND DENT FUN BET'\n",
    "port = 'CHC QRL BCC XRL RHOC KIN PPT SALT CDT BRAT PAY MBRS XRL EOS TAAS BNB HMQ OMG WINGS POE CTR LINK SKIN FUCK BAT CVC MCO SNT PPP CAT DOM BBT BET STX TIX DNT MGO VERI ICN NIO BQX TNT ZRX IXT MSP IND FUN LRC PLR'\n",
    "dfp = genDFP(port)\n",
    "dfp"
   ]
  },
  {
   "cell_type": "code",
   "execution_count": null,
   "metadata": {
    "scrolled": false
   },
   "outputs": [],
   "source": [
    "clustermap(dfp, verbose=True, figsize=10)"
   ]
  },
  {
   "cell_type": "code",
   "execution_count": null,
   "metadata": {
    "scrolled": true
   },
   "outputs": [],
   "source": [
    "# Load the brain networks example dataset\n",
    "df = sns.load_dataset(\"brain_networks\", header=[0, 1, 2], index_col=0)\n",
    "\n",
    "# Select a subset of the networks\n",
    "used_networks = [1, 5, 6, 7, 8, 12, 13, 17]\n",
    "used_columns = (df.columns.get_level_values(\"network\")\n",
    "                          .astype(int)\n",
    "                          .isin(used_networks))\n",
    "df = df.loc[:, used_columns]\n",
    "\n",
    "# Create a categorical palette to identify the networks\n",
    "network_pal = sns.husl_palette(8, s=.45)\n",
    "#print network_pal\n",
    "network_lut = dict(zip(map(str, used_networks), network_pal))\n",
    "\n",
    "# Convert the palette to vectors that will be drawn on the side of the matrix\n",
    "networks = df.columns.get_level_values(\"network\")\n",
    "network_colors = p.Series(networks, index=df.columns).map(network_lut)\n",
    "\n",
    "# Draw the full plot\n",
    "sns.clustermap(df.corr(), center=0, cmap=\"vlag\",\n",
    "               row_colors=network_colors, col_colors=network_colors,\n",
    "               linewidths=.75, figsize=(13, 13))\n",
    "#dfd = desc(df)\n",
    "#df\n",
    "df#.corr()"
   ]
  },
  {
   "cell_type": "code",
   "execution_count": null,
   "metadata": {},
   "outputs": [],
   "source": [
    "dfm = cmc.glo('ethereum')\n",
    "dfm"
   ]
  },
  {
   "cell_type": "code",
   "execution_count": null,
   "metadata": {
    "scrolled": true
   },
   "outputs": [],
   "source": [
    "li = list(df['id'].head(30))\n",
    "print ' '.join(li)\n",
    "for i in li:\n",
    "    try:\n",
    "        dfm = cmc.glo(i)\n",
    "        plt.show()\n",
    "    except: ''"
   ]
  },
  {
   "cell_type": "code",
   "execution_count": null,
   "metadata": {
    "scrolled": false
   },
   "outputs": [],
   "source": [
    "# show portfolio  charts\n",
    "port = 'PPP XRL BBT SALT PPT TAAS SIFT PAY OMG KIN AIR PLR LINK RHOC CDT DNT RDN POWR CAT ENG PRO KNC SND AVT HMQ MGO ZRX VERI CVC EOS'\n",
    "li = list(df.loc[port.split(' '),['id']]['id'])\n",
    "#print ' '.join(li)\n",
    "for i in list(li):\n",
    "    try:\n",
    "        cmc.glo(i)\n",
    "        plt.show()\n",
    "    except: ''"
   ]
  },
  {
   "cell_type": "code",
   "execution_count": null,
   "metadata": {
    "scrolled": true
   },
   "outputs": [],
   "source": [
    "# show portfolio eth1 charts\n",
    "port = 'XRP STEEM PRO BNB PPP BRAT BCD SALT KIN PLR RHOC PPT CVC CDT NEWB BAS PAY EOS DOM XRL LINK TNT BAT DNT SNT SKIN FUCK NIO HMQ IXT MSP IND DENT FUN BET'\n",
    "li = list(df.loc[port.split(' '),['id']]['id'])\n",
    "#print ' '.join(li)\n",
    "for i in list(li):\n",
    "    try:\n",
    "        cmc.glo(i)\n",
    "        plt.show()\n",
    "    except: ''"
   ]
  },
  {
   "cell_type": "code",
   "execution_count": null,
   "metadata": {
    "scrolled": true
   },
   "outputs": [],
   "source": [
    "# show portfolio eth2 charts\n",
    "port = 'CHC QRL BCC XRL RHOC KIN PPT SALT CDT BRAT PAY MBRS XRL EOS TAAS BNB HMQ OMG WINGS POE CTR LINK SKIN FUCK BAT CVC MCO SNT PPP CAT DOM BBT BET STX TIX DNT MGO VERI ICN NIO BQX TNT ZRX IXT MSP IND FUN LRC PLR'\n",
    "li = list(df.loc[port.split(' '),['id']]['id'])\n",
    "#print ' '.join(li)\n",
    "for i in list(li):\n",
    "    try:\n",
    "        cmc.glo(i)\n",
    "        plt.show()\n",
    "    except: ''"
   ]
  },
  {
   "cell_type": "code",
   "execution_count": null,
   "metadata": {
    "scrolled": true
   },
   "outputs": [],
   "source": [
    "nu = 10\n",
    "for i in list(df.head(nu)['id']):\n",
    "    cmc.glo(i)\n",
    "    plt.show()\n",
    "print '=-=-=-=-=-=-=-=-'\n",
    "print '=-=-=-=-=-=-=-=-'\n",
    "for i in list(df.tail(nu)['id']):\n",
    "    cmc.glo(i)\n",
    "    plt.show()"
   ]
  },
  {
   "cell_type": "code",
   "execution_count": null,
   "metadata": {},
   "outputs": [],
   "source": [
    "#for i in 'bitcoin ethereum kin'.split(' '):\n",
    "# b3 == pump n dump example\n",
    "for i in 'b3coin'.split(' '):\n",
    "    cmc.glo(i)"
   ]
  }
 ],
 "metadata": {
  "kernelspec": {
   "display_name": "Python 2",
   "language": "python",
   "name": "python2"
  },
  "language_info": {
   "codemirror_mode": {
    "name": "ipython",
    "version": 2
   },
   "file_extension": ".py",
   "mimetype": "text/x-python",
   "name": "python",
   "nbconvert_exporter": "python",
   "pygments_lexer": "ipython2",
   "version": "2.7.6"
  }
 },
 "nbformat": 4,
 "nbformat_minor": 2
}
