{
 "cells": [
  {
   "cell_type": "code",
   "execution_count": null,
   "metadata": {
    "collapsed": true
   },
   "outputs": [],
   "source": [
    "%reload_ext autoreload\n",
    "%autoreload 2\n",
    "\n",
    "import sys\n",
    "def defp(pt):\n",
    "    try:    sys.path.index(pt)\n",
    "    except: sys.path.append(pt)\n",
    "#defp('/ml.dev/bin')\n",
    "\n",
    "from qoreliquid import *\n",
    "from bitmex import *\n",
    "\n",
    "import numpy as n\n",
    "import qgrid as qg # https://github.com/quantopian/qgrid#installation\n",
    "\n",
    "%pylab inline\n",
    "from pylab import rcParams\n",
    "rcParams['figure.figsize'] = 20, 5\n",
    "import seaborn as sns\n",
    "sns.set()\n",
    "\n",
    "p.set_option('display.max_rows', 1000)\n",
    "\n",
    "pm = PortfolioModeler()\n",
    "cmc = CoinMarketCap()"
   ]
  },
  {
   "cell_type": "code",
   "execution_count": null,
   "metadata": {
    "collapsed": true
   },
   "outputs": [],
   "source": [
    "#rng = range(-10,10)\n",
    "rng = n.linspace(-10,10,100)\n",
    "x = n.array(rng)\n",
    "y = x**2 #power(x,2)\n",
    "\"\"\"\n",
    "dydx = dydx(y,x)\n",
    "#print x.shape\n",
    "#print y.shape\n",
    "#print dydx.shape\n",
    "#dydx = dydxSym('x**2',x)\n",
    "#print dydx\n",
    "plot(x, dydx)\n",
    "plt.show()\n",
    "\"\"\""
   ]
  },
  {
   "cell_type": "code",
   "execution_count": null,
   "metadata": {
    "collapsed": true,
    "scrolled": false
   },
   "outputs": [],
   "source": [
    "%load_ext line_profiler\n",
    "#@profile\n",
    "def rere():\n",
    "    import pymongo as mong\n",
    "    mon = mong.MongoClient()\n",
    "    mdf = p.DataFrame()\n",
    "    for i in mon.ql.coins.find():\n",
    "        df = p.DataFrame(i)\n",
    "        #df = df.head(10)\n",
    "        res = list(df.loc[:,'data'.split(' ')]['data'])\n",
    "        dfi = p.DataFrame(res)\n",
    "        dfi['q'] = df.index\n",
    "        dfi = dfi.set_index('q')\n",
    "        dfi['time'] = df['time']\n",
    "        dfi['symbolTS'] = map(lambda x: '%s-%s' % (dfi.loc[x, 'symbol'], dfi.loc[x, 'time']), dfi.index)\n",
    "        dfi = dfi.set_index('symbolTS')\n",
    "        #print df\n",
    "        #with p.option_context('display.max_rows', 4000, 'display.max_columns', 4000, 'display.width', 1000000, 'display.max_colwidth', -1):\n",
    "        #    #print dfi\n",
    "        #    #print dfi.shape\n",
    "        mdf = mdf.combine_first(dfi)\n",
    "        #break\n",
    "    with p.option_context('display.max_rows', 400, 'display.max_columns', 4000, 'display.width', 1000000, 'display.max_colwidth', -1):\n",
    "        #print mdf\n",
    "        print mdf.shape\n",
    "%lprun -f rere rere()"
   ]
  },
  {
   "cell_type": "code",
   "execution_count": null,
   "metadata": {
    "collapsed": true,
    "scrolled": true
   },
   "outputs": [],
   "source": [
    "#df = p.read_csv('/tmp/dfi.csv', index_col=[0])\n",
    "#' '.join(list(df.columns))\n",
    "#\n",
    "#df = p.read_csv('/tmp/dfi.csv.0', index_col=[0], header=None)\n",
    "print df.shape\n",
    "#df = df.rename(dict(zip(range(1,11), 'marketCap name pcnt1h pcnt24h pcnt7d price symbol volume volumePerMarketcap time'.split(' '))), axis='columns')\n",
    "print df.columns\n",
    "df['indx'] = df.index\n",
    "\n",
    "\"\"\"\n",
    "#with p.option_context('display.max_rows', 400, 'display.max_columns', 4000, 'display.width', 1000000, 'display.max_colwidth', -1):\n",
    "dfp = df.tail(250).pivot('indx', 'symbol', 'volume')\n",
    "dfp = dfp.ffill().bfill()\n",
    "dfp = normalizeme(dfp)\n",
    "#dfp = sigmoidme(dfp)\n",
    "#print dfp\n",
    "dfp.plot()\n",
    "\"\"\"\n"
   ]
  },
  {
   "cell_type": "code",
   "execution_count": null,
   "metadata": {
    "collapsed": true,
    "scrolled": false
   },
   "outputs": [],
   "source": [
    "mdf = df[df['symbol'] == 'ZRX'].loc[:, 'marketCap price volume time'.split(' ')]#.set_index('time')#.tail(10000)\n",
    "mdf = normalizeme(mdf)\n",
    "#mdf = sigmoidme(mdf)\n",
    "mdf.plot()\n",
    "plt.show()\n",
    "#mdf\n",
    "res = dydx(mdf['volume'], mdf['time'])\n",
    "res = p.DataFrame(res, index=mdf.index, columns=['volume'])\n",
    "#print res\n",
    "res = normalizeme(res)\n",
    "res = sigmoidme(res)\n",
    "res.plot()\n",
    "#res.hist(bins=100)\n",
    "#plt.scatter(res.index, res['volume'])\n",
    "plt.show()"
   ]
  },
  {
   "cell_type": "code",
   "execution_count": null,
   "metadata": {
    "collapsed": true,
    "scrolled": true
   },
   "outputs": [],
   "source": [
    "#nmdf = mdf.get_values()\n",
    "#p.DataFrame(nmdf, columns=mdf.columns, index=mdf.index)\n",
    "mdf0 = mdf\n",
    "#mdf0 = mdf0[(mdf['symbol'] == 'BTC') | (mdf['symbol'] == 'ETH')]\n",
    "#print mdf0.head(5)\n",
    "val = 'volume'\n",
    "val = 'marketCap'\n",
    "mdf0 = mdf0.loc[:,('time symbol %s'%val).split()]#.plot()#.get_values()\n",
    "mdf0 = mdf0[mdf0.index > 1.512845e+09]\n",
    "print mdf0.shape\n",
    "mdf0 = mdf0.drop_duplicates().tail(40000)\n",
    "mdf0 = mdf0.pivot('time', 'symbol',val)\n",
    "#mdf0 = normalizeme(mdf0)\n",
    "#mdf0 = sigmoidme(mdf0)\n",
    "#mdf0.fillna(0).plot()\n",
    "#mdf0 = mdf0.sort_values(by'')\n",
    "#print mdf0\n",
    "fig, ax = plt.subplots(figsize=(30,40))         # Sample figsize in inches\n",
    "#sns.heatmap(mdf0.transpose())\n",
    "#sns.heatmap(mdf0, center=0.5, annot=True, linewidths=0, ax=ax, cmap=\"YlGnBu\")\n",
    "#mdf0#.corr()\n",
    "#desc(mdf0)\n",
    "mdf0"
   ]
  },
  {
   "cell_type": "code",
   "execution_count": null,
   "metadata": {
    "collapsed": true,
    "scrolled": false
   },
   "outputs": [],
   "source": [
    "#print y\n",
    "mmo = mdf0\n",
    "for i in mmo.columns:\n",
    "    y = mmo.loc[:,i].get_values()\n",
    "    x = n.array(list(mmo.index))\n",
    "    res = dydx(y, x)\n",
    "    mmo[i] = res\n",
    "mmo = mmo.fillna(0)\n",
    "\n",
    "df = mmo.get_values()\n",
    "ind = (n.sum(df, 1) > 0)\n",
    "#print df.shape\n",
    "#print ind.shape\n",
    "#print df\n",
    "#print ind\n",
    "df2 = df[ind, :]\n",
    "df2.shape\n",
    "df2\n",
    "\n",
    "mmo = mmo.loc[ind, :]\n",
    "\n",
    "#mmo = mmo.ffill()\n",
    "mmo = normalizeme(mmo)\n",
    "mmo = sigmoidme(mmo)\n",
    "#mmo.plot()\n",
    "#plt.show()\n",
    "mmo"
   ]
  },
  {
   "cell_type": "code",
   "execution_count": null,
   "metadata": {
    "collapsed": true
   },
   "outputs": [],
   "source": [
    "#5000 * ([70 30*[20 80]/100]'/100)\n",
    "\n",
    "#n.array([70, (n.matrix('20 80', dtype=n.float)/100).A])"
   ]
  },
  {
   "cell_type": "code",
   "execution_count": null,
   "metadata": {
    "collapsed": true,
    "scrolled": false
   },
   "outputs": [],
   "source": [
    "none = desc(df)\n",
    "pp = sns.pairplot(df)\n",
    "plt.show()\n",
    "none"
   ]
  },
  {
   "cell_type": "code",
   "execution_count": null,
   "metadata": {
    "collapsed": true,
    "scrolled": false
   },
   "outputs": [],
   "source": [
    "#  all coins volumePerMarketcap / pcnt scatter plot matrix\n",
    "from qoreliquid import normalizeme\n",
    "to = cmc.getAllTokens(tokens=False)\n",
    "ddd = to\n",
    "ddd = pm.generatePortfolioT1Supply(ddd, balance=(4129.06), risk=1)\n",
    "ddd = ddd.sort_values(by='volumePerMarketcap', ascending=False)\n",
    "ddd = ddd.loc[:,'marketCap riskOn volumePerMarketcap vb'.split()]\n",
    "ddd = normalizeme(ddd)\n",
    "ddd = sigmoidme(ddd)\n",
    "ddd.plot()\n",
    "plt.show()\n",
    "#plt.scatter(ddd['marketCap'], ddd['volumePerMarketcap'])\n",
    "#plt.show()\n",
    "#ddd = to.loc[:,'pcnt1h pcnt24h pcnt7d'.split(' ')].fillna(0)\n",
    "ddd = ddd.loc[:,'marketCap riskOn volumePerMarketcap vb'.split(' ')].fillna(0)\n",
    "ddd = normalizeme(ddd)\n",
    "ddd = sigmoidme(ddd)\n",
    "#print ddd\n",
    "sns.pairplot(ddd, size=10)#, hue='pcnt1h')\n",
    "plt.show()\n",
    "\n",
    "none = desc(ddd)\n",
    "#qg.show_grid(ddd)\n",
    "qg.show_grid(ddd, grid_options={'forceFitColumns': False, 'defaultColumnWidth': 100})\n",
    "#cmc.tokensOnOtherExchanges('etherdelta')"
   ]
  },
  {
   "cell_type": "code",
   "execution_count": null,
   "metadata": {
    "collapsed": true,
    "scrolled": true
   },
   "outputs": [],
   "source": [
    "# All Ethereum Tokens PoC\n",
    "tokens=True\n",
    "dfbnb = cmc.getAllTokens(tokens=tokens)\n",
    "#if tokens: dfbnb = dfbnb[dfbnb['quote'] == 'ETH']\n",
    "#else:      dfbnb = dfbnb[dfbnb['quote'] == 'BTC']\n",
    "li = list(dfbnb.index)\n",
    "dft = cmc.getAllTokens(tokens=tokens)\n",
    "#dft1s = dft[dft['marketCap'] <= 1e6]\n",
    "dft1s = pm.generatePortfolioT1Supply(dft, balance=(4129.06), risk=1)\n",
    "dft1s = dft1s.loc[li,:]\n",
    "sortby = 'riskOn'\n",
    "#sortby = 'volumePerMarketcap'\n",
    "#sortby = 'balanceMarketcapPcnt'\n",
    "#sortby = 'pcnt7d'\n",
    "#sortby = 'balanceMarketcapPcnt'\n",
    "dft1s = dft1s.sort_values(by=sortby, ascending=False)\n",
    "#none = desc(dft1s)\n",
    "qg.show_grid(dft1s)\n",
    "v = DataViz()\n",
    "dft1s = v.visualizePortfolio(dft1s, li, figsize=300)\n",
    "#dft1s.sort_values(by='balanceMarketcapPcnt', ascending=False).loc[:,'pcnt7d'].plot()\n",
    "#dft1s"
   ]
  },
  {
   "cell_type": "code",
   "execution_count": null,
   "metadata": {
    "collapsed": true,
    "scrolled": true
   },
   "outputs": [],
   "source": [
    "# Poloniex PoC\n",
    "b = Poloniex()\n",
    "dfbnb = b.getCurrencies()\n",
    "print dfbnb['quote']\n",
    "tokens=True\n",
    "if tokens: dfbnb = dfbnb[dfbnb['quote'] == 'ETH']\n",
    "else:      dfbnb = dfbnb[dfbnb['quote'] == 'BTC']\n",
    "li = list(dfbnb['base'])\n",
    "dft = cmc.getAllTokens(tokens=tokens)\n",
    "#dft1s = dft[dft['marketCap'] <= 1e6]\n",
    "dft1s = pm.generatePortfolioT1Supply(dft, balance=(4129.06), risk=1)\n",
    "dft1s = dft1s.loc[li,:]\n",
    "sortby = 'riskOn'\n",
    "#sortby = 'volumePerMarketcap'\n",
    "#sortby = 'balanceMarketcapPcnt'\n",
    "#sortby = 'pcnt7d'\n",
    "#sortby = 'balanceMarketcapPcnt'\n",
    "dft1s = dft1s.sort_values(by=sortby, ascending=False)\n",
    "#none = desc(dft1s)\n",
    "\n",
    "v = DataViz()\n",
    "dft1s = v.visualizePortfolio(dft1s, li, figsize=300)\n",
    "\n",
    "qg.show_grid(dft1s)\n",
    "#dft1s.sort_values(by='balanceMarketcapPcnt', ascending=False).loc[:,'pcnt7d'].plot()\n",
    "#dft1s"
   ]
  },
  {
   "cell_type": "code",
   "execution_count": null,
   "metadata": {
    "collapsed": true
   },
   "outputs": [],
   "source": [
    "rm -f /mldev/bin/scraper_cache.sqlite"
   ]
  },
  {
   "cell_type": "code",
   "execution_count": null,
   "metadata": {
    "collapsed": true
   },
   "outputs": [],
   "source": [
    "dfbnb.loc['VRS',:]"
   ]
  },
  {
   "cell_type": "code",
   "execution_count": null,
   "metadata": {
    "collapsed": true,
    "scrolled": false
   },
   "outputs": [],
   "source": [
    "# Top 100 coinmarketcap \n",
    "#rmScraperCache()\n",
    "tokens=False\n",
    "cmc=CoinMarketCap()\n",
    "dfbnb = cmc.getAllTokens(tokens=tokens)\n",
    "#if tokens: dfbnb = dfbnb[dfbnb['quote'] == 'ETH']\n",
    "#else:      dfbnb = dfbnb[dfbnb['quote'] == 'BTC']\n",
    "li = list(dfbnb.index)\n",
    "dft = cmc.getAllTokens(tokens=tokens)\n",
    "#dft1s = dft[dft['marketCap'] <= 1e6]\n",
    "dft1s = pm.generatePortfolioT1Supply(dft, balance=(4129.06), risk=1)\n",
    "dft1s = dft1s.loc[li,:]\n",
    "sortby = 'riskOn'\n",
    "#sortby = 'volumePerMarketcap'\n",
    "#sortby = 'balanceMarketcapPcnt'\n",
    "#sortby = 'pcnt7d'\n",
    "#sortby = 'balanceMarketcapPcnt'\n",
    "dft1s = dft1s.sort_values(by=sortby, ascending=False)\n",
    "#none = desc(dft1s)\n",
    "qg.show_grid(dft1s)\n",
    "v = DataViz()\n",
    "v.getAllTokens(tokens=tokens)\n",
    "v.df = v.df.sort_values(by='marketCap', ascending=False).head(100)\n",
    "threshold = 0.5\n",
    "#dft1s = dft1s[(dft1s['vb'] > threshold) & (dft1s['volumePerMarketcap'] > threshold) & (dft1s['riskOn'] > threshold)].sort_values(by='vb', ascending=False)\n",
    "#dft1s = v.visualizePortfolio(dft1s, li, figsize=300)\n",
    "figsize=30\n",
    "showClustermap=True\n",
    "v.heatmap(maxx=1000e9, minn=0, usdt=False, figsize=figsize, sortby=sortby, threshold=threshold)\n",
    "dfs = genDFP(list(v.pdf['id']), max=20, logy=yy, normalize=yy, sigmoid=yy, showPlot=False)\n",
    "cm = clustermap(dfs, verbose=False, figsize=10, showClustermap=showClustermap)\n",
    "#dft1s.sort_values(by='balanceMarketcapPcnt', ascending=False).loc[:,'pcnt7d'].plot()"
   ]
  },
  {
   "cell_type": "code",
   "execution_count": null,
   "metadata": {
    "collapsed": true,
    "scrolled": false
   },
   "outputs": [],
   "source": [
    "# Top 100 coinmarketcap \n",
    "#rmScraperCache()\n",
    "tokens=False\n",
    "cmc=CoinMarketCap()\n",
    "dfbnb = cmc.getAllTokens(tokens=tokens)\n",
    "#if tokens: dfbnb = dfbnb[dfbnb['quote'] == 'ETH']\n",
    "#else:      dfbnb = dfbnb[dfbnb['quote'] == 'BTC']\n",
    "li = list(dfbnb.index)\n",
    "dft = cmc.getAllTokens(tokens=tokens)\n",
    "#dft1s = dft[dft['marketCap'] <= 1e6]\n",
    "dft1s = pm.generatePortfolioT1Supply(dft, balance=(4129.06), risk=1)\n",
    "dft1s = dft1s.loc[li,:]\n",
    "sortby = 'riskOn'\n",
    "#sortby = 'volumePerMarketcap'\n",
    "#sortby = 'balanceMarketcapPcnt'\n",
    "#sortby = 'pcnt7d'\n",
    "#sortby = 'balanceMarketcapPcnt'\n",
    "dft1s = dft1s.sort_values(by=sortby, ascending=False)\n",
    "#none = desc(dft1s)\n",
    "qg.show_grid(dft1s)\n",
    "v = DataViz()\n",
    "v.getAllTokens(tokens=tokens)\n",
    "v.df = v.df.sort_values(by='marketCap', ascending=False).head(100)\n",
    "threshold = 0.35\n",
    "#dft1s = dft1s[(dft1s['vb'] > threshold) & (dft1s['volumePerMarketcap'] > threshold) & (dft1s['riskOn'] > threshold)].sort_values(by='vb', ascending=False)\n",
    "#dft1s = v.visualizePortfolio(dft1s, li, figsize=300)\n",
    "figsize=30\n",
    "showClustermap=True\n",
    "v.heatmap(maxx=1000e9, minn=0, usdt=False, figsize=figsize, sortby=sortby, threshold=threshold)\n",
    "dfs = genDFP(list(v.pdf['id']), max=20, logy=yy, normalize=yy, sigmoid=yy, showPlot=False)\n",
    "cm = clustermap(dfs, verbose=False, figsize=10, showClustermap=showClustermap)\n",
    "#dft1s.sort_values(by='balanceMarketcapPcnt', ascending=False).loc[:,'pcnt7d'].plot()"
   ]
  },
  {
   "cell_type": "code",
   "execution_count": null,
   "metadata": {
    "collapsed": true,
    "scrolled": true
   },
   "outputs": [],
   "source": [
    "# All Ethereum Tokens PoC\n",
    "#rmScraperCache()\n",
    "tokens=True\n",
    "figsize=50\n",
    "threshold = 0.5\n",
    "cmc=CoinMarketCap()\n",
    "dfbnb = cmc.getAllTokens(tokens=tokens)\n",
    "#if tokens: dfbnb = dfbnb[dfbnb['quote'] == 'ETH']\n",
    "#else:      dfbnb = dfbnb[dfbnb['quote'] == 'BTC']\n",
    "li = list(dfbnb.index)\n",
    "dft = cmc.getAllTokens(tokens=tokens)\n",
    "#dft1s = dft[dft['marketCap'] <= 1e6]\n",
    "dft1s = pm.generatePortfolioT1Supply(dft, balance=(4129.06), risk=1)\n",
    "dft1s = dft1s.loc[li,:]\n",
    "sortby = 'riskOn'\n",
    "#sortby = 'volumePerMarketcap'\n",
    "#sortby = 'balanceMarketcapPcnt'\n",
    "#sortby = 'pcnt7d'\n",
    "#sortby = 'balanceMarketcapPcnt'\n",
    "dft1s = dft1s.sort_values(by=sortby, ascending=False)\n",
    "#none = desc(dft1s)\n",
    "qg.show_grid(dft1s)\n",
    "v = DataViz()\n",
    "v.getAllTokens(tokens=True)\n",
    "#dft1s = dft1s[(dft1s['vb'] > threshold) & (dft1s['volumePerMarketcap'] > threshold) & (dft1s['riskOn'] > threshold)].sort_values(by='vb', ascending=False)\n",
    "#dft1s = v.visualizePortfolio(dft1s, li, figsize=300)\n",
    "v.heatmap(maxx=2500e9, minn=0, usdt=False, figsize=figsize, sortby=sortby, threshold=threshold)\n",
    "#try: v.heatmap(maxx=1e9, minn=900e6, usdt=False, figsize=15, sortby=sortby, threshold=threshold)\n",
    "#except: ''\n",
    "#v.heatmap(maxx=100e6, minn=40e6, usdt=False, figsize=figsize, sortby=sortby, threshold=threshold)\n",
    "#try: v.heatmap(maxx=1e9, minn=900e6, usdt=False, figsize=15, sortby=sortby, threshold=threshold)\n",
    "#except: ''\n",
    "#v.heatmap(maxx=40e6, minn=1e6, usdt=False, figsize=figsize, sortby=sortby, threshold=threshold)\n",
    "#v.heatmap(maxx=1e6, minn=100e3, usdt=False, figsize=figsize, sortby=sortby, threshold=threshold)\n",
    "#dft1s.sort_values(by='balanceMarketcapPcnt', ascending=False).loc[:,'pcnt7d'].plot()"
   ]
  },
  {
   "cell_type": "code",
   "execution_count": null,
   "metadata": {
    "collapsed": true,
    "scrolled": true
   },
   "outputs": [],
   "source": [
    "# Yobit PoC\n",
    "yb = Yobit('4E9AB02C1EBD8D3D6DB6E9C416F6889D', '9ab1dfa0ba89b5738396fbd6f0ee7d6d')\n",
    "dfy = yb.getCurrencies()\n",
    "dfbnb = dfy\n",
    "#dfbnb = dfbnb.head(100)\n",
    "dfbnb.sort_values(by='base', ascending=True)\n",
    "#with p.option_context('display.max_rows', 4000, 'display.max_columns', 4000, 'display.width', 1000000, 'display.max_colwidth', -1):\n",
    "#    print dfbnb\n",
    "#print dfbnb['quote']\n",
    "tokens=True\n",
    "if tokens: dfbnb = dfbnb[dfbnb['quote'] == 'ETH']\n",
    "else:      dfbnb = dfbnb[dfbnb['quote'] == 'BTC']\n",
    "li = list(dfbnb['base'])\n",
    "#print li\n",
    "dft = cmc.getAllTokens(tokens=tokens)\n",
    "#dft1s = dft[dft['marketCap'] <= 1e6]\n",
    "dft1s = pm.generatePortfolioT1Supply(dft, balance=(5123.83), risk=2)\n",
    "dft1s = dft1s.loc[li,:]\n",
    "sortby = 'riskOn'\n",
    "sortby = 'vb'\n",
    "#sortby = 'volumePerMarketcap'\n",
    "#sortby = 'balanceMarketcapPcnt'\n",
    "#sortby = 'pcnt7d'\n",
    "#sortby = 'balanceMarketcapPcnt'\n",
    "dft1s = dft1s.sort_values(by=sortby, ascending=False)\n",
    "#none = desc(dft1s)\n",
    "#qg.show_grid(dft1s)\n",
    "#dft1s.sort_values(by='balanceMarketcapPcnt', ascending=False).loc[:,'pcnt7d'].plot()\n",
    "dft1s = dft1s[dft1s['volume'] > 0]\n",
    "v = DataViz()\n",
    "dft1s = v.visualizePortfolio(dft1s, li, figsize=300)\n",
    "qg.show_grid(dft1s.fillna(0), grid_options={'forceFitColumns': False, 'defaultColumnWidth': 100})"
   ]
  },
  {
   "cell_type": "code",
   "execution_count": null,
   "metadata": {
    "collapsed": true
   },
   "outputs": [],
   "source": [
    "# yobit test\n",
    "mdf = p.DataFrame()\n",
    "sdf = dft1s.head(20)\n",
    "for i in list(sdf.index):\n",
    "    mdf = mdf.combine_first(p.DataFrame(apiRequest('https://yobit.net/api/3','/ticker/%s_btc' % i.lower())))\n",
    "mdf = mdf.transpose()\n",
    "mdf['spread'] = mdf['sell'] - mdf['buy']\n",
    "mdf['spreadA'] = mdf['spread'] / mdf['avg'] * 100\n",
    "mdf.sort_values(by='vol', ascending=False)\n",
    "Exchange.getBaseQuote()"
   ]
  },
  {
   "cell_type": "code",
   "execution_count": null,
   "metadata": {
    "collapsed": true
   },
   "outputs": [],
   "source": [
    "# Cryptopia PoC\n",
    "#\"\"\"\n",
    "res = apiRequest('https://www.cryptopia.co.nz/api','/GetCurrencies')\n",
    "df = p.DataFrame(res['Data'])\n",
    "#print df.dtypes\n",
    "print df.shape\n",
    "#print df\n",
    "df.sort_values(by='WithdrawFee', ascending=True)\n",
    "df = df.set_index('Symbol')#.loc['BTC ETH'.split(' '),:]\n",
    "print df.shape\n",
    "df = df.combine_first(dft)\n",
    "#\"\"\"\n",
    "df"
   ]
  },
  {
   "cell_type": "code",
   "execution_count": null,
   "metadata": {
    "collapsed": true,
    "scrolled": false
   },
   "outputs": [],
   "source": [
    "#df\n",
    "li = list(df.index)\n",
    "v = DataViz()\n",
    "v.portfolioVB(li, show=True, figsize=10)"
   ]
  },
  {
   "cell_type": "code",
   "execution_count": null,
   "metadata": {
    "collapsed": true
   },
   "outputs": [],
   "source": [
    "%tb"
   ]
  },
  {
   "cell_type": "code",
   "execution_count": null,
   "metadata": {
    "collapsed": true
   },
   "outputs": [],
   "source": [
    "# run: git pull origin [from the etherdelta source code directory to fetch the latest tokens]\n",
    "#echo '' > etherdelta.tokens.txt; for i in `ls *ejs | cut -d'.' -f 1`; do echo $i >> etherdelta.tokens.txt; echo $i; done"
   ]
  },
  {
   "cell_type": "code",
   "execution_count": null,
   "metadata": {
    "collapsed": true
   },
   "outputs": [],
   "source": [
    "print dft1s.head(20)"
   ]
  },
  {
   "cell_type": "code",
   "execution_count": null,
   "metadata": {
    "collapsed": true,
    "scrolled": true
   },
   "outputs": [],
   "source": [
    "# Etherdelta PoC\n",
    "dft1s = portfolioVBEtherdelta()\n",
    "qg.show_grid(dft1s, grid_options={'forceFitColumns': False, 'defaultColumnWidth': 100})"
   ]
  },
  {
   "cell_type": "code",
   "execution_count": null,
   "metadata": {
    "collapsed": true
   },
   "outputs": [],
   "source": [
    "threshold = 0.6\n",
    "' '.join(list(dft1s[(dft1s['vb'] > threshold) & (dft1s['volumePerMarketcap'] > threshold) & (dft1s['riskOn'] > threshold)].sort_values(by='vb', ascending=False).index))"
   ]
  },
  {
   "cell_type": "code",
   "execution_count": null,
   "metadata": {
    "collapsed": true,
    "scrolled": true
   },
   "outputs": [],
   "source": [
    "def _color_red_or_green(val):\n",
    "    color = 'red' if val < 0 else 'green'\n",
    "    return 'color: %s' % color\n",
    "\n",
    "#df.style.applymap(_color_red_or_green)\n",
    "df.to_html()"
   ]
  },
  {
   "cell_type": "code",
   "execution_count": null,
   "metadata": {
    "collapsed": true,
    "scrolled": true
   },
   "outputs": [],
   "source": [
    "# binance fees\n",
    "xp = XPath()\n",
    "url = 'https://support.binance.com/hc/en-us/articles/115000429332'\n",
    "xresd = {\n",
    "    'id1' : '//*[@id=\"article-container\"]/article/section[1]/div/div[1]/table/tbody/tr/td[1]/text()',\n",
    "    'id2' : '//*[@id=\"article-container\"]/article/section[1]/div/div[1]/table/tbody/tr/td[2]/text()',\n",
    "    'id3' : '//*[@id=\"article-container\"]/article/section[1]/div/div[1]/table/tbody/tr/td[3]/text()',\n",
    "    'fee' : '//*[@id=\"article-container\"]/article/section[1]/div/div[1]/table/tbody/tr/td[4]/text()',\n",
    "    'id5' : '//*[@id=\"article-container\"]/article/section[1]/div/div[1]/table/tbody/tr/td[5]/text()',\n",
    "    'id6' : '//*[@id=\"article-container\"]/article/section[1]/div/div[1]/table/tbody/tr/td[6]/text()',\n",
    "}\n",
    "xresd = xp.xpath2df(url, xresd, cache=False)#, verbos\n",
    "df = p.DataFrame(xresd)\n",
    "df = df.set_index('id3')\n",
    "dft = cmc.getAllTokens(tokens=True)\n",
    "df = dft.combine_first(df)\n",
    "df = df[df['fee'] > 0]\n",
    "#df['fee'] = map(lambda x: float(x), df['fee'])\n",
    "for i in df.index:\n",
    "    try: df.loc[i,'fee'] = float(df.loc[i,'fee'])\n",
    "    except: df.loc[i,'fee'] = 0\n",
    "df['fee'] = p.to_numeric(df['fee'])\n",
    "df['feeUSD'] = df['fee'] * df['price']\n",
    "df.sort_values(by='feeUSD', ascending=True)\n",
    "#dft\n",
    "#df\n",
    "\"\"\"\n",
    "li = []\n",
    "for i in txt.strip().split('\\n'):\n",
    "    spl = i.split('\\t')\n",
    "    for j in range(len(spl)):\n",
    "        spl[j] = spl[j].strip()\n",
    "    li.append(spl)\n",
    "df = p.DataFrame(li[1:], columns=li[0])\n",
    "df = df.set_index('Short Code')\n",
    "\n",
    "dft = cmc.getAllTokens(tokens=False)\n",
    "\n",
    "df = dft.combine_first(df)\n",
    "\n",
    "df['Fee'] = p.to_numeric(df['Fee'])\n",
    "df['Confirmations'] = p.to_numeric(df['Confirmations'])\n",
    "df['feeUSD'] = df['Fee'] * df['price']\n",
    "\n",
    "\n",
    "df = df[df['feeUSD'] > 0]\n",
    "df = df[df['volume'] > 0]\n",
    "df['vf'] = df['volume'] / df['feeUSD']\n",
    "\n",
    "#df.sort_values(by='feeUSD', ascending=True)#.loc['ETH', :]\n",
    "df = df.sort_values(by='vf', ascending=True)#.loc['ETH', :]\n",
    "\n",
    "df\n",
    "\n",
    "# coinexchange -> binance: base coin showing lowest withdrawal fee\n",
    "df = df.loc[df2.index, :]\n",
    "df = df[df['feeUSD'] > 0]\n",
    "df = df.sort_values(by='feeUSD', ascending=True)#.loc['ETH', :]\n",
    "df"
   ]
  },
  {
   "cell_type": "code",
   "execution_count": null,
   "metadata": {
    "collapsed": true,
    "scrolled": true
   },
   "outputs": [],
   "source": [
    "# Binance PoC\n",
    "rmScraperCache()\n",
    "b = Binance()\n",
    "v = DataViz()\n",
    "v.threshold = 0.5\n",
    "dfbnb = b.getCurrencies()\n",
    "dfbnb = dfbnb[dfbnb['quote'] == 'BTC']\n",
    "#dfbnb = dfbnb[dfbnb['quote'] == 'ETH']\n",
    "li = list(dfbnb['base'])\n",
    "dft = cmc.getAllTokens(tokens=False)\n",
    "#dft1s = dft[dft['marketCap'] <= 1e6]\n",
    "#dft = dft[dft['volume'] >= 1e5]\n",
    "sortby = 'riskOn'\n",
    "sortby = 'vb'\n",
    "#sortby = 'volumePerMarketcap'\n",
    "#sortby = 'balanceMarketcapPcnt'\n",
    "#sortby = 'pcnt7d'\n",
    "#sortby = 'balanceMarketcapPcnt'\n",
    "dft1s = pm.generatePortfolioT1Supply(dft, balance=(5148.36), risk=3.32)\n",
    "dft1s = dft1s.sort_values(by=sortby, ascending=False)\n",
    "dft1s = v.visualizePortfolio(dft1s, li, figsize=50)\n",
    "#viewCharts(' '.join(list(v.pdf.index)))\n",
    "dfp = genHeatmap(list(v.pdf.index))\n",
    "qg.show_grid(dft1s, grid_options={'forceFitColumns': False, 'defaultColumnWidth': 100})"
   ]
  },
  {
   "cell_type": "code",
   "execution_count": null,
   "metadata": {
    "collapsed": true,
    "scrolled": false
   },
   "outputs": [],
   "source": [
    "flights = sns.load_dataset(\"flights\")\n",
    "flights['passengers'] = normalizeme(flights['passengers'])\n",
    "flights['passengers'] = sigmoidme(flights['passengers'])\n",
    "\n",
    "fd = flights['month'].drop_duplicates()\n",
    "di = dict(zip(range(1,13), fd.values))\n",
    "di = dict(zip(di.values(), di.keys()))\n",
    "flights['m'] = map(lambda x: di[x], flights['month'])\n",
    "sns.pairplot(flights.loc[:, 'year passengers'.split(' ')], size=10)#, hue=flights['month'])\n",
    "plt.show()\n",
    "#sys.exit()\n",
    "print flights\n",
    "flights = flights.pivot(\"month\", \"year\", \"passengers\")\n",
    "flights\n",
    "#flights.plot()\n",
    "#plt.show()\n",
    "ax = sns.heatmap(flights)\n",
    "plt.show()\n",
    "print flights"
   ]
  },
  {
   "cell_type": "code",
   "execution_count": null,
   "metadata": {
    "collapsed": true,
    "scrolled": true
   },
   "outputs": [],
   "source": [
    "# show charts from poloniex/binance\n",
    "df = dft1s.sort_values(by=sortby, ascending=False)\n",
    "list(df['id'])\n",
    "yy = True\n",
    "dfs = genDFP(list(df['id']), max=7, logy=yy, normalize=yy, sigmoid=yy)\n",
    "dfs"
   ]
  },
  {
   "cell_type": "code",
   "execution_count": null,
   "metadata": {
    "collapsed": true,
    "scrolled": true
   },
   "outputs": [],
   "source": [
    "cm['price_usd'].loc[:,'bitcoin'].sort_values(by='price_usd', ascending=False)#['price_usd']"
   ]
  },
  {
   "cell_type": "code",
   "execution_count": null,
   "metadata": {
    "collapsed": true,
    "scrolled": true
   },
   "outputs": [],
   "source": [
    "cm = clustermap(dfs, verbose=False, figsize=20)"
   ]
  },
  {
   "cell_type": "code",
   "execution_count": null,
   "metadata": {
    "collapsed": true,
    "scrolled": true
   },
   "outputs": [],
   "source": [
    "dft = cmc.getAllTokens(tokens=False)\n",
    "dft = dft[dft['marketCap'] <= 1e6]#.sort_values(by='balanceMarketcapPcnt', ascending=False)\n",
    "dft.sort_values(by='volumePerMarketcap', ascending=False)"
   ]
  },
  {
   "cell_type": "code",
   "execution_count": null,
   "metadata": {
    "collapsed": true,
    "scrolled": true
   },
   "outputs": [],
   "source": [
    "dft = cmc.getAllTokens(tokens=False)\n",
    "#dft = cmc.getAllTokens(tokens=True)\n",
    "#print dft\n",
    "#cmc.tokens\n",
    "#dft = dft[dft['marketCap'] > 1e6]\n",
    "#dft = dft.loc[port.split(),:] #  port coins [port var set below]\n",
    "df = pm.generatePortfolioT1Supply(dft, balance=(4129.06), risk=1)\n",
    "ids = list(df['id'])\n",
    "#print ids\n",
    "#dfp = genDFP(ids, max=3)\n",
    "#dfp\n",
    "#sortby = 'riskOn'\n",
    "#sortby = 'vb'\n",
    "sortby = 'volumePerMarketcap'\n",
    "#sortby = 'balanceMarketcapPcnt'\n",
    "#sortby = 'pcnt7d'\n",
    "#sortby = 'balanceMarketcapPcnt'\n",
    "df = df.sort_values(by=sortby, ascending=False)#['id']\n",
    "qg.show_grid(df, grid_options={'forceFitColumns': False, 'defaultColumnWidth': 100})\n",
    "#df['id']"
   ]
  },
  {
   "cell_type": "code",
   "execution_count": null,
   "metadata": {
    "collapsed": true,
    "scrolled": true
   },
   "outputs": [],
   "source": [
    "list(df['id'])\n",
    "dfs = genDFP(list(df['id']), max=20)\n",
    "dfs"
   ]
  },
  {
   "cell_type": "code",
   "execution_count": null,
   "metadata": {
    "collapsed": true,
    "scrolled": true
   },
   "outputs": [],
   "source": [
    "clustermap(dfs, verbose=True, figsize=15)"
   ]
  },
  {
   "cell_type": "code",
   "execution_count": null,
   "metadata": {
    "collapsed": true,
    "scrolled": true
   },
   "outputs": [],
   "source": [
    "df['t1'] = (df['pcnt1h'] + n.min(df['pcnt1h'])+1) *(df['pcnt24h'] + n.min(df['pcnt24h'])+1) * (df['pcnt7d'] + n.min(df['pcnt7d'])+1) / df['marketCap'] / df['price']\n",
    "dfs = df.sort_values(by='t1', ascending=False)\n",
    "dfs.loc[:,'pcnt1h pcnt24h pcnt7d'.split()].plot()\n",
    "dfs = dfs.loc[:,'marketCap pcnt1h pcnt24h pcnt7d t1'.split()]\n",
    "dfs = normalizeme(dfs)\n",
    "dfs = sigmoidme(dfs)\n",
    "#rcParams['figure.figsize'] = 20, 5\n",
    "#sns.pairplot(dfs, size=10)\n",
    "#plt.show()\n",
    "#dfs\n",
    "dfs = genDFP(list(dfs['id']), max=10)\n",
    "dfs"
   ]
  },
  {
   "cell_type": "code",
   "execution_count": null,
   "metadata": {
    "collapsed": true
   },
   "outputs": [],
   "source": [
    "#df = df.head(300)\n",
    "#df[fi] = map(lambda x: x.decode('utf-8').strip(), df[fi])\n",
    "#pp = sns.pairplot(df)#, hue=fi)\n",
    "#plt.show()"
   ]
  },
  {
   "cell_type": "code",
   "execution_count": null,
   "metadata": {
    "collapsed": true,
    "scrolled": false
   },
   "outputs": [],
   "source": [
    "#port = 'PPP XRL BBT SALT PPT TAAS SIFT PAY OMG KIN AIR PLR LINK RHOC CDT DNT RDN POWR CAT ENG PRO KNC SND AVT HMQ MGO ZRX VERI CVC EOS'\n",
    "#port = 'XRP STEEM PRO BNB PPP BRAT BCD SALT KIN PLR RHOC PPT CVC CDT NEWB BAS PAY EOS DOM XRL LINK TNT BAT DNT SNT SKIN FUCK NIO HMQ IXT MSP IND DENT FUN BET'\n",
    "\n",
    "# ib20171128\n",
    "port = 'RDN AION POWR QSP RHOC DNT LINK ENG FLIXX AVT GMT ZRX CAT HST KNC EOS SALT PRO CVC CREA'\n",
    "\n",
    "#port = 'CHC QRL BCC XRL RHOC KIN ZRX PPT SALT CDT BRAT PAY MBRS XRL EOS TAAS BNB HMQ OMG WINGS POE CTR LINK SKIN FUCK BAT CVC MCO SNT PPP CAT DOM BBT BET STX TIX DNT MGO VERI ICN NIO BQX TNT ZRX IXT MSP IND FUN LRC PLR'\n",
    "# eth all > $50\n",
    "#port = 'CHC RHOC QRL KIN BNB PPT PRO SALT XRP PPP BRAT TAAS PAY CDT XRL DNT'\n",
    "\n",
    "# coinmarketcap\n",
    "#port = 'BTC ETH BTH LTC XRP DASH NEM XMR IOTA NEO'\n",
    "\n",
    "# bitmex\n",
    "#port = 'BTC BCH DASH ETH ETC LTC XMR XRP XTZ ZEC'\n",
    "\n",
    "# etoro\n",
    "port = 'BTC ETH DASH ETC BCH LTC XRP'\n",
    "\n",
    "# masternode coins\n",
    "#port = 'CHC DASH NEM PIVX CRW TX EXCL MUE BLOCK BTA ENT SIB BSD DMD KORE BBP'\n",
    "\n",
    "# git analysis\n",
    "#port = 'EOS BCH EMC2'\n",
    "\n",
    "# t1 hoc\n",
    "#port = 'ETN MIOTA CHC DOGE BTC RDD BURST'\n",
    "\n",
    "#port = 'BNB ELF'\n",
    "\n",
    "# portPcnt v [model:t1pi commit:51134db]\n",
    "#port = 'PPP XRL BBT SNC SALT PPT TAAS EXN SIFT PAY OMG KIN AIR RHOC RDN LINK POWR DNT ENG PRO CAT KNC HMQ AVT ZRX CVC EOS'\n",
    "# delever::currentPortPcnt v [model:t1pi commit:51134db]\n",
    "#port = 'BNB RHOC PPT PRO PPP SALT BRAT TAAS CDT XRL PAY DNT KIN HMQ GOOD PLR OMG DOM TIX MBRS CVC SKIN POE WINGS LINK BAS BAT CTR CAT STX FUCK BBT TNT BET ICN NIO EOS VERI NEWB E4ROW BQX IXT MSP IND FUN LRC DENT ZRX'\n",
    "yy = True\n",
    "#dfp = genDFP(port, len(port.split(' ')), logy=yy, normalize=yy, sigmoid=yy)\n",
    "dfp = genHeatmap(port.split(' '))\n",
    "viewCharts(' '.join(port.split(' ')))\n",
    "#dfp"
   ]
  },
  {
   "cell_type": "code",
   "execution_count": null,
   "metadata": {
    "collapsed": true
   },
   "outputs": [],
   "source": [
    "# All Ethereum Tokens PoC\n",
    "tokens=False\n",
    "dfbnb = cmc.getAllTokens(tokens=tokens)\n",
    "#if tokens: dfbnb = dfbnb[dfbnb['quote'] == 'ETH']\n",
    "#else:      dfbnb = dfbnb[dfbnb['quote'] == 'BTC']\n",
    "li = list(dfbnb.index)\n",
    "genHeatmap(li)"
   ]
  },
  {
   "cell_type": "code",
   "execution_count": null,
   "metadata": {
    "collapsed": true,
    "scrolled": false
   },
   "outputs": [],
   "source": [
    "clustermap(dfp, verbose=False, figsize=15)"
   ]
  },
  {
   "cell_type": "code",
   "execution_count": null,
   "metadata": {
    "collapsed": true,
    "scrolled": true
   },
   "outputs": [],
   "source": [
    "dfm = cmc.glo('ethereum')\n",
    "dfm"
   ]
  },
  {
   "cell_type": "code",
   "execution_count": null,
   "metadata": {
    "collapsed": true
   },
   "outputs": [],
   "source": [
    "maxx=300e9, minn=10e9,\n",
    "maxx=10e9, minn=1e9,\n",
    "maxx=1e9, minn=100e6,\n",
    "maxx=100e6, minn=10e6,\n",
    "maxx=10e6, minn=1e6,\n",
    "maxx=1e6, minn=0,\n",
    "maxx=1e5, minn=0,"
   ]
  },
  {
   "cell_type": "code",
   "execution_count": null,
   "metadata": {
    "collapsed": true,
    "scrolled": true
   },
   "outputs": [],
   "source": [
    "# Macro Cap [marketcap > 1 billion]\n",
    "rmScraperCache()\n",
    "v = DataViz()\n",
    "v.getAllTokens(tokens=tokens)\n",
    "#v.getAllTokens(tokens=False)\n",
    "v.df = v.df[v.df.index != 'USDT']\n",
    "v.heatmap(maxx=300e9, minn=10e9, usdt=True, figsize=5, sortby=sortby, threshold=threshold)\n",
    "v.heatmap(maxx=300e9, minn=10e9, usdt=False, figsize=5, sortby=sortby, threshold=threshold)\n",
    "viewCharts(' '.join(list(v.pdf.index)), showPlot=showPlot)\n",
    "dfs = genDFP(list(v.pdf['id']), max=7, logy=yy, normalize=yy, sigmoid=yy, showPlot=False)\n",
    "cm = clustermap(dfs, verbose=False, figsize=10, showClustermap=showClustermap)"
   ]
  },
  {
   "cell_type": "code",
   "execution_count": null,
   "metadata": {
    "collapsed": true,
    "scrolled": true
   },
   "outputs": [],
   "source": [
    "# Macro Cap [marketcap > 1 billion]\n",
    "v.heatmap(maxx=10e9, minn=1e9, usdt=True, figsize=15, sortby=sortby, threshold=threshold)\n",
    "v.heatmap(maxx=10e9, minn=1e9, usdt=False, figsize=15, sortby=sortby, threshold=threshold)\n",
    "viewCharts(' '.join(list(v.pdf.index)), showPlot=showPlot)\n",
    "dfs = genDFP(list(v.pdf['id']), max=7, logy=yy, normalize=yy, sigmoid=yy, showPlot=False)\n",
    "cm = clustermap(dfs, verbose=False, figsize=10, showClustermap=showClustermap)"
   ]
  },
  {
   "cell_type": "code",
   "execution_count": null,
   "metadata": {
    "collapsed": true,
    "scrolled": true
   },
   "outputs": [],
   "source": [
    "v = DataViz()\n",
    "v.getAllTokens(tokens=tokens)\n",
    "# Mid Cap [1 billion > marketcap > 40 million]\n",
    "#v.heatmap(maxx=1e9, minn=40e6, usdt=True, figsize=figsize, sortby=sortby, threshold=threshold)\n",
    "v.heatmap(maxx=1e9, minn=40e6, usdt=False, figsize=figsize, sortby=sortby, threshold=threshold, ascending=True)\n",
    "#viewCharts(' '.join(list(v.pdf.index)), showPlot=showPlot)\n",
    "dfs = genDFP(list(v.pdf['id']), max=15, logy=yy, normalize=yy, sigmoid=yy, showPlot=False)\n",
    "cm = clustermap(dfs, verbose=False, figsize=10, showClustermap=showClustermap)\n",
    "#qg.show_grid(v.pdf, grid_options={'forceFitColumns': False, 'defaultColumnWidth': 100})\n",
    "v.pdf"
   ]
  },
  {
   "cell_type": "code",
   "execution_count": null,
   "metadata": {
    "collapsed": true,
    "scrolled": true
   },
   "outputs": [],
   "source": [
    "# Mid Cap [100 million > marketcap > 10 million]\n",
    "v.heatmap(maxx=40e6, minn=1e6, usdt=True, figsize=5, sortby=sortby, threshold=threshold)\n",
    "viewCharts(' '.join(list(v.pdf.index)), showPlot=showPlot)\n",
    "dfs = genDFP(list(v.pdf['id']), max=7, logy=yy, normalize=yy, sigmoid=yy, showPlot=False)\n",
    "cm = clustermap(dfs, verbose=False, figsize=10, showClustermap=showClustermap)\n",
    "v.pdf"
   ]
  },
  {
   "cell_type": "code",
   "execution_count": null,
   "metadata": {
    "collapsed": true,
    "scrolled": true
   },
   "outputs": [],
   "source": [
    "# Mid Cap [10 million > marketcap > 1 million]\n",
    "v.heatmap(maxx=20e6, minn=100e5, usdt=False, figsize=60, sortby=sortby, threshold=threshold)\n",
    "viewCharts(' '.join(list(v.pdf.index)), showPlot=showPlot)\n",
    "dfs = genDFP(list(v.pdf['id']), max=7, logy=yy, normalize=yy, sigmoid=yy, showPlot=False)\n",
    "cm = clustermap(dfs, verbose=False, figsize=10, showClustermap=showClustermap)\n",
    "v.pdf"
   ]
  },
  {
   "cell_type": "code",
   "execution_count": null,
   "metadata": {
    "collapsed": true,
    "scrolled": true
   },
   "outputs": [],
   "source": [
    "# Mid Cap [1 million > marketcap > 0]\n",
    "v.heatmap(maxx=1e6, minn=100e3, usdt=True, figsize=60, sortby=sortby, threshold=threshold)\n",
    "viewCharts(' '.join(list(v.pdf.index)), showPlot=showPlot)\n",
    "dfs = genDFP(list(v.pdf['id']), max=7, logy=yy, normalize=yy, sigmoid=yy, showPlot=False)\n",
    "cm = clustermap(dfs, verbose=False, figsize=10, showClustermap=showClustermap)\n",
    "v.pdf"
   ]
  },
  {
   "cell_type": "code",
   "execution_count": null,
   "metadata": {
    "collapsed": true,
    "scrolled": true
   },
   "outputs": [],
   "source": [
    "# Mid Cap [1 million > marketcap > 0]\n",
    "threshold=0.0\n",
    "v.heatmap(maxx=1e5, minn=0, usdt=True, figsize=10, sortby=sortby, threshold=threshold)\n",
    "viewCharts(' '.join(list(v.pdf.index)), showPlot=showPlot)\n",
    "dfs = genDFP(list(v.pdf['id']), max=7, logy=yy, normalize=yy, sigmoid=yy, showPlot=False)\n",
    "cm = clustermap(dfs, verbose=False, figsize=10, showClustermap=showClustermap)"
   ]
  },
  {
   "cell_type": "code",
   "execution_count": null,
   "metadata": {
    "collapsed": true,
    "scrolled": true
   },
   "outputs": [],
   "source": [
    "# Mid Cap [0 > marketcap > 0]\n",
    "v.heatmap(maxx=1e6, minn=0, usdt=False, figsize=10, sortby=sortby, threshold=threshold)\n",
    "viewCharts(' '.join(list(v.pdf.index)), showPlot=showPlot)\n",
    "dfs = genDFP(list(v.pdf['id']), max=30, logy=yy, normalize=yy, sigmoid=yy, showPlot=False)\n",
    "cm = clustermap(dfs, verbose=False, figsize=10, showClustermap=showClustermap)"
   ]
  },
  {
   "cell_type": "code",
   "execution_count": null,
   "metadata": {
    "collapsed": true,
    "scrolled": true
   },
   "outputs": [],
   "source": [
    "li = list(df['id'].head(3))\n",
    "viewCharts(li)"
   ]
  },
  {
   "cell_type": "code",
   "execution_count": null,
   "metadata": {
    "collapsed": true,
    "scrolled": false
   },
   "outputs": [],
   "source": [
    "# show portfolio  charts\n",
    "port = 'PPP XRL BBT SALT PPT TAAS SIFT PAY OMG KIN AIR PLR LINK RHOC CDT DNT RDN POWR CAT ENG PRO KNC SND AVT HMQ MGO ZRX VERI CVC EOS'\n",
    "#viewCharts(port)\n",
    "genHeatmap(port.split(' '))"
   ]
  },
  {
   "cell_type": "code",
   "execution_count": null,
   "metadata": {
    "collapsed": true,
    "scrolled": false
   },
   "outputs": [],
   "source": [
    "# show portfolio eth1 charts\n",
    "viewCharts('XRP STEEM PRO BNB PPP BRAT BCD SALT KIN PLR RHOC PPT CVC CDT NEWB BAS PAY EOS DOM XRL LINK TNT BAT DNT SNT SKIN FUCK NIO HMQ IXT MSP IND DENT FUN BET')"
   ]
  },
  {
   "cell_type": "code",
   "execution_count": null,
   "metadata": {
    "collapsed": true,
    "scrolled": true
   },
   "outputs": [],
   "source": [
    "# show portfolio eth2 charts\n",
    "viewCharts('CHC QRL BCC XRL RHOC KIN PPT SALT CDT BRAT PAY MBRS XRL EOS TAAS BNB HMQ OMG WINGS POE CTR LINK SKIN FUCK BAT CVC MCO SNT PPP CAT DOM BBT BET STX TIX DNT MGO VERI ICN NIO BQX TNT ZRX IXT MSP IND FUN LRC PLR')"
   ]
  },
  {
   "cell_type": "code",
   "execution_count": null,
   "metadata": {
    "collapsed": true,
    "scrolled": true
   },
   "outputs": [],
   "source": [
    "nu = 10\n",
    "for i in list(df.head(nu)['id']):\n",
    "    cmc.glo(i)\n",
    "    plt.show()\n",
    "print '=-=-=-=-=-=-=-=-'\n",
    "print '=-=-=-=-=-=-=-=-'\n",
    "for i in list(df.tail(nu)['id']):\n",
    "    cmc.glo(i)\n",
    "    plt.show()"
   ]
  },
  {
   "cell_type": "code",
   "execution_count": null,
   "metadata": {
    "collapsed": true
   },
   "outputs": [],
   "source": [
    "#for i in 'bitcoin ethereum kin'.split(' '):\n",
    "# b3 == pump n dump example\n",
    "for i in 'b3coin'.split(' '):\n",
    "    cmc.glo(i)"
   ]
  },
  {
   "cell_type": "code",
   "execution_count": null,
   "metadata": {
    "collapsed": true,
    "scrolled": true
   },
   "outputs": [],
   "source": [
    "import pandas as p\n",
    "url = 'https://etherscan.io/txsInternal?a=0xea3f1b409f5e9211eed087c9f5f621d1249b3e7b'\n",
    "from qore import *\n",
    "xp = XPath()\n",
    "xcols = {\n",
    "    #'to'      : '/html/body/div[1]/div[4]/div[2]/div/div/div/table/tbody/tr/td[6]/span/a/text()',\n",
    "    'value'   : '/html/body/div[1]/div[4]/div[2]/div/div/div/table/tbody/tr/td[7]/text()',\n",
    "}\n",
    "res = xp.xpath2df(url, xcols)\n",
    "qg.show_grid(p.DataFrame(res))"
   ]
  },
  {
   "cell_type": "code",
   "execution_count": null,
   "metadata": {
    "collapsed": true,
    "scrolled": true
   },
   "outputs": [],
   "source": [
    "#port = 'CHC LBTC BTCRED ARN'\n",
    "port = 'CHC QRL PPT SALT BNB KIN CDT PRO PPP TAAS'\n",
    "port = 'PAY GNT PPT QTM LTC'\n",
    "# portPcnt v [model:t1pi commit:51134db]\n",
    "#print dft1s.sort_values(by=sortby, ascending=False)['id'].head(10)\n",
    "#port = ' '.join(list(dft1s.sort_values(by=sortby, ascending=False)['id'].head(10)))\n",
    "yy = True\n",
    "dfp = genDFP(port, len(port.split(' ')), logy=yy, normalize=yy, sigmoid=yy)\n",
    "#dfp"
   ]
  },
  {
   "cell_type": "code",
   "execution_count": null,
   "metadata": {
    "collapsed": true
   },
   "outputs": [],
   "source": [
    "# dendrogram\n",
    "import numpy as np\n",
    "import matplotlib.pyplot as plt\n",
    "import scipy.cluster.hierarchy as sc\n",
    "\n",
    "dists = np.array([[0,2,1,4],[2,0,3,5],[1,3,0,6],[4,5,6,0]])\n",
    "l = ['a','b','c','b']\n",
    "df = p.DataFrame(dists)\n",
    "print df#.plot()\n",
    "Z = sc.linkage(dists, method='complete')\n",
    "d = sc.dendrogram(Z, labels=l)\n",
    "label_colors = {'a': 'r', 'b': 'g', 'c': 'm'}\n",
    "ax = plt.gca()\n",
    "xlbls = ax.get_xmajorticklabels()\n",
    "for i in range(len(xlbls)):\n",
    "    xlbls[i].set_color(label_colors[xlbls[i].get_text()])\n",
    "plt.show()"
   ]
  },
  {
   "cell_type": "code",
   "execution_count": null,
   "metadata": {
    "collapsed": true,
    "scrolled": true
   },
   "outputs": [],
   "source": [
    "# Load the brain networks example dataset\n",
    "df = sns.load_dataset(\"brain_networks\", header=[0, 1, 2], index_col=0)\n",
    "\n",
    "# Select a subset of the networks\n",
    "used_networks = [1, 5, 6, 7, 8, 12, 13, 17]\n",
    "used_columns = (df.columns.get_level_values(\"network\")\n",
    "                          .astype(int)\n",
    "                          .isin(used_networks))\n",
    "df = df.loc[:, used_columns]\n",
    "\n",
    "# Create a categorical palette to identify the networks\n",
    "network_pal = sns.husl_palette(8, s=.45)\n",
    "#print network_pal\n",
    "network_lut = dict(zip(map(str, used_networks), network_pal))\n",
    "\n",
    "# Convert the palette to vectors that will be drawn on the side of the matrix\n",
    "networks = df.columns.get_level_values(\"network\")\n",
    "network_colors = p.Series(networks, index=df.columns).map(network_lut)\n",
    "\n",
    "# Draw the full plot\n",
    "sns.clustermap(df.corr(), center=0, cmap=\"vlag\",\n",
    "               row_colors=network_colors, col_colors=network_colors,\n",
    "               linewidths=.75, figsize=(13, 13))\n",
    "#dfd = desc(df)\n",
    "#df\n",
    "df#.corr()"
   ]
  },
  {
   "cell_type": "code",
   "execution_count": null,
   "metadata": {
    "collapsed": true
   },
   "outputs": [],
   "source": [
    "# 0024 mergerTraderSplitter\n",
    "with p.option_context('display.max_rows', 400, 'display.max_columns', 4000, 'display.width', 1000000):\n",
    "    print mergerTraderSplitter([13.7, 55.3], '0x0cee9942a8dc4aa6f594d680f6b9654f02ab62d1 0x38a4ff00c207cbd78ab34b6ddd1b8754e4498508'.split(' '), 0.3347784, 'BNB', 'ETH', '0x0CEE9942A8DC4aa6f594d680f6B9654f02Ab62D1') # Binance: BNB -> RDN Etherdelta -> ETH  \n",
    "    print\n",
    "    print mergerTraderSplitter([3.65, .7], '0xcdeccaa65fddfa861d322d430a84609213e58678 0xdd4fa0bd3fb7587d6d1af4d4f6270dc2bb85e045'.split(' '), 1418, 'ETH', 'MOD','0xcDECcAa65FDDfA861D322d430A84609213e58678')  # Binance: ETH -> MOD\n",
    "    print\n",
    "    print mergerTraderSplitter([228, 1190], '0xdd4fa0bd3fb7587d6d1af4d4f6270dc2bb85e045 0xcdeccaa65fddfa861d322d430a84609213e58678'.split(' '), 473.7625, 'MOD', 'BNB','0xdd4fa0bD3Fb7587D6D1aF4D4f6270Dc2bb85E045')  # Binance: MOD -> BNB\n",
    "    \n"
   ]
  },
  {
   "cell_type": "code",
   "execution_count": null,
   "metadata": {
    "collapsed": true
   },
   "outputs": [],
   "source": [
    "df = p.read_csv('/home/qore/Desktop/binance.TradeHistory.csv')\n",
    "df.groupby('Price').sum()\n",
    "df.sort_values('Date', ascending=False)"
   ]
  },
  {
   "cell_type": "code",
   "execution_count": null,
   "metadata": {
    "collapsed": true,
    "scrolled": false
   },
   "outputs": [],
   "source": [
    "df = p.read_csv('/tmp/mdf0.csv', index_col=0)\n",
    "#print df.dtypes\n",
    "df = df[ (df['balance'] != 0) | (df['portPcnt'] != 0) ]\n",
    "print ' '.join(list(df.columns))\n",
    "li = 'balance balance_eth totalBalanceUsd currentPortPcnt portPcnt balance_usd unitsDiff balanceETHDiff balanceUsdDiff portPcntDiff pcnt7d'.split()\n",
    "df = df.loc[:, li]\n",
    "print li\n",
    "#qg.show_grid(df.loc[:, li], grid_options={'forceFitColumns': False, 'defaultColumnWidth': 100})\n",
    "qg.show_grid(df.loc[:, li], grid_options={'enableColumnReorder':False})"
   ]
  },
  {
   "cell_type": "code",
   "execution_count": null,
   "metadata": {
    "collapsed": true,
    "scrolled": false
   },
   "outputs": [],
   "source": [
    "df = p.read_csv('/tmp/mdf0.csv', index_col=0)\n",
    "#print df.dtypes\n",
    "df = df[ (df['balance'] != 0) | (df['portPcnt'] != 0) ]\n",
    "print ' '.join(list(df.columns))\n",
    "li = 'balance balance_eth totalBalanceUsd currentPortPcnt portPcnt balance_usd unitsDiff balanceETHDiff balanceUsdDiff portPcntDiff pcnt7d'.split()\n",
    "df = df.loc[:, li]\n",
    "print li\n",
    "#qg.show_grid(df.loc[:, li], grid_options={'forceFitColumns': False, 'defaultColumnWidth': 100})\n",
    "qg.show_grid(df.loc[:, li], grid_options={'enableColumnReorder':False})"
   ]
  },
  {
   "cell_type": "code",
   "execution_count": null,
   "metadata": {
    "collapsed": true
   },
   "outputs": [],
   "source": [
    " \n",
    "xp = XPath()\n",
    "url = 'http://coinmarketcap.com/currencies/startcoin/#markets'\n",
    "xresd = {\n",
    "    'id' : '//div/div[2]/div/table//tr/td[5]/span/text()',\n",
    "}\n",
    "xresd = xp.xpath2df(url, xresd, cache=False)#, verbos\n",
    "print xresd\n",
    "df = p.DataFrame(xresd)\n",
    "\"\"\"\n",
    "df = df.set_index('id3')\n",
    "dft = cmc.getAllTokens(tokens=True)\n",
    "df = dft.combine_first(df)\n",
    "df = df[df['fee'] > 0]\n",
    "#df['fee'] = map(lambda x: float(x), df['fee'])\n",
    "for i in df.index:\n",
    "    try: df.loc[i,'fee'] = float(df.loc[i,'fee'])\n",
    "    except: df.loc[i,'fee'] = 0\n",
    "df['fee'] = p.to_numeric(df['fee'])\n",
    "df['feeUSD'] = df['fee'] * df['price']\n",
    "df.sort_values(by='feeUSD', ascending=True)\n",
    "#dft\n",
    "\"\"\"\n",
    "df"
   ]
  },
  {
   "cell_type": "code",
   "execution_count": null,
   "metadata": {
    "collapsed": true
   },
   "outputs": [],
   "source": [
    "# localCRC.py\n",
    "# localbtc\n",
    "# ars to btc\n",
    "# bitex https://bitex.la/\n",
    "\n",
    "# https://argenbtc.com/\n",
    "def process(df):\n",
    "    df['bidUSD']   = df['bid']   / 17.92\n",
    "    df['offerUSD'] = df['offer'] / 17.92\n",
    "    df['spread']     = df['offer'] - df['bid']\n",
    "    df['spreadPcnt'] = df['offer'] / df['bid'] * 100 - 100\n",
    "    return df\n",
    "def t1(name, url, xresd):\n",
    "    xp = XPath()\n",
    "    #url = url\n",
    "    #xresd = {\n",
    "    #    'bid' : '//*[@id=\"span_precio_venta_home\"]/text()',\n",
    "    #    'offer' : '//*[@id=\"span_precio_compra_home\"]/text()',\n",
    "    #}\n",
    "    xresd = xp.xpath2df(url, xresd, cache=False)#, verbos\n",
    "    #xresd.update({'url': [url]})\n",
    "    #print xresd\n",
    "    #df = p.DataFrame({'argenbtc':xresd}).transpose()\n",
    "    df = p.DataFrame(xresd, index=[name])#.transpose()\n",
    "    df['bid']      = p.to_numeric(df['bid'])\n",
    "    df['offer']    = p.to_numeric(df['offer'])\n",
    "    df = process(df)\n",
    "    #print df\n",
    "    return df\n",
    "\n",
    "mdf = p.DataFrame()\n",
    "try:\n",
    "    mdf = mdf.combine_first(t1('argenbtc', 'https://argenbtc.com', {\n",
    "        'bid'   : '//*[@id=\"span_precio_compra_home\"]/text()',\n",
    "        'offer' : '//*[@id=\"span_precio_venta_home\"]/text()',\n",
    "    }))\n",
    "except: ''\n",
    "try:\n",
    "    mdf = mdf.combine_first(t1('ripio', 'https://www.ripio.com/es/cotizacion-bitcoin/', {\n",
    "    'bid'   : '/html/body/div[1]/div[1]/div[1]/div[2]/span/text()',\n",
    "    'offer' : '/html/body/div[1]/div[1]/div[1]/div[1]/span/text()',\n",
    "    }))\n",
    "except: ''\n",
    "try:\n",
    "    mdf = mdf.combine_first(t1('satoshitango', 'https://www.satoshitango.com/signup', {\n",
    "    'bid'   : '/html/body/div[1]/div[1]/div/div/div/div[2]/ul[2]/li[1]/a/div/text()',\n",
    "    #'offer' : '/html/body/div[1]/div[1]/div[1]/div[1]/span/text()',\n",
    "    }))\n",
    "except: ''\n",
    "    \n",
    "# bitinka\n",
    "res = apiRequest('https://www.bitinka.pe/api/apinka','/ticker/ARS?format=json')\n",
    "df = p.DataFrame(res).fillna(0).transpose()\n",
    "df.loc['ARS','indx'] = 'bitinka'\n",
    "df['offer'] = df['ask']\n",
    "df = df.set_index('indx')\n",
    "df = df.loc[:,'offer bid'.split()]\n",
    "df = process(df)\n",
    "mdf = mdf.combine_first(df.loc[:,'bid offer bidUSD offerUSD spread spreadPcnt'.split()])\n",
    "mdf"
   ]
  },
  {
   "cell_type": "code",
   "execution_count": null,
   "metadata": {
    "collapsed": true
   },
   "outputs": [],
   "source": [
    "sortby=['pcnt7d', 'pcnt24h','pcnt1h']\n",
    "sortby='riskOn'\n",
    "sortby='vb'\n",
    "threshold = 0.0\n",
    "showPlot = False\n",
    "showClustermap = True\n",
    "yy = True\n",
    "tokens=True\n",
    "#tokens=False"
   ]
  },
  {
   "cell_type": "code",
   "execution_count": null,
   "metadata": {
    "collapsed": true,
    "scrolled": true
   },
   "outputs": [],
   "source": [
    "# https://www.bitinka.com.ar/bitinka/api_documentation\n",
    "res = apiRequest('https://www.bitinka.pe/api/apinka','/volumen24?format=json')\n",
    "#apiRequest('https://www.bitinka.pe/api/apinka','/ticker?format=json')\n",
    "#https://www.bitinka.pe/api/apinka/ticker/{MONEDA}?format=json\n",
    "df = p.DataFrame(res['volumens']).fillna(0)\n",
    "df"
   ]
  },
  {
   "cell_type": "code",
   "execution_count": null,
   "metadata": {
    "collapsed": true
   },
   "outputs": [],
   "source": [
    "res = apiRequest('https://www.bitinka.pe/api/apinka','/ticker?format=json')\n",
    "#https://www.bitinka.pe/api/apinka/ticker/{MONEDA}?format=json\n",
    "df = p.DataFrame(res).fillna(0).transpose()\n",
    "df"
   ]
  },
  {
   "cell_type": "code",
   "execution_count": null,
   "metadata": {
    "collapsed": true
   },
   "outputs": [],
   "source": [
    "# stake\n",
    "#3000.0/17.92/303.85*839.78#*17.92\n",
    "\n",
    "# eth1\n",
    "ci = 130\n",
    "cF = 1913.62\n",
    "df = n.array([ci, cF])\n",
    "df[1] - df[0]\n",
    "diff = df[1] - df[0]\n",
    "\n",
    "# eth2\n",
    "ci = 1300\n",
    "cF = 7162.038363 + (860+4.13) + 125\n",
    "df = n.array([ci, cF])\n",
    "diff = df[1] - df[0]\n",
    "\n",
    "df = p.DataFrame()\n",
    "df['ci']   = [130+20,     1300]\n",
    "df['cF']   = [1913.62,    7162.038363 + (860+4.13) + 125]\n",
    "df['diff'] = df['cF'] - df['ci']\n",
    "df['pc'] = df['diff'] / df['ci'] * 100\n",
    "df['pcntCapital'] = ci * 1 / 100\n",
    "df['comissionOnProfits'] = df['diff'] * 33.33 / 100\n",
    "df['netProfits']  = df['diff'] - df['comissionOnProfits']\n",
    "df['netGross']    = df['ci'] + df['netProfits']\n",
    "cm = n.sum(df['comissionOnProfits']) - df.loc[0,'comissionOnProfits'] + df.loc[0,'cF']\n",
    "print cm\n",
    "print cm * 17.92\n",
    "df"
   ]
  },
  {
   "cell_type": "code",
   "execution_count": null,
   "metadata": {
    "collapsed": true
   },
   "outputs": [],
   "source": [
    "# wallet generator\n",
    "xp = XPath()\n",
    "url = 'https://walletgenerator.net/'\n",
    "xresd = {\n",
    "    'id1' : '/html/body/div[2]/div[6]/div[1]/div[4]/div[2]/div[2]/div/a/text()',\n",
    "}\n",
    "xresd = xp.xpath2df(url, xresd, cache=False)#, verbos\n",
    "df = p.DataFrame(xresd)\n",
    "df"
   ]
  },
  {
   "cell_type": "code",
   "execution_count": null,
   "metadata": {
    "collapsed": true
   },
   "outputs": [],
   "source": [
    "icobench\n",
    " - https://icobench.com/icos\n",
    "tokenmarket\n",
    " - https://tokenmarket.net/blockchain/all-assets?sorting=best&archived=false&all=true\n",
    "icodrops\n",
    " - https://icodrops.com/category/active-ico/\n",
    "coingecko\n",
    " - https://www.coingecko.com/ico?locale=en\n",
    "icobazaar\n",
    " - https://icobazaar.com/v2/list/featured\n",
    "cryptocrush\n",
    " - https://crushcrypto.com/summary/\n",
    "coinschedule\n",
    " - https://www.coinschedule.com/\n",
    " - https://www.coinschedule.com/icos/e1193/stk-pre-sale-and-ico.html\n",
    "icoalert\n",
    " - https://www.icoalert.com/?q=&is_v=1\n",
    "trackico.io\n",
    " - https://www.trackico.io/2/\n",
    " - https://www.trackico.io/3/\n",
    "coincalendar\n",
    "icotracker\n",
    " - https://icotracker.net/\n",
    " - https://icotracker.net/current\n",
    " - https://icotracker.net/upcoming\n",
    " - https://icotracker.net/past\n",
    "\n",
    "icoprojectsrank\n",
    " - https://icoprojectsrank.com/en/\n",
    "tokenlot \n",
    " - https://www.tokenlot.com/\n",
    "\n",
    "coinist.io \n",
    "listico.io\n",
    " - https://www.listico.io/index.php\n",
    "icorating.com\n",
    "icowatchlist\n",
    "hacked.com/ico-analysis\n",
    "cryptocoinsmarket.com\n",
    "icohoo.com\n",
    "\n",
    "stats:\n",
    "icomarks [ico chart]\n",
    " - https://icomarks.com/stats?sort=marketcap-asc\n",
    "icostats\n",
    " - https://icostats.com/\n",
    "\n",
    " - https://www.coinist.io/roi/\n",
    "    \n",
    "ongoing\n",
    " - https://www.coinist.io/ico-listing/\n",
    "    \n",
    "cakendars:\n",
    "coinist\n",
    " - https://www.coinist.io/ico-calendar/"
   ]
  },
  {
   "cell_type": "code",
   "execution_count": null,
   "metadata": {
    "collapsed": true,
    "scrolled": true
   },
   "outputs": [],
   "source": [
    "# icos\n",
    "xp = XPath()\n",
    "def p1():\n",
    "    for i in range(1,10):\n",
    "        url = 'https://icobench.com/icos?page=%s' % i\n",
    "        xresd = {\n",
    "            'id1' : '/html/body/div[1]/div/div/div[4]/div/table//tr/td[1]/div[2]/a/text()',\n",
    "            'href' : '/html/body/div[1]/div/div/div[4]/div/table//tr/td[1]/div[2]/a/@href',\n",
    "        }\n",
    "        xresd = xp.xpath2df(url, xresd, cache=False)#, verbos\n",
    "        #\"\"\"\n",
    "        df = p.DataFrame(xresd)\n",
    "        print df #\"\"\"\n",
    "        print\n",
    "        #xresd\n",
    "        break\n",
    "p1()"
   ]
  },
  {
   "cell_type": "code",
   "execution_count": 1,
   "metadata": {
    "collapsed": false
   },
   "outputs": [
    {
     "ename": "NameError",
     "evalue": "name 'req' is not defined",
     "output_type": "error",
     "traceback": [
      "\u001b[1;31m---------------------------------------------------------------------------\u001b[0m",
      "\u001b[1;31mNameError\u001b[0m                                 Traceback (most recent call last)",
      "\u001b[1;32m<ipython-input-1-2a8b13b4e362>\u001b[0m in \u001b[0;36m<module>\u001b[1;34m()\u001b[0m\n\u001b[0;32m      1\u001b[0m \u001b[1;31m# ethereum pending TXs\u001b[0m\u001b[1;33m\u001b[0m\u001b[1;33m\u001b[0m\u001b[0m\n\u001b[1;32m----> 2\u001b[1;33m \u001b[0mres\u001b[0m \u001b[1;33m=\u001b[0m \u001b[0mreq\u001b[0m\u001b[1;33m.\u001b[0m\u001b[0mget\u001b[0m\u001b[1;33m(\u001b[0m\u001b[1;34m'https://etherscan.io/chart/pendingtx?output=csv'\u001b[0m\u001b[1;33m)\u001b[0m\u001b[1;33m\u001b[0m\u001b[0m\n\u001b[0m\u001b[0;32m      3\u001b[0m \u001b[0mres\u001b[0m \u001b[1;33m=\u001b[0m \u001b[0mmap\u001b[0m\u001b[1;33m(\u001b[0m\u001b[1;32mlambda\u001b[0m \u001b[0mx\u001b[0m\u001b[1;33m:\u001b[0m \u001b[0mx\u001b[0m\u001b[1;33m.\u001b[0m\u001b[0mreplace\u001b[0m\u001b[1;33m(\u001b[0m\u001b[1;34m'\"'\u001b[0m\u001b[1;33m,\u001b[0m \u001b[1;34m''\u001b[0m\u001b[1;33m)\u001b[0m\u001b[1;33m.\u001b[0m\u001b[0mreplace\u001b[0m\u001b[1;33m(\u001b[0m\u001b[1;34m'\\r'\u001b[0m\u001b[1;33m,\u001b[0m \u001b[1;34m''\u001b[0m\u001b[1;33m)\u001b[0m\u001b[1;33m.\u001b[0m\u001b[0msplit\u001b[0m\u001b[1;33m(\u001b[0m\u001b[1;34m','\u001b[0m\u001b[1;33m)\u001b[0m\u001b[1;33m,\u001b[0m \u001b[0mres\u001b[0m\u001b[1;33m.\u001b[0m\u001b[0mtext\u001b[0m\u001b[1;33m.\u001b[0m\u001b[0msplit\u001b[0m\u001b[1;33m(\u001b[0m\u001b[1;34m'\\n'\u001b[0m\u001b[1;33m)\u001b[0m\u001b[1;33m)\u001b[0m\u001b[1;33m\u001b[0m\u001b[0m\n\u001b[0;32m      4\u001b[0m \u001b[0mdf\u001b[0m \u001b[1;33m=\u001b[0m \u001b[0mp\u001b[0m\u001b[1;33m.\u001b[0m\u001b[0mDataFrame\u001b[0m\u001b[1;33m(\u001b[0m\u001b[0mres\u001b[0m\u001b[1;33m[\u001b[0m\u001b[1;36m1\u001b[0m\u001b[1;33m:\u001b[0m\u001b[1;33m]\u001b[0m\u001b[1;33m,\u001b[0m \u001b[0mcolumns\u001b[0m\u001b[1;33m=\u001b[0m\u001b[0mres\u001b[0m\u001b[1;33m[\u001b[0m\u001b[1;36m0\u001b[0m\u001b[1;33m]\u001b[0m\u001b[1;33m)\u001b[0m\u001b[1;33m\u001b[0m\u001b[0m\n\u001b[0;32m      5\u001b[0m \u001b[1;31m#df = p.read_csv('/home/qore/Desktop/export-PendingQueue.csv')\u001b[0m\u001b[1;33m\u001b[0m\u001b[1;33m\u001b[0m\u001b[0m\n",
      "\u001b[1;31mNameError\u001b[0m: name 'req' is not defined"
     ]
    }
   ],
   "source": [
    "# ethereum pending TXs\n",
    "res = req.get('https://etherscan.io/chart/pendingtx?output=csv')\n",
    "res = map(lambda x: x.replace('\"', '').replace('\\r', '').split(','), res.text.split('\\n'))\n",
    "df = p.DataFrame(res[1:], columns=res[0])\n",
    "#df = p.read_csv('/home/qore/Desktop/export-PendingQueue.csv')\n",
    "df = df.set_index('Date(UTC)')\n",
    "df['Value'] = p.to_numeric(df['Value'])\n",
    "df.plot()\n",
    "plt.show()"
   ]
  },
  {
   "cell_type": "code",
   "execution_count": 52,
   "metadata": {
    "collapsed": false
   },
   "outputs": [
    {
     "name": "stdout",
     "output_type": "stream",
     "text": [
      "['retaurantIndex', 'city', 'groceriesIndex', 'rentIndex', 'costOfLivingPlusRentIndex', 'localPurchasingPowerIndex', 'costOfLivingIndex']\n",
      "                                      city  costOfLivingIndex  costOfLivingPlusRentIndex  groceriesIndex  localPurchasingPowerIndex  rentIndex  retaurantIndex            y1\n",
      "509  Mangalore, India                       23.17              14.56                      23.88           95.97                      5.68       12.61           2.421652e-03\n",
      "510  Thiruvananthapuram, India              21.75              13.59                      23.72           62.76                      5.17       12.12           1.941404e-03\n",
      "497  Vadodara, India                        27.31              15.76                      31.50           67.23                      3.85       16.06           1.263935e-03\n",
      "506  Bhubaneswar, India                     25.24              15.06                      28.87           52.38                      4.57       14.71           1.069302e-03\n",
      "495  Jaipur, India                          27.92              16.45                      29.81           65.05                      4.62       16.61           1.018494e-03\n",
      "505  Kochi, India                           25.40              15.93                      28.26           60.04                      6.18       14.41           9.392525e-04\n",
      "498  Nagpur, India                          27.18              16.19                      29.35           68.56                      4.86       19.34           9.143669e-04\n",
      "504  Visakhapatnam, India                   25.57              15.51                      28.40           53.78                      5.14       16.13           8.932525e-04\n",
      "499  Indore, India                          27.01              15.82                      26.64           44.20                      4.28       16.98           8.452438e-04\n",
      "507  Coimbatore, India                      24.83              15.37                      26.31           47.01                      5.61       15.29           8.389235e-04\n",
      "494  Lucknow (Lakhnau), India               28.07              16.52                      29.00           53.68                      4.60       18.03           7.950941e-04\n",
      "501  Hyderabad, India                       26.87              16.69                      28.95           65.47                      6.20       17.66           7.686767e-04\n",
      "502  Mysore, India                          26.23              15.54                      32.03           35.53                      4.52       13.28           7.045365e-04\n",
      "491  Surat, India                           28.47              16.67                      30.17           55.55                      4.50       21.43           6.706356e-04\n",
      "478  Valenzuela, Philippines                31.62              17.59                      34.76           31.17                      3.13       14.27           6.349315e-04\n",
      "489  Chennai, India                         28.78              18.10                      31.45           71.99                      7.09       18.75           5.982920e-04\n",
      "488  Chandigarh, India                      28.94              17.79                      30.74           64.70                      6.31       19.97           5.771577e-04\n",
      "480  Pune, India                            30.52              19.26                      32.76           88.48                      7.64       21.64           5.352616e-04\n",
      "477  Ludhiana, India                        31.92              18.33                      32.07           53.04                      4.32       23.12           5.187643e-04\n",
      "475  Noida, India                           32.37              19.87                      33.82           85.35                      6.98       22.36           4.995282e-04\n",
      "481  Bangalore, India                       30.24              19.98                      32.95           86.79                      9.41       19.57           4.729901e-04\n",
      "487  Ahmedabad, India                       28.95              17.97                      31.25           57.06                      6.65       21.09           4.497125e-04\n",
      "508  Alexandria, Egypt                      24.54              14.96                      23.50           21.42                      5.09       17.66           4.132079e-04\n",
      "484  Navi Mumbai, India                     29.41              19.72                      31.29           73.30                      9.72       20.53           3.991611e-04\n",
      "466  Craiova, Romania                       33.71              20.07                      28.93           50.73                      6.00       24.15           3.589957e-04\n",
      "492  Kolkata, India                         28.28              17.79                      29.91           47.99                      6.97       22.74           3.579577e-04\n",
      "490  Goa, India                             28.52              18.20                      30.98           49.66                      7.57       20.94           3.545710e-04\n",
      "503  Cairo, Egypt                           26.19              15.83                      23.30           23.96                      5.14       22.47           3.399611e-04\n",
      "485  Pristina, Kosovo (Disputed Territory)  29.40              19.30                      26.65           52.71                      8.90       22.28           3.392683e-04\n",
      "493  Dnipropetrovsk, Ukraine                28.09              17.77                      22.74           31.03                      7.13       20.69           3.292984e-04\n",
      "483  Thane, India                           29.83              19.34                      31.74           51.96                      8.51       20.03           3.219574e-04\n",
      "476  Lahore, Pakistan                       32.29              19.35                      28.98           45.85                      6.00       28.36           2.879489e-04\n",
      "482  Tunis, Tunisia                         29.93              18.40                      28.94           32.94                      6.51       20.42           2.860761e-04\n",
      "460  Arad, Romania                          35.12              21.96                      30.37           60.36                      8.38       25.30           2.669226e-04\n",
      "486  Karachi, Pakistan                      29.11              18.46                      29.16           35.72                      7.48       21.44           2.623949e-04\n",
      "454  Yogyakarta, Indonesia                  36.17              20.95                      40.10           29.97                      5.26       15.12           2.598103e-04\n",
      "463  Nis, Serbia                            34.55              19.99                      27.09           34.19                      4.98       28.29           2.592864e-04\n",
      "500  Lviv, Ukraine                          26.97              17.87                      22.66           22.69                      8.48       17.35           2.523471e-04\n",
      "473  Delhi, India                           32.66              21.44                      32.63           67.67                      9.87       25.61           2.512096e-04\n",
      "437  Medan, Indonesia                       38.57              21.86                      43.23           39.89                      4.63       20.68           2.498605e-04\n",
      "474  Cali, Colombia                         32.41              19.89                      28.66           36.33                      6.99       23.43           2.388145e-04\n",
      "458  Gurgaon, India                         36.05              23.37                      35.31           98.51                      10.30      31.73           2.367936e-04\n",
      "469  Davao, Philippines                     33.33              20.22                      33.26           27.93                      6.70       16.53           2.274918e-04\n",
      "462  Kathmandu, Nepal                       34.89              19.98                      33.47           23.20                      4.61       19.83           2.173240e-04\n",
      "446  Brasov, Romania                        36.88              22.93                      31.56           59.73                      8.56       30.70           1.952776e-04\n",
      "496  Kharkiv, Ukraine                       27.85              19.03                      22.03           22.54                      9.94       19.26           1.918985e-04\n",
      "418  Bursa, Turkey                          41.20              24.25                      36.96           55.71                      6.77       28.29           1.910215e-04\n",
      "387  Selangor, Malaysia                     44.81              27.72                      51.21           84.16                      10.11      20.33           1.784381e-04\n",
      "429  Banja Luka, Bosnia And Herzegovina     39.28              23.26                      33.45           42.40                      6.75       27.43           1.742885e-04\n",
      "440  Chengdu, China                         38.13              24.88                      36.53           69.81                      11.22      27.48           1.625517e-04\n",
      "417  Antalya, Turkey                        41.27              24.38                      36.99           50.86                      6.96       29.47           1.624307e-04\n",
      "459  Puebla, Mexico                         35.58              21.88                      31.68           43.28                      7.75       30.56           1.621217e-04\n",
      "442  Novi Sad, Serbia                       37.94              22.65                      30.73           35.97                      6.88       27.72           1.617703e-04\n",
      "434  Bandung, Indonesia                     38.74              22.46                      47.12           28.70                      5.67       17.24           1.608410e-04\n",
      "461  Quezon City, Philippines               35.03              21.33                      32.87           25.99                      7.21       19.64           1.594005e-04\n",
      "449  Dhaka, Bangladesh                      36.56              21.82                      35.32           34.68                      6.63       25.78           1.571288e-04\n",
      "422  Katowice, Poland                       40.31              26.03                      33.87           74.06                      11.30      30.72           1.562630e-04\n",
      "435  Plovdiv, Bulgaria                      38.72              22.99                      35.02           41.87                      6.77       29.91           1.524918e-04\n",
      "445  Skopje, Macedonia                      37.33              23.01                      30.52           37.51                      8.26       27.99           1.424038e-04\n",
      "468  Chisinau, Moldova                      33.40              21.47                      27.81           27.77                      9.18       23.21           1.403171e-04\n",
      "451  Guadalajara, Mexico                    36.49              22.72                      37.24           52.24                      8.53       32.25           1.397465e-04\n",
      "465  Islamabad, Pakistan                    34.06              21.77                      31.86           32.41                      9.10       23.75           1.381922e-04\n",
      "402  Ostrava, Czech Republic                43.20              26.89                      39.47           67.90                      10.07      30.57           1.293582e-04\n",
      "441  Cancun, Mexico                         38.03              24.14                      31.65           56.32                      9.82       37.58           1.267927e-04\n",
      "432  Timisoara, Romania                     38.84              24.59                      33.80           52.10                      9.89       31.98           1.254778e-04\n",
      "343  Ad Dammam, Saudi Arabia                52.16              32.57                      46.92           124.08                     12.37      32.72           1.252631e-04\n",
      "444  Queretaro, Mexico                      37.59              23.88                      36.97           53.60                      9.75       32.48           1.217930e-04\n",
      "438  Iasi, Romania                          38.51              24.13                      32.17           45.67                      9.31       32.57           1.215735e-04\n",
      "433  Sibiu, Romania                         38.79              23.62                      33.21           39.29                      7.97       32.16           1.189923e-04\n",
      "464  Medellin, Colombia                     34.30              21.90                      31.56           29.91                      9.12       25.58           1.184377e-04\n",
      "455  Puerto Vallarta, Mexico                36.15              23.51                      36.40           53.34                      10.49      32.64           1.183907e-04\n",
      "403  Ankara, Turkey                         43.18              25.88                      39.63           52.67                      8.05       32.59           1.173212e-04\n",
      "424  Varna, Bulgaria                        40.18              24.40                      36.77           43.91                      8.13       32.69           1.118290e-04\n",
      "479  Kiev, Ukraine                          31.28              22.57                      24.51           28.42                      13.59      24.40           1.117905e-04\n",
      "415  Izmir, Turkey                          41.69              25.36                      38.49           43.99                      8.53       29.08           1.105174e-04\n",
      "352  Al Khobar, Saudi Arabia                51.36              33.51                      47.22           135.53                     15.12      33.67           1.097715e-04\n",
      "370  Osijek, Croatia                        47.98              27.89                      41.88           52.90                      7.17       33.68           1.090178e-04\n",
      "397  Olomouc, Czech Republic                43.74              28.14                      42.36           70.25                      12.05      29.58           1.063718e-04\n",
      "447  Tijuana, Mexico                        36.87              23.27                      35.46           43.13                      9.25       33.83           1.054202e-04\n",
      "420  Monterrey, Mexico                      40.80              26.73                      38.81           76.85                      12.23      38.31           1.035861e-04\n",
      "467  Odesa, Ukraine                         33.60              22.39                      24.64           26.62                      10.83      28.77           1.031953e-04\n",
      "407  Lodz, Poland                           42.58              27.50                      34.40           59.73                      11.96      33.61           1.014446e-04\n",
      "410  Szczecin, Poland                       42.21              27.21                      34.70           55.80                      11.76      32.29           1.003261e-04\n",
      "413  Sarajevo, Bosnia And Herzegovina       41.89              25.75                      36.48           42.32                      9.10       30.47           9.987726e-05\n",
      "450  Merida, Mexico                         36.53              22.61                      37.50           32.08                      8.27       28.53           9.925357e-05\n",
      "307  Kaohsiung, Taiwan                      60.51              36.01                      72.90           114.38                     10.75      24.31           9.922063e-05\n",
      "452  Asuncion, Paraguay                     36.46              23.71                      32.08           31.67                      10.55      26.31           9.754920e-05\n",
      "471  Mumbai, India                          32.93              27.88                      35.65           61.47                      22.66      23.74           9.733551e-05\n",
      "457  Yerevan, Armenia                       36.07              23.12                      29.56           31.13                      9.77       32.57           9.175215e-05\n",
      "426  Cluj-Napoca, Romania                   39.79              26.36                      34.83           50.24                      12.51      31.60           9.170179e-05\n",
      "396  Gdynia, Poland                         43.79              28.57                      36.82           63.58                      12.88      34.21           8.949378e-05\n",
      "414  Sofia, Bulgaria                        41.76              26.89                      37.17           51.44                      11.55      32.50           8.828411e-05\n",
      "368  Penang, Malaysia                       48.13              29.43                      56.59           61.43                      10.15      25.17           8.828272e-05\n",
      "436  Tirana, Albania                        38.65              24.39                      32.47           32.00                      9.70       30.28           8.681416e-05\n",
      "360  Riyadh, Saudi Arabia                   50.38              33.92                      44.23           113.64                     16.94      34.94           8.616280e-05\n",
      "346  Jeddah (Jiddah), Saudi Arabia          51.93              33.98                      43.53           98.53                      15.47      32.99           8.540609e-05\n",
      "470  Tbilisi, Georgia                       33.12              21.97                      28.09           26.68                      10.47      32.16           8.516890e-05\n",
      "430  Casablanca, Morocco                    39.22              27.18                      36.32           46.84                      14.77      26.28           8.471447e-05\n",
      "408  Surabaya, Indonesia                    42.58              25.97                      49.19           29.89                      8.85       19.25           8.376632e-05\n",
      "386  Gdansk, Poland                         44.92              30.24                      35.33           68.69                      15.10      35.43           8.090252e-05\n",
      "453  Kampala, Uganda                        36.40              22.47                      32.58           19.34                      8.11       25.13           8.001855e-05\n",
      "419  Lublin, Poland                         41.13              27.87                      33.97           50.16                      14.20      31.92           7.920490e-05\n",
      "401  Poznan, Poland                         43.29              28.88                      37.26           62.53                      14.03      35.33           7.820899e-05\n",
      "390  Durban, South Africa                   44.50              30.14                      39.04           83.21                      15.34      40.28           7.751592e-05\n",
      "392  Debrecen, Hungary                      44.35              27.09                      38.71           38.08                      9.30       31.82           7.495438e-05\n",
      "443  Almaty, Kazakhstan                     37.78              25.48                      31.42           42.26                      12.80      37.37           7.442662e-05\n",
      "400  Bydgoszcz, Poland                      43.30              28.75                      35.28           56.70                      13.75      36.28           7.440406e-05\n",
      "472  Baku, Azerbaijan                       32.77              22.04                      29.42           25.32                      10.98      32.71           7.312430e-05\n",
      "365  Petaling Jaya, Malaysia                48.72              30.67                      59.09           56.20                      12.07      22.34           7.239767e-05\n",
      "428  Novosibirsk, Russia                    39.43              26.08                      36.10           40.85                      12.32      32.49           7.169645e-05\n",
      "394  Krakow (Cracow), Poland                44.10              30.73                      36.13           67.86                      16.94      35.59           7.064248e-05\n",
      "376  Kota Kinabalu, Malaysia                47.02              28.10                      57.47           38.20                      8.60       23.36           7.036687e-05\n",
      "439  Bogota, Colombia                       38.18              26.14                      33.56           33.71                      13.71      27.58           6.957755e-05\n",
      "456  Minsk, Belarus                         36.11              24.16                      30.07           34.58                      11.84      39.17           6.866870e-05\n",
      "399  Podgorica, Montenegro                  43.48              27.65                      36.48           43.96                      11.33      36.03           6.789209e-05\n",
      "405  Rabat, Morocco                         42.62              27.54                      39.14           36.19                      11.99      26.74           6.766650e-05\n",
      "409  Bucharest, Romania                     42.28              27.82                      35.50           50.74                      12.91      38.81           6.747102e-05\n",
      "423  Algiers, Algeria                       40.25              24.99                      42.91           28.61                      9.26       26.67           6.707481e-05\n",
      "412  Yekaterinburg, Russia                  41.93              27.08                      37.88           44.02                      11.76      35.40           6.657400e-05\n",
      "362  Pretoria, South Africa                 49.89              32.74                      43.49           90.54                      15.06      43.40           6.384441e-05\n",
      "416  Belgrade, Serbia                       41.52              26.49                      31.44           34.83                      10.99      38.05           6.380596e-05\n",
      "383  Guangzhou, China                       45.28              32.14                      46.84           69.15                      18.60      28.80           6.086441e-05\n",
      "372  Johor Bahru, Malaysia                  47.60              29.38                      60.40           41.41                      10.59      23.05           5.900577e-05\n",
      "379  Kuala Lumpur, Malaysia                 46.67              32.23                      49.88           68.39                      17.35      28.78           5.883532e-05\n",
      "369  Johannesburg, South Africa             48.10              34.21                      42.49           104.97                     19.89      44.33           5.825066e-05\n",
      "349  Braga, Portugal                        51.49              32.06                      44.09           56.79                      12.02      35.80           5.813282e-05\n",
      "371  Brno, Czech Republic                   47.67              32.42                      43.94           65.20                      16.69      32.88           5.672235e-05\n",
      "391  Wroclaw, Poland                        44.39              31.03                      37.03           58.58                      17.27      37.09           5.563670e-05\n",
      "421  Mexico City, Mexico                    40.77              29.38                      39.00           54.57                      17.64      36.19           5.376027e-05\n",
      "389  Cuenca, Ecuador                        44.51              27.79                      46.40           33.91                      10.55      28.99           5.368482e-05\n",
      "384  Bali, Indonesia                        45.08              27.00                      52.25           25.30                      8.35       25.27           5.090478e-05\n",
      "431  Colombo, Sri Lanka                     39.21              25.48                      43.32           22.62                      11.33      23.41           5.020835e-05\n",
      "355  Kaunas, Lithuania                      51.08              31.11                      41.34           47.89                      10.52      44.05           4.893976e-05\n",
      "339  Coimbra, Portugal                      52.59              33.40                      45.69           64.23                      13.62      40.37           4.861583e-05\n",
      "381  Warsaw, Poland                         46.32              33.56                      37.86           67.94                      20.42      39.58           4.793413e-05\n",
      "359  Kosice, Slovakia                       50.60              33.13                      46.73           51.54                      15.11      30.46           4.735913e-05\n",
      "323  Patras, Greece                         55.85              32.78                      47.11           58.61                      9.00       53.87           4.594581e-05\n",
      "375  Istanbul, Turkey                       47.42              31.65                      42.43           48.69                      15.39      35.12           4.477257e-05\n",
      "411  Kigali, Rwanda                         42.06              27.90                      33.99           24.21                      13.31      29.58           4.301284e-05\n",
      "340  Tartu, Estonia                         52.40              33.71                      41.83           66.49                      14.43      49.10           4.281435e-05\n",
      "406  Manila, Philippines                    42.59              31.20                      40.91           39.66                      19.46      27.72           4.219680e-05\n",
      "366  Budapest, Hungary                      48.64              32.63                      39.62           47.17                      16.13      36.00           4.215227e-05\n",
      "395  Ho Chi Minh City, Vietnam              44.06              31.00                      49.01           33.18                      17.54      21.11           4.149821e-05\n",
      "357  Curitiba, Brazil                       50.86              31.81                      40.90           43.74                      12.16      41.68           4.148755e-05\n",
      "427  Astana, Kazakhstan                     39.45              27.99                      33.98           36.81                      16.19      41.37           4.099804e-05\n",
      "317  Granada, Spain                         56.89              35.85                      51.56           79.88                      14.16      48.33           3.979323e-05\n",
      "361  Las Palmas, Spain                      50.18              33.81                      44.24           72.51                      16.93      49.45           3.901475e-05\n",
      "398  Cebu, Philippines                      43.57              28.07                      45.73           21.97                      12.09      24.44           3.731761e-05\n",
      "324  Zagreb, Croatia                        55.84              34.99                      49.38           58.91                      13.49      43.02           3.681376e-05\n",
      "373  Chiang Mai, Thailand                   47.50              29.88                      60.84           28.14                      11.72      22.82           3.640810e-05\n",
      "356  Prague, Czech Republic                 50.87              36.75                      45.88           67.23                      22.19      36.59           3.547793e-05\n",
      "331  Santa Cruz De Tenerife, Spain          54.66              35.93                      46.85           81.53                      16.62      55.47           3.453417e-05\n",
      "378  Cape Town, South Africa                46.95              37.15                      42.24           78.12                      27.06      42.68           3.410755e-05\n",
      "312  Campinas, Brazil                       57.97              36.17                      46.96           55.63                      13.69      44.39           3.362707e-05\n",
      "325  Cordoba, Argentina                     55.79              33.72                      49.35           48.99                      10.96      49.92           3.252212e-05\n",
      "350  Shenzhen, China                        51.44              38.06                      56.04           72.73                      24.25      32.73           3.178753e-05\n",
      "328  Phuket, Thailand                       55.08              34.81                      60.64           39.72                      13.90      26.92           3.178090e-05\n",
      "338  Riga, Latvia                           52.91              33.84                      42.18           46.77                      14.18      46.74           3.161973e-05\n",
      "404  Tehran, Iran                           42.67              31.95                      40.02           36.85                      20.89      32.72           3.157083e-05\n",
      "341  Bratislava, Slovakia                   52.35              36.59                      48.10           63.59                      20.35      39.34           3.154484e-05\n",
      "336  Porto, Portugal                        53.77              36.23                      46.12           58.50                      18.14      42.47           3.062013e-05\n",
      "385  Ulaanbaatar, Mongolia                  44.95              31.35                      43.45           29.97                      17.33      29.30           3.022046e-05\n",
      "425  Lagos, Nigeria                         39.86              29.28                      41.47           19.04                      18.37      20.83           3.010213e-05\n",
      "367  Guatemala City, Guatemala              48.57              32.58                      46.53           40.26                      16.10      37.11           2.981644e-05\n",
      "351  Baghdad, Iraq                          51.41              33.52                      46.83           47.20                      15.08      43.70           2.975003e-05\n",
      "315  Rijeka, Croatia                        57.26              34.78                      49.86           42.67                      11.61      43.71           2.945140e-05\n",
      "332  Porto Alegre, Brazil                   54.54              34.52                      45.96           41.31                      13.87      41.83           2.840506e-05\n",
      "380  Saint Petersburg, Russia               46.66              33.20                      39.01           46.63                      19.33      46.68           2.839109e-05\n",
      "313  Malaga, Spain                          57.64              38.76                      47.94           84.51                      19.29      56.68           2.797203e-05\n",
      "348  Belo Horizonte, Brazil                 51.63              32.56                      42.08           30.85                      12.91      39.34           2.795868e-05\n",
      "382  Lima, Peru                             46.20              32.56                      43.24           35.35                      18.50      34.70           2.756516e-05\n",
      "337  Vilnius, Lithuania                     53.26              35.16                      42.73           48.59                      16.51      47.01           2.750905e-05\n",
      "388  Hanoi, Vietnam                         44.77              30.33                      43.69           19.51                      15.45      24.20           2.667745e-05\n",
      "280  Bremen, Germany                        67.22              44.65                      51.25           128.83                     21.38      65.82           2.657413e-05\n",
      "374  Beijing, China                         47.47              40.98                      49.34           75.50                      34.29      35.53           2.645854e-05\n",
      "275  Dresden, Germany                       68.20              44.36                      55.23           107.42                     19.77      55.27           2.609934e-05\n",
      "314  Tallinn, Estonia                       57.45              37.10                      44.73           62.36                      16.11      57.92           2.600717e-05\n",
      "342  Florianopolis, Brazil                  52.18              33.59                      41.98           34.58                      14.42      42.34           2.585606e-05\n",
      "303  Heraklion, Greece                      62.54              36.77                      56.69           52.80                      10.19      56.83           2.571685e-05\n",
      "308  Valencia, Spain                        59.16              39.19                      50.76           81.71                      18.60      57.79           2.531394e-05\n",
      "301  Sharjah, United Arab Emirates          62.75              46.32                      55.77           112.18                     29.39      43.26           2.521244e-05\n",
      "318  Sevilla, Spain                         56.49              38.50                      50.08           73.77                      19.96      52.62           2.482747e-05\n",
      "354  Guayaquil, Ecuador                     51.17              32.66                      47.48           31.04                      13.58      37.93           2.480350e-05\n",
      "316  Split, Croatia                         57.26              35.47                      50.68           47.32                      13.00      51.48           2.436548e-05\n",
      "393  Nairobi, Kenya                         44.15              29.13                      42.80           22.27                      13.66      35.64           2.420791e-05\n",
      "322  Recife, Brazil                         55.91              34.71                      50.49           36.38                      12.85      41.71           2.404499e-05\n",
      "244  Taipei, Taiwan                         71.40              46.19                      90.68           98.30                      20.20      33.04           2.274848e-05\n",
      "363  Quito, Ecuador                         49.84              32.30                      50.57           29.91                      14.22      37.06           2.251855e-05\n",
      "272  Taichung, Taiwan                       69.00              40.97                      89.23           51.13                      12.07      30.56           2.251413e-05\n",
      "304  Thessaloniki, Greece                   62.20              36.84                      50.66           44.31                      10.70      59.25           2.218064e-05\n",
      "292  Zaragoza (Saragossa), Spain            64.59              40.08                      56.00           67.12                      14.82      58.60           2.136746e-05\n",
      "353  San Salvador, El Salvador              51.19              31.78                      51.25           24.94                      11.77      37.85           2.133905e-05\n",
      "284  Leipzig, Germany                       66.65              43.39                      51.09           84.79                      19.40      60.34           2.127167e-05\n",
      "364  Jakarta, Indonesia                     49.44              35.80                      55.49           35.10                      21.74      27.68           2.126123e-05\n",
      "260  Toledo, OH, United States              70.34              46.13                      65.31           122.39                     21.16      59.33           2.122139e-05\n",
      "302  Limassol, Cyprus                       62.63              41.74                      52.97           92.17                      20.20      66.19           2.077942e-05\n",
      "326  Muscat, Oman                           55.40              42.19                      51.84           95.70                      28.56      56.91           2.050172e-05\n",
      "264  Aachen, Germany                        69.94              46.63                      57.61           118.22                     22.61      64.01           2.027305e-05\n",
      "329  Santiago, Chile                        55.01              36.17                      49.17           46.27                      16.75      51.38           1.987690e-05\n",
      "319  Brasilia, Brazil                       56.14              36.15                      47.68           37.65                      15.55      46.08           1.962969e-05\n",
      "290  Tucson, AZ, United States              65.37              44.98                      66.41           133.70                     23.96      65.65           1.957933e-05\n",
      "289  Nicosia, Cyprus                        65.45              40.78                      55.82           80.35                      15.34      75.69           1.894186e-05\n",
      "253  Nuremberg, Germany                     70.68              47.49                      55.33           120.30                     23.59      70.20           1.857562e-05\n",
      "335  Bangkok, Thailand                      54.15              39.64                      63.28           39.66                      24.69      25.35           1.849221e-05\n",
      "377  Pattaya, Thailand                      47.02              32.27                      53.16           22.82                      17.05      29.30           1.827494e-05\n",
      "309  Buenos Aires, Argentina                58.82              37.85                      51.48           50.94                      16.23      56.77           1.825820e-05\n",
      "247  Windsor, Canada                        71.18              46.04                      66.44           106.15                     20.12      62.45           1.786372e-05\n",
      "295  Ljubljana, Slovenia                    64.38              41.91                      55.71           62.86                      18.75      52.85           1.768658e-05\n",
      "291  Kitchener, Canada                      64.90              45.59                      61.13           110.51                     25.68      61.39           1.766891e-05\n",
      "298  Athens, Greece                         63.17              38.37                      52.05           46.02                      12.80      62.51           1.749265e-05\n",
      "321  Lisbon, Portugal                       55.94              40.75                      46.75           55.22                      25.08      48.16           1.748148e-05\n",
      "296  Athens, GA, United States              63.81              44.69                      61.12           115.33                     24.98      69.13           1.712424e-05\n",
      "327  Irbil, Iraq                            55.36              36.00                      46.87           39.83                      16.03      56.19           1.704224e-05\n",
      "237  Quebec City, Canada                    71.94              45.27                      76.11           101.72                     17.78      64.92           1.609474e-05\n",
      "256  Moncton, Canada                        70.55              44.83                      71.92           94.85                      18.32      64.20           1.589389e-05\n",
      "294  San Antonio, TX, United States         64.53              50.28                      64.35           151.28                     35.59      64.45           1.588256e-05\n",
      "279  Oklahoma City, OK, United States       67.35              47.39                      72.88           127.31                     26.80      61.47           1.574413e-05\n",
      "288  Hamilton, Canada                       65.63              45.94                      59.21           103.59                     25.64      66.22           1.570049e-05\n",
      "287  Huntsville, AL, United States          66.34              47.71                      70.03           132.14                     28.50      63.59           1.569427e-05\n",
      "297  Springfield, MO, United States         63.53              41.46                      70.79           75.00                      18.71      59.02           1.510211e-05\n",
      "330  Makati, Philippines                    54.67              41.21                      59.93           42.77                      27.34      32.23           1.481450e-05\n",
      "344  Phnom Penh, Cambodia                   51.97              35.70                      57.80           21.15                      18.94      25.10           1.481072e-05\n",
      "223  Karlsruhe, Germany                     72.62              48.99                      54.69           113.65                     24.63      78.94           1.471783e-05\n",
      "268  Mobile, AL, United States              69.53              47.37                      74.84           123.62                     24.51      66.25           1.463031e-05\n",
      "239  Cologne, Germany                       71.65              50.07                      55.35           111.00                     27.81      69.27           1.452924e-05\n",
      "236  Fort Wayne, IN, United States          71.94              47.29                      81.86           127.49                     21.88      68.39           1.446752e-05\n",
      "265  Kansas City, MO, United States         69.90              49.92                      70.80           134.67                     29.32      64.51           1.438697e-05\n",
      "358  Moscow, Russia                         50.74              41.72                      40.37           51.46                      32.41      54.24           1.429097e-05\n",
      "269  Albuquerque, NM, United States         69.52              47.68                      72.62           123.47                     25.16      68.17           1.425908e-05\n",
      "282  Knoxville, TN, United States           66.87              48.65                      69.13           129.10                     29.87      65.70           1.423075e-05\n",
      "267  Marseille, France                      69.73              46.14                      66.57           94.45                      21.83      66.26           1.406691e-05\n",
      "270  Liverpool, United Kingdom              69.35              46.77                      53.69           98.90                      23.49      80.98           1.396354e-05\n",
      "311  Sao Paulo, Brazil                      58.07              39.29                      46.75           36.68                      19.93      48.63           1.394069e-05\n",
      "263  Brescia, Italy                         70.11              44.54                      60.99           79.03                      18.17      74.19           1.371049e-05\n",
      "130  Osaka, Japan                           79.56              52.25                      80.91           94.80                      24.08      44.73           1.367275e-05\n",
      "333  Harare, Zimbabwe                       54.52              35.05                      48.17           21.74                      14.98      40.49           1.364795e-05\n",
      "334  Santo Domingo, Dominican Republic      54.17              33.88                      47.65           22.44                      12.95      49.69           1.351022e-05\n",
      "249  Newcastle Upon Tyne, United Kingdom    70.97              48.17                      56.47           105.44                     24.67      79.46           1.342132e-05\n",
      "216  Gatineau, Canada                       72.96              46.23                      80.92           96.95                      18.66      65.61           1.341298e-05\n",
      "257  Dallas, TX, United States              70.47              54.78                      69.25           171.08                     38.60      68.82           1.319694e-05\n",
      "234  Sheffield, United Kingdom              72.06              48.41                      55.84           104.15                     24.02      82.37           1.308210e-05\n",
      "285  Boise, ID, United States               66.58              47.31                      67.43           108.08                     27.45      67.32           1.302753e-05\n",
      "273  Belfast, United Kingdom                68.51              45.73                      63.53           96.37                      22.25      76.90           1.294055e-05\n",
      "300  Reno, NV, United States                62.75              47.60                      55.85           97.30                      31.98      67.85           1.279522e-05\n",
      "306  Manama, Bahrain                        60.68              45.30                      60.98           75.45                      29.45      54.76           1.264380e-05\n",
      "231  Bonn, Germany                          72.23              50.37                      56.55           98.18                      27.82      68.41           1.262979e-05\n",
      "305  Amman, Jordan                          62.03              38.85                      54.76           37.10                      14.96      58.22           1.254021e-05\n",
      "165  Coventry, United Kingdom               76.71              51.18                      65.03           106.76                     24.87      68.85           1.249865e-05\n",
      "192  Graz, Austria                          74.98              49.38                      72.61           96.54                      22.98      62.51           1.234428e-05\n",
      "140  Greensboro, NC, United States          78.98              52.53                      90.06           133.43                     25.26      61.02           1.217023e-05\n",
      "250  Pensacola, FL, United States           70.90              49.78                      75.85           116.64                     28.00      64.15           1.207511e-05\n",
      "185  Nantes, France                         75.22              48.90                      69.74           103.53                     21.77      75.54           1.200095e-05\n",
      "211  Fredericton, Canada                    73.10              46.28                      76.98           88.24                      18.62      70.32           1.197600e-05\n",
      "230  Berlin, Germany                        72.32              51.71                      61.25           96.65                      30.47      59.88           1.195868e-05\n",
      "199  Stuttgart, Germany                     74.52              53.36                      56.92           114.35                     31.54      72.24           1.183202e-05\n",
      "320  Shanghai, China                        55.96              47.02                      63.59           62.84                      37.81      39.60           1.179418e-05\n",
      "178  Augusta, GA, United States             75.83              48.59                      83.71           100.72                     20.52      65.58           1.179094e-05\n",
      "259  Palma De Mallorca, Spain               70.38              46.31                      62.43           72.70                      21.48      66.72           1.154520e-05\n",
      "310  Rio De Janeiro, Brazil                 58.43              40.86                      47.02           33.68                      22.74      46.86           1.150432e-05\n",
      "258  Montreal, Canada                       70.42              48.03                      74.77           99.17                      24.94      65.86           1.146671e-05\n",
      "242  Ann Arbor, MI, United States           71.41              56.99                      72.37           152.98                     42.12      62.74           1.120171e-05\n",
      "217  Chattanooga, TN, United States         72.94              50.39                      80.35           116.33                     27.14      65.89           1.109969e-05\n",
      "227  London, Canada                         72.36              48.74                      72.67           94.42                      24.38      66.58           1.106198e-05\n",
      "254  Birmingham, United Kingdom             70.65              49.41                      58.41           95.40                      27.50      76.05           1.105394e-05\n",
      "177  Dayton, OH, United States              75.86              48.92                      87.31           92.25                      21.14      59.68           1.103966e-05\n",
      "255  Cardiff, United Kingdom                70.64              48.59                      67.39           95.26                      25.85      70.64           1.095855e-05\n",
      "203  Las Vegas, NV, United States           74.03              52.77                      70.97           137.36                     30.85      77.69           1.090831e-05\n",
      "225  Columbus, OH, United States            72.48              53.68                      72.85           127.65                     34.29      65.50           1.076377e-05\n",
      "182  Saint Louis, MO, United States         75.57              53.24                      79.36           138.13                     30.21      71.65           1.064070e-05\n",
      "262  Salt Lake City, UT, United States      70.30              53.67                      70.54           137.74                     36.53      71.50           1.063441e-05\n",
      "213  Fort Worth, TX, United States          73.02              54.48                      75.47           138.85                     35.36      67.27           1.059244e-05\n",
      "243  Vancouver, WA, United States           71.41              52.19                      69.54           114.44                     32.38      67.33           1.057058e-05\n",
      "184  Birmingham, AL, United States          75.32              52.10                      78.05           130.74                     28.16      74.72           1.056953e-05\n",
      "238  Winnipeg, Canada                       71.85              48.58                      73.05           91.56                      24.59      67.34           1.053482e-05\n",
      "240  Turin, Italy                           71.63              46.91                      61.23           73.54                      21.43      74.34           1.052494e-05\n",
      "195  Durham, NC, United States              74.94              55.30                      82.87           150.01                     35.04      65.67           1.049731e-05\n",
      "167  Nottingham, United Kingdom             76.43              50.48                      68.24           95.28                      23.73      73.62           1.045696e-05\n",
      "233  Bakersfield, CA, United States         72.08              50.47                      75.73           110.66                     28.20      68.96           1.042465e-05\n",
      "222  Nanaimo, BC, Canada                    72.64              48.38                      81.24           85.70                      23.36      60.16           1.033367e-05\n",
      "206  Spokane, WA, United States             73.72              50.73                      77.50           108.18                     27.02      67.93           1.031604e-05\n",
      "241  Phoenix, AZ, United States             71.45              52.04                      67.59           122.68                     32.02      77.01           1.030198e-05\n",
      "166  Heidelberg, Germany                    76.57              55.78                      67.21           121.62                     34.35      67.16           1.024413e-05\n",
      "215  Lexington, KY, United States           73.01              50.78                      77.85           104.85                     27.86      64.70           1.023392e-05\n",
      "347  Addis Ababa, Ethiopia                  51.69              37.33                      46.34           13.03                      22.52      23.65           1.021368e-05\n",
      "286  College Station, TX, United States     66.43              49.84                      75.55           100.41                     32.74      59.93           1.019660e-05\n",
      "90   Haifa, Israel                          82.90              52.80                      69.55           114.85                     21.77      90.85           1.007154e-05\n",
      "246  Guelph, Canada                         71.22              50.15                      70.26           96.81                      28.42      68.49           9.939370e-06\n",
      "248  Ottawa, Canada                         71.16              51.52                      68.10           110.28                     31.28      73.36           9.917167e-06\n",
      "212  Tulsa, OK, United States               73.08              51.43                      79.06           108.64                     29.11      65.40           9.876759e-06\n",
      "299  San Jose, Costa Rica                   62.82              41.43                      66.54           39.41                      19.37      49.73           9.787632e-06\n",
      "261  Gainesville, FL, United States         70.31              49.52                      74.31           89.78                      28.09      62.58           9.775252e-06\n",
      "214  Regina, Canada                         73.02              50.43                      76.75           97.16                      27.15      65.63           9.729602e-06\n",
      "119  Lethbridge, AB, Canada                 80.81              52.97                      82.39           96.37                      24.26      61.44           9.710917e-06\n",
      "224  Wichita, KS, United States             72.56              49.08                      78.53           94.16                      24.87      68.65           9.678705e-06\n",
      "278  Madrid, Spain                          67.57              49.37                      59.52           77.35                      30.60      65.45           9.603121e-06\n",
      "159  Harrisburg, PA, United States          77.53              52.50                      88.04           116.75                     26.70      66.89           9.577113e-06\n",
      "274  Malta, Malta                           68.40              46.12                      54.56           57.76                      23.15      69.94           9.559168e-06\n",
      "81   Olympia, WA, United States             84.07              58.13                      92.66           171.26                     31.38      73.70           9.506095e-06\n",
      "251  Kingston, Canada                       70.82              49.90                      72.66           86.31                      28.33      62.66           9.448717e-06\n",
      "164  Lille, France                          76.74              50.61                      67.30           83.01                      23.66      72.73           9.340395e-06\n",
      "202  Rochester, NY, United States           74.12              52.32                      80.49           121.55                     29.85      73.53           9.282580e-06\n",
      "252  Madison, WI, United States             70.79              54.26                      70.54           120.06                     37.22      69.64           9.275895e-06\n",
      "271  Kingston, Jamaica                      69.25              42.32                      73.27           27.35                      14.56      40.14           9.223009e-06\n",
      "153  Little Rock, AR, United States         78.20              52.29                      90.26           111.23                     25.58      66.91           9.207215e-06\n",
      "189  Norwich, United Kingdom                75.10              50.20                      59.03           77.85                      24.54      77.77           9.201513e-06\n",
      "276  Barcelona, Spain                       68.00              49.29                      58.54           70.89                      30.00      64.74           9.169157e-06\n",
      "345  Dar Es Salaam, Tanzania                51.94              38.84                      38.81           16.12                      25.33      34.51           9.148277e-06\n",
      "139  Waterloo, Canada                       79.02              53.82                      80.05           111.27                     27.85      69.05           9.147256e-06\n",
      "118  Lund, Sweden                           80.82              51.87                      77.83           102.88                     22.03      81.28           9.134124e-06\n",
      "148  Plano, TX, United States               78.55              59.68                      78.10           149.09                     40.22      66.46           9.091779e-06\n",
      "174  Calgary, Canada                        76.09              54.29                      76.30           117.87                     31.82      70.71           9.023399e-06\n",
      "220  Virginia Beach, VA, United States      72.88              55.24                      75.53           126.81                     37.05      69.37           8.963255e-06\n",
      "209  Cincinnati, OH, United States          73.22              53.12                      72.84           108.68                     32.40      70.24           8.954069e-06\n",
      "143  Memphis, TN, United States             78.80              54.19                      84.63           125.81                     28.82      73.14           8.949848e-06\n",
      "162  Fresno, CA, United States              77.15              54.78                      78.07           131.93                     31.72      77.20           8.944848e-06\n",
      "228  Leeds, United Kingdom                  72.34              50.52                      63.62           92.16                      28.02      80.12           8.919925e-06\n",
      "196  Louisville, KY, United States          74.89              51.97                      87.46           106.05                     28.35      64.14           8.904209e-06\n",
      "221  Southampton, United Kingdom            72.77              52.33                      61.49           95.25                      31.26      76.78           8.868926e-06\n",
      "187  Glasgow, United Kingdom                75.20              52.08                      64.82           99.45                      28.24      82.93           8.711673e-06\n",
      "204  San Juan, Puerto Rico                  73.99              51.40                      74.15           89.06                      28.12      67.26           8.582747e-06\n",
      "172  York, United Kingdom                   76.24              52.44                      67.26           101.79                     27.91      83.31           8.537061e-06\n",
      "173  Trieste, Italy                         76.20              48.90                      72.81           80.27                      20.74      83.25           8.379426e-06\n",
      "183  Edmonton, Canada                       75.51              52.68                      77.57           97.38                      29.15      68.17           8.366420e-06\n",
      "157  Uppsala, Sweden                        77.78              52.65                      68.20           98.13                      26.74      84.22           8.214343e-06\n",
      "105  Turku, Finland                         82.07              54.00                      73.27           105.86                     25.07      86.38           8.129311e-06\n",
      "194  Groningen, Netherlands                 74.95              51.56                      64.61           90.22                      27.45      83.66           8.112809e-06\n",
      "115  Toulouse, France                       81.00              53.31                      78.82           102.14                     24.76      79.73           8.104048e-06\n",
      "149  Grand Rapids, MI, United States        78.54              55.96                      82.13           122.50                     32.68      72.53           8.012050e-06\n",
      "200  Tallahassee, FL, United States         74.38              52.42                      86.14           89.04                      29.79      59.97           7.778925e-06\n",
      "160  Rotterdam, Netherlands                 77.47              54.60                      61.07           97.14                      31.02      85.16           7.772472e-06\n",
      "193  Houston, TX, United States             74.95              59.80                      79.60           147.15                     44.18      72.10           7.743095e-06\n",
      "226  Bilbao, Spain                          72.42              50.93                      67.13           78.55                      28.78      72.53           7.740385e-06\n",
      "137  Malmo, Sweden                          79.24              53.58                      76.99           106.32                     27.11      83.08           7.737670e-06\n",
      "133  Milwaukee, WI, United States           79.48              56.93                      81.20           127.22                     33.67      75.73           7.730907e-06\n",
      "180  Raleigh, NC, United States             75.81              57.23                      87.07           137.76                     38.07      71.67           7.649055e-06\n",
      "131  Detroit, MI, United States             79.50              58.48                      82.70           124.39                     36.81      67.57           7.606644e-06\n",
      "235  Naples, Italy                          71.97              46.54                      70.24           47.72                      20.33      61.38           7.564847e-06\n",
      "57   Beersheba, Israel                      86.99              53.43                      75.86           79.89                      18.83      84.99           7.564707e-06\n",
      "207  Manchester, NH, United States          73.64              53.93                      81.09           102.95                     33.62      67.90           7.552275e-06\n",
      "128  Cleveland, OH, United States           79.64              55.33                      78.00           112.89                     30.27      79.61           7.541358e-06\n",
      "142  Bergamo, Italy                         78.83              50.28                      67.30           73.70                      20.86      88.80           7.499523e-06\n",
      "155  Eindhoven, Netherlands                 77.80              55.21                      60.84           101.65                     31.93      89.83           7.487180e-06\n",
      "210  Kelowna, Canada                        73.20              53.31                      78.56           95.08                      32.80      67.77           7.438156e-06\n",
      "181  Greenville, SC, United States          75.75              56.15                      85.70           116.46                     35.94      67.11           7.437860e-06\n",
      "208  Salem, OR, United States               73.33              51.89                      76.12           90.58                      29.80      73.66           7.392713e-06\n",
      "138  Fayetteville, AR, United States        79.07              51.43                      88.70           80.29                      22.93      67.54           7.391983e-06\n",
      "134  Barrie, Canada                         79.28              53.09                      81.44           94.54                      26.09      76.13           7.371982e-06\n",
      "171  Buffalo, NY, United States             76.25              53.27                      76.76           93.86                      29.56      74.27           7.304456e-06\n",
      "40   Hamilton, New Zealand                  90.22              58.53                      84.08           122.44                     25.86      86.07           7.251828e-06\n",
      "106  Hamburg, Germany                       81.95              57.30                      70.58           95.78                      31.88      71.82           7.232368e-06\n",
      "163  Syracuse, NY, United States            76.96              53.09                      81.82           84.89                      28.49      65.68           7.204542e-06\n",
      "201  Mississauga, Canada                    74.34              54.99                      74.52           90.91                      35.04      65.37           7.164298e-06\n",
      "175  Vienna, Austria                        75.98              54.19                      72.42           88.36                      31.71      70.77           7.155706e-06\n",
      "245  Surrey, Canada                         71.37              50.79                      75.26           74.38                      29.56      65.61           7.140059e-06\n",
      "117  Red Deer, Canada                       80.82              53.67                      79.29           91.82                      25.67      78.42           7.117825e-06\n",
      "145  Galway, Ireland                        78.64              55.81                      70.26           98.66                      32.27      78.87           7.015823e-06\n",
      "219  Toronto, Canada                        72.88              57.99                      69.07           103.98                     42.64      69.34           6.986360e-06\n",
      "190  Manchester, United Kingdom             75.02              52.53                      64.27           82.15                      29.34      83.63           6.943845e-06\n",
      "83   Wellington, New Zealand                83.98              60.72                      82.91           133.60                     36.74      75.43           6.923735e-06\n",
      "103  Tampere, Finland                       82.15              54.67                      71.95           94.02                      26.35      87.94           6.864593e-06\n",
      "170  Richmond, VA, United States            76.27              56.68                      88.48           110.98                     36.48      65.84           6.847014e-06\n",
      "277  Abu Dhabi, United Arab Emirates        67.76              68.74                      58.86           124.98                     69.75      65.94           6.813240e-06\n",
      "79   Akron, OH, United States               84.18              53.10                      96.39           77.07                      21.06      66.97           6.734507e-06\n",
      "125  Eugene, OR, United States              80.22              56.19                      94.92           108.26                     31.42      67.22           6.731672e-06\n",
      "150  Parma, Italy                           78.40              51.02                      64.52           72.13                      22.79      93.46           6.694766e-06\n",
      "123  Padova, Italy                          80.46              51.60                      68.41           63.35                      21.85      80.40           6.551481e-06\n",
      "191  Shreveport, LA, United States          75.01              49.83                      83.48           66.12                      23.88      67.61           6.540124e-06\n",
      "113  Asheville, NC, United States           81.19              59.25                      95.78           129.28                     36.62      69.44           6.537714e-06\n",
      "102  Pittsburgh, PA, United States          82.25              61.09                      84.36           131.51                     39.28      74.44           6.481991e-06\n",
      "147  Edinburgh, United Kingdom              78.57              55.99                      71.70           93.93                      32.71      79.39           6.420695e-06\n",
      "151  Saint Petersburg, FL, United States    78.32              59.99                      82.17           133.67                     41.09      79.20           6.382439e-06\n",
      "168  Victoria, Canada                       76.43              56.21                      82.80           100.10                     35.37      70.21           6.369507e-06\n",
      "232  Fort Myers, FL, United States          72.08              51.67                      79.19           71.17                      30.63      64.03           6.357426e-06\n",
      "136  Gold Coast, Australia                  79.24              58.79                      81.07           110.96                     37.71      72.99           6.275407e-06\n",
      "448  Caracas, Venezuela                     36.75              23.45                      39.15           2.96                       9.74       34.73           6.081894e-06\n",
      "109  Maastricht, Netherlands                81.71              56.24                      75.19           90.25                      29.99      80.65           6.073389e-06\n",
      "161  Bologna, Italy                         77.24              51.45                      70.57           66.96                      24.86      81.97           6.028330e-06\n",
      "124  Munich, Germany                        80.31              61.67                      67.70           108.18                     42.45      77.84           6.021548e-06\n",
      "52   Melbourne, FL, United States           87.34              59.47                      104.43          136.52                     30.73      81.84           5.951544e-06\n",
      "56   Lyon, France                           87.04              56.22                      86.32           85.83                      24.45      79.12           5.905323e-06\n",
      "91   Aberdeen, United Kingdom               82.82              57.66                      70.07           102.77                     31.71      94.86           5.887347e-06\n",
      "72   St. John's, NL, Canada                 84.62              53.71                      93.44           82.76                      21.85      81.38           5.886342e-06\n",
      "281  Beirut, Lebanon                        67.13              52.15                      51.31           47.18                      36.70      63.74           5.855462e-06\n",
      "179  Newark, NJ, United States              75.82              56.73                      68.82           96.80                      37.05      85.79           5.836494e-06\n",
      "63   Seoul, South Korea                     85.89              60.05                      107.03          84.05                      33.41      47.48           5.763714e-06\n",
      "188  Bristol, United Kingdom                75.15              56.72                      64.98           90.65                      37.72      85.55           5.752643e-06\n",
      "122  Atlanta, GA, United States             80.68              62.72                      86.13           136.03                     44.20      77.17           5.739097e-06\n",
      "89   The Hague (Den Haag), Netherlands      83.07              58.26                      69.21           94.94                      32.69      88.64           5.698906e-06\n",
      "156  Des Moines, IA, United States          77.79              55.19                      92.55           84.89                      31.89      65.10           5.679640e-06\n",
      "132  Jacksonville, FL, United States        79.48              56.95                      86.89           95.46                      33.71      72.29           5.672269e-06\n",
      "100  Genoa, Italy                           82.35              52.13                      75.05           57.00                      20.97      78.00           5.638551e-06\n",
      "198  Columbia, SC, United States            74.60              52.67                      84.20           73.57                      30.07      69.25           5.624665e-06\n",
      "62   Dusseldorf, Germany                    85.92              60.62                      70.52           95.70                      34.53      82.69           5.531664e-06\n",
      "55   Arhus, Denmark                         87.12              59.79                      67.21           102.14                     31.61      99.80           5.529541e-06\n",
      "82   Gothenburg, Sweden                     84.06              57.16                      79.16           96.41                      29.42      89.95           5.474987e-06\n",
      "144  Newcastle, Australia                   78.76              60.18                      80.92           119.36                     41.02      83.53           5.465867e-06\n",
      "69   Gent, Belgium                          85.32              55.76                      77.08           82.14                      25.28      90.47           5.461104e-06\n",
      "186  Sliema, Malta                          75.21              53.23                      68.97           67.89                      30.56      78.48           5.457046e-06\n",
      "61   Adelaide, Australia                    86.08              60.14                      86.53           105.84                     33.39      78.04           5.453147e-06\n",
      "86   Saskatoon, Canada                      83.15              56.21                      90.72           83.67                      28.44      71.67           5.441736e-06\n",
      "80   Frankfurt, Germany                     84.17              60.64                      74.43           98.02                      36.38      79.26           5.426160e-06\n",
      "229  Fremont, CA, United States             72.33              72.09                      64.86           139.47                     71.85      76.33           5.420800e-06\n",
      "169  Charlotte, NC, United States           76.42              58.66                      80.07           99.98                      40.35      75.86           5.338016e-06\n",
      "65   Ramat Gan, Israel                      85.61              61.41                      73.09           108.03                     36.47      89.45           5.292317e-06\n",
      "116  Indianapolis, IN, United States        80.87              56.10                      86.66           85.50                      30.57      76.61           5.209297e-06\n",
      "152  Nashville, TN, United States           78.28              62.69                      83.87           116.83                     46.63      74.48           5.123796e-06\n",
      "94   Sacramento, CA, United States          82.76              63.45                      87.64           121.89                     43.53      75.56           5.109338e-06\n",
      "107  Orlando, FL, United States             81.87              61.32                      89.93           117.11                     40.14      77.83           5.091435e-06\n",
      "88   Allentown, PA, United States           83.10              59.22                      90.72           93.39                      34.60      70.47           5.080611e-06\n",
      "112  Cork, Ireland                          81.57              59.61                      68.09           88.99                      36.96      86.58           5.007003e-06\n",
      "58   Tacoma, WA, United States              86.78              62.26                      91.42           110.13                     36.99      75.32           4.982532e-06\n",
      "92   Canberra, Australia                    82.81              63.52                      82.67           118.74                     43.63      80.31           4.950072e-06\n",
      "120  Utrecht, Netherlands                   80.70              59.67                      68.94           93.44                      37.98      90.50           4.886349e-06\n",
      "31   Limerick, Ireland                      91.28              58.50                      90.69           80.06                      24.70      80.66           4.854286e-06\n",
      "154  Austin, TX, United States              78.12              65.18                      81.79           122.65                     51.84      77.67           4.767457e-06\n",
      "27   Aalborg, Denmark                       92.12              59.24                      77.34           89.90                      25.34      104.60          4.760618e-06\n",
      "266  Doha, Qatar                            69.87              69.29                      59.25           97.51                      68.70      72.43           4.733636e-06\n",
      "108  Portland, OR, United States            81.72              67.06                      85.72           122.71                     51.94      71.25           4.733503e-06\n",
      "176  Brighton, United Kingdom               75.98              59.03                      60.75           76.23                      41.55      84.26           4.717239e-06\n",
      "73   Brisbane, Australia                    84.56              63.62                      82.30           110.56                     42.04      80.38           4.701349e-06\n",
      "87   Reading, United Kingdom                83.15              61.84                      71.07           102.32                     39.87      93.22           4.658613e-06\n",
      "129  West Palm Beach, FL, United States     79.61              62.16                      85.54           108.90                     44.16      78.17           4.632568e-06\n",
      "98   Halifax, Canada                        82.49              55.72                      89.36           78.76                      28.13      82.37           4.611290e-06\n",
      "75   Leuven, Belgium                        84.43              56.54                      85.53           72.27                      27.78      78.74           4.575253e-06\n",
      "96   Brussels, Belgium                      82.68              58.80                      74.25           86.75                      34.19      90.76           4.553853e-06\n",
      "218  Montevideo, Uruguay                    72.91              46.90                      58.79           29.29                      20.09      74.81           4.546626e-06\n",
      "76   Hobart, Australia                      84.43              57.47                      85.04           87.21                      29.67      90.66           4.515574e-06\n",
      "205  Dubai, United Arab Emirates            73.95              72.95                      65.13           101.67                     71.92      65.95           4.450503e-06\n",
      "59   Antwerp, Belgium                       86.24              56.89                      79.59           76.93                      26.63      94.81           4.439184e-06\n",
      "47   Linz, Austria                          88.39              58.80                      86.61           81.61                      28.30      84.92           4.435839e-06\n",
      "114  Santa Barbara, CA, United States       81.14              75.91                      80.42           176.22                     70.52      86.66           4.419012e-06\n",
      "60   Melbourne, Australia                   86.11              65.38                      87.30           111.50                     44.02      76.69           4.393577e-06\n",
      "111  Saint Paul, MN, United States          81.64              60.22                      88.63           88.16                      38.14      73.01           4.375471e-06\n",
      "110  Denver, CO, United States              81.71              68.12                      84.50           129.35                     54.11      79.32           4.364900e-06\n",
      "44   Cairns, Australia                      88.52              59.35                      87.81           78.43                      29.28      80.18           4.297934e-06\n",
      "95   Everett, WA, United States             82.76              62.27                      94.42           100.36                     41.16      72.62           4.296794e-06\n",
      "66   Christchurch, New Zealand              85.39              58.70                      83.29           76.59                      31.18      80.42           4.294692e-06\n",
      "141  Tampa, FL, United States               78.92              61.98                      85.17           102.73                     44.51      80.01           4.291624e-06\n",
      "101  New Orleans, LA, United States         82.33              62.01                      85.51           101.33                     41.07      84.97           4.124513e-06\n",
      "67   Minneapolis, MN, United States         85.38              64.81                      96.04           115.28                     43.62      78.89           4.085433e-06\n",
      "127  San Diego, CA, United States           79.89              70.49                      83.15           129.95                     60.79      78.95           4.076030e-06\n",
      "197  Vancouver, Canada                      74.67              62.06                      80.43           81.79                      49.07      68.51           4.051035e-06\n",
      "53   Helsinki, Finland                      87.24              63.88                      76.39           99.09                      39.80      92.69           4.030526e-06\n",
      "121  Jersey City, NJ, United States         80.70              74.46                      81.67           140.69                     68.03      78.18           4.013571e-06\n",
      "158  Fort Lauderdale, FL, United States     77.71              65.42                      79.97           102.52                     52.75      78.35           3.991564e-06\n",
      "20   Tokyo, Japan                           97.71              68.65                      107.25          93.49                      38.68      57.87           3.985556e-06\n",
      "99   Cambridge, United Kingdom              82.43              63.57                      69.24           93.60                      44.13      93.50           3.974550e-06\n",
      "68   Boulder, CO, United States             85.34              70.38                      90.71           130.31                     54.96      79.07           3.873571e-06\n",
      "85   Florence, Italy                        83.56              56.54                      73.49           56.89                      28.68      84.31           3.831343e-06\n",
      "293  Panama City, Panama                    64.58              49.18                      68.40           31.18                      33.31      55.38           3.826435e-06\n",
      "84   Hartford, CT, United States            83.70              63.65                      86.30           101.18                     42.97      86.72           3.759013e-06\n",
      "50   Philadelphia, PA, United States        87.74              68.83                      91.14           115.92                     49.34      80.92           3.630753e-06\n",
      "74   Portland, ME, United States            84.53              62.74                      91.22           98.86                      40.28      89.26           3.565934e-06\n",
      "126  Oxford, United Kingdom                 80.09              65.86                      64.02           74.67                      51.18      79.84           3.563948e-06\n",
      "64   Baltimore, MD, United States           85.65              66.93                      91.75           109.07                     47.62      82.50           3.532877e-06\n",
      "77   Chicago, IL, United States             84.39              70.81                      83.89           118.59                     56.81      83.68           3.523712e-06\n",
      "34   Perth, Australia                       91.03              65.89                      89.61           105.98                     39.98      94.19           3.450129e-06\n",
      "35   Auckland, New Zealand                  90.97              68.07                      86.28           90.77                      44.46      77.66           3.349401e-06\n",
      "93   Irvine, CA, United States              82.79              74.33                      88.68           126.76                     65.60      79.00           3.331561e-06\n",
      "54   Burlington, VT, United States          87.21              64.52                      97.28           95.31                      41.14      82.09           3.326550e-06\n",
      "46   Charleston, SC, United States          88.41              68.92                      98.58           111.13                     48.83      78.70           3.318025e-06\n",
      "146  Rome, Italy                            78.60              59.70                      71.13           59.82                      40.21      81.95           3.247043e-06\n",
      "19   Rockville, MD, United States           98.81              80.39                      97.20           135.58                     61.40      71.68           3.207466e-06\n",
      "16   Anchorage, AK, United States           101.90             72.20                      109.58          130.22                     41.57      88.67           3.163847e-06\n",
      "104  Los Angeles, CA, United States         82.11              74.94                      82.06           118.09                     67.55      84.13           3.083964e-06\n",
      "29   Santa Rosa, CA, United States          91.92              73.76                      97.22           116.21                     55.04      78.70           3.002097e-06\n",
      "49   Singapore, Singapore                   88.07              77.69                      81.34           88.14                      66.99      61.40           2.991318e-06\n",
      "37   Jerusalem, Israel                      90.73              64.15                      75.74           73.51                      36.74      99.24           2.933893e-06\n",
      "51   Luxembourg, Luxembourg                 87.43              71.32                      76.46           104.71                     54.71      97.79           2.927738e-06\n",
      "33   Bellevue, WA, United States            91.18              79.75                      97.99           138.68                     67.97      80.55           2.834978e-06\n",
      "41   Paris, France                          89.98              68.23                      87.30           89.07                      45.80      88.30           2.803787e-06\n",
      "32   Stockholm, Sweden                      91.21              67.46                      87.98           88.09                      42.98      91.35           2.795923e-06\n",
      "97   Fort Collins, CO, United States        82.53              61.98                      95.23           63.35                      40.78      71.33           2.771032e-06\n",
      "42   Darwin, Australia                      89.91              68.00                      91.03           97.20                      45.41      95.60           2.735674e-06\n",
      "48   Amsterdam, Netherlands                 88.25              70.07                      75.16           85.23                      51.33      92.24           2.713941e-06\n",
      "78   Milan, Italy                           84.32              62.53                      76.95           61.78                      40.06      88.99           2.670893e-06\n",
      "28   Tel Aviv-Yafo, Israel                  92.09              71.12                      80.75           93.00                      49.51      96.79           2.609784e-06\n",
      "70   San Jose, CA, United States            85.13              84.39                      90.68           140.74                     83.63      84.04           2.594032e-06\n",
      "71   Queens, NY, United States              84.70              74.50                      80.22           98.73                      63.98      88.50           2.566230e-06\n",
      "45   Dublin, Ireland                        88.49              71.83                      73.25           82.09                      54.65      91.98           2.519445e-06\n",
      "30   Sydney, Australia                      91.42              79.08                      88.91           102.69                     66.35      75.94           2.507407e-06\n",
      "23   New Haven, CT, United States           94.10              70.95                      112.78          114.53                     47.09      91.54           2.503560e-06\n",
      "135  Hong Kong, Hong Kong                   79.24              80.93                      83.40           74.04                      82.67      56.30           2.407130e-06\n",
      "25   Seattle, WA, United States             93.31              79.60                      98.17           121.29                     65.46      86.72           2.332506e-06\n",
      "26   Arlington, VA, United States           93.17              80.67                      93.16           117.45                     67.79      85.61           2.331618e-06\n",
      "21   Copenhagen, Denmark                    97.14              73.74                      78.25           93.39                      49.61      113.91          2.174137e-06\n",
      "39   Boston, MA, United States              90.23              84.41                      93.76           112.94                     78.41      87.59           1.943807e-06\n",
      "43   London, United Kingdom                 89.34              81.48                      67.70           77.75                      73.37      96.34           1.818614e-06\n",
      "283  Accra, Ghana                           66.86              52.85                      68.33           13.25                      38.40      43.66           1.729908e-06\n",
      "22   Washington, DC, United States          95.96              85.31                      96.97           107.86                     74.32      90.78           1.718054e-06\n",
      "38   Miami, FL, United States               90.68              77.27                      93.95           89.18                      63.46      98.47           1.675156e-06\n",
      "12   Bergen, Norway                         112.66             76.68                      106.84          87.68                      39.58      117.45          1.566997e-06\n",
      "36   Oakland, CA, United States             90.73              84.80                      97.63           91.15                      78.69      84.79           1.542262e-06\n",
      "9    Stavanger, Norway                      116.98             77.80                      107.72          101.00                     37.40      142.61          1.502768e-06\n",
      "10   Trondheim, Norway                      116.02             79.22                      110.10          93.68                      41.27      128.03          1.387971e-06\n",
      "24   Berkeley, CA, United States            93.86              85.24                      109.86          87.37                      76.36      81.71           1.358004e-06\n",
      "14   Honolulu, HI, United States            103.32             84.44                      121.83          84.93                      64.98      88.49           1.173407e-06\n",
      "11   Oslo, Norway                           114.78             81.90                      111.48          86.67                      47.99      126.20          1.118396e-06\n",
      "8    Lugano, Switzerland                    124.39             88.62                      120.83          108.92                     51.73      127.53          1.098481e-06\n",
      "13   Nassau, Bahamas                        109.58             74.04                      103.09          43.82                      37.40      99.27           1.044804e-06\n",
      "18   New York, NY, United States            100.00             100.00                     100.00          100.00                     100.00     100.00          1.000000e-06\n",
      "17   Brooklyn, NY, United States            101.06             89.47                      105.51          82.64                      77.52      106.84          9.357714e-07\n",
      "5    Bern, Switzerland                      135.51             91.11                      145.72          101.65                     45.33      122.48          9.271841e-07\n",
      "6    Lausanne, Switzerland                  131.38             93.56                      136.95          112.33                     54.56      127.87          8.948731e-07\n",
      "4    Basel, Switzerland                     142.02             97.47                      149.54          113.13                     51.54      131.72          7.846478e-07\n",
      "15   San Francisco, CA, United States       101.94             110.65                     116.73          104.40                     119.63     93.57           7.837845e-07\n",
      "3    Geneva, Switzerland                    142.12             106.73                     147.13          115.20                     70.25      138.96          5.643648e-07\n",
      "0    Zurich, Switzerland                    149.53             108.77                     163.71          126.30                     66.76      140.58          5.497433e-07\n",
      "7    Reykjavik, Iceland                     130.73             93.89                      128.37          68.49                      55.90      140.61          5.192307e-07\n",
      "2    Zug, Switzerland                       142.54             105.54                     148.36          105.62                     67.39      143.18          5.176244e-07\n",
      "1    Hamilton, Bermuda                      148.13             133.20                     145.20          93.42                      117.80     152.54          2.417137e-07\n"
     ]
    }
   ],
   "source": [
    "from qore import XPath\n",
    "import pandas as p\n",
    "# icos\n",
    "xp = XPath()\n",
    "def p1():\n",
    "    url = 'https://www.numbeo.com/cost-of-living/rankings.jsp'\n",
    "    xresd = {\n",
    "        #'id1' : '//table//tr/td[1]/text()',\n",
    "        'city'                      : '//table//tr/td[2]/text()',\n",
    "        'costOfLivingIndex'         : '//table//tr/td[3]/text()',\n",
    "        'rentIndex'                 : '//table//tr/td[4]/text()',\n",
    "        'costOfLivingPlusRentIndex' : '//table//tr/td[5]/text()',\n",
    "        'groceriesIndex'            : '//table//tr/td[6]/text()',\n",
    "        'retaurantIndex'            : '//table//tr/td[7]/text()',\n",
    "        'localPurchasingPowerIndex' : '//table//tr/td[8]/text()',\n",
    "    }\n",
    "    xresd = xp.xpath2df(url, xresd, cache=False)#, verbos\n",
    "    print xresd.keys()\n",
    "    \"\"\"for i in xresd.keys():\n",
    "        print len(xresd[i])\n",
    "        print len(xresd[i][len(xresd[i])-511:])\n",
    "        \n",
    "        print\"\"\"\n",
    "    for i in xresd.keys():\n",
    "        xresd[i] = xresd[i][len(xresd[i])-511:]\n",
    "    \"\"\"for i in xresd.keys():\n",
    "        print len(xresd[i])\n",
    "    for i in xresd.keys():\n",
    "        print xresd[i]\"\"\"\n",
    "    df = p.DataFrame(xresd)\n",
    "    for i in xresd.keys():\n",
    "        try: df[i] = p.to_numeric(df[i])\n",
    "        except: ''\n",
    "    #for j in range(2,7):\n",
    "    #    try: df['id'+str(j)] = p.to_numeric(df['id'+str(j)])\n",
    "    #    except: ''\n",
    "    df['y1'] = df['localPurchasingPowerIndex'] / (df['costOfLivingIndex'] * df['groceriesIndex'] * df['rentIndex'] * df['retaurantIndex'])\n",
    "    with p.option_context('display.max_rows', 600, 'display.max_columns', 4000, 'display.width', 1000000, 'display.max_colwidth', -1):\n",
    "        #print df.dtypes\n",
    "        print df.sort_values(by='y1', ascending=False)\n",
    "    #break\n",
    "p1()"
   ]
  }
 ],
 "metadata": {
  "kernelspec": {
   "display_name": "Python 2",
   "language": "python",
   "name": "python2"
  },
  "language_info": {
   "codemirror_mode": {
    "name": "ipython",
    "version": 2
   },
   "file_extension": ".py",
   "mimetype": "text/x-python",
   "name": "python",
   "nbconvert_exporter": "python",
   "pygments_lexer": "ipython2",
   "version": "2.7.6"
  }
 },
 "nbformat": 4,
 "nbformat_minor": 2
}
