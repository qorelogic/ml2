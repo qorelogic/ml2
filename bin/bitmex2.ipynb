{
 "cells": [
  {
   "cell_type": "code",
   "execution_count": null,
   "metadata": {},
   "outputs": [],
   "source": [
    "%reload_ext autoreload\n",
    "%autoreload 2\n",
    "\n",
    "import sys\n",
    "def defp(pt):\n",
    "    try:    sys.path.index(pt)\n",
    "    except: sys.path.append(pt)\n",
    "#defp('/ml.dev/bin')\n",
    "\n",
    "from qoreliquid import *\n",
    "from bitmex import *\n",
    "\n",
    "import numpy as n\n",
    "import qgrid as qg # https://github.com/quantopian/qgrid#installation\n",
    "\n",
    "%pylab inline\n",
    "from pylab import rcParams\n",
    "rcParams['figure.figsize'] = 20, 5\n",
    "import seaborn as sns\n",
    "sns.set()\n",
    "\n",
    "pm = PortfolioModeler()\n",
    "cmc = CoinMarketCap()"
   ]
  },
  {
   "cell_type": "code",
   "execution_count": null,
   "metadata": {
    "scrolled": false
   },
   "outputs": [],
   "source": [
    "none = desc(df)\n",
    "pp = sns.pairplot(df)\n",
    "plt.show()\n",
    "none"
   ]
  },
  {
   "cell_type": "code",
   "execution_count": null,
   "metadata": {
    "scrolled": false
   },
   "outputs": [],
   "source": [
    "#  all coins volumePerMarketcap / pcnt scatter plot matrix\n",
    "from qoreliquid import normalizeme\n",
    "to = cmc.getAllTokens(tokens=False)\n",
    "ddd = to.sort_values(by='volumePerMarketcap', ascending=False)\n",
    "ddd = ddd.loc[:,'marketCap volumePerMarketcap'.split()]\n",
    "ddd = normalizeme(ddd)\n",
    "ddd = sigmoidme(ddd)\n",
    "ddd.plot()\n",
    "plt.show()\n",
    "#plt.scatter(ddd['marketCap'], ddd['volumePerMarketcap'])\n",
    "#plt.show()\n",
    "ddd = to.loc[:,'pcnt1h pcnt24h pcnt7d'.split(' ')].fillna(0)\n",
    "ddd = normalizeme(ddd)\n",
    "ddd = sigmoidme(ddd)\n",
    "sns.pairplot(ddd, size=10)#, hue='pcnt1h')\n",
    "plt.show()\n",
    "\n",
    "none = desc(ddd)\n",
    "#qg.show_grid(ddd)\n",
    "qgrid.show_grid(ddd, grid_options={'forceFitColumns': False, 'defaultColumnWidth': 100})\n",
    "#cmc.tokensOnOtherExchanges('etherdelta')"
   ]
  },
  {
   "cell_type": "code",
   "execution_count": null,
   "metadata": {
    "scrolled": false
   },
   "outputs": [],
   "source": [
    "# Binance PoC\n",
    "b = Binance()\n",
    "dfbnb = b.getCurrencies()\n",
    "#dfbnb = dfbnb[dfbnb['base'] == 'BTC']\n",
    "dfbnb = dfbnb[dfbnb['base'] == 'ETH']\n",
    "li = list(dfbnb['quote'])\n",
    "dft = cmc.getAllTokens(tokens=False)\n",
    "#dft1s = dft[dft['marketCap'] <= 1e6]\n",
    "dft1s = pm.generatePortfolioT1Supply(dft, balance=(4129.06), risk=1)\n",
    "dft1s = dft1s.loc[li,:]\n",
    "sortby = 'riskOn'\n",
    "#sortby = 'volumePerMarketcap'\n",
    "#sortby = 'balanceMarketcapPcnt'\n",
    "#sortby = 'pcnt7d'\n",
    "#sortby = 'balanceMarketcapPcnt'\n",
    "dft1s = dft1s.sort_values(by=sortby, ascending=False)\n",
    "none = desc(dft1s)\n",
    "qg.show_grid(dft1s)\n",
    "#dft1s.sort_values(by='balanceMarketcapPcnt', ascending=False).loc[:,'pcnt7d'].plot()"
   ]
  },
  {
   "cell_type": "code",
   "execution_count": null,
   "metadata": {},
   "outputs": [],
   "source": [
    "POE ENJ VIB"
   ]
  },
  {
   "cell_type": "code",
   "execution_count": null,
   "metadata": {
    "scrolled": true
   },
   "outputs": [],
   "source": [
    "df = dft1s.sort_values(by=sortby, ascending=False)\n",
    "list(df['id'])\n",
    "yy = True\n",
    "dfs = genDFP(list(df['id']), max=7, logy=yy, normalize=yy, sigmoid=yy)\n",
    "dfs"
   ]
  },
  {
   "cell_type": "code",
   "execution_count": null,
   "metadata": {
    "scrolled": true
   },
   "outputs": [],
   "source": [
    "cm['price_usd'].loc[:,'bitcoin'].sort_values(by='price_usd', ascending=False)#['price_usd']"
   ]
  },
  {
   "cell_type": "code",
   "execution_count": null,
   "metadata": {
    "scrolled": true
   },
   "outputs": [],
   "source": [
    "cm = clustermap(dfs, verbose=False, figsize=20)"
   ]
  },
  {
   "cell_type": "code",
   "execution_count": null,
   "metadata": {
    "scrolled": true
   },
   "outputs": [],
   "source": [
    "dft = cmc.getAllTokens(tokens=False)\n",
    "dft = dft[dft['marketCap'] <= 1e6]#.sort_values(by='balanceMarketcapPcnt', ascending=False)\n",
    "dft.sort_values(by='volumePerMarketcap', ascending=False)"
   ]
  },
  {
   "cell_type": "code",
   "execution_count": null,
   "metadata": {
    "scrolled": true
   },
   "outputs": [],
   "source": [
    "dft = cmc.getAllTokens(tokens=False)\n",
    "#dft = cmc.getAllTokens(tokens=True)\n",
    "#print dft\n",
    "#cmc.tokens\n",
    "df = pm.generatePortfolioT1Supply(dft, balance=(4129.06), risk=1)\n",
    "ids = list(df['id'])\n",
    "#print ids\n",
    "#dfp = genDFP(ids, max=3)\n",
    "#dfp\n",
    "df = df.sort_values(by='volumePerMarketcap', ascending=False)#['id']\n",
    "df"
   ]
  },
  {
   "cell_type": "code",
   "execution_count": null,
   "metadata": {
    "scrolled": true
   },
   "outputs": [],
   "source": [
    "list(df['id'])\n",
    "dfs = genDFP(list(df['id']), max=20)\n",
    "dfs"
   ]
  },
  {
   "cell_type": "code",
   "execution_count": null,
   "metadata": {
    "scrolled": true
   },
   "outputs": [],
   "source": [
    "clustermap(dfs, verbose=True, figsize=15)"
   ]
  },
  {
   "cell_type": "code",
   "execution_count": null,
   "metadata": {
    "scrolled": true
   },
   "outputs": [],
   "source": [
    "df['t1'] = (df['pcnt1h'] + n.min(df['pcnt1h'])+1) *(df['pcnt24h'] + n.min(df['pcnt24h'])+1) * (df['pcnt7d'] + n.min(df['pcnt7d'])+1) / df['marketCap'] / df['price']\n",
    "dfs = df.sort_values(by='t1', ascending=False)\n",
    "dfs.loc[:,'pcnt1h pcnt24h pcnt7d'.split()].plot()\n",
    "dfs = dfs.loc[:,'marketCap pcnt1h pcnt24h pcnt7d t1'.split()]\n",
    "dfs = normalizeme(dfs)\n",
    "dfs = sigmoidme(dfs)\n",
    "#rcParams['figure.figsize'] = 20, 5\n",
    "#sns.pairplot(dfs, size=10)\n",
    "#plt.show()\n",
    "#dfs\n",
    "dfs = genDFP(list(dfs['id']), max=10)\n",
    "dfs"
   ]
  },
  {
   "cell_type": "code",
   "execution_count": null,
   "metadata": {},
   "outputs": [],
   "source": [
    "#df = df.head(300)\n",
    "#df[fi] = map(lambda x: x.decode('utf-8').strip(), df[fi])\n",
    "#pp = sns.pairplot(df)#, hue=fi)\n",
    "#plt.show()"
   ]
  },
  {
   "cell_type": "code",
   "execution_count": null,
   "metadata": {
    "scrolled": false
   },
   "outputs": [],
   "source": [
    "#port = 'PPP XRL BBT SALT PPT TAAS SIFT PAY OMG KIN AIR PLR LINK RHOC CDT DNT RDN POWR CAT ENG PRO KNC SND AVT HMQ MGO ZRX VERI CVC EOS'\n",
    "#port = 'XRP STEEM PRO BNB PPP BRAT BCD SALT KIN PLR RHOC PPT CVC CDT NEWB BAS PAY EOS DOM XRL LINK TNT BAT DNT SNT SKIN FUCK NIO HMQ IXT MSP IND DENT FUN BET'\n",
    "\n",
    "# ib20171128\n",
    "port = 'RDN AION POWR QSP RHOC DNT LINK ENG FLIXX AVT GMT ZRX CAT HST KNC EOS SALT PRO CVC CREA'\n",
    "\n",
    "#port = 'CHC QRL BCC XRL RHOC KIN ZRX PPT SALT CDT BRAT PAY MBRS XRL EOS TAAS BNB HMQ OMG WINGS POE CTR LINK SKIN FUCK BAT CVC MCO SNT PPP CAT DOM BBT BET STX TIX DNT MGO VERI ICN NIO BQX TNT ZRX IXT MSP IND FUN LRC PLR'\n",
    "# eth all > $50\n",
    "port = 'CHC RHOC QRL KIN BNB PPT PRO SALT XRP PPP BRAT TAAS PAY CDT XRL DNT'\n",
    "\n",
    "# coinmarketcap\n",
    "#port = 'BTC ETH BTH LTC XRP DASH NEM XMR IOTA NEO'\n",
    "\n",
    "# bitmex\n",
    "#port = 'BTC BCH DASH ETH ETC LTC XMR XRP XTZ ZEC'\n",
    "\n",
    "# git analysis\n",
    "#port = 'BCH EMC2'\n",
    "\n",
    "# portPcnt v [model:t1pi commit:51134db]\n",
    "#port = 'PPP XRL BBT SNC SALT PPT TAAS EXN SIFT PAY OMG KIN AIR RHOC RDN LINK POWR DNT ENG PRO CAT KNC HMQ AVT ZRX CVC EOS'\n",
    "# delever::currentPortPcnt v [model:t1pi commit:51134db]\n",
    "#port = 'BNB RHOC PPT PRO PPP SALT BRAT TAAS CDT XRL PAY DNT KIN HMQ GOOD PLR OMG DOM TIX MBRS CVC SKIN POE WINGS LINK BAS BAT CTR CAT STX FUCK BBT TNT BET ICN NIO EOS VERI NEWB E4ROW BQX IXT MSP IND FUN LRC DENT ZRX'\n",
    "yy = True\n",
    "dfp = genDFP(port, len(port.split(' ')), logy=yy, normalize=yy, sigmoid=yy)\n",
    "#dfp"
   ]
  },
  {
   "cell_type": "code",
   "execution_count": null,
   "metadata": {
    "scrolled": false
   },
   "outputs": [],
   "source": [
    "clustermap(dfp, verbose=False, figsize=15)"
   ]
  },
  {
   "cell_type": "code",
   "execution_count": null,
   "metadata": {
    "scrolled": true
   },
   "outputs": [],
   "source": [
    "clustermap(dfp, verbose=False, figsize=15)"
   ]
  },
  {
   "cell_type": "code",
   "execution_count": null,
   "metadata": {
    "scrolled": true
   },
   "outputs": [],
   "source": [
    "clustermap(dfp, verbose=False, figsize=15)"
   ]
  },
  {
   "cell_type": "code",
   "execution_count": null,
   "metadata": {
    "scrolled": true
   },
   "outputs": [],
   "source": [
    "clustermap(dfp, verbose=False, figsize=15)"
   ]
  },
  {
   "cell_type": "code",
   "execution_count": null,
   "metadata": {},
   "outputs": [],
   "source": [
    "# dendrogram\n",
    "import numpy as np\n",
    "import matplotlib.pyplot as plt\n",
    "import scipy.cluster.hierarchy as sc\n",
    "\n",
    "dists = np.array([[0,2,1,4],[2,0,3,5],[1,3,0,6],[4,5,6,0]])\n",
    "l = ['a','b','c','b']\n",
    "df = p.DataFrame(dists)\n",
    "print df#.plot()\n",
    "Z = sc.linkage(dists, method='complete')\n",
    "d = sc.dendrogram(Z, labels=l)\n",
    "label_colors = {'a': 'r', 'b': 'g', 'c': 'm'}\n",
    "ax = plt.gca()\n",
    "xlbls = ax.get_xmajorticklabels()\n",
    "for i in range(len(xlbls)):\n",
    "    xlbls[i].set_color(label_colors[xlbls[i].get_text()])\n",
    "plt.show()"
   ]
  },
  {
   "cell_type": "code",
   "execution_count": null,
   "metadata": {
    "scrolled": true
   },
   "outputs": [],
   "source": [
    "# Load the brain networks example dataset\n",
    "df = sns.load_dataset(\"brain_networks\", header=[0, 1, 2], index_col=0)\n",
    "\n",
    "# Select a subset of the networks\n",
    "used_networks = [1, 5, 6, 7, 8, 12, 13, 17]\n",
    "used_columns = (df.columns.get_level_values(\"network\")\n",
    "                          .astype(int)\n",
    "                          .isin(used_networks))\n",
    "df = df.loc[:, used_columns]\n",
    "\n",
    "# Create a categorical palette to identify the networks\n",
    "network_pal = sns.husl_palette(8, s=.45)\n",
    "#print network_pal\n",
    "network_lut = dict(zip(map(str, used_networks), network_pal))\n",
    "\n",
    "# Convert the palette to vectors that will be drawn on the side of the matrix\n",
    "networks = df.columns.get_level_values(\"network\")\n",
    "network_colors = p.Series(networks, index=df.columns).map(network_lut)\n",
    "\n",
    "# Draw the full plot\n",
    "sns.clustermap(df.corr(), center=0, cmap=\"vlag\",\n",
    "               row_colors=network_colors, col_colors=network_colors,\n",
    "               linewidths=.75, figsize=(13, 13))\n",
    "#dfd = desc(df)\n",
    "#df\n",
    "df#.corr()"
   ]
  },
  {
   "cell_type": "code",
   "execution_count": null,
   "metadata": {},
   "outputs": [],
   "source": [
    "dfm = cmc.glo('ethereum')\n",
    "dfm"
   ]
  },
  {
   "cell_type": "code",
   "execution_count": null,
   "metadata": {
    "scrolled": true
   },
   "outputs": [],
   "source": [
    "li = list(df['id'].head(30))\n",
    "print ' '.join(li)\n",
    "for i in li:\n",
    "    try:\n",
    "        dfm = cmc.glo(i)\n",
    "        plt.show()\n",
    "    except: ''"
   ]
  },
  {
   "cell_type": "code",
   "execution_count": null,
   "metadata": {
    "scrolled": false
   },
   "outputs": [],
   "source": [
    "# show portfolio  charts\n",
    "port = 'PPP XRL BBT SALT PPT TAAS SIFT PAY OMG KIN AIR PLR LINK RHOC CDT DNT RDN POWR CAT ENG PRO KNC SND AVT HMQ MGO ZRX VERI CVC EOS'\n",
    "li = list(df.loc[port.split(' '),['id']]['id'])\n",
    "#print ' '.join(li)\n",
    "for i in list(li):\n",
    "    try:\n",
    "        cmc.glo(i)\n",
    "        plt.show()\n",
    "    except: ''"
   ]
  },
  {
   "cell_type": "code",
   "execution_count": null,
   "metadata": {
    "scrolled": true
   },
   "outputs": [],
   "source": [
    "# show portfolio eth1 charts\n",
    "port = 'XRP STEEM PRO BNB PPP BRAT BCD SALT KIN PLR RHOC PPT CVC CDT NEWB BAS PAY EOS DOM XRL LINK TNT BAT DNT SNT SKIN FUCK NIO HMQ IXT MSP IND DENT FUN BET'\n",
    "li = list(df.loc[port.split(' '),['id']]['id'])\n",
    "#print ' '.join(li)\n",
    "for i in list(li):\n",
    "    try:\n",
    "        cmc.glo(i)\n",
    "        plt.show()\n",
    "    except: ''"
   ]
  },
  {
   "cell_type": "code",
   "execution_count": null,
   "metadata": {
    "scrolled": true
   },
   "outputs": [],
   "source": [
    "# show portfolio eth2 charts\n",
    "port = 'CHC QRL BCC XRL RHOC KIN PPT SALT CDT BRAT PAY MBRS XRL EOS TAAS BNB HMQ OMG WINGS POE CTR LINK SKIN FUCK BAT CVC MCO SNT PPP CAT DOM BBT BET STX TIX DNT MGO VERI ICN NIO BQX TNT ZRX IXT MSP IND FUN LRC PLR'\n",
    "li = list(df.loc[port.split(' '),['id']]['id'])\n",
    "#print ' '.join(li)\n",
    "for i in list(li):\n",
    "    try:\n",
    "        cmc.glo(i)\n",
    "        plt.show()\n",
    "    except: ''"
   ]
  },
  {
   "cell_type": "code",
   "execution_count": null,
   "metadata": {
    "scrolled": true
   },
   "outputs": [],
   "source": [
    "nu = 10\n",
    "for i in list(df.head(nu)['id']):\n",
    "    cmc.glo(i)\n",
    "    plt.show()\n",
    "print '=-=-=-=-=-=-=-=-'\n",
    "print '=-=-=-=-=-=-=-=-'\n",
    "for i in list(df.tail(nu)['id']):\n",
    "    cmc.glo(i)\n",
    "    plt.show()"
   ]
  },
  {
   "cell_type": "code",
   "execution_count": null,
   "metadata": {},
   "outputs": [],
   "source": [
    "#for i in 'bitcoin ethereum kin'.split(' '):\n",
    "# b3 == pump n dump example\n",
    "for i in 'b3coin'.split(' '):\n",
    "    cmc.glo(i)"
   ]
  },
  {
   "cell_type": "code",
   "execution_count": null,
   "metadata": {
    "scrolled": true
   },
   "outputs": [],
   "source": [
    "import pandas as p\n",
    "url = 'https://etherscan.io/txsInternal?a=0xea3f1b409f5e9211eed087c9f5f621d1249b3e7b'\n",
    "from qore import *\n",
    "xp = XPath()\n",
    "xcols = {\n",
    "    #'to'      : '/html/body/div[1]/div[4]/div[2]/div/div/div/table/tbody/tr/td[6]/span/a/text()',\n",
    "    'value'   : '/html/body/div[1]/div[4]/div[2]/div/div/div/table/tbody/tr/td[7]/text()',\n",
    "}\n",
    "res = xp.xpath2df(url, xcols)\n",
    "qg.show_grid(p.DataFrame(res))"
   ]
  }
 ],
 "metadata": {
  "kernelspec": {
   "display_name": "Python 2",
   "language": "python",
   "name": "python2"
  },
  "language_info": {
   "codemirror_mode": {
    "name": "ipython",
    "version": 2
   },
   "file_extension": ".py",
   "mimetype": "text/x-python",
   "name": "python",
   "nbconvert_exporter": "python",
   "pygments_lexer": "ipython2",
   "version": "2.7.6"
  }
 },
 "nbformat": 4,
 "nbformat_minor": 2
}
