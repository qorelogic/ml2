{
 "cells": [
  {
   "cell_type": "code",
   "execution_count": null,
   "metadata": {
    "scrolled": true
   },
   "outputs": [],
   "source": [
    "import pandas as p\n",
    "url = 'https://etherscan.io/txsInternal?a=0xea3f1b409f5e9211eed087c9f5f621d1249b3e7b'\n",
    "from qore import *\n",
    "xp = XPath()\n",
    "xcols = {\n",
    "    #'to'      : '/html/body/div[1]/div[4]/div[2]/div/div/div/table/tbody/tr/td[6]/span/a/text()',\n",
    "    'value'   : '/html/body/div[1]/div[4]/div[2]/div/div/div/table/tbody/tr/td[7]/text()',\n",
    "}\n",
    "res = xp.xpath2df(url, xcols)\n",
    "p.DataFrame(res)"
   ]
  },
  {
   "cell_type": "code",
   "execution_count": null,
   "metadata": {},
   "outputs": [],
   "source": [
    "import sys\n",
    "def defp(pt):\n",
    "    try:    sys.path.index(pt)\n",
    "    except: sys.path.append(pt)\n",
    "#defp('/ml.dev/bin')\n",
    "\n",
    "from qoreliquid import *\n",
    "\n",
    "from bitmex import desc\n",
    "from bitmex import apiRequest\n",
    "from bitmex import CoinMarketCap\n",
    "from bitmex import CoinMarketCap\n",
    "from bitmex import PortfolioModeler\n",
    "\n",
    "%reload_ext autoreload\n",
    "%autoreload 2\n",
    "%pylab inline\n",
    "import numpy as n\n",
    "\n",
    "from pylab import rcParams\n",
    "rcParams['figure.figsize'] = 20, 5\n",
    "import seaborn as sns\n",
    "sns.set()\n",
    "\n",
    "pm = PortfolioModeler()\n",
    "cmc = CoinMarketCap()"
   ]
  },
  {
   "cell_type": "code",
   "execution_count": null,
   "metadata": {
    "scrolled": false
   },
   "outputs": [],
   "source": [
    "#none = desc(df)\n",
    "#pp = sns.pairplot(df)\n",
    "#plt.show()\n",
    "#none"
   ]
  },
  {
   "cell_type": "code",
   "execution_count": null,
   "metadata": {
    "scrolled": true
   },
   "outputs": [],
   "source": [
    "cmc = CoinMarketCap()\n",
    "dft = cmc.getAllTokens(tokens=False)\n",
    "#dft\n",
    "#cmc.tokens"
   ]
  },
  {
   "cell_type": "code",
   "execution_count": null,
   "metadata": {
    "scrolled": true
   },
   "outputs": [],
   "source": [
    "dft = cmc.getAllTokens(tokens=True)\n",
    "#dft\n",
    "#cmc.tokens"
   ]
  },
  {
   "cell_type": "code",
   "execution_count": null,
   "metadata": {
    "scrolled": true
   },
   "outputs": [],
   "source": [
    "df = pm.generatePortfolioT1Supply(dft, balance=(.12*7800), risk=100)\n",
    "df#['id']"
   ]
  },
  {
   "cell_type": "code",
   "execution_count": null,
   "metadata": {},
   "outputs": [],
   "source": [
    "#df = df.head(300)\n",
    "#df[fi] = map(lambda x: x.decode('utf-8').strip(), df[fi])\n",
    "#pp = sns.pairplot(df)#, hue=fi)\n",
    "#plt.show()"
   ]
  },
  {
   "cell_type": "code",
   "execution_count": null,
   "metadata": {
    "scrolled": false
   },
   "outputs": [],
   "source": [
    "def dataFrameAddMultiIndex(dfm, title):\n",
    "    dfi = dfm.transpose()\n",
    "    #with p.option_context('display.max_rows', 400, 'display.max_columns', 4000, 'display.width', 1000000):\n",
    "    #    print dfi\n",
    "    #    print\n",
    "    zi   = zip([title]*len(dfi.index), dfi.index)\n",
    "    indx = p.MultiIndex.from_tuples(zi)\n",
    "    #print indx\n",
    "    dfi = p.DataFrame(dfi.to_dict(orient='list'), index=indx)\n",
    "    dfi = dfi.transpose()#.tail(6)\n",
    "    #with p.option_context('display.max_rows', 400, 'display.max_columns', 4000, 'display.width', 1000000):\n",
    "    #    print dfi\n",
    "    return dfi\n",
    "\n",
    "def asd(token):\n",
    "    dfm = cmc.glo(token)\n",
    "    dfi = dataFrameAddMultiIndex(dfm, token)\n",
    "    #with p.option_context('display.max_rows', 400, 'display.max_columns', 4000, 'display.width', 1000000):\n",
    "    #    print dfi.tail(10)\n",
    "    return dfi\n",
    "\n",
    "def axs(df, li):\n",
    "    dfp = p.DataFrame()\n",
    "    dfp = dfp.transpose()\n",
    "    dfi = asd('bitcoin')\n",
    "    dfp = dfp.reindex(index=dfi.transpose().index, level=0).transpose()\n",
    "    dfp = dfp.combine_first(dfi)\n",
    "    #dfp = dfp.combine_first(asd('propy'))\n",
    "\n",
    "    dfp = p.concat([dfp, asd('ethereum')], axis=1)\n",
    "\n",
    "    for i in li:\n",
    "        try:    dfp = p.concat([dfp, asd(i)], axis=1)\n",
    "        except Exception as e: print e\n",
    "\n",
    "    #dfp = dfi.combine_first(dfp)\n",
    "    #asd('propy').merge(dfp)\n",
    "    #p.merge(dfp, asd('propy'), left_index=True, right_index=True)\n",
    "    #p.concat([dfp, asd('propy')], axis=1, join='outer')\n",
    "    #p.concat([dfp.transpose(), asd('propy').transpose()], axis=0).sort_index().transpose()\n",
    "    #dfp = p.concat([dfp, asd('propy')], axis=1).sort_index()\n",
    "    #dfp = dfp.combine_first(asd('ethereum'))\n",
    "\n",
    "    #with p.option_context('display.max_rows', 400, 'display.max_columns', 4000, 'display.width', 1000000):\n",
    "    #    print dfp.loc[[1510942454000,1510942451000], :]\n",
    "    #    print dfi.tail(10)\n",
    "    #    print dfe.tail(10)\n",
    "    dfp = dfp.ffill().bfill()\n",
    "    dfp = normalizeme(dfp)\n",
    "    dfp = sigmoidme(dfp)\n",
    "    #dfp.tail(1000).plot()\n",
    "    return dfp\n",
    "\n",
    "def genDFP(cmc, port=None):\n",
    "    at = cmc.getAllTokens(tokens=False)\n",
    "    if port:\n",
    "        port = port.split(' ')\n",
    "    else:\n",
    "        port = list(at.loc[:,'id'])\n",
    "        #print at.loc[port, 'id']\n",
    "    if port != None:\n",
    "        dfportfolio = pm.generatePortfolioT1Supply(at)\n",
    "        li = list(dfportfolio.loc[port,['id']]['id'])\n",
    "    else:\n",
    "        dfportfolio = pm.generatePortfolioT1Supply(at)\n",
    "        li = list(dfportfolio.loc[:,['id']]['id'])\n",
    "    #li = list(df['id'].head(30))\n",
    "    #li = 'ethereum propy bitcoin-cash ripple dash iota monero neo'.split(' ')\n",
    "    dfp = axs(df, li)\n",
    "    return dfp\n",
    "\n",
    "#port = 'PPP XRL BBT SALT PPT TAAS SIFT PAY OMG KIN AIR PLR LINK RHOC CDT DNT RDN POWR CAT ENG PRO KNC SND AVT HMQ MGO ZRX VERI CVC EOS'\n",
    "#port = 'XRP STEEM PRO BNB PPP BRAT BCD SALT KIN PLR RHOC PPT CVC CDT NEWB BAS PAY EOS DOM XRL LINK TNT BAT DNT SNT SKIN FUCK NIO HMQ IXT MSP IND DENT FUN BET'\n",
    "port = 'CHC QRL BCC XRL RHOC KIN PPT SALT CDT BRAT PAY MBRS XRL EOS TAAS BNB HMQ OMG WINGS POE CTR LINK SKIN FUCK BAT CVC MCO SNT PPP CAT DOM BBT BET STX TIX DNT MGO VERI ICN NIO BQX TNT ZRX IXT MSP IND FUN LRC PLR'\n",
    "port = 'CHC QRL BCC XRL RHOC BNB KIN PPT SALT CDT BRAT PAY MBRS XRL EOS TAAS BNB HMQ OMG WINGS POE CTR LINK SKIN FUCK BAT CVC MCO SNT PPP CAT DOM BBT BET STX TIX DNT MGO VERI ICN NIO BQX TNT ZRX IXT MSP IND FUN LRC PLR'\n",
    "dfp = genDFP(cmc, port)\n",
    "dfp"
   ]
  },
  {
   "cell_type": "code",
   "execution_count": null,
   "metadata": {
    "scrolled": false
   },
   "outputs": [],
   "source": [
    "from pylab import rcParams\n",
    "rcParams['figure.figsize'] = 40, 5\n",
    "import seaborn as sns\n",
    "sns.set()\n",
    "\n",
    "def clustermap(dfp, verbose=False):\n",
    "    #sns.clustermap(dfp.corr(), center=0, cmap=\"vlag\")#, row_colors=network_colors, col_colors=network_colors, linewidths=.75, figsize=(13, 13))\n",
    "    #with p.option_context('display.max_rows', 400, 'display.max_columns', 4000, 'display.width', 1000000):\n",
    "    #dfp.corr()#.loc[ ['bitcoin','ethereum'],:]\n",
    "    dfpcl = dfp.columns.levels[1]\n",
    "    #corrs = {}\n",
    "    corrs = n.array([])\n",
    "    print len(dfp.columns)\n",
    "    for i in dfpcl:\n",
    "        #with p.option_context('display.max_rows', 4000, 'display.max_columns', 4000, 'display.width', 1000000):\n",
    "        #    #if verbose:\n",
    "        #    #    print i\n",
    "        cor = dfp.loc[:,(dfp.columns.levels[0],[i])].corr()        \n",
    "        cor = cor.corr() #.loc[:,(dfp.columns.levels[0],[i])].corr()\n",
    "        cor = cor.fillna(0)\n",
    "        #corrs.update({i: cor})\n",
    "        \n",
    "        try:\n",
    "            sns.clustermap(cor, center=0, cmap=\"vlag\", figsize=(30,30))#, row_colors=network_colors, col_colors=network_colors, linewidths=.75, figsize=(13, 13))        \n",
    "            plt.show()\n",
    "            corrs = corrs + cor.get_values()\n",
    "            ''\n",
    "        except Exception as e: print e\n",
    "        #with p.option_context('display.max_rows', 4000, 'display.max_columns', 4000, 'display.width', 1000000):\n",
    "        #    if verbose:\n",
    "        #        print corrs\n",
    "        #print\n",
    "    print corrs\n",
    "    \"\"\"\n",
    "    #print corrs\n",
    "    ck = corrs.keys()\n",
    "    lis = n.array([0]*ck)\n",
    "    \n",
    "    for i in range(len(ck)):\n",
    "        #print i\n",
    "            lis[i] = corrs[ck[i]].get_values()\n",
    "    with p.option_context('display.max_rows', 10, 'display.max_columns', 5, 'display.width', 1000000):\n",
    "        print lis\n",
    "    \"\"\"\n",
    "    #sns.clustermap(cor, center=0, cmap=\"vlag\")#, row_colors=network_colors, col_colors=network_colors, linewidths=.75, figsize=(13, 13))        \n",
    "    #plt.show()\n",
    "    #return cor\n",
    "clustermap(dfp, verbose=True)"
   ]
  },
  {
   "cell_type": "code",
   "execution_count": null,
   "metadata": {
    "scrolled": true
   },
   "outputs": [],
   "source": [
    "# Load the brain networks example dataset\n",
    "df = sns.load_dataset(\"brain_networks\", header=[0, 1, 2], index_col=0)\n",
    "\n",
    "# Select a subset of the networks\n",
    "used_networks = [1, 5, 6, 7, 8, 12, 13, 17]\n",
    "used_columns = (df.columns.get_level_values(\"network\")\n",
    "                          .astype(int)\n",
    "                          .isin(used_networks))\n",
    "df = df.loc[:, used_columns]\n",
    "\n",
    "# Create a categorical palette to identify the networks\n",
    "network_pal = sns.husl_palette(8, s=.45)\n",
    "#print network_pal\n",
    "network_lut = dict(zip(map(str, used_networks), network_pal))\n",
    "\n",
    "# Convert the palette to vectors that will be drawn on the side of the matrix\n",
    "networks = df.columns.get_level_values(\"network\")\n",
    "network_colors = p.Series(networks, index=df.columns).map(network_lut)\n",
    "\n",
    "# Draw the full plot\n",
    "sns.clustermap(df.corr(), center=0, cmap=\"vlag\",\n",
    "               row_colors=network_colors, col_colors=network_colors,\n",
    "               linewidths=.75, figsize=(13, 13))\n",
    "#dfd = desc(df)\n",
    "#df\n",
    "df#.corr()"
   ]
  },
  {
   "cell_type": "code",
   "execution_count": null,
   "metadata": {},
   "outputs": [],
   "source": [
    "dfm = cmc.glo('ethereum')\n",
    "dfm"
   ]
  },
  {
   "cell_type": "code",
   "execution_count": null,
   "metadata": {
    "scrolled": true
   },
   "outputs": [],
   "source": [
    "li = list(df['id'].head(30))\n",
    "print ' '.join(li)\n",
    "for i in li:\n",
    "    try:\n",
    "        dfm = cmc.glo(i)\n",
    "        plt.show()\n",
    "    except: ''"
   ]
  },
  {
   "cell_type": "code",
   "execution_count": null,
   "metadata": {
    "scrolled": false
   },
   "outputs": [],
   "source": [
    "# show portfolio  charts\n",
    "port = 'PPP XRL BBT SALT PPT TAAS SIFT PAY OMG KIN AIR PLR LINK RHOC CDT DNT RDN POWR CAT ENG PRO KNC SND AVT HMQ MGO ZRX VERI CVC EOS'\n",
    "li = list(df.loc[port.split(' '),['id']]['id'])\n",
    "#print ' '.join(li)\n",
    "for i in list(li):\n",
    "    try:\n",
    "        cmc.glo(i)\n",
    "        plt.show()\n",
    "    except: ''"
   ]
  },
  {
   "cell_type": "code",
   "execution_count": null,
   "metadata": {
    "scrolled": true
   },
   "outputs": [],
   "source": [
    "# show portfolio eth1 charts\n",
    "port = 'XRP STEEM PRO BNB PPP BRAT BCD SALT KIN PLR RHOC PPT CVC CDT NEWB BAS PAY EOS DOM XRL LINK TNT BAT DNT SNT SKIN FUCK NIO HMQ IXT MSP IND DENT FUN BET'\n",
    "li = list(df.loc[port.split(' '),['id']]['id'])\n",
    "#print ' '.join(li)\n",
    "for i in list(li):\n",
    "    try:\n",
    "        cmc.glo(i)\n",
    "        plt.show()\n",
    "    except: ''"
   ]
  },
  {
   "cell_type": "code",
   "execution_count": null,
   "metadata": {
    "scrolled": true
   },
   "outputs": [],
   "source": [
    "# show portfolio eth2 charts\n",
    "port = 'CHC QRL BCC XRL RHOC KIN PPT SALT CDT BRAT PAY MBRS XRL EOS TAAS BNB HMQ OMG WINGS POE CTR LINK SKIN FUCK BAT CVC MCO SNT PPP CAT DOM BBT BET STX TIX DNT MGO VERI ICN NIO BQX TNT ZRX IXT MSP IND FUN LRC PLR'\n",
    "li = list(df.loc[port.split(' '),['id']]['id'])\n",
    "#print ' '.join(li)\n",
    "for i in list(li):\n",
    "    try:\n",
    "        cmc.glo(i)\n",
    "        plt.show()\n",
    "    except: ''"
   ]
  },
  {
   "cell_type": "code",
   "execution_count": null,
   "metadata": {
    "scrolled": true
   },
   "outputs": [],
   "source": [
    "nu = 10\n",
    "for i in list(df.head(nu)['id']):\n",
    "    cmc.glo(i)\n",
    "    plt.show()\n",
    "print '=-=-=-=-=-=-=-=-'\n",
    "print '=-=-=-=-=-=-=-=-'\n",
    "for i in list(df.tail(nu)['id']):\n",
    "    cmc.glo(i)\n",
    "    plt.show()"
   ]
  },
  {
   "cell_type": "code",
   "execution_count": null,
   "metadata": {},
   "outputs": [],
   "source": [
    "#for i in 'bitcoin ethereum kin'.split(' '):\n",
    "# b3 == pump n dump example\n",
    "for i in 'b3coin'.split(' '):\n",
    "    cmc.glo(i)"
   ]
  }
 ],
 "metadata": {
  "kernelspec": {
   "display_name": "Python 2",
   "language": "python",
   "name": "python2"
  },
  "language_info": {
   "codemirror_mode": {
    "name": "ipython",
    "version": 2
   },
   "file_extension": ".py",
   "mimetype": "text/x-python",
   "name": "python",
   "nbconvert_exporter": "python",
   "pygments_lexer": "ipython2",
   "version": "2.7.6"
  }
 },
 "nbformat": 4,
 "nbformat_minor": 2
}
