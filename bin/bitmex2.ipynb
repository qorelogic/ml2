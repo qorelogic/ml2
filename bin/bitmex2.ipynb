{
 "cells": [
  {
   "cell_type": "code",
   "execution_count": null,
   "metadata": {},
   "outputs": [],
   "source": [
    "%reload_ext autoreload\n",
    "%autoreload 2\n",
    "\n",
    "import sys\n",
    "def defp(pt):\n",
    "    try:    sys.path.index(pt)\n",
    "    except: sys.path.append(pt)\n",
    "#defp('/ml.dev/bin')\n",
    "\n",
    "from qoreliquid import *\n",
    "from bitmex import *\n",
    "\n",
    "import numpy as n\n",
    "import qgrid as qg # https://github.com/quantopian/qgrid#installation\n",
    "\n",
    "%pylab inline\n",
    "from pylab import rcParams\n",
    "rcParams['figure.figsize'] = 20, 5\n",
    "import seaborn as sns\n",
    "sns.set()\n",
    "\n",
    "p.set_option('display.max_rows', 1000)\n",
    "\n",
    "pm = PortfolioModeler()\n",
    "cmc = CoinMarketCap()"
   ]
  },
  {
   "cell_type": "code",
   "execution_count": null,
   "metadata": {},
   "outputs": [],
   "source": [
    "#rng = range(-10,10)\n",
    "rng = n.linspace(-10,10,100)\n",
    "x = n.array(rng)\n",
    "y = x**2 #power(x,2)\n",
    "\"\"\"\n",
    "dydx = dydx(y,x)\n",
    "#print x.shape\n",
    "#print y.shape\n",
    "#print dydx.shape\n",
    "#dydx = dydxSym('x**2',x)\n",
    "#print dydx\n",
    "plot(x, dydx)\n",
    "plt.show()\n",
    "\"\"\""
   ]
  },
  {
   "cell_type": "code",
   "execution_count": null,
   "metadata": {
    "scrolled": false
   },
   "outputs": [],
   "source": [
    "%load_ext line_profiler\n",
    "#@profile\n",
    "def rere():\n",
    "    import pymongo as mong\n",
    "    mon = mong.MongoClient()\n",
    "    mdf = p.DataFrame()\n",
    "    for i in mon.ql.coins.find():\n",
    "        df = p.DataFrame(i)\n",
    "        #df = df.head(10)\n",
    "        res = list(df.loc[:,'data'.split(' ')]['data'])\n",
    "        dfi = p.DataFrame(res)\n",
    "        dfi['q'] = df.index\n",
    "        dfi = dfi.set_index('q')\n",
    "        dfi['time'] = df['time']\n",
    "        dfi['symbolTS'] = map(lambda x: '%s-%s' % (dfi.loc[x, 'symbol'], dfi.loc[x, 'time']), dfi.index)\n",
    "        dfi = dfi.set_index('symbolTS')\n",
    "        #print df\n",
    "        #with p.option_context('display.max_rows', 4000, 'display.max_columns', 4000, 'display.width', 1000000, 'display.max_colwidth', -1):\n",
    "        #    #print dfi\n",
    "        #    #print dfi.shape\n",
    "        mdf = mdf.combine_first(dfi)\n",
    "        #break\n",
    "    with p.option_context('display.max_rows', 400, 'display.max_columns', 4000, 'display.width', 1000000, 'display.max_colwidth', -1):\n",
    "        #print mdf\n",
    "        print mdf.shape\n",
    "%lprun -f rere rere()"
   ]
  },
  {
   "cell_type": "code",
   "execution_count": null,
   "metadata": {
    "scrolled": true
   },
   "outputs": [],
   "source": [
    "#nmdf = mdf.get_values()\n",
    "#p.DataFrame(nmdf, columns=mdf.columns, index=mdf.index)\n",
    "mdf0 = mdf\n",
    "#mdf0 = mdf0[(mdf['symbol'] == 'BTC') | (mdf['symbol'] == 'ETH')]\n",
    "#print mdf0.head(5)\n",
    "val = 'volume'\n",
    "val = 'marketCap'\n",
    "mdf0 = mdf0.loc[:,('time symbol %s'%val).split()]#.plot()#.get_values()\n",
    "mdf0 = mdf0[mdf0.index > 1.512845e+09]\n",
    "print mdf0.shape\n",
    "mdf0 = mdf0.drop_duplicates().tail(40000)\n",
    "mdf0 = mdf0.pivot('time', 'symbol',val)\n",
    "#mdf0 = normalizeme(mdf0)\n",
    "#mdf0 = sigmoidme(mdf0)\n",
    "#mdf0.fillna(0).plot()\n",
    "#mdf0 = mdf0.sort_values(by'')\n",
    "#print mdf0\n",
    "fig, ax = plt.subplots(figsize=(30,40))         # Sample figsize in inches\n",
    "#sns.heatmap(mdf0.transpose())\n",
    "#sns.heatmap(mdf0, center=0.5, annot=True, linewidths=0, ax=ax, cmap=\"YlGnBu\")\n",
    "#mdf0#.corr()\n",
    "#desc(mdf0)\n",
    "mdf0"
   ]
  },
  {
   "cell_type": "code",
   "execution_count": null,
   "metadata": {
    "scrolled": false
   },
   "outputs": [],
   "source": [
    "#print y\n",
    "mmo = mdf0\n",
    "for i in mmo.columns:\n",
    "    y = mmo.loc[:,i].get_values()\n",
    "    x = n.array(list(mmo.index))\n",
    "    res = dydx(y, x)\n",
    "    mmo[i] = res\n",
    "mmo = mmo.fillna(0)\n",
    "\n",
    "df = mmo.get_values()\n",
    "ind = (n.sum(df, 1) > 0)\n",
    "#print df.shape\n",
    "#print ind.shape\n",
    "#print df\n",
    "#print ind\n",
    "df2 = df[ind, :]\n",
    "df2.shape\n",
    "df2\n",
    "\n",
    "mmo = mmo.loc[ind, :]\n",
    "\n",
    "#mmo = mmo.ffill()\n",
    "mmo = normalizeme(mmo)\n",
    "mmo = sigmoidme(mmo)\n",
    "#mmo.plot()\n",
    "#plt.show()\n",
    "mmo"
   ]
  },
  {
   "cell_type": "code",
   "execution_count": null,
   "metadata": {},
   "outputs": [],
   "source": [
    "#5000 * ([70 30*[20 80]/100]'/100)\n",
    "\n",
    "#n.array([70, (n.matrix('20 80', dtype=n.float)/100).A])"
   ]
  },
  {
   "cell_type": "code",
   "execution_count": null,
   "metadata": {
    "scrolled": false
   },
   "outputs": [],
   "source": [
    "none = desc(df)\n",
    "pp = sns.pairplot(df)\n",
    "plt.show()\n",
    "none"
   ]
  },
  {
   "cell_type": "code",
   "execution_count": null,
   "metadata": {
    "scrolled": true
   },
   "outputs": [],
   "source": [
    "#  all coins volumePerMarketcap / pcnt scatter plot matrix\n",
    "from qoreliquid import normalizeme\n",
    "to = cmc.getAllTokens(tokens=False)\n",
    "ddd = to.sort_values(by='volumePerMarketcap', ascending=False)\n",
    "ddd = ddd.loc[:,'marketCap volumePerMarketcap'.split()]\n",
    "ddd = normalizeme(ddd)\n",
    "ddd = sigmoidme(ddd)\n",
    "ddd.plot()\n",
    "plt.show()\n",
    "#plt.scatter(ddd['marketCap'], ddd['volumePerMarketcap'])\n",
    "#plt.show()\n",
    "ddd = to.loc[:,'pcnt1h pcnt24h pcnt7d'.split(' ')].fillna(0)\n",
    "ddd = normalizeme(ddd)\n",
    "ddd = sigmoidme(ddd)\n",
    "sns.pairplot(ddd, size=10)#, hue='pcnt1h')\n",
    "plt.show()\n",
    "\n",
    "none = desc(ddd)\n",
    "#qg.show_grid(ddd)\n",
    "qg.show_grid(ddd, grid_options={'forceFitColumns': False, 'defaultColumnWidth': 100})\n",
    "#cmc.tokensOnOtherExchanges('etherdelta')"
   ]
  },
  {
   "cell_type": "code",
   "execution_count": null,
   "metadata": {},
   "outputs": [],
   "source": [
    "# Poloniex PoC\n",
    "b = Poloniex()\n",
    "dfbnb = b.getCurrencies()\n",
    "print dfbnb['quote']\n",
    "tokens=True\n",
    "if tokens: dfbnb = dfbnb[dfbnb['quote'] == 'ETH']\n",
    "else:      dfbnb = dfbnb[dfbnb['quote'] == 'BTC']\n",
    "li = list(dfbnb['base'])\n",
    "dft = cmc.getAllTokens(tokens=tokens)\n",
    "#dft1s = dft[dft['marketCap'] <= 1e6]\n",
    "dft1s = pm.generatePortfolioT1Supply(dft, balance=(4129.06), risk=1)\n",
    "dft1s = dft1s.loc[li,:]\n",
    "sortby = 'riskOn'\n",
    "#sortby = 'volumePerMarketcap'\n",
    "#sortby = 'balanceMarketcapPcnt'\n",
    "#sortby = 'pcnt7d'\n",
    "#sortby = 'balanceMarketcapPcnt'\n",
    "dft1s = dft1s.sort_values(by=sortby, ascending=False)\n",
    "#none = desc(dft1s)\n",
    "#qg.show_grid(dft1s)\n",
    "#dft1s.sort_values(by='balanceMarketcapPcnt', ascending=False).loc[:,'pcnt7d'].plot()\n",
    "dft1s"
   ]
  },
  {
   "cell_type": "code",
   "execution_count": null,
   "metadata": {},
   "outputs": [],
   "source": [
    "rm -f /mldev/bin/scraper_cache.sqlite"
   ]
  },
  {
   "cell_type": "code",
   "execution_count": null,
   "metadata": {
    "scrolled": false
   },
   "outputs": [],
   "source": [
    "# Yobit PoC\n",
    "yb = Yobit('4E9AB02C1EBD8D3D6DB6E9C416F6889D', '9ab1dfa0ba89b5738396fbd6f0ee7d6d')\n",
    "dfy = yb.getCurrencies()\n",
    "dfbnb = dfy\n",
    "#dfbnb = dfbnb.head(100)\n",
    "dfbnb.sort_values(by='base', ascending=True)\n",
    "#with p.option_context('display.max_rows', 4000, 'display.max_columns', 4000, 'display.width', 1000000, 'display.max_colwidth', -1):\n",
    "#    print dfbnb\n",
    "#print dfbnb['quote']\n",
    "tokens=True\n",
    "if tokens: dfbnb = dfbnb[dfbnb['quote'] == 'ETH']\n",
    "else:      dfbnb = dfbnb[dfbnb['quote'] == 'BTC']\n",
    "li = list(dfbnb['base'])\n",
    "#print li\n",
    "dft = cmc.getAllTokens(tokens=tokens)\n",
    "#dft1s = dft[dft['marketCap'] <= 1e6]\n",
    "dft1s = pm.generatePortfolioT1Supply(dft, balance=(5123.83), risk=2)\n",
    "dft1s = dft1s.loc[li,:]\n",
    "sortby = 'riskOn'\n",
    "sortby = 'vb'\n",
    "#sortby = 'volumePerMarketcap'\n",
    "#sortby = 'balanceMarketcapPcnt'\n",
    "#sortby = 'pcnt7d'\n",
    "#sortby = 'balanceMarketcapPcnt'\n",
    "dft1s = dft1s.sort_values(by=sortby, ascending=False)\n",
    "#none = desc(dft1s)\n",
    "#qg.show_grid(dft1s)\n",
    "#dft1s.sort_values(by='balanceMarketcapPcnt', ascending=False).loc[:,'pcnt7d'].plot()\n",
    "dft1s = dft1s[dft1s['volume'] > 0]\n",
    "qg.show_grid(dft1s.fillna(0), grid_options={'forceFitColumns': False, 'defaultColumnWidth': 100})"
   ]
  },
  {
   "cell_type": "code",
   "execution_count": null,
   "metadata": {},
   "outputs": [],
   "source": [
    "# yobit test\n",
    "mdf = p.DataFrame()\n",
    "sdf = dft1s.head(20)\n",
    "for i in list(sdf.index):\n",
    "    mdf = mdf.combine_first(p.DataFrame(apiRequest('https://yobit.net/api/3','/ticker/%s_btc' % i.lower())))\n",
    "mdf = mdf.transpose()\n",
    "mdf['spread'] = mdf['sell'] - mdf['buy']\n",
    "mdf['spreadA'] = mdf['spread'] / mdf['avg'] * 100\n",
    "mdf.sort_values(by='vol', ascending=False)\n",
    "Exchange.getBaseQuote()"
   ]
  },
  {
   "cell_type": "code",
   "execution_count": null,
   "metadata": {},
   "outputs": [],
   "source": [
    "# run: git pull origin [from the etherdelta source code directory to fetch the latest tokens]\n",
    "#echo '' > etherdelta.tokens.txt; for i in `ls *ejs | cut -d'.' -f 1`; do echo $i >> etherdelta.tokens.txt; echo $i; done"
   ]
  },
  {
   "cell_type": "code",
   "execution_count": null,
   "metadata": {
    "scrolled": true
   },
   "outputs": [],
   "source": [
    "# Etherdelta PoC\n",
    "fp = open('/mldev/lib/crypto/ethereum/etherdelta_etherdelta.github.io.github.py.git/tokenGuides/etherdelta.tokens.txt', 'r')\n",
    "res = fp.read()\n",
    "fp.close()\n",
    "li = res.strip().split('\\n')\n",
    "dft = cmc.getAllTokens(tokens=True)\n",
    "#dft1s = dft[dft['marketCap'] <= 1e6]\n",
    "#dft = dft[dft['volume'] >= 1e5]\n",
    "#print dft.sort_values(by='volume', ascending=False)['volume']\n",
    "#sys.exit()\n",
    "dft1s = pm.generatePortfolioT1Supply(dft, balance=(5148.36), risk=3.32)\n",
    "dft1s = visualizePortfolio(dft1s, li)\n",
    "qg.show_grid(dft1s, grid_options={'forceFitColumns': False, 'defaultColumnWidth': 100})"
   ]
  },
  {
   "cell_type": "code",
   "execution_count": null,
   "metadata": {
    "scrolled": true
   },
   "outputs": [],
   "source": [
    "def _color_red_or_green(val):\n",
    "    color = 'red' if val < 0 else 'green'\n",
    "    return 'color: %s' % color\n",
    "\n",
    "#df.style.applymap(_color_red_or_green)\n",
    "df.to_html()"
   ]
  },
  {
   "cell_type": "code",
   "execution_count": null,
   "metadata": {
    "scrolled": true
   },
   "outputs": [],
   "source": [
    "# Binance PoC\n",
    "rmScraperCache()\n",
    "b = Binance()\n",
    "dfbnb = b.getCurrencies()\n",
    "#dfbnb = dfbnb[dfbnb['quote'] == 'BTC']\n",
    "dfbnb = dfbnb[dfbnb['quote'] == 'ETH']\n",
    "li = list(dfbnb['base'])\n",
    "dft = cmc.getAllTokens(tokens=True)\n",
    "#dft1s = dft[dft['marketCap'] <= 1e6]\n",
    "#dft = dft[dft['volume'] >= 1e5]\n",
    "sortby = 'riskOn'\n",
    "sortby = 'vb'\n",
    "#sortby = 'volumePerMarketcap'\n",
    "#sortby = 'balanceMarketcapPcnt'\n",
    "#sortby = 'pcnt7d'\n",
    "#sortby = 'balanceMarketcapPcnt'\n",
    "dft1s = dft1s.sort_values(by=sortby, ascending=False)\n",
    "dft1s = pm.generatePortfolioT1Supply(dft, balance=(5148.36), risk=3.32)\n",
    "dft1s = visualizePortfolio(dft1s, li)\n",
    "qg.show_grid(dft1s, grid_options={'forceFitColumns': False, 'defaultColumnWidth': 100})"
   ]
  },
  {
   "cell_type": "code",
   "execution_count": null,
   "metadata": {
    "scrolled": false
   },
   "outputs": [],
   "source": [
    "flights = sns.load_dataset(\"flights\")\n",
    "flights['passengers'] = normalizeme(flights['passengers'])\n",
    "flights['passengers'] = sigmoidme(flights['passengers'])\n",
    "\n",
    "fd = flights['month'].drop_duplicates()\n",
    "di = dict(zip(range(1,13), fd.values))\n",
    "di = dict(zip(di.values(), di.keys()))\n",
    "flights['m'] = map(lambda x: di[x], flights['month'])\n",
    "sns.pairplot(flights.loc[:, 'year passengers'.split(' ')], size=10)#, hue=flights['month'])\n",
    "plt.show()\n",
    "#sys.exit()\n",
    "print flights\n",
    "flights = flights.pivot(\"month\", \"year\", \"passengers\")\n",
    "flights\n",
    "#flights.plot()\n",
    "#plt.show()\n",
    "ax = sns.heatmap(flights)\n",
    "plt.show()\n",
    "print flights"
   ]
  },
  {
   "cell_type": "code",
   "execution_count": null,
   "metadata": {
    "scrolled": true
   },
   "outputs": [],
   "source": [
    "# show charts from poloniex/binance\n",
    "df = dft1s.sort_values(by=sortby, ascending=False)\n",
    "list(df['id'])\n",
    "yy = True\n",
    "dfs = genDFP(list(df['id']), max=7, logy=yy, normalize=yy, sigmoid=yy)\n",
    "dfs"
   ]
  },
  {
   "cell_type": "code",
   "execution_count": null,
   "metadata": {
    "scrolled": true
   },
   "outputs": [],
   "source": [
    "cm['price_usd'].loc[:,'bitcoin'].sort_values(by='price_usd', ascending=False)#['price_usd']"
   ]
  },
  {
   "cell_type": "code",
   "execution_count": null,
   "metadata": {
    "scrolled": true
   },
   "outputs": [],
   "source": [
    "cm = clustermap(dfs, verbose=False, figsize=20)"
   ]
  },
  {
   "cell_type": "code",
   "execution_count": null,
   "metadata": {
    "scrolled": true
   },
   "outputs": [],
   "source": [
    "dft = cmc.getAllTokens(tokens=False)\n",
    "dft = dft[dft['marketCap'] <= 1e6]#.sort_values(by='balanceMarketcapPcnt', ascending=False)\n",
    "dft.sort_values(by='volumePerMarketcap', ascending=False)"
   ]
  },
  {
   "cell_type": "code",
   "execution_count": null,
   "metadata": {
    "scrolled": true
   },
   "outputs": [],
   "source": [
    "dft = cmc.getAllTokens(tokens=False)\n",
    "#dft = cmc.getAllTokens(tokens=True)\n",
    "#print dft\n",
    "#cmc.tokens\n",
    "#dft = dft[dft['marketCap'] > 1e6]\n",
    "#dft = dft.loc[port.split(),:] #  port coins [port var set below]\n",
    "df = pm.generatePortfolioT1Supply(dft, balance=(4129.06), risk=1)\n",
    "ids = list(df['id'])\n",
    "#print ids\n",
    "#dfp = genDFP(ids, max=3)\n",
    "#dfp\n",
    "#sortby = 'riskOn'\n",
    "#sortby = 'vb'\n",
    "sortby = 'volumePerMarketcap'\n",
    "#sortby = 'balanceMarketcapPcnt'\n",
    "#sortby = 'pcnt7d'\n",
    "#sortby = 'balanceMarketcapPcnt'\n",
    "df = df.sort_values(by=sortby, ascending=False)#['id']\n",
    "qg.show_grid(df, grid_options={'forceFitColumns': False, 'defaultColumnWidth': 100})\n",
    "#df['id']"
   ]
  },
  {
   "cell_type": "code",
   "execution_count": null,
   "metadata": {
    "scrolled": true
   },
   "outputs": [],
   "source": [
    "list(df['id'])\n",
    "dfs = genDFP(list(df['id']), max=20)\n",
    "dfs"
   ]
  },
  {
   "cell_type": "code",
   "execution_count": null,
   "metadata": {
    "scrolled": true
   },
   "outputs": [],
   "source": [
    "clustermap(dfs, verbose=True, figsize=15)"
   ]
  },
  {
   "cell_type": "code",
   "execution_count": null,
   "metadata": {
    "scrolled": true
   },
   "outputs": [],
   "source": [
    "df['t1'] = (df['pcnt1h'] + n.min(df['pcnt1h'])+1) *(df['pcnt24h'] + n.min(df['pcnt24h'])+1) * (df['pcnt7d'] + n.min(df['pcnt7d'])+1) / df['marketCap'] / df['price']\n",
    "dfs = df.sort_values(by='t1', ascending=False)\n",
    "dfs.loc[:,'pcnt1h pcnt24h pcnt7d'.split()].plot()\n",
    "dfs = dfs.loc[:,'marketCap pcnt1h pcnt24h pcnt7d t1'.split()]\n",
    "dfs = normalizeme(dfs)\n",
    "dfs = sigmoidme(dfs)\n",
    "#rcParams['figure.figsize'] = 20, 5\n",
    "#sns.pairplot(dfs, size=10)\n",
    "#plt.show()\n",
    "#dfs\n",
    "dfs = genDFP(list(dfs['id']), max=10)\n",
    "dfs"
   ]
  },
  {
   "cell_type": "code",
   "execution_count": null,
   "metadata": {},
   "outputs": [],
   "source": [
    "#df = df.head(300)\n",
    "#df[fi] = map(lambda x: x.decode('utf-8').strip(), df[fi])\n",
    "#pp = sns.pairplot(df)#, hue=fi)\n",
    "#plt.show()"
   ]
  },
  {
   "cell_type": "code",
   "execution_count": null,
   "metadata": {
    "scrolled": false
   },
   "outputs": [],
   "source": [
    "#port = 'PPP XRL BBT SALT PPT TAAS SIFT PAY OMG KIN AIR PLR LINK RHOC CDT DNT RDN POWR CAT ENG PRO KNC SND AVT HMQ MGO ZRX VERI CVC EOS'\n",
    "#port = 'XRP STEEM PRO BNB PPP BRAT BCD SALT KIN PLR RHOC PPT CVC CDT NEWB BAS PAY EOS DOM XRL LINK TNT BAT DNT SNT SKIN FUCK NIO HMQ IXT MSP IND DENT FUN BET'\n",
    "\n",
    "# ib20171128\n",
    "port = 'RDN AION POWR QSP RHOC DNT LINK ENG FLIXX AVT GMT ZRX CAT HST KNC EOS SALT PRO CVC CREA'\n",
    "\n",
    "#port = 'CHC QRL BCC XRL RHOC KIN ZRX PPT SALT CDT BRAT PAY MBRS XRL EOS TAAS BNB HMQ OMG WINGS POE CTR LINK SKIN FUCK BAT CVC MCO SNT PPP CAT DOM BBT BET STX TIX DNT MGO VERI ICN NIO BQX TNT ZRX IXT MSP IND FUN LRC PLR'\n",
    "# eth all > $50\n",
    "port = 'CHC RHOC QRL KIN BNB PPT PRO SALT XRP PPP BRAT TAAS PAY CDT XRL DNT'\n",
    "\n",
    "# coinmarketcap\n",
    "#port = 'BTC ETH BTH LTC XRP DASH NEM XMR IOTA NEO'\n",
    "\n",
    "# bitmex\n",
    "port = 'BTC BCH DASH ETH ETC LTC XMR XRP XTZ ZEC'\n",
    "\n",
    "# etoro\n",
    "#port = 'BTC ETH DASH ETC BCH LTC XRP'\n",
    "\n",
    "# masternode coins\n",
    "port = 'CHC DASH NEM PIVX CRW TX EXCL MUE BLOCK BTA ENT SIB BSD DMD KORE BBP'\n",
    "\n",
    "# git analysis\n",
    "#port = 'EOS BCH EMC2'\n",
    "\n",
    "# portPcnt v [model:t1pi commit:51134db]\n",
    "#port = 'PPP XRL BBT SNC SALT PPT TAAS EXN SIFT PAY OMG KIN AIR RHOC RDN LINK POWR DNT ENG PRO CAT KNC HMQ AVT ZRX CVC EOS'\n",
    "# delever::currentPortPcnt v [model:t1pi commit:51134db]\n",
    "#port = 'BNB RHOC PPT PRO PPP SALT BRAT TAAS CDT XRL PAY DNT KIN HMQ GOOD PLR OMG DOM TIX MBRS CVC SKIN POE WINGS LINK BAS BAT CTR CAT STX FUCK BBT TNT BET ICN NIO EOS VERI NEWB E4ROW BQX IXT MSP IND FUN LRC DENT ZRX'\n",
    "yy = True\n",
    "dfp = genDFP(port, len(port.split(' ')), logy=yy, normalize=yy, sigmoid=yy)\n",
    "#dfp"
   ]
  },
  {
   "cell_type": "code",
   "execution_count": null,
   "metadata": {
    "scrolled": false
   },
   "outputs": [],
   "source": [
    "clustermap(dfp, verbose=False, figsize=15)"
   ]
  },
  {
   "cell_type": "code",
   "execution_count": null,
   "metadata": {
    "scrolled": false
   },
   "outputs": [],
   "source": [
    "dfm = cmc.glo('ethereum')\n",
    "dfm"
   ]
  },
  {
   "cell_type": "code",
   "execution_count": null,
   "metadata": {
    "scrolled": false
   },
   "outputs": [],
   "source": [
    "# Macro Cap [marketcap > 1 billion]\n",
    "v = DataViz()\n",
    "sortby=['pcnt7d', 'pcnt24h','pcnt1h']\n",
    "sortby='riskOn'\n",
    "sortby='vb'\n",
    "v.heatmap(maxx=300e9, minn=10e9, usdt=False, figsize=5, sortby=sortby)"
   ]
  },
  {
   "cell_type": "code",
   "execution_count": null,
   "metadata": {
    "scrolled": false
   },
   "outputs": [],
   "source": [
    "# Macro Cap [marketcap > 1 billion]\n",
    "v.heatmap(maxx=1e10, minn=1e9, usdt=True, figsize=8, sortby=sortby)"
   ]
  },
  {
   "cell_type": "code",
   "execution_count": null,
   "metadata": {
    "scrolled": false
   },
   "outputs": [],
   "source": [
    "# Macro Cap [marketcap > 1 billion]\n",
    "v.heatmap(maxx=10e9, minn=1e9, usdt=True, figsize=5, sortby=sortby)"
   ]
  },
  {
   "cell_type": "code",
   "execution_count": null,
   "metadata": {
    "scrolled": true
   },
   "outputs": [],
   "source": [
    "# Mid Cap [1 billion > marketcap > 100 million]\n",
    "v.heatmap(maxx=1e9, minn=100e6, usdt=False, figsize=30, sortby=sortby)"
   ]
  },
  {
   "cell_type": "code",
   "execution_count": null,
   "metadata": {
    "scrolled": true
   },
   "outputs": [],
   "source": [
    "# Mid Cap [100 million > marketcap > 10 million]\n",
    "v.heatmap(maxx=100e6, minn=10e6, usdt=True, figsize=60, sortby=sortby)"
   ]
  },
  {
   "cell_type": "code",
   "execution_count": null,
   "metadata": {
    "scrolled": true
   },
   "outputs": [],
   "source": [
    "# Mid Cap [10 million > marketcap > 1 million]\n",
    "v.heatmap(maxx=10e6, minn=1e6, usdt=True, figsize=60, sortby=sortby)"
   ]
  },
  {
   "cell_type": "code",
   "execution_count": null,
   "metadata": {
    "scrolled": false
   },
   "outputs": [],
   "source": [
    "# Mid Cap [1 million > marketcap > 0]\n",
    "v.heatmap(maxx=1e6, minn=0, usdt=True, figsize=60, sortby=sortby)"
   ]
  },
  {
   "cell_type": "code",
   "execution_count": null,
   "metadata": {},
   "outputs": [],
   "source": [
    "# Mid Cap [1 million > marketcap > 0]\n",
    "v.heatmap(maxx=1e5, minn=0, usdt=True, figsize=10, sortby=sortby)"
   ]
  },
  {
   "cell_type": "code",
   "execution_count": null,
   "metadata": {
    "scrolled": true
   },
   "outputs": [],
   "source": [
    "li = list(df['id'].head(3))\n",
    "viewCharts(li)"
   ]
  },
  {
   "cell_type": "code",
   "execution_count": null,
   "metadata": {
    "scrolled": false
   },
   "outputs": [],
   "source": [
    "# show portfolio  charts\n",
    "viewCharts('PPP XRL BBT SALT PPT TAAS SIFT PAY OMG KIN AIR PLR LINK RHOC CDT DNT RDN POWR CAT ENG PRO KNC SND AVT HMQ MGO ZRX VERI CVC EOS')"
   ]
  },
  {
   "cell_type": "code",
   "execution_count": null,
   "metadata": {
    "scrolled": false
   },
   "outputs": [],
   "source": [
    "# show portfolio eth1 charts\n",
    "viewCharts('XRP STEEM PRO BNB PPP BRAT BCD SALT KIN PLR RHOC PPT CVC CDT NEWB BAS PAY EOS DOM XRL LINK TNT BAT DNT SNT SKIN FUCK NIO HMQ IXT MSP IND DENT FUN BET')"
   ]
  },
  {
   "cell_type": "code",
   "execution_count": null,
   "metadata": {
    "scrolled": true
   },
   "outputs": [],
   "source": [
    "# show portfolio eth2 charts\n",
    "viewCharts('CHC QRL BCC XRL RHOC KIN PPT SALT CDT BRAT PAY MBRS XRL EOS TAAS BNB HMQ OMG WINGS POE CTR LINK SKIN FUCK BAT CVC MCO SNT PPP CAT DOM BBT BET STX TIX DNT MGO VERI ICN NIO BQX TNT ZRX IXT MSP IND FUN LRC PLR')"
   ]
  },
  {
   "cell_type": "code",
   "execution_count": null,
   "metadata": {
    "scrolled": true
   },
   "outputs": [],
   "source": [
    "nu = 10\n",
    "for i in list(df.head(nu)['id']):\n",
    "    cmc.glo(i)\n",
    "    plt.show()\n",
    "print '=-=-=-=-=-=-=-=-'\n",
    "print '=-=-=-=-=-=-=-=-'\n",
    "for i in list(df.tail(nu)['id']):\n",
    "    cmc.glo(i)\n",
    "    plt.show()"
   ]
  },
  {
   "cell_type": "code",
   "execution_count": null,
   "metadata": {},
   "outputs": [],
   "source": [
    "#for i in 'bitcoin ethereum kin'.split(' '):\n",
    "# b3 == pump n dump example\n",
    "for i in 'b3coin'.split(' '):\n",
    "    cmc.glo(i)"
   ]
  },
  {
   "cell_type": "code",
   "execution_count": null,
   "metadata": {
    "scrolled": true
   },
   "outputs": [],
   "source": [
    "import pandas as p\n",
    "url = 'https://etherscan.io/txsInternal?a=0xea3f1b409f5e9211eed087c9f5f621d1249b3e7b'\n",
    "from qore import *\n",
    "xp = XPath()\n",
    "xcols = {\n",
    "    #'to'      : '/html/body/div[1]/div[4]/div[2]/div/div/div/table/tbody/tr/td[6]/span/a/text()',\n",
    "    'value'   : '/html/body/div[1]/div[4]/div[2]/div/div/div/table/tbody/tr/td[7]/text()',\n",
    "}\n",
    "res = xp.xpath2df(url, xcols)\n",
    "qg.show_grid(p.DataFrame(res))"
   ]
  },
  {
   "cell_type": "code",
   "execution_count": null,
   "metadata": {
    "scrolled": true
   },
   "outputs": [],
   "source": [
    "#port = 'CHC LBTC BTCRED ARN'\n",
    "port = 'CHC QRL PPT SALT BNB KIN CDT PRO PPP TAAS'\n",
    "port = 'PAY GNT PPT QTM LTC'\n",
    "# portPcnt v [model:t1pi commit:51134db]\n",
    "#print dft1s.sort_values(by=sortby, ascending=False)['id'].head(10)\n",
    "#port = ' '.join(list(dft1s.sort_values(by=sortby, ascending=False)['id'].head(10)))\n",
    "yy = True\n",
    "dfp = genDFP(port, len(port.split(' ')), logy=yy, normalize=yy, sigmoid=yy)\n",
    "#dfp"
   ]
  },
  {
   "cell_type": "code",
   "execution_count": null,
   "metadata": {},
   "outputs": [],
   "source": [
    "# dendrogram\n",
    "import numpy as np\n",
    "import matplotlib.pyplot as plt\n",
    "import scipy.cluster.hierarchy as sc\n",
    "\n",
    "dists = np.array([[0,2,1,4],[2,0,3,5],[1,3,0,6],[4,5,6,0]])\n",
    "l = ['a','b','c','b']\n",
    "df = p.DataFrame(dists)\n",
    "print df#.plot()\n",
    "Z = sc.linkage(dists, method='complete')\n",
    "d = sc.dendrogram(Z, labels=l)\n",
    "label_colors = {'a': 'r', 'b': 'g', 'c': 'm'}\n",
    "ax = plt.gca()\n",
    "xlbls = ax.get_xmajorticklabels()\n",
    "for i in range(len(xlbls)):\n",
    "    xlbls[i].set_color(label_colors[xlbls[i].get_text()])\n",
    "plt.show()"
   ]
  },
  {
   "cell_type": "code",
   "execution_count": null,
   "metadata": {
    "scrolled": true
   },
   "outputs": [],
   "source": [
    "# Load the brain networks example dataset\n",
    "df = sns.load_dataset(\"brain_networks\", header=[0, 1, 2], index_col=0)\n",
    "\n",
    "# Select a subset of the networks\n",
    "used_networks = [1, 5, 6, 7, 8, 12, 13, 17]\n",
    "used_columns = (df.columns.get_level_values(\"network\")\n",
    "                          .astype(int)\n",
    "                          .isin(used_networks))\n",
    "df = df.loc[:, used_columns]\n",
    "\n",
    "# Create a categorical palette to identify the networks\n",
    "network_pal = sns.husl_palette(8, s=.45)\n",
    "#print network_pal\n",
    "network_lut = dict(zip(map(str, used_networks), network_pal))\n",
    "\n",
    "# Convert the palette to vectors that will be drawn on the side of the matrix\n",
    "networks = df.columns.get_level_values(\"network\")\n",
    "network_colors = p.Series(networks, index=df.columns).map(network_lut)\n",
    "\n",
    "# Draw the full plot\n",
    "sns.clustermap(df.corr(), center=0, cmap=\"vlag\",\n",
    "               row_colors=network_colors, col_colors=network_colors,\n",
    "               linewidths=.75, figsize=(13, 13))\n",
    "#dfd = desc(df)\n",
    "#df\n",
    "df#.corr()"
   ]
  },
  {
   "cell_type": "code",
   "execution_count": null,
   "metadata": {},
   "outputs": [],
   "source": [
    "# 0024 mergerTraderSplitter\n",
    "mergerTraderSplitter([13.7, 55.3], 0.3347784)"
   ]
  }
 ],
 "metadata": {
  "kernelspec": {
   "display_name": "Python 2",
   "language": "python",
   "name": "python2"
  },
  "language_info": {
   "codemirror_mode": {
    "name": "ipython",
    "version": 2
   },
   "file_extension": ".py",
   "mimetype": "text/x-python",
   "name": "python",
   "nbconvert_exporter": "python",
   "pygments_lexer": "ipython2",
   "version": "2.7.6"
  }
 },
 "nbformat": 4,
 "nbformat_minor": 2
}
