{
 "cells": [
  {
   "cell_type": "code",
   "execution_count": null,
   "metadata": {
    "scrolled": true
   },
   "outputs": [],
   "source": [
    "import pandas as p\n",
    "url = 'https://etherscan.io/txsInternal?a=0xea3f1b409f5e9211eed087c9f5f621d1249b3e7b'\n",
    "from qore import *\n",
    "xp = XPath()\n",
    "xcols = {\n",
    "    #'to'      : '/html/body/div[1]/div[4]/div[2]/div/div/div/table/tbody/tr/td[6]/span/a/text()',\n",
    "    'value'   : '/html/body/div[1]/div[4]/div[2]/div/div/div/table/tbody/tr/td[7]/text()',\n",
    "}\n",
    "res = xp.xpath2df(url, xcols)\n",
    "p.DataFrame(res)"
   ]
  },
  {
   "cell_type": "code",
   "execution_count": null,
   "metadata": {},
   "outputs": [],
   "source": [
    "%pylab inline\n",
    "import numpy as n\n",
    "from bitmex import apiRequest\n",
    "\n",
    "%reload_ext autoreload\n",
    "%autoreload 2\n",
    "%pylab inline\n",
    "from qoreliquid import *\n",
    "import numpy as n\n",
    "from bitmex import CoinMarketCap\n",
    "from pylab import rcParams\n",
    "rcParams['figure.figsize'] = 20, 5\n",
    "import seaborn as sns\n",
    "sns.set()\n",
    "cmc = CoinMarketCap()"
   ]
  },
  {
   "cell_type": "code",
   "execution_count": null,
   "metadata": {
    "scrolled": true
   },
   "outputs": [],
   "source": [
    "dft = cmc.getAllTokens(tokens=False)\n",
    "dft\n",
    "#cmc.tokens"
   ]
  },
  {
   "cell_type": "code",
   "execution_count": null,
   "metadata": {},
   "outputs": [],
   "source": [
    "dft = cmc.getAllTokens(tokens=True)\n",
    "dft\n",
    "#cmc.tokens"
   ]
  },
  {
   "cell_type": "code",
   "execution_count": null,
   "metadata": {
    "scrolled": true
   },
   "outputs": [],
   "source": [
    "from bitmex import PortfolioModeler\n",
    "pm = PortfolioModeler()\n",
    "df = pm.generatePortfolioT1Supply(df)\n",
    "df#['id']"
   ]
  },
  {
   "cell_type": "code",
   "execution_count": null,
   "metadata": {},
   "outputs": [],
   "source": [
    "#df = df.head(300)\n",
    "#df[fi] = map(lambda x: x.decode('utf-8').strip(), df[fi])\n",
    "#pp = sns.pairplot(df)#, hue=fi)\n",
    "#plt.show()"
   ]
  },
  {
   "cell_type": "code",
   "execution_count": null,
   "metadata": {
    "scrolled": true
   },
   "outputs": [],
   "source": [
    "# show portfolio eth1 charts\n",
    "port = 'XRP STEEM PRO BNB PPP BRAT BCD SALT KIN PLR RHOC PPT CVC CDT NEWB BAS PAY EOS DOM XRL LINK TNT BAT DNT SNT SKIN FUCK NIO HMQ IXT MSP IND DENT FUN BET'\n",
    "li = list(df.loc[port.split(' '),['id']]['id'])\n",
    "#print ' '.join(li)\n",
    "for i in list(li):\n",
    "    try:\n",
    "        cmc.glo(i)\n",
    "        plt.show()\n",
    "    except: ''"
   ]
  },
  {
   "cell_type": "code",
   "execution_count": null,
   "metadata": {
    "scrolled": true
   },
   "outputs": [],
   "source": [
    "# show portfolio eth2 charts\n",
    "port = 'CHC BCC XRL RHOC KIN PPT SALT CDT BRAT PAY MBRS XRL EOS TAAS BNB HMQ OMG WINGS POE CTR LINK SKIN FUCK BAT CVC MCO SNT PPP CAT DOM BBT BET STX TIX DNT MGO VERI ICN NIO BQX TNT ZRX IXT MSP IND FUN LRC PLR'\n",
    "li = list(df.loc[port.split(' '),['id']]['id'])\n",
    "#print ' '.join(li)\n",
    "for i in list(li):\n",
    "    try:\n",
    "        cmc.glo(i)\n",
    "        plt.show()\n",
    "    except: ''"
   ]
  },
  {
   "cell_type": "code",
   "execution_count": null,
   "metadata": {
    "scrolled": true
   },
   "outputs": [],
   "source": [
    "nu = 30\n",
    "for i in list(df.head(nu)['id']):\n",
    "    cmc.glo(i)\n",
    "    plt.show()\n",
    "print '=-=-=-=-=-=-=-=-'\n",
    "print '=-=-=-=-=-=-=-=-'\n",
    "for i in list(df.tail(nu)['id']):\n",
    "    cmc.glo(i)\n",
    "    plt.show()"
   ]
  },
  {
   "cell_type": "code",
   "execution_count": null,
   "metadata": {},
   "outputs": [],
   "source": [
    "#for i in 'bitcoin ethereum kin'.split(' '):\n",
    "# b3 == pump n dump example\n",
    "for i in 'b3coin'.split(' '):\n",
    "    cmc.glo(i)"
   ]
  }
 ],
 "metadata": {
  "kernelspec": {
   "display_name": "Python 2",
   "language": "python",
   "name": "python2"
  },
  "language_info": {
   "codemirror_mode": {
    "name": "ipython",
    "version": 2
   },
   "file_extension": ".py",
   "mimetype": "text/x-python",
   "name": "python",
   "nbconvert_exporter": "python",
   "pygments_lexer": "ipython2",
   "version": "2.7.6"
  }
 },
 "nbformat": 4,
 "nbformat_minor": 2
}
