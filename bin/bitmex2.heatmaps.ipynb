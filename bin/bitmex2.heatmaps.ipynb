{
 "cells": [
  {
   "cell_type": "code",
   "execution_count": null,
   "metadata": {},
   "outputs": [],
   "source": [
    "%reload_ext autoreload\n",
    "%autoreload 2\n",
    "\n",
    "import sys\n",
    "def defp(pt):\n",
    "    try:    sys.path.index(pt)\n",
    "    except: sys.path.append(pt)\n",
    "#defp('/ml.dev/bin')\n",
    "\n",
    "from qoreliquid import *\n",
    "from bitmex import *\n",
    "\n",
    "import numpy as n\n",
    "import qgrid as qg # https://github.com/quantopian/qgrid#installation\n",
    "\n",
    "%pylab inline\n",
    "from pylab import rcParams\n",
    "rcParams['figure.figsize'] = 20, 5\n",
    "import seaborn as sns\n",
    "sns.set()\n",
    "\n",
    "p.set_option('display.max_rows', 1000)\n",
    "\n",
    "pm = PortfolioModeler()\n",
    "cmc = CoinMarketCap()"
   ]
  },
  {
   "cell_type": "code",
   "execution_count": null,
   "metadata": {},
   "outputs": [],
   "source": [
    "# 24 sept expensas debt\n",
    "import numpy as n\n",
    "df = p.DataFrame(n.matrix('2011.56 1428.1 1532.51 1366.82 1360.46 2372.83 2523.2 117.76 130.85 130.85 130.85 130.85; 756.35 448.42 386.19 262.43 176.86 166.1 0 29.68 25.12 17.01 9.16 0')).transpose()\n",
    "df[2] = df[1] + df[0]\n",
    "df[3] = df[1] / df[0] * 100\n",
    "print df\n",
    "print\n",
    "dfs = p.DataFrame(df.sum())\n",
    "dfs[1] = dfs[0] / 18.42\n",
    "print dfs\n",
    "print dfs.loc[1,0] / dfs.loc[0,0] * 100\n",
    "print 1750*7\n",
    "print 1750*7*117.2046682542/100\n",
    "print dfs.loc[2,0] / 4"
   ]
  },
  {
   "cell_type": "code",
   "execution_count": null,
   "metadata": {},
   "outputs": [],
   "source": [
    "sortby=['pcnt7d', 'pcnt24h','pcnt1h']\n",
    "sortby='riskOn'\n",
    "sortby='vb'\n",
    "threshold = 0.3\n",
    "showPlot = False\n",
    "showClustermap = True\n",
    "yy = True\n",
    "#tokens=True\n",
    "tokens=False"
   ]
  },
  {
   "cell_type": "code",
   "execution_count": null,
   "metadata": {
    "scrolled": true
   },
   "outputs": [],
   "source": [
    "# Macro Cap [marketcap > 1 billion]\n",
    "rmScraperCache()\n",
    "v = DataViz()\n",
    "v.getAllTokens(tokens=tokens)\n",
    "#v.getAllTokens(tokens=False)\n",
    "v.df = v.df[v.df.index != 'USDT']\n",
    "v.heatmap(maxx=300e9, minn=10e9, usdt=True, figsize=5, sortby=sortby, threshold=threshold)\n",
    "v.heatmap(maxx=300e9, minn=10e9, usdt=False, figsize=5, sortby=sortby, threshold=threshold)\n",
    "viewCharts(' '.join(list(v.pdf.index)), showPlot=showPlot)\n",
    "dfs = genDFP(list(v.pdf['id']), max=7, logy=yy, normalize=yy, sigmoid=yy, showPlot=False)\n",
    "cm = clustermap(dfs, verbose=False, figsize=10, showClustermap=showClustermap)"
   ]
  },
  {
   "cell_type": "markdown",
   "metadata": {},
   "source": [
    "sortby=['pcnt7d', 'pcnt24h','pcnt1h']\n",
    "sortby='riskOn'\n",
    "sortby='vb'\n",
    "threshold = 0.4\n",
    "showPlot = False\n",
    "showClustermap = True\n",
    "yy = True\n",
    "tokens=True\n",
    "#tokens=False"
   ]
  },
  {
   "cell_type": "code",
   "execution_count": null,
   "metadata": {
    "scrolled": false
   },
   "outputs": [],
   "source": [
    "# Macro Cap [marketcap > 1 billion]\n",
    "rmScraperCache()\n",
    "v = DataViz()\n",
    "v.getAllTokens(tokens=tokens)\n",
    "#v.heatmap(maxx=10e9, minn=1e9, usdt=True, figsize=15, sortby=sortby, threshold=threshold)\n",
    "v.heatmap(maxx=10e9, minn=1e9, usdt=False, figsize=15, sortby=sortby, threshold=threshold)\n",
    "viewCharts(' '.join(list(v.pdf.index)), showPlot=showPlot)\n",
    "#dfs = genDFP(list(v.pdf['id']), max=7, logy=yy, normalize=yy, sigmoid=yy, showPlot=False)\n",
    "#cm = clustermap(dfs, verbose=False, figsize=10, showClustermap=showClustermap)"
   ]
  },
  {
   "cell_type": "code",
   "execution_count": null,
   "metadata": {
    "scrolled": true
   },
   "outputs": [],
   "source": [
    "# Mid Cap [1 billion > marketcap > 40 million]\n",
    "rmScraperCache()\n",
    "v = DataViz()\n",
    "v.getAllTokens(tokens=tokens)\n",
    "threshold=0.3\n",
    "#v.heatmap(maxx=1e9, minn=40e6, usdt=True, figsize=figsize, sortby=sortby, threshold=threshold)\n",
    "v.heatmap(maxx=1e9, minn=40e6, usdt=False, figsize=figsize, sortby=sortby, threshold=threshold, ascending=True)\n",
    "#viewCharts(' '.join(list(v.pdf.index)), showPlot=showPlot)\n",
    "#dfs = genDFP(list(v.pdf['id']), max=15, logy=yy, normalize=yy, sigmoid=yy, showPlot=False)\n",
    "#cm = clustermap(dfs, verbose=False, figsize=10, showClustermap=showClustermap)\n",
    "#qg.show_grid(v.pdf, grid_options={'forceFitColumns': False, 'defaultColumnWidth': 100})\n",
    "#v.pdf"
   ]
  },
  {
   "cell_type": "code",
   "execution_count": null,
   "metadata": {
    "scrolled": false
   },
   "outputs": [],
   "source": [
    "#threshold=floor(n.min(v.pdf.loc[['PRO'], 'riskOn volumePerMarketcap vb'.split(' ')].get_values())*10)/10\n",
    "#v.heatmap(maxx=1e9, minn=40e6, usdt=False, figsize=figsize, sortby=sortby, threshold=threshold, ascending=True)\n",
    "#v.pdf.loc[['PRO'], :]"
   ]
  },
  {
   "cell_type": "code",
   "execution_count": null,
   "metadata": {
    "scrolled": true
   },
   "outputs": [],
   "source": [
    "# Mid Cap [100 million > marketcap > 10 million]\n",
    "rmScraperCache()\n",
    "v = DataViz()\n",
    "v.getAllTokens(tokens=tokens)\n",
    "threshold=0.5\n",
    "v.heatmap(maxx=40e6, minn=1e6, usdt=True, figsize=5, sortby=sortby, threshold=threshold)\n",
    "viewCharts(' '.join(list(v.pdf.index)), showPlot=showPlot)\n",
    "dfs = genDFP(list(v.pdf['id']), max=7, logy=yy, normalize=yy, sigmoid=yy, showPlot=False)\n",
    "cm = clustermap(dfs, verbose=False, figsize=10, showClustermap=showClustermap)\n",
    "#v.pdf"
   ]
  },
  {
   "cell_type": "code",
   "execution_count": null,
   "metadata": {
    "scrolled": true
   },
   "outputs": [],
   "source": [
    "# Mid Cap [10 million > marketcap > 1 million]\n",
    "v.heatmap(maxx=20e6, minn=100e5, usdt=False, figsize=60, sortby=sortby, threshold=threshold)\n",
    "viewCharts(' '.join(list(v.pdf.index)), showPlot=showPlot)\n",
    "dfs = genDFP(list(v.pdf['id']), max=7, logy=yy, normalize=yy, sigmoid=yy, showPlot=False)\n",
    "cm = clustermap(dfs, verbose=False, figsize=10, showClustermap=showClustermap)\n",
    "#v.pdf"
   ]
  },
  {
   "cell_type": "code",
   "execution_count": null,
   "metadata": {
    "scrolled": true
   },
   "outputs": [],
   "source": [
    "# Mid Cap [1 million > marketcap > 0]\n",
    "v.heatmap(maxx=1e6, minn=100e3, usdt=True, figsize=60, sortby=sortby, threshold=threshold)\n",
    "viewCharts(' '.join(list(v.pdf.index)), showPlot=showPlot)\n",
    "dfs = genDFP(list(v.pdf['id']), max=7, logy=yy, normalize=yy, sigmoid=yy, showPlot=False)\n",
    "cm = clustermap(dfs, verbose=False, figsize=10, showClustermap=showClustermap)\n",
    "#v.pdf"
   ]
  },
  {
   "cell_type": "code",
   "execution_count": null,
   "metadata": {
    "scrolled": false
   },
   "outputs": [],
   "source": [
    "# Mid Cap [1 million > marketcap > 0]\n",
    "rmScraperCache()\n",
    "threshold = 0.0\n",
    "tokens=True\n",
    "v = DataViz()\n",
    "v.getAllTokens(tokens=tokens)\n",
    "v.heatmap(maxx=1e4, minn=0, usdt=True, figsize=10, sortby=sortby, threshold=threshold)\n",
    "viewCharts(' '.join(list(v.pdf.index)), showPlot=showPlot)\n",
    "dfs = genDFP(list(v.pdf['id']), max=7, logy=yy, normalize=yy, sigmoid=yy, showPlot=False)\n",
    "cm = clustermap(dfs, verbose=False, figsize=10, showClustermap=showClustermap)"
   ]
  },
  {
   "cell_type": "code",
   "execution_count": null,
   "metadata": {
    "scrolled": true
   },
   "outputs": [],
   "source": [
    "# Mid Cap [0 > marketcap > 0]\n",
    "v.heatmap(maxx=1e6, minn=0, usdt=False, figsize=10, sortby=sortby, threshold=threshold)\n",
    "viewCharts(' '.join(list(v.pdf.index)), showPlot=showPlot)\n",
    "dfs = genDFP(list(v.pdf['id']), max=30, logy=yy, normalize=yy, sigmoid=yy, showPlot=False)\n",
    "cm = clustermap(dfs, verbose=False, figsize=10, showClustermap=showClustermap)"
   ]
  },
  {
   "cell_type": "code",
   "execution_count": null,
   "metadata": {},
   "outputs": [],
   "source": [
    "# ethereum pending TXs\n",
    "res = req.get('https://etherscan.io/chart/pendingtx?output=csv')\n",
    "res = map(lambda x: x.replace('\"', '').replace('\\r', '').split(','), res.text.split('\\n'))\n",
    "df = p.DataFrame(res[1:], columns=res[0])\n",
    "#df = p.read_csv('/home/qore/Desktop/export-PendingQueue.csv')\n",
    "df = df.set_index('Date(UTC)')\n",
    "df['Value'] = p.to_numeric(df['Value'])\n",
    "df.plot()\n",
    "plt.show()"
   ]
  },
  {
   "cell_type": "code",
   "execution_count": null,
   "metadata": {},
   "outputs": [],
   "source": [
    "# 0024 mergerTraderSplitter\n",
    "with p.option_context('display.max_rows', 400, 'display.max_columns', 4000, 'display.width', 1000000):\n",
    "    print mergerTraderSplitter([13.7, 55.3], '0x0cee9942a8dc4aa6f594d680f6b9654f02ab62d1 0x38a4ff00c207cbd78ab34b6ddd1b8754e4498508'.split(' '), 0.3347784, 'BNB', 'ETH', '0x0CEE9942A8DC4aa6f594d680f6B9654f02Ab62D1') # Binance: BNB -> RDN Etherdelta -> ETH  \n",
    "    print\n",
    "    print mergerTraderSplitter([3.65, .7], '0xcdeccaa65fddfa861d322d430a84609213e58678 0xdd4fa0bd3fb7587d6d1af4d4f6270dc2bb85e045'.split(' '), 1418, 'ETH', 'MOD','0xcDECcAa65FDDfA861D322d430A84609213e58678')  # Binance: ETH -> MOD\n",
    "    print\n",
    "    print mergerTraderSplitter([228, 1190], '0xdd4fa0bd3fb7587d6d1af4d4f6270dc2bb85e045 0xcdeccaa65fddfa861d322d430a84609213e58678'.split(' '), 473.7625, 'MOD', 'BNB','0xdd4fa0bD3Fb7587D6D1aF4D4f6270Dc2bb85E045')  # Binance: MOD -> BNB\n",
    "    print\n",
    "    print mergerTraderSplitter([0.1, 0.8], '0xdd4fa0bD3Fb7587D6D1aF4D4f6270Dc2bb85E045 0xcDECcAa65FDDfA861D322d430A84609213e58678'.split(' '), 1677.311, 'ETH', 'AST','0xdd4fa0bD3Fb7587D6D1aF4D4f6270Dc2bb85E045')  # Binance: ETH -> AST\n",
    "    print"
   ]
  },
  {
   "cell_type": "code",
   "execution_count": null,
   "metadata": {},
   "outputs": [],
   "source": []
  }
 ],
 "metadata": {
  "kernelspec": {
   "display_name": "Python 2",
   "language": "python",
   "name": "python2"
  },
  "language_info": {
   "codemirror_mode": {
    "name": "ipython",
    "version": 2
   },
   "file_extension": ".py",
   "mimetype": "text/x-python",
   "name": "python",
   "nbconvert_exporter": "python",
   "pygments_lexer": "ipython2",
   "version": "2.7.6"
  }
 },
 "nbformat": 4,
 "nbformat_minor": 2
}
