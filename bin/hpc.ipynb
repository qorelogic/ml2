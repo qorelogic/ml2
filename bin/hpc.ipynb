{
 "cells": [
  {
   "cell_type": "code",
   "execution_count": 2,
   "metadata": {
    "collapsed": false
   },
   "outputs": [],
   "source": [
    "from hpc import HPC"
   ]
  },
  {
   "cell_type": "code",
   "execution_count": 3,
   "metadata": {
    "collapsed": false
   },
   "outputs": [
    {
     "data": {
      "text/plain": [
       "{12944574: <digitalocean.Image.Image at 0xb0f6efcc>,\n",
       " 13048483: <digitalocean.Image.Image at 0xb0f0a62c>,\n",
       " 13052943: <digitalocean.Image.Image at 0xb0f0a44c>,\n",
       " 13109261: <digitalocean.Image.Image at 0xb0f0a3ac>}"
      ]
     },
     "execution_count": 3,
     "metadata": {},
     "output_type": "execute_result"
    }
   ],
   "source": [
    "c = HPC()\n",
    "c.getImages()"
   ]
  },
  {
   "cell_type": "code",
   "execution_count": 6,
   "metadata": {
    "collapsed": false
   },
   "outputs": [
    {
     "name": "stdout",
     "output_type": "stream",
     "text": [
      "6658951\n",
      "ssh -oStrictHostKeyChecking=no root@104.236.6.48\n",
      "ipython notebook --ip=104.236.6.48\n"
     ]
    }
   ],
   "source": [
    "res = c.getNodes()"
   ]
  },
  {
   "cell_type": "code",
   "execution_count": 4,
   "metadata": {
    "collapsed": false
   },
   "outputs": [],
   "source": [
    "c.createNode()"
   ]
  },
  {
   "cell_type": "code",
   "execution_count": 7,
   "metadata": {
    "collapsed": false,
    "scrolled": false
   },
   "outputs": [
    {
     "data": {
      "text/html": [
       "<div style=\"max-height:1000px;max-width:1500px;overflow:auto;\">\n",
       "<table border=\"1\" class=\"dataframe\">\n",
       "  <thead>\n",
       "    <tr style=\"text-align: right;\">\n",
       "      <th></th>\n",
       "      <th>created_at</th>\n",
       "      <th>distribution</th>\n",
       "      <th>id</th>\n",
       "      <th>min_disk_size</th>\n",
       "      <th>name</th>\n",
       "      <th>public</th>\n",
       "      <th>regions</th>\n",
       "      <th>slug</th>\n",
       "      <th>type</th>\n",
       "    </tr>\n",
       "  </thead>\n",
       "  <tbody>\n",
       "    <tr>\n",
       "      <th>0</th>\n",
       "      <td> 2015-07-30T03:41:03Z</td>\n",
       "      <td> Ubuntu</td>\n",
       "      <td> 12944574</td>\n",
       "      <td> 20</td>\n",
       "      <td> liquid-rc01</td>\n",
       "      <td> False</td>\n",
       "      <td> [nyc3]</td>\n",
       "      <td> None</td>\n",
       "      <td> snapshot</td>\n",
       "    </tr>\n",
       "    <tr>\n",
       "      <th>1</th>\n",
       "      <td> 2015-08-07T10:26:45Z</td>\n",
       "      <td> Ubuntu</td>\n",
       "      <td> 13048483</td>\n",
       "      <td> 20</td>\n",
       "      <td> liquid-rc02</td>\n",
       "      <td> False</td>\n",
       "      <td> [nyc3]</td>\n",
       "      <td> None</td>\n",
       "      <td> snapshot</td>\n",
       "    </tr>\n",
       "    <tr>\n",
       "      <th>2</th>\n",
       "      <td> 2015-08-07T22:11:33Z</td>\n",
       "      <td> Ubuntu</td>\n",
       "      <td> 13052943</td>\n",
       "      <td> 40</td>\n",
       "      <td> liquid-rc03</td>\n",
       "      <td> False</td>\n",
       "      <td> [nyc3]</td>\n",
       "      <td> None</td>\n",
       "      <td> snapshot</td>\n",
       "    </tr>\n",
       "    <tr>\n",
       "      <th>3</th>\n",
       "      <td> 2015-08-12T08:01:05Z</td>\n",
       "      <td> Ubuntu</td>\n",
       "      <td> 13109261</td>\n",
       "      <td> 20</td>\n",
       "      <td> liquid-rc04</td>\n",
       "      <td> False</td>\n",
       "      <td> [nyc3]</td>\n",
       "      <td> None</td>\n",
       "      <td> snapshot</td>\n",
       "    </tr>\n",
       "  </tbody>\n",
       "</table>\n",
       "</div>"
      ],
      "text/plain": [
       "             created_at distribution        id  min_disk_size         name  \\\n",
       "0  2015-07-30T03:41:03Z       Ubuntu  12944574             20  liquid-rc01   \n",
       "1  2015-08-07T10:26:45Z       Ubuntu  13048483             20  liquid-rc02   \n",
       "2  2015-08-07T22:11:33Z       Ubuntu  13052943             40  liquid-rc03   \n",
       "3  2015-08-12T08:01:05Z       Ubuntu  13109261             20  liquid-rc04   \n",
       "\n",
       "  public regions  slug      type  \n",
       "0  False  [nyc3]  None  snapshot  \n",
       "1  False  [nyc3]  None  snapshot  \n",
       "2  False  [nyc3]  None  snapshot  \n",
       "3  False  [nyc3]  None  snapshot  "
      ]
     },
     "execution_count": 7,
     "metadata": {},
     "output_type": "execute_result"
    }
   ],
   "source": [
    "import pandas as p\n",
    "im = digitalocean.Image(token = \"fb13f87e074de9bcfba1fca4844b4823a85272d7902418a5776445bcdea250b9\")\n",
    "params = {}\n",
    "#params['page'] = '1'\n",
    "params['per_page'] = '10'\n",
    "params['private'] = 'true'\n",
    "res = im.get_data(\"images/\", params=params)\n",
    "p.DataFrame(res['images'])"
   ]
  },
  {
   "cell_type": "code",
   "execution_count": 82,
   "metadata": {
    "collapsed": false
   },
   "outputs": [
    {
     "name": "stdout",
     "output_type": "stream",
     "text": [
      "\n"
     ]
    },
    {
     "ename": "DataReadError",
     "evalue": "The resource you were accessing could not be found.",
     "output_type": "error",
     "traceback": [
      "\u001b[1;31m---------------------------------------------------------------------------\u001b[0m",
      "\u001b[1;31mDataReadError\u001b[0m                             Traceback (most recent call last)",
      "\u001b[1;32m<ipython-input-82-00c1c72e219d>\u001b[0m in \u001b[0;36m<module>\u001b[1;34m()\u001b[0m\n\u001b[0;32m     11\u001b[0m         \u001b[1;32mwhile\u001b[0m \u001b[0mTrue\u001b[0m\u001b[1;33m:\u001b[0m\u001b[1;33m\u001b[0m\u001b[0m\n\u001b[0;32m     12\u001b[0m             \u001b[1;32mprint\u001b[0m\u001b[1;33m\u001b[0m\u001b[0m\n\u001b[1;32m---> 13\u001b[1;33m             \u001b[0mdroplet\u001b[0m\u001b[1;33m.\u001b[0m\u001b[0mdestroy\u001b[0m\u001b[1;33m(\u001b[0m\u001b[1;33m)\u001b[0m\u001b[1;33m\u001b[0m\u001b[0m\n\u001b[0m\u001b[0;32m     14\u001b[0m             \u001b[1;32mprint\u001b[0m \u001b[1;34m'attempting shutdown({0}) '\u001b[0m\u001b[1;33m.\u001b[0m\u001b[0mformat\u001b[0m\u001b[1;33m(\u001b[0m\u001b[0mdroplet\u001b[0m\u001b[1;33m.\u001b[0m\u001b[0mid\u001b[0m\u001b[1;33m)\u001b[0m\u001b[1;33m\u001b[0m\u001b[0m\n\u001b[0;32m     15\u001b[0m             \u001b[1;31m#droplet.power_off()\u001b[0m\u001b[1;33m\u001b[0m\u001b[1;33m\u001b[0m\u001b[0m\n",
      "\u001b[1;32m/usr/local/lib/python2.7/dist-packages/digitalocean/Droplet.pyc\u001b[0m in \u001b[0;36mdestroy\u001b[1;34m(self)\u001b[0m\n\u001b[0;32m    350\u001b[0m             \u001b[0mReturns\u001b[0m \u001b[0mdict\u001b[0m \u001b[1;32mor\u001b[0m \u001b[0mAction\u001b[0m\u001b[1;33m\u001b[0m\u001b[0m\n\u001b[0;32m    351\u001b[0m         \"\"\"\n\u001b[1;32m--> 352\u001b[1;33m         \u001b[1;32mreturn\u001b[0m \u001b[0mself\u001b[0m\u001b[1;33m.\u001b[0m\u001b[0mget_data\u001b[0m\u001b[1;33m(\u001b[0m\u001b[1;34m\"droplets/%s\"\u001b[0m \u001b[1;33m%\u001b[0m \u001b[0mself\u001b[0m\u001b[1;33m.\u001b[0m\u001b[0mid\u001b[0m\u001b[1;33m,\u001b[0m \u001b[0mtype\u001b[0m\u001b[1;33m=\u001b[0m\u001b[0mDELETE\u001b[0m\u001b[1;33m)\u001b[0m\u001b[1;33m\u001b[0m\u001b[0m\n\u001b[0m\u001b[0;32m    353\u001b[0m \u001b[1;33m\u001b[0m\u001b[0m\n\u001b[0;32m    354\u001b[0m     \u001b[1;32mdef\u001b[0m \u001b[0mrename\u001b[0m\u001b[1;33m(\u001b[0m\u001b[0mself\u001b[0m\u001b[1;33m,\u001b[0m \u001b[0mname\u001b[0m\u001b[1;33m,\u001b[0m \u001b[0mreturn_dict\u001b[0m\u001b[1;33m=\u001b[0m\u001b[0mTrue\u001b[0m\u001b[1;33m)\u001b[0m\u001b[1;33m:\u001b[0m\u001b[1;33m\u001b[0m\u001b[0m\n",
      "\u001b[1;32m/usr/local/lib/python2.7/dist-packages/digitalocean/Droplet.pyc\u001b[0m in \u001b[0;36mget_data\u001b[1;34m(self, *args, **kwargs)\u001b[0m\n\u001b[0;32m    116\u001b[0m             \u001b[0mCustomized\u001b[0m \u001b[0mversion\u001b[0m \u001b[0mof\u001b[0m \u001b[0mget_data\u001b[0m \u001b[0mto\u001b[0m \u001b[0mperform\u001b[0m \u001b[0m__check_actions_in_data\u001b[0m\u001b[1;33m\u001b[0m\u001b[0m\n\u001b[0;32m    117\u001b[0m         \"\"\"\n\u001b[1;32m--> 118\u001b[1;33m         \u001b[0mdata\u001b[0m \u001b[1;33m=\u001b[0m \u001b[0msuper\u001b[0m\u001b[1;33m(\u001b[0m\u001b[0mDroplet\u001b[0m\u001b[1;33m,\u001b[0m \u001b[0mself\u001b[0m\u001b[1;33m)\u001b[0m\u001b[1;33m.\u001b[0m\u001b[0mget_data\u001b[0m\u001b[1;33m(\u001b[0m\u001b[1;33m*\u001b[0m\u001b[0margs\u001b[0m\u001b[1;33m,\u001b[0m \u001b[1;33m**\u001b[0m\u001b[0mkwargs\u001b[0m\u001b[1;33m)\u001b[0m\u001b[1;33m\u001b[0m\u001b[0m\n\u001b[0m\u001b[0;32m    119\u001b[0m         \u001b[1;32mif\u001b[0m \u001b[1;34m\"type\"\u001b[0m \u001b[1;32min\u001b[0m \u001b[0mkwargs\u001b[0m\u001b[1;33m:\u001b[0m\u001b[1;33m\u001b[0m\u001b[0m\n\u001b[0;32m    120\u001b[0m             \u001b[1;32mif\u001b[0m \u001b[0mkwargs\u001b[0m\u001b[1;33m[\u001b[0m\u001b[1;34m\"type\"\u001b[0m\u001b[1;33m]\u001b[0m \u001b[1;33m==\u001b[0m \u001b[0mPOST\u001b[0m\u001b[1;33m:\u001b[0m\u001b[1;33m\u001b[0m\u001b[0m\n",
      "\u001b[1;32m/usr/local/lib/python2.7/dist-packages/digitalocean/baseapi.pyc\u001b[0m in \u001b[0;36mget_data\u001b[1;34m(self, url, type, params)\u001b[0m\n\u001b[0;32m    111\u001b[0m         \u001b[1;32mif\u001b[0m \u001b[1;32mnot\u001b[0m \u001b[0mreq\u001b[0m\u001b[1;33m.\u001b[0m\u001b[0mok\u001b[0m\u001b[1;33m:\u001b[0m\u001b[1;33m\u001b[0m\u001b[0m\n\u001b[0;32m    112\u001b[0m             \u001b[0mmsg\u001b[0m \u001b[1;33m=\u001b[0m \u001b[1;33m[\u001b[0m\u001b[0mdata\u001b[0m\u001b[1;33m[\u001b[0m\u001b[0mm\u001b[0m\u001b[1;33m]\u001b[0m \u001b[1;32mfor\u001b[0m \u001b[0mm\u001b[0m \u001b[1;32min\u001b[0m \u001b[1;33m(\u001b[0m\u001b[1;34m\"id\"\u001b[0m\u001b[1;33m,\u001b[0m \u001b[1;34m\"message\"\u001b[0m\u001b[1;33m)\u001b[0m \u001b[1;32mif\u001b[0m \u001b[0mm\u001b[0m \u001b[1;32min\u001b[0m \u001b[0mdata\u001b[0m\u001b[1;33m]\u001b[0m\u001b[1;33m[\u001b[0m\u001b[1;36m1\u001b[0m\u001b[1;33m]\u001b[0m\u001b[1;33m\u001b[0m\u001b[0m\n\u001b[1;32m--> 113\u001b[1;33m             \u001b[1;32mraise\u001b[0m \u001b[0mDataReadError\u001b[0m\u001b[1;33m(\u001b[0m\u001b[0mmsg\u001b[0m\u001b[1;33m)\u001b[0m\u001b[1;33m\u001b[0m\u001b[0m\n\u001b[0m\u001b[0;32m    114\u001b[0m \u001b[1;33m\u001b[0m\u001b[0m\n\u001b[0;32m    115\u001b[0m         \u001b[1;32mreturn\u001b[0m \u001b[0mdata\u001b[0m\u001b[1;33m\u001b[0m\u001b[0m\n",
      "\u001b[1;31mDataReadError\u001b[0m: The resource you were accessing could not be found."
     ]
    }
   ],
   "source": [
    "import time\n",
    "from IPython.display import clear_output\n",
    "\n",
    "wait = 5\n",
    "\n",
    "for droplet in c.getNodes(quiet=True):\n",
    "\n",
    "    #ans = raw_input('turn off droplet {1}({0})? y/n: '.format(droplet.id, droplet.name))\n",
    "    ans = 'y'\n",
    "    if ans == 'y':\n",
    "        while True:\n",
    "            try:\n",
    "                print\n",
    "                droplet.destroy()\n",
    "                print 'attempting shutdown({0}) '.format(droplet.id)\n",
    "                #droplet.power_off()\n",
    "                #c.makeNewSnapshot(droplet)\n",
    "                print 'events:'\n",
    "                for i in droplet.get_events():\n",
    "                    print i\n",
    "                print 'waiting {0} secs'.format(wait)\n",
    "                time.sleep(5)\n",
    "                clear_output()\n",
    "            except:\n",
    "                break\n",
    "    else:\n",
    "        print 'nothing done'"
   ]
  },
  {
   "cell_type": "code",
   "execution_count": 16,
   "metadata": {
    "collapsed": false
   },
   "outputs": [
    {
     "data": {
      "text/plain": [
       "{u'action': {u'completed_at': None,\n",
       "  u'id': 59790077,\n",
       "  u'region': {u'available': True,\n",
       "   u'features': [u'private_networking', u'backups', u'ipv6', u'metadata'],\n",
       "   u'name': u'New York 3',\n",
       "   u'sizes': [u'512mb',\n",
       "    u'1gb',\n",
       "    u'2gb',\n",
       "    u'4gb',\n",
       "    u'8gb',\n",
       "    u'16gb',\n",
       "    u'32gb',\n",
       "    u'48gb',\n",
       "    u'64gb'],\n",
       "   u'slug': u'nyc3'},\n",
       "  u'region_slug': u'nyc3',\n",
       "  u'resource_id': 6560282,\n",
       "  u'resource_type': u'droplet',\n",
       "  u'started_at': u'2015-08-14T14:50:48Z',\n",
       "  u'status': u'in-progress',\n",
       "  u'type': u'power_off'}}"
      ]
     },
     "execution_count": 16,
     "metadata": {},
     "output_type": "execute_result"
    }
   ],
   "source": [
    "droplet = digitalocean.Droplet(token=c.token)\n",
    "droplet.id = 6560282\n"
   ]
  },
  {
   "cell_type": "code",
   "execution_count": 22,
   "metadata": {
    "collapsed": false
   },
   "outputs": [
    {
     "name": "stdout",
     "output_type": "stream",
     "text": [
      "59790332 destroy [completed]\n",
      "59790077 power_off [completed]\n",
      "59659013 create [in-progress]\n"
     ]
    }
   ],
   "source": []
  },
  {
   "cell_type": "code",
   "execution_count": 188,
   "metadata": {
    "collapsed": false
   },
   "outputs": [
    {
     "ename": "AttributeError",
     "evalue": "HPC instance has no attribute 'take_snapshot'",
     "output_type": "error",
     "traceback": [
      "\u001b[1;31m---------------------------------------------------------------------------\u001b[0m",
      "\u001b[1;31mAttributeError\u001b[0m                            Traceback (most recent call last)",
      "\u001b[1;32m<ipython-input-188-1d27a9b3cb96>\u001b[0m in \u001b[0;36m<module>\u001b[1;34m()\u001b[0m\n\u001b[1;32m----> 1\u001b[1;33m \u001b[0mc\u001b[0m\u001b[1;33m.\u001b[0m\u001b[0mtake_snapshot\u001b[0m\u001b[1;33m\u001b[0m\u001b[0m\n\u001b[0m",
      "\u001b[1;31mAttributeError\u001b[0m: HPC instance has no attribute 'take_snapshot'"
     ]
    }
   ],
   "source": [
    "c.take_snapshot"
   ]
  },
  {
   "cell_type": "code",
   "execution_count": 9,
   "metadata": {
    "collapsed": false
   },
   "outputs": [
    {
     "data": {
      "image/png": "[encoded data removed]",
      "text/plain": [
       "<matplotlib.figure.Figure at 0xac85a06c>"
      ]
     },
     "metadata": {},
     "output_type": "display_data"
    },
    {
     "name": "stdout",
     "output_type": "stream",
     "text": [
      "154\n"
     ]
    }
   ],
   "source": [
    "import matplotlib.pylab as plt\n",
    "from qoreliquid import *\n",
    "\n",
    "def viewTraining(fname, showPlot=False):\n",
    "    df = p.read_csv(fname, header=None)\n",
    "    %matplotlib inline\n",
    "    df = df.ix[:,[2,3,4]]\n",
    "    #df.ix[:,[2]].plot()\n",
    "    #df.ix[:,[3]].plot()\n",
    "    #df.ix[:,[4]].plot()\n",
    "    #print df\n",
    "    #if showPlot == True: plt.scatter(df.ix[:,[3]], df.ix[:,[4]]); plt.show();\n",
    "    if showPlot == True: df.ix[:,[4]].plot(); plt.show();\n",
    "    #if showPlot == True: df.ix[:,[3,4]].plot(); plt.show();\n",
    "    \n",
    "    dfp = df\n",
    "    df = normalizeme(df)\n",
    "    #if showPlot == True: plt.scatter(df.ix[:,[3]], df.ix[:,[4]]); plt.show();\n",
    "    #if showPlot == True: df.plot(); plt.show();\n",
    "\n",
    "    df = sigmoidme(df)\n",
    "    #if showPlot == True: plt.scatter(df.ix[:,[3]], df.ix[:,[4]]); plt.show();\n",
    "    if showPlot == True: df.plot(); plt.show();\n",
    "    return dfp\n",
    "    \n",
    "\n",
    "#df1 = viewTraining('/mldev/bin/datafeeds/models/qorequant/EUR_USD-D.train.csv')\n",
    "df2 = viewTraining('/mldev/bin/datafeeds/models/qorequant/EUR_USD-H4.train.csv')\n",
    "\n",
    "#plot(df1.ix[:,4])\n",
    "plot(df2.ix[:,4])\n",
    "#legend([df1.columns[3]])\n",
    "show();\n",
    "\n",
    "#print len(df1)\n",
    "print len(df2)\n",
    "\n",
    "\n",
    "\n",
    "#legend([df1.columns, df2.columns])\n",
    "\n",
    "#viewTraining('/mldev/bin/datafeeds/models/qorequant/USD_CAD-H4.train.csv')\n",
    "\n",
    "#viewTraining('/mldev/bin/datafeeds/models/qorequant/EUR_USD-M30.train.csv')\n"
   ]
  },
  {
   "cell_type": "code",
   "execution_count": 240,
   "metadata": {
    "collapsed": false
   },
   "outputs": [
    {
     "data": {
      "text/plain": [
       "deque([])"
      ]
     },
     "execution_count": 240,
     "metadata": {},
     "output_type": "execute_result"
    }
   ],
   "source": [
    "from collections import deque\n",
    "dd = deque()\n",
    "dd"
   ]
  }
 ],
 "metadata": {
  "kernelspec": {
   "display_name": "Python 2",
   "language": "python",
   "name": "python2"
  },
  "language_info": {
   "codemirror_mode": {
    "name": "ipython",
    "version": 2
   },
   "file_extension": ".py",
   "mimetype": "text/x-python",
   "name": "python",
   "nbconvert_exporter": "python",
   "pygments_lexer": "ipython2",
   "version": "2.7.6"
  }
 },
 "nbformat": 4,
 "nbformat_minor": 0
}
