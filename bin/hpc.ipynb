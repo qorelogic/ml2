{
 "cells": [
  {
   "cell_type": "code",
   "execution_count": null,
   "metadata": {
    "collapsed": false
   },
   "outputs": [],
   "source": [
    "%reload_ext autoreload\n",
    "%autoreload 2\n",
    "%reload_ext memory_profiler\n",
    "%reload_ext line_profiler\n",
    "#%pylab inline\n",
    "from qoreliquid import *\n",
    "from hpc import HPC\n",
    "import time\n",
    "import digitalocean\n",
    "from IPython.display import clear_output\n",
    "import matplotlib.pylab as plt\n",
    "import pandas as p\n",
    "%matplotlib inline\n",
    "c = HPC()"
   ]
  },
  {
   "cell_type": "code",
   "execution_count": null,
   "metadata": {
    "collapsed": false
   },
   "outputs": [],
   "source": [
    "c.createNode()"
   ]
  },
  {
   "cell_type": "code",
   "execution_count": null,
   "metadata": {
    "collapsed": false
   },
   "outputs": [],
   "source": [
    "c.createNextSnapshotname()"
   ]
  },
  {
   "cell_type": "code",
   "execution_count": null,
   "metadata": {
    "collapsed": false
   },
   "outputs": [],
   "source": [
    "# available images/snapshots\n",
    "images = c.getImages()\n",
    "print images\n",
    "print\n",
    "for img in images:\n",
    "    print '{0} {1} {2}'.format(images[img].id, images[img].name, images[img].created_at)"
   ]
  },
  {
   "cell_type": "code",
   "execution_count": null,
   "metadata": {
    "collapsed": false
   },
   "outputs": [],
   "source": [
    "c.createNextSnapshotname()"
   ]
  },
  {
   "cell_type": "code",
   "execution_count": null,
   "metadata": {
    "collapsed": false
   },
   "outputs": [],
   "source": [
    "# running nodes\n",
    "res = c.getNodes()\n",
    "print res"
   ]
  },
  {
   "cell_type": "code",
   "execution_count": null,
   "metadata": {
    "collapsed": false
   },
   "outputs": [],
   "source": [
    "# destroy droplet with id\n",
    "res[6698867].destroy()"
   ]
  },
  {
   "cell_type": "code",
   "execution_count": null,
   "metadata": {
    "collapsed": false,
    "scrolled": false
   },
   "outputs": [],
   "source": [
    "im = digitalocean.Image(token = \"fb13f87e074de9bcfba1fca4844b4823a85272d7902418a5776445bcdea250b9\")\n",
    "params = {}\n",
    "#params['page'] = '1'\n",
    "params['per_page'] = '10'\n",
    "params['private'] = 'true'\n",
    "res = im.get_data(\"images/\", params=params)\n",
    "p.DataFrame(res['images'])"
   ]
  },
  {
   "cell_type": "code",
   "execution_count": null,
   "metadata": {
    "collapsed": false
   },
   "outputs": [],
   "source": [
    "# show events\n",
    "for droplet in c.getNodes(quiet=True):\n",
    "    while True:\n",
    "        try:\n",
    "            print 'events:'\n",
    "            for i in droplet.get_events():\n",
    "                print i\n",
    "        except:\n",
    "            ''"
   ]
  },
  {
   "cell_type": "code",
   "execution_count": null,
   "metadata": {
    "collapsed": false
   },
   "outputs": [],
   "source": [
    "# make snapshot of droplets\n",
    "wait = 5\n",
    "\n",
    "for droplet in c.getNodes(quiet=True):\n",
    "\n",
    "    #ans = raw_input('turn off droplet {1}({0})? y/n: '.format(droplet.id, droplet.name))\n",
    "    ans = 'y'\n",
    "    if ans == 'y':\n",
    "        while True:\n",
    "            try:\n",
    "                print 'events:'\n",
    "                for i in droplet.get_events():\n",
    "                    print i\n",
    "                print\n",
    "                print 'attempting snapshot({0}) '.format(droplet.id)\n",
    "                #droplet.power_off()\n",
    "                c.makeNewSnapshot(droplet)\n",
    "                print 'waiting {0} secs'.format(wait)\n",
    "                time.sleep(5)\n",
    "                clear_output()\n",
    "            except:\n",
    "                break\n",
    "    else:\n",
    "        print 'nothing done'"
   ]
  },
  {
   "cell_type": "code",
   "execution_count": null,
   "metadata": {
    "collapsed": false
   },
   "outputs": [],
   "source": [
    "# destroy droplets\n",
    "import time\n",
    "from IPython.display import clear_output\n",
    "\n",
    "wait = 5\n",
    "\n",
    "for droplet in c.getNodes(quiet=True):\n",
    "\n",
    "    #ans = raw_input('turn off droplet {1}({0})? y/n: '.format(droplet.id, droplet.name))\n",
    "    ans = 'y'\n",
    "    if ans == 'y':\n",
    "        while True:\n",
    "            try:\n",
    "                print\n",
    "                droplet.destroy()\n",
    "            except:\n",
    "                break\n",
    "    else:\n",
    "        print 'nothing done'"
   ]
  },
  {
   "cell_type": "code",
   "execution_count": null,
   "metadata": {
    "collapsed": false
   },
   "outputs": [],
   "source": [
    "droplet = digitalocean.Droplet(token=c.token)\n",
    "droplet.id = 6560282`"
   ]
  },
  {
   "cell_type": "code",
   "execution_count": null,
   "metadata": {
    "collapsed": false
   },
   "outputs": [],
   "source": [
    "from collections import deque\n",
    "dd = deque()\n",
    "dd"
   ]
  }
 ],
 "metadata": {
  "kernelspec": {
   "display_name": "Python 2",
   "language": "python",
   "name": "python2"
  },
  "language_info": {
   "codemirror_mode": {
    "name": "ipython",
    "version": 2
   },
   "file_extension": ".py",
   "mimetype": "text/x-python",
   "name": "python",
   "nbconvert_exporter": "python",
   "pygments_lexer": "ipython2",
   "version": "2.7.6"
  }
 },
 "nbformat": 4,
 "nbformat_minor": 0
}
