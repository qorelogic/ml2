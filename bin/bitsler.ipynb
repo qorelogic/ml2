{
 "cells": [
  {
   "cell_type": "code",
   "execution_count": null,
   "metadata": {
    "collapsed": true
   },
   "outputs": [],
   "source": [
    "rn = n.random.rand(200,1)"
   ]
  },
  {
   "cell_type": "code",
   "execution_count": null,
   "metadata": {
    "collapsed": false,
    "scrolled": false
   },
   "outputs": [],
   "source": [
    "# bitsler study\n",
    "import pandas as p\n",
    "import numpy as n\n",
    "from qoreliquid import normalizeme\n",
    "from qoreliquid import sigmoidme\n",
    "%pylab inline\n",
    "\n",
    "def calc(rn, ini=100, risk=1, payout=3, winningEvent=-50, losingEvent=25, batch=False):\n",
    "    ini = float(ini)\n",
    "    risk = round(risk, 8)\n",
    "    df = p.DataFrame(rn)    \n",
    "    chance = float(99) / payout\n",
    "    wchance = (chance / 100)\n",
    "    lchance = (1 - (chance / 100))\n",
    "    winners = df[df[0] < wchance].index\n",
    "    losers  = df[df[0] > lchance].index\n",
    "    #print ini\n",
    "    df.ix[0, 'capital'] = ini\n",
    "    for i in winners:\n",
    "        df.ix[i, 'b'] = 1\n",
    "    for i in losers:\n",
    "        df.ix[i, 'a'] = 1\n",
    "    for i in df.index:\n",
    "        df.ix[i, 'risk']  = risk # df.ix[i, 'capital'] * risk / 100\n",
    "    df['payout'] = payout\n",
    "    df['chance'] = chance\n",
    "    df['wchance'] = wchance\n",
    "    df['lchance'] = lchance\n",
    "    df['winningEvent'] = winningEvent\n",
    "    df['losingEvent'] = losingEvent\n",
    "    df = df.fillna(0)\n",
    "    df['win'] = n.array((df['b']), n.int32)\n",
    "    df['lose'] = n.array(n.not_equal(df['b'], 1), n.int32)\n",
    "\n",
    "    #for i in df.index:\n",
    "    #    try: df.ix[i, 'deposit'] = df.ix[i, 'capital'] * 1 / 100\n",
    "    #    except: ''\n",
    "    df['xrisk'] = risk #/ 100\n",
    "    for i in df.index:\n",
    "        df.ix[i, 'iCapital'] = df.ix[i, 'capital']\n",
    "        #df.ix[i, 'xrisk']    = (df.ix[i, 'capital'] * risk / 100)\n",
    "        #if df.ix[i, 'capital'] > 0:\n",
    "        #    df.ix[i, 'xrisk']    = risk #/ 100\n",
    "        if df.ix[i, 'capital'] <= 0:\n",
    "            df.ix[i, 'xrisk'] = 0 #/ 100\n",
    "        xpayoutWin  = (((df.ix[i, 'xrisk'] * df.ix[i, 'payout']) - df.ix[i, 'xrisk']) * df.ix[i, 'win'])\n",
    "        xpayoutLose = (df.ix[i, 'xrisk'] * df.ix[i, 'lose'])\n",
    "        if df.ix[i, 'capital'] > 0:\n",
    "            #0.011236*(100+25.0)/100\n",
    "            winPcent = (float(df.ix[i, 'winningEvent'] * df.ix[i, 'win'])/100)\n",
    "            losePcent = (float(df.ix[i, 'losingEvent'] * df.ix[i, 'lose'])/100)\n",
    "            #df.ix[i+1, 'xrisk'] = df.ix[i, 'xrisk'] * (1+float(df.ix[i, 'winningEvent'] * df.ix[i, 'win'])/100)\n",
    "            #df.ix[i+1, 'xrisk'] = df.ix[i, 'xrisk'] * (1+float(df.ix[i, 'losingEvent'] * df.ix[i, 'lose'])/100)\n",
    "            df.ix[i+1, 'xrisk'] = df.ix[i, 'xrisk'] * (1 + winPcent + losePcent)\n",
    "        df.ix[i, 'xpayout'] =  round(xpayoutWin - xpayoutLose,8) #* df.ix[i, 'xrisk']\n",
    "        df.ix[i, 'capital'] = df.ix[i, 'xpayout'] + df.ix[i, 'capital']\n",
    "        #df.ix[i, 'capital'] += df.ix[i, 'xpayout']\n",
    "        #print df.ix[i, 'capital']\n",
    "        try:\n",
    "            if i < len(df)-1:\n",
    "                df.ix[i+1, 'capital'] = df.ix[i, 'capital']\n",
    "                #df.ix[i+1, 'risk'] = df.ix[i, 'capital'] * risk / 100\n",
    "            ''\n",
    "        except Exception as e:\n",
    "            print e\n",
    "    #print df\n",
    "    #for i in df.index:\n",
    "    #    df.ix[i, 'risk'] = df.ix[i, 'capital'] * risk / 100\n",
    "    #df[0].plot()\n",
    "    df['xpayoutN'] = normalizeme(df['xpayout'])\n",
    "    df['xpayoutN'] = sigmoidme(df['xpayoutN'])\n",
    "\n",
    "    # compute the sharpe ratio\n",
    "    lin = len(df.index)-1\n",
    "    df.ix[1:lin,'returns'] = 100 - ( df.ix[0:lin-1,'capital'].get_values() / df.ix[1:lin,'capital'].get_values() * 100 )\n",
    "\n",
    "    #ca = normalizeme(df['capital'])\n",
    "    ca = df['capital'] / df.ix[0,'capital']\n",
    "    #ca.plot()\n",
    "    #print ca\n",
    "    \n",
    "    sharpe = n.mean(ca) / n.std(df['returns'])\n",
    "    #print 'sharpe: %s' % sharpe\n",
    "\n",
    "    df = df.fillna(0)\n",
    "    if batch == False:\n",
    "        #df.ix[:, ['xpayoutN']].plot()\n",
    "        #plt.show()\n",
    "        #df.ix[:, ['xpayout']].plot()\n",
    "        #plt.show()\n",
    "        df.ix[:, ['capital']].plot()\n",
    "        plt.show()incom\n",
    "        with p.option_context('display.max_rows', 15, 'display.max_columns', 4000, 'display.width', 1000000): print df\n",
    "\n",
    "    return {\n",
    "        'balance': df.ix[df.tail(1).index[0], 'capital'], \n",
    "        'balancePcnt': df.ix[df.tail(1).index[0], 'capital']/ df.ix[df.head(1).index[0], 'iCapital'] * 100 - 100, \n",
    "        'sharpe':  sharpe,\n",
    "        'winningEvent': winningEvent,\n",
    "        'losingEvent': losingEvent,\n",
    "    }\n",
    "\n",
    "#rn2 = n.random.rand(2000,1)a\n",
    "#calc(rn,10000)\n",
    "\n",
    "rn3 = n.random.rand(50,1)\n",
    "#calc(rn3,1.04e-6, 2, 3)\n",
    "ic = 300\n",
    "#ic = 0.88e-6\n",
    "res = calc(rn3,ic, float(ic)/89, payout=3, winningEvent=-50, losingEvent=25)\n",
    "print res"
   ]
  },
  {
   "cell_type": "code",
   "execution_count": null,
   "metadata": {
    "collapsed": false
   },
   "outputs": [],
   "source": [
    "# test\n",
    "risk = 34\n",
    "lns = []\n",
    "rn3 = n.random.rand(100,1)\n",
    "#\"\"\"\n",
    "for i in range(20):\n",
    "    ic = 0.88e-6\n",
    "    rWinningEvent = n.random.randint(-99,50)\n",
    "    rLosingEvent = n.random.randint(-99,50)\n",
    "    res = calc(rn3,ic, float(ic)/risk, 3, winningEvent=rWinningEvent, losingEvent=rLosingEvent, batch=True)\n",
    "    #print res\n",
    "    lns.append(res)\n",
    "#\"\"\"\n",
    "dflns = p.DataFrame(lns)\n",
    "dflns['a'] = dflns['balancePcnt'] * dflns['sharpe']\n",
    "rdflns = (dflns[dflns['sharpe'] > 0].sort_values(by='a', ascending=False))\n",
    "rdflns = dflns[dflns['balancePcnt'] > 0]\n",
    "\n",
    "print rdflns\n",
    "print '====='\n",
    "\n",
    "\n",
    "for k in rdflns.index:\n",
    "    # test2\n",
    "    lns = []\n",
    "    #risk = 144\n",
    "    #\"\"\"\n",
    "    for j in range(20):\n",
    "        i = rdflns.index[k]\n",
    "        rn3 = n.random.rand(200,1)\n",
    "        ic = 698e-6\n",
    "        res = calc(rn3,ic, float(ic)/risk, 3, winningEvent=rdflns.ix[i, 'winningEvent'], losingEvent=rdflns.ix[i, 'losingEvent'], batch=True)\n",
    "        print res\n",
    "        lns.append(res)\n",
    "    #\"\"\"\n",
    "    dflns2 = p.DataFrame(lns)\n",
    "    dflns2['a'] = dflns2['balancePcnt'] / dflns2['sharpe'] * (dflns2['sharpe'] / n.abs(dflns2['sharpe']))\n",
    "    #dflns2 = dflns2[dflns2['sharpe'] > 0]\n",
    "    #dflns2 = dflns2[dflns2['a'] > 0]\n",
    "    dflns2 = dflns2.sort_values(by='a', ascending=False)\n",
    "    print dflns2#.sort_values(by='a', ascending=False)"
   ]
  },
  {
   "cell_type": "code",
   "execution_count": null,
   "metadata": {
    "collapsed": false
   },
   "outputs": [],
   "source": [
    "i = dflns2.index[0]\n",
    "ic = 698e-6\n",
    "rn3 = n.random.rand(100,1)\n",
    "print calc(rn3,ic, float(ic)/risk, 3, winningEvent=dflns2.ix[i, 'winningEvent'], losingEvent=dflns2.ix[i, 'losingEvent'], batch=False)"
   ]
  },
  {
   "cell_type": "code",
   "execution_count": null,
   "metadata": {
    "collapsed": false
   },
   "outputs": [],
   "source": [
    "dflnsN = (dflns)\n",
    "#dflnsN = normalizeme(dflnsN)\n",
    "#dflnsN = sigmoidme(dflnsN)\n",
    "scatter(dflnsN['losingEvent'] / dflnsN['winningEvent'], dflnsN['sharpe'])\n",
    "plt.show()\n",
    "dflnsN"
   ]
  },
  {
   "cell_type": "code",
   "execution_count": null,
   "metadata": {
    "collapsed": false,
    "scrolled": true
   },
   "outputs": [],
   "source": [
    "dflnsN = (dflns)\n",
    "#dflnsN = normalizeme(dflnsN)\n",
    "#dflnsN = sigmoidme(dflnsN)\n",
    "for i in dflnsN.sort_values(by='sharpe', ascending=False).head(5).index:\n",
    "    #print dflnsN.ix[i, :]\n",
    "    ic = 300\n",
    "    print calc(rn3,ic, ic/89, 3, winningEvent=dflnsN.ix[i, 'winningEvent'], losingEvent=dflnsN.ix[i, 'losingEvent'], batch=False)\n",
    "#.plot() #['sharpe']"
   ]
  },
  {
   "cell_type": "code",
   "execution_count": null,
   "metadata": {
    "collapsed": false,
    "scrolled": true
   },
   "outputs": [],
   "source": [
    "#ini = [100, 0.00000300, 0.0000300]\n",
    "ini = []\n",
    "#for i in range(1,4):\n",
    "#    ini.append(1.0 / n.powini = []\n",
    "for i in list(n.arange(4, 0, -1)): ini.append(n.power(10,i))\n",
    "for i in range(0,9):               ini.append(1.0 / n.power(10,i))\n",
    "print ini\n",
    "for i in range(len(ini)): calc(rn,ini[i])"
   ]
  }
 ],
 "metadata": {
  "kernelspec": {
   "display_name": "Python 2",
   "language": "python",
   "name": "python2"
  },
  "language_info": {
   "codemirror_mode": {
    "name": "ipython",
    "version": 2
   },
   "file_extension": ".py",
   "mimetype": "text/x-python",
   "name": "python",
   "nbconvert_exporter": "python",
   "pygments_lexer": "ipython2",
   "version": "2.7.6"
  }
 },
 "nbformat": 4,
 "nbformat_minor": 0
}
