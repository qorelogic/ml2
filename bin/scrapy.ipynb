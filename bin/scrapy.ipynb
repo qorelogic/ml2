{
 "metadata": {
  "name": ""
 },
 "nbformat": 3,
 "nbformat_minor": 0,
 "worksheets": [
  {
   "cells": [
    {
     "cell_type": "code",
     "collapsed": false,
     "input": [
      "from pysqlite2 import dbapi2 as sqlite\n",
      "fn = '/ml.dev/lib/crawlers/finance/dataPipeline.scrapy/numbeo.sqlite'\n",
      "connection = sqlite.connect(fn)\n",
      "cursor = connection.cursor()\n",
      "\n",
      "import pymongo\n",
      "import numpy as n\n",
      "import pandas as p\n",
      "import re\n",
      "\n",
      "# Connection to Mongo DB\n",
      "try:\n",
      "    conn = pymongo.MongoClient()\n",
      "    print \"Connected successfully!!!\"\n",
      "except pymongo.errors.ConnectionFailure, e:\n",
      "   print \"Could not connect to MongoDB: %s\" % e \n",
      "\n",
      "print conn.database_names()\n",
      "for i in conn.numbeo.billionaires.find():\n",
      "    print i\n",
      "db = conn.bloomberg\n",
      "# search for string\n",
      "li = []\n",
      "#for i in db.users.find({'user':re.compile(r'.*ykes.*')}):\n",
      "#for i in db.users.find({'user':re.compile(r'.*')}):\n",
      "    #print i\n",
      "#    li.append({'trader':i['href'].replace('/user/', ''), 'profit':i['profit'], 'url':i['href'].replace('/user/', 'http://profit.ly/user/')})\n",
      "#df = p.DataFrame(li).drop_duplicates().sort('profit', ascending=False)\n",
      "#plot(df.ix[:,'profit'])\n",
      "\n",
      "for i in db.companies.find():\n",
      "    #print i\n",
      "    li.append(i)\n",
      "df = p.DataFrame(li).drop_duplicates()#.sort('profit', ascending=False)\n",
      "print df.columns\n",
      "df.ix[:,['companies', 'profit']]\n",
      "#plot(df.ix[:,'profit'])"
     ],
     "language": "python",
     "metadata": {},
     "outputs": []
    },
    {
     "cell_type": "code",
     "collapsed": false,
     "input": [
      "cursor.execute('drop table if exists '+spider.name)\n",
      "cursor.execute('CREATE TABLE IF NOT EXISTS '+spider.name+' ( '+\\\n",
      "    'id INTEGER PRIMARY KEY, '+ \\\n",
      "    'city VARCHAR(80), '+ \\\n",
      "    'priceToIncomeRatio float(80), '+ \\\n",
      "    'grossRentalYieldCityCentre float(80), '+ \\\n",
      "    'grossRentalYieldOutsideOfCentre float(80), '+ \\\n",
      "    'priceToRentRatioCityCentre float(80), '+ \\\n",
      "    'priceToRentRatioOutsideOfCityCentre float(80), '+ \\\n",
      "    'mortgageAsAPercentageOfIncome float(80), '+ \\\n",
      "    'affordabilityIndex float(80) '+ \\\n",
      "    ')')"
     ],
     "language": "python",
     "metadata": {},
     "outputs": []
    }
   ],
   "metadata": {}
  }
 ]
}