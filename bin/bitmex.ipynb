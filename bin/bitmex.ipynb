{
 "cells": [
  {
   "cell_type": "code",
   "execution_count": null,
   "metadata": {
    "collapsed": true
   },
   "outputs": [],
   "source": [
    "https://forums.burst-team.us/topic/33/burst-address-generator-v0-2-3-all-platforms\n",
    "https://github.com/de-luxe/burstcoin-address-generator/releases\n",
    "get 1 burst coin to create the address in the blockchain\n",
    "https://faucet.burst-team.us\n",
    "get the id of BURST-TALE-WK6Y-NMTE-4DB9Z from:\n",
    "http://burstcoin.biz/address/3430946750618968652 paste the address in the search bar\n",
    "\n",
    "ew miner:\n",
    "git clone https://github.com/Mirkic7/mdcct\n",
    "https://forums.burst-team.us/topic/1142/linux-really-need-help/3\n",
    "./plotavx2 -k 3430946750618968652 -x 0 -d /tmp/burst/ -s 1 -n 7812000 -m 500 -t 1 -a\n",
    "\n",
    "wallet:\n",
    "https://github.com/burst-team/burstcoin/releases"
   ]
  },
  {
   "cell_type": "code",
   "execution_count": null,
   "metadata": {
    "collapsed": false,
    "scrolled": true
   },
   "outputs": [],
   "source": [
    "%reload_ext autoreload\n",
    "%autoreload 2\n",
    "from bitmex import *\n",
    "\n",
    "#$x('//table[@id=\"marketBTC\"]//td[2]/text()')\n",
    "btc = [\"XRP\", \"STR\", \"ETH\", \"LTC\", \"ETC\", \"XMR\", \"DGB\", \"DASH\", \"FCT\", \"DOGE\", \"BTS\", \"XEM\", \"GNO\", \"SC\", \"GNT\", \"ZEC\", \"STEEM\", \"MAID\", \"PASC\", \"SYS\", \"LSK\", \"CLAM\", \"STRAT\", \"DCR\", \"XCP\", \"REP\", \"NXT\", \"POT\", \"FLDC\", \"VTC\", \"NAV\", \"PINK\", \"ARDR\", \"GAME\", \"BCN\", \"BURST\", \"VRC\", \"BELA\", \"AMP\", \"SJCX\", \"LBC\", \"XBC\", \"PPC\", \"XVC\", \"GRC\", \"NAUT\", \"BTM\", \"OMNI\", \"BCY\", \"EXP\", \"EMC2\", \"SBD\", \"NOTE\", \"HUC\", \"VIA\", \"BLK\", \"NMC\", \"XPM\", \"RIC\", \"NXC\", \"RADS\", \"NEOS\", \"FLO\", \"BTCD\"]\n",
    "#$x('//table[@id=\"marketETH\"]//td[2]/text()')\n",
    "eth = [\"GNO\", \"ETC\", \"GNT\", \"ZEC\", \"REP\", \"STEEM\", \"LSK\"]\n",
    "#$x('//table[@id=\"marketXMR\"]//td[2]/text()')\n",
    "xmr = [\"LTC\", \"ZEC\", \"DASH\", \"NXT\", \"MAID\", \"BCN\", \"BTCD\", \"BLK\"]\n",
    "#$x('//table[@id=\"marketUSDT\"]//td[2]/text()')\n",
    "usdt = [\"BTC\", \"XRP\", \"STR\", \"LTC\", \"ETH\", \"ETC\", \"XMR\", \"DASH\", \"ZEC\", \"NXT\", \"REP\"]\n",
    "\n",
    "#df = getPoloniexHistorical('BTC_XMR')"
   ]
  },
  {
   "cell_type": "code",
   "execution_count": null,
   "metadata": {
    "collapsed": false
   },
   "outputs": [],
   "source": [
    "lss = []\n",
    "for i in range(len(btc)):\n",
    "    lss.append('BTC_%s' % btc[i])\n",
    "#lss = ['BTC_ETC', 'BTC_ETH']\n",
    "print lss"
   ]
  },
  {
   "cell_type": "code",
   "execution_count": null,
   "metadata": {
    "collapsed": false
   },
   "outputs": [],
   "source": [
    "lss = []\n",
    "btc = 'ETH BURST XMR SC'.split(' ')\n",
    "for i in range(len(btc)):\n",
    "    lss.append('BTC_%s' % btc[i])\n",
    "print lss"
   ]
  },
  {
   "cell_type": "code",
   "execution_count": null,
   "metadata": {
    "collapsed": false
   },
   "outputs": [],
   "source": [
    "import numpy as n\n",
    "bars=1000\n",
    "lsa = 'BTC_ETH BTC_BURST BTC_SC'.split()\n",
    "rdf = n.zeros([len(lsa),bars,7])\n",
    "print rdf.shape\n",
    "\n",
    "fields = 'open high low close quotedVolume volume weightedVolume'.split()\n",
    "for i in range(len(lsa)):\n",
    "    df1 = getPoloniexHistorical(symbol=lsa[i], period=14400, bars=bars)\n",
    "    print df1.shape\n",
    "    \n",
    "    rdf[i,:,:] = df1.set_index('date').ix[:,fields].get_values()\n",
    "#df1.dtypes\n",
    "#rdf\n",
    "rf = []\n",
    "cc = currencyCube(len(lsa),bars,7, index=df1['date'], columns=fields, rdf=rdf)\n",
    "cc"
   ]
  },
  {
   "cell_type": "code",
   "execution_count": null,
   "metadata": {
    "collapsed": false
   },
   "outputs": [],
   "source": [
    "#rdf = currencyCube(550,5,9, index=n.random.randn(550), columns='a b c d e f g h i'.split(' '))\n",
    "#p.DataFrame(rdf['data'][0], index=rdf['index'], columns=rdf['columns'])\n",
    "cc = currencyCube(r=len(lsa),tf=bars,c=7, index=df1['date'], columns=fields, rdf=rdf)\n",
    "cc"
   ]
  },
  {
   "cell_type": "code",
   "execution_count": null,
   "metadata": {
    "collapsed": false
   },
   "outputs": [],
   "source": [
    "cc"
   ]
  },
  {
   "cell_type": "code",
   "execution_count": null,
   "metadata": {
    "collapsed": false
   },
   "outputs": [],
   "source": [
    "from qoreliquid import normalizeme\n",
    "from qoreliquid import sigmoidme\n",
    "import matplotlib.pylab as plt\n",
    "mdf = p.DataFrame()\n",
    "for i in lss: #[0:5]:\n",
    "    print i\n",
    "    df = getPoloniexHistorical(symbol=i, period=14400, bars=300)\n",
    "    sdf = df.set_index('date').ix[:, 'close'.split(' ')]\n",
    "    sdf[i] = sdf['close']\n",
    "    sdf = sdf[[i]]\n",
    "    sdf = sdf.ffill().bfill()\n",
    "    mdf = mdf.combine_first(sdf)\n",
    "mdf = normalizeme(mdf)\n",
    "#mdf.ffill().bfill()\n",
    "print mdf\n",
    "#sdf.plot()\n",
    "plt.plot(mdf)\n",
    "plt.legend(lss)\n",
    "plt.show()"
   ]
  },
  {
   "cell_type": "code",
   "execution_count": null,
   "metadata": {
    "collapsed": false
   },
   "outputs": [],
   "source": [
    "from matplotlib import pyplot as plt\n",
    "from pylab import rcParams\n",
    "import seaborn as sns\n",
    "sns.set()\n",
    "%pylab inline\n",
    "rcParams['figure.figsize'] = 30, 5\n",
    "\n",
    "df = getPoloniexHistorical(symbol='BTC_ETC', period=86400, bars=300)\n",
    "df.ix[:, 'open high low close'.split(' ')].plot()\n",
    "#df = getPoloniexHistorical(symbol='BTC_ETC', period=240)\n",
    "#df.ix[:, 'open high low close'.split(' ')].plot()\n",
    "plt.show()"
   ]
  },
  {
   "cell_type": "code",
   "execution_count": null,
   "metadata": {
    "collapsed": false
   },
   "outputs": [],
   "source": [
    "periods = [300, 900, 1800, 7200, 14400, 86400]"
   ]
  },
  {
   "cell_type": "code",
   "execution_count": null,
   "metadata": {
    "collapsed": false,
    "scrolled": false
   },
   "outputs": [],
   "source": [
    "btc = 'DASH ETH FCT GNO LTC XMR REP XRP ZEC'.split(' ')\n",
    "periods = '1 5 15 30 60 240 14400'.split(' ')\n",
    "periods = [300, 900, 1800, 7200, 14400, 86400]\n",
    "#periods = [1, 5, 15, 30, 60, 3600, 14400, 86400]\n",
    "print periods\n",
    "from matplotlib import pyplot as plt\n",
    "from pylab import rcParams\n",
    "import seaborn as sns\n",
    "sns.set()\n",
    "%pylab inline\n",
    "rcParams['figure.figsize'] = 30, 5\n",
    "for i in btc:\n",
    "    print i\n",
    "    df = getPoloniexHistorical(symbol='BTC_%s' % i, period=1)\n",
    "    df.ix[:, 'open high low close'.split(' ')].plot()\n",
    "    plt.show()\n",
    "    print '====='"
   ]
  },
  {
   "cell_type": "code",
   "execution_count": null,
   "metadata": {
    "collapsed": false
   },
   "outputs": [],
   "source": [
    "# https://www.google.com.ar/search?q=coinmarketcap+ohlc&oq=coinmarketcap+ohlc&aqs=chrome..69i57.3815j0j7&client=ubuntu&sourceid=chrome&ie=UTF-8\n",
    "#https://poloniex.com/public?command=returnChartData&currencyPair=BTC_XMR&start=1405699200&end=9999999999&period=14400\n",
    "# https://poloniex.com/public?command=returnChartData&currencyPair=BTC_XMR&start=1405699200&end=9999999999&period=14400\n",
    "    \n",
    "# poloniex\n",
    "import drest\n",
    "api = drest.API('https://poloniex.com/')\n",
    "response = api.make_request('GET', '/public?command=returnChartData&currencyPair=BTC_XMR&start=1405699200&end=9999999999&period=14400')\n",
    "print response.data\n",
    "\n",
    "#df = p.DataFrame(response.data)#.transpose()\n",
    "#pf(df)\n",
    "#df"
   ]
  },
  {
   "cell_type": "code",
   "execution_count": null,
   "metadata": {
    "collapsed": false
   },
   "outputs": [],
   "source": [
    "# bitmex\n",
    "import drest\n",
    "#api = drest.API('http://socket.coincap.io/')\n",
    "api = drest.API('https://www.bitmex.com/api/v1')\n",
    "#response = api.make_request('GET', '/trade?count=100&reverse=false')\n",
    "#response = api.make_request('GET', '/instrument')\n",
    "response = api.make_request('GET', '/instrument/indices')\n",
    "#print response.data\n",
    "\n",
    "df = p.DataFrame(response.data)#.transpose()\n",
    "#pf(df)\n",
    "df"
   ]
  },
  {
   "cell_type": "code",
   "execution_count": null,
   "metadata": {
    "collapsed": false
   },
   "outputs": [],
   "source": [
    "exchangePriority = {\n",
    "'Bittrex':3,\n",
    "'Cryptopia':1,\n",
    "'Novaexchange':2,\n",
    "'Poloniex':5,\n",
    "'YoBit':4\n",
    "}"
   ]
  },
  {
   "cell_type": "code",
   "execution_count": null,
   "metadata": {
    "collapsed": false,
    "scrolled": false
   },
   "outputs": [],
   "source": [
    "import pandas as p\n",
    "\n",
    "# coinmarketcap\n",
    "import drest\n",
    "api = drest.API('http://api.coinmarketcap.com/')\n",
    "response = api.make_request('GET', '/v1/ticker/')\n",
    "res = response.data\n",
    "\n",
    "c = '24h_volume_usd available_supply id last_updated market_cap_usd name percent_change_1h percent_change_24h percent_change_7d price_btc price_usd rank symbol total_supply'.split(' ')    \n",
    "\n",
    "df = p.DataFrame(res)\n",
    "df = df.set_index('symbol')\n",
    "\n",
    "# convert to numeric\n",
    "for i in c:\n",
    "    try:    df[i] = p.to_numeric(df[i])\n",
    "    except: ''\n",
    "\n",
    "# filter\n",
    "# https://www.youtube.com/watch?v=JF3eXDbzmg0\n",
    "df = df[df['price_usd'] <= 0.1]\n",
    "df = df[df['24h_volume_usd'] >= 100000]\n",
    "df = df.drop('FEDS')\n",
    "\n",
    "#print c\n",
    "#print df.dtypes\n",
    "c = '24h_volume_usd available_supply id market_cap_usd name percent_change_24h percent_change_7d price_btc price_usd rank symbol total_supply'.split(' ')\n",
    "df = df.ix[:, c]\n",
    "df = df.sort_values(by='24h_volume_usd', ascending=False)\n",
    "df = df.sort_values(by='percent_change_24h', ascending=False)\n",
    "\n",
    "# portfolio\n",
    "bal = 165.11\n",
    "#bal = 1000\n",
    "df['portPcnt'] = df['price_usd'] / df['price_usd'].sum() * 1\n",
    "#df['portPcntPinv'] = 1 - df['portPcnt']\n",
    "df['portPcntPinv'] = 1 / df['portPcnt']\n",
    "df['portPcntPinv2'] = df['portPcntPinv'] / df['portPcntPinv'].sum() * 100\n",
    "df['portAmount'] = df['portPcntPinv2'] * bal / 100\n",
    "df['portAmount_usd'] = df['portPcntPinv2'] * bal / 100\n",
    "df['portAmount_units'] = df['portAmount_usd'] / df['price_usd']\n",
    "\n",
    "c = '24h_volume_usd id market_cap_usd name percent_change_24h percent_change_7d price_btc price_usd portPcnt portPcntPinv portPcntPinv2 portAmount_usd portAmount_units'.split(' ')    \n",
    "c = '24h_volume_usd name percent_change_24h percent_change_7d price_usd portPcnt portPcntPinv portPcntPinv2 portAmount_usd portAmount_units'.split(' ')    \n",
    "c = '24h_volume_usd name percent_change_24h percent_change_7d price_usd portPcnt portPcntPinv portPcntPinv2 portAmount_usd portAmount_units'.split(' ')\n",
    "df = df.sort_values(by='portPcntPinv2', ascending=False)\n",
    "\n",
    "# tradableCoins2\n",
    "#print list(tradableCoins.index)\n",
    "tradableCoins2 = df.set_index('name').ix[list(tradableCoins.index), c]\n",
    "tradableCoins2 = tradableCoins2.combine_first(tradableCoins)\n",
    "tradableCoins2 = tradableCoins2[tradableCoins2['portAmount_units'] > 0].sort_values(by='portAmount_units', ascending=False)\n",
    "\n",
    "with p.option_context('display.max_rows', 4000, 'display.max_columns', 4000, 'display.width', 1000000):\n",
    "    print '            bal: %s' % bal\n",
    "    print '   price_usdSUM: %s' % df['price_usd'].sum()\n",
    "    print '    portPcntSUM: %s' % df['portPcnt'].sum()\n",
    "    print 'portPcntPinvSUM: %s' % df['portPcntPinv'].sum()\n",
    "    print 'portAmount_usdSUM: %s' % tradableCoins2['portAmount_usd'].sum()\n",
    "    print 'portAmount_usd_YoBit_SUM: %s' % tradableCoins2[tradableCoins2['YoBit'] == 1]['portAmount_usd'].sum()\n",
    "\n",
    "    #tradableCoins2['Poloniex'] = tradableCoins2['Poloniex'] - tradableCoins2['YoBit']\n",
    "    #print tradableCoins2[tradableCoins2['YoBit'] == 1]\n",
    "    print tradableCoins2\n",
    "    #print tradableCoins\n",
    "\n",
    "    #print df\n",
    "    print df.ix[:, c]\n",
    "\n",
    "#df = p.DataFrame(response.data)#.transpose()\n",
    "#pf(df)\n",
    "#df    print list(tradableCoins.index)\n"
   ]
  },
  {
   "cell_type": "code",
   "execution_count": null,
   "metadata": {
    "collapsed": false,
    "scrolled": false
   },
   "outputs": [],
   "source": [
    "from qore import XPath\n",
    "import pandas as p\n",
    "xp = XPath()\n",
    "def getExchanges(coin):\n",
    "    xresd = xp.xpath2df('http://coinmarketcap.com/currencies/%s/' % coin, {\n",
    "        'source'       : '//tbody/tr/td[2]/a/text()',\n",
    "        'pair'         : '//tbody/tr/td[3]/a/text()',\n",
    "        'volume_24h'   : '//tbody/tr/td[4]/span/text()',\n",
    "        'price'        : '//tbody/tr/td[5]/span/text()',\n",
    "        'volume_pcnt'  : '//tbody/tr/td[6]/text()',\n",
    "        'updated'      : '//tbody/tr/td[7]/text()',\n",
    "    })\n",
    "    df = p.DataFrame(xresd)\n",
    "    df = p.DataFrame(df['source'].drop_duplicates())\n",
    "    df[coin] = 1\n",
    "    df = df.set_index('source')\n",
    "    #print df.transpose()\n",
    "    df = df.transpose()\n",
    "    return df\n",
    "\n",
    "#dfxs = p.DataFrame()\n",
    "#for i in df['id']:\n",
    "#    print i\n",
    "#    dfxs = dfxs.combine_first(getExchanges(i))\n",
    "#print dfxs.fillna(0)\n",
    "with p.option_context('display.max_rows', 4000, 'display.max_columns', 4000, 'display.width', 1000000):\n",
    "    #print df    \n",
    "    # list most frequent exchanges\n",
    "    mostFrequentExchanges = p.DataFrame(dfxs.fillna(0).sum()).sort_values(by=0, ascending=False)\n",
    "    print mostFrequentExchanges\n",
    "    pdfxs = dfxs.ix[:, list(mostFrequentExchanges.index[0:5])].fillna(0)\n",
    "    pdfxs = dfxs[dfxs.fillna(0).transpose().sum() > 0].fillna(0)\n",
    "    tradableCoins = pdfxs.ix[:, list(mostFrequentExchanges.index[0:5])][pdfxs > 0].fillna(0)\n",
    "    print tradableCoins\n",
    "    # list coins that trade on most exchanges\n",
    "    print p.DataFrame(dfxs.fillna(0).transpose().sum()).sort_values(by=0, ascending=False)\n",
    "#df.index\n",
    "#df = df.combine_first(getExchanges('1337'))"
   ]
  },
  {
   "cell_type": "code",
   "execution_count": null,
   "metadata": {
    "collapsed": false
   },
   "outputs": [],
   "source": [
    "df = df.sort_values(by='portPcntPinv2', ascending=False)\n",
    "#for i in df.index[0:10]: df = df.combine_first(getExchanges(i))\n",
    "c = '24h_volume_usd name percent_change_24h percent_change_7d price_usd portPcnt portPcntPinv portPcntPinv2 portAmount_usd portAmount_units Poloniex YoBit'.split(' ')\n",
    "c = 'name price_usd portPcntPinv2 portAmount_usd portAmount_units Poloniex YoBit'.split(' ')\n",
    "with p.option_context('display.max_rows', 4000, 'display.max_columns', 4000, 'display.width', 1000000):\n",
    "    print df.fillna('').ix[:, c]\n",
    "#print xresd\n",
    "#print p.DataFrame(xresd)"
   ]
  }
 ],
 "metadata": {
  "kernelspec": {
   "display_name": "Python 2",
   "language": "python",
   "name": "python2"
  },
  "language_info": {
   "codemirror_mode": {
    "name": "ipython",
    "version": 2
   },
   "file_extension": ".py",
   "mimetype": "text/x-python",
   "name": "python",
   "nbconvert_exporter": "python",
   "pygments_lexer": "ipython2",
   "version": "2.7.6"
  }
 },
 "nbformat": 4,
 "nbformat_minor": 0
}
