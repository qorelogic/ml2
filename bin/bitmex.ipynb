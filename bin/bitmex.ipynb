{
 "cells": [
  {
   "cell_type": "code",
   "execution_count": null,
   "metadata": {
    "collapsed": false
   },
   "outputs": [],
   "source": [
    "https://forums.burst-team.us/topic/33/burst-address-generator-v0-2-3-all-platforms\n",
    "https://github.com/de-luxe/burstcoin-address-generator/releases\n",
    "get 1 burst coin to create the address in the blockchain\n",
    "https://faucet.burst-team.us\n",
    "get the id of BURST-TALE-WK6Y-NMTE-4DB9Z from:\n",
    "http://burstcoin.biz/address/3430946750618968652 paste the address in the search bar\n",
    "\n",
    "ew miner:\n",
    "git clone https://github.com/Mirkic7/mdcct\n",
    "https://forums.burst-team.us/topic/1142/linux-really-need-help/3\n",
    "./plotavx2 -k 3430946750618968652 -x 0 -d /tmp/burst/ -s 1 -n 7812000 -m 500 -t 1 -a\n",
    "\n",
    "wallet:\n",
    "https://github.com/burst-team/burstcoin/releases"
   ]
  },
  {
   "cell_type": "code",
   "execution_count": null,
   "metadata": {
    "collapsed": false,
    "scrolled": true
   },
   "outputs": [],
   "source": [
    "%reload_ext autoreload\n",
    "%autoreload 2\n",
    "from bitmex import *\n",
    "pl = Poloniex()\n",
    "getCurrencies()"
   ]
  },
  {
   "cell_type": "code",
   "execution_count": null,
   "metadata": {
    "collapsed": false,
    "scrolled": true
   },
   "outputs": [],
   "source": [
    "# 3-dimensional price cube\n",
    "import numpy as n\n",
    "pl = Poloniex()\n",
    "bars=1000\n",
    "lsa = 'BTC_ETH BTC_BURST BTC_SC'.split()\n",
    "rdf = n.zeros([len(lsa),bars,7])\n",
    "print rdf.shape\n",
    "\n",
    "fields = 'open high low close quotedVolume volume weightedVolume'.split()\n",
    "for i in range(len(lsa)):\n",
    "    df1 = pl.getPoloniexHistorical(symbol=lsa[i], period=14400, bars=bars)\n",
    "    print df1.shape\n",
    "    \n",
    "    rdf[i,:,:] = df1.set_index('date').ix[:,fields].get_values()\n",
    "#df1.dtypes\n",
    "#rdf\n",
    "rf = []\n",
    "cc = currencyCube(len(lsa),bars,7, index=df1['date'], columns=fields, rdf=rdf)\n",
    "#cc"
   ]
  },
  {
   "cell_type": "code",
   "execution_count": null,
   "metadata": {
    "collapsed": false,
    "scrolled": true
   },
   "outputs": [],
   "source": [
    "# 3-dimensional price cube\n",
    "#rdf = currencyCube(550,5,9, index=n.random.randn(550), columns='a b c d e f g h i'.split(' '))\n",
    "#p.DataFrame(rdf['data'][0], index=rdf['index'], columns=rdf['columns'])\n",
    "cc = currencyCube(r=len(lsa),tf=bars,c=7, index=df1['date'], columns=fields, rdf=rdf)\n",
    "cc"
   ]
  },
  {
   "cell_type": "code",
   "execution_count": null,
   "metadata": {
    "collapsed": false
   },
   "outputs": [],
   "source": [
    "# currency chart overlay\n",
    "currencyChartOverlay()"
   ]
  },
  {
   "cell_type": "code",
   "execution_count": null,
   "metadata": {
    "collapsed": false
   },
   "outputs": [],
   "source": [
    "viewHistoricalPricePoloniex()"
   ]
  },
  {
   "cell_type": "code",
   "execution_count": null,
   "metadata": {
    "collapsed": false,
    "scrolled": false
   },
   "outputs": [],
   "source": [
    "viewChartsPoloniex()"
   ]
  },
  {
   "cell_type": "code",
   "execution_count": null,
   "metadata": {
    "collapsed": false
   },
   "outputs": [],
   "source": [
    "# cypto api \n",
    "# https://www.google.com.ar/search?q=coinmarketcap+ohlc&oq=coinmarketcap+ohlc&aqs=chrome..69i57.3815j0j7&client=ubuntu&sourceid=chrome&ie=UTF-8\n",
    "#https://poloniex.com/public?command=returnChartData&currencyPair=BTC_XMR&start=1405699200&end=9999999999&period=14400\n",
    "# https://poloniex.com/public?command=returnChartData&currencyPair=BTC_XMR&start=1405699200&end=9999999999&period=14400\n",
    "    \n",
    "# poloniex\n",
    "import drest\n",
    "api = drest.API('https://poloniex.com/')\n",
    "response = api.make_request('GET', '/public?command=returnChartData&currencyPair=BTC_XMR&start=1405699200&end=9999999999&period=14400')\n",
    "print response.data\n",
    "\n",
    "#df = p.DataFrame(response.data)#.transpose()\n",
    "#pf(df)\n",
    "#df"
   ]
  },
  {
   "cell_type": "code",
   "execution_count": null,
   "metadata": {
    "collapsed": false,
    "scrolled": true
   },
   "outputs": [],
   "source": [
    "# cypto api \n",
    "df = instrumentIndecesBitmex()"
   ]
  },
  {
   "cell_type": "code",
   "execution_count": null,
   "metadata": {
    "collapsed": false,
    "scrolled": true
   },
   "outputs": [],
   "source": [
    "%reload_ext autoreload\n",
    "%autoreload 2\n",
    "from bitmex import *\n",
    "# coinmarketcap\n",
    "cmc = CoinMarketCap()\n",
    "dfc = cmc.tickers()\n",
    "#with p.option_context('display.max_rows', 4000, 'display.max_columns', 4000, 'display.width', 1000000):\n",
    "#    print dfc\n",
    "#dfc"
   ]
  },
  {
   "cell_type": "code",
   "execution_count": null,
   "metadata": {
    "collapsed": false,
    "scrolled": true
   },
   "outputs": [],
   "source": [
    "%reload_ext autoreload\n",
    "%autoreload 2\n",
    "from bitmex import *\n",
    "# TokenMarket\n",
    "tm = TokenMarket()\n",
    "df = tm.allAssetsBlockchainTokenMarket()\n",
    "#with p.option_context('display.max_rows', 4000, 'display.max_columns', 4000, 'display.width', 1000000):\n",
    "#    print tm.allAssetsICOsBlockchain"
   ]
  },
  {
   "cell_type": "code",
   "execution_count": null,
   "metadata": {
    "collapsed": false,
    "scrolled": true
   },
   "outputs": [],
   "source": [
    "# TokenMarket\n",
    "tm.tokenICOsTokenMarket()"
   ]
  },
  {
   "cell_type": "code",
   "execution_count": null,
   "metadata": {
    "collapsed": false,
    "scrolled": true
   },
   "outputs": [],
   "source": [
    "%reload_ext autoreload\n",
    "%autoreload 2\n",
    "from bitmex import *\n",
    "tm.underTheRadarTokens()"
   ]
  },
  {
   "cell_type": "code",
   "execution_count": null,
   "metadata": {
    "collapsed": false,
    "scrolled": true
   },
   "outputs": [],
   "source": [
    "# TokenMarket\n",
    "tm.tokenmarket()"
   ]
  },
  {
   "cell_type": "code",
   "execution_count": null,
   "metadata": {
    "collapsed": false,
    "scrolled": true
   },
   "outputs": [],
   "source": [
    "%reload_ext autoreload\n",
    "%autoreload 2\n",
    "from bitmex import *\n",
    "cmc = CoinMarketCap()\n",
    "#cmc.parseCoinMarketCap()"
   ]
  },
  {
   "cell_type": "code",
   "execution_count": null,
   "metadata": {
    "collapsed": false,
    "scrolled": false
   },
   "outputs": [],
   "source": [
    "cmc.getTradableCoins()"
   ]
  },
  {
   "cell_type": "code",
   "execution_count": null,
   "metadata": {
    "collapsed": false,
    "scrolled": false
   },
   "outputs": [],
   "source": [
    "portfolio = cmc.generatePortfolio()\n",
    "with p.option_context('display.max_rows', 4000, 'display.max_columns', 4000, 'display.width', 1000000):\n",
    "    print portfolio.fillna('')#.ix[:, c]"
   ]
  },
  {
   "cell_type": "code",
   "execution_count": null,
   "metadata": {
    "collapsed": true
   },
   "outputs": [],
   "source": [
    "# liqui\n",
    "secret = '<key>'\n",
    "key = '<secret>'"
   ]
  },
  {
   "cell_type": "code",
   "execution_count": null,
   "metadata": {
    "collapsed": false
   },
   "outputs": [],
   "source": [
    "def viewLocalbitcoinsCSV(fname):\n",
    "    dff = p.read_csv(fname)\n",
    "    with p.option_context('display.max_rows', 4000, 'display.max_columns', 4000, 'display.width', 1000000):\n",
    "        print dff.dtypes\n",
    "        print dff.fillna('')\n",
    "viewLocalbitcoinsCSV('/home/qore/qorelogic/assets/sec-svn.git/assets/localbitcoins/Transactions for kiiza.all.csv')"
   ]
  },
  {
   "cell_type": "code",
   "execution_count": null,
   "metadata": {
    "collapsed": false
   },
   "outputs": [],
   "source": [
    "viewLocalbitcoinsCSV('/home/qore/qorelogic/assets/sec-svn.git/assets/localbitcoins/Transactions for ecambio.all.csv')"
   ]
  },
  {
   "cell_type": "code",
   "execution_count": null,
   "metadata": {
    "collapsed": false
   },
   "outputs": [],
   "source": [
    "viewLocalbitcoinsCSV('/home/qore/qorelogic/assets/sec-svn.git/assets/localbitcoins/Transactions for bongocoin.all.csv')"
   ]
  },
  {
   "cell_type": "code",
   "execution_count": null,
   "metadata": {
    "collapsed": false
   },
   "outputs": [],
   "source": [
    "fname = '/home/qore/qorelogic/assets/sec-svn.git/assets/genesis-mining/genesis-mining.payout.jmaloan.log'\n",
    "#fp = open(fname, 'r')\n",
    "#res = fp.read()\n",
    "#fp.close()\n",
    "dfl = p.read_csv(fname, sep='\\t')\n",
    "#dfl['Mining day \tCurrency']\n",
    "dfl"
   ]
  },
  {
   "cell_type": "code",
   "execution_count": null,
   "metadata": {
    "collapsed": false
   },
   "outputs": [],
   "source": [
    "%reload_ext autoreload\n",
    "%autoreload 2\n",
    "from bitmex import *\n",
    "# liqui\n",
    "#print liq.signHMAC512(params)\n",
    "liq = Liqui(key, secret)\n",
    "#liq.debugon()\n",
    "liq.getInfo()\n",
    "#liq.tradeHistory()\n",
    "#liq.trade()                                                                                                                                                                                                          "
   ]
  },
  {
   "cell_type": "code",
   "execution_count": null,
   "metadata": {
    "collapsed": false
   },
   "outputs": [],
   "source": [
    "%reload_ext autoreload\n",
    "%autoreload 2\n",
    "from bitmex import *\n",
    "# bittrex\n",
    "#print liq.signHMAC512(params)\n",
    "o = Bittrex('<key>', '<secret>')\n",
    "#o.debugon()\n",
    "with p.option_context('display.max_rows', 4000, 'display.max_columns', 4000, 'display.width', 1000000):\n",
    "    #o.getInfo()\n",
    "    #o.getDepositAddress('ETH')\n",
    "    print o.getCurrencies()\n",
    "    #print o.getMarketSummaries()\n",
    "    #print o.getMarkets()\n",
    "    #o.tradeHistory()\n",
    "    #o.trade()"
   ]
  }
 ],
 "metadata": {
  "kernelspec": {
   "display_name": "Python 2",
   "language": "python",
   "name": "python2"
  },
  "language_info": {
   "codemirror_mode": {
    "name": "ipython",
    "version": 2
   },
   "file_extension": ".py",
   "mimetype": "text/x-python",
   "name": "python",
   "nbconvert_exporter": "python",
   "pygments_lexer": "ipython2",
   "version": "2.7.6"
  }
 },
 "nbformat": 4,
 "nbformat_minor": 0
}
