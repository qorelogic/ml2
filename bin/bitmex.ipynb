{
 "cells": [
  {
   "cell_type": "code",
   "execution_count": null,
   "metadata": {
    "collapsed": false
   },
   "outputs": [],
   "source": [
    "https://forums.burst-team.us/topic/33/burst-address-generator-v0-2-3-all-platforms\n",
    "https://github.com/de-luxe/burstcoin-address-generator/releases\n",
    "get 1 burst coin to create the address in the blockchain\n",
    "https://faucet.burst-team.us\n",
    "get the id of BURST-TALE-WK6Y-NMTE-4DB9Z from:\n",
    "http://burstcoin.biz/address/3430946750618968652 paste the address in the search bar\n",
    "\n",
    "ew miner:\n",
    "git clone https://github.com/Mirkic7/mdcct\n",
    "https://forums.burst-team.us/topic/1142/linux-really-need-help/3\n",
    "./plotavx2 -k 3430946750618968652 -x 0 -d /tmp/burst/ -s 1 -n 7812000 -m 500 -t 1 -a\n",
    "\n",
    "wallet:\n",
    "https://github.com/burst-team/burstcoin/releases"
   ]
  },
  {
   "cell_type": "code",
   "execution_count": null,
   "metadata": {
    "collapsed": false,
    "scrolled": true
   },
   "outputs": [],
   "source": [
    "%reload_ext autoreload\n",
    "%autoreload 2\n",
    "from bitmex import *\n",
    "\n",
    "#$x('//table[@id=\"marketBTC\"]//td[2]/text()')\n",
    "btc = [\"XRP\", \"STR\", \"ETH\", \"LTC\", \"ETC\", \"XMR\", \"DGB\", \"DASH\", \"FCT\", \"DOGE\", \"BTS\", \"XEM\", \"GNO\", \"SC\", \"GNT\", \"ZEC\", \"STEEM\", \"MAID\", \"PASC\", \"SYS\", \"LSK\", \"CLAM\", \"STRAT\", \"DCR\", \"XCP\", \"REP\", \"NXT\", \"POT\", \"FLDC\", \"VTC\", \"NAV\", \"PINK\", \"ARDR\", \"GAME\", \"BCN\", \"BURST\", \"VRC\", \"BELA\", \"AMP\", \"SJCX\", \"LBC\", \"XBC\", \"PPC\", \"XVC\", \"GRC\", \"NAUT\", \"BTM\", \"OMNI\", \"BCY\", \"EXP\", \"EMC2\", \"SBD\", \"NOTE\", \"HUC\", \"VIA\", \"BLK\", \"NMC\", \"XPM\", \"RIC\", \"NXC\", \"RADS\", \"NEOS\", \"FLO\", \"BTCD\"]\n",
    "#$x('//table[@id=\"marketETH\"]//td[2]/text()')\n",
    "eth = [\"GNO\", \"ETC\", \"GNT\", \"ZEC\", \"REP\", \"STEEM\", \"LSK\"]\n",
    "#$x('//table[@id=\"marketXMR\"]//td[2]/text()')\n",
    "xmr = [\"LTC\", \"ZEC\", \"DASH\", \"NXT\", \"MAID\", \"BCN\", \"BTCD\", \"BLK\"]\n",
    "#$x('//table[@id=\"marketUSDT\"]//td[2]/text()')\n",
    "usdt = [\"BTC\", \"XRP\", \"STR\", \"LTC\", \"ETH\", \"ETC\", \"XMR\", \"DASH\", \"ZEC\", \"NXT\", \"REP\"]\n",
    "\n",
    "#df = getPoloniexHistorical('BTC_XMR')"
   ]
  },
  {
   "cell_type": "code",
   "execution_count": null,
   "metadata": {
    "collapsed": false
   },
   "outputs": [],
   "source": [
    "lss = []\n",
    "for i in range(len(btc)):\n",
    "    lss.append('BTC_%s' % btc[i])\n",
    "#lss = ['BTC_ETC', 'BTC_ETH']\n",
    "print lss"
   ]
  },
  {
   "cell_type": "code",
   "execution_count": null,
   "metadata": {
    "collapsed": false
   },
   "outputs": [],
   "source": [
    "lss = []\n",
    "btc = 'ETH BURST XMR SC'.split(' ')\n",
    "for i in range(len(btc)):\n",
    "    lss.append('BTC_%s' % btc[i])\n",
    "print lss"
   ]
  },
  {
   "cell_type": "code",
   "execution_count": null,
   "metadata": {
    "collapsed": false
   },
   "outputs": [],
   "source": [
    "import numpy as n\n",
    "bars=1000\n",
    "lsa = 'BTC_ETH BTC_BURST BTC_SC'.split()\n",
    "rdf = n.zeros([len(lsa),bars,7])\n",
    "print rdf.shape\n",
    "\n",
    "fields = 'open high low close quotedVolume volume weightedVolume'.split()\n",
    "for i in range(len(lsa)):\n",
    "    df1 = getPoloniexHistorical(symbol=lsa[i], period=14400, bars=bars)\n",
    "    print df1.shape\n",
    "    \n",
    "    rdf[i,:,:] = df1.set_index('date').ix[:,fields].get_values()\n",
    "#df1.dtypes\n",
    "#rdf\n",
    "rf = []\n",
    "cc = currencyCube(len(lsa),bars,7, index=df1['date'], columns=fields, rdf=rdf)\n",
    "cc"
   ]
  },
  {
   "cell_type": "code",
   "execution_count": null,
   "metadata": {
    "collapsed": false
   },
   "outputs": [],
   "source": [
    "#rdf = currencyCube(550,5,9, index=n.random.randn(550), columns='a b c d e f g h i'.split(' '))\n",
    "#p.DataFrame(rdf['data'][0], index=rdf['index'], columns=rdf['columns'])\n",
    "cc = currencyCube(r=len(lsa),tf=bars,c=7, index=df1['date'], columns=fields, rdf=rdf)\n",
    "cc"
   ]
  },
  {
   "cell_type": "code",
   "execution_count": null,
   "metadata": {
    "collapsed": false
   },
   "outputs": [],
   "source": [
    "cc"
   ]
  },
  {
   "cell_type": "code",
   "execution_count": null,
   "metadata": {
    "collapsed": false
   },
   "outputs": [],
   "source": [
    "from qoreliquid import normalizeme\n",
    "from qoreliquid import sigmoidme\n",
    "import matplotlib.pylab as plt\n",
    "mdf = p.DataFrame()\n",
    "for i in lss: #[0:5]:\n",
    "    print i\n",
    "    df = getPoloniexHistorical(symbol=i, period=14400, bars=300)\n",
    "    sdf = df.set_index('date').ix[:, 'close'.split(' ')]\n",
    "    sdf[i] = sdf['close']\n",
    "    sdf = sdf[[i]]\n",
    "    sdf = sdf.ffill().bfill()\n",
    "    mdf = mdf.combine_first(sdf)\n",
    "mdf = normalizeme(mdf)\n",
    "#mdf.ffill().bfill()\n",
    "print mdf\n",
    "#sdf.plot()\n",
    "plt.plot(mdf)\n",
    "plt.legend(lss)\n",
    "plt.show()"
   ]
  },
  {
   "cell_type": "code",
   "execution_count": null,
   "metadata": {
    "collapsed": false
   },
   "outputs": [],
   "source": [
    "from matplotlib import pyplot as plt\n",
    "from pylab import rcParams\n",
    "import seaborn as sns\n",
    "sns.set()\n",
    "%pylab inline\n",
    "rcParams['figure.figsize'] = 30, 5\n",
    "\n",
    "df = getPoloniexHistorical(symbol='BTC_ETC', period=86400, bars=300)\n",
    "df.ix[:, 'open high low close'.split(' ')].plot()\n",
    "#df = getPoloniexHistorical(symbol='BTC_ETC', period=240)\n",
    "#df.ix[:, 'open high low close'.split(' ')].plot()\n",
    "plt.show()"
   ]
  },
  {
   "cell_type": "code",
   "execution_count": null,
   "metadata": {
    "collapsed": false
   },
   "outputs": [],
   "source": [
    "periods = [300, 900, 1800, 7200, 14400, 86400]"
   ]
  },
  {
   "cell_type": "code",
   "execution_count": null,
   "metadata": {
    "collapsed": false,
    "scrolled": false
   },
   "outputs": [],
   "source": [
    "btc = 'DASH ETH FCT GNO LTC XMR REP XRP ZEC'.split(' ')\n",
    "periods = '1 5 15 30 60 240 14400'.split(' ')\n",
    "periods = [300, 900, 1800, 7200, 14400, 86400]\n",
    "#periods = [1, 5, 15, 30, 60, 3600, 14400, 86400]\n",
    "print periods\n",
    "from matplotlib import pyplot as plt\n",
    "from pylab import rcParams\n",
    "import seaborn as sns\n",
    "sns.set()\n",
    "%pylab inline\n",
    "rcParams['figure.figsize'] = 30, 5\n",
    "for i in btc:\n",
    "    print i\n",
    "    df = getPoloniexHistorical(symbol='BTC_%s' % i, period=1)\n",
    "    df.ix[:, 'open high low close'.split(' ')].plot()\n",
    "    plt.show()\n",
    "    print '====='"
   ]
  },
  {
   "cell_type": "code",
   "execution_count": null,
   "metadata": {
    "collapsed": false
   },
   "outputs": [],
   "source": [
    "# https://www.google.com.ar/search?q=coinmarketcap+ohlc&oq=coinmarketcap+ohlc&aqs=chrome..69i57.3815j0j7&client=ubuntu&sourceid=chrome&ie=UTF-8\n",
    "#https://poloniex.com/public?command=returnChartData&currencyPair=BTC_XMR&start=1405699200&end=9999999999&period=14400\n",
    "# https://poloniex.com/public?command=returnChartData&currencyPair=BTC_XMR&start=1405699200&end=9999999999&period=14400\n",
    "    \n",
    "# poloniex\n",
    "import drest\n",
    "api = drest.API('https://poloniex.com/')\n",
    "response = api.make_request('GET', '/public?command=returnChartData&currencyPair=BTC_XMR&start=1405699200&end=9999999999&period=14400')\n",
    "print response.data\n",
    "\n",
    "#df = p.DataFrame(response.data)#.transpose()\n",
    "#pf(df)\n",
    "#df"
   ]
  },
  {
   "cell_type": "code",
   "execution_count": null,
   "metadata": {
    "collapsed": false
   },
   "outputs": [],
   "source": [
    "# bitmex\n",
    "import drest\n",
    "#api = drest.API('http://socket.coincap.io/')\n",
    "api = drest.API('https://www.bitmex.com/api/v1')\n",
    "#response = api.make_request('GET', '/trade?count=100&reverse=false')\n",
    "#response = api.make_request('GET', '/instrument')\n",
    "response = api.make_request('GET', '/instrument/indices')\n",
    "#print response.data\n",
    "\n",
    "df = p.DataFrame(response.data)#.transpose()\n",
    "#pf(df)\n",
    "df"
   ]
  },
  {
   "cell_type": "code",
   "execution_count": null,
   "metadata": {
    "collapsed": false
   },
   "outputs": [],
   "source": [
    "exchangePriority = {\n",
    "'Bittrex':3,\n",
    "'Cryptopia':1,\n",
    "'Novaexchange':2,\n",
    "'Poloniex':5,\n",
    "'YoBit':4\n",
    "}"
   ]
  },
  {
   "cell_type": "code",
   "execution_count": null,
   "metadata": {
    "collapsed": false,
    "scrolled": true
   },
   "outputs": [],
   "source": [
    "# coinmarketcap\n",
    "import drest\n",
    "api = drest.API('http://api.coinmarketcap.com/')\n",
    "response = api.make_request('GET', '/v1/ticker/')\n",
    "res = response.data\n",
    "\n",
    "c = '24h_volume_usd available_supply id last_updated market_cap_usd name percent_change_1h percent_change_24h percent_change_7d price_btc price_usd rank symbol total_supply'.split(' ')    \n",
    "\n",
    "dfc = p.DataFrame(res)\n",
    "dfc = dfc.set_index('symbol')\n",
    "with p.option_context('display.max_rows', 4000, 'display.max_columns', 4000, 'display.width', 1000000):\n",
    "    print dfc"
   ]
  },
  {
   "cell_type": "code",
   "execution_count": null,
   "metadata": {
    "collapsed": false,
    "scrolled": true
   },
   "outputs": [],
   "source": [
    "# TokenMarket\n",
    "import pandas as p\n",
    "import numpy as n\n",
    "from qore import XPath\n",
    "import pandas as p\n",
    "xp = XPath()\n",
    "\n",
    "#def tokenmarket():\n",
    "#\"\"\"\n",
    "import re\n",
    "xresd = xp.xpath2df('https://tokenmarket.net/blockchain/all-assets', {\n",
    "    'name'       : '//*[@id=\"table-all-assets-wrapper\"]/table/tbody/tr/td[4]/div[1]/a/text()',\n",
    "    'href'       : '//*[@id=\"table-all-assets-wrapper\"]/table/tbody/tr/td[4]/div[1]/a/@href',\n",
    "    #'status'     : '//*[@id=\"table-all-assets-wrapper\"]/table/tbody/tr/td[3]/span/text()',\n",
    "    'symbol'     : '//*[@id=\"table-all-assets-wrapper\"]/table/tbody/tr/td[5]/text()',\n",
    "    'description': '//*[@id=\"table-all-assets-wrapper\"]/table/tbody/tr/td[6]/text()',\n",
    "    #'hot': '//*[@id=\"table-all-assets-wrapper\"]/table/tbody/tr/td[4]/div[2]/text()',        \n",
    "})\n",
    "#print xresd\n",
    "#\"\"\"\n",
    "df = p.DataFrame(xresd)\n",
    "li = 'name href symbol description'.split()\n",
    "for i in li:\n",
    "    df[i] = map(lambda x: x.strip(), df[i])\n",
    "#df['href'] = map(lambda x: x.replace('https://tokenmarket.net/blockchain/ethereum/assets/', ''), df['href'])\n",
    "df['type'] = map(lambda x: re.sub(re.compile(r'https.*?\\/blockchain\\/(.*?)\\/.*'), '\\\\1', x), df['href'])\n",
    "#df['tmid'] = map(lambda x: re.sub(re.compile(r'https.*\\/assets\\/(.*?)\\/'), '\\\\1', x), df['href'])\n",
    "#df = p.DataFrame(df['name'].drop_duplicates())\n",
    "#df[coin] = 1\n",
    "#df = df.set_index('name')\n",
    "#print df.transpose()\n",
    "df = df#.transpose()\n",
    "#return df\n",
    "with p.option_context('display.max_rows', 4000, 'display.max_columns', 4000, 'display.width', 1000000):\n",
    "    #print df\n",
    "    print df#.sort_values(by='type')"
   ]
  },
  {
   "cell_type": "code",
   "execution_count": null,
   "metadata": {
    "collapsed": false,
    "scrolled": true
   },
   "outputs": [],
   "source": [
    "# TokenMarket\n",
    "import re\n",
    "dfp = df\n",
    "nn = 66\n",
    "lili = dfp.index#[nn:nn+5]\n",
    "for i in lili:\n",
    "\n",
    "    url = '%s' % dfp.ix[dfp.index[i], 'href'] \n",
    "    print '%s %s' % (i, url)\n",
    "    #\"\"\"\n",
    "    xresd = xp.xpath2df(url, {\n",
    "        'name'       : '//*[@id=\"page-wrapper\"]/main/div[2]/div[3]/div[1]/h1/text()[2]',\n",
    "        'symbol'     : '//*[@id=\"page-wrapper\"]/main/div[2]/div[4]/div[1]/table[1]//tr[1]/td/text()',\n",
    "        'trading'    : '//*[@id=\"page-wrapper\"]/main/div[2]/div[4]/div[1]/table[1]//tr[2]/td/span/text()[2]',\n",
    "        'links-website'    : '//*[@id=\"page-wrapper\"]/main/div[2]/div[4]/div[2]/div[1]/table//tr[1]/td/a/@href',\n",
    "        'links-blog'       : '//*[@id=\"page-wrapper\"]/main/div[2]/div[4]/div[2]/div[1]/table//tr[2]/td/a/@href',\n",
    "        'links-whitepaper' : '//*[@id=\"page-wrapper\"]/main/div[2]/div[4]/div[2]/div[1]/table//tr[3]/td/a/@href',\n",
    "        'links-facebook'   : '//*[@id=\"page-wrapper\"]/main/div[2]/div[4]/div[2]/div[1]/table//tr[4]/td/a/@href',\n",
    "        'links-twitter'    : '//*[@id=\"page-wrapper\"]/main/div[2]/div[4]/div[2]/div[1]/table//tr[5]/td/a/@href',\n",
    "        'links-linkedin'   : '//*[@id=\"page-wrapper\"]/main/div[2]/div[4]/div[2]/div[1]/table//tr[6]/td/a/@href',\n",
    "        'links-slack'      : '//*[@id=\"page-wrapper\"]/main/div[2]/div[4]/div[2]/div[1]/table//tr[7]/td/a/@href',\n",
    "        'links-telegram'   : '//*[@id=\"page-wrapper\"]/main/div[2]/div[4]/div[2]/div[1]/table//tr[8]/td/a/@href',\n",
    "        'links-github'     : '//*[@id=\"page-wrapper\"]/main/div[2]/div[4]/div[2]/div[1]/table//tr[9]/td/a/@href',\n",
    "        'domain-score'     : '//*[@id=\"page-wrapper\"]/main/div[2]/div[4]/div[2]/table[2]//tr[1]/td/text()[1]',\n",
    "        'backlinks'        : '//*[@id=\"page-wrapper\"]/main/div[2]/div[4]/div[2]/table[2]//tr[2]/td/text()[1]',\n",
    "        'github-starredby' : '//*[@id=\"page-wrapper\"]/main/div[2]/div[4]/div[1]/div[3]/table//tr[1]/td/text()',\n",
    "        'github-watchings' : '//*[@id=\"page-wrapper\"]/main/div[2]/div[4]/div[1]/div[3]/table//tr[2]/td/text()',\n",
    "        'github-contributors' : '//*[@id=\"page-wrapper\"]/main/div[2]/div[4]/div[1]/div[3]/table//tr[2]/td/text()',\n",
    "        'github-forks'        : '//*[@id=\"page-wrapper\"]/main/div[2]/div[4]/div[1]/div[3]/table//tr[3]/td/text()',\n",
    "        'github-commits'      : '//*[@id=\"page-wrapper\"]/main/div[2]/div[4]/div[1]/div[3]/table//tr[4]/td/text()',\n",
    "        'github-openIssues'   : '//*[@id=\"page-wrapper\"]/main/div[2]/div[4]/div[1]/div[3]/table//tr[5]/td/text()',\n",
    "    })\n",
    "    #\"\"\"\n",
    "    #print xresd\n",
    "    xresdlen = {}\n",
    "    for j in xresd:\n",
    "        xresdlen[j] = len(xresd[j])\n",
    "    xresdlen = p.DataFrame(xresdlen, index=['len']).transpose()\n",
    "    xresdlen['max'] = n.max(xresdlen['len'])\n",
    "    xresdlen['diff'] = xresdlen['max'] - xresdlen['len']\n",
    "    #print xresdlen\n",
    "    #print xresd\n",
    "    for j in xrange(len(xresdlen['diff'])):\n",
    "        try:\n",
    "            #print '%s %s' % (j, xresdlen['diff'][j])\n",
    "            if xresdlen['diff'][j] > 0:\n",
    "                #print j\n",
    "                #xresdlen = xresdlen.drop(xresdlen.index[j])\n",
    "                xresd.pop(xresdlen.index[j])\n",
    "                #print p.DataFrame(xresd)\n",
    "        except:\n",
    "            ''\n",
    "    #print xresdlen\n",
    "    #print xresd\n",
    "    dftm = p.DataFrame(xresd, index=[i])\n",
    "    li = 'name backlinks domain-score github-starredby github-commits github-contributors github-forks github-openIssues github-watchings'.split()    \n",
    "    #backlinks domain-score\n",
    "    #links-blog links-facebook links-github links-twitter links-website links-whitepaper name symbol trading    \n",
    "    for j in li:\n",
    "        try:    dftm[j] = map(lambda x: x.strip(), dftm[j])\n",
    "        except: ''\n",
    "    dfp = dfp.combine_first(dftm)\n",
    "    with p.option_context('display.max_rows', 4000, 'display.max_columns', 4000, 'display.width', 1000000):\n",
    "        #print dftm#.transpose()\n",
    "        #print dftm.transpose()\n",
    "        ''\n",
    "    #break    "
   ]
  },
  {
   "cell_type": "code",
   "execution_count": null,
   "metadata": {
    "collapsed": false,
    "scrolled": true
   },
   "outputs": [],
   "source": [
    "# TokenMarket [UnderTheRadar Tokens]\n",
    "#dfp.to_csv('tokenmarket.csv', encoding='utf8')\n",
    "fi = 'name symbol trading type backlinks domain-score links-blog links-facebook links-github links-twitter links-website links-whitepaper github-starredby github-commits github-contributors github-forks github-openIssues github-watchings'\n",
    "li = 'backlinks domain-score github-starredby github-commits github-contributors github-forks github-openIssues github-watchings'.split(' ')\n",
    "dfp = dfp.fillna(0)\n",
    "for i in li:\n",
    "    try: dfp[i] = p.to_numeric(dfp[i])\n",
    "    except Exception as e: \n",
    "        #print '%s %s' % (i,e)\n",
    "        ''\n",
    "#print dfp.dtypes\n",
    "with p.option_context('display.max_rows', 4000, 'display.max_columns', 4000, 'display.width', 1000000):\n",
    "    dfm = dfp.ix[:, fi.split()].sort_values(by='github-starredby').set_index('symbol')\n",
    "    #print dfm\n",
    "    ''\n",
    "    df1 = df.set_index('name')\n",
    "    df1['symbol'] = df.index\n",
    "    dfm = dfm.set_index('name').combine_first(df1)\n",
    "    #print ' '.join(list(dfm.columns))\n",
    "    ff = '24h_volume_usd available_supply backlinks domain-score github-commits github-contributors github-forks github-openIssues github-starredby github-watchings id last_updated links-blog links-facebook links-github links-twitter links-website links-whitepaper market_cap_usd name percent_change_1h percent_change_24h percent_change_7d price_btc price_usd rank total_supply trading type'\n",
    "    ff = 'symbol 24h_volume_usd available_supply backlinks domain-score github-commits github-contributors github-forks github-openIssues github-starredby github-watchings id last_updated market_cap_usd name percent_change_1h percent_change_24h percent_change_7d price_btc price_usd rank total_supply trading type'\n",
    "    ff = 'X3 X X2 symbol backlinks domain-score github-commits github-contributors github-forks github-openIssues github-starredby github-watchings id  links-github type'\n",
    "    def numerix(arr):\n",
    "        arr = map(lambda x: 0 if x == 'None' else x, arr)\n",
    "        arr = p.to_numeric(arr)\n",
    "        return arr    \n",
    "    dfm['github-commits'] = numerix(dfm['github-commits'])\n",
    "    dfm['github-contributors'] = numerix(dfm['github-contributors'])\n",
    "    dfm['github-forks'] = numerix(dfm['github-forks'])\n",
    "    dfm['github-openIssues'] = numerix(dfm['github-openIssues'])\n",
    "    #\"\"\"\n",
    "    def div0( a, b ):\n",
    "        \"#\"\" ignore / 0, div0( [-1, 0, 1], 0 ) -> [0, 0, 0] \"#\"\"\n",
    "        with n.errstate(divide='ignore', invalid='ignore'):\n",
    "            #c = n.true_divide( a, b )\n",
    "            #c[ ~ n.isfinite( c )] = 0  # -inf inf NaN\n",
    "            #c = n.true_divide(a,b)\n",
    "            #c = n.divide(a, b, out=n.zeros_like(a), where=b!=0)\n",
    "            #c[c == n.inf] = 0\n",
    "            #c = n.nan_to_num(c)\n",
    "            return c\n",
    "    #dfm['X'] = div0(dfm['github-commits'].get_values(), dfm['github-contributors'].get_values())\n",
    "    #\"\"\"\n",
    "    dfm['X'] = dfm['github-commits'].get_values() / dfm['github-contributors'].get_values()\n",
    "    dfm['X2'] = dfm['github-openIssues'].get_values() / dfm['github-forks'].get_values()\n",
    "    dfm['X3'] = dfm['X2'].get_values() / dfm['X'].get_values()    \n",
    "    #sortby='github-commits'\n",
    "    sortby='X3'\n",
    "    #print dfm.dtypes\n",
    "    dfr = dfm\n",
    "    for i in dfr[dfr['github-commits'] == 10].index: dfr = dfr.drop(i)\n",
    "    dfr = dfr.ix[:,ff.split(' ')].fillna(0).sort_values(by=sortby, ascending=False)\n",
    "    #print dfr\n",
    "    ff = 'X3 weight' # to publish\n",
    "    dfr = dfm.ix[:,ff.split(' ')].fillna(0).sort_values(by=sortby, ascending=False)\n",
    "    for i in dfr[dfr['X3'] == n.inf].index: dfr = dfr.drop(i)\n",
    "    dfr['potentialPortfolioWeight'] = dfr['X3'] / dfr['X3'].head(20).sum()\n",
    "\n",
    "    import datetime, time\n",
    "    \n",
    "    # UnderTheRadar Suggestions\n",
    "    print '== UnderTheRadar::tokens [%s]' % datetime.datetime.fromtimestamp(time.time()).strftime('%Y-%m-%d')\n",
    "    print '====================================='\n",
    "    print\n",
    "    print '== OpenSource Token Suggestions:'\n",
    "    print '== FutureTokens  [Untradable::pre&postICO]'\n",
    "    print\n",
    "    print dfr.ix[:,['potentialPortfolioWeight']].head(20)\n",
    "    print\n",
    "    print 'note: Some tokens are pre-ICO, therefore not yet on the market.'\n",
    "    print '      They are, however, worth looking into.'\n",
    "\n",
    "    #dfr2 = dfr.ix[:,['potentialPortfolioWeight']].head(20)\n",
    "    #dfr2['name'] = dfr2.index\n",
    "    #print dfr2.ix[:,'name potentialPortfolioWeight'.split()].get_values()\n",
    "    #print \",\".join(dfr2.get_values())\n",
    "    \n",
    "    print\n",
    "    print\n",
    "    print\n",
    "    print '== Closed Source Token Suggestions:'\n",
    "    print '== FutureTokens  [Untradable::pre&postICO]'\n",
    "    print\n",
    "    print '   [Stay tuned]'\n",
    "    print\n",
    "    \n",
    "    print '== PresentTokens [Untradable::pre&postICO]'\n",
    "    print\n",
    "    print '   [Stay tuned]'\n",
    "    print\n",
    "    #print df\n",
    "    #print dfp\n",
    "    #print df#.ix[:, 'id'].sort_index()\n",
    "    #print dfp.ix[:, 'name symbol'.split(' ')].sort_values(by='symbol')\n",
    "#print dfp.ix[:, fi.split()].sort_values(by='github-starredby')']\n",
    "    #24h_volume_usd available_supply backlinks domain-score github-commits github-contributors github-forks github-openIssues github-starredby github-watchings id last_updated links-blog links-facebook links-github links-twitter links-website links-whitepaper market_cap_usd name percent_change_1h percent_change_24h percent_change_7d price_btc price_usd rank total_supply trading type\n",
    "#print dfp.ix[:, fi.split()].sort_values(by='github-starredby')"
   ]
  },
  {
   "cell_type": "code",
   "execution_count": null,
   "metadata": {
    "collapsed": false,
    "scrolled": true
   },
   "outputs": [],
   "source": [
    "# TokenMarket\n",
    "#def tokenmarket():\n",
    "dfp = df\n",
    "\"\"\"\n",
    "import re\n",
    "xresd = xp.xpath2df('https://tokenmarket.net/blockchain/all-assets', {\n",
    "    'name'       : '//*[@id=\"table-all-assets-wrapper\"]/table/tbody/tr/td[4]/div[1]/a/text()',\n",
    "    'href'       : '//*[@id=\"table-all-assets-wrapper\"]/table/tbody/tr/td[4]/div[1]/a/@href',\n",
    "    #'status'     : '//*[@id=\"table-all-assets-wrapper\"]/table/tbody/tr/td[3]/span/text()',\n",
    "    'symbol'     : '//*[@id=\"table-all-assets-wrapper\"]/table/tbody/tr/td[5]/text()',\n",
    "    'description': '//*[@id=\"table-all-assets-wrapper\"]/table/tbody/tr/td[6]/text()',\n",
    "    #'hot': '//*[@id=\"table-all-assets-wrapper\"]/table/tbody/tr/td[4]/div[2]/text()',        \n",
    "})\n",
    "print xresd\n",
    "\"\"\"\n",
    "df = p.DataFrame(xresd)\n",
    "li = 'name href symbol description'.split()\n",
    "for i in li:\n",
    "    df[i] = map(lambda x: x.strip(), df[i])\n",
    "#df['href'] = map(lambda x: x.replace('https://tokenmarket.net/blockchain/ethereum/assets/', ''), df['href'])\n",
    "df['href'] = map(lambda x: re.sub(re.compile(r'https.*\\/assets\\/'), '', x), df['href'])\n",
    "#df = p.DataFrame(df['name'].drop_duplicates())\n",
    "#df[coin] = 1\n",
    "#df = df.set_index('name')\n",
    "#print df.transpose()\n",
    "df = df#.transpose()\n",
    "#return df\n",
    "with p.option_context('display.max_rows', 4000, 'display.max_columns', 4000, 'display.width', 1000000):\n",
    "    print df"
   ]
  },
  {
   "cell_type": "code",
   "execution_count": null,
   "metadata": {
    "collapsed": false,
    "scrolled": true
   },
   "outputs": [],
   "source": [
    "def getExchanges(coin):\n",
    "    xresd = xp.xpath2df('http://coinmarketcap.com/currencies/%s/' % coin, {\n",
    "        'source'       : '//tbody/tr/td[2]/a/text()',\n",
    "        'pair'         : '//tbody/tr/td[3]/a/text()',\n",
    "        'volume_24h'   : '//tbody/tr/td[4]/span/text()',\n",
    "        'price'        : '//tbody/tr/td[5]/span/text()',\n",
    "        'volume_pcnt'  : '//tbody/tr/td[6]/text()',\n",
    "        'updated'      : '//tbody/tr/td[7]/text()',\n",
    "    })\n",
    "    df = p.DataFrame(xresd)\n",
    "    df = p.DataFrame(df['source'].drop_duplicates())\n",
    "    df[coin] = 1\n",
    "    df = df.set_index('source')\n",
    "    #print df.transpose()\n",
    "    df = df.transpose()\n",
    "    return df\n",
    "\n",
    "dfxs = p.DataFrame(); \n",
    "for i in df['id']: print i; dfxs = dfxs.combine_first(getExchanges(i))\n",
    "#print dfxs.fillna(0)\n",
    "with p.option_context('display.max_rows', 4000, 'display.max_columns', 4000, 'display.width', 1000000):\n",
    "    #print df\n",
    "    print \n",
    "    print 'list most frequent exchanges:'\n",
    "    mostFrequentExchanges = p.DataFrame(dfxs.fillna(0).sum()).sort_values(by=0, ascending=False)\n",
    "    mostFrequentExchanges['indx'] = range(len(mostFrequentExchanges.index), 0, -1)\n",
    "    \n",
    "    pdfxs = dfxs.ix[:, list(mostFrequentExchanges.index[0:5])].fillna(0)\n",
    "    pdfxs = dfxs[dfxs.fillna(0).transpose().sum() > 0].fillna(0)\n",
    "    tradableCoins = pdfxs.ix[:, list(mostFrequentExchanges.index[0:10])][pdfxs > 0].fillna(0)\n",
    "\n",
    "    print mostFrequentExchanges\n",
    "\n",
    "    print \n",
    "    print 'list tradableCoins:'\n",
    "    a1 = mostFrequentExchanges.ix[tradableCoins.columns, 'indx'].get_values()\n",
    "    b1 = tradableCoins.get_values()\n",
    "    c1 = b1 * a1\n",
    "    tradableCoins.ix[:,:] = c1\n",
    "    tradableCoins['exchangeId'] = n.max(c1, 1)\n",
    "    print tradableCoins\n",
    "    #print tradableCoins.transpose()\n",
    "    \n",
    "    print \n",
    "    print 'list coins that trade on most exchanges:'\n",
    "    print p.DataFrame(dfxs.fillna(0).transpose().sum()).sort_values(by=0, ascending=False)\n",
    "#print pdfxs#.transpose()\n",
    "#df.index\n",
    "#df = df.combine_first(getExchanges('1337'))"
   ]
  },
  {
   "cell_type": "code",
   "execution_count": null,
   "metadata": {
    "collapsed": false,
    "scrolled": false
   },
   "outputs": [],
   "source": [
    "# convert to numeric\n",
    "for i in c:\n",
    "    try:    df[i] = p.to_numeric(df[i])\n",
    "    except: ''\n",
    "\n",
    "# filter idea sourced from:\n",
    "# https://www.youtube.com/watch?v=JF3eXDbzmg0 @ 15:01\n",
    "df = df[df['price_usd'] <= 0.1]\n",
    "df = df[df['24h_volume_usd'] >= 100000]\n",
    "try:\n",
    "    df = df.drop('FEDS')\n",
    "except:\n",
    "    ''\n",
    "\n",
    "#print c\n",
    "#print df.dtypes\n",
    "c = '24h_volume_usd available_supply id market_cap_usd name percent_change_24h percent_change_7d price_btc price_usd rank symbol total_supply'.split(' ')\n",
    "df = df.ix[:, c]\n",
    "df = df.sort_values(by='24h_volume_usd', ascending=False)\n",
    "df = df.sort_values(by='percent_change_24h', ascending=False)\n",
    "\n",
    "# portfolio\n",
    "bal = 165.11\n",
    "#bal = 1000\n",
    "df['portPcnt'] = df['price_usd'] / df['price_usd'].sum() * 1\n",
    "#df['portPcntPinv'] = 1 - df['portPcnt']\n",
    "df['portPcntPinv'] = 1 / df['portPcnt']\n",
    "df['portPcntPinv2'] = df['portPcntPinv'] / df['portPcntPinv'].sum() * 100\n",
    "df['portAmount'] = df['portPcntPinv2'] * bal / 100\n",
    "df['portAmount_usd'] = df['portPcntPinv2'] * bal / 100\n",
    "df['portAmount_units'] = df['portAmount_usd'] / df['price_usd']\n",
    "\n",
    "c = '24h_volume_usd id market_cap_usd name percent_change_24h percent_change_7d price_btc price_usd portPcnt portPcntPinv portPcntPinv2 portAmount_usd portAmount_units'.split(' ')    \n",
    "c = '24h_volume_usd name percent_change_24h percent_change_7d price_usd portPcnt portPcntPinv portPcntPinv2 portAmount_usd portAmount_units'.split(' ')    \n",
    "c = '24h_volume_usd name percent_change_24h percent_change_7d price_usd portPcnt portPcntPinv portPcntPinv2 portAmount_usd portAmount_units'.split(' ')\n",
    "df = df.sort_values(by='portPcntPinv2', ascending=False)\n",
    "\n",
    "# tradableCoins2\n",
    "#print list(tradableCoins.index)\n",
    "tradableCoins2 = df.set_index('id').ix[list(tradableCoins.index), c]\n",
    "tradableCoins2 = tradableCoins2.combine_first(tradableCoins)\n",
    "tradableCoins2 = tradableCoins2[tradableCoins2['portAmount_units'] > 0].sort_values(by='portAmount_units', ascending=False)\n",
    "\n",
    "with p.option_context('display.max_rows', 4000, 'display.max_columns', 4000, 'display.width', 1000000):\n",
    "    print '            bal: %s' % bal\n",
    "    print '   price_usdSUM: %s' % df['price_usd'].sum()\n",
    "    print '    portPcntSUM: %s' % df['portPcnt'].sum()\n",
    "    print 'portPcntPinvSUM: %s' % df['portPcntPinv'].sum()\n",
    "    print 'portAmount_usdSUM: %s' % tradableCoins2['portAmount_usd'].sum()\n",
    "    try:\n",
    "        print 'portAmount_usd_YoBit_SUM: %s' % tradableCoins2[tradableCoins2['YoBit'] == 1]['portAmount_usd'].sum()\n",
    "    except:\n",
    "        ''\n",
    "\n",
    "    #tradableCoins2['Poloniex'] = tradableCoins2['Poloniex'] - tradableCoins2['YoBit']\n",
    "    #print tradableCoins2[tradableCoins2['YoBit'] == 1]\n",
    "    print tradableCoins\n",
    "    print tradableCoins2\n",
    "\n",
    "    #print df\n",
    "    #print df.ix[:, c]\n",
    "\n",
    "#df = p.DataFrame(response.data)#.transpose()\n",
    "#pf(df)\n",
    "#df    print list(tradableCoins.index)\n"
   ]
  },
  {
   "cell_type": "code",
   "execution_count": null,
   "metadata": {
    "collapsed": false
   },
   "outputs": [],
   "source": [
    "df = df.sort_values(by='portPcntPinv2', ascending=False)\n",
    "for i in df.index[0:10]: df = df.combine_first(getExchanges(i))\n",
    "c = '24h_volume_usd name percent_change_24h percent_change_7d price_usd portPcnt portPcntPinv portPcntPinv2 portAmount_usd portAmount_units Poloniex YoBit'.split(' ')\n",
    "c = 'name price_usd portPcntPinv2 portAmount_usd portAmount_units Poloniex YoBit'.split(' ')\n",
    "with p.option_context('display.max_rows', 4000, 'display.max_columns', 4000, 'display.width', 1000000):\n",
    "    print df.fillna('').ix[:, c]\n",
    "#print xresd\n",
    "#print p.DataFrame(xresd)"
   ]
  },
  {
   "cell_type": "code",
   "execution_count": null,
   "metadata": {
    "collapsed": false
   },
   "outputs": [],
   "source": [
    "def viewLocalbitcoinsCSV(fname):\n",
    "    dff = p.read_csv(fname)\n",
    "    with p.option_context('display.max_rows', 4000, 'display.max_columns', 4000, 'display.width', 1000000):\n",
    "        print dff.dtypes\n",
    "        print dff.fillna('')\n",
    "viewLocalbitcoinsCSV('/home/qore/qorelogic/assets/sec-svn.git/assets/localbitcoins/Transactions for kiiza.all.csv')"
   ]
  },
  {
   "cell_type": "code",
   "execution_count": null,
   "metadata": {
    "collapsed": false
   },
   "outputs": [],
   "source": [
    "viewLocalbitcoinsCSV('/home/qore/qorelogic/assets/sec-svn.git/assets/localbitcoins/Transactions for ecambio.all.csv')"
   ]
  },
  {
   "cell_type": "code",
   "execution_count": null,
   "metadata": {
    "collapsed": false
   },
   "outputs": [],
   "source": [
    "viewLocalbitcoinsCSV('/home/qore/qorelogic/assets/sec-svn.git/assets/localbitcoins/Transactions for bongocoin.all.csv')"
   ]
  },
  {
   "cell_type": "code",
   "execution_count": null,
   "metadata": {
    "collapsed": false
   },
   "outputs": [],
   "source": [
    "fname = '/home/qore/qorelogic/assets/sec-svn.git/assets/genesis-mining/genesis-mining.payout.jmaloan.log'\n",
    "#fp = open(fname, 'r')\n",
    "#res = fp.read()\n",
    "#fp.close()\n",
    "dfl = p.read_csv(fname, sep='\\t')\n",
    "#dfl['Mining day \tCurrency']\n",
    "dfl"
   ]
  }
 ],
 "metadata": {
  "kernelspec": {
   "display_name": "Python 2",
   "language": "python",
   "name": "python2"
  },
  "language_info": {
   "codemirror_mode": {
    "name": "ipython",
    "version": 2
   },
   "file_extension": ".py",
   "mimetype": "text/x-python",
   "name": "python",
   "nbconvert_exporter": "python",
   "pygments_lexer": "ipython2",
   "version": "2.7.6"
  }
 },
 "nbformat": 4,
 "nbformat_minor": 0
}
