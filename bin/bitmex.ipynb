{
 "cells": [
  {
   "cell_type": "code",
   "execution_count": null,
   "metadata": {
    "collapsed": false,
    "scrolled": true
   },
   "outputs": [],
   "source": [
    "%reload_ext autoreload\n",
    "%autoreload 2\n",
    "import pandas as p\n",
    "import numpy as n\n",
    "import requests as req\n",
    "import ujson as js\n",
    "from oandaq import OandaQ\n",
    "def getPoloniexHistorical(symbol='BTC_XMR', period=14400, start=1405699200, end=9999999999, bars=15):\n",
    "    import time,calendar\n",
    "    ts = time.time()\n",
    "    #print ts\n",
    "    tsd = datetime.datetime.fromtimestamp(ts)\n",
    "    #print tsd\n",
    "    tss = calendar.timegm([tsd.year,tsd.month,tsd.day,0,0,0,0,0,0])\n",
    "    start = tss\n",
    "    \n",
    "    #start = start - period\n",
    "    oq = OandaQ()\n",
    "    # doc: https://poloniex.com/support/api/\n",
    "    tms = makeTimeseriesTimestampRange(timestamp=int(ts), period=period, bars=bars)\n",
    "    start = tms['start']\n",
    "    end = tms['end']\n",
    "    url = 'https://poloniex.com/public?command=returnChartData&currencyPair=%s&start=%s&end=%s&period=%s' % (symbol, start, end, period)\n",
    "    res = req.get(url)\n",
    "    #res.text\n",
    "    li = js.loads(res.text)\n",
    "    df = p.DataFrame(li)\n",
    "    df['date2'] = oq.timestampToDatetime_S(df['date'], utc=True)\n",
    "    with p.option_context('display.max_rows', 40, 'display.max_columns', 4000, 'display.width', 1000000):\n",
    "        #print df.head(5)\n",
    "        #print df.tail(5)\n",
    "        #print df\n",
    "        #print len(df.index)\n",
    "        ''\n",
    "    return df\n",
    "\n",
    "#$x('//table[@id=\"marketBTC\"]//td[2]/text()')\n",
    "btc = [\"XRP\", \"STR\", \"ETH\", \"LTC\", \"ETC\", \"XMR\", \"DGB\", \"DASH\", \"FCT\", \"DOGE\", \"BTS\", \"XEM\", \"GNO\", \"SC\", \"GNT\", \"ZEC\", \"STEEM\", \"MAID\", \"PASC\", \"SYS\", \"LSK\", \"CLAM\", \"STRAT\", \"DCR\", \"XCP\", \"REP\", \"NXT\", \"POT\", \"FLDC\", \"VTC\", \"NAV\", \"PINK\", \"ARDR\", \"GAME\", \"BCN\", \"BURST\", \"VRC\", \"BELA\", \"AMP\", \"SJCX\", \"LBC\", \"XBC\", \"PPC\", \"XVC\", \"GRC\", \"NAUT\", \"BTM\", \"OMNI\", \"BCY\", \"EXP\", \"EMC2\", \"SBD\", \"NOTE\", \"HUC\", \"VIA\", \"BLK\", \"NMC\", \"XPM\", \"RIC\", \"NXC\", \"RADS\", \"NEOS\", \"FLO\", \"BTCD\"]\n",
    "#$x('//table[@id=\"marketETH\"]//td[2]/text()')\n",
    "eth = [\"GNO\", \"ETC\", \"GNT\", \"ZEC\", \"REP\", \"STEEM\", \"LSK\"]\n",
    "#$x('//table[@id=\"marketXMR\"]//td[2]/text()')\n",
    "xmr = [\"LTC\", \"ZEC\", \"DASH\", \"NXT\", \"MAID\", \"BCN\", \"BTCD\", \"BLK\"]\n",
    "#$x('//table[@id=\"marketUSDT\"]//td[2]/text()')\n",
    "usdt = [\"BTC\", \"XRP\", \"STR\", \"LTC\", \"ETH\", \"ETC\", \"XMR\", \"DASH\", \"ZEC\", \"NXT\", \"REP\"]\n",
    "\n",
    "#df = getPoloniexHistorical('BTC_XMR')"
   ]
  },
  {
   "cell_type": "code",
   "execution_count": null,
   "metadata": {
    "collapsed": false
   },
   "outputs": [],
   "source": [
    "lss = []\n",
    "for i in range(len(btc)):\n",
    "    lss.append('BTC_%s' % btc[i])\n",
    "#lss = ['BTC_ETC', 'BTC_ETH']\n",
    "print lss"
   ]
  },
  {
   "cell_type": "code",
   "execution_count": null,
   "metadata": {
    "collapsed": false
   },
   "outputs": [],
   "source": [
    "lss = []\n",
    "btc = 'ETH BURST XMR SC'.split(' ')\n",
    "for i in range(len(btc)):\n",
    "    lss.append('BTC_%s' % btc[i])\n",
    "print lss"
   ]
  },
  {
   "cell_type": "code",
   "execution_count": null,
   "metadata": {
    "collapsed": false
   },
   "outputs": [],
   "source": [
    "def currencyCube(r,c,d, index=None, columns=None, rdf=None):\n",
    "    #r = 550 #rows history\n",
    "    #c = 40   #columns currencypairs\n",
    "    #d = 9  # depth fields [open, high, low, close...]\n",
    "\n",
    "    #rdf = n.zeros([c,r,d])\n",
    "    #rf = []\n",
    "    # \n",
    "    #for i in range(d): rf.append(n.random.randn(r,c))\n",
    "    # \n",
    "    #for i in range(d): rdf[:,:,i] = rf[i][:,:].T\n",
    "    #print rdf\n",
    "    #p.DataFrame(rdf[:,:,0].T).head(5)\n",
    "\n",
    "    # \n",
    "    #for i in range(c): rf.append(n.random.randn(r,d))\n",
    "\n",
    "    # \n",
    "    #for i in range(c): rdf[i,:,:] = rf[i][:,:]\n",
    "    print rdf.shape\n",
    "    if rdf != None:\n",
    "        try:\n",
    "            print rf.shape\n",
    "            print rf\n",
    "            print rdf\n",
    "            for i in range(c): rdf[i,:,:] = rf[i][:,:]\n",
    "        except:\n",
    "            ''\n",
    "\n",
    "    #print rdf\n",
    "    with p.option_context('display.max_rows', 400, 'display.max_columns', 4000, 'display.width', 1000000):\n",
    "        if rdf != None:\n",
    "            for i in range(rdf.shape[0]):\n",
    "                print p.DataFrame(rdf[i,:,:].T, index=columns, columns=index).transpose().head(5)\n",
    "        #print p.DataFrame(rdf[39,:,:].T).transpose().head(5)\n",
    "        ''\n",
    "    return {'data':rdf, 'index':index, 'columns':columns}\n",
    "#rdf = currencyCube(550,5,9, index=n.random.randn(550), columns='a b c d e f g h i'.split(' '))\n",
    "#p.DataFrame(rdf['data'][0], index=rdf['index'], columns=rdf['columns'])"
   ]
  },
  {
   "cell_type": "code",
   "execution_count": null,
   "metadata": {
    "collapsed": false
   },
   "outputs": [],
   "source": [
    "bars=1000\n",
    "lsa = 'BTC_ETH BTC_BURST BTC_SC'.split()\n",
    "rdf = n.zeros([len(lsa),bars,7])\n",
    "print rdf.shape\n",
    "\n",
    "fields = 'open high low close quotedVolume volume weightedVolume'.split()\n",
    "for i in range(len(lsa)):\n",
    "    df1 = getPoloniexHistorical(symbol=lsa[i], period=14400, bars=bars)\n",
    "    print df1.shape\n",
    "    \n",
    "    rdf[i,:,:] = df1.set_index('date').ix[:,fields].get_values()\n",
    "#df1 = getPoloniexHistorical(symbol='BTC_ETH', period=14400, bars=300)\n",
    "#print df1.shape\n",
    "#rdf[0,:,:] = df1.set_index('date').ix[:,'open high low close quotedVolume volume weightedVolume'.split()].get_values()\n",
    "\n",
    "#df2 = getPoloniexHistorical(symbol='BTC_BURST', period=14400, bars=300)\n",
    "#print df2.shape\n",
    "#rdf[1,:,:] = df2.set_index('date').ix[:,'open high low close quotedVolume volume weightedVolume'.split()].get_values()\n",
    "\n",
    "#df1.dtypes\n",
    "#rdf\n",
    "rf = []\n",
    "cc = currencyCube(len(lsa),bars,7, index=df1['date'], columns=fields, rdf=rdf)\n",
    "cc"
   ]
  },
  {
   "cell_type": "code",
   "execution_count": null,
   "metadata": {
    "collapsed": false
   },
   "outputs": [],
   "source": [
    "cc"
   ]
  },
  {
   "cell_type": "code",
   "execution_count": null,
   "metadata": {
    "collapsed": false
   },
   "outputs": [],
   "source": [
    "from qoreliquid import normalizeme\n",
    "import datetime\n",
    "from qoreliquid import sigmoidme\n",
    "import matplotlib.pylab as plt\n",
    "mdf = p.DataFrame()\n",
    "for i in lss: #[0:5]:\n",
    "    print i\n",
    "    df = getPoloniexHistorical(symbol=i, period=14400, bars=300)\n",
    "    sdf = df.set_index('date').ix[:, 'close'.split(' ')]\n",
    "    sdf[i] = sdf['close']\n",
    "    sdf = sdf[[i]]\n",
    "    sdf = sdf.ffill().bfill()\n",
    "    mdf = mdf.combine_first(sdf)\n",
    "mdf = normalizeme(mdf)\n",
    "#mdf.ffill().bfill()\n",
    "print mdf\n",
    "#sdf.plot()\n",
    "plt.plot(mdf)\n",
    "plt.legend(lss)\n",
    "plt.show()"
   ]
  },
  {
   "cell_type": "code",
   "execution_count": null,
   "metadata": {
    "collapsed": false
   },
   "outputs": [],
   "source": [
    "from matplotlib import pyplot as plt\n",
    "from pylab import rcParams\n",
    "import seaborn as sns\n",
    "sns.set()\n",
    "%pylab inline\n",
    "rcParams['figure.figsize'] = 30, 5\n",
    "\n",
    "df = getPoloniexHistorical(symbol='BTC_ETC', period=86400, bars=300)\n",
    "df.ix[:, 'open high low close'.split(' ')].plot()\n",
    "#df = getPoloniexHistorical(symbol='BTC_ETC', period=240)\n",
    "#df.ix[:, 'open high low close'.split(' ')].plot()\n",
    "plt.show()"
   ]
  },
  {
   "cell_type": "code",
   "execution_count": null,
   "metadata": {
    "collapsed": false
   },
   "outputs": [],
   "source": [
    "import numpy as n\n",
    "import calendar, datetime, time\n",
    "def makeTimeseriesTimestampRange(timestamp=None, period=14400, bars=50):\n",
    "    #print '---'\n",
    "    #print 'timestamp:%s' % timestamp\n",
    "    #print 'period:%s' % period\n",
    "    #print 'bars:%s' % bars\n",
    "    if timestamp == None:\n",
    "        #tss = int(time.time())\n",
    "        tss = time.time()\n",
    "        timestamp = int(tss)\n",
    "    else:\n",
    "        tss = timestamp\n",
    "    tsd = datetime.datetime.fromtimestamp(tss)\n",
    "    tss = calendar.timegm([tsd.year,tsd.month,tsd.day,0,0,0,0,0,0])\n",
    "    divisible = 60 * 60 * 24.0 / period\n",
    "    a = list(n.arange(tss-period*(bars-1),tss+1, period))\n",
    "    b = list(n.arange(tss, tss+period * (divisible+1), period, dtype=n.int))[1:]\n",
    "    adf = p.DataFrame(a)\n",
    "    adf['date2'] = OandaQ.timestampToDatetime_S(adf[0], utc=True)\n",
    "    adf['date3'] = map(lambda x: timestamp-x, adf[0])\n",
    "    bdf = p.DataFrame(b)\n",
    "    adf = adf.set_index(0)\n",
    "    bdf['date2'] = OandaQ.timestampToDatetime_S(bdf[0], utc=True)\n",
    "    bdf['date3'] = map(lambda x: timestamp-x, bdf[0])\n",
    "    bdf = bdf.set_index(0)\n",
    "    cdf = adf.combine_first(bdf)\n",
    "    with p.option_context('display.max_rows', 400, 'display.max_columns', 4000, 'display.width', 1000000):\n",
    "        #print adf\n",
    "        #print bdf\n",
    "        #print cdf\n",
    "        d2 = cdf[cdf['date3'] >= 0]\n",
    "        #print d2\n",
    "    c = a + b\n",
    "    #print c\n",
    "    #print len(c)-10\n",
    "    #d = c[len(c)-bars+0:len(c)]\n",
    "    d = list(d2.index[len(d2.index)-bars+0:len(d2.index)])\n",
    "    #print d\n",
    "    return {'start':d[0], 'end':d[len(d)-1], 'range':d, 'timestamp':timestamp, 'bars':bars, 'period':period}\n",
    "nu = 150\n",
    "\"\"\"\n",
    "print makeTimeseriesTimestampRange(bars=nu)\n",
    "print makeTimeseriesTimestampRange(bars=nu, period=86400)\n",
    "print makeTimeseriesTimestampRange(bars=nu, period=14400)\n",
    "print makeTimeseriesTimestampRange(bars=nu, period=1800)\n",
    "print makeTimeseriesTimestampRange(bars=nu, period=900)\n",
    "print makeTimeseriesTimestampRange(bars=nu, period=300)\n",
    "print makeTimeseriesTimestampRange(timestamp=1495209600, period=14400, bars=nu)\n",
    "print makeTimeseriesTimestampRange(timestamp=1495209642, period=14400, bars=nu)\n",
    "print makeTimeseriesTimestampRange(timestamp=1495209642, period=1800, bars=nu)\n",
    "print makeTimeseriesTimestampRange(timestamp=1495209642, period=900, bars=nu)\n",
    "print makeTimeseriesTimestampRange(timestamp=1495209642, period=300, bars=nu)\n",
    "\"\"\"\n",
    "print makeTimeseriesTimestampRange(timestamp=1495209642, period=300, bars=nu)['range']\n"
   ]
  },
  {
   "cell_type": "code",
   "execution_count": null,
   "metadata": {
    "collapsed": false
   },
   "outputs": [],
   "source": [
    "periods = [300, 900, 1800, 7200, 14400, 86400]"
   ]
  },
  {
   "cell_type": "code",
   "execution_count": null,
   "metadata": {
    "collapsed": false,
    "scrolled": false
   },
   "outputs": [],
   "source": [
    "btc = 'DASH ETH FCT GNO LTC XMR REP XRP ZEC'.split(' ')\n",
    "periods = '1 5 15 30 60 240 14400'.split(' ')\n",
    "periods = [300, 900, 1800, 7200, 14400, 86400]\n",
    "#periods = [1, 5, 15, 30, 60, 3600, 14400, 86400]\n",
    "print periods\n",
    "from matplotlib import pyplot as plt\n",
    "from pylab import rcParams\n",
    "import seaborn as sns\n",
    "sns.set()\n",
    "%pylab inline\n",
    "rcParams['figure.figsize'] = 30, 5\n",
    "for i in btc:\n",
    "    print i\n",
    "    df = getPoloniexHistorical(symbol='BTC_%s' % i, period=1)\n",
    "    df.ix[:, 'open high low close'.split(' ')].plot()\n",
    "    plt.show()\n",
    "    print '====='"
   ]
  },
  {
   "cell_type": "code",
   "execution_count": null,
   "metadata": {
    "collapsed": false
   },
   "outputs": [],
   "source": [
    "# https://www.google.com.ar/search?q=coinmarketcap+ohlc&oq=coinmarketcap+ohlc&aqs=chrome..69i57.3815j0j7&client=ubuntu&sourceid=chrome&ie=UTF-8\n",
    "#https://poloniex.com/public?command=returnChartData&currencyPair=BTC_XMR&start=1405699200&end=9999999999&period=14400\n",
    "# https://poloniex.com/public?command=returnChartData&currencyPair=BTC_XMR&start=1405699200&end=9999999999&period=14400\n",
    "    \n",
    "# poloniex\n",
    "import drest\n",
    "api = drest.API('https://poloniex.com/')\n",
    "response = api.make_request('GET', '/public?command=returnChartData&currencyPair=BTC_XMR&start=1405699200&end=9999999999&period=14400')\n",
    "print response.data\n",
    "\n",
    "#df = p.DataFrame(response.data)#.transpose()\n",
    "#pf(df)\n",
    "#df"
   ]
  },
  {
   "cell_type": "code",
   "execution_count": null,
   "metadata": {
    "collapsed": false
   },
   "outputs": [],
   "source": [
    "# bitmex\n",
    "import drest\n",
    "#api = drest.API('http://socket.coincap.io/')\n",
    "api = drest.API('https://www.bitmex.com/api/v1')\n",
    "#response = api.make_request('GET', '/trade?count=100&reverse=false')\n",
    "#response = api.make_request('GET', '/instrument')\n",
    "response = api.make_request('GET', '/instrument/indices')\n",
    "#print response.data\n",
    "\n",
    "df = p.DataFrame(response.data)#.transpose()\n",
    "#pf(df)\n",
    "df"
   ]
  },
  {
   "cell_type": "code",
   "execution_count": null,
   "metadata": {
    "collapsed": false
   },
   "outputs": [],
   "source": [
    "exchangePriority = {\n",
    "'Bittrex':3,\n",
    "'Cryptopia':1,\n",
    "'Novaexchange':2,\n",
    "'Poloniex':5,\n",
    "'YoBit':4\n",
    "}"
   ]
  },
  {
   "cell_type": "code",
   "execution_count": null,
   "metadata": {
    "collapsed": false,
    "scrolled": false
   },
   "outputs": [],
   "source": [
    "import pandas as p\n",
    "\n",
    "# coinmarketcap\n",
    "import drest\n",
    "api = drest.API('http://api.coinmarketcap.com/')\n",
    "response = api.make_request('GET', '/v1/ticker/')\n",
    "res = response.data\n",
    "\n",
    "c = '24h_volume_usd available_supply id last_updated market_cap_usd name percent_change_1h percent_change_24h percent_change_7d price_btc price_usd rank symbol total_supply'.split(' ')    \n",
    "\n",
    "df = p.DataFrame(res)\n",
    "df = df.set_index('symbol')\n",
    "\n",
    "# convert to numeric\n",
    "for i in c:\n",
    "    try:    df[i] = p.to_numeric(df[i])\n",
    "    except: ''\n",
    "\n",
    "# filter\n",
    "# https://www.youtube.com/watch?v=JF3eXDbzmg0\n",
    "df = df[df['price_usd'] <= 0.1]\n",
    "df = df[df['24h_volume_usd'] >= 100000]\n",
    "df = df.drop('FEDS')\n",
    "\n",
    "#print c\n",
    "#print df.dtypes\n",
    "c = '24h_volume_usd available_supply id market_cap_usd name percent_change_24h percent_change_7d price_btc price_usd rank symbol total_supply'.split(' ')\n",
    "df = df.ix[:, c]\n",
    "df = df.sort_values(by='24h_volume_usd', ascending=False)\n",
    "df = df.sort_values(by='percent_change_24h', ascending=False)\n",
    "\n",
    "# portfolio\n",
    "bal = 165.11\n",
    "#bal = 1000\n",
    "df['portPcnt'] = df['price_usd'] / df['price_usd'].sum() * 1\n",
    "#df['portPcntPinv'] = 1 - df['portPcnt']\n",
    "df['portPcntPinv'] = 1 / df['portPcnt']\n",
    "df['portPcntPinv2'] = df['portPcntPinv'] / df['portPcntPinv'].sum() * 100\n",
    "df['portAmount'] = df['portPcntPinv2'] * bal / 100\n",
    "df['portAmount_usd'] = df['portPcntPinv2'] * bal / 100\n",
    "df['portAmount_units'] = df['portAmount_usd'] / df['price_usd']\n",
    "\n",
    "c = '24h_volume_usd id market_cap_usd name percent_change_24h percent_change_7d price_btc price_usd portPcnt portPcntPinv portPcntPinv2 portAmount_usd portAmount_units'.split(' ')    \n",
    "c = '24h_volume_usd name percent_change_24h percent_change_7d price_usd portPcnt portPcntPinv portPcntPinv2 portAmount_usd portAmount_units'.split(' ')    \n",
    "c = '24h_volume_usd name percent_change_24h percent_change_7d price_usd portPcnt portPcntPinv portPcntPinv2 portAmount_usd portAmount_units'.split(' ')\n",
    "df = df.sort_values(by='portPcntPinv2', ascending=False)\n",
    "\n",
    "# tradableCoins2\n",
    "#print list(tradableCoins.index)\n",
    "tradableCoins2 = df.set_index('name').ix[list(tradableCoins.index), c]\n",
    "tradableCoins2 = tradableCoins2.combine_first(tradableCoins)\n",
    "tradableCoins2 = tradableCoins2[tradableCoins2['portAmount_units'] > 0].sort_values(by='portAmount_units', ascending=False)\n",
    "\n",
    "with p.option_context('display.max_rows', 4000, 'display.max_columns', 4000, 'display.width', 1000000):\n",
    "    print '            bal: %s' % bal\n",
    "    print '   price_usdSUM: %s' % df['price_usd'].sum()\n",
    "    print '    portPcntSUM: %s' % df['portPcnt'].sum()\n",
    "    print 'portPcntPinvSUM: %s' % df['portPcntPinv'].sum()\n",
    "    print 'portAmount_usdSUM: %s' % tradableCoins2['portAmount_usd'].sum()\n",
    "    print 'portAmount_usd_YoBit_SUM: %s' % tradableCoins2[tradableCoins2['YoBit'] == 1]['portAmount_usd'].sum()\n",
    "\n",
    "    #tradableCoins2['Poloniex'] = tradableCoins2['Poloniex'] - tradableCoins2['YoBit']\n",
    "    #print tradableCoins2[tradableCoins2['YoBit'] == 1]\n",
    "    print tradableCoins2\n",
    "    #print tradableCoins\n",
    "\n",
    "    #print df\n",
    "    print df.ix[:, c]\n",
    "\n",
    "#df = p.DataFrame(response.data)#.transpose()\n",
    "#pf(df)\n",
    "#df    print list(tradableCoins.index)\n"
   ]
  },
  {
   "cell_type": "code",
   "execution_count": null,
   "metadata": {
    "collapsed": false,
    "scrolled": false
   },
   "outputs": [],
   "source": [
    "from qore import XPath\n",
    "import pandas as p\n",
    "xp = XPath()\n",
    "def getExchanges(coin):\n",
    "    xresd = xp.xpath2df('http://coinmarketcap.com/currencies/%s/' % coin, {\n",
    "        'source'       : '//tbody/tr/td[2]/a/text()',\n",
    "        'pair'         : '//tbody/tr/td[3]/a/text()',\n",
    "        'volume_24h'   : '//tbody/tr/td[4]/span/text()',\n",
    "        'price'        : '//tbody/tr/td[5]/span/text()',\n",
    "        'volume_pcnt'  : '//tbody/tr/td[6]/text()',\n",
    "        'updated'      : '//tbody/tr/td[7]/text()',\n",
    "    })\n",
    "    df = p.DataFrame(xresd)\n",
    "    df = p.DataFrame(df['source'].drop_duplicates())\n",
    "    df[coin] = 1\n",
    "    df = df.set_index('source')\n",
    "    #print df.transpose()\n",
    "    df = df.transpose()\n",
    "    return df\n",
    "\n",
    "#dfxs = p.DataFrame()\n",
    "#for i in df['id']:\n",
    "#    print i\n",
    "#    dfxs = dfxs.combine_first(getExchanges(i))\n",
    "#print dfxs.fillna(0)\n",
    "with p.option_context('display.max_rows', 4000, 'display.max_columns', 4000, 'display.width', 1000000):\n",
    "    #print df    \n",
    "    # list most frequent exchanges\n",
    "    mostFrequentExchanges = p.DataFrame(dfxs.fillna(0).sum()).sort_values(by=0, ascending=False)\n",
    "    print mostFrequentExchanges\n",
    "    pdfxs = dfxs.ix[:, list(mostFrequentExchanges.index[0:5])].fillna(0)\n",
    "    pdfxs = dfxs[dfxs.fillna(0).transpose().sum() > 0].fillna(0)\n",
    "    tradableCoins = pdfxs.ix[:, list(mostFrequentExchanges.index[0:5])][pdfxs > 0].fillna(0)\n",
    "    print tradableCoins\n",
    "    # list coins that trade on most exchanges\n",
    "    print p.DataFrame(dfxs.fillna(0).transpose().sum()).sort_values(by=0, ascending=False)\n",
    "#df.index\n",
    "#df = df.combine_first(getExchanges('1337'))"
   ]
  },
  {
   "cell_type": "code",
   "execution_count": null,
   "metadata": {
    "collapsed": false
   },
   "outputs": [],
   "source": [
    "df = df.sort_values(by='portPcntPinv2', ascending=False)\n",
    "#for i in df.index[0:10]: df = df.combine_first(getExchanges(i))\n",
    "c = '24h_volume_usd name percent_change_24h percent_change_7d price_usd portPcnt portPcntPinv portPcntPinv2 portAmount_usd portAmount_units Poloniex YoBit'.split(' ')\n",
    "c = 'name price_usd portPcntPinv2 portAmount_usd portAmount_units Poloniex YoBit'.split(' ')\n",
    "with p.option_context('display.max_rows', 4000, 'display.max_columns', 4000, 'display.width', 1000000):\n",
    "    print df.fillna('').ix[:, c]\n",
    "#print xresd\n",
    "#print p.DataFrame(xresd)"
   ]
  }
 ],
 "metadata": {
  "kernelspec": {
   "display_name": "Python 2",
   "language": "python",
   "name": "python2"
  },
  "language_info": {
   "codemirror_mode": {
    "name": "ipython",
    "version": 2
   },
   "file_extension": ".py",
   "mimetype": "text/x-python",
   "name": "python",
   "nbconvert_exporter": "python",
   "pygments_lexer": "ipython2",
   "version": "2.7.6"
  }
 },
 "nbformat": 4,
 "nbformat_minor": 0
}
