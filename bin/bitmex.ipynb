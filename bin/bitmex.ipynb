{
 "cells": [
  {
   "cell_type": "code",
   "execution_count": null,
   "metadata": {
    "collapsed": false,
    "scrolled": true
   },
   "outputs": [],
   "source": [
    "import requests as req\n",
    "import ujson as js\n",
    "def getPoloniexHistorical(symbol='BTC_XMR', period=14400):\n",
    "    url = 'https://poloniex.com/public?command=returnChartData&currencyPair=%s&start=1405699200&end=9999999999&period=%s' % (symbol, period)\n",
    "    res = req.get(url)\n",
    "    #res.text\n",
    "    li = js.loads(res.text)\n",
    "    print li\n",
    "    df = p.DataFrame(li)\n",
    "    with p.option_context('display.max_rows', 4000, 'display.max_columns', 4000, 'display.width', 1000000):\n",
    "        print df.tail(5)\n",
    "    return df\n",
    "#df = getPoloniexHistorical('BTC_XMR')"
   ]
  },
  {
   "cell_type": "code",
   "execution_count": null,
   "metadata": {
    "collapsed": false
   },
   "outputs": [],
   "source": [
    "#$x('//table[@id=\"marketBTC\"]//td[2]/text()')\n",
    "btc = [\"XRP\", \"STR\", \"ETH\", \"LTC\", \"ETC\", \"XMR\", \"DGB\", \"DASH\", \"FCT\", \"DOGE\", \"BTS\", \"XEM\", \"GNO\", \"SC\", \"GNT\", \"ZEC\", \"STEEM\", \"MAID\", \"PASC\", \"SYS\", \"LSK\", \"CLAM\", \"STRAT\", \"DCR\", \"XCP\", \"REP\", \"NXT\", \"POT\", \"FLDC\", \"VTC\", \"NAV\", \"PINK\", \"ARDR\", \"GAME\", \"BCN\", \"BURST\", \"VRC\", \"BELA\", \"AMP\", \"SJCX\", \"LBC\", \"XBC\", \"PPC\", \"XVC\", \"GRC\", \"NAUT\", \"BTM\", \"OMNI\", \"BCY\", \"EXP\", \"EMC2\", \"SBD\", \"NOTE\", \"HUC\", \"VIA\", \"BLK\", \"NMC\", \"XPM\", \"RIC\", \"NXC\", \"RADS\", \"NEOS\", \"FLO\", \"BTCD\"]\n",
    "#$x('//table[@id=\"marketETH\"]//td[2]/text()')\n",
    "eth = [\"GNO\", \"ETC\", \"GNT\", \"ZEC\", \"REP\", \"STEEM\", \"LSK\"]\n",
    "#$x('//table[@id=\"marketXMR\"]//td[2]/text()')\n",
    "xmr = [\"LTC\", \"ZEC\", \"DASH\", \"NXT\", \"MAID\", \"BCN\", \"BTCD\", \"BLK\"]\n",
    "#$x('//table[@id=\"marketUSDT\"]//td[2]/text()')\n",
    "usdt = [\"BTC\", \"XRP\", \"STR\", \"LTC\", \"ETH\", \"ETC\", \"XMR\", \"DASH\", \"ZEC\", \"NXT\", \"REP\"]"
   ]
  },
  {
   "cell_type": "code",
   "execution_count": null,
   "metadata": {
    "collapsed": false
   },
   "outputs": [],
   "source": [
    "from matplotlib import pyplot as plt\n",
    "from pylab import rcParams\n",
    "import seaborn as sns\n",
    "sns.set()\n",
    "%pylab inline\n",
    "rcParams['figure.figsize'] = 30, 5\n",
    "df = getPoloniexHistorical(symbol='BTC_DOGE', period=300)\n",
    "df.ix[:, 'open high low close'.split(' ')].plot()\n",
    "plt.show()"
   ]
  },
  {
   "cell_type": "code",
   "execution_count": null,
   "metadata": {
    "collapsed": false,
    "scrolled": false
   },
   "outputs": [],
   "source": [
    "btc = 'DASH ETH FCT GNO LTC XMR REP XRP ZEC'.split(' ')\n",
    "periods = '1 5 15 30 60 240 14400'.split(' ')\n",
    "periods = [300, 900, 1800, 7200, 14400, 86400]\n",
    "#periods = [1, 5, 15, 30, 60, 3600, 14400, 86400]\n",
    "print periods\n",
    "from matplotlib import pyplot as plt\n",
    "from pylab import rcParams\n",
    "import seaborn as sns\n",
    "sns.set()\n",
    "%pylab inline\n",
    "rcParams['figure.figsize'] = 30, 5\n",
    "for i in btc:\n",
    "    print i\n",
    "    df = getPoloniexHistorical(symbol='BTC_%s' % i, period=1)\n",
    "    df.ix[:, 'open high low close'.split(' ')].plot()\n",
    "    plt.show()\n",
    "    print '====='"
   ]
  },
  {
   "cell_type": "code",
   "execution_count": null,
   "metadata": {
    "collapsed": false
   },
   "outputs": [],
   "source": [
    "# https://www.google.com.ar/search?q=coinmarketcap+ohlc&oq=coinmarketcap+ohlc&aqs=chrome..69i57.3815j0j7&client=ubuntu&sourceid=chrome&ie=UTF-8\n",
    "#https://poloniex.com/public?command=returnChartData&currencyPair=BTC_XMR&start=1405699200&end=9999999999&period=14400\n",
    "# https://poloniex.com/public?command=returnChartData&currencyPair=BTC_XMR&start=1405699200&end=9999999999&period=14400\n",
    "    \n",
    "# poloniex\n",
    "import drest\n",
    "api = drest.API('https://poloniex.com/')\n",
    "response = api.make_request('GET', '/public?command=returnChartData&currencyPair=BTC_XMR&start=1405699200&end=9999999999&period=14400')\n",
    "print response.data\n",
    "\n",
    "#df = p.DataFrame(response.data)#.transpose()\n",
    "#pf(df)\n",
    "#df"
   ]
  },
  {
   "cell_type": "code",
   "execution_count": null,
   "metadata": {
    "collapsed": false
   },
   "outputs": [],
   "source": [
    "import pandas as p\n",
    "from qoreliquid import pf\n",
    "\n",
    "# bitmex\n",
    "import drest\n",
    "#api = drest.API('http://socket.coincap.io/')\n",
    "api = drest.API('https://www.bitmex.com/api/v1')\n",
    "#response = api.make_request('GET', '/trade?count=100&reverse=false')\n",
    "#response = api.make_request('GET', '/instrument')\n",
    "response = api.make_request('GET', '/instrument/indices')\n",
    "#print response.data\n",
    "\n",
    "df = p.DataFrame(response.data)#.transpose()\n",
    "#pf(df)\n",
    "df"
   ]
  }
 ],
 "metadata": {
  "kernelspec": {
   "display_name": "Python 2",
   "language": "python",
   "name": "python2"
  },
  "language_info": {
   "codemirror_mode": {
    "name": "ipython",
    "version": 2
   },
   "file_extension": ".py",
   "mimetype": "text/x-python",
   "name": "python",
   "nbconvert_exporter": "python",
   "pygments_lexer": "ipython2",
   "version": "2.7.6"
  }
 },
 "nbformat": 4,
 "nbformat_minor": 0
}
