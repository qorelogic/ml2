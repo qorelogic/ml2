{
 "cells": [
  {
   "cell_type": "code",
   "execution_count": null,
   "metadata": {
    "collapsed": true
   },
   "outputs": [],
   "source": [
    "https://forums.burst-team.us/topic/33/burst-address-generator-v0-2-3-all-platforms\n",
    "https://github.com/de-luxe/burstcoin-address-generator/releases\n",
    "get 1 burst coin to create the address in the blockchain\n",
    "https://faucet.burst-team.us\n",
    "get the id of BURST-TALE-WK6Y-NMTE-4DB9Z from:\n",
    "http://burstcoin.biz/address/3430946750618968652 paste the address in the search bar\n",
    "\n",
    "ew miner:\n",
    "git clone https://github.com/Mirkic7/mdcct\n",
    "https://forums.burst-team.us/topic/1142/linux-really-need-help/3\n",
    "./plotavx2 -k 3430946750618968652 -x 0 -d /tmp/burst/ -s 1 -n 7812000 -m 500 -t 1 -a\n",
    "\n",
    "wallet:\n",
    "https://github.com/burst-team/burstcoin/releases"
   ]
  },
  {
   "cell_type": "code",
   "execution_count": null,
   "metadata": {
    "collapsed": true,
    "scrolled": true
   },
   "outputs": [],
   "source": [
    "%reload_ext autoreload\n",
    "%autoreload 2\n",
    "from bitmex import *\n",
    "pl = Poloniex()\n",
    "getCurrencies()"
   ]
  },
  {
   "cell_type": "code",
   "execution_count": null,
   "metadata": {
    "collapsed": true,
    "scrolled": true
   },
   "outputs": [],
   "source": [
    "# 3-dimensional price cube\n",
    "import numpy as n\n",
    "pl = Poloniex()\n",
    "bars=1000\n",
    "lsa = 'BTC_ETH BTC_BURST BTC_SC'.split()\n",
    "rdf = n.zeros([len(lsa),bars,7])\n",
    "print rdf.shape\n",
    "\n",
    "fields = 'open high low close quotedVolume volume weightedVolume'.split()\n",
    "for i in range(len(lsa)):\n",
    "    df1 = pl.getPoloniexHistorical(symbol=lsa[i], period=14400, bars=bars)\n",
    "    print df1.shape\n",
    "    \n",
    "    rdf[i,:,:] = df1.set_index('date').ix[:,fields].get_values()\n",
    "#df1.dtypes\n",
    "#rdf\n",
    "rf = []\n",
    "cc = currencyCube(len(lsa),bars,7, index=df1['date'], columns=fields, rdf=rdf)\n",
    "#cc"
   ]
  },
  {
   "cell_type": "code",
   "execution_count": null,
   "metadata": {
    "collapsed": true,
    "scrolled": true
   },
   "outputs": [],
   "source": [
    "# 3-dimensional price cube\n",
    "#rdf = currencyCube(550,5,9, index=n.random.randn(550), columns='a b c d e f g h i'.split(' '))\n",
    "#p.DataFrame(rdf['data'][0], index=rdf['index'], columns=rdf['columns'])\n",
    "cc = currencyCube(r=len(lsa),tf=bars,c=7, index=df1['date'], columns=fields, rdf=rdf)\n",
    "cc"
   ]
  },
  {
   "cell_type": "code",
   "execution_count": null,
   "metadata": {
    "collapsed": true
   },
   "outputs": [],
   "source": [
    "# currency chart overlay\n",
    "currencyChartOverlay()"
   ]
  },
  {
   "cell_type": "code",
   "execution_count": null,
   "metadata": {
    "collapsed": true
   },
   "outputs": [],
   "source": [
    "viewHistoricalPricePoloniex()"
   ]
  },
  {
   "cell_type": "code",
   "execution_count": null,
   "metadata": {
    "collapsed": true,
    "scrolled": false
   },
   "outputs": [],
   "source": [
    "viewChartsPoloniex()"
   ]
  },
  {
   "cell_type": "code",
   "execution_count": null,
   "metadata": {
    "collapsed": true
   },
   "outputs": [],
   "source": [
    "# cypto api \n",
    "# https://www.google.com.ar/search?q=coinmarketcap+ohlc&oq=coinmarketcap+ohlc&aqs=chrome..69i57.3815j0j7&client=ubuntu&sourceid=chrome&ie=UTF-8\n",
    "#https://poloniex.com/public?command=returnChartData&currencyPair=BTC_XMR&start=1405699200&end=9999999999&period=14400\n",
    "# https://poloniex.com/public?command=returnChartData&currencyPair=BTC_XMR&start=1405699200&end=9999999999&period=14400\n",
    "    \n",
    "# poloniex\n",
    "import drest\n",
    "api = drest.API('https://poloniex.com/')\n",
    "response = api.make_request('GET', '/public?command=returnChartData&currencyPair=BTC_XMR&start=1405699200&end=9999999999&period=14400')\n",
    "print response.data\n",
    "\n",
    "#df = p.DataFrame(response.data)#.transpose()\n",
    "#pf(df)\n",
    "#df"
   ]
  },
  {
   "cell_type": "code",
   "execution_count": null,
   "metadata": {
    "collapsed": true,
    "scrolled": true
   },
   "outputs": [],
   "source": [
    "# cypto api \n",
    "df = instrumentIndecesBitmex()"
   ]
  },
  {
   "cell_type": "code",
   "execution_count": null,
   "metadata": {
    "collapsed": true,
    "scrolled": true
   },
   "outputs": [],
   "source": [
    "%reload_ext autoreload\n",
    "%autoreload 2\n",
    "from bitmex import *\n",
    "# coinmarketcap\n",
    "cmc = CoinMarketCap()\n",
    "dfc = cmc.tickers()\n",
    "#with p.option_context('display.max_rows', 4000, 'display.max_columns', 4000, 'display.width', 1000000):\n",
    "#    print dfc\n",
    "#dfc\n",
    "dfc = dfc.convert_objects(convert_numeric=True)\n",
    "print dfc.dtypes\n",
    "\n",
    "import qgrid as qg\n",
    "qg.show_grid(dfc)"
   ]
  },
  {
   "cell_type": "code",
   "execution_count": null,
   "metadata": {
    "collapsed": true,
    "scrolled": true
   },
   "outputs": [],
   "source": [
    "%reload_ext autoreload\n",
    "%autoreload 2\n",
    "from bitmex import TokenMarket\n",
    "# TokenMarket\n",
    "tm = TokenMarket()\n",
    "df = tm.allAssetsBlockchainTokenMarket()\n",
    "#with p.option_context('display.max_rows', 4000, 'display.max_columns', 4000, 'display.width', 1000000):\n",
    "#    print tm.allAssetsICOsBlockchain"
   ]
  },
  {
   "cell_type": "code",
   "execution_count": null,
   "metadata": {
    "collapsed": true,
    "scrolled": true
   },
   "outputs": [],
   "source": [
    "# TokenMarket\n",
    "tm.tokenICOsTokenMarket()"
   ]
  },
  {
   "cell_type": "code",
   "execution_count": null,
   "metadata": {
    "collapsed": true,
    "scrolled": true
   },
   "outputs": [],
   "source": [
    "%reload_ext autoreload\n",
    "%autoreload 2\n",
    "from bitmex import *\n",
    "tm.underTheRadarTokens()"
   ]
  },
  {
   "cell_type": "code",
   "execution_count": null,
   "metadata": {
    "collapsed": true,
    "scrolled": true
   },
   "outputs": [],
   "source": [
    "# TokenMarket\n",
    "tm.tokenmarket()"
   ]
  },
  {
   "cell_type": "code",
   "execution_count": null,
   "metadata": {
    "collapsed": true,
    "scrolled": true
   },
   "outputs": [],
   "source": [
    "%reload_ext autoreload\n",
    "%autoreload 2\n",
    "from bitmex import *\n",
    "cmc = CoinMarketCap()\n",
    "#cmc.parseCoinMarketCap()"
   ]
  },
  {
   "cell_type": "code",
   "execution_count": null,
   "metadata": {
    "collapsed": true,
    "scrolled": false
   },
   "outputs": [],
   "source": [
    "cmc.getTradableCoins()"
   ]
  },
  {
   "cell_type": "code",
   "execution_count": null,
   "metadata": {
    "collapsed": true,
    "scrolled": false
   },
   "outputs": [],
   "source": [
    "portfolio = cmc.generatePortfolio()\n",
    "with p.option_context('display.max_rows', 4000, 'display.max_columns', 4000, 'display.width', 1000000):\n",
    "    #print portfolio.fillna('')#.ix[:, c]\n",
    "    #qgrid.show_grid(portfolio.fillna(''))\n",
    "    ''"
   ]
  },
  {
   "cell_type": "code",
   "execution_count": null,
   "metadata": {
    "collapsed": true
   },
   "outputs": [],
   "source": [
    "# liqui\n",
    "key = '<key>'"
    "secret = '<secret>'\n",
   ]
  },
  {
   "cell_type": "code",
   "execution_count": null,
   "metadata": {
    "collapsed": true
   },
   "outputs": [],
   "source": [
    "def viewLocalbitcoinsCSV(fname):\n",
    "    dff = p.read_csv(fname)\n",
    "    with p.option_context('display.max_rows', 4000, 'display.max_columns', 4000, 'display.width', 1000000):\n",
    "        print dff.dtypes\n",
    "        print dff.fillna('')\n",
    "viewLocalbitcoinsCSV('/home/qore/qorelogic/assets/sec-svn.git/assets/localbitcoins/Transactions for kiiza.all.csv')"
   ]
  },
  {
   "cell_type": "code",
   "execution_count": null,
   "metadata": {
    "collapsed": true
   },
   "outputs": [],
   "source": [
    "viewLocalbitcoinsCSV('/home/qore/qorelogic/assets/sec-svn.git/assets/localbitcoins/Transactions for ecambio.all.csv')"
   ]
  },
  {
   "cell_type": "code",
   "execution_count": null,
   "metadata": {
    "collapsed": true
   },
   "outputs": [],
   "source": [
    "viewLocalbitcoinsCSV('/home/qore/qorelogic/assets/sec-svn.git/assets/localbitcoins/Transactions for bongocoin.all.csv')"
   ]
  },
  {
   "cell_type": "code",
   "execution_count": null,
   "metadata": {
    "collapsed": true
   },
   "outputs": [],
   "source": [
    "fname = '/home/qore/qorelogic/assets/sec-svn.git/assets/genesis-mining/genesis-mining.payout.jmaloan.log'\n",
    "#fp = open(fname, 'r')\n",
    "#res = fp.read()\n",
    "#fp.close()\n",
    "dfl = p.read_csv(fname, sep='\\t')\n",
    "#dfl['Mining day \tCurrency']\n",
    "dfl"
   ]
  },
  {
   "cell_type": "code",
   "execution_count": null,
   "metadata": {
    "collapsed": true
   },
   "outputs": [],
   "source": [
    "%reload_ext autoreload\n",
    "%autoreload 2\n",
    "from bitmex import *\n",
    "# liqui\n",
    "#print liq.signHMAC512(params)\n",
    "liq = Liqui(key, secret)\n",
    "#liq.debugon()\n",
    "liq.getInfo()\n",
    "#liq.tradeHistory()\n",
    "#liq.trade()                                                                                                                                                                                                          "
   ]
  },
  {
   "cell_type": "code",
   "execution_count": null,
   "metadata": {},
   "outputs": [],
   "source": [
    "%reload_ext autoreload\n",
    "%autoreload 2\n",
    "from bitmex import *\n",
    "# bittrex\n",
    "#print liq.signHMAC512(params)\n",
    "o = Bittrex('<key>', '<secret>')\n",
    "#o.debugon()\n",
    "with p.option_context('display.max_rows', 4000, 'display.max_columns', 4000, 'display.width', 1000000):\n",
    "    #o.getInfo()\n",
    "    #o.getDepositAddress('ETH')\n",
    "    print o.getCurrencies()\n",
    "    #print o.getMarketSummaries()\n",
    "    #print o.getMarkets()\n",
    "    #o.tradeHistory()\n",
    "    #o.trade()"
   ]
  },
  {
   "cell_type": "code",
   "execution_count": null,
   "metadata": {},
   "outputs": [],
   "source": [
    "from qore import XPath\n",
    "xp = XPath()\n",
    "xresd = xp.xpath2df('http://www.cryptocompare.com/mining/#/equipment', {\n",
    "    'source'       : '/html/body/div[1]/div[3]/div/div/div/mining-list/div/div/div/div[2]/h3/a/text()'\n",
    "#    'pair'         : '//tbody/tr/td[3]/a/text()',\n",
    "#    'volume_24h'   : '//tbody/tr/td[4]/span/text()',\n",
    "#    'price'        : '//tbody/tr/td[5]/span/text()',\n",
    "#    'volume_pcnt'  : '//tbody/tr/td[6]/text()',\n",
    "#    'updated'      : '//tbody/tr/td[7]/text()',\n",
    "})\n",
    "print xresd\n",
    "df = p.DataFrame(xresd)\n",
    "print df"
   ]
  },
  {
   "cell_type": "code",
   "execution_count": null,
   "metadata": {
    "scrolled": false
   },
   "outputs": [],
   "source": [
    "from qore import XPath\n",
    "xp = XPath()\n",
    "#v++\n",
    "di = {}\n",
    "c=1\n",
    "di.update({'Manufacturer':'//*[@id=\"dev-table\"]//tr/td[%s]/b/text()'%c}); c=c+1\n",
    "di.update({'Model':'//*[@id=\"dev-table\"]//tr/td[%s]/b/text()'%c}); c=c+1\n",
    "di.update({'Core Clock':'//*[@id=\"dev-table\"]//tr/td[%s]/text()'%c}); c=c+1\n",
    "di.update({'Mem Clock':'//*[@id=\"dev-table\"]//tr/td[%s]/text()'%c}); c=c+1\n",
    "di.update({'OS':'//*[@id=\"dev-table\"]//tr/td[%s]/text()'%c}); c=c+1\n",
    "di.update({'Driver Version':'//*[@id=\"dev-table\"]//tr/td[%s]/text()'%c}); c=c+1\n",
    "di.update({'Algorithm':'//*[@id=\"dev-table\"]//tr/td[%s]/text()'%c}); c=c+1\n",
    "di.update({'Speed':'//*[@id=\"dev-table\"]//tr/td[%s]/b/text()'%c}); c=c+1\n",
    "#print di\n",
    "xresd = xp.xpath2df('http://mininghwcomparison.com/list/index.php?brand=both', di)\n",
    "df = p.DataFrame()\n",
    "for i in xresd.keys():\n",
    "    #print p.DataFrame(xresd[i])\n",
    "    #print '%s: %s' % (i, len(xresd[i]))\n",
    "    df = df.combine_first(p.DataFrame(xresd[i], columns=[i]))\n",
    "#print xresd\n",
    "#df = p.DataFrame(xresd)\n",
    "#print df\n",
    "df = df.convert_objects(convert_numeric=True)\n",
    "print df.dtypes\n",
    "import qgrid as qg\n",
    "qg.show_grid(df.set_index(df.columns[0]))\n",
    "#qgrid.show_grid(df, grid_options={'forceFitColumns': False, 'defaultColumnWidth': 100})\n",
    "#from IPython.display import display\n",
    "#grid = qgrid.QGridWidget(df=df3)\n",
    "#display(grid)\n",
    "#import dfgui # https://github.com/bluenote10/PandasDataFrameGUI\n",
    "#dfgui.show(df)"
   ]
  },
  {
   "cell_type": "code",
   "execution_count": null,
   "metadata": {},
   "outputs": [],
   "source": [
    "from qore import XPath\n",
    "xp = XPath()\n",
    "di = {}\n",
    "c=1\n",
    "di.update({'Miner':'//*[@id=\"main\"]/table//tr/td[%s]/text()'%c}); c=c+1\n",
    "di.update({'Hash':'//*[@id=\"main\"]/table//tr/td[%s]/text()'%c}); c=c+1\n",
    "di.update({'Efficiency':'//*[@id=\"main\"]/table//tr/td[%s]/text()'%c}); c=c+1\n",
    "di.update({'Price':'//*[@id=\"main\"]/table//tr/td[%s]/text()'%c}); c=c+1\n",
    "#print di\n",
    "xresd = xp.xpath2df('https://www.bitcoinmining.com/bitcoin-mining-hardware/', di)\n",
    "df = p.DataFrame()\n",
    "for i in xresd.keys():\n",
    "    #print p.DataFrame(xresd[i])\n",
    "    #print '%s: %s' % (i, len(xresd[i]))\n",
    "    df = df.combine_first(p.DataFrame(xresd[i], columns=[i]))\n",
    "xresdT = df.transpose().to_dict()\n",
    "di = {'Miner':'gm','Hash':'1.5e3','Price':'225','Efficiency':'0'}\n",
    "xresdT.update({len(xresdT):{'Miner':'gm','Hash':'1500','Price':'225','Efficiency':'0'}})\n",
    "#print xresdT\n",
    "df = p.DataFrame(xresdT).transpose()\n",
    "#df = p.DataFrame(, index=[10252565]).combine_first(df)\n",
    "#print xresd\n",
    "#df = p.DataFrame(xresd)\n",
    "#print df\n",
    "df['EfficiencyF[W/Gh]']  = map(lambda x: x.strip().split(' ')[0], df['Efficiency'])\n",
    "df['PriceF[$]']          = map(lambda x: x.strip().replace('$','').replace(',',''), df['Price'])\n",
    "#df['HashF Gh/s']    = map(lambda x: x.strip().split(' ')[0], df['Hash'])\n",
    "for i in df.index:\n",
    "    x = df.loc[i, 'Hash'].strip().split(' ')\n",
    "    try:    u = x[1].strip()\n",
    "    except: u = ''\n",
    "    try:    cf = float(x[0]) * 1e3 if u == 'Th/s' else x[0]\n",
    "    except: cf = ''\n",
    "    #print u\n",
    "    df.loc[i, 'HashF[Gh/s]'] = cf\n",
    "df = df.convert_objects(convert_numeric=True)\n",
    "df['costFactor[Gh/s/$]']       = df['HashF[Gh/s]']   / df['PriceF[$]']\n",
    "df['efficiencyFactor[W/Gh/$]'] = 1 / (df['EfficiencyF[W/Gh]'] / df['PriceF[$]'])\n",
    "df['efficiencyCost']           = df['costFactor[Gh/s/$]'] * df['efficiencyFactor[W/Gh/$]']\n",
    "df['Power[W]'] = df['EfficiencyF[W/Gh]'] * df['HashF[Gh/s]']\n",
    "df = df[df['costFactor[Gh/s/$]'] >= 0]\n",
    "print df.dtypes\n",
    "f = 'Miner Hash Price Power[W] Efficiency EfficiencyF[W/Gh] PriceF[$] HashF[Gh/s] costFactor[Gh/s/$] efficiencyFactor[W/Gh/$] efficiencyCost'.split(' ')\n",
    "df = df.loc[:,f]\n",
    "import qgrid as qg\n",
    "qg.show_grid(df.set_index(df.columns[0]))\n",
    "#import dfgui # https://github.com/bluenote10/PandasDataFrameGUI\n",
    "#dfgui.show(df)"
   ]
  },
  {
   "cell_type": "code",
   "execution_count": null,
   "metadata": {
    "collapsed": true
   },
   "outputs": [],
   "source": [
    "res = apiRequest('https://www.cryptocompare.com/api', '/data/miningequipment/')\n",
    "#print res\n",
    "mddf = p.DataFrame(res['MiningData']).transpose()\n",
    "mddf = mddf.convert_objects(convert_numeric=True)\n",
    "mddf['costFactor'] = mddf['HashesPerSecond'] / mddf['Cost']\n",
    "print mddf.dtypes\n",
    "qg.show_grid(mddf)\n",
    "#mddf"
   ]
  },
  {
   "cell_type": "code",
   "execution_count": null,
   "metadata": {
    "collapsed": true
   },
   "outputs": [],
   "source": [
    "dfi = o.getInfo()\n",
    "dfi\n",
    "#dfi.loc[dfi[dfi['Currency'] == 'USDT'].index[0], 'Balance']"
   ]
  },
  {
   "cell_type": "code",
   "execution_count": null,
   "metadata": {
    "collapsed": true
   },
   "outputs": [],
   "source": [
    "# bittrex\n",
    "dfi1 = o.getCurrencies().set_index('Currency')\n",
    "dfi2 = o.getInfo().set_index('Currency')\n",
    "dfi3 = dfi1.combine_first(dfi2)\n",
    "dfi3[dfi3['Balance'] > 0]\n",
    "#dfi3"
   ]
  },
  {
   "cell_type": "code",
   "execution_count": null,
   "metadata": {},
   "outputs": [],
   "source": [
    "ethaddress1 = ''\n",
    "et2_1 = '' #eth2 0\n",
    "et2_2 = '' #eth2 1\n",
    "def getEthBalance(ethaddress):\n",
    "    res = apiRequest('https://api.etherscan.io', '/api?module=account&action=balance&address=%s&tag=latest&apikey=YourApiKeyToken'%ethaddress)\n",
    "    return res['result']\n",
    "print getEthBalance('')\n",
    "print getEthBalance(et2_1)\n",
    "print getEthBalance(et2_2)"
   ]
  },
  {
   "cell_type": "code",
   "execution_count": null,
   "metadata": {
    "collapsed": true
   },
   "outputs": [],
   "source": [
    "def getEthTransactions(ethaddr):\n",
    "    res = apiRequest('http://api.etherscan.io','/api?module=account&action=txlist&address=%s&startblock=0&endblock=99999999&sort=asc&apikey=YourApiKeyToken'%ethaddr)\n",
    "    res = p.DataFrame(res['result'])\n",
    "    import qgrid\n",
    "    return qgrid.show_grid(res)\n",
    "#getEthTransactions('')\n",
    "getEthTransactions(ethaddress2)"
   ]
  },
  {
   "cell_type": "code",
   "execution_count": null,
   "metadata": {},
   "outputs": [],
   "source": [
    "def getEthTransactionsInternal(ethaddr):\n",
    "    res = apiRequest('http://api.etherscan.io','/api?module=account&action=txlistinternal&address=%s&startblock=0&endblock=2702578&sort=asc&apikey=YourApiKeyToken'%ethaddr)\n",
    "    res = p.DataFrame(res['result'])\n",
    "    import qgrid\n",
    "    return qgrid.show_grid(res)\n",
    "#getEthTransactions('')\n",
    "getEthTransactionsInternal(ethaddress1)"
   ]
  },
  {
   "cell_type": "code",
   "execution_count": null,
   "metadata": {
    "collapsed": true
   },
   "outputs": [],
   "source": [
    "def getEthTokens(ethaddr, tokenname='PPT'):\n",
    "    res = apiRequest('http://api.etherscan.io', '/api?module=account&action=tokenbalance&tokenname=%s&address=%s&tag=latest&apikey=YourApiKeyToken' % (tokenname, ethaddr))\n",
    "    print res\n",
    "    try:\n",
    "        res = p.DataFrame(res['result'])\n",
    "    except:\n",
    "        ''\n",
    "    #import qgrid\n",
    "    #return qgrid.show_grid(res)\n",
    "    return res\n",
    "print getEthTokens(et2_1)\n",
    "print getEthTokens(et2_2)\n",
    "https://etherdelta.github.io/#PPT-ETH"
   ]
  },
  {
   "cell_type": "code",
   "execution_count": null,
   "metadata": {
    "collapsed": true
   },
   "outputs": [],
   "source": [
    "import qgrid\n",
    "cmc = CoinMarketCap()\n",
    "dfc = cmc.getTradableCoins()\n",
    "dfc = dfc.drop('symbol', axis=1)\n",
    "qgrid.show_grid(dfc)"
   ]
  },
  {
   "cell_type": "code",
   "execution_count": null,
   "metadata": {
    "collapsed": true
   },
   "outputs": [],
   "source": [
    "print dfc.drop"
   ]
  }
 ],
 "metadata": {
  "kernelspec": {
   "display_name": "Python 2",
   "language": "python",
   "name": "python2"
  },
  "language_info": {
   "codemirror_mode": {
    "name": "ipython",
    "version": 2
   },
   "file_extension": ".py",
   "mimetype": "text/x-python",
   "name": "python",
   "nbconvert_exporter": "python",
   "pygments_lexer": "ipython2",
   "version": "2.7.6"
  },
  "widgets": {
   "state": {
    "07a70599d40c4b0991983677d9b7c444": {
     "views": [
      {
       "cell_index": 32
      }
     ]
    },
    "598c42c255a94283899121e9ef6aade0": {
     "views": [
      {
       "cell_index": 31
      }
     ]
    }
   },
   "version": "1.2.0"
  }
 },
 "nbformat": 4,
 "nbformat_minor": 1
}
