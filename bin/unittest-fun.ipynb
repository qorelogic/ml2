{
 "metadata": {
  "name": ""
 },
 "nbformat": 3,
 "nbformat_minor": 0,
 "worksheets": [
  {
   "cells": [
    {
     "cell_type": "code",
     "collapsed": false,
     "input": [
      "import unittest as u\n",
      "import pytest as pt\n",
      "# Testing Code in Python List\n",
      "# http://docs.python-guide.org/en/latest/writing/tests/\n",
      "#help(pt)"
     ],
     "language": "python",
     "metadata": {},
     "outputs": [],
     "prompt_number": 8
    },
    {
     "cell_type": "code",
     "collapsed": false,
     "input": [
      "#help(u)"
     ],
     "language": "python",
     "metadata": {},
     "outputs": [],
     "prompt_number": 9
    },
    {
     "cell_type": "code",
     "collapsed": false,
     "input": [
      "import unittest as u\n",
      "from qoreliquid import *\n",
      "\n",
      "print sigmoidme(123)\n",
      "\n",
      "class TestCase(u.TestCase):\n",
      "    def testSigmoid(self):\n",
      "        self.assertEqual(sigmoidme(123),'qweqwe')\n",
      "        \n",
      "#if __name__ == '__main__':\n",
      "u.main()"
     ],
     "language": "python",
     "metadata": {},
     "outputs": [
      {
       "ename": "AttributeError",
       "evalue": "'module' object has no attribute 'TestCase'",
       "output_type": "pyerr",
       "traceback": [
        "\u001b[0;31m---------------------------------------------------------------------------\u001b[0m\n\u001b[0;31mAttributeError\u001b[0m                            Traceback (most recent call last)",
        "\u001b[0;32m<ipython-input-19-894c5245c549>\u001b[0m in \u001b[0;36m<module>\u001b[0;34m()\u001b[0m\n\u001b[1;32m      4\u001b[0m \u001b[0;32mprint\u001b[0m \u001b[0msigmoidme\u001b[0m\u001b[0;34m(\u001b[0m\u001b[0;36m123\u001b[0m\u001b[0;34m)\u001b[0m\u001b[0;34m\u001b[0m\u001b[0m\n\u001b[1;32m      5\u001b[0m \u001b[0;34m\u001b[0m\u001b[0m\n\u001b[0;32m----> 6\u001b[0;31m \u001b[0;32mclass\u001b[0m \u001b[0mTestCase\u001b[0m\u001b[0;34m(\u001b[0m\u001b[0mu\u001b[0m\u001b[0;34m.\u001b[0m\u001b[0mTestCase\u001b[0m\u001b[0;34m)\u001b[0m\u001b[0;34m:\u001b[0m\u001b[0;34m\u001b[0m\u001b[0m\n\u001b[0m\u001b[1;32m      7\u001b[0m     \u001b[0;32mdef\u001b[0m \u001b[0mtestSigmoid\u001b[0m\u001b[0;34m(\u001b[0m\u001b[0mself\u001b[0m\u001b[0;34m)\u001b[0m\u001b[0;34m:\u001b[0m\u001b[0;34m\u001b[0m\u001b[0m\n\u001b[1;32m      8\u001b[0m         \u001b[0mself\u001b[0m\u001b[0;34m.\u001b[0m\u001b[0massertEqual\u001b[0m\u001b[0;34m(\u001b[0m\u001b[0msigmoidme\u001b[0m\u001b[0;34m(\u001b[0m\u001b[0;36m123\u001b[0m\u001b[0;34m)\u001b[0m\u001b[0;34m,\u001b[0m\u001b[0;34m'qweqwe'\u001b[0m\u001b[0;34m)\u001b[0m\u001b[0;34m\u001b[0m\u001b[0m\n",
        "\u001b[0;31mAttributeError\u001b[0m: 'module' object has no attribute 'TestCase'"
       ]
      },
      {
       "output_type": "stream",
       "stream": "stdout",
       "text": [
        "1.0\n"
       ]
      }
     ],
     "prompt_number": 19
    },
    {
     "cell_type": "code",
     "collapsed": false,
     "input": [
      "# Doctest\n",
      "def square(x):\n",
      "    \"\"\"Squares x.\n",
      "\n",
      "    >>> square(2)\n",
      "    4\n",
      "    >>> square(-2)\n",
      "    4\n",
      "    \"\"\"\n",
      "\n",
      "    return x * x\n",
      "\n",
      "def add(a, b):\n",
      "    \"\"\"Add a, b.\n",
      "\n",
      "    >>> add(2,6)\n",
      "    8\n",
      "    >>> add(-2,3)\n",
      "    1\n",
      "    \"\"\"\n",
      "\n",
      "    return a + b\n",
      "\n",
      "#if __name__ == '__main__':\n",
      "import doctest\n",
      "doctest.testmod()\n"
     ],
     "language": "python",
     "metadata": {},
     "outputs": [
      {
       "metadata": {},
       "output_type": "pyout",
       "prompt_number": 23,
       "text": [
        "TestResults(failed=0, attempted=4)"
       ]
      }
     ],
     "prompt_number": 23
    },
    {
     "cell_type": "code",
     "collapsed": false,
     "input": [
      "print list(n.random.randn(20)*1000)"
     ],
     "language": "python",
     "metadata": {},
     "outputs": [
      {
       "output_type": "stream",
       "stream": "stdout",
       "text": [
        "[-653.79116572766691, 487.20209159506686, -1683.7969343430511, -681.85341778816542, -490.82464027127884, -456.72780286536494, -683.29648054923473, 1079.4960144133083, -1649.1331653998573, 198.97273092263697, 925.72300657354367, 1153.5643080061998, -25.578773696034702, -488.17497026318836, 274.9940977784637, -18.845465630672383, 50.306458115569633, -18.76798478896, -724.01976174478773, 1417.8075719760191]\n"
       ]
      }
     ],
     "prompt_number": 32
    },
    {
     "cell_type": "code",
     "collapsed": false,
     "input": [
      "#assert n.array([1,2,3]) == n.all(n.array([1,2,3]))\n",
      "#assert 1 == 2\n",
      "import pytest as pp\n",
      "#from pytest import *\n",
      "import unittest as u\n",
      "class t1(u.TestCase):\n",
      "    def t11(self):\n",
      "        u.TestCase.assertEquals()\n",
      "\n",
      "from nose.tools import *\n",
      "assert_equals([1,2,3,4],[1,2,3,4])"
     ],
     "language": "python",
     "metadata": {},
     "outputs": [],
     "prompt_number": 77
    },
    {
     "cell_type": "code",
     "collapsed": false,
     "input": [
      "ds = n.array([2,3,4,5,6], dtype=float)\n",
      "print ds / ds[1]"
     ],
     "language": "python",
     "metadata": {},
     "outputs": [
      {
       "output_type": "stream",
       "stream": "stdout",
       "text": [
        "[ 0.66666667  1.          1.33333333  1.66666667  2.        ]\n"
       ]
      }
     ],
     "prompt_number": 88
    }
   ],
   "metadata": {}
  }
 ]
}