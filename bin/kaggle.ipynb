{
 "metadata": {
  "name": ""
 },
 "nbformat": 3,
 "nbformat_minor": 0,
 "worksheets": [
  {
   "cells": [
    {
     "cell_type": "code",
     "collapsed": false,
     "input": [
      "t = 0\n",
      "for i in range(1000):\n",
      "  if i%3==0 or i%5==0:\n",
      "    t = t + i\n",
      "  else:\n",
      "    continue\n",
      "t"
     ],
     "language": "python",
     "metadata": {},
     "outputs": []
    },
    {
     "cell_type": "code",
     "collapsed": false,
     "input": [
      "lambda n: i%3==0: continue"
     ],
     "language": "python",
     "metadata": {},
     "outputs": []
    },
    {
     "cell_type": "code",
     "collapsed": false,
     "input": [
      "import pandas as p\n",
      "import numpy as na"
     ],
     "language": "python",
     "metadata": {},
     "outputs": []
    },
    {
     "cell_type": "code",
     "collapsed": false,
     "input": [
      "flist = []\n",
      "for i in range(3):\n",
      "    flist.append(lambda: i)\n",
      "[w() for w in flist] # what will this print out?"
     ],
     "language": "python",
     "metadata": {},
     "outputs": []
    },
    {
     "cell_type": "code",
     "collapsed": false,
     "input": [
      "knnBenchmark = p.read_csv('/kaggle/digitRecognizer/knn_benchmark.csv')\n",
      "test = p.read_csv('/kaggle/digitRecognizer/test.csv')\n",
      "train = p.read_csv('/kaggle/digitRecognizer/train.csv')"
     ],
     "language": "python",
     "metadata": {},
     "outputs": []
    },
    {
     "cell_type": "code",
     "collapsed": false,
     "input": [
      "import theano.tensor as T\n",
      "from theano import function\n",
      "import numpy as np\n",
      "import pprint\n",
      "def test_theano_matrix():\n",
      "   pp = pprint.PrettyPrinter(indent=3)\n",
      "   W= T.fmatrix()\n",
      "   x=T.fvector()\n",
      "   b= T.fvector()\n",
      "   y = T.dot(W,x) + b\n",
      "   lin_func = function([W,x,b],y)\n",
      "   dt = np.dtype(np.float32)\n",
      "   w_inp = np.matrix('1 0;0 1',dtype=dt)\n",
      "   print w_inp\n",
      "   x_inp = np.matrix('2;1',dtype=dt)\n",
      "   b_inp = np.matrix('0;0',dtype=dt)\n",
      "   lin_func([w_inp,x_inp,b_inp], y)\n",
      "test_theano_matrix()"
     ],
     "language": "python",
     "metadata": {},
     "outputs": []
    },
    {
     "cell_type": "code",
     "collapsed": false,
     "input": [
      "# theano example 1\n",
      "import theano\n",
      "from theano import tensor as T\n",
      "a = T.scalar()\n",
      "b = T.scalar()\n",
      "y = a * b\n",
      "#y = n.dot(a,b)\n",
      "multiply = theano.function(inputs=[a, b], outputs=y)\n",
      "print multiply(1,2)\n",
      "print multiply(3,3)"
     ],
     "language": "python",
     "metadata": {},
     "outputs": []
    },
    {
     "cell_type": "code",
     "collapsed": false,
     "input": [
      "import numpy as n\n",
      "print n.matrix('1; 2; 2; 3')"
     ],
     "language": "python",
     "metadata": {},
     "outputs": []
    },
    {
     "cell_type": "code",
     "collapsed": false,
     "input": [
      "# theano exmaple 2\n",
      "import theano\n",
      "from theano import tensor as T\n",
      "import numpy as np\n",
      "trX = np.linspace(-1,1,101)\n",
      "trY = 2 * trX * np.random.randn(*trX.shape) * 0.33\n",
      "#print trX\n",
      "#print trY\n",
      "X = T.scalar()\n",
      "Y = T.scalar()\n",
      "\n",
      "def model(X,w):\n",
      "    return X * w\n",
      "\n",
      "w = theano.shared(np.asarray(0., dtype=theano.config.floatX))\n",
      "y = model(X,w)\n",
      "\n",
      "cost = T.mean(T.sqr(y - Y))\n",
      "gradient = T.grad(cost=cost, wrt=w)\n",
      "updates = [[w, w - gradient * 0.01]]\n",
      "\n",
      "train = theano.function(inputs=[X, Y], outputs=cost, updates=updates, allow_input_downcast=True)\n",
      "\n",
      "for i in range(100):\n",
      "    for x, y in zip(trX, trY):\n",
      "        #print trX\n",
      "        train(x, y)\n",
      "        ''\n",
      "    print \"train iteration: {0}\".format(i)"
     ],
     "language": "python",
     "metadata": {},
     "outputs": []
    },
    {
     "cell_type": "code",
     "collapsed": false,
     "input": [
      "import matplotlib.image as mping\n",
      "import matplotlib.pylab as plt\n",
      "print len(test.ix[0,:])\n",
      "hw = n.sqrt(len(test.ix[0,:]))\n",
      "print hw\n",
      "for i in xrange(3):\n",
      "    plt.imshow(test.ix[i,:].get_values().reshape(hw, hw)); show();"
     ],
     "language": "python",
     "metadata": {},
     "outputs": []
    },
    {
     "cell_type": "code",
     "collapsed": false,
     "input": [
      "#print knnBenchmark\n",
      "print test"
     ],
     "language": "python",
     "metadata": {},
     "outputs": []
    },
    {
     "cell_type": "code",
     "collapsed": false,
     "input": [
      "#print knnBenchmark\n",
      "X = knnBenchmark.ix[:,0]\n",
      "Y = knnBenchmark.ix[:,1]\n",
      "\n",
      "print X.dtypes\n",
      "print Y.dtypes"
     ],
     "language": "python",
     "metadata": {},
     "outputs": []
    },
    {
     "cell_type": "code",
     "collapsed": false,
     "input": [
      "from pylab import rcParams\n",
      "rcParams['figure.figsize'] = 20, 5\n",
      "import pandas as p\n",
      "import numpy as n"
     ],
     "language": "python",
     "metadata": {},
     "outputs": []
    },
    {
     "cell_type": "code",
     "collapsed": false,
     "input": [
      "import datetime as d\n",
      "def cdate(dt):\n",
      "    des = dt.split(' ')\n",
      "    da = des[0].split('/')\n",
      "    da = list(n.array(da, dtype=int))\n",
      "    ti = des[1].split(':')\n",
      "    ti = list(n.array(ti, dtype=int))\n",
      "    #print da\n",
      "    #print ti\n",
      "    return d.datetime(da[2], da[1], da[0], ti[0], ti[1])"
     ],
     "language": "python",
     "metadata": {},
     "outputs": []
    },
    {
     "cell_type": "code",
     "collapsed": false,
     "input": [
      "import re\n",
      "fp = open('/kaggle/private/noises2.txt','r')\n",
      "txt = fp.read().replace('\\r\\n',\"\\n\")\n",
      "#print txt\n",
      "res = re.match(re.compile(r'.*?Content-Type: text.+?\\n(.*?)--.*', re.S), txt).groups()\n",
      "res = res[0].strip()\n",
      "res = res.split('====')\n",
      "dfs = p.DataFrame()\n",
      "for i in res:\n",
      "    #print i\n",
      "    try:\n",
      "        resi = re.match(re.compile(r'(.+)Details:\\n(.*)', re.S), i).groups()\n",
      "        resih = resi[0].replace('\\n','').split(' ')\n",
      "        resi = resi[1].split('\\n')\n",
      "        li = []\n",
      "        for j in resi:\n",
      "            j = j.split(' ')\n",
      "            try:\n",
      "                j.append(cdate(\"{0} {1}\".format(j[0], j[1])))\n",
      "                j.append(1)\n",
      "            except:\n",
      "                ''\n",
      "            li.append(j)\n",
      "        try:\n",
      "            df = p.DataFrame(li, columns=['date', 'time', 'bias', resih[1], 'amount']).ix[:,[resih[1], 'amount']]\n",
      "            #print resih[1]\n",
      "            g = df.groupby(resih[1])#.describe()\n",
      "            df = g.count()\n",
      "            df[resih[1]] = df['amount']\n",
      "            #df = df[resih[1]]\n",
      "            #print df\n",
      "            #print '---'\n",
      "        except:\n",
      "            ''\n",
      "        dfs = dfs.combine_first(df)\n",
      "        #print dfs\n",
      "    except AttributeError, e:\n",
      "        #print e\n",
      "        ''\n",
      "dfs = dfs.fillna(0)\n",
      "print dfs\n",
      "#plot(dfs)\n",
      "dfs.plot(style='-', legend=3); show()"
     ],
     "language": "python",
     "metadata": {},
     "outputs": []
    }
   ],
   "metadata": {}
  }
 ]
}