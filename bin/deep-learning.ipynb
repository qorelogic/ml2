{
 "metadata": {
  "name": ""
 },
 "nbformat": 3,
 "nbformat_minor": 0,
 "worksheets": [
  {
   "cells": [
    {
     "cell_type": "code",
     "collapsed": false,
     "input": [
      "# source: http://scikit-image.org/\n",
      "from skimage import data, io, filters\n",
      "image = data.coins() # or any NumPy array!\n",
      "edges = filters.sobel(image)\n",
      "io.imshow(edges)\n",
      "io.show()"
     ],
     "language": "python",
     "metadata": {},
     "outputs": []
    }
   ],
   "metadata": {}
  }
 ]
}