{
 "cells": [
  {
   "cell_type": "code",
   "execution_count": null,
   "metadata": {
    "collapsed": false
   },
   "outputs": [],
   "source": [
    "%reload_ext autoreload\n",
    "%autoreload 2\n",
    "import sys\n",
    "def defp(pt):\n",
    "    try:    sys.path.index(pt)\n",
    "    except: sys.path.append(pt)\n",
    "defp('/ml.dev/bin')\n",
    "defp('/ml.dev/lib/oanda/oandapy')\n",
    "from seo import SEO\n",
    "import pandas as p\n",
    "import numpy as n\n",
    "\n",
    "seo = SEO()"
   ]
  },
  {
   "cell_type": "code",
   "execution_count": null,
   "metadata": {
    "collapsed": false
   },
   "outputs": [],
   "source": [
    "res = seo.allInTitle('cheap flights')\n",
    "#print res\n",
    "print p.DataFrame(res, index=[0]).transpose()"
   ]
  },
  {
   "cell_type": "code",
   "execution_count": null,
   "metadata": {
    "collapsed": false,
    "scrolled": false
   },
   "outputs": [],
   "source": [
    "#fname = '/opt/data/seo/cheap-flights_Keyword Planner 2017-02-18 at 22-31-30.2.csv'\n",
    "fname = '/opt/data/seo/robo-advisor_Keyword Planner 2017-02-23 at 13-02-39.csv'\n",
    "#fname = '/opt/data/seo/betterment_Keyword Planner 2017-02-23 at 13-06-28.2.csv'\n",
    "csv = p.read_csv(fname, index_col=0)\n",
    "if not csv.index.is_monotonic_increasing:\n",
    "    csv = p.read_csv(fname)\n",
    "#csv['allintitle'] = csv['allintitle'].fillna(0)\n",
    "#csv[csv['allintitle'] > 0]\n",
    "print len(csv.index)\n",
    "pcsv = csv.sort_values(by='allintitle', ascending=False)\n",
    "def mapit(st):\n",
    "    st = st.replace('K', '000')\n",
    "    st = st.replace('M', '000000')\n",
    "    #return float(st)\n",
    "    return st\n",
    "\n",
    "pcsv['Monthly Searches'] = map(lambda x: mapit(x.split(' ')[2]), pcsv['Avg. Monthly Searches (exact match only)'])\n",
    "pcsv['Keyword Count'] = map(lambda x: len(x.split(' ')), pcsv['Keyword'])\n",
    "pcsv['Monthly Searches'] = p.to_numeric(pcsv['Monthly Searches'])\n",
    "pcsv = pcsv[pcsv['allintitle'] < 1000]\n",
    "pcsv = pcsv[pcsv['allintitle'] > 10]\n",
    "pcsv = pcsv[pcsv['Keyword Count'] > 1]\n",
    "pcsv['rank'] = pcsv['Monthly Searches'] / pcsv['allintitle']\n",
    "pcsv['rankN'] = normalizeme(pcsv['rank'])\n",
    "#pcsv['rankN'] = sigmoidme(pcsv['rank'])\n",
    "\n",
    "#print pcsv.dtypes\n",
    "pcsv.ix[:, ['Ad Group','Keyword','Keyword Count','Currency','Suggested bid','Avg. Monthly Searches (exact match only)','Monthly Searches','Competition','Suggested Bid','allintitle', 'rank', 'rankN']].sort_values(by='rank', ascending=False)"
   ]
  },
  {
   "cell_type": "code",
   "execution_count": null,
   "metadata": {
    "collapsed": false,
    "scrolled": true
   },
   "outputs": [],
   "source": [
    "%reload_ext autoreload\n",
    "%autoreload 2\n",
    "import sys\n",
    "def defp(pt):\n",
    "    try:    sys.path.index(pt)\n",
    "    except: sys.path.append(pt)\n",
    "defp('/ml.dev/bin')\n",
    "defp('/ml.dev/lib/oanda/oandapy')\n",
    "from qoreliquid import *\n",
    "import pandas as p\n",
    "import numpy as n\n",
    "\n",
    "seo = SEO()\n",
    "seo.populateAllintitle()"
   ]
  },
  {
   "cell_type": "code",
   "execution_count": null,
   "metadata": {
    "collapsed": false,
    "scrolled": true
   },
   "outputs": [],
   "source": [
    "seo.setBlockedServers(res['host'], res['port'])"
   ]
  },
  {
   "cell_type": "code",
   "execution_count": null,
   "metadata": {
    "collapsed": false,
    "scrolled": true
   },
   "outputs": [],
   "source": [
    "px = seo.setAuthorizationRequired(host='5.44.217.124', port=80, authorizationRequired=False)\n",
    "px = px[px['blocked_google.com'] == False]\n",
    "px = px[px['authorizationRequired'] == False]\n",
    "px"
   ]
  },
  {
   "cell_type": "code",
   "execution_count": null,
   "metadata": {
    "collapsed": false
   },
   "outputs": [],
   "source": [
    "def proxyServers(random=True, num=10, mark=1, authorizationRequired=False):\n",
    "    import random as rr\n",
    "    fname = '/mldev/lib/DataPipeline/proxies_numbeo.csv'\n",
    "    px = p.read_csv(fname, index_col=0)\n",
    "    if not px.index.is_monotonic_increasing:\n",
    "        px = p.read_csv(fname)    \n",
    "    print px\n",
    "    # filter\n",
    "    px = px[px['ssl'] == False].sort_values(by=['reliability', 'latency'], ascending=[False, True]).head(num).ix[:, 'host port'.split(' ')]\n",
    "    px['hostPort'] = map(lambda x: '%s:%s'%(px.ix[x, 'host'], px.ix[x, 'port']), px.index)\n",
    "    px['schema'] = 'http'\n",
    "    px = px.ix[:, 'hostPort host port schema'.split(' ')]\n",
    "    #print px\n",
    "    if random:\n",
    "        #rint = rr.randint(0,10-1)\n",
    "        rint = rr.choice(px.index)\n",
    "        #print px\n",
    "        #print dict(px.transpose()[rint])\n",
    "        #return {'url':'http://'+rr.choice(px)}\n",
    "        #return {'url':'http://'+px.ix[rint, 'hostPort']}\n",
    "        px = dict(px.transpose()[rint])\n",
    "        return px\n",
    "    else:\n",
    "        return px    \n",
    "\n",
    "#px = seo.proxyServers(False, 10)\n",
    "px = proxyServers(True, 1)\n",
    "px"
   ]
  },
  {
   "cell_type": "code",
   "execution_count": null,
   "metadata": {
    "collapsed": false
   },
   "outputs": [],
   "source": [
    "testGoogle(res)"
   ]
  },
  {
   "cell_type": "code",
   "execution_count": null,
   "metadata": {
    "collapsed": true
   },
   "outputs": [],
   "source": [
    "#http://stackoverflow.com/questions/30286293/make-requests-using-python-over-tor\n",
    "from torrequest import TorRequest\n",
    "\n",
    "with TorRequest() as tr:\n",
    "  response = tr.get('http://ipecho.net/plain')\n",
    "  print(response.text)  # not your IP address\n",
    "\n",
    "  tr.reset_identity()\n",
    "\n",
    "  response = tr.get('http://ipecho.net/plain')\n",
    "  print(response.text)  # another IP address, not yours"
   ]
  },
  {
   "cell_type": "code",
   "execution_count": null,
   "metadata": {
    "collapsed": false,
    "scrolled": false
   },
   "outputs": [],
   "source": [
    "res = req.get('http://proxyfor.eu/geo.php')\n",
    "tree = html.fromstring(res.text)\n",
    "#print res.text\n",
    "xresd = {}\n",
    "xresd.update({'host':tree.xpath('//div/div//table//tr//td[1]/text()')})\n",
    "xresd.update({'port':tree.xpath('//div/div//table//tr//td[2]/text()')})\n",
    "#xresd.update({'country':tree.xpath('//div/div//table//tr//td[3]/text()')})\n",
    "xresd.update({'anon':tree.xpath('//div/div//table//tr//td[4]/text()')})\n",
    "xresd.update({'speed':tree.xpath('//div/div//table//tr//td[5]/text()')})\n",
    "xresd.update({'check':tree.xpath('//div/div//table//tr//td[6]/text()')})\n",
    "#xresd.update({'':tree.xpath('//div/div//table//tr//td[1]/text()')})\n",
    "#print xresd\n",
    "proxydf = p.DataFrame(xresd)\n",
    "proxydf['speed'] = p.to_numeric(proxydf['speed'])\n",
    "print proxydf.sort('speed')\n",
    "print proxydf.dtypes"
   ]
  },
  {
   "cell_type": "code",
   "execution_count": null,
   "metadata": {
    "collapsed": false,
    "scrolled": false
   },
   "outputs": [],
   "source": [
    "# source: http://stackoverflow.com/questions/6150108/python-how-to-pretty-print-html-into-a-file\n",
    "from BeautifulSoup import BeautifulSoup as bs\n",
    "root = res.text\n",
    "#root=lh.tostring(sliderRoot) #convert the generated HTML to a string\n",
    "soup=bs(root)                #make BeautifulSoup\n",
    "prettyHTML=soup.prettify()   #prettify the html\n",
    "#print prettyHTML"
   ]
  },
  {
   "cell_type": "code",
   "execution_count": null,
   "metadata": {
    "collapsed": false,
    "scrolled": false
   },
   "outputs": [],
   "source": [
    "# proxies\n",
    "# https://www.google.com.ar/search?q=python+requests+proxy&oq=python+requests+proxy&aqs=chrome..69i57.15891j0j1&client=ubuntu&sourceid=chrome&ie=UTF-8#q=python+requests+random+proxy\n",
    "# http://willdrevo.com/using-a-proxy-with-a-randomized-user-agent-in-python-requests/\n",
    "http://willdrevo.com/public/text/user_agents.txt\n",
    "http://www.doc.ic.ac.uk/~pg1712/blog/python-proxy/\n",
    "    https://www.proxicity.io/api/v1/APIKEY/proxy"
   ]
  },
  {
   "cell_type": "code",
   "execution_count": null,
   "metadata": {
    "collapsed": false
   },
   "outputs": [],
   "source": []
  }
 ],
 "metadata": {
  "kernelspec": {
   "display_name": "Python 2",
   "language": "python",
   "name": "python2"
  },
  "language_info": {
   "codemirror_mode": {
    "name": "ipython",
    "version": 2
   },
   "file_extension": ".py",
   "mimetype": "text/x-python",
   "name": "python",
   "nbconvert_exporter": "python",
   "pygments_lexer": "ipython2",
   "version": "2.7.6"
  }
 },
 "nbformat": 4,
 "nbformat_minor": 0
}
