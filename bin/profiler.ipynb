{
 "metadata": {
  "name": ""
 },
 "nbformat": 3,
 "nbformat_minor": 0,
 "worksheets": [
  {
   "cells": [
    {
     "cell_type": "code",
     "collapsed": false,
     "input": [
      "# source: http://pynash.org/2013/03/06/timing-and-profiling.html\n",
      "\n",
      "# With the latest memory_profiler (0.24) you can load the IPython magic functions \n",
      "# using \"%load_ext memory_profiler\", no need to edit the IPython config file :-)\n",
      "# source: comment from Fabian Pedregosa"
     ],
     "language": "python",
     "metadata": {},
     "outputs": [],
     "prompt_number": 14
    },
    {
     "cell_type": "code",
     "collapsed": false,
     "input": [
      "%reload_ext memory_profiler\n",
      "%reload_ext line_profiler"
     ],
     "language": "python",
     "metadata": {},
     "outputs": [],
     "prompt_number": 6
    },
    {
     "cell_type": "code",
     "collapsed": false,
     "input": [
      "#Timing and Profiling in IPython\n",
      "#Timing and profiling code is all sorts of useful, and it\u2019s also just good ol\u2019 fashioned fun (and sometimes surprising!). In this post, I\u2019ll introduce how to do the following through IPython magic functions:\n",
      "#\n",
      "#%time & %timeit: See how long a script takes to run (one time, or averaged over a bunch of runs).\n",
      "#%prun: See how long it took each function in a script to run.\n",
      "#%lprun: See how long it took each line in a function to run.\n",
      "#%mprun & %memit: See how much memory a script uses (line-by-line, or averaged over a bunch of runs).\n",
      "#Installation & Setup\n",
      "#Please make sure you\u2019re running IPython 0.11 or greater. This post was authored against Python 2.7 and IPython 0.13.1.\n",
      "\n",
      "#$ pip install ipython\n",
      "#$ ipython --version\n",
      "#0.13.1\n",
      "#Most of the functionality we\u2019ll work with is included in the standard library, but if you\u2019re interested in line-by-line or memory profiling, go ahead and run through this setup. First, install the following:\n",
      "\n",
      "#$ pip install line-profiler\n",
      "#$ pip install psutil\n",
      "#$ pip install memory_profiler\n",
      "#Next, create an IPython profile and extensions directory where we\u2019ll configure a couple of missing magic functions:\n",
      "\n",
      "#$ ipython profile create\n",
      "#[ProfileCreate] Generating default config file: u'/Users/tsclausing/.ipython/profile_default/ipython_config.py'\n",
      "\n",
      "#$ mkdir ~/.ipython/extensions/\n",
      "#Create the following IPython extention files with the contents below to define the magic functions:\n",
      "\n",
      "#~/.ipython/extensions/line_profiler_ext.py\n",
      "\n",
      "import line_profiler\n",
      "\n",
      "def load_ipython_extension(ip):\n",
      "    ip.define_magic('lprun', line_profiler.magic_lprun)\n",
      "\n",
      "#~/.ipython/extensions/memory_profiler_ext.py\n",
      "\n",
      "import memory_profiler\n",
      "\n",
      "def load_ipython_extension(ip):\n",
      "    ip.define_magic('memit', memory_profiler.magic_memit)\n",
      "    ip.define_magic('mprun', memory_profiler.magic_mprun)\n",
      "\n",
      "#Finally, register the extension modules you just created with the default IPython profile we made earlier:\n",
      "\n",
      "#Edit ~/.ipython/profile_default/ipython_config.py, search for, uncomment, and modify these lists to include:\n",
      "\n",
      "c.TerminalIPythonApp.extensions = [\n",
      "    'line_profiler_ext',\n",
      "    'memory_profiler_ext',\n",
      "]\n",
      "c.InteractiveShellApp.extensions = [\n",
      "    'line_profiler_ext',\n",
      "    'memory_profiler_ext',\n",
      "]\n",
      "#And that\u2019s it! We\u2019re ready to time and profile to our hearts content. Start ipython and test for the following:\n"
     ],
     "language": "python",
     "metadata": {},
     "outputs": []
    },
    {
     "cell_type": "code",
     "collapsed": false,
     "input": [
      "#$ ipython\n",
      "#Python 2.7.2 (default, Jun 20 2012, 16:23:33)\n",
      "#Type \"copyright\", \"credits\" or \"license\" for more information.\n",
      "\n",
      "#IPython 0.13.1 -- An enhanced Interactive Python."
     ],
     "language": "python",
     "metadata": {},
     "outputs": []
    },
    {
     "cell_type": "code",
     "collapsed": false,
     "input": [
      "?\n",
      "#-> Introduction and overview of IPython's features."
     ],
     "language": "python",
     "metadata": {},
     "outputs": [],
     "prompt_number": 41
    },
    {
     "cell_type": "code",
     "collapsed": false,
     "input": [
      "%quickref\n",
      "#-> Quick reference."
     ],
     "language": "python",
     "metadata": {},
     "outputs": [],
     "prompt_number": 39
    },
    {
     "cell_type": "code",
     "collapsed": false,
     "input": [
      "help\n",
      "#-> Python's own help system."
     ],
     "language": "python",
     "metadata": {},
     "outputs": [],
     "prompt_number": 42
    },
    {
     "cell_type": "code",
     "collapsed": false,
     "input": [
      "object?\n",
      "# -> Details about 'object', use 'object??' for extra details."
     ],
     "language": "python",
     "metadata": {},
     "outputs": [],
     "prompt_number": 42
    },
    {
     "cell_type": "code",
     "collapsed": false,
     "input": [
      "%time?"
     ],
     "language": "python",
     "metadata": {},
     "outputs": [],
     "prompt_number": 33
    },
    {
     "cell_type": "code",
     "collapsed": false,
     "input": [
      "%timeit?"
     ],
     "language": "python",
     "metadata": {},
     "outputs": []
    },
    {
     "cell_type": "code",
     "collapsed": false,
     "input": [
      "%prun?"
     ],
     "language": "python",
     "metadata": {},
     "outputs": []
    },
    {
     "cell_type": "code",
     "collapsed": false,
     "input": [
      "%lprun?"
     ],
     "language": "python",
     "metadata": {},
     "outputs": []
    },
    {
     "cell_type": "code",
     "collapsed": false,
     "input": [
      "%mprun?"
     ],
     "language": "python",
     "metadata": {},
     "outputs": []
    },
    {
     "cell_type": "code",
     "collapsed": false,
     "input": [
      "%memit?"
     ],
     "language": "python",
     "metadata": {},
     "outputs": []
    },
    {
     "cell_type": "code",
     "collapsed": false,
     "input": [
      "# Time Profiling\n",
      "# Time profiling does exactly what it sounds like - it tells you how much time it took to execute a script, \n",
      "# which may be a simple one-liner or a whole module.\n",
      "%time {1 for i in xrange(10*1000000)}"
     ],
     "language": "python",
     "metadata": {},
     "outputs": [
      {
       "output_type": "stream",
       "stream": "stdout",
       "text": [
        "CPU times: user 2.42 s, sys: 16 ms, total: 2.43 s\n",
        "Wall time: 2.41 s\n"
       ]
      },
      {
       "metadata": {},
       "output_type": "pyout",
       "prompt_number": 1,
       "text": [
        "{1}"
       ]
      }
     ],
     "prompt_number": 1
    },
    {
     "cell_type": "code",
     "collapsed": false,
     "input": [
      "%timeit 10*1000000"
     ],
     "language": "python",
     "metadata": {},
     "outputs": [
      {
       "output_type": "stream",
       "stream": "stdout",
       "text": [
        "10000000 loops, best of 3: 134 ns per loop\n"
       ]
      }
     ],
     "prompt_number": 2
    },
    {
     "cell_type": "code",
     "collapsed": false,
     "input": [
      "#%time\n",
      "\n",
      "#See how long it takes a script to run.\n",
      "%time {1 for i in xrange(10*1000000)}\n",
      "#CPU times: user 0.72 s, sys: 0.16 s, total: 0.88 s\n",
      "#Wall time: 0.75 s"
     ],
     "language": "python",
     "metadata": {},
     "outputs": [
      {
       "output_type": "stream",
       "stream": "stdout",
       "text": [
        "CPU times: user 2.4 s, sys: 4 ms, total: 2.4 s\n",
        "Wall time: 2.4 s\n"
       ]
      },
      {
       "metadata": {},
       "output_type": "pyout",
       "prompt_number": 3,
       "text": [
        "{1}"
       ]
      }
     ],
     "prompt_number": 3
    },
    {
     "cell_type": "code",
     "collapsed": false,
     "input": [
      "#%timeit\n",
      "\n",
      "#See how long a script takes to run averaged over multiple runs.\n",
      "%timeit 10*1000000\n",
      "#10000000 loops, best of 3: 38.2 ns per loop\n",
      "#%timeit will limit the number of runs depending on how long the script takes to execute. \n",
      "#Keep in mind that the timeit module in the standard library does not do this by default, \n",
      "#so timing long running scripts that way may leave you waiting forever."
     ],
     "language": "python",
     "metadata": {},
     "outputs": [
      {
       "output_type": "stream",
       "stream": "stdout",
       "text": [
        "10000000 loops, best of 3: 135 ns per loop\n"
       ]
      }
     ],
     "prompt_number": 4
    },
    {
     "cell_type": "code",
     "collapsed": false,
     "input": [
      "#The number of runs may be set with with -n 1000, for example, which will limit %timeit to a thousand iterations, \n",
      "#like this:\n",
      "%timeit -n 1000 10*1000000\n",
      "#1000 loops, best of 3: 67 ns per loop\n",
      "#Also note that the run-time reported will vary more when limited to fewer loops."
     ],
     "language": "python",
     "metadata": {},
     "outputs": [
      {
       "output_type": "stream",
       "stream": "stdout",
       "text": [
        "1000 loops, best of 3: 137 ns per loop\n"
       ]
      }
     ],
     "prompt_number": 6
    },
    {
     "cell_type": "code",
     "collapsed": false,
     "input": [
      "#%prun\n",
      "\n",
      "#See how long it took each function in a script to run.\n",
      "from time import sleep\n",
      "\n",
      "def foo(): sleep(1)\n",
      "\n",
      "def bar(): sleep(2)\n",
      "\n",
      "def baz(): foo(), bar()\n",
      "\n",
      "%prun baz()\n",
      "#7 function calls in 3.001 seconds\n",
      "\n",
      "#Ordered by: internal time\n",
      "\n",
      "#ncalls  tottime  percall  cumtime  percall filename:lineno(function)\n",
      "#     2    3.001    1.500    3.001    1.500 {time.sleep}\n",
      "#     1    0.000    0.000    3.001    3.001 <ipython-input-17-c32ce4852c7d>:1(baz)\n",
      "#     1    0.000    0.000    2.000    2.000 <ipython-input-11-2689ca7390dc>:1(bar)\n",
      "#     1    0.000    0.000    1.001    1.001 <ipython-input-10-e11af1cc2c91>:1(foo)\n",
      "#     1    0.000    0.000    3.001    3.001 <string>:1(<module>)\n",
      "#     1    0.000    0.000    0.000    0.000 {method 'disable' of '_lsprof.Profiler' objects}\n",
      "#%lprun"
     ],
     "language": "python",
     "metadata": {},
     "outputs": [
      {
       "output_type": "stream",
       "stream": "stdout",
       "text": [
        "\n"
       ]
      }
     ],
     "prompt_number": 7
    },
    {
     "cell_type": "code",
     "collapsed": false,
     "input": [
      "#See how long it took each line in a function to run.\n",
      "\n",
      "#Create and edit a new module named foo.py in the same directory where you started IPython. Paste the following code in the file and jump back to IPython.\n",
      "\n",
      "def foo(n):\n",
      "    phrase = 'repeat me'\n",
      "    pmul = phrase * n\n",
      "    pjoi = ''.join([phrase for x in xrange(n)])\n",
      "    pinc = ''\n",
      "    for x in xrange(n):\n",
      "        pinc += phrase\n",
      "    del pmul, pjoi, pinc\n",
      "#Import the function and profile it line by line with %lprun. Functions to profile this way must be passed by name with -f.\n",
      "\n",
      "#In [15]: from foo import foo\n",
      "\n",
      "%lprun -f foo foo(100000)\n",
      "\n",
      "#Timer unit: 1e-06 s\n",
      "\n",
      "#File: foo.py\n",
      "#Function: foo at line 1\n",
      "#Total time: 0.301032 s\n",
      "\n",
      "#Line #      Hits         Time  Per Hit   % Time  Line Contents\n",
      "#==============================================================\n",
      "#     1                                           def foo(n):\n",
      "#     2         1            3      3.0      0.0      phrase = 'repeat me'\n",
      "#     3         1          185    185.0      0.1      pmul = phrase * n\n",
      "#     4    100001        97590      1.0     32.4      pjoi = ''.join([phrase for x in xrange(n)])\n",
      "#     5         1            4      4.0      0.0      pinc = ''\n",
      "#     6    100001        90133      0.9     29.9      for x in xrange(n):\n",
      "#     7    100000       112935      1.1     37.5          pinc += phrase\n",
      "#     8         1          182    182.0      0.1      del pmul, pjoi, pinc"
     ],
     "language": "python",
     "metadata": {},
     "outputs": [],
     "prompt_number": 18
    },
    {
     "cell_type": "code",
     "collapsed": false,
     "input": [
      "#Memory Profiling\n",
      "#%mprun\n",
      "\n",
      "#See how much memory a script uses line by line. Let\u2019s take a look at the same foo() function that we profiled with %lprun - except this time we\u2019re interested in incremental memory usage and not execution time.\n",
      "\n",
      "%mprun -f foo foo(100000)\n",
      "%mprun foo(100000)\n",
      "#Filename: foo.py\n",
      "\n",
      "#Line #    Mem usage    Increment   Line Contents\n",
      "#================================================\n",
      "#     1    20.590 MB     0.000 MB   def foo(n):\n",
      "#     2    20.590 MB     0.000 MB       phrase = 'repeat me'\n",
      "#     3    21.445 MB     0.855 MB       pmul = phrase * n\n",
      "#     4    25.020 MB     3.574 MB       pjoi = ''.join([phrase for x in xrange(n)])\n",
      "#     5    25.020 MB     0.000 MB       pinc = ''\n",
      "#     6    43.594 MB    18.574 MB       for x in xrange(n):\n",
      "#     7    43.594 MB     0.000 MB           pinc += phrase\n",
      "#     8    41.102 MB    -2.492 MB       del pmul, pjoi, pinc"
     ],
     "language": "python",
     "metadata": {},
     "outputs": [
      {
       "output_type": "stream",
       "stream": "stdout",
       "text": [
        "('',)\n"
       ]
      }
     ],
     "prompt_number": 20
    },
    {
     "cell_type": "code",
     "collapsed": false,
     "input": [
      "#%memit\n",
      "#See how much memory a script uses overall. %memit works a lot like %timeit except that the number of iterations is set with -r instead of -n.\n",
      "\n",
      "%memit -r 3 [x for x in xrange(1000000)]\n",
      "#maximum of 3: 75.320312 MB per loop\n",
      "#What do you know?\n",
      "#Please leave other tips & tools in the comments below. I remember a while back seeing a video from someone who built a profiling visualization in matplotlib, but I haven\u2019t been able to dig it up. If you find it, please post it here, too!"
     ],
     "language": "python",
     "metadata": {},
     "outputs": [
      {
       "output_type": "stream",
       "stream": "stderr",
       "text": [
        "ERROR: Line magic function `%memit` not found.\n"
       ]
      }
     ],
     "prompt_number": 13
    }
   ],
   "metadata": {}
  }
 ]
}