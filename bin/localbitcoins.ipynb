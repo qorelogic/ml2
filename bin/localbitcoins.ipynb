{
 "cells": [
  {
   "cell_type": "code",
   "execution_count": null,
   "metadata": {
    "collapsed": false
   },
   "outputs": [],
   "source": [
    "%reload_ext autoreload\n",
    "%autoreload 2\n",
    "%reload_ext memory_profiler\n",
    "%reload_ext line_profiler\n",
    "%pylab inline\n",
    "from pylab import rcParams\n",
    "rcParams['figure.figsize'] = 20, 5\n",
    "from localbitcoins import LocalBitcoins"
   ]
  },
  {
   "cell_type": "code",
   "execution_count": null,
   "metadata": {
    "collapsed": false
   },
   "outputs": [],
   "source": [
    "import sys\n",
    "import os\n",
    "import numpy as n\n",
    "from oandaq import OandaQ\n",
    "import pandas as p\n",
    "\n",
    "os.environ['DREST_DEBUG'] = '1'\n",
    "\n",
    "# send a GET request for \"/api/myself/\"\n",
    "from api import LocalbitcoinsAPI\n",
    "api = LocalbitcoinsAPI()\n",
    "\n",
    "lb = LocalBitcoins()\n",
    "\n",
    "response = api.make_request('GET', '/api/myself/')\n",
    "print response.data\n",
    "#{u'data': {u'username': u'weipin', u'trading_partners_count': 0, u'feedback_count': 0, u'age_text': u'5\\xa0hours, 14\\xa0minutes', u'url': u'https://localbitcoins.com/p/weipin/', u'has_feedback': False, u'trusted_count': 0, u'feedbacks_unconfirmed_count': 0, u'blocked_count': 0, u'trade_volume_text': u'Less than 25 BTC', u'has_common_trades': False, u'feedback_score': u'N/A', u'confirmed_trade_count_text': u'0', u'created_at': u'2015-02-19T07:34:42+00:00'}}\n",
    "\n",
    "# send a POST request for \"/api/wallet-send/\"\n",
    "data = {'address': 'test address', 'amount': 0.0001}\n",
    "#response = api.make_request('POST', '/api/wallet-send/', data)\n",
    "#response = api.make_request('POST', '/api/wallet-send/', data)\n",
    "#DREST_DEBUG: method=POST url=https://localbitcoins.com/api/wallet-send/ params={'amount': 0.0001, 'address': 'test address'} headers={'Content-Type': 'application/json'}\n",
    "#('DREST_DEBUG: (response dict, get_or_post_params_urlencoded, message) =>', {u'error': {u'message': u'An unspecified error has occurred.', u'errors': {u'address': u'* Invalid Bitcoin address.'}, u'error_code': 9, u'error_lists': {u'address': [u'Invalid Bitcoin address.']}}}, 'amount=0.0001&address=test+address', u'142435030176473ce691d07dcdb74846499357743745b/api/wallet-send/amount=0.0001&address=test+address')\n",
    "#```"
   ]
  },
  {
   "cell_type": "code",
   "execution_count": null,
   "metadata": {
    "collapsed": false,
    "scrolled": false
   },
   "outputs": [],
   "source": [
    "res = api.make_request('GET', '/api/ads/')\n",
    "for i in res.data['data']['ad_list']:\n",
    "    print '==='\n",
    "    print i['data']['ad_id']\n",
    "    print p.DataFrame(i['data']).transpose()"
   ]
  },
  {
   "cell_type": "code",
   "execution_count": null,
   "metadata": {
    "collapsed": false,
    "scrolled": false
   },
   "outputs": [],
   "source": [
    "lb = LocalBitcoins()\n",
    "#lb.createAd(1.30, 'sell', 'es', 'ars', None)\n",
    "#amount = 99.50/420\n",
    "#lb.createAd(amount, 'buy', 'en', 'usd', 'okpay')\n",
    "#lb.createAd(1.30, 'sell', 'en', 'usd', None)\n",
    "lb.updateAds()"
   ]
  },
  {
   "cell_type": "code",
   "execution_count": null,
   "metadata": {
    "collapsed": false,
    "scrolled": false
   },
   "outputs": [],
   "source": [
    "from localbitcoins import LocalBitcoins\n",
    "lb = LocalBitcoins()\n",
    "#5 * 15\n",
    "#500.0/15\n",
    "#lb.contactCreate(500, 124756, 'es')\n",
    "#lb.contactCreate(20, 282893, 'en', online_provider='paypal')\n",
    "#lb.contactInfo(3653970)\n",
    "lb.dashboard()\n",
    "#lb.online_buy_contacts()\n",
    "print\n",
    "print\n",
    "lb.contact_mark_as_paid(3665788)\n",
    "print\n",
    "print\n",
    "lb.dashboard()\n"
   ]
  },
  {
   "cell_type": "code",
   "execution_count": null,
   "metadata": {
    "collapsed": false
   },
   "outputs": [],
   "source": [
    "lb.localbitcoinsPaymentMethods(country_code='US')\n",
    "#lb.localbitcoinsCountryCodes()\n",
    "#lb.localbitcoinsCurrencies()"
   ]
  },
  {
   "cell_type": "code",
   "execution_count": null,
   "metadata": {
    "collapsed": false
   },
   "outputs": [],
   "source": [
    "def defp(pt):\n",
    "    try:    sys.path.index(pt)\n",
    "    except: sys.path.append(pt)\n",
    "\n",
    "defp('/mldev/lib/bitcoin/1broker/aol1306_1broker-trading-API.github.py.git/')\n",
    "\n",
    "import API1brokerlib\n",
    "import json\n",
    "\n",
    "api = API1brokerlib.connection('')\n",
    "def view_history(api):\n",
    "    try:\n",
    "        print \"Press ctrl+c to exit\"\n",
    "        positions = api.position_list_history()\n",
    "        positions = json.loads(positions)\n",
    "        df = p.DataFrame(positions['response'])#.transpose()\n",
    "        df = df.convert_objects(convert_numeric=True)\n",
    "        df['profit_loss_USD'] = df['profit_loss'] * 420\n",
    "        print df\n",
    "        df.ix[:,'profit_loss_USD'].plot()\n",
    "        if positions[\"response\"] == []:\n",
    "            print \"No open positions\"\n",
    "        else:\n",
    "            for x in positions[\"response\"]:\n",
    "                print\n",
    "                print \"%s %s position: (ID: %s)\" % (x[\"symbol\"], x[\"direction\"], x[\"position_id\"])\n",
    "                print \"P/L %s (%s%%), P/L %s (%s%%), SL %s, TP %s\" % (x[\"profit_loss\"], x[\"profit_loss\"] * 420, x[\"profit_loss_percent\"], x[\"stop_loss\"], x[\"take_profit\"])\n",
    "                print \"leverage %s, entry price %s\" % (x[\"leverage\"], x[\"entry_price\"])\n",
    "            time.sleep(3)\n",
    "    except Exception as e:\n",
    "        print e\n",
    "        print \" Exited\"\n",
    "view_history(api)"
   ]
  },
  {
   "cell_type": "code",
   "execution_count": 231,
   "metadata": {
    "collapsed": false
   },
   "source": [
    "from IPython.display import display, clear_output\n",
    "import time, threading\n",
    "BTC_USD = 420\n",
    "USD_ARS = lb.getAmbitoUSDARSBlue()\n",
    "def defp(pt):\n",
    "    try:    sys.path.index(pt)\n",
    "    except: sys.path.append(pt)\n",
    "\n",
    "defp('/mldev/lib/bitcoin/1broker/aol1306_1broker-trading-API.github.py.git/')\n",
    "\n",
    "import API1brokerlib\n",
    "import json\n",
    "\n",
    "api = API1brokerlib.connection('API key here')\n",
    "res = api.account_info()\n",
    "res = json.loads(res)\n",
    "dfa = p.DataFrame(res['response'], index=[0]).transpose()\n",
    "#print dfa\n",
    "#print\n",
    "#print\n",
    "\"\"\"\n",
    "def t1():\n",
    "    clear_output()\n",
    "    print n.random.randn()\n",
    "    time.sleep(0.1)\n",
    "t = []\n",
    "for i in range(100):\n",
    "    t.append(threading.Thread(target=t1, args=[]))\n",
    "    t[i].daemon = False\n",
    "    t[i].start()\n",
    "\"\"\"\n",
    "def getSettings(fname=\"settings.json\"):\n",
    "    global settings\n",
    "    settings = {'balances' : []}\n",
    "    try:\n",
    "        # read settings\n",
    "        fh = open(fname, 'r')\n",
    "        settings = json.loads(fh.read())\n",
    "    except:\n",
    "        # write default settings\n",
    "        fh = open(fname, 'w')\n",
    "        fh.write(json.dumps(settings))\n",
    "    return settings\n",
    "        \n",
    "settings = getSettings(fname='data/1broker/balances.json')\n",
    "bals = settings['balances']\n",
    "balance_btc = float(dfa.ix['balance_btc', 0])\n",
    "bals.append(balance_btc)\n",
    "df = p.DataFrame(bals)\n",
    "df['BTC'] = df[0]\n",
    "df['USD'] = df['BTC'] * BTC_USD\n",
    "df['ARS'] = df['USD'] * USD_ARS\n",
    "df['1pBTC'] = df['BTC'] * 1 / 100\n",
    "df['1pUSD'] = df['USD'] * 1 / 100\n",
    "df['1pARS'] = df['ARS'] * 1 / 100\n",
    "#print df.ix[:,['BTC', 'USD', 'ARS']]\n",
    "print df.set_index(0).ix[:,:]"
   ]
  },
  {
   "cell_type": "code",
   "execution_count": null,
   "metadata": {
    "collapsed": false,
    "scrolled": false
   },
   "outputs": [],
   "source": [
    "currency='ARS'\n",
    "lb = LocalBitcoins()\n",
    "lb.localbitcoinsPublicAds(currency=currency, adtype='buy')\n",
    "print '================================================================================'\n",
    "lb.localbitcoinsPublicAds(currency=currency, adtype='sell')"
   ]
  },
  {
   "cell_type": "code",
   "execution_count": null,
   "metadata": {
    "collapsed": false,
    "scrolled": false
   },
   "outputs": [],
   "source": [
    "currency='USD'\n",
    "localbitcoinsPublicAds(currency=currency, adtype='buy')\n",
    "print '================================================================================'\n",
    "localbitcoinsPublicAds(currency=currency, adtype='sell')"
   ]
  },
  {
   "cell_type": "code",
   "execution_count": null,
   "metadata": {
    "collapsed": false,
    "scrolled": false
   },
   "outputs": [],
   "source": [
    "currency='GBP'\n",
    "localbitcoinsPublicAds(currency=currency, adtype='buy')\n",
    "print '================================================================================'\n",
    "localbitcoinsPublicAds(currency=currency, adtype='sell')"
   ]
  },
  {
   "cell_type": "code",
   "execution_count": null,
   "metadata": {
    "collapsed": false
   },
   "outputs": [],
   "source": [
    "a = n.array(['qwe','asd', 'zxc'])\n",
    "b = n.array(['qwe','asd', 'zxc'])\n",
    "n.core.defchararray.add(a, '123')"
   ]
  },
  {
   "cell_type": "code",
   "execution_count": null,
   "metadata": {
    "collapsed": false
   },
   "outputs": [],
   "source": [
    "oq = OandaQ()"
   ]
  },
  {
   "cell_type": "code",
   "execution_count": null,
   "metadata": {
    "collapsed": false,
    "scrolled": false
   },
   "outputs": [],
   "source": [
    "#localbitcoinsOrderbook(currency='USD')\n",
    "localbitcoinsTrades(currency='USD')"
   ]
  }
 ],
 "metadata": {
  "kernelspec": {
   "display_name": "Python 2",
   "language": "python",
   "name": "python2"
  },
  "language_info": {
   "codemirror_mode": {
    "name": "ipython",
    "version": 2
   },
   "file_extension": ".py",
   "mimetype": "text/x-python",
   "name": "python",
   "nbconvert_exporter": "python",
   "pygments_lexer": "ipython2",
   "version": "2.7.6"
  }
 },
 "nbformat": 4,
 "nbformat_minor": 0
}
