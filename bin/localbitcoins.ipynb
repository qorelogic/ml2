{
 "cells": [
  {
   "cell_type": "code",
   "execution_count": null,
   "metadata": {
    "collapsed": false
   },
   "outputs": [],
   "source": [
    "%reload_ext autoreload\n",
    "%autoreload 2\n",
    "%reload_ext memory_profiler\n",
    "%reload_ext line_profiler\n",
    "%pylab inline\n",
    "from pylab import rcParams\n",
    "rcParams['figure.figsize'] = 20, 5\n",
    "from localbitcoins import LocalBitcoins"
   ]
  },
  {
   "cell_type": "code",
   "execution_count": null,
   "metadata": {
    "collapsed": false
   },
   "outputs": [],
   "source": [
    "import sys\n",
    "import os\n",
    "import numpy as n\n",
    "from oandaq import OandaQ\n",
    "import pandas as p\n",
    "\n",
    "os.environ['DREST_DEBUG'] = '1'\n",
    "\n",
    "# send a GET request for \"/api/myself/\"\n",
    "from api import LocalbitcoinsAPI\n",
    "api = LocalbitcoinsAPI()\n",
    "\n",
    "lb = LocalBitcoins()\n",
    "\n",
    "response = api.make_request('GET', '/api/myself/')\n",
    "print response.data\n",
    "#{u'data': {u'username': u'weipin', u'trading_partners_count': 0, u'feedback_count': 0, u'age_text': u'5\\xa0hours, 14\\xa0minutes', u'url': u'https://localbitcoins.com/p/weipin/', u'has_feedback': False, u'trusted_count': 0, u'feedbacks_unconfirmed_count': 0, u'blocked_count': 0, u'trade_volume_text': u'Less than 25 BTC', u'has_common_trades': False, u'feedback_score': u'N/A', u'confirmed_trade_count_text': u'0', u'created_at': u'2015-02-19T07:34:42+00:00'}}\n",
    "\n",
    "# send a POST request for \"/api/wallet-send/\"\n",
    "data = {'address': 'test address', 'amount': 0.0001}\n",
    "#response = api.make_request('POST', '/api/wallet-send/', data)\n",
    "#response = api.make_request('POST', '/api/wallet-send/', data)\n",
    "#DREST_DEBUG: method=POST url=https://localbitcoins.com/api/wallet-send/ params={'amount': 0.0001, 'address': 'test address'} headers={'Content-Type': 'application/json'}\n",
    "#('DREST_DEBUG: (response dict, get_or_post_params_urlencoded, message) =>', {u'error': {u'message': u'An unspecified error has occurred.', u'errors': {u'address': u'* Invalid Bitcoin address.'}, u'error_code': 9, u'error_lists': {u'address': [u'Invalid Bitcoin address.']}}}, 'amount=0.0001&address=test+address', u'142435030176473ce691d07dcdb74846499357743745b/api/wallet-send/amount=0.0001&address=test+address')\n",
    "#```"
   ]
  },
  {
   "cell_type": "code",
   "execution_count": null,
   "metadata": {
    "collapsed": false,
    "scrolled": false
   },
   "outputs": [],
   "source": [
    "res = api.make_request('GET', '/api/ads/')\n",
    "for i in res.data['data']['ad_list']:\n",
    "    print '==='\n",
    "    print i['data']['ad_id']\n",
    "    print p.DataFrame(i['data']).transpose()"
   ]
  },
  {
   "cell_type": "code",
   "execution_count": null,
   "metadata": {
    "collapsed": false,
    "scrolled": false
   },
   "outputs": [],
   "source": [
    "lb = LocalBitcoins()\n",
    "#lb.createAd(1.30, 'sell', 'es', 'ars', None)\n",
    "#amount = 99.50/420\n",
    "#lb.createAd(amount, 'buy', 'en', 'usd', 'okpay')\n",
    "#lb.createAd(1.30, 'sell', 'en', 'usd', None)\n",
    "lb.updateAds()"
   ]
  },
  {
   "cell_type": "code",
   "execution_count": null,
   "metadata": {
    "collapsed": false,
    "scrolled": false
   },
   "outputs": [],
   "source": [
    "#5 * 15\n",
    "#500.0/15\n",
    "#lb.contactCreate(500, 124756, 'es')\n",
    "#lb.contactInfo(3653970)\n",
    "lb.dashboard()\n",
    "#lb.online_buy_contacts()\n",
    "#lb.contact_mark_as_paid(...)"
   ]
  },
  {
   "cell_type": "code",
   "execution_count": null,
   "metadata": {
    "collapsed": false,
    "scrolled": false
   },
   "outputs": [],
   "source": [
    "currency='ARS'\n",
    "lb = LocalBitcoins()\n",
    "lb.localbitcoinsPublicAds(currency=currency, adtype='buy')\n",
    "print '================================================================================'\n",
    "lb.localbitcoinsPublicAds(currency=currency, adtype='sell')"
   ]
  },
  {
   "cell_type": "code",
   "execution_count": null,
   "metadata": {
    "collapsed": false,
    "scrolled": false
   },
   "outputs": [],
   "source": [
    "currency='USD'\n",
    "localbitcoinsPublicAds(currency=currency, adtype='buy')\n",
    "print '================================================================================'\n",
    "localbitcoinsPublicAds(currency=currency, adtype='sell')"
   ]
  },
  {
   "cell_type": "code",
   "execution_count": null,
   "metadata": {
    "collapsed": false,
    "scrolled": false
   },
   "outputs": [],
   "source": [
    "currency='GBP'\n",
    "localbitcoinsPublicAds(currency=currency, adtype='buy')\n",
    "print '================================================================================'\n",
    "localbitcoinsPublicAds(currency=currency, adtype='sell')"
   ]
  },
  {
   "cell_type": "code",
   "execution_count": null,
   "metadata": {
    "collapsed": false
   },
   "outputs": [],
   "source": [
    "a = n.array(['qwe','asd', 'zxc'])\n",
    "b = n.array(['qwe','asd', 'zxc'])\n",
    "n.core.defchararray.add(a, '123')"
   ]
  },
  {
   "cell_type": "code",
   "execution_count": null,
   "metadata": {
    "collapsed": false
   },
   "outputs": [],
   "source": [
    "oq = OandaQ()"
   ]
  },
  {
   "cell_type": "code",
   "execution_count": null,
   "metadata": {
    "collapsed": false,
    "scrolled": false
   },
   "outputs": [],
   "source": [
    "#localbitcoinsOrderbook(currency='USD')\n",
    "localbitcoinsTrades(currency='USD')"
   ]
  }
 ],
 "metadata": {
  "kernelspec": {
   "display_name": "Python 2",
   "language": "python",
   "name": "python2"
  },
  "language_info": {
   "codemirror_mode": {
    "name": "ipython",
    "version": 2
   },
   "file_extension": ".py",
   "mimetype": "text/x-python",
   "name": "python",
   "nbconvert_exporter": "python",
   "pygments_lexer": "ipython2",
   "version": "2.7.6"
  }
 },
 "nbformat": 4,
 "nbformat_minor": 0
}
