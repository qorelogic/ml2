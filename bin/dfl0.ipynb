{
 "cells": [
  {
   "cell_type": "code",
   "execution_count": null,
   "metadata": {
    "collapsed": false,
    "scrolled": false
   },
   "outputs": [],
   "source": [
    "import pandas as p\n",
    "df = p.read_csv('/tmp/dfl0.csv')\n",
    "#.set_index('ts0')\n",
    "\n",
    "#print df.groupby('ts1')['ts0'].max()\n",
    "# http://stackoverflow.com/questions/15707746/python-how-can-i-get-rows-which-have-the-max-value-of-the-group-to-which-they\n",
    "df_by_second = df.groupby('ts1').apply(lambda t: t[t.ts0==t.ts0.max()])\n",
    "df_by_second = df_by_second.set_index('ts1')\n",
    "print df_by_second.ix[df_by_second.ix[:,'ts+15'], 'la']\n",
    "print df_by_second.ix[[1442932286, 1442932287, 1442933724], 'la']\n",
    "print df_by_second\n",
    "#print df.groupby('ts+2').apply(lambda t: t[t.ts0==t.ts0.max()])\n",
    "#print df.groupby('ts+3').apply(lambda t: t[t.ts0==t.ts0.max()])\n",
    "#print df.groupby('ts+5').apply(lambda t: t[t.ts0==t.ts0.max()])\n",
    "for i in [1,2,3,5,10,15,30,60,240,1440]:\n",
    "    df0 = df.groupby('ts+%s' % i).apply(lambda t: t[t.ts0==t.ts0.max()])\n",
    "    #df0 = df0.set_index('ts0')\n",
    "    #print df0"
   ]
  },
  {
   "cell_type": "code",
   "execution_count": null,
   "metadata": {
    "collapsed": false
   },
   "outputs": [],
   "source": [
    "print df.index.dtype\n",
    "#.dtypes"
   ]
  },
  {
   "cell_type": "code",
   "execution_count": null,
   "metadata": {
    "collapsed": true
   },
   "outputs": [],
   "source": [
    "df = p.read_csv('/tmp/df.csv')\n",
    "df = df.set_index('ts0')\n",
    "df_by_second = p.read_csv('/tmp/df_by_second.csv')\n",
    "df_by_second = df_by_second.set_index('ts0')"
   ]
  },
  {
   "cell_type": "code",
   "execution_count": null,
   "metadata": {
    "collapsed": false,
    "scrolled": true
   },
   "outputs": [],
   "source": [
    "df_by_second"
   ]
  },
  {
   "cell_type": "code",
   "execution_count": null,
   "metadata": {
    "collapsed": false
   },
   "outputs": [],
   "source": [
    "df"
   ]
  },
  {
   "cell_type": "code",
   "execution_count": null,
   "metadata": {
    "collapsed": false
   },
   "outputs": [],
   "source": [
    "dfc = p.concat([df, df_by_second]).sort()\n",
    "with p.option_context('display.max_rows', 2000, 'display.max_columns', 500):\n",
    "    print dfc"
   ]
  },
  {
   "cell_type": "code",
   "execution_count": null,
   "metadata": {
    "collapsed": false,
    "scrolled": true
   },
   "outputs": [],
   "source": [
    "#df['label+1'] = \n",
    "df_by_second.ix[df_by_second.ix[:,'ts+1'], :]#'la']"
   ]
  },
  {
   "cell_type": "code",
   "execution_count": null,
   "metadata": {
    "collapsed": false,
    "scrolled": true
   },
   "outputs": [],
   "source": [
    "for i in [1,2,3,5,10,15,30,60,240,1440]:\n",
    "    df_by_second['ts%s' % i] =  df_by_second.ix[df_by_second.ix[:, 'ts1'] % i == 0, 'ts1']\n",
    "df_by_second = df_by_second.ffill()\n",
    "df_by_second.groupby('ts1').apply(lambda t: t[t.ts1==t.ts1.max()])"
   ]
  }
 ],
 "metadata": {
  "kernelspec": {
   "display_name": "Python 2",
   "language": "python",
   "name": "python2"
  },
  "language_info": {
   "codemirror_mode": {
    "name": "ipython",
    "version": 2
   },
   "file_extension": ".py",
   "mimetype": "text/x-python",
   "name": "python",
   "nbconvert_exporter": "python",
   "pygments_lexer": "ipython2",
   "version": "2.7.6"
  }
 },
 "nbformat": 4,
 "nbformat_minor": 0
}
