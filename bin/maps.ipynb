{
 "cells": [
  {
   "cell_type": "code",
   "execution_count": null,
   "metadata": {
    "collapsed": false
   },
   "outputs": [],
   "source": [
    "import pandas as p\n",
    "import gmaps\n",
    "\n",
    "hdir = '/mldev/lib/crawlers/transport/jpatokal_openflights.github.py.git/data'\n",
    "\n",
    "data = gmaps.datasets.load_dataset('taxi_rides')\n",
    "\n",
    "maps = gmaps.heatmap(data)\n",
    "gmaps.display(maps)"
   ]
  },
  {
   "cell_type": "code",
   "execution_count": null,
   "metadata": {
    "collapsed": false,
    "scrolled": true
   },
   "outputs": [],
   "source": [
    "data = [ [ 37.782551,-122.445368 ],\n",
    "         [ 37.782745,-122.444586 ],\n",
    "         [ 37.782842,-122.443858 ] ]\n",
    "import numpy as n\n",
    "#data = n.array(data)\n",
    "data = [data[0], data[len(data)-1]]\n",
    "\n",
    "data2 = n.array(data)\n",
    "print data2\n",
    "\n",
    "d2 = n.zeros(10*2).reshape(10,2)\n",
    "def segmentCoordinates(data2, num):\n",
    "    data2 = n.array(data2)\n",
    "    d3 = n.zeros(num*2).reshape(num,2)\n",
    "    for i in xrange(0,len(d3)): d3[i] = (data2[0]-data2[len(data2)-1])*(i/float(num))+data2[0]\n",
    "    return d3\n",
    "\n",
    "d3 = segmentCoordinates(data, 100)\n",
    "print d3\n",
    "#gmaps.heatmap(d3)\n",
    "gmaps.heatmap?\n",
    "#gmaps.heatmap(data)"
   ]
  },
  {
   "cell_type": "code",
   "execution_count": null,
   "metadata": {
    "collapsed": false,
    "scrolled": true
   },
   "outputs": [],
   "source": [
    "p.read_csv(hdir+'/airlines.dat', header=None)"
   ]
  },
  {
   "cell_type": "code",
   "execution_count": null,
   "metadata": {
    "collapsed": false
   },
   "outputs": [],
   "source": [
    "ls /mldev/lib/crawlers/transport/jpatokal_openflights.github.py.git/data/*dat"
   ]
  },
  {
   "cell_type": "code",
   "execution_count": null,
   "metadata": {
    "collapsed": false,
    "scrolled": true
   },
   "outputs": [],
   "source": [
    "p.read_csv(hdir+'/airlines.dat', header=None)"
   ]
  },
  {
   "cell_type": "code",
   "execution_count": null,
   "metadata": {
    "collapsed": false
   },
   "outputs": [],
   "source": [
    "df = p.read_csv(hdir+'/airports-dafif.dat', header=None)\n",
    "print df.ix[9951, :].get_values()\n",
    "data = df.ix[[9951],[4,5]].get_values()\n",
    "print data\n",
    "#gmaps.heatmap?\n",
    "#gmaps.heatmap(data, height='400px', width='980px')"
   ]
  },
  {
   "cell_type": "code",
   "execution_count": null,
   "metadata": {
    "collapsed": false,
    "scrolled": true
   },
   "outputs": [],
   "source": [
    "p.read_csv(hdir+'/airports-dafif.dat', header=None)"
   ]
  },
  {
   "cell_type": "code",
   "execution_count": null,
   "metadata": {
    "collapsed": false
   },
   "outputs": [],
   "source": [
    "df = p.read_csv(hdir+'/airports.dat', header=None)\n",
    "#print df.ix[0, :].get_values()\n",
    "data = df.ix[:,[6,7]].get_values()\n",
    "#print data\n",
    "#print df\n",
    "#gmaps.heatmap?\n",
    "gmaps.heatmap(data, height='400px', width='980px', max_intensity=2, point_radius=8)"
   ]
  },
  {
   "cell_type": "code",
   "execution_count": null,
   "metadata": {
    "collapsed": false,
    "scrolled": true
   },
   "outputs": [],
   "source": [
    "p.read_csv(hdir+'/countries.dat', header=None)"
   ]
  },
  {
   "cell_type": "code",
   "execution_count": null,
   "metadata": {
    "collapsed": false,
    "scrolled": true
   },
   "outputs": [],
   "source": [
    "p.read_csv(hdir+'/routes.dat', header=None)"
   ]
  },
  {
   "cell_type": "code",
   "execution_count": null,
   "metadata": {
    "collapsed": false
   },
   "outputs": [],
   "source": [
    "ls /mldev/lib/crawlers/transport/jpatokal_openflights.github.py.git/data/AirlineRouteMapper/*dat"
   ]
  },
  {
   "cell_type": "code",
   "execution_count": null,
   "metadata": {
    "collapsed": false,
    "scrolled": true
   },
   "outputs": [],
   "source": [
    "p.read_csv(hdir+'/AirlineRouteMapper/airlines.dat', delimiter='\\t')"
   ]
  },
  {
   "cell_type": "code",
   "execution_count": null,
   "metadata": {
    "collapsed": false,
    "scrolled": false
   },
   "outputs": [],
   "source": [
    "p.read_csv(hdir+'/AirlineRouteMapper/airports.dat', delimiter='\\t')"
   ]
  },
  {
   "cell_type": "code",
   "execution_count": null,
   "metadata": {
    "collapsed": false
   },
   "outputs": [],
   "source": [
    "p.read_csv(hdir+'/AirlineRouteMapper/alliances.dat', delimiter='\\t')#.transpose()"
   ]
  },
  {
   "cell_type": "code",
   "execution_count": null,
   "metadata": {
    "collapsed": false,
    "scrolled": true
   },
   "outputs": [],
   "source": [
    "p.read_csv(hdir+'/AirlineRouteMapper/equipment.dat', header=None, delimiter='\\t')"
   ]
  },
  {
   "cell_type": "code",
   "execution_count": null,
   "metadata": {
    "collapsed": false,
    "scrolled": true
   },
   "outputs": [],
   "source": [
    "p.read_csv(hdir+'/AirlineRouteMapper/routes.dat', delimiter='\\t')"
   ]
  }
 ],
 "metadata": {
  "kernelspec": {
   "display_name": "Python 2",
   "language": "python",
   "name": "python2"
  },
  "language_info": {
   "codemirror_mode": {
    "name": "ipython",
    "version": 2
   },
   "file_extension": ".py",
   "mimetype": "text/x-python",
   "name": "python",
   "nbconvert_exporter": "python",
   "pygments_lexer": "ipython2",
   "version": "2.7.6"
  }
 },
 "nbformat": 4,
 "nbformat_minor": 0
}
