{
 "metadata": {
  "name": ""
 },
 "nbformat": 3,
 "nbformat_minor": 0,
 "worksheets": [
  {
   "cells": [
    {
     "cell_type": "code",
     "collapsed": false,
     "input": [
      "%reload_ext autoreload\n",
      "%autoreload 2\n",
      "from qoreliquid import *\n",
      "from pylab import rcParams\n",
      "rcParams['figure.figsize'] = 20, 5\n",
      "import pandas as p\n",
      "import numpy as n\n",
      "def defp(pt):\n",
      "    try:    sys.path.index(pt)\n",
      "    except: sys.path.append(pt)\n",
      "\n",
      "defp('/home/qore/sec-svn.git/assets')\n",
      "from qore_sec import microEconomy"
     ],
     "language": "python",
     "metadata": {},
     "outputs": []
    },
    {
     "cell_type": "code",
     "collapsed": false,
     "input": [
      "df = microEconomy()"
     ],
     "language": "python",
     "metadata": {},
     "outputs": []
    },
    {
     "cell_type": "code",
     "collapsed": false,
     "input": [
      "4032.70-1689.855-250-300\n",
      "2342.85"
     ],
     "language": "python",
     "metadata": {},
     "outputs": []
    },
    {
     "cell_type": "code",
     "collapsed": false,
     "input": [
      "oq = OandaQ()\n",
      "pairs = oq.prepPairsForOandaStream('EUR_USD')\n",
      "pairs\n",
      "#print 'streamlen: {0}'.format(len(pairs.split(',')))\n",
      "#print len(pairs.split(',')"
     ],
     "language": "python",
     "metadata": {},
     "outputs": []
    },
    {
     "cell_type": "code",
     "collapsed": false,
     "input": [
      "aa = [987,234,234,123,654,321]\n",
      "bb = [123,45667,678, 654]\n",
      "res = list(set(aa) & set(bb))\n",
      "res"
     ],
     "language": "python",
     "metadata": {},
     "outputs": []
    },
    {
     "cell_type": "code",
     "collapsed": false,
     "input": [
      "4032.70-1689.855-250-300\n",
      "2342.85"
     ],
     "language": "python",
     "metadata": {},
     "outputs": []
    },
    {
     "cell_type": "code",
     "collapsed": false,
     "input": [
      "aa = [987,234,234,123,654,321]\n",
      "bb = [123,45667,678, 654]\n",
      "res = list(set(aa) & set(bb))\n",
      "res"
     ],
     "language": "python",
     "metadata": {},
     "outputs": []
    },
    {
     "cell_type": "code",
     "collapsed": false,
     "input": [
      "calcMrLr()"
     ],
     "language": "python",
     "metadata": {},
     "outputs": []
    },
    {
     "cell_type": "code",
     "collapsed": false,
     "input": [
      "scratchFunc1()"
     ],
     "language": "python",
     "metadata": {},
     "outputs": []
    },
    {
     "cell_type": "code",
     "collapsed": false,
     "input": [
      "scratchFunc2()"
     ],
     "language": "python",
     "metadata": {},
     "outputs": []
    }
   ],
   "metadata": {}
  }
 ]
}