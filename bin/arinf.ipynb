{
 "metadata": {
  "name": ""
 },
 "nbformat": 3,
 "nbformat_minor": 0,
 "worksheets": [
  {
   "cells": [
    {
     "cell_type": "code",
     "collapsed": false,
     "input": [
      "%reload_ext autoreload\n",
      "%autoreload 2\n",
      "from qoreliquid import *\n",
      "from pylab import rcParams\n",
      "rcParams['figure.figsize'] = 20, 5\n",
      "import pandas as p\n",
      "import numpy as n\n",
      "def defp(pt):\n",
      "    try:    sys.path.index(pt)\n",
      "    except: sys.path.append(pt)\n",
      "\n",
      "defp('/home/qore/sec-svn.git/assets')\n",
      "\n",
      "from qore_sec import microEconomy"
     ],
     "language": "python",
     "metadata": {},
     "outputs": []
    },
    {
     "cell_type": "code",
     "collapsed": false,
     "input": [
      "df = microEconomy()"
     ],
     "language": "python",
     "metadata": {},
     "outputs": []
    },
    {
     "cell_type": "code",
     "collapsed": false,
     "input": [
      "calcMrLr()"
     ],
     "language": "python",
     "metadata": {},
     "outputs": []
    },
    {
     "cell_type": "code",
     "collapsed": false,
     "input": [
      "scratchFunc1()"
     ],
     "language": "python",
     "metadata": {},
     "outputs": []
    },
    {
     "cell_type": "code",
     "collapsed": false,
     "input": [
      "scratchFunc2()"
     ],
     "language": "python",
     "metadata": {},
     "outputs": []
    }
   ],
   "metadata": {}
  }
 ]
}