{
 "metadata": {
  "name": ""
 },
 "nbformat": 3,
 "nbformat_minor": 0,
 "worksheets": [
  {
   "cells": [
    {
     "cell_type": "code",
     "collapsed": false,
     "input": [
      "import pandas as p\n",
      "import numpy as n\n",
      "\n",
      "def log(num, st):\n",
      "    print st+': '+str(num)\n",
      "\n",
      "mR = 2400.0\n",
      "lR = 4000.0\n",
      "\n",
      "lr = []\n",
      "lr.append([lR, 'l rent'])\n",
      "lr.append([lR / 3.14, 'l rent usd'])\n",
      "lr.append([lR / 3.14 * 8,''])\n",
      "lr.append([lR / 3.14 * 10,''])\n",
      "lr.append([lR / 3.14 * 15,''])\n",
      "lr.append([lR / 3.14 * mean([8,10,15]),''])\n",
      "\n",
      "print p.DataFrame(lr)\n",
      "mr = []\n",
      "mr.append(mR / 3.14)\n",
      "mr.append(mR / 3.14 * 8)\n",
      "mr.append(mR / 3.14 * 10)\n",
      "mr.append(mR / 3.14 * 15)\n",
      "mr.append(mR / 3.14 * mean([8,10,15]))\n",
      "print p.DataFrame(mr)\n"
     ],
     "language": "python",
     "metadata": {},
     "outputs": [
      {
       "output_type": "stream",
       "stream": "stdout",
       "text": [
        "              0           1\n",
        "0   4000.000000      l rent\n",
        "1   1273.885350  l rent usd\n",
        "2  10191.082803            \n",
        "3  12738.853503            \n",
        "4  19108.280255            \n",
        "5  14012.738854            \n",
        "              0\n",
        "0    764.331210\n",
        "1   6114.649682\n",
        "2   7643.312102\n",
        "3  11464.968153\n",
        "4   8407.643312"
       ]
      },
      {
       "output_type": "stream",
       "stream": "stdout",
       "text": [
        "\n"
       ]
      }
     ],
     "prompt_number": 13
    },
    {
     "cell_type": "code",
     "collapsed": false,
     "input": [
      "r1 = [300,1800,674.4,168.6]\n",
      "r2 = [1800,500,1500]\n",
      "print p.DataFrame(r1)\n",
      "print p.DataFrame(r2)\n",
      "print n.sum(r1)\n",
      "print n.sum(r2)"
     ],
     "language": "python",
     "metadata": {},
     "outputs": [
      {
       "output_type": "stream",
       "stream": "stdout",
       "text": [
        "        0\n",
        "0   300.0\n",
        "1  1800.0\n",
        "2   674.4\n",
        "3   168.6\n",
        "      0\n",
        "0  1800\n",
        "1   500\n",
        "2  1500\n",
        "2943.0\n",
        "3800\n"
       ]
      }
     ],
     "prompt_number": 19
    }
   ],
   "metadata": {}
  }
 ]
}