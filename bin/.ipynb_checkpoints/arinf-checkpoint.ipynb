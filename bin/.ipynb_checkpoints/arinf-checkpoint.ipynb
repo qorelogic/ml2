{
 "metadata": {
  "name": ""
 },
 "nbformat": 3,
 "nbformat_minor": 0,
 "worksheets": [
  {
   "cells": [
    {
     "cell_type": "code",
     "collapsed": false,
     "input": [
      "mR = 2400.0\n",
      "lR = 4000.0\n",
      "print lR\n",
      "print lR / 3.14\n",
      "print lR / 3.14 * 8\n",
      "print lR / 3.14 * 10\n",
      "print lR / 3.14 * 15\n",
      "print lR / 3.14 * mean([8,10,15])\n",
      "print ''\n",
      "print mR / 3.14\n",
      "print mR / 3.14 * 8\n",
      "print mR / 3.14 * 10\n",
      "print mR / 3.14 * 15\n",
      "print mR / 3.14 * mean([8,10,15])\n"
     ],
     "language": "python",
     "metadata": {},
     "outputs": [
      {
       "output_type": "stream",
       "stream": "stdout",
       "text": [
        "4000.0\n",
        "1273.88535032\n",
        "10191.0828025\n",
        "12738.8535032\n",
        "19108.2802548\n",
        "14012.7388535\n",
        "\n",
        "764.331210191\n",
        "6114.64968153\n",
        "7643.31210191\n",
        "11464.9681529\n",
        "8407.6433121\n"
       ]
      }
     ],
     "prompt_number": 11
    },
    {
     "cell_type": "code",
     "collapsed": false,
     "input": [],
     "language": "python",
     "metadata": {},
     "outputs": []
    }
   ],
   "metadata": {}
  }
 ]
}