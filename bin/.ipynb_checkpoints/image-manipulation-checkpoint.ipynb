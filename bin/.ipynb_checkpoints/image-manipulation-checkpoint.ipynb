{
 "metadata": {
  "name": ""
 },
 "nbformat": 3,
 "nbformat_minor": 0,
 "worksheets": [
  {
   "cells": [
    {
     "cell_type": "code",
     "collapsed": false,
     "input": [
      "# source: http://matplotlib.org/users/image_tutorial.html\n",
      "import matplotlib.pyplot as plt\n",
      "import matplotlib.image as mpimg\n",
      "import numpy as np"
     ],
     "language": "python",
     "metadata": {},
     "outputs": [],
     "prompt_number": 1
    },
    {
     "cell_type": "code",
     "collapsed": false,
     "input": [
      "ls data/etoro/etoro.manapana.svg"
     ],
     "language": "python",
     "metadata": {},
     "outputs": [
      {
       "output_type": "stream",
       "stream": "stdout",
       "text": [
        "\u001b[0m\u001b[01;35mdata/etoro/etoro.manapana.svg\u001b[0m\r\n"
       ]
      }
     ],
     "prompt_number": 6
    },
    {
     "cell_type": "code",
     "collapsed": false,
     "input": [
      "img = mpimg.imread('/ml/bin/data/etoro/etoro.manapana.png')\n",
      "print img\n",
      "imgplot = plt.imshow(img)"
     ],
     "language": "python",
     "metadata": {},
     "outputs": [
      {
       "output_type": "stream",
       "stream": "stdout",
       "text": [
        "[[[ 0.  0.  0.  0.]\n",
        "  [ 0.  0.  0.  0.]\n",
        "  [ 0.  0.  0.  0.]\n",
        "  ..., \n",
        "  [ 0.  0.  0.  0.]\n",
        "  [ 0.  0.  0.  0.]\n",
        "  [ 0.  0.  0.  0.]]\n",
        "\n",
        " [[ 0.  0.  0.  0.]\n",
        "  [ 0.  0.  0.  0.]\n",
        "  [ 0.  0.  0.  0.]\n",
        "  ..., \n",
        "  [ 0.  0.  0.  0.]\n",
        "  [ 0.  0.  0.  0.]\n",
        "  [ 0.  0.  0.  0.]]\n",
        "\n",
        " [[ 0.  0.  0.  0.]\n",
        "  [ 0.  0.  0.  0.]\n",
        "  [ 0.  0.  0.  0.]\n",
        "  ..., \n",
        "  [ 0.  0.  0.  0.]\n",
        "  [ 0.  0.  0.  0.]\n",
        "  [ 0.  0.  0.  0.]]\n",
        "\n",
        " ..., \n",
        " [[ 0.  0.  0.  0.]\n",
        "  [ 0.  0.  0.  0.]\n",
        "  [ 0.  0.  0.  0.]\n",
        "  ..., \n",
        "  [ 0.  0.  0.  0.]\n",
        "  [ 0.  0.  0.  0.]\n",
        "  [ 0.  0.  0.  0.]]\n",
        "\n",
        " [[ 0.  0.  0.  0.]\n",
        "  [ 0.  0.  0.  0.]\n",
        "  [ 0.  0.  0.  0.]\n",
        "  ..., \n",
        "  [ 0.  0.  0.  0.]\n",
        "  [ 0.  0.  0.  0.]\n",
        "  [ 0.  0.  0.  0.]]\n",
        "\n",
        " [[ 0.  0.  0.  0.]\n",
        "  [ 0.  0.  0.  0.]\n",
        "  [ 0.  0.  0.  0.]\n",
        "  ..., \n",
        "  [ 0.  0.  0.  0.]\n",
        "  [ 0.  0.  0.  0.]\n",
        "  [ 0.  0.  0.  0.]]]\n"
       ]
      },
      {
       "metadata": {},
       "output_type": "display_data",
       "png": "[encoded data removed]",
       "text": [
        "<matplotlib.figure.Figure at 0xb0e41dcc>"
       ]
      }
     ],
     "prompt_number": 12
    }
   ],
   "metadata": {}
  }
 ]
}