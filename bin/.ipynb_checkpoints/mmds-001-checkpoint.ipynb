{
 "metadata": {
  "name": ""
 },
 "nbformat": 3,
 "nbformat_minor": 0,
 "worksheets": [
  {
   "cells": [
    {
     "cell_type": "code",
     "collapsed": false,
     "input": [
      "import numpy as n\n",
      "import pandas as p\n",
      "\n",
      "N = 3 # web pages\n",
      "\n",
      "beta = 0.7\n",
      "constraintSum = 1\n",
      "\n",
      "#M = array([[1./2, 1./2, 0], [1./2, 0, 1], [0, 1./2, 0]])\n",
      "#M = array([[1./2, 1./2, 0], [1./2, 0, 0], [0, 1./2, 1]])\n",
      "#M = array([[1./2, 1./2, 0], [1./2, 0, 0], [0, 1./2, 0]])\n",
      "#M = array([[1./2, 1./2, 0], [1./2, 0, 0], [0, 1./2, 1]])\n",
      "\n",
      "# quiz Q1\n",
      "#beta = 0.7\n",
      "#constraintSum = 3\n",
      "#M = array([[0, 0, 0], [1./2, 0, 0], [1./2, 1./1, 1./1]])\n",
      "\n",
      "# quiz Q2\n",
      "#beta = 0.85\n",
      "#constraintSum = 1\n",
      "#M = array([[0, 0, 1], [1./2, 0, 0], [1./2, 1, 0]])\n",
      "\n",
      "# quiz Q2\n",
      "#beta = 0.85\n",
      "#constraintSum = 1\n",
      "M = array([[0, 0, 1], [1./2, 0, 0], [1./2, 1, 0]])\n",
      "\n",
      "print M\n",
      "\n",
      "# solve dead-ends\n",
      "MM = p.DataFrame(M)\n",
      "for i in xrange(0,len(MM)):\n",
      "    c = MM.ix[:,i]\n",
      "    if sum(c) == 0:\n",
      "        c = MM.ix[:,i] = p.Series(n.ones(3)/3)\n",
      "    #print c\n",
      "#print MM\n",
      "#print\n",
      "\n",
      "r = ones(N) / 1\n",
      "print r\n",
      "#print\n",
      "\n",
      "# pagerank r = M*r (element-wise)\n",
      "prs = []\n",
      "prs.append(r)\n",
      "E = n.ones(N)\n",
      "for i in xrange(1,6):\n",
      "    #r = n.dot(M, r)\n",
      "    #r = (beta * M) + ((1 - beta) / N)\n",
      "    \n",
      "    # sparse compute\n",
      "    #A =  (beta * M ) + n.dot(((1 - beta) / N), 1) * 1\n",
      "    #print A\n",
      "    #r = n.dot(A, r)\n",
      "    #print r\n",
      "    \n",
      "    r = (beta * n.dot(M, r)) + (1-beta)/N\n",
      "    \n",
      "    r = list(r)\n",
      "    prs.append(r)\n",
      "    print r\n",
      "r = n.dot(r, constraintSum)\n",
      "#print r\n",
      "print sum(r)\n",
      "#print prs\n",
      "#print prs[len(prs)-1]\n",
      "\n",
      "plot(prs)\n",
      "\n",
      "a = r[0]\n",
      "b = r[1]\n",
      "c = r[2]\n",
      "\n",
      "# Quiz 1\n",
      "#print 'b+c: '+str(b + c) # = 2.5\n",
      "#print 'a+b: '+str(a + b) # = 0.55\n",
      "#print 'b+c: '+str(b + c) # = 2.7\n",
      "#print 'a+b: '+str(a + b) # = 1.025\n",
      "\n",
      "# quiz #2\n",
      "#print 'b    = ' + str(b)              #\n",
      "#print 'b    = ' + str(.475*a + .05*c)\n",
      "#print '.95c = ' + str(0.95*c)         #\n",
      "#print '.95c = ' + str(.9*b + .475*a)\n",
      "#print '.85a = ' + str(0.85*a)         #\n",
      "#print '.85a = ' + str(c + .15*b)\n",
      "#print 'c = ' + str(c)                 #\n",
      "#print 'c    = ' + str(.9*b + .475*a)\n",
      "\n",
      "#After iteration 5, c = 9/8\n",
      "#After iteration 4, b = 11/16\n",
      "#In the limit, a = 1\n",
      "#After iteration 4, c = 11/8\n",
      "\n"
     ],
     "language": "python",
     "metadata": {},
     "outputs": [
      {
       "output_type": "stream",
       "stream": "stdout",
       "text": [
        "[[ 0.   0.   1. ]\n",
        " [ 0.5  0.   0. ]\n",
        " [ 0.5  1.   0. ]]\n",
        "[ 1.  1.  1.]"
       ]
      },
      {
       "output_type": "stream",
       "stream": "stdout",
       "text": [
        "\n",
        "[0.79999999999999993, 0.45000000000000001, 1.1499999999999999]\n",
        "[0.90499999999999992, 0.38, 0.69499999999999995]\n",
        "[0.58649999999999991, 0.41675000000000001, 0.68274999999999997]\n",
        "[0.57792499999999991, 0.30527499999999996, 0.59699999999999998]\n",
        "[0.51789999999999992, 0.30227374999999995, 0.51596624999999996]\n",
        "1.33614\n"
       ]
      },
      {
       "metadata": {},
       "output_type": "display_data",
       "png": "[encoded data removed]",
       "text": [
        "<matplotlib.figure.Figure at 0xb1686fec>"
       ]
      }
     ],
     "prompt_number": 7
    },
    {
     "cell_type": "code",
     "collapsed": false,
     "input": [
      "r = [15, 21, 24, 30, 49]\n",
      "sum(r)"
     ],
     "language": "python",
     "metadata": {},
     "outputs": [
      {
       "metadata": {},
       "output_type": "pyout",
       "prompt_number": 5,
       "text": [
        "139"
       ]
      }
     ],
     "prompt_number": 5
    },
    {
     "cell_type": "code",
     "collapsed": false,
     "input": [
      "inp = 12\n",
      "def primedivisors(inp):\n",
      "    n.primes(inp)\n",
      "    print inp\n",
      "    \n",
      "\n",
      "#print primedivisors(12)\n",
      "n = 12\n",
      "i = 2\n",
      "while i * i < n:\n",
      "     while n % i == 0:\n",
      "         n = n / i\n",
      "     i = i + 1\n",
      "\n",
      "print (n)\n"
     ],
     "language": "python",
     "metadata": {},
     "outputs": [
      {
       "output_type": "stream",
       "stream": "stdout",
       "text": [
        "3\n"
       ]
      }
     ],
     "prompt_number": 4
    },
    {
     "cell_type": "code",
     "collapsed": false,
     "input": [
      "import numpy as np\n",
      "n = 12\n",
      "\n",
      "#divisors = [ d for d in range(2,n//2+1) if n % d == 0 ]\n",
      "#print divisors\n",
      "#prime_divisors = [ d for d in divisors if np.isprime(d) ]\n",
      "\"\"\"\n",
      "def primes(n):\n",
      "    divisors = [ d for d in range(2,n//2+1) if n % d == 0 ]\n",
      "    return [ d for d in divisors if all( d % od != 0 for od in divisors if od != d ) ]\n",
      "\n",
      "primes(n)\n",
      "\"\"\"\n",
      "def factorize(n):\n",
      "  l = []\n",
      "  for f in range(2,n//2+1):\n",
      "    while n%f == 0:\n",
      "      n //= f\n",
      "      #yield f\n",
      "      l.append(f)\n",
      "  l.pop\n",
      "  return l\n",
      "#It's slow but dead simple. If you want to create a command-line utility, you could do:\n",
      "\n",
      "print factorize(n)\n",
      "\n",
      "#import sys\n",
      "#[print(i) for i in factorize(int(sys.argv[1]))]"
     ],
     "language": "python",
     "metadata": {},
     "outputs": [
      {
       "output_type": "stream",
       "stream": "stdout",
       "text": [
        "[2, 2, 3]\n"
       ]
      }
     ],
     "prompt_number": 2
    },
    {
     "cell_type": "code",
     "collapsed": false,
     "input": [
      "l = [1,2,3,4]\n",
      "print dir(l)\n",
      "l = l.remove(1)\n",
      "print l"
     ],
     "language": "python",
     "metadata": {},
     "outputs": [
      {
       "output_type": "stream",
       "stream": "stdout",
       "text": [
        "['__add__', '__class__', '__contains__', '__delattr__', '__delitem__', '__delslice__', '__doc__', '__eq__', '__format__', '__ge__', '__getattribute__', '__getitem__', '__getslice__', '__gt__', '__hash__', '__iadd__', '__imul__', '__init__', '__iter__', '__le__', '__len__', '__lt__', '__mul__', '__ne__', '__new__', '__reduce__', '__reduce_ex__', '__repr__', '__reversed__', '__rmul__', '__setattr__', '__setitem__', '__setslice__', '__sizeof__', '__str__', '__subclasshook__', 'append', 'count', 'extend', 'index', 'insert', 'pop', 'remove', 'reverse', 'sort']\n",
        "None\n"
       ]
      }
     ],
     "prompt_number": 3
    },
    {
     "cell_type": "code",
     "collapsed": false,
     "input": [
      "# mmds-001 Lecture 3-1 Finding Similar Sets (Shingles)\n",
      "# mmds-001 Lecture 3-4\n",
      "\n",
      "import hashlib as h\n",
      "import numpy as n\n",
      "import pandas as p\n",
      "\n",
      "def run(s):\n",
      "    kShingle = {}\n",
      "    tokens = {}\n",
      "    #for i in range(1,len(s)+1):\n",
      "    for i in range(1,4):\n",
      "        ms = shingleString(s,i, True)\n",
      "    #    print ms\n",
      "        for i in ms.keys():\n",
      "            #print ms[i]\n",
      "            kShingle.update({i:ms[i]})\n",
      "            tokens.update({h.md5(i).hexdigest():ms[i]})\n",
      "    #print shingles.keys()\n",
      "    #print kShingle\n",
      "    kShingle = p.DataFrame(p.Series(kShingle), columns=[s]).transpose()\n",
      "    #print tokens\n",
      "    tokens = p.DataFrame(p.Series(tokens), columns=[s]).transpose()\n",
      "    #print\n",
      "    return {'kShingle':kShingle,'tokens':tokens}\n",
      "\n",
      "def combineAll(strings):\n",
      "    #print strings\n",
      "    shi = p.DataFrame()\n",
      "    tok = p.DataFrame()\n",
      "    for i in strings:\n",
      "        shi = shi.combine_first(run(i)['kShingle'])\n",
      "        tok = tok.combine_first(run(i)['tokens'])\n",
      "    shi = shi.transpose().fillna(0)\n",
      "    tok = tok.transpose().fillna(0)\n",
      "    \n",
      "    #print shi\n",
      "    return shi\n",
      "\n",
      "# the Jaccard similarity\n",
      "# a list of strings\n",
      "def sim(string1, string2):\n",
      "    subset = [string1,string2]\n",
      "    # the input matrix im\n",
      "    im = combineAll(subset)\n",
      "    \n",
      "    if len(list(im.columns)) < 2:\n",
      "        return\n",
      "    \n",
      "    print 'jaccardSimilarity:\\t'+str(string1) + ' ' + str(string2)+' '+str(computeJaccardSimilarity(im.ix[:,0:2],0,1))\n",
      "    print 'signatureSimilarity:\\t'+str(string1) + ' ' + str(string2)+' '+str(computeSignatureSimilarity(im.ix[:,0:2],0,1))\n",
      "    \n",
      "def shingleString(s,k=2, increment=False):\n",
      "    # k: the set of strings of length k\n",
      "    d = {}\n",
      "    li = []\n",
      "    for i in range(0,len(s)-(k-1)):\n",
      "        lo = s[i:i+k]\n",
      "        li.append(lo)\n",
      "        try:\n",
      "            if increment:\n",
      "                # if the increment is set to True do not increment\n",
      "                raise\n",
      "            d.update({lo:d[lo]+1})\n",
      "        except:\n",
      "            d.update({lo:1})\n",
      "    #print d\n",
      "    #print li\n",
      "    #print dir(d.keys())\n",
      "    \n",
      "    #print d.keys()\n",
      "    #print d.values()\n",
      "    return d\n",
      "\n",
      "# unit test\n",
      "# ra = n.array( [1, 4, 3,3, 2, 4,7, 1, 7,6, 3, 6, 2, 6, 1, 5, 7, 2,4, 5, 5]).reshape(7,3)\n",
      "# im = n.array([1, 0, 1, 0, 1, 0, 0, 1, 0, 1, 0, 1, 0, 1, 0, 1, 0, 1, 0, 1, 1, 0, 1, 0, 1, 0, 1, 0]).reshape(7,4)\n",
      "# print signatureMatrix(ra, im)\n",
      "# >> [[ 1.  2.  1.  2.]\n",
      "#     [ 2.  1.  4.  1.]\n",
      "#     [ 2.  1.  2.  1.]]\n",
      "# compute the signature matrix\n",
      "def computeSignatureMatrix(ra, im):\n",
      "    ra = n.array(ra)\n",
      "    im = n.array(im)\n",
      "    fun = []\n",
      "    w = ra.shape[1]\n",
      "    h = ra.shape[0]\n",
      "    for col in range(0, w):\n",
      "        try:\n",
      "            fan = []\n",
      "            for ni in range(1, h+1):\n",
      "                fan.append(list(n.dot(n.ones(h).reshape(1,h), ((ra[:,col] == ni) * ni).reshape(h,1) * im)[0]))\n",
      "            fan = n.array(fan)\n",
      "            fun.append(list(n.min((fan == 0)*(n.max(fan)+100) + fan,0)))\n",
      "        except:\n",
      "            ''\n",
      "    return n.array(fun)\n",
      "\n",
      "# im = n.array([1, 0, 1, 0, 1, 0, 0, 1, 0, 1, 0, 1, 0, 1, 0, 1, 0, 1, 0, 1, 1, 0, 1, 0, 1, 0, 1, 0]).reshape(7,4)\n",
      "# print computeJaccardSimilarity(im,0,2)\n",
      "# >> 0.75\n",
      "# print computeJaccardSimilarity(im,0,1)\n",
      "# >> 0.0\n",
      "# print computeJaccardSimilarity(im,0,3)\n",
      "# >> 0.142857142857\n",
      "def computeJaccardSimilarity(im, c1, c2):\n",
      "    im = n.array(im)\n",
      "    #print im\n",
      "    c1 = im[:,[c1]]\n",
      "    c2 = im[:,[c2]]\n",
      "    cand = sum(n.logical_and(c1,c2) * 1)\n",
      "    cor  = sum(n.logical_or(c1,c2) * 1)\n",
      "    jaccardSimilarity = float(cand)/cor\n",
      "    return jaccardSimilarity\n",
      "\n",
      "# im = n.array([1, 0, 1, 0, 1, 0, 0, 1, 0, 1, 0, 1, 0, 1, 0, 1, 0, 1, 0, 1, 1, 0, 1, 0, 1, 0, 1, 0]).reshape(7,4)\n",
      "# print computeSignatureSimilarity(im, 0, 2)\n",
      "# >> 0.666666666667\n",
      "def computeSignatureSimilarity(im, c1, c2, ra=None):\n",
      "    im = n.array(im)\n",
      "    #print im\n",
      "    \n",
      "    if ra == None:\n",
      "        ra = p.DataFrame()\n",
      "        #im = p.DataFrame()\n",
      "        #im = inputMatrix.ix[:,[0,1]]\n",
      "        \n",
      "        r = n.arange(1,len(im)+1)\n",
      "        c = r.copy()\n",
      "        #print len(im)\n",
      "        \n",
      "        for i in range(1,3+1):\n",
      "            n.random.shuffle(c)\n",
      "            ra[i] = c\n",
      "        #print ra\n",
      "        #print p.DataFrame(im)\n",
      "    else:\n",
      "        ra = ra\n",
      "        \n",
      "    sm = computeSignatureMatrix(ra, im)\n",
      "    print sm\n",
      "    #print sm[:,c1]\n",
      "    #print sm[:,c2]\n",
      "    res = n.int16(sm[:,c1] / sm[:,c2])\n",
      "    #print res\n",
      "    minHashAgree    = n.sum(res)\n",
      "    minHashDisagree = n.shape(res)[0]\n",
      "    #print minHashAgree\n",
      "    #print minHashDisagree\n",
      "    return float(minHashAgree) / minHashDisagree\n",
      "\n",
      "def signatureMatrix(inputMatrix):\n",
      "    import sys\n",
      "    print 'sig mat'\n",
      "    #print len(inputMatrix)\n",
      "    r = n.arange(1,len(inputMatrix)+1)\n",
      "    c = r.copy()\n",
      "    \n",
      "    #sm = inputMatrix.ix[:,[0,1]]\n",
      "    #sm['keyIndex'] = sm.index\n",
      "    \n",
      "    ra = p.DataFrame()\n",
      "    im = p.DataFrame()\n",
      "    im = inputMatrix.ix[:,[0,1]]\n",
      "    \n",
      "    n.random.shuffle(c)\n",
      "    #sm[str(1)] = c\n",
      "    ra[1] = c\n",
      "    #sm.index = sm.ix[:,str(1)]\n",
      "    \n",
      "    #sm2 = p.DataFrame()\n",
      "    #for i in range(1,len(sm)+1):\n",
      "    #    sm2[i] = list(sm.ix[i,0:2])\n",
      "    \n",
      "    n.random.shuffle(c)\n",
      "    #sm[2] = c\n",
      "    ra[2] = c\n",
      "    n.random.shuffle(c)\n",
      "    #sm[3] = c\n",
      "    ra[3] = c\n",
      "    \n",
      "    sm = computeSignatureMatrix(ra, im)\n",
      "    \n",
      "    #print ra\n",
      "    #print im\n",
      "    #print sm2.transpose()\n",
      "    print sm\n",
      "    #print inputMatrix\n",
      "    #sys.exit()\n",
      "\n",
      "strings = ['jeffery','jeffrey','kiiza','quiza']\n",
      "for i in strings:\n",
      "    for j in strings:        \n",
      "        sim(i,j)\n",
      "#sim(strings[0], strings[1])\n",
      "#sim(strings[1], strings[2])\n",
      "#combineAll(strings)\n"
     ],
     "language": "python",
     "metadata": {},
     "outputs": [
      {
       "output_type": "stream",
       "stream": "stdout",
       "text": [
        "jaccardSimilarity:\tjeffery jeffrey 0.454545454545\n",
        "[[ 1.  1.]\n",
        " [ 1.  1.]\n",
        " [ 1.  1.]]\n",
        "signatureSimilarity:\tjeffery jeffrey 1.0\n",
        "jaccardSimilarity:\tjeffery kiiza 0.0"
       ]
      },
      {
       "output_type": "stream",
       "stream": "stdout",
       "text": [
        "\n",
        "[[ 1.  4.]\n",
        " [ 1.  3.]\n",
        " [ 1.  3.]]\n",
        "signatureSimilarity:\tjeffery kiiza 0.0\n",
        "jaccardSimilarity:\tjeffery quiza 0.0"
       ]
      },
      {
       "output_type": "stream",
       "stream": "stdout",
       "text": [
        "\n",
        "[[ 2.  1.]\n",
        " [ 2.  1.]\n",
        " [ 2.  1.]]\n",
        "signatureSimilarity:\tjeffery quiza 2.0\n",
        "jaccardSimilarity:\tjeffrey jeffery 0.454545454545"
       ]
      },
      {
       "output_type": "stream",
       "stream": "stdout",
       "text": [
        "\n",
        "[[ 1.  1.]\n",
        " [ 1.  1.]\n",
        " [ 1.  1.]]\n",
        "signatureSimilarity:\tjeffrey jeffery 1.0\n",
        "jaccardSimilarity:\tjeffrey kiiza 0.0"
       ]
      },
      {
       "output_type": "stream",
       "stream": "stdout",
       "text": [
        "\n",
        "[[ 1.  4.]\n",
        " [ 3.  1.]\n",
        " [ 1.  3.]]\n",
        "signatureSimilarity:\tjeffrey kiiza 1.0\n",
        "jaccardSimilarity:\tjeffrey quiza 0.0"
       ]
      },
      {
       "output_type": "stream",
       "stream": "stdout",
       "text": [
        "\n",
        "[[ 1.  3.]\n",
        " [ 1.  2.]\n",
        " [ 2.  1.]]\n",
        "signatureSimilarity:\tjeffrey quiza 0.666666666667\n",
        "jaccardSimilarity:\tkiiza jeffery 0.0"
       ]
      },
      {
       "output_type": "stream",
       "stream": "stdout",
       "text": [
        "\n",
        "[[ 3.  1.]\n",
        " [ 1.  2.]\n",
        " [ 2.  1.]]\n",
        "signatureSimilarity:\tkiiza jeffery 1.66666666667\n",
        "jaccardSimilarity:\tkiiza jeffrey 0.0"
       ]
      },
      {
       "output_type": "stream",
       "stream": "stdout",
       "text": [
        "\n",
        "[[ 1.  4.]\n",
        " [ 1.  3.]\n",
        " [ 2.  1.]]\n",
        "signatureSimilarity:\tkiiza jeffrey 0.666666666667\n",
        "jaccardSimilarity:\tkiiza quiza 0.352941176471"
       ]
      },
      {
       "output_type": "stream",
       "stream": "stdout",
       "text": [
        "\n",
        "[[ 3.  1.]\n",
        " [ 1.  1.]\n",
        " [ 1.  2.]]\n",
        "signatureSimilarity:\tkiiza quiza 1.33333333333\n",
        "jaccardSimilarity:\tquiza jeffery 0.0"
       ]
      },
      {
       "output_type": "stream",
       "stream": "stdout",
       "text": [
        "\n",
        "[[ 4.  1.]\n",
        " [ 2.  1.]\n",
        " [ 1.  4.]]\n",
        "signatureSimilarity:\tquiza jeffery 2.0\n",
        "jaccardSimilarity:\tquiza jeffrey 0.0"
       ]
      },
      {
       "output_type": "stream",
       "stream": "stdout",
       "text": [
        "\n",
        "[[ 2.  1.]\n",
        " [ 1.  4.]\n",
        " [ 2.  1.]]\n",
        "signatureSimilarity:\tquiza jeffrey 1.33333333333\n",
        "jaccardSimilarity:\tquiza kiiza 0.352941176471"
       ]
      },
      {
       "output_type": "stream",
       "stream": "stdout",
       "text": [
        "\n",
        "[[ 4.  1.]\n",
        " [ 2.  1.]\n",
        " [ 2.  1.]]\n",
        "signatureSimilarity:\tquiza kiiza 2.66666666667\n"
       ]
      }
     ],
     "prompt_number": 699
    },
    {
     "cell_type": "code",
     "collapsed": false,
     "input": [
      "#print ra\n",
      "#print im\n",
      "#sm = computeSignatureMatrix(ra, im)\n",
      "#sm = 0\n",
      "print ra\n",
      "print im\n",
      "\n",
      "print computeJaccardSimilarity(im,0,3)\n",
      "print computeSignatureSimilarity(im, 0, 2, ra=ra)\n",
      "print computeSignatureSimilarity(im, 0, 2)\n"
     ],
     "language": "python",
     "metadata": {},
     "outputs": [
      {
       "output_type": "stream",
       "stream": "stdout",
       "text": [
        "[[1 4 3]\n",
        " [3 2 4]\n",
        " [7 1 7]\n",
        " [6 3 6]\n",
        " [2 6 1]\n",
        " [5 7 2]\n",
        " [4 5 5]]\n",
        "   0  1  2  3\n",
        "0  1  0  1  0\n",
        "1  1  0  0  1\n",
        "2  0  1  0  1\n",
        "3  0  1  0  1\n",
        "4  0  1  0  1\n",
        "5  1  0  1  0\n",
        "6  1  0  1  0\n",
        "\n",
        "[7 rows x 4 columns]\n",
        "0.142857142857\n",
        "[[ 1.  2.  1.  2.]\n",
        " [ 2.  1.  4.  1.]\n",
        " [ 2.  1.  2.  1.]]\n",
        "0.666666666667\n",
        "[[ 1.  2.  3.  1.]\n",
        " [ 2.  1.  2.  1.]\n",
        " [ 2.  1.  2.  1.]]"
       ]
      },
      {
       "output_type": "stream",
       "stream": "stdout",
       "text": [
        "\n",
        "0.666666666667\n"
       ]
      }
     ],
     "prompt_number": 738
    },
    {
     "cell_type": "code",
     "collapsed": false,
     "input": [
      "a = [5,5]\n",
      "b = [9,8]\n",
      "print a\n",
      "print b\n",
      "#plot(a,'.')\n",
      "#plot(b,'.')\n",
      "scatter(a,b)\n"
     ],
     "language": "python",
     "metadata": {},
     "outputs": [
      {
       "output_type": "stream",
       "stream": "stdout",
       "text": [
        "[5, 5]\n",
        "[9, 8]\n"
       ]
      },
      {
       "metadata": {},
       "output_type": "pyout",
       "prompt_number": 15,
       "text": [
        "<matplotlib.collections.PathCollection at 0xb082abec>"
       ]
      },
      {
       "metadata": {},
       "output_type": "display_data",
       "png": "[encoded data removed]",
       "text": [
        "<matplotlib.figure.Figure at 0xb0870c2c>"
       ]
      }
     ],
     "prompt_number": 15
    },
    {
     "cell_type": "code",
     "collapsed": false,
     "input": [],
     "language": "python",
     "metadata": {},
     "outputs": []
    }
   ],
   "metadata": {}
  }
 ]
}