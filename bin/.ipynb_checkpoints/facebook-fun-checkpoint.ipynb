{
 "metadata": {
  "name": ""
 },
 "nbformat": 3,
 "nbformat_minor": 0,
 "worksheets": [
  {
   "cells": [
    {
     "cell_type": "code",
     "collapsed": false,
     "input": [
      "#how did you hear about us\n",
      "\"\"\"\n",
      "<select id=\"resumator-questionnaire-q22541\" \n",
      "  name=\"resumator-questionnaire[22541]\" \n",
      "  class=\"form-control resumator-select-field\">\n",
      "      <option value=\"resumator_no_selection\">-- No answer --</option>\n",
      "      <option value=\"WeWorkRemotely\">WeWorkRemotely</option>\n",
      "      <option value=\"Nomads\">Nomads</option>\n",
      "      <option value=\"Craigslist\">Craigslist</option>\n",
      "      <option value=\"Facebook\">Facebook</option>\n",
      "      <option value=\"Indeed\">Indeed</option>\n",
      "      <option value=\"LinkedIn\">LinkedIn</option>\n",
      "      <option value=\"Personal Referral/Friend\">Personal Referral/Friend</option>\n",
      "      <option value=\"GitHub\">GitHub</option>\n",
      "      <option value=\"SimplyHired\">SimplyHired</option>\n",
      "      <option value=\"Stackoverflow\">Stackoverflow</option>\n",
      "      <option value=\"StartUpers\">StartUpers</option>\n",
      "      <option value=\"StartUply\">StartUply</option>\n",
      "      <option value=\"Website\">Website</option>\n",
      "      <option value=\"Other\">Other</option>\n",
      "</select>\n",
      "\"\"\"\n",
      "# gephi"
     ],
     "language": "python",
     "metadata": {},
     "outputs": []
    }
   ],
   "metadata": {}
  }
 ]
}