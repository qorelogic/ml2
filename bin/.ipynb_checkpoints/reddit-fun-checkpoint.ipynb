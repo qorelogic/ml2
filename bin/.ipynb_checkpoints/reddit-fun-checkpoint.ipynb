{
 "metadata": {
  "name": ""
 },
 "nbformat": 3,
 "nbformat_minor": 0,
 "worksheets": [
  {
   "cells": [
    {
     "cell_type": "code",
     "collapsed": false,
     "input": [
      "r1 = $x('//*[@id=\"siteTable\"]/div/div/p/a[@class=\"title may-blank loggedin\"]/@href')\n",
      "r2 = $x('//*[@id=\"siteTable\"]/div/div/p/a[@class=\"title may-blank loggedin\"]/text()')\n",
      "\n",
      "//for(var i = r1.length - 1; i >= 0; i--) { console.log(r1[i].value); console.log(r2[i]); }\n",
      "for(var i = r1.length - 1; i >= 0; i--) { console.log(r1[i]); console.log(r2[i]); }"
     ],
     "language": "python",
     "metadata": {},
     "outputs": []
    },
    {
     "cell_type": "code",
     "collapsed": false,
     "input": [
      "from qoreliquid import *\n",
      "#print lynxDump2('http://www.theguardian.com/world')"
     ],
     "language": "python",
     "metadata": {},
     "outputs": [],
     "prompt_number": 2
    }
   ],
   "metadata": {}
  }
 ]
}