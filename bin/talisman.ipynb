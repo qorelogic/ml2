{
 "metadata": {
  "name": ""
 },
 "nbformat": 3,
 "nbformat_minor": 0,
 "worksheets": [
  {
   "cells": [
    {
     "cell_type": "code",
     "collapsed": false,
     "input": [
      "#indeed\n",
      "#leetcode\n",
      "import numpy as n\n",
      "#import pandas as p\n",
      "#import theano as t\n",
      "\n",
      "m = n.matrix('-2 -3 3; -5 -10 1; 10 30 -5')\n",
      "start = [0, 0]\n",
      "end = [2, 2]\n",
      "initialHealth = 100\n",
      "path = m"
     ],
     "language": "python",
     "metadata": {},
     "outputs": []
    },
    {
     "cell_type": "code",
     "collapsed": false,
     "input": [
      "def q1(m, col, row):\n",
      "    print m[:,col:col+2]    \n",
      "    p = []\n",
      "    try:\n",
      "        p.append(m[row,col+1]) # right\n",
      "    except:\n",
      "        p.append('') # right\n",
      "    try:\n",
      "        p.append(m[row+1,col]) # left\n",
      "    except:\n",
      "        p.append('') # left\n",
      "    try:\n",
      "        indx = p.index(max(p))\n",
      "        return {'col':col, 'row':row, 'p':p, 'm':p[indx], 'indx':indx}\n",
      "    except:\n",
      "        return False\n",
      "\n",
      "print m\n",
      "c = 0\n",
      "r = 0\n",
      "for i in range(9):\n",
      "    try:\n",
      "        if res['indx'] == 0:\n",
      "            c = c+1\n",
      "    except:\n",
      "        ''\n",
      "    try:\n",
      "        if res['indx'] == 1:\n",
      "            r = r+1\n",
      "    except:\n",
      "        ''\n",
      "    res = q1(m, c, r)\n",
      "    if res != False:\n",
      "        print res\n",
      "    else:\n",
      "        break\n",
      "    \n",
      "#print q1(m, 0, 1)\n",
      "#print q1(m, 0, 1)\n"
     ],
     "language": "python",
     "metadata": {},
     "outputs": []
    },
    {
     "cell_type": "code",
     "collapsed": false,
     "input": [
      "abs(100-1-100-2-3+3+1-5)"
     ],
     "language": "python",
     "metadata": {},
     "outputs": []
    },
    {
     "cell_type": "code",
     "collapsed": false,
     "input": [
      "m.A"
     ],
     "language": "python",
     "metadata": {},
     "outputs": []
    },
    {
     "cell_type": "code",
     "collapsed": false,
     "input": [
      "m.A[0][1]\n",
      "path = n.matrix('0 0; 0 1; 0 2; 1 2; 2 2')\n",
      "path.A\n"
     ],
     "language": "python",
     "metadata": {},
     "outputs": []
    }
   ],
   "metadata": {}
  }
 ]
}