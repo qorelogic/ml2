{
 "metadata": {
  "name": ""
 },
 "nbformat": 3,
 "nbformat_minor": 0,
 "worksheets": [
  {
   "cells": [
    {
     "cell_type": "code",
     "collapsed": false,
     "input": [
      "%load_ext autoreload\n",
      "%autoreload 2\n",
      "from matplotlib import pyplot as plt\n",
      "from pylab import rcParams\n",
      "from qoreliquid import StatWing, ml007\n",
      "rcParams['figure.figsize'] = 15, 8\n",
      "import numpy as n\n",
      "import pandas as p\n",
      "# Hand-painted 1\n",
      "# LED 2\n",
      "m = n.matrix(\n",
      "'$44\t28.2\t30\t43\t380\t1\t$20 ;' \\\n",
      "'$23\t21.4\t42\t28\t207\t2\t$30 ;' \\\n",
      "'$43\t32.9\t14\t43\t364\t1\t$34 ;' \\\n",
      "'$30\t24.0\t24\t18\t103\t2\t$15'\n",
      ")\n",
      "df = p.DataFrame(m)\n",
      "df.to_csv('statwing.non2.csv', header=None, index=None)\n",
      "print df"
     ],
     "language": "python",
     "metadata": {},
     "outputs": []
    },
    {
     "cell_type": "code",
     "collapsed": false,
     "input": [
      "#df.ix[:,0]\n",
      "#df.groupby(0).describe()"
     ],
     "language": "python",
     "metadata": {},
     "outputs": []
    },
    {
     "cell_type": "code",
     "collapsed": false,
     "input": [
      "print (0.53784  + 0.54679) /2\n",
      "print 0.54679 - 0.542316\n",
      "print (0.542316 - 0.53784)"
     ],
     "language": "python",
     "metadata": {},
     "outputs": []
    },
    {
     "cell_type": "code",
     "collapsed": false,
     "input": [
      "df1 = p.read_csv('quandl-BNP-USD.csv')"
     ],
     "language": "python",
     "metadata": {},
     "outputs": []
    },
    {
     "cell_type": "code",
     "collapsed": false,
     "input": [
      "df2 = p.read_csv('/mldev/bin/data/oanda/datafeed/USD_JPY.csv', header=None, nrows=20000)\n",
      "#df2.ix[:,[1,2]].hist(bins=200); \n",
      "#scatter(df2.ix[:,[1]], df2.ix[:,[2]])\n",
      "#show()\n",
      "#df2.ix[:,[1,2]]"
     ],
     "language": "python",
     "metadata": {},
     "outputs": []
    },
    {
     "cell_type": "code",
     "collapsed": false,
     "input": [
      "sw = StatWing()\n",
      "sw.describe(df1, 1)\n",
      "sw.describe(df1, 'BNP.USDJPY - USD/JPY_x')"
     ],
     "language": "python",
     "metadata": {},
     "outputs": []
    },
    {
     "cell_type": "code",
     "collapsed": false,
     "input": [
      "df1"
     ],
     "language": "python",
     "metadata": {},
     "outputs": []
    },
    {
     "cell_type": "code",
     "collapsed": false,
     "input": [
      "df1.columns"
     ],
     "language": "python",
     "metadata": {},
     "outputs": []
    },
    {
     "cell_type": "code",
     "collapsed": false,
     "input": [
      "from scipy.stats.stats import pearsonr, spearmanr\n",
      "import scipy.stats.stats\n",
      "import scipy.spatial.distance\n",
      "print pearsonr(df1.ix[:,1], df1.ix[:,2])\n",
      "print spearmanr(df1.ix[:,1], df1.ix[:,2])\n",
      "\n",
      "s = numpy.array([[20],[123],[113],[103],[123]]);\n",
      "covar = numpy.cov(s, rowvar=0);\n",
      "#invcovar = numpy.linalg.inv(covar)\n",
      "#scipy.spatial.distance.mahalanobis(df1.ix[:,1], df1.ix[:,2], invcovar)"
     ],
     "language": "python",
     "metadata": {},
     "outputs": []
    },
    {
     "cell_type": "code",
     "collapsed": false,
     "input": [
      "#sw.relate(df1, 1, 2)\n",
      "sw.relate(df1, 1, 'BNP.USDBRL - USD/BRL_x')\n",
      "#sw.relate(df1, 1, 2)\n"
     ],
     "language": "python",
     "metadata": {},
     "outputs": []
    },
    {
     "cell_type": "code",
     "collapsed": false,
     "input": [
      "def regression(df):\n",
      "    \n",
      "regression(df)"
     ],
     "language": "python",
     "metadata": {},
     "outputs": []
    },
    {
     "cell_type": "code",
     "collapsed": false,
     "input": [
      "data"
     ],
     "language": "python",
     "metadata": {},
     "outputs": []
    },
    {
     "cell_type": "code",
     "collapsed": false,
     "input": [
      "ml = ml007()\n",
      "\n",
      "data = p.read_csv('/coursera/ml-007/programming-exercises/mlclass-ex1/ex1data1.txt', header=None)\n",
      "#data = p.read_csv('quandl-BNP-USD.csv')\n",
      "data = p.read_csv('quandl-BNP-EUR.csv').fillna(0)\n",
      "#X = data.ix[:,0]; y = data.ix[:,1]\n",
      "#X = data.ix[:,2]; y = data.ix[:,1]\n",
      "X = data.ix[:,0]; \n",
      "#y = data.ix[:,'hi']\n",
      "y = data.ix[:,0]\n",
      "m = len(y)\n",
      "#%whos\n",
      "\n",
      "#scatter(X,y, marker='x', c='r'); show();\n",
      "\n",
      "# gradient descent\n",
      "#plot(X,y,'.'); show();\n",
      "\n",
      "X = p.DataFrame()\n",
      "X[0] = ones(m)\n",
      "X[1] = data.ix[:,0]\n",
      "X[2] = data.ix[:,1]\n",
      "\n",
      "#print X\n",
      "#import sys\n",
      "#sys.exit()\n",
      "\n",
      "theta = n.zeros(len(X.columns))\n",
      "#theta = n.random.randn(len(X.columns))\n",
      "print theta\n",
      "\n",
      "#% Some gradient descent settings\n",
      "iterations = 3000;\n",
      "alpha = 0.01;\n",
      "    \n",
      "#% compute and display initial cost\n",
      "ml.computeCost(X, y, theta)\n",
      "\n",
      "#% run gradient descent\n",
      "[theta, J_hist] = ml.gradientDescent(X, y, theta, alpha, iterations, viewProgress=True);\n",
      "\n",
      "#% print theta to screen\n",
      "print 'Theta found by gradient descent: '\n",
      "#print '%f %f \\n', theta(1), theta(2)\n",
      "\n",
      "print theta\n",
      "jh = J_hist[0:4000]\n",
      "p.DataFrame(jh)\n",
      "plot(jh, '-')"
     ],
     "language": "python",
     "metadata": {},
     "outputs": []
    },
    {
     "cell_type": "code",
     "collapsed": false,
     "input": [
      "X"
     ],
     "language": "python",
     "metadata": {},
     "outputs": []
    },
    {
     "cell_type": "code",
     "collapsed": false,
     "input": [
      "#scatter(n.random.randn(13), n.random.randn(13), c=[[0,0.1,0.2,0.3]], cmap=100*n.random.randn(13), s=10000*n.random.randn(13))"
     ],
     "language": "python",
     "metadata": {},
     "outputs": []
    },
    {
     "cell_type": "code",
     "collapsed": false,
     "input": [
      "rcParams['figure.figsize'] = 10, 5\n",
      "#for i in len(data.columns):\n",
      "for i in range(1,20):\n",
      "    sw.relate(data, 0, i)"
     ],
     "language": "python",
     "metadata": {},
     "outputs": []
    },
    {
     "cell_type": "code",
     "collapsed": false,
     "input": [
      "X[0] = n.ones(m)\n",
      "X[1] = data.ix[:,0]\n",
      "X"
     ],
     "language": "python",
     "metadata": {},
     "outputs": []
    },
    {
     "cell_type": "code",
     "collapsed": false,
     "input": [
      "plot(X[1], '.')"
     ],
     "language": "python",
     "metadata": {},
     "outputs": []
    },
    {
     "cell_type": "code",
     "collapsed": false,
     "input": [
      "#list(theta)"
     ],
     "language": "python",
     "metadata": {},
     "outputs": []
    },
    {
     "cell_type": "code",
     "collapsed": false,
     "input": [
      "# plot the line given by univariate linear regression\n",
      "#p.DataFrame(theta[0] + theta[1] * n.array(range(0, int(n.max(X.ix[:,1]))))).plot()\n",
      "scatter(X.ix[:,1], y, marker='x', c='r'); show();"
     ],
     "language": "python",
     "metadata": {},
     "outputs": []
    },
    {
     "cell_type": "code",
     "collapsed": false,
     "input": [
      "#print n.dot(X,theta)\n",
      "#plot(X.ix[:,1],y,'.')\n",
      "#plot(,y,'-')\n",
      "print n.dot(n.array([1, 3.5]), theta) * 1e4\n",
      "print n.dot(n.array([1, 7]), theta) * 1e4"
     ],
     "language": "python",
     "metadata": {},
     "outputs": []
    },
    {
     "cell_type": "code",
     "collapsed": false,
     "input": [
      "theta0_vals = linspace(-10, 10, 100)\n",
      "theta1_vals = linspace(-1, 4, 100)\n",
      "thetas = []\n",
      "lowCC = 1e9\n",
      "thetas = []\n",
      "J_vals = n.zeros(len(theta0_vals)*len(theta1_vals)).reshape(len(theta0_vals),len(theta1_vals))\n",
      "for i in range(0,len(theta0_vals)):\n",
      "    for j in range(0,len(theta1_vals)):\n",
      "        t = n.array([theta0_vals[i], theta1_vals[j]])\n",
      "        #print theta0_vals[i]\n",
      "        #print theta1_vals[j]\n",
      "        #print t\n",
      "        cc = ml.computeCost(X, y, t)\n",
      "        J_vals[i][j] = cc\n",
      "        if cc < lowCC:\n",
      "            lowCC = cc\n",
      "            lowT = t\n",
      "            thetas.append(list(t))\n",
      "        #print t\n",
      "print lowCC\n",
      "print lowT\n",
      "print thetas\n",
      "#print cc\n",
      "#print J_vals\n",
      "contour(theta0_vals, theta1_vals, J_vals, logspace(-2, 3, 20))\n",
      "#print thetas\n",
      "#plot(t[0], t[1], 'xr')\n",
      "plot(lowT[0], lowT[1], 'xr')\n",
      "#plot(J_vals)\n"
     ],
     "language": "python",
     "metadata": {},
     "outputs": []
    },
    {
     "cell_type": "code",
     "collapsed": false,
     "input": [
      "th = n.array(thetas)\n",
      "#print th\n",
      "contour(theta0_vals, theta1_vals, J_vals, logspace(-2, 3, 80))\n",
      "plot(th[:,0], th[:,1])"
     ],
     "language": "python",
     "metadata": {},
     "outputs": []
    },
    {
     "cell_type": "code",
     "collapsed": false,
     "input": [
      "lgs = logspace(-2, 3, 20)\n",
      "contour(theta0_vals, theta1_vals, J_vals, lgs)\n",
      "#plot(J_vals) \n",
      "#plot(theta0_vals, theta1_vals, '.')\n",
      "#print J_vals"
     ],
     "language": "python",
     "metadata": {},
     "outputs": []
    },
    {
     "cell_type": "code",
     "collapsed": false,
     "input": [
      "#lgs = logspace(-2, 3, 20)\n",
      "lgs = logspace(0, 1, 20)\n",
      "#print lgs\n",
      "#plot(lgs.transpose())\n",
      "#c = n.array([1,2.2,3.1,4.8,5.1,6.1]).reshape(3,2)\n",
      "y2 = 10\n",
      "x = 2\n",
      "#c = n.random.randn(y2*x).reshape(y2,x)\n",
      "#print c\n",
      "#contour(c)\n",
      "#plot(c,'.')\n",
      "#plot(c)\n",
      "#print J_vals.transpose()\n",
      "#print plot(J_vals)\n",
      "#plot(t[0], t[1], 'xr')\n",
      "cc = ml.computeCost(X, y, t)\n",
      "cc"
     ],
     "language": "python",
     "metadata": {},
     "outputs": []
    },
    {
     "cell_type": "code",
     "collapsed": false,
     "input": [
      "len(J_vals)\n",
      "#print J_vals\n",
      "plot(J_vals,'.'); show();"
     ],
     "language": "python",
     "metadata": {},
     "outputs": []
    }
   ],
   "metadata": {}
  }
 ]
}