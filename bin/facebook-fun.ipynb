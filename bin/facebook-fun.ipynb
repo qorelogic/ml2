{
 "metadata": {
  "name": ""
 },
 "nbformat": 3,
 "nbformat_minor": 0,
 "worksheets": [
  {
   "cells": [
    {
     "cell_type": "code",
     "collapsed": false,
     "input": [
      "#how did you hear about us\n",
      "\"\"\"\n",
      "<select id=\"resumator-questionnaire-q22541\" \n",
      "  name=\"resumator-questionnaire[22541]\" \n",
      "  class=\"form-control resumator-select-field\">\n",
      "      <option value=\"resumator_no_selection\">-- No answer --</option>\n",
      "      <option value=\"WeWorkRemotely\">WeWorkRemotely</option>\n",
      "      <option value=\"Nomads\">Nomads</option>\n",
      "      <option value=\"Craigslist\">Craigslist</option>\n",
      "      <option value=\"Facebook\">Facebook</option>\n",
      "      <option value=\"Indeed\">Indeed</option>\n",
      "      <option value=\"LinkedIn\">LinkedIn</option>\n",
      "      <option value=\"Personal Referral/Friend\">Personal Referral/Friend</option>\n",
      "      <option value=\"GitHub\">GitHub</option>\n",
      "      <option value=\"SimplyHired\">SimplyHired</option>\n",
      "      <option value=\"Stackoverflow\">Stackoverflow</option>\n",
      "      <option value=\"StartUpers\">StartUpers</option>\n",
      "      <option value=\"StartUply\">StartUply</option>\n",
      "      <option value=\"Website\">Website</option>\n",
      "      <option value=\"Other\">Other</option>\n",
      "</select>\n",
      "\"\"\"\n",
      "# gephi\n",
      "# https://class.coursera.org/sna-004/lecture/69"
     ],
     "language": "python",
     "metadata": {},
     "outputs": []
    },
    {
     "cell_type": "code",
     "collapsed": false,
     "input": [
      "In October last year, Google Unloaded Half a Billion Dollars into this company..\n",
      "#magicleap #lightfields #nelf\n",
      "http://nymag.com/daily/intelligencer/2014/10/google-just-invested-millions-in-an-eccentric.html\n",
      "    \n",
      "Google Invests Heavily in Magic Leap's Effort to Blend Illusion and Reality\n",
      "Google is leading a $542 million investment in a little-known firm called Magic Leap, in an investment that is said to value the start-up at about...\n"
     ],
     "language": "python",
     "metadata": {},
     "outputs": []
    },
    {
     "cell_type": "code",
     "collapsed": false,
     "input": [],
     "language": "python",
     "metadata": {},
     "outputs": []
    }
   ],
   "metadata": {}
  }
 ]
}